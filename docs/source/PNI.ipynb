{
 "cells": [
  {
   "cell_type": "markdown",
   "id": "9f26ad56",
   "metadata": {},
   "source": [
    "# Downloading data from the National Immunization program (PNI)"
   ]
  },
  {
   "cell_type": "code",
   "execution_count": 4,
   "id": "4b2c406a",
   "metadata": {},
   "outputs": [],
   "source": [
    "from pysus.online_data.PNI import download, get_available_years, available_docs, fetch_document"
   ]
  },
  {
   "cell_type": "markdown",
   "id": "9cdd4a09",
   "metadata": {},
   "source": [
    "We can start by checking the data available for a given state, for example, Rio de Janeiro:"
   ]
  },
  {
   "cell_type": "code",
   "execution_count": 2,
   "id": "e8c7ff78",
   "metadata": {},
   "outputs": [
    {
     "data": {
      "text/plain": [
       "['CPNIRJ00.DBF',\n",
       " 'CPNIRJ01.DBF',\n",
       " 'CPNIRJ02.DBF',\n",
       " 'CPNIRJ03.DBF',\n",
       " 'CPNIRJ04.DBF',\n",
       " 'CPNIRJ05.DBF',\n",
       " 'CPNIRJ06.DBF',\n",
       " 'CPNIRJ07.DBF',\n",
       " 'CPNIRJ08.DBF',\n",
       " 'CPNIRJ09.DBF',\n",
       " 'CPNIRJ10.DBF',\n",
       " 'CPNIRJ11.DBF',\n",
       " 'CPNIRJ12.DBF',\n",
       " 'CPNIRJ13.DBF',\n",
       " 'CPNIRJ14.dbf',\n",
       " 'CPNIRJ15.dbf',\n",
       " 'CPNIRJ16.dbf',\n",
       " 'CPNIRJ17.dbf',\n",
       " 'CPNIRJ18.dbf',\n",
       " 'CPNIRJ19.dbf',\n",
       " 'CPNIRJ94.DBF',\n",
       " 'CPNIRJ95.DBF',\n",
       " 'CPNIRJ96.DBF',\n",
       " 'CPNIRJ97.DBF',\n",
       " 'CPNIRJ98.DBF',\n",
       " 'CPNIRJ99.DBF']"
      ]
     },
     "execution_count": 2,
     "metadata": {},
     "output_type": "execute_result"
    }
   ],
   "source": [
    "get_available_years('RJ')"
   ]
  },
  {
   "cell_type": "markdown",
   "id": "ee921882",
   "metadata": {},
   "source": [
    "Then we can fetch data from a particular year:"
   ]
  },
  {
   "cell_type": "code",
   "execution_count": 3,
   "id": "e92b58a0",
   "metadata": {},
   "outputs": [
    {
     "data": {
      "text/html": [
       "<div>\n",
       "<style scoped>\n",
       "    .dataframe tbody tr th:only-of-type {\n",
       "        vertical-align: middle;\n",
       "    }\n",
       "\n",
       "    .dataframe tbody tr th {\n",
       "        vertical-align: top;\n",
       "    }\n",
       "\n",
       "    .dataframe thead th {\n",
       "        text-align: right;\n",
       "    }\n",
       "</style>\n",
       "<table border=\"1\" class=\"dataframe\">\n",
       "  <thead>\n",
       "    <tr style=\"text-align: right;\">\n",
       "      <th></th>\n",
       "      <th>ANO</th>\n",
       "      <th>UF</th>\n",
       "      <th>MUNIC</th>\n",
       "      <th>IMUNO</th>\n",
       "      <th>QT_DOSE</th>\n",
       "      <th>POP</th>\n",
       "      <th>COBERT</th>\n",
       "    </tr>\n",
       "  </thead>\n",
       "  <tbody>\n",
       "    <tr>\n",
       "      <th>0</th>\n",
       "      <td>2019</td>\n",
       "      <td>33</td>\n",
       "      <td>330010</td>\n",
       "      <td>000</td>\n",
       "      <td>372</td>\n",
       "      <td>2628</td>\n",
       "      <td>14,16</td>\n",
       "    </tr>\n",
       "    <tr>\n",
       "      <th>1</th>\n",
       "      <td>2019</td>\n",
       "      <td>33</td>\n",
       "      <td>330010</td>\n",
       "      <td>003</td>\n",
       "      <td>341</td>\n",
       "      <td>2628</td>\n",
       "      <td>12,98</td>\n",
       "    </tr>\n",
       "    <tr>\n",
       "      <th>2</th>\n",
       "      <td>2019</td>\n",
       "      <td>33</td>\n",
       "      <td>330010</td>\n",
       "      <td>006</td>\n",
       "      <td>144</td>\n",
       "      <td>2628</td>\n",
       "      <td>5,48</td>\n",
       "    </tr>\n",
       "    <tr>\n",
       "      <th>3</th>\n",
       "      <td>2019</td>\n",
       "      <td>33</td>\n",
       "      <td>330010</td>\n",
       "      <td>010</td>\n",
       "      <td>385</td>\n",
       "      <td>2628</td>\n",
       "      <td>14,65</td>\n",
       "    </tr>\n",
       "    <tr>\n",
       "      <th>4</th>\n",
       "      <td>2019</td>\n",
       "      <td>33</td>\n",
       "      <td>330010</td>\n",
       "      <td>012</td>\n",
       "      <td>522</td>\n",
       "      <td>2628</td>\n",
       "      <td>19,86</td>\n",
       "    </tr>\n",
       "    <tr>\n",
       "      <th>...</th>\n",
       "      <td>...</td>\n",
       "      <td>...</td>\n",
       "      <td>...</td>\n",
       "      <td>...</td>\n",
       "      <td>...</td>\n",
       "      <td>...</td>\n",
       "      <td>...</td>\n",
       "    </tr>\n",
       "    <tr>\n",
       "      <th>2185</th>\n",
       "      <td>2019</td>\n",
       "      <td>33</td>\n",
       "      <td>330630</td>\n",
       "      <td>098</td>\n",
       "      <td>578</td>\n",
       "      <td>3363</td>\n",
       "      <td>17,19</td>\n",
       "    </tr>\n",
       "    <tr>\n",
       "      <th>2186</th>\n",
       "      <td>2019</td>\n",
       "      <td>33</td>\n",
       "      <td>330630</td>\n",
       "      <td>099</td>\n",
       "      <td>402</td>\n",
       "      <td>3363</td>\n",
       "      <td>11,95</td>\n",
       "    </tr>\n",
       "    <tr>\n",
       "      <th>2187</th>\n",
       "      <td>2019</td>\n",
       "      <td>33</td>\n",
       "      <td>330630</td>\n",
       "      <td>102</td>\n",
       "      <td>75</td>\n",
       "      <td>6051</td>\n",
       "      <td>1,24</td>\n",
       "    </tr>\n",
       "    <tr>\n",
       "      <th>2188</th>\n",
       "      <td>2019</td>\n",
       "      <td>33</td>\n",
       "      <td>330630</td>\n",
       "      <td>103</td>\n",
       "      <td>1597</td>\n",
       "      <td></td>\n",
       "      <td>0</td>\n",
       "    </tr>\n",
       "    <tr>\n",
       "      <th>2189</th>\n",
       "      <td>2019</td>\n",
       "      <td>33</td>\n",
       "      <td>330630</td>\n",
       "      <td></td>\n",
       "      <td>3</td>\n",
       "      <td>3363</td>\n",
       "      <td>,09</td>\n",
       "    </tr>\n",
       "  </tbody>\n",
       "</table>\n",
       "<p>2190 rows × 7 columns</p>\n",
       "</div>"
      ],
      "text/plain": [
       "       ANO  UF   MUNIC IMUNO QT_DOSE   POP COBERT\n",
       "0     2019  33  330010   000     372  2628  14,16\n",
       "1     2019  33  330010   003     341  2628  12,98\n",
       "2     2019  33  330010   006     144  2628   5,48\n",
       "3     2019  33  330010   010     385  2628  14,65\n",
       "4     2019  33  330010   012     522  2628  19,86\n",
       "...    ...  ..     ...   ...     ...   ...    ...\n",
       "2185  2019  33  330630   098     578  3363  17,19\n",
       "2186  2019  33  330630   099     402  3363  11,95\n",
       "2187  2019  33  330630   102      75  6051   1,24\n",
       "2188  2019  33  330630   103    1597            0\n",
       "2189  2019  33  330630             3  3363    ,09\n",
       "\n",
       "[2190 rows x 7 columns]"
      ]
     },
     "execution_count": 3,
     "metadata": {},
     "output_type": "execute_result"
    }
   ],
   "source": [
    "download('RJ', 2019)"
   ]
  },
  {
   "cell_type": "markdown",
   "id": "6858d257",
   "metadata": {},
   "source": [
    "We can also check what documentation is available for this data"
   ]
  },
  {
   "cell_type": "code",
   "execution_count": 5,
   "id": "2a9a921b",
   "metadata": {},
   "outputs": [
    {
     "data": {
      "text/plain": [
       "['Imun_cobertura_desde_1994.pdf',\n",
       " 'Imun_doses_aplic_desde_1994.pdf',\n",
       " 'notatecnica.pdf',\n",
       " 'notatecnicaCobertura.pdf',\n",
       " 'notatecnicaTx.pdf',\n",
       " 'Nota_Tecnica_Imunizacoes_Cobertura_desde_1994.pdf',\n",
       " 'Nota_Tecnica_Imunizacoes_Doses_aplicadas_desde_1994.pdf',\n",
       " 'Regrascobertura2013.pdf']"
      ]
     },
     "execution_count": 5,
     "metadata": {},
     "output_type": "execute_result"
    }
   ],
   "source": [
    "available_docs()"
   ]
  },
  {
   "cell_type": "markdown",
   "id": "024d6046",
   "metadata": {},
   "source": [
    "Any of the above files can be downloaded to the current directory using the `fetch_document` function"
   ]
  },
  {
   "cell_type": "code",
   "execution_count": 6,
   "id": "f9fb99e2",
   "metadata": {},
   "outputs": [
    {
     "name": "stdout",
     "output_type": "stream",
     "text": [
      "Downloaded Imun_cobertura_desde_1994.pdf.\n"
     ]
    }
   ],
   "source": [
    "fetch_document('Imun_cobertura_desde_1994.pdf')"
   ]
  },
  {
   "cell_type": "code",
   "execution_count": null,
   "id": "f24cc5af",
   "metadata": {},
   "outputs": [],
   "source": []
  }
 ],
 "metadata": {
  "kernelspec": {
   "display_name": "Python 3",
   "language": "python",
   "name": "python3"
  },
  "language_info": {
   "codemirror_mode": {
    "name": "ipython",
    "version": 3
   },
   "file_extension": ".py",
   "mimetype": "text/x-python",
   "name": "python",
   "nbconvert_exporter": "python",
   "pygments_lexer": "ipython3",
   "version": "3.8.5"
  }
 },
 "nbformat": 4,
 "nbformat_minor": 5
}
