{
 "cells": [
  {
   "cell_type": "markdown",
   "metadata": {},
   "source": [
    "# Análise exploratória de casos de dengue notificado pelo SUS\n",
    "\n",
    "Neste tutorial vamos explorar como começar a entender a descrição de casos do sis tema de notificação de agravos do SUS, o SINAN. Estes dados são bastante ricos e a [documentação](https://info.dengue.mat.br/dumps/dengue_geo_2015-16.csv) sobre o significado de cada uma das variáveis pode ser encontrada [aqui](https://info.dengue.mat.br/dumps/dengue_geo_2015-16.csv)."
   ]
  },
  {
   "cell_type": "code",
   "execution_count": 6,
   "metadata": {
    "collapsed": false
   },
   "outputs": [],
   "source": [
    "import pandas as pd\n",
    "import folium"
   ]
  },
  {
   "cell_type": "markdown",
   "metadata": {},
   "source": [
    "Primeiro vamos começar pelo carregamento dos dados a partir do site do InfoDengue. Como o dado está no formato CSV, nós vamos utilizar a biblioteca pandas para carregar os dados diretamente da web, em um Dataframe."
   ]
  },
  {
   "cell_type": "code",
   "execution_count": 7,
   "metadata": {
    "collapsed": false
   },
   "outputs": [
    {
     "name": "stderr",
     "output_type": "stream",
     "text": [
      "/usr/local/lib/python3.5/dist-packages/IPython/core/interactiveshell.py:2717: DtypeWarning: Columns (61,71,108,124) have mixed types. Specify dtype option on import or set low_memory=False.\n",
      "  interactivity=interactivity, compiler=compiler, result=result)\n"
     ]
    }
   ],
   "source": [
    "casos = pd.read_csv('https://info.dengue.mat.br/dumps/dengue_geo_2015-16.csv', index_col=0)"
   ]
  },
  {
   "cell_type": "code",
   "execution_count": 8,
   "metadata": {
    "collapsed": false
   },
   "outputs": [
    {
     "data": {
      "text/html": [
       "<div>\n",
       "<table border=\"1\" class=\"dataframe\">\n",
       "  <thead>\n",
       "    <tr style=\"text-align: right;\">\n",
       "      <th></th>\n",
       "      <th>NU_NOTIFIC</th>\n",
       "      <th>TP_NOT</th>\n",
       "      <th>ID_AGRAVO</th>\n",
       "      <th>DT_NOTIFIC</th>\n",
       "      <th>SEM_NOT</th>\n",
       "      <th>NU_ANO</th>\n",
       "      <th>SG_UF_NOT</th>\n",
       "      <th>ID_MUNICIP</th>\n",
       "      <th>ID_REGIONA</th>\n",
       "      <th>ID_UNIDADE</th>\n",
       "      <th>...</th>\n",
       "      <th>DT_TRANSRS</th>\n",
       "      <th>DT_TRANSSE</th>\n",
       "      <th>NU_LOTE_V</th>\n",
       "      <th>NU_LOTE_H</th>\n",
       "      <th>CS_FLXRET</th>\n",
       "      <th>FLXRECEBI</th>\n",
       "      <th>IDENT_MICR</th>\n",
       "      <th>MIGRADO_W</th>\n",
       "      <th>latitude</th>\n",
       "      <th>longitude</th>\n",
       "    </tr>\n",
       "  </thead>\n",
       "  <tbody>\n",
       "    <tr>\n",
       "      <th>0</th>\n",
       "      <td>4219621</td>\n",
       "      <td>2</td>\n",
       "      <td>A90</td>\n",
       "      <td>2015-09-17</td>\n",
       "      <td>37</td>\n",
       "      <td>2015</td>\n",
       "      <td>33</td>\n",
       "      <td>330455</td>\n",
       "      <td>NaN</td>\n",
       "      <td>2296608.0</td>\n",
       "      <td>...</td>\n",
       "      <td>NaN</td>\n",
       "      <td>NaN</td>\n",
       "      <td>NaN</td>\n",
       "      <td>NaN</td>\n",
       "      <td>1</td>\n",
       "      <td>NaN</td>\n",
       "      <td>4.0</td>\n",
       "      <td>NaN</td>\n",
       "      <td>-22.925318</td>\n",
       "      <td>-43.388889</td>\n",
       "    </tr>\n",
       "    <tr>\n",
       "      <th>1</th>\n",
       "      <td>4578897</td>\n",
       "      <td>2</td>\n",
       "      <td>A90</td>\n",
       "      <td>2015-05-15</td>\n",
       "      <td>19</td>\n",
       "      <td>2015</td>\n",
       "      <td>33</td>\n",
       "      <td>330455</td>\n",
       "      <td>NaN</td>\n",
       "      <td>7722494.0</td>\n",
       "      <td>...</td>\n",
       "      <td>NaN</td>\n",
       "      <td>NaN</td>\n",
       "      <td>NaN</td>\n",
       "      <td>NaN</td>\n",
       "      <td>0</td>\n",
       "      <td>NaN</td>\n",
       "      <td>4.0</td>\n",
       "      <td>NaN</td>\n",
       "      <td>-22.872878</td>\n",
       "      <td>-43.425393</td>\n",
       "    </tr>\n",
       "    <tr>\n",
       "      <th>2</th>\n",
       "      <td>2309233</td>\n",
       "      <td>2</td>\n",
       "      <td>A90</td>\n",
       "      <td>2015-08-14</td>\n",
       "      <td>32</td>\n",
       "      <td>2015</td>\n",
       "      <td>33</td>\n",
       "      <td>330455</td>\n",
       "      <td>NaN</td>\n",
       "      <td>2291266.0</td>\n",
       "      <td>...</td>\n",
       "      <td>NaN</td>\n",
       "      <td>NaN</td>\n",
       "      <td>NaN</td>\n",
       "      <td>NaN</td>\n",
       "      <td>1</td>\n",
       "      <td>NaN</td>\n",
       "      <td>4.0</td>\n",
       "      <td>NaN</td>\n",
       "      <td>-22.826738</td>\n",
       "      <td>-43.329702</td>\n",
       "    </tr>\n",
       "    <tr>\n",
       "      <th>3</th>\n",
       "      <td>7605238</td>\n",
       "      <td>2</td>\n",
       "      <td>A90</td>\n",
       "      <td>2015-08-18</td>\n",
       "      <td>33</td>\n",
       "      <td>2015</td>\n",
       "      <td>33</td>\n",
       "      <td>330455</td>\n",
       "      <td>NaN</td>\n",
       "      <td>3134822.0</td>\n",
       "      <td>...</td>\n",
       "      <td>NaN</td>\n",
       "      <td>NaN</td>\n",
       "      <td>NaN</td>\n",
       "      <td>NaN</td>\n",
       "      <td>0</td>\n",
       "      <td>NaN</td>\n",
       "      <td>4.0</td>\n",
       "      <td>NaN</td>\n",
       "      <td>-22.879648</td>\n",
       "      <td>-43.339151</td>\n",
       "    </tr>\n",
       "    <tr>\n",
       "      <th>4</th>\n",
       "      <td>7605239</td>\n",
       "      <td>2</td>\n",
       "      <td>A90</td>\n",
       "      <td>2015-08-18</td>\n",
       "      <td>33</td>\n",
       "      <td>2015</td>\n",
       "      <td>33</td>\n",
       "      <td>330455</td>\n",
       "      <td>NaN</td>\n",
       "      <td>3134822.0</td>\n",
       "      <td>...</td>\n",
       "      <td>NaN</td>\n",
       "      <td>NaN</td>\n",
       "      <td>NaN</td>\n",
       "      <td>NaN</td>\n",
       "      <td>1</td>\n",
       "      <td>NaN</td>\n",
       "      <td>4.0</td>\n",
       "      <td>NaN</td>\n",
       "      <td>-22.814463</td>\n",
       "      <td>-43.380845</td>\n",
       "    </tr>\n",
       "  </tbody>\n",
       "</table>\n",
       "<p>5 rows × 156 columns</p>\n",
       "</div>"
      ],
      "text/plain": [
       "   NU_NOTIFIC  TP_NOT ID_AGRAVO  DT_NOTIFIC  SEM_NOT  NU_ANO  SG_UF_NOT  \\\n",
       "0     4219621       2       A90  2015-09-17       37    2015         33   \n",
       "1     4578897       2       A90  2015-05-15       19    2015         33   \n",
       "2     2309233       2       A90  2015-08-14       32    2015         33   \n",
       "3     7605238       2       A90  2015-08-18       33    2015         33   \n",
       "4     7605239       2       A90  2015-08-18       33    2015         33   \n",
       "\n",
       "   ID_MUNICIP  ID_REGIONA  ID_UNIDADE    ...     DT_TRANSRS  DT_TRANSSE  \\\n",
       "0      330455         NaN   2296608.0    ...            NaN         NaN   \n",
       "1      330455         NaN   7722494.0    ...            NaN         NaN   \n",
       "2      330455         NaN   2291266.0    ...            NaN         NaN   \n",
       "3      330455         NaN   3134822.0    ...            NaN         NaN   \n",
       "4      330455         NaN   3134822.0    ...            NaN         NaN   \n",
       "\n",
       "  NU_LOTE_V  NU_LOTE_H CS_FLXRET  FLXRECEBI  IDENT_MICR  MIGRADO_W   latitude  \\\n",
       "0       NaN        NaN         1        NaN         4.0        NaN -22.925318   \n",
       "1       NaN        NaN         0        NaN         4.0        NaN -22.872878   \n",
       "2       NaN        NaN         1        NaN         4.0        NaN -22.826738   \n",
       "3       NaN        NaN         0        NaN         4.0        NaN -22.879648   \n",
       "4       NaN        NaN         1        NaN         4.0        NaN -22.814463   \n",
       "\n",
       "   longitude  \n",
       "0 -43.388889  \n",
       "1 -43.425393  \n",
       "2 -43.329702  \n",
       "3 -43.339151  \n",
       "4 -43.380845  \n",
       "\n",
       "[5 rows x 156 columns]"
      ]
     },
     "execution_count": 8,
     "metadata": {},
     "output_type": "execute_result"
    }
   ],
   "source": [
    "casos.head()"
   ]
  },
  {
   "cell_type": "code",
   "execution_count": null,
   "metadata": {
    "collapsed": true
   },
   "outputs": [],
   "source": []
  }
 ],
 "metadata": {
  "kernelspec": {
   "display_name": "Python 3",
   "language": "python",
   "name": "python3"
  },
  "language_info": {
   "codemirror_mode": {
    "name": "ipython",
    "version": 3
   },
   "file_extension": ".py",
   "mimetype": "text/x-python",
   "name": "python",
   "nbconvert_exporter": "python",
   "pygments_lexer": "ipython3",
   "version": "3.5.2"
  }
 },
 "nbformat": 4,
 "nbformat_minor": 1
}
