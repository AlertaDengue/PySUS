{
 "cells": [
  {
   "cell_type": "markdown",
   "metadata": {
    "pycharm": {
     "name": "#%% md\n"
    }
   },
   "source": [
    "# Downloading data from the SINAN database"
   ]
  },
  {
   "cell_type": "code",
   "execution_count": 1,
   "metadata": {
    "ExecuteTime": {
     "end_time": "2020-11-14T08:42:07.128817Z",
     "start_time": "2020-11-14T08:42:06.879830Z"
    },
    "pycharm": {
     "name": "#%%\n"
    }
   },
   "outputs": [],
   "source": [
    "from pysus.online_data import SINAN\n",
    "import pandas as pd"
   ]
  },
  {
   "cell_type": "markdown",
   "metadata": {
    "pycharm": {
     "name": "#%% md\n"
    }
   },
   "source": [
    "SINAN is a database of reported cases of certain diseases that Brazilian law requires to be reported. Unfortunately the data available for free download, corresponds only to the investigated cases not the totality of the reported cases. Nevertheless it's an interesting dataset.\n",
    "\n",
    "To find out what are these diseases, we can use PySUS:"
   ]
  },
  {
   "cell_type": "code",
   "execution_count": 2,
   "metadata": {
    "ExecuteTime": {
     "end_time": "2020-11-14T08:42:10.012004Z",
     "start_time": "2020-11-14T08:42:09.993201Z"
    },
    "pycharm": {
     "name": "#%%\n"
    }
   },
   "outputs": [
    {
     "data": {
      "text/plain": "['Animais Peçonhentos',\n 'Botulismo',\n 'Cancer',\n 'Chagas',\n 'Chikungunya',\n 'Colera',\n 'Coqueluche',\n 'Contact Communicable Disease',\n 'Acidentes de Trabalho',\n 'Dengue',\n 'Difteria',\n 'Esquistossomose',\n 'Febre Amarela',\n 'Febre Maculosa',\n 'Febre Tifoide',\n 'Hanseniase',\n 'Hantavirose',\n 'Hepatites Virais',\n 'Intoxicação Exógena',\n 'Leishmaniose Visceral',\n 'Leptospirose',\n 'Leishmaniose Tegumentar',\n 'Malaria',\n 'Meningite',\n 'Peste',\n 'Poliomielite',\n 'Raiva Humana',\n 'Sífilis Adquirida',\n 'Sífilis Congênita',\n 'Sífilis em Gestante',\n 'Tétano Acidental',\n 'Tétano Neonatal',\n 'Tuberculose',\n 'Violência Domestica',\n 'Zika']"
     },
     "execution_count": 2,
     "metadata": {},
     "output_type": "execute_result"
    }
   ],
   "source": [
    "SINAN.list_diseases()"
   ]
  },
  {
   "cell_type": "markdown",
   "metadata": {
    "ExecuteTime": {
     "end_time": "2020-11-12T15:39:24.871171Z",
     "start_time": "2020-11-12T15:39:24.860483Z"
    },
    "pycharm": {
     "name": "#%% md\n"
    }
   },
   "source": [
    "These diseases are available in countrywide tables, so if we want to see the cases of `Chagas` disease in the state of Minas Gerais, first we can check which years are available:"
   ]
  },
  {
   "cell_type": "code",
   "execution_count": 3,
   "metadata": {
    "ExecuteTime": {
     "end_time": "2020-11-14T08:42:18.278575Z",
     "start_time": "2020-11-14T08:42:15.656027Z"
    },
    "pycharm": {
     "name": "#%%\n"
    }
   },
   "outputs": [
    {
     "name": "stderr",
     "output_type": "stream",
     "text": [
      "/home/fccoelho/Documentos/Software_projects/PySUS/pysus/online_data/SINAN.py:60: UserWarning: Now SINAN tables are no longer split by state. Returning countrywide years\n",
      "  warnings.warn(\"Now SINAN tables are no longer split by state. Returning countrywide years\")\n"
     ]
    },
    {
     "data": {
      "text/plain": "['CHAGBR00.dbc',\n 'CHAGBR01.dbc',\n 'CHAGBR02.dbc',\n 'CHAGBR03.dbc',\n 'CHAGBR04.dbc',\n 'CHAGBR05.dbc',\n 'CHAGBR06.dbc',\n 'CHAGBR07.dbc',\n 'CHAGBR08.dbc',\n 'CHAGBR09.dbc',\n 'CHAGBR10.dbc',\n 'CHAGBR11.dbc',\n 'CHAGBR12.dbc',\n 'CHAGBR13.dbc',\n 'CHAGBR14.dbc',\n 'CHAGBR15.dbc',\n 'CHAGBR16.dbc',\n 'CHAGBR17.dbc',\n 'CHAGBR18.dbc',\n 'CHAGBR19.dbc']"
     },
     "execution_count": 3,
     "metadata": {},
     "output_type": "execute_result"
    }
   ],
   "source": [
    "SINAN.get_available_years('chagas')"
   ]
  },
  {
   "cell_type": "markdown",
   "source": [
    "We can see, that we have data from 2000 until 2019. Now we can download it:"
   ],
   "metadata": {
    "collapsed": false,
    "pycharm": {
     "name": "#%% md\n"
    }
   }
  },
  {
   "cell_type": "code",
   "execution_count": 15,
   "metadata": {
    "ExecuteTime": {
     "end_time": "2020-11-14T08:44:00.613007Z",
     "start_time": "2020-11-14T08:44:00.583668Z"
    },
    "pycharm": {
     "name": "#%%\n"
    }
   },
   "outputs": [
    {
     "name": "stdout",
     "output_type": "stream",
     "text": [
      "<class 'pandas.core.frame.DataFrame'>\n",
      "RangeIndex: 19 entries, 0 to 18\n",
      "Data columns (total 99 columns):\n",
      " #   Column      Non-Null Count  Dtype  \n",
      "---  ------      --------------  -----  \n",
      " 0   TP_NOT      19 non-null     object \n",
      " 1   ID_AGRAVO   19 non-null     object \n",
      " 2   DT_NOTIFIC  19 non-null     object \n",
      " 3   SEM_NOT     19 non-null     object \n",
      " 4   NU_ANO      19 non-null     object \n",
      " 5   SG_UF_NOT   19 non-null     object \n",
      " 6   ID_MUNICIP  19 non-null     object \n",
      " 7   ID_REGIONA  19 non-null     object \n",
      " 8   ID_UNIDADE  19 non-null     object \n",
      " 9   DT_SIN_PRI  19 non-null     object \n",
      " 10  SEM_PRI     19 non-null     object \n",
      " 11  DT_NASC     19 non-null     object \n",
      " 12  NU_IDADE_N  19 non-null     int64  \n",
      " 13  CS_SEXO     19 non-null     object \n",
      " 14  CS_GESTANT  19 non-null     object \n",
      " 15  CS_RACA     19 non-null     object \n",
      " 16  CS_ESCOL_N  19 non-null     object \n",
      " 17  SG_UF       19 non-null     object \n",
      " 18  ID_MN_RESI  19 non-null     object \n",
      " 19  ID_RG_RESI  19 non-null     object \n",
      " 20  ID_PAIS     19 non-null     object \n",
      " 21  NDUPLIC_N   19 non-null     object \n",
      " 22  DT_INVEST   13 non-null     object \n",
      " 23  ID_OCUPA_N  19 non-null     object \n",
      " 24  ANT_UF_1    19 non-null     object \n",
      " 25  MUN_1       19 non-null     object \n",
      " 26  ANT_UF_2    19 non-null     object \n",
      " 27  MUN_2       19 non-null     object \n",
      " 28  ANT_UF_3    19 non-null     object \n",
      " 29  MUN_3       19 non-null     object \n",
      " 30  PRESENCA    19 non-null     object \n",
      " 31  PARASITO    0 non-null      object \n",
      " 32  HISTORIA    19 non-null     object \n",
      " 33  CONTROLE    19 non-null     object \n",
      " 34  MANIPULA    19 non-null     object \n",
      " 35  MAECHAGA    19 non-null     object \n",
      " 36  ORAL        19 non-null     object \n",
      " 37  ASSINTOMA   19 non-null     object \n",
      " 38  EDEMA       19 non-null     object \n",
      " 39  MENINGOE    19 non-null     object \n",
      " 40  POLIADENO   19 non-null     object \n",
      " 41  FEBRE       19 non-null     object \n",
      " 42  HEPATOME    19 non-null     object \n",
      " 43  SINAIS_ICC  19 non-null     object \n",
      " 44  ARRITMIAS   19 non-null     object \n",
      " 45  ASTENIA     19 non-null     object \n",
      " 46  ESPLENOM    19 non-null     object \n",
      " 47  CHAGOMA     19 non-null     object \n",
      " 48  OUTRO_SIN   19 non-null     object \n",
      " 49  OUTRO_ESP   19 non-null     object \n",
      " 50  DT_COL_DIR  4 non-null      object \n",
      " 51  EXAME       19 non-null     object \n",
      " 52  MICRO_HEMA  19 non-null     object \n",
      " 53  OUTRO       19 non-null     object \n",
      " 54  DT_COL_IND  1 non-null      object \n",
      " 55  XENODIAG    19 non-null     object \n",
      " 56  HEMOCULT    19 non-null     object \n",
      " 57  DT_COL_S1   7 non-null      object \n",
      " 58  DT_COL_S2   0 non-null      object \n",
      " 59  ELI_IGM_S1  19 non-null     object \n",
      " 60  ELI_IGG_S1  19 non-null     object \n",
      " 61  ELI_IGM_S2  19 non-null     object \n",
      " 62  ELI_IGG_S2  19 non-null     object \n",
      " 63  HEM_IGM_S1  19 non-null     object \n",
      " 64  HEM_IGG_S1  19 non-null     object \n",
      " 65  HEM_IGM_S2  19 non-null     object \n",
      " 66  HEM_IGG_S2  19 non-null     object \n",
      " 67  IMU_IGM_S1  19 non-null     object \n",
      " 68  TIT_IGM_S1  19 non-null     object \n",
      " 69  IMU_IGM_S2  19 non-null     object \n",
      " 70  TIT_IGM_S2  19 non-null     object \n",
      " 71  IMU_IGG_S1  19 non-null     object \n",
      " 72  TIT_IGG_S1  19 non-null     object \n",
      " 73  IMU_IGG_S2  19 non-null     object \n",
      " 74  TIT_IGG_S2  19 non-null     object \n",
      " 75  RESUL_HIS   0 non-null      object \n",
      " 76  RES_HIST    19 non-null     object \n",
      " 77  ESPECIFICO  19 non-null     object \n",
      " 78  SINTOMATIC  19 non-null     object \n",
      " 79  DROGA       19 non-null     object \n",
      " 80  TEMPO       1 non-null      float64\n",
      " 81  CON_TRIAT   19 non-null     object \n",
      " 82  BIOSSEG     19 non-null     object \n",
      " 83  FISCALIZA   19 non-null     object \n",
      " 84  MED_OUTRO   19 non-null     object \n",
      " 85  OUTRO_DES   19 non-null     object \n",
      " 86  CLASSI_FIN  19 non-null     object \n",
      " 87  CRITERIO    19 non-null     object \n",
      " 88  EVOLUCAO    19 non-null     object \n",
      " 89  DT_OBITO    0 non-null      object \n",
      " 90  CON_PROVAV  19 non-null     object \n",
      " 91  CON_OUTRA   19 non-null     object \n",
      " 92  CON_LOCAL   19 non-null     object \n",
      " 93  TPAUTOCTO   19 non-null     object \n",
      " 94  COUFINF     19 non-null     object \n",
      " 95  COPAISINF   19 non-null     object \n",
      " 96  COMUNINF    19 non-null     object \n",
      " 97  DOENCA_TRA  19 non-null     object \n",
      " 98  DT_ENCERRA  19 non-null     object \n",
      "dtypes: float64(1), int64(1), object(97)\n",
      "memory usage: 14.8+ KB\n"
     ]
    }
   ],
   "source": [
    "df.info()"
   ]
  },
  {
   "cell_type": "markdown",
   "metadata": {
    "pycharm": {
     "name": "#%% md\n"
    }
   },
   "source": [
    "## Decoding the age in SINAN tables\n",
    "In SINAN the age comes encoded. PySUS can decode the age column `NU_IDADE_N` into any of these units: years, months, days, or hours."
   ]
  },
  {
   "cell_type": "code",
   "execution_count": 16,
   "metadata": {
    "pycharm": {
     "name": "#%%\n"
    }
   },
   "outputs": [
    {
     "name": "stdout",
     "output_type": "stream",
     "text": [
      "\u001B[0;31mSignature:\u001B[0m       \u001B[0mdecodifica_idade_SINAN\u001B[0m\u001B[0;34m(\u001B[0m\u001B[0;34m*\u001B[0m\u001B[0margs\u001B[0m\u001B[0;34m,\u001B[0m \u001B[0;34m**\u001B[0m\u001B[0mkwargs\u001B[0m\u001B[0;34m)\u001B[0m\u001B[0;34m\u001B[0m\u001B[0;34m\u001B[0m\u001B[0m\n",
      "\u001B[0;31mType:\u001B[0m            vectorize\n",
      "\u001B[0;31mString form:\u001B[0m     <numpy.vectorize object at 0x7fb554cc31f0>\n",
      "\u001B[0;31mFile:\u001B[0m            /usr/local/lib/python3.8/dist-packages/numpy/__init__.py\n",
      "\u001B[0;31mDocstring:\u001B[0m      \n",
      "Em tabelas do SINAN frequentemente a idade é representada como um inteiro que precisa ser parseado\n",
      "para retornar a idade em uma unidade cronológica padrão.\n",
      ":param unidade: unidade da idade: 'Y': anos, 'M' meses, 'D': dias, 'H': horas\n",
      ":param idade: inteiro ou sequencia de inteiros codificados.\n",
      ":return:\n",
      "\u001B[0;31mClass docstring:\u001B[0m\n",
      "vectorize(pyfunc, otypes=None, doc=None, excluded=None, cache=False,\n",
      "          signature=None)\n",
      "\n",
      "Generalized function class.\n",
      "\n",
      "Define a vectorized function which takes a nested sequence of objects or\n",
      "numpy arrays as inputs and returns a single numpy array or a tuple of numpy\n",
      "arrays. The vectorized function evaluates `pyfunc` over successive tuples\n",
      "of the input arrays like the python map function, except it uses the\n",
      "broadcasting rules of numpy.\n",
      "\n",
      "The data type of the output of `vectorized` is determined by calling\n",
      "the function with the first element of the input.  This can be avoided\n",
      "by specifying the `otypes` argument.\n",
      "\n",
      "Parameters\n",
      "----------\n",
      "pyfunc : callable\n",
      "    A python function or method.\n",
      "otypes : str or list of dtypes, optional\n",
      "    The output data type. It must be specified as either a string of\n",
      "    typecode characters or a list of data type specifiers. There should\n",
      "    be one data type specifier for each output.\n",
      "doc : str, optional\n",
      "    The docstring for the function. If None, the docstring will be the\n",
      "    ``pyfunc.__doc__``.\n",
      "excluded : set, optional\n",
      "    Set of strings or integers representing the positional or keyword\n",
      "    arguments for which the function will not be vectorized.  These will be\n",
      "    passed directly to `pyfunc` unmodified.\n",
      "\n",
      "    .. versionadded:: 1.7.0\n",
      "\n",
      "cache : bool, optional\n",
      "    If `True`, then cache the first function call that determines the number\n",
      "    of outputs if `otypes` is not provided.\n",
      "\n",
      "    .. versionadded:: 1.7.0\n",
      "\n",
      "signature : string, optional\n",
      "    Generalized universal function signature, e.g., ``(m,n),(n)->(m)`` for\n",
      "    vectorized matrix-vector multiplication. If provided, ``pyfunc`` will\n",
      "    be called with (and expected to return) arrays with shapes given by the\n",
      "    size of corresponding core dimensions. By default, ``pyfunc`` is\n",
      "    assumed to take scalars as input and output.\n",
      "\n",
      "    .. versionadded:: 1.12.0\n",
      "\n",
      "Returns\n",
      "-------\n",
      "vectorized : callable\n",
      "    Vectorized function.\n",
      "\n",
      "See Also\n",
      "--------\n",
      "frompyfunc : Takes an arbitrary Python function and returns a ufunc\n",
      "\n",
      "Notes\n",
      "-----\n",
      "The `vectorize` function is provided primarily for convenience, not for\n",
      "performance. The implementation is essentially a for loop.\n",
      "\n",
      "If `otypes` is not specified, then a call to the function with the\n",
      "first argument will be used to determine the number of outputs.  The\n",
      "results of this call will be cached if `cache` is `True` to prevent\n",
      "calling the function twice.  However, to implement the cache, the\n",
      "original function must be wrapped which will slow down subsequent\n",
      "calls, so only do this if your function is expensive.\n",
      "\n",
      "The new keyword argument interface and `excluded` argument support\n",
      "further degrades performance.\n",
      "\n",
      "References\n",
      "----------\n",
      ".. [1] :doc:`/reference/c-api/generalized-ufuncs`\n",
      "\n",
      "Examples\n",
      "--------\n",
      ">>> def myfunc(a, b):\n",
      "...     \"Return a-b if a>b, otherwise return a+b\"\n",
      "...     if a > b:\n",
      "...         return a - b\n",
      "...     else:\n",
      "...         return a + b\n",
      "\n",
      ">>> vfunc = np.vectorize(myfunc)\n",
      ">>> vfunc([1, 2, 3, 4], 2)\n",
      "array([3, 4, 1, 2])\n",
      "\n",
      "The docstring is taken from the input function to `vectorize` unless it\n",
      "is specified:\n",
      "\n",
      ">>> vfunc.__doc__\n",
      "'Return a-b if a>b, otherwise return a+b'\n",
      ">>> vfunc = np.vectorize(myfunc, doc='Vectorized `myfunc`')\n",
      ">>> vfunc.__doc__\n",
      "'Vectorized `myfunc`'\n",
      "\n",
      "The output type is determined by evaluating the first element of the input,\n",
      "unless it is specified:\n",
      "\n",
      ">>> out = vfunc([1, 2, 3, 4], 2)\n",
      ">>> type(out[0])\n",
      "<class 'numpy.int64'>\n",
      ">>> vfunc = np.vectorize(myfunc, otypes=[float])\n",
      ">>> out = vfunc([1, 2, 3, 4], 2)\n",
      ">>> type(out[0])\n",
      "<class 'numpy.float64'>\n",
      "\n",
      "The `excluded` argument can be used to prevent vectorizing over certain\n",
      "arguments.  This can be useful for array-like arguments of a fixed length\n",
      "such as the coefficients for a polynomial as in `polyval`:\n",
      "\n",
      ">>> def mypolyval(p, x):\n",
      "...     _p = list(p)\n",
      "...     res = _p.pop(0)\n",
      "...     while _p:\n",
      "...         res = res*x + _p.pop(0)\n",
      "...     return res\n",
      ">>> vpolyval = np.vectorize(mypolyval, excluded=['p'])\n",
      ">>> vpolyval(p=[1, 2, 3], x=[0, 1])\n",
      "array([3, 6])\n",
      "\n",
      "Positional arguments may also be excluded by specifying their position:\n",
      "\n",
      ">>> vpolyval.excluded.add(0)\n",
      ">>> vpolyval([1, 2, 3], x=[0, 1])\n",
      "array([3, 6])\n",
      "\n",
      "The `signature` argument allows for vectorizing functions that act on\n",
      "non-scalar arrays of fixed length. For example, you can use it for a\n",
      "vectorized calculation of Pearson correlation coefficient and its p-value:\n",
      "\n",
      ">>> import scipy.stats\n",
      ">>> pearsonr = np.vectorize(scipy.stats.pearsonr,\n",
      "...                 signature='(n),(n)->(),()')\n",
      ">>> pearsonr([[0, 1, 2, 3]], [[1, 2, 3, 4], [4, 3, 2, 1]])\n",
      "(array([ 1., -1.]), array([ 0.,  0.]))\n",
      "\n",
      "Or for a vectorized convolution:\n",
      "\n",
      ">>> convolve = np.vectorize(np.convolve, signature='(n),(m)->(k)')\n",
      ">>> convolve(np.eye(4), [1, 2, 1])\n",
      "array([[1., 2., 1., 0., 0., 0.],\n",
      "       [0., 1., 2., 1., 0., 0.],\n",
      "       [0., 0., 1., 2., 1., 0.],\n",
      "       [0., 0., 0., 1., 2., 1.]])\n",
      "\u001B[0;31mCall docstring:\u001B[0m \n",
      "Return arrays with the results of `pyfunc` broadcast (vectorized) over\n",
      "`args` and `kwargs` not in `excluded`.\n"
     ]
    }
   ],
   "source": [
    "from pysus.preprocessing.decoders import decodifica_idade_SINAN\n",
    "decodifica_idade_SINAN?"
   ]
  },
  {
   "cell_type": "markdown",
   "metadata": {
    "pycharm": {
     "name": "#%% md\n"
    }
   },
   "source": [
    "Let's convert the age to years and save it on a different column."
   ]
  },
  {
   "cell_type": "code",
   "execution_count": 17,
   "metadata": {
    "pycharm": {
     "name": "#%%\n"
    }
   },
   "outputs": [
    {
     "data": {
      "text/html": [
       "<div>\n",
       "<style scoped>\n",
       "    .dataframe tbody tr th:only-of-type {\n",
       "        vertical-align: middle;\n",
       "    }\n",
       "\n",
       "    .dataframe tbody tr th {\n",
       "        vertical-align: top;\n",
       "    }\n",
       "\n",
       "    .dataframe thead th {\n",
       "        text-align: right;\n",
       "    }\n",
       "</style>\n",
       "<table border=\"1\" class=\"dataframe\">\n",
       "  <thead>\n",
       "    <tr style=\"text-align: right;\">\n",
       "      <th></th>\n",
       "      <th>NU_IDADE_N</th>\n",
       "      <th>idade_anos</th>\n",
       "    </tr>\n",
       "  </thead>\n",
       "  <tbody>\n",
       "    <tr>\n",
       "      <th>0</th>\n",
       "      <td>4068</td>\n",
       "      <td>68.0</td>\n",
       "    </tr>\n",
       "    <tr>\n",
       "      <th>1</th>\n",
       "      <td>4049</td>\n",
       "      <td>49.0</td>\n",
       "    </tr>\n",
       "    <tr>\n",
       "      <th>2</th>\n",
       "      <td>4049</td>\n",
       "      <td>49.0</td>\n",
       "    </tr>\n",
       "    <tr>\n",
       "      <th>3</th>\n",
       "      <td>4045</td>\n",
       "      <td>45.0</td>\n",
       "    </tr>\n",
       "    <tr>\n",
       "      <th>4</th>\n",
       "      <td>4060</td>\n",
       "      <td>60.0</td>\n",
       "    </tr>\n",
       "    <tr>\n",
       "      <th>5</th>\n",
       "      <td>4035</td>\n",
       "      <td>35.0</td>\n",
       "    </tr>\n",
       "    <tr>\n",
       "      <th>6</th>\n",
       "      <td>4025</td>\n",
       "      <td>25.0</td>\n",
       "    </tr>\n",
       "    <tr>\n",
       "      <th>7</th>\n",
       "      <td>4071</td>\n",
       "      <td>71.0</td>\n",
       "    </tr>\n",
       "    <tr>\n",
       "      <th>8</th>\n",
       "      <td>4001</td>\n",
       "      <td>1.0</td>\n",
       "    </tr>\n",
       "    <tr>\n",
       "      <th>9</th>\n",
       "      <td>4055</td>\n",
       "      <td>55.0</td>\n",
       "    </tr>\n",
       "    <tr>\n",
       "      <th>10</th>\n",
       "      <td>4065</td>\n",
       "      <td>65.0</td>\n",
       "    </tr>\n",
       "    <tr>\n",
       "      <th>11</th>\n",
       "      <td>4084</td>\n",
       "      <td>84.0</td>\n",
       "    </tr>\n",
       "    <tr>\n",
       "      <th>12</th>\n",
       "      <td>4066</td>\n",
       "      <td>66.0</td>\n",
       "    </tr>\n",
       "    <tr>\n",
       "      <th>13</th>\n",
       "      <td>4047</td>\n",
       "      <td>47.0</td>\n",
       "    </tr>\n",
       "    <tr>\n",
       "      <th>14</th>\n",
       "      <td>4059</td>\n",
       "      <td>59.0</td>\n",
       "    </tr>\n",
       "    <tr>\n",
       "      <th>15</th>\n",
       "      <td>4074</td>\n",
       "      <td>74.0</td>\n",
       "    </tr>\n",
       "    <tr>\n",
       "      <th>16</th>\n",
       "      <td>4053</td>\n",
       "      <td>53.0</td>\n",
       "    </tr>\n",
       "    <tr>\n",
       "      <th>17</th>\n",
       "      <td>4045</td>\n",
       "      <td>45.0</td>\n",
       "    </tr>\n",
       "    <tr>\n",
       "      <th>18</th>\n",
       "      <td>4060</td>\n",
       "      <td>60.0</td>\n",
       "    </tr>\n",
       "  </tbody>\n",
       "</table>\n",
       "</div>"
      ],
      "text/plain": [
       "    NU_IDADE_N  idade_anos\n",
       "0         4068        68.0\n",
       "1         4049        49.0\n",
       "2         4049        49.0\n",
       "3         4045        45.0\n",
       "4         4060        60.0\n",
       "5         4035        35.0\n",
       "6         4025        25.0\n",
       "7         4071        71.0\n",
       "8         4001         1.0\n",
       "9         4055        55.0\n",
       "10        4065        65.0\n",
       "11        4084        84.0\n",
       "12        4066        66.0\n",
       "13        4047        47.0\n",
       "14        4059        59.0\n",
       "15        4074        74.0\n",
       "16        4053        53.0\n",
       "17        4045        45.0\n",
       "18        4060        60.0"
      ]
     },
     "execution_count": 17,
     "metadata": {},
     "output_type": "execute_result"
    }
   ],
   "source": [
    "df['idade_anos'] = decodifica_idade_SINAN(df.NU_IDADE_N, 'Y')\n",
    "df[['NU_IDADE_N', 'idade_anos']]"
   ]
  },
  {
   "cell_type": "markdown",
   "metadata": {
    "pycharm": {
     "name": "#%% md\n"
    }
   },
   "source": [
    "We can easily convert dates and numerical fields in the dataframe:"
   ]
  },
  {
   "cell_type": "code",
   "execution_count": 18,
   "metadata": {
    "pycharm": {
     "name": "#%%\n"
    }
   },
   "outputs": [
    {
     "name": "stdout",
     "output_type": "stream",
     "text": [
      "<class 'pandas.core.frame.DataFrame'>\n",
      "RangeIndex: 19 entries, 0 to 18\n",
      "Data columns (total 100 columns):\n",
      " #   Column      Non-Null Count  Dtype         \n",
      "---  ------      --------------  -----         \n",
      " 0   TP_NOT      19 non-null     object        \n",
      " 1   ID_AGRAVO   19 non-null     object        \n",
      " 2   DT_NOTIFIC  19 non-null     datetime64[ns]\n",
      " 3   SEM_NOT     19 non-null     object        \n",
      " 4   NU_ANO      19 non-null     object        \n",
      " 5   SG_UF_NOT   19 non-null     object        \n",
      " 6   ID_MUNICIP  19 non-null     int64         \n",
      " 7   ID_REGIONA  19 non-null     int64         \n",
      " 8   ID_UNIDADE  19 non-null     int64         \n",
      " 9   DT_SIN_PRI  19 non-null     datetime64[ns]\n",
      " 10  SEM_PRI     19 non-null     object        \n",
      " 11  DT_NASC     19 non-null     datetime64[ns]\n",
      " 12  NU_IDADE_N  19 non-null     int64         \n",
      " 13  CS_SEXO     19 non-null     object        \n",
      " 14  CS_GESTANT  19 non-null     object        \n",
      " 15  CS_RACA     19 non-null     object        \n",
      " 16  CS_ESCOL_N  19 non-null     object        \n",
      " 17  SG_UF       19 non-null     object        \n",
      " 18  ID_MN_RESI  19 non-null     int64         \n",
      " 19  ID_RG_RESI  19 non-null     int64         \n",
      " 20  ID_PAIS     19 non-null     int64         \n",
      " 21  NDUPLIC_N   19 non-null     object        \n",
      " 22  DT_INVEST   13 non-null     datetime64[ns]\n",
      " 23  ID_OCUPA_N  6 non-null      float64       \n",
      " 24  ANT_UF_1    19 non-null     object        \n",
      " 25  MUN_1       19 non-null     object        \n",
      " 26  ANT_UF_2    19 non-null     object        \n",
      " 27  MUN_2       19 non-null     object        \n",
      " 28  ANT_UF_3    19 non-null     object        \n",
      " 29  MUN_3       19 non-null     object        \n",
      " 30  PRESENCA    19 non-null     object        \n",
      " 31  PARASITO    0 non-null      object        \n",
      " 32  HISTORIA    19 non-null     object        \n",
      " 33  CONTROLE    19 non-null     object        \n",
      " 34  MANIPULA    19 non-null     object        \n",
      " 35  MAECHAGA    19 non-null     object        \n",
      " 36  ORAL        19 non-null     object        \n",
      " 37  ASSINTOMA   19 non-null     object        \n",
      " 38  EDEMA       19 non-null     object        \n",
      " 39  MENINGOE    19 non-null     object        \n",
      " 40  POLIADENO   19 non-null     object        \n",
      " 41  FEBRE       19 non-null     object        \n",
      " 42  HEPATOME    19 non-null     object        \n",
      " 43  SINAIS_ICC  19 non-null     object        \n",
      " 44  ARRITMIAS   19 non-null     object        \n",
      " 45  ASTENIA     19 non-null     object        \n",
      " 46  ESPLENOM    19 non-null     object        \n",
      " 47  CHAGOMA     19 non-null     object        \n",
      " 48  OUTRO_SIN   19 non-null     object        \n",
      " 49  OUTRO_ESP   19 non-null     object        \n",
      " 50  DT_COL_DIR  4 non-null      datetime64[ns]\n",
      " 51  EXAME       19 non-null     object        \n",
      " 52  MICRO_HEMA  19 non-null     object        \n",
      " 53  OUTRO       19 non-null     object        \n",
      " 54  DT_COL_IND  1 non-null      datetime64[ns]\n",
      " 55  XENODIAG    19 non-null     object        \n",
      " 56  HEMOCULT    19 non-null     object        \n",
      " 57  DT_COL_S1   7 non-null      datetime64[ns]\n",
      " 58  DT_COL_S2   0 non-null      datetime64[ns]\n",
      " 59  ELI_IGM_S1  19 non-null     object        \n",
      " 60  ELI_IGG_S1  19 non-null     object        \n",
      " 61  ELI_IGM_S2  19 non-null     object        \n",
      " 62  ELI_IGG_S2  19 non-null     object        \n",
      " 63  HEM_IGM_S1  19 non-null     object        \n",
      " 64  HEM_IGG_S1  19 non-null     object        \n",
      " 65  HEM_IGM_S2  19 non-null     object        \n",
      " 66  HEM_IGG_S2  19 non-null     object        \n",
      " 67  IMU_IGM_S1  19 non-null     object        \n",
      " 68  TIT_IGM_S1  19 non-null     object        \n",
      " 69  IMU_IGM_S2  19 non-null     object        \n",
      " 70  TIT_IGM_S2  19 non-null     object        \n",
      " 71  IMU_IGG_S1  19 non-null     object        \n",
      " 72  TIT_IGG_S1  19 non-null     object        \n",
      " 73  IMU_IGG_S2  19 non-null     object        \n",
      " 74  TIT_IGG_S2  19 non-null     object        \n",
      " 75  RESUL_HIS   0 non-null      object        \n",
      " 76  RES_HIST    19 non-null     object        \n",
      " 77  ESPECIFICO  19 non-null     object        \n",
      " 78  SINTOMATIC  19 non-null     object        \n",
      " 79  DROGA       19 non-null     object        \n",
      " 80  TEMPO       1 non-null      float64       \n",
      " 81  CON_TRIAT   19 non-null     object        \n",
      " 82  BIOSSEG     19 non-null     object        \n",
      " 83  FISCALIZA   19 non-null     object        \n",
      " 84  MED_OUTRO   19 non-null     object        \n",
      " 85  OUTRO_DES   19 non-null     object        \n",
      " 86  CLASSI_FIN  19 non-null     object        \n",
      " 87  CRITERIO    19 non-null     object        \n",
      " 88  EVOLUCAO    19 non-null     object        \n",
      " 89  DT_OBITO    0 non-null      datetime64[ns]\n",
      " 90  CON_PROVAV  19 non-null     object        \n",
      " 91  CON_OUTRA   19 non-null     object        \n",
      " 92  CON_LOCAL   19 non-null     object        \n",
      " 93  TPAUTOCTO   19 non-null     object        \n",
      " 94  COUFINF     19 non-null     object        \n",
      " 95  COPAISINF   19 non-null     object        \n",
      " 96  COMUNINF    19 non-null     object        \n",
      " 97  DOENCA_TRA  19 non-null     object        \n",
      " 98  DT_ENCERRA  19 non-null     datetime64[ns]\n",
      " 99  idade_anos  19 non-null     float64       \n",
      "dtypes: datetime64[ns](10), float64(3), int64(7), object(80)\n",
      "memory usage: 15.0+ KB\n"
     ]
    }
   ],
   "source": [
    "for cname in df.columns:\n",
    "    if cname.startswith('DT_'):\n",
    "        df[cname] = pd.to_datetime(df[cname])\n",
    "    elif cname.startswith('ID_'):\n",
    "        try:\n",
    "            df[cname] = pd.to_numeric(df[cname])\n",
    "        except ValueError:\n",
    "            continue\n",
    "df.info()"
   ]
  },
  {
   "cell_type": "markdown",
   "metadata": {
    "pycharm": {
     "name": "#%% md\n"
    }
   },
   "source": [
    "## Saving the Modified data\n",
    "We can save our dataframe in any format we wish to avoid having to redo this analysis next time. If we want to keep only the data from the state of Minas Gerais we need to filter the table using the UF code `31`."
   ]
  },
  {
   "cell_type": "code",
   "execution_count": null,
   "metadata": {
    "pycharm": {
     "name": "#%%\n"
    }
   },
   "outputs": [],
   "source": [
    "df['SG_UF_NOT'] = df.SG_UF_NOT.astype(int)\n",
    "df[df.SG_UF_NOT==31].to_csv('chagas_SP_2018_mod.csv',sep=';',compression='zip')"
   ]
  },
  {
   "cell_type": "code",
   "execution_count": null,
   "metadata": {
    "pycharm": {
     "name": "#%%\n"
    }
   },
   "outputs": [],
   "source": []
  }
 ],
 "metadata": {
  "interpreter": {
   "hash": "916dbcbb3f70747c44a77c7bcd40155683ae19c65e1c03b4aa3499c5328201f1"
  },
  "kernelspec": {
   "display_name": "Python 3.8.10 64-bit",
   "name": "python3"
  },
  "language_info": {
   "codemirror_mode": {
    "name": "ipython",
    "version": 3
   },
   "file_extension": ".py",
   "mimetype": "text/x-python",
   "name": "python",
   "nbconvert_exporter": "python",
   "pygments_lexer": "ipython3",
   "version": "3.9.7"
  },
  "latex_envs": {
   "LaTeX_envs_menu_present": true,
   "autoclose": false,
   "autocomplete": true,
   "bibliofile": "biblio.bib",
   "cite_by": "apalike",
   "current_citInitial": 1,
   "eqLabelWithNumbers": true,
   "eqNumInitial": 1,
   "hotkeys": {
    "equation": "Ctrl-E",
    "itemize": "Ctrl-I"
   },
   "labels_anchors": false,
   "latex_user_defs": false,
   "report_style_numbering": false,
   "user_envs_cfg": false
  },
  "toc": {
   "base_numbering": 1,
   "nav_menu": {},
   "number_sections": true,
   "sideBar": true,
   "skip_h1_title": false,
   "title_cell": "Table of Contents",
   "title_sidebar": "Contents",
   "toc_cell": false,
   "toc_position": {},
   "toc_section_display": true,
   "toc_window_display": false
  },
  "varInspector": {
   "cols": {
    "lenName": 16,
    "lenType": 16,
    "lenVar": 40
   },
   "kernels_config": {
    "python": {
     "delete_cmd_postfix": "",
     "delete_cmd_prefix": "del ",
     "library": "var_list.py",
     "varRefreshCmd": "print(var_dic_list())"
    },
    "r": {
     "delete_cmd_postfix": ") ",
     "delete_cmd_prefix": "rm(",
     "library": "var_list.r",
     "varRefreshCmd": "cat(var_dic_list()) "
    }
   },
   "types_to_exclude": [
    "module",
    "function",
    "builtin_function_or_method",
    "instance",
    "_Feature"
   ],
   "window_display": false
  }
 },
 "nbformat": 4,
 "nbformat_minor": 1
}