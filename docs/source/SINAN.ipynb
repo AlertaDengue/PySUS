{
 "cells": [
  {
   "cell_type": "markdown",
   "metadata": {
    "pycharm": {
     "name": "#%% md\n"
    }
   },
   "source": [
    "# Downloading data from the SINAN database"
   ]
  },
  {
   "cell_type": "code",
   "execution_count": 1,
   "metadata": {
    "ExecuteTime": {
     "end_time": "2022-09-05T17:20:45.781320Z",
     "start_time": "2022-09-05T17:20:45.256619Z"
    },
    "pycharm": {
     "name": "#%%\n"
    }
   },
   "outputs": [],
   "source": [
    "from pysus.online_data import SINAN, last_update\n",
    "import pandas as pd"
   ]
  },
  {
   "cell_type": "markdown",
   "metadata": {
    "pycharm": {
     "name": "#%% md\n"
    }
   },
   "source": [
    "SINAN is a database of reported cases of certain diseases that Brazilian law requires to be reported. Unfortunately the data available for free download, corresponds only to the investigated cases not the totality of the reported cases. Nevertheless it's an interesting dataset.\n",
    "\n",
    "To find out what are these diseases, we can use PySUS:"
   ]
  },
  {
   "cell_type": "code",
   "execution_count": 2,
   "metadata": {
    "ExecuteTime": {
     "end_time": "2022-09-05T17:20:46.623422Z",
     "start_time": "2022-09-05T17:20:46.605579Z"
    },
    "pycharm": {
     "name": "#%%\n"
    }
   },
   "outputs": [
    {
     "data": {
      "text/plain": [
       "['Animais Peçonhentos',\n",
       " 'Botulismo',\n",
       " 'Cancer',\n",
       " 'Chagas',\n",
       " 'Chikungunya',\n",
       " 'Colera',\n",
       " 'Coqueluche',\n",
       " 'Contact Communicable Disease',\n",
       " 'Acidentes de Trabalho',\n",
       " 'Dengue',\n",
       " 'Difteria',\n",
       " 'Esquistossomose',\n",
       " 'Febre Amarela',\n",
       " 'Febre Maculosa',\n",
       " 'Febre Tifoide',\n",
       " 'Hanseniase',\n",
       " 'Hantavirose',\n",
       " 'Hepatites Virais',\n",
       " 'Intoxicação Exógena',\n",
       " 'Leishmaniose Visceral',\n",
       " 'Leptospirose',\n",
       " 'Leishmaniose Tegumentar',\n",
       " 'Malaria',\n",
       " 'Meningite',\n",
       " 'Peste',\n",
       " 'Poliomielite',\n",
       " 'Raiva Humana',\n",
       " 'Sífilis Adquirida',\n",
       " 'Sífilis Congênita',\n",
       " 'Sífilis em Gestante',\n",
       " 'Tétano Acidental',\n",
       " 'Tétano Neonatal',\n",
       " 'Tuberculose',\n",
       " 'Violência Domestica',\n",
       " 'Zika']"
      ]
     },
     "execution_count": 2,
     "metadata": {},
     "output_type": "execute_result"
    }
   ],
   "source": [
    "SINAN.list_diseases()"
   ]
  },
  {
   "cell_type": "markdown",
   "metadata": {
    "ExecuteTime": {
     "end_time": "2020-11-12T15:39:24.871171Z",
     "start_time": "2020-11-12T15:39:24.860483Z"
    },
    "pycharm": {
     "name": "#%% md\n"
    }
   },
   "source": [
    "These diseases are available in countrywide tables, so if we want to see the cases of `Chagas` disease in the state of Minas Gerais, first we can check which years are available:"
   ]
  },
  {
   "cell_type": "code",
   "execution_count": 3,
   "metadata": {
    "ExecuteTime": {
     "end_time": "2022-09-05T17:20:50.094901Z",
     "start_time": "2022-09-05T17:20:49.365812Z"
    },
    "pycharm": {
     "name": "#%%\n"
    }
   },
   "outputs": [
    {
     "name": "stderr",
     "output_type": "stream",
     "text": [
      "/usr/local/lib/python3.10/dist-packages/pysus/online_data/SINAN.py:62: UserWarning: Now SINAN tables are no longer split by state. Returning countrywide years\n",
      "  warnings.warn(\"Now SINAN tables are no longer split by state. Returning countrywide years\")\n"
     ]
    },
    {
     "data": {
      "text/plain": [
       "['CHAGBR00.dbc',\n",
       " 'CHAGBR01.dbc',\n",
       " 'CHAGBR02.dbc',\n",
       " 'CHAGBR03.dbc',\n",
       " 'CHAGBR04.dbc',\n",
       " 'CHAGBR05.dbc',\n",
       " 'CHAGBR06.dbc',\n",
       " 'CHAGBR07.dbc',\n",
       " 'CHAGBR08.dbc',\n",
       " 'CHAGBR09.dbc',\n",
       " 'CHAGBR10.dbc',\n",
       " 'CHAGBR11.dbc',\n",
       " 'CHAGBR12.dbc',\n",
       " 'CHAGBR13.dbc',\n",
       " 'CHAGBR14.dbc',\n",
       " 'CHAGBR15.dbc',\n",
       " 'CHAGBR16.dbc',\n",
       " 'CHAGBR17.dbc',\n",
       " 'CHAGBR18.dbc',\n",
       " 'CHAGBR19.dbc']"
      ]
     },
     "execution_count": 3,
     "metadata": {},
     "output_type": "execute_result"
    }
   ],
   "source": [
    "SINAN.get_available_years('chagas')"
   ]
  },
  {
   "cell_type": "markdown",
   "metadata": {
    "pycharm": {
     "name": "#%% md\n"
    }
   },
   "source": [
    "We can also check when it was last updated for every disease, and if the table is preliminary or final."
   ]
  },
  {
   "cell_type": "code",
   "execution_count": 4,
   "metadata": {
    "ExecuteTime": {
     "end_time": "2022-09-05T17:20:52.815560Z",
     "start_time": "2022-09-05T17:20:52.314900Z"
    },
    "pycharm": {
     "name": "#%%\n"
    }
   },
   "outputs": [
    {
     "data": {
      "text/html": [
       "<div>\n",
       "<style scoped>\n",
       "    .dataframe tbody tr th:only-of-type {\n",
       "        vertical-align: middle;\n",
       "    }\n",
       "\n",
       "    .dataframe tbody tr th {\n",
       "        vertical-align: top;\n",
       "    }\n",
       "\n",
       "    .dataframe thead th {\n",
       "        text-align: right;\n",
       "    }\n",
       "</style>\n",
       "<table border=\"1\" class=\"dataframe\">\n",
       "  <thead>\n",
       "    <tr style=\"text-align: right;\">\n",
       "      <th></th>\n",
       "      <th>folder</th>\n",
       "      <th>date</th>\n",
       "      <th>file_size</th>\n",
       "      <th>file_name</th>\n",
       "    </tr>\n",
       "  </thead>\n",
       "  <tbody>\n",
       "    <tr>\n",
       "      <th>0</th>\n",
       "      <td>/dissemin/publicos/SINAN/DADOS/FINAIS</td>\n",
       "      <td>2021-09-30 10:04:00</td>\n",
       "      <td>26826</td>\n",
       "      <td>ACBIBR06.dbc</td>\n",
       "    </tr>\n",
       "    <tr>\n",
       "      <th>1</th>\n",
       "      <td>/dissemin/publicos/SINAN/DADOS/FINAIS</td>\n",
       "      <td>2021-09-30 10:04:00</td>\n",
       "      <td>641813</td>\n",
       "      <td>ACBIBR07.dbc</td>\n",
       "    </tr>\n",
       "    <tr>\n",
       "      <th>2</th>\n",
       "      <td>/dissemin/publicos/SINAN/DADOS/FINAIS</td>\n",
       "      <td>2021-09-30 10:04:00</td>\n",
       "      <td>998830</td>\n",
       "      <td>ACBIBR08.dbc</td>\n",
       "    </tr>\n",
       "    <tr>\n",
       "      <th>3</th>\n",
       "      <td>/dissemin/publicos/SINAN/DADOS/FINAIS</td>\n",
       "      <td>2021-09-30 10:04:00</td>\n",
       "      <td>1432723</td>\n",
       "      <td>ACBIBR09.dbc</td>\n",
       "    </tr>\n",
       "    <tr>\n",
       "      <th>4</th>\n",
       "      <td>/dissemin/publicos/SINAN/DADOS/FINAIS</td>\n",
       "      <td>2021-09-30 10:04:00</td>\n",
       "      <td>1562123</td>\n",
       "      <td>ACBIBR10.dbc</td>\n",
       "    </tr>\n",
       "    <tr>\n",
       "      <th>...</th>\n",
       "      <td>...</td>\n",
       "      <td>...</td>\n",
       "      <td>...</td>\n",
       "      <td>...</td>\n",
       "    </tr>\n",
       "    <tr>\n",
       "      <th>1052</th>\n",
       "      <td>/dissemin/publicos/SINAN/DADOS/PRELIM</td>\n",
       "      <td>2022-02-21 09:48:00</td>\n",
       "      <td>3702244</td>\n",
       "      <td>TUBEBR21.dbc</td>\n",
       "    </tr>\n",
       "    <tr>\n",
       "      <th>1053</th>\n",
       "      <td>/dissemin/publicos/SINAN/DADOS/PRELIM</td>\n",
       "      <td>2022-02-21 09:48:00</td>\n",
       "      <td>64058</td>\n",
       "      <td>TUBEBR22.dbc</td>\n",
       "    </tr>\n",
       "    <tr>\n",
       "      <th>1054</th>\n",
       "      <td>/dissemin/publicos/SINAN/DADOS/PRELIM</td>\n",
       "      <td>2021-10-15 11:37:00</td>\n",
       "      <td>24793234</td>\n",
       "      <td>VIOLBR20.dbc</td>\n",
       "    </tr>\n",
       "    <tr>\n",
       "      <th>1055</th>\n",
       "      <td>/dissemin/publicos/SINAN/DADOS/PRELIM</td>\n",
       "      <td>2021-10-15 11:37:00</td>\n",
       "      <td>16021135</td>\n",
       "      <td>VIOLBR21.dbc</td>\n",
       "    </tr>\n",
       "    <tr>\n",
       "      <th>1056</th>\n",
       "      <td>/dissemin/publicos/SINAN/DADOS/PRELIM</td>\n",
       "      <td>2022-02-23 12:05:00</td>\n",
       "      <td>385559</td>\n",
       "      <td>ZIKABR21.dbc</td>\n",
       "    </tr>\n",
       "  </tbody>\n",
       "</table>\n",
       "<p>1057 rows × 4 columns</p>\n",
       "</div>"
      ],
      "text/plain": [
       "                                     folder                date  file_size  \\\n",
       "0     /dissemin/publicos/SINAN/DADOS/FINAIS 2021-09-30 10:04:00      26826   \n",
       "1     /dissemin/publicos/SINAN/DADOS/FINAIS 2021-09-30 10:04:00     641813   \n",
       "2     /dissemin/publicos/SINAN/DADOS/FINAIS 2021-09-30 10:04:00     998830   \n",
       "3     /dissemin/publicos/SINAN/DADOS/FINAIS 2021-09-30 10:04:00    1432723   \n",
       "4     /dissemin/publicos/SINAN/DADOS/FINAIS 2021-09-30 10:04:00    1562123   \n",
       "...                                     ...                 ...        ...   \n",
       "1052  /dissemin/publicos/SINAN/DADOS/PRELIM 2022-02-21 09:48:00    3702244   \n",
       "1053  /dissemin/publicos/SINAN/DADOS/PRELIM 2022-02-21 09:48:00      64058   \n",
       "1054  /dissemin/publicos/SINAN/DADOS/PRELIM 2021-10-15 11:37:00   24793234   \n",
       "1055  /dissemin/publicos/SINAN/DADOS/PRELIM 2021-10-15 11:37:00   16021135   \n",
       "1056  /dissemin/publicos/SINAN/DADOS/PRELIM 2022-02-23 12:05:00     385559   \n",
       "\n",
       "         file_name  \n",
       "0     ACBIBR06.dbc  \n",
       "1     ACBIBR07.dbc  \n",
       "2     ACBIBR08.dbc  \n",
       "3     ACBIBR09.dbc  \n",
       "4     ACBIBR10.dbc  \n",
       "...            ...  \n",
       "1052  TUBEBR21.dbc  \n",
       "1053  TUBEBR22.dbc  \n",
       "1054  VIOLBR20.dbc  \n",
       "1055  VIOLBR21.dbc  \n",
       "1056  ZIKABR21.dbc  \n",
       "\n",
       "[1057 rows x 4 columns]"
      ]
     },
     "execution_count": 4,
     "metadata": {},
     "output_type": "execute_result"
    }
   ],
   "source": [
    "lu = last_update('SINAN')\n",
    "lu"
   ]
  },
  {
   "cell_type": "code",
   "execution_count": 5,
   "metadata": {
    "ExecuteTime": {
     "end_time": "2022-09-05T17:21:04.411472Z",
     "start_time": "2022-09-05T17:21:04.370232Z"
    },
    "pycharm": {
     "name": "#%%\n"
    }
   },
   "outputs": [
    {
     "data": {
      "text/html": [
       "<div>\n",
       "<style scoped>\n",
       "    .dataframe tbody tr th:only-of-type {\n",
       "        vertical-align: middle;\n",
       "    }\n",
       "\n",
       "    .dataframe tbody tr th {\n",
       "        vertical-align: top;\n",
       "    }\n",
       "\n",
       "    .dataframe thead th {\n",
       "        text-align: right;\n",
       "    }\n",
       "</style>\n",
       "<table border=\"1\" class=\"dataframe\">\n",
       "  <thead>\n",
       "    <tr style=\"text-align: right;\">\n",
       "      <th></th>\n",
       "      <th>folder</th>\n",
       "      <th>date</th>\n",
       "      <th>file_size</th>\n",
       "      <th>file_name</th>\n",
       "    </tr>\n",
       "  </thead>\n",
       "  <tbody>\n",
       "    <tr>\n",
       "      <th>70</th>\n",
       "      <td>/dissemin/publicos/SINAN/DADOS/FINAIS</td>\n",
       "      <td>2022-03-28 11:18:00</td>\n",
       "      <td>41075</td>\n",
       "      <td>CHAGBR00.dbc</td>\n",
       "    </tr>\n",
       "    <tr>\n",
       "      <th>71</th>\n",
       "      <td>/dissemin/publicos/SINAN/DADOS/FINAIS</td>\n",
       "      <td>2022-03-28 11:18:00</td>\n",
       "      <td>47675</td>\n",
       "      <td>CHAGBR01.dbc</td>\n",
       "    </tr>\n",
       "    <tr>\n",
       "      <th>72</th>\n",
       "      <td>/dissemin/publicos/SINAN/DADOS/FINAIS</td>\n",
       "      <td>2022-03-28 11:18:00</td>\n",
       "      <td>69415</td>\n",
       "      <td>CHAGBR02.dbc</td>\n",
       "    </tr>\n",
       "    <tr>\n",
       "      <th>73</th>\n",
       "      <td>/dissemin/publicos/SINAN/DADOS/FINAIS</td>\n",
       "      <td>2022-03-28 11:18:00</td>\n",
       "      <td>90539</td>\n",
       "      <td>CHAGBR03.dbc</td>\n",
       "    </tr>\n",
       "    <tr>\n",
       "      <th>74</th>\n",
       "      <td>/dissemin/publicos/SINAN/DADOS/FINAIS</td>\n",
       "      <td>2022-03-28 11:18:00</td>\n",
       "      <td>86820</td>\n",
       "      <td>CHAGBR04.dbc</td>\n",
       "    </tr>\n",
       "    <tr>\n",
       "      <th>75</th>\n",
       "      <td>/dissemin/publicos/SINAN/DADOS/FINAIS</td>\n",
       "      <td>2022-03-28 11:18:00</td>\n",
       "      <td>223289</td>\n",
       "      <td>CHAGBR05.dbc</td>\n",
       "    </tr>\n",
       "    <tr>\n",
       "      <th>76</th>\n",
       "      <td>/dissemin/publicos/SINAN/DADOS/FINAIS</td>\n",
       "      <td>2022-03-28 11:18:00</td>\n",
       "      <td>135953</td>\n",
       "      <td>CHAGBR06.dbc</td>\n",
       "    </tr>\n",
       "    <tr>\n",
       "      <th>77</th>\n",
       "      <td>/dissemin/publicos/SINAN/DADOS/FINAIS</td>\n",
       "      <td>2021-11-23 12:21:00</td>\n",
       "      <td>11660</td>\n",
       "      <td>CHAGBR07.dbc</td>\n",
       "    </tr>\n",
       "    <tr>\n",
       "      <th>78</th>\n",
       "      <td>/dissemin/publicos/SINAN/DADOS/FINAIS</td>\n",
       "      <td>2021-11-23 12:21:00</td>\n",
       "      <td>11004</td>\n",
       "      <td>CHAGBR08.dbc</td>\n",
       "    </tr>\n",
       "    <tr>\n",
       "      <th>79</th>\n",
       "      <td>/dissemin/publicos/SINAN/DADOS/FINAIS</td>\n",
       "      <td>2021-11-23 12:21:00</td>\n",
       "      <td>17913</td>\n",
       "      <td>CHAGBR09.dbc</td>\n",
       "    </tr>\n",
       "    <tr>\n",
       "      <th>80</th>\n",
       "      <td>/dissemin/publicos/SINAN/DADOS/FINAIS</td>\n",
       "      <td>2021-11-23 12:21:00</td>\n",
       "      <td>13470</td>\n",
       "      <td>CHAGBR10.dbc</td>\n",
       "    </tr>\n",
       "    <tr>\n",
       "      <th>81</th>\n",
       "      <td>/dissemin/publicos/SINAN/DADOS/FINAIS</td>\n",
       "      <td>2021-11-23 12:21:00</td>\n",
       "      <td>17109</td>\n",
       "      <td>CHAGBR11.dbc</td>\n",
       "    </tr>\n",
       "    <tr>\n",
       "      <th>82</th>\n",
       "      <td>/dissemin/publicos/SINAN/DADOS/FINAIS</td>\n",
       "      <td>2021-11-23 12:21:00</td>\n",
       "      <td>264167</td>\n",
       "      <td>CHAGBR12.dbc</td>\n",
       "    </tr>\n",
       "    <tr>\n",
       "      <th>83</th>\n",
       "      <td>/dissemin/publicos/SINAN/DADOS/FINAIS</td>\n",
       "      <td>2021-11-23 12:21:00</td>\n",
       "      <td>245977</td>\n",
       "      <td>CHAGBR13.dbc</td>\n",
       "    </tr>\n",
       "    <tr>\n",
       "      <th>84</th>\n",
       "      <td>/dissemin/publicos/SINAN/DADOS/FINAIS</td>\n",
       "      <td>2021-11-23 12:21:00</td>\n",
       "      <td>261115</td>\n",
       "      <td>CHAGBR14.dbc</td>\n",
       "    </tr>\n",
       "    <tr>\n",
       "      <th>85</th>\n",
       "      <td>/dissemin/publicos/SINAN/DADOS/FINAIS</td>\n",
       "      <td>2021-11-23 12:21:00</td>\n",
       "      <td>188615</td>\n",
       "      <td>CHAGBR15.dbc</td>\n",
       "    </tr>\n",
       "    <tr>\n",
       "      <th>86</th>\n",
       "      <td>/dissemin/publicos/SINAN/DADOS/FINAIS</td>\n",
       "      <td>2022-03-28 11:18:00</td>\n",
       "      <td>244387</td>\n",
       "      <td>CHAGBR16.dbc</td>\n",
       "    </tr>\n",
       "    <tr>\n",
       "      <th>87</th>\n",
       "      <td>/dissemin/publicos/SINAN/DADOS/FINAIS</td>\n",
       "      <td>2021-11-23 12:21:00</td>\n",
       "      <td>215819</td>\n",
       "      <td>CHAGBR17.dbc</td>\n",
       "    </tr>\n",
       "    <tr>\n",
       "      <th>88</th>\n",
       "      <td>/dissemin/publicos/SINAN/DADOS/FINAIS</td>\n",
       "      <td>2022-03-28 11:18:00</td>\n",
       "      <td>254336</td>\n",
       "      <td>CHAGBR18.dbc</td>\n",
       "    </tr>\n",
       "    <tr>\n",
       "      <th>89</th>\n",
       "      <td>/dissemin/publicos/SINAN/DADOS/FINAIS</td>\n",
       "      <td>2021-11-23 12:21:00</td>\n",
       "      <td>285962</td>\n",
       "      <td>CHAGBR19.dbc</td>\n",
       "    </tr>\n",
       "    <tr>\n",
       "      <th>834</th>\n",
       "      <td>/dissemin/publicos/SINAN/DADOS/PRELIM</td>\n",
       "      <td>2022-02-09 15:16:00</td>\n",
       "      <td>189312</td>\n",
       "      <td>CHAGBR20.dbc</td>\n",
       "    </tr>\n",
       "  </tbody>\n",
       "</table>\n",
       "</div>"
      ],
      "text/plain": [
       "                                    folder                date  file_size  \\\n",
       "70   /dissemin/publicos/SINAN/DADOS/FINAIS 2022-03-28 11:18:00      41075   \n",
       "71   /dissemin/publicos/SINAN/DADOS/FINAIS 2022-03-28 11:18:00      47675   \n",
       "72   /dissemin/publicos/SINAN/DADOS/FINAIS 2022-03-28 11:18:00      69415   \n",
       "73   /dissemin/publicos/SINAN/DADOS/FINAIS 2022-03-28 11:18:00      90539   \n",
       "74   /dissemin/publicos/SINAN/DADOS/FINAIS 2022-03-28 11:18:00      86820   \n",
       "75   /dissemin/publicos/SINAN/DADOS/FINAIS 2022-03-28 11:18:00     223289   \n",
       "76   /dissemin/publicos/SINAN/DADOS/FINAIS 2022-03-28 11:18:00     135953   \n",
       "77   /dissemin/publicos/SINAN/DADOS/FINAIS 2021-11-23 12:21:00      11660   \n",
       "78   /dissemin/publicos/SINAN/DADOS/FINAIS 2021-11-23 12:21:00      11004   \n",
       "79   /dissemin/publicos/SINAN/DADOS/FINAIS 2021-11-23 12:21:00      17913   \n",
       "80   /dissemin/publicos/SINAN/DADOS/FINAIS 2021-11-23 12:21:00      13470   \n",
       "81   /dissemin/publicos/SINAN/DADOS/FINAIS 2021-11-23 12:21:00      17109   \n",
       "82   /dissemin/publicos/SINAN/DADOS/FINAIS 2021-11-23 12:21:00     264167   \n",
       "83   /dissemin/publicos/SINAN/DADOS/FINAIS 2021-11-23 12:21:00     245977   \n",
       "84   /dissemin/publicos/SINAN/DADOS/FINAIS 2021-11-23 12:21:00     261115   \n",
       "85   /dissemin/publicos/SINAN/DADOS/FINAIS 2021-11-23 12:21:00     188615   \n",
       "86   /dissemin/publicos/SINAN/DADOS/FINAIS 2022-03-28 11:18:00     244387   \n",
       "87   /dissemin/publicos/SINAN/DADOS/FINAIS 2021-11-23 12:21:00     215819   \n",
       "88   /dissemin/publicos/SINAN/DADOS/FINAIS 2022-03-28 11:18:00     254336   \n",
       "89   /dissemin/publicos/SINAN/DADOS/FINAIS 2021-11-23 12:21:00     285962   \n",
       "834  /dissemin/publicos/SINAN/DADOS/PRELIM 2022-02-09 15:16:00     189312   \n",
       "\n",
       "        file_name  \n",
       "70   CHAGBR00.dbc  \n",
       "71   CHAGBR01.dbc  \n",
       "72   CHAGBR02.dbc  \n",
       "73   CHAGBR03.dbc  \n",
       "74   CHAGBR04.dbc  \n",
       "75   CHAGBR05.dbc  \n",
       "76   CHAGBR06.dbc  \n",
       "77   CHAGBR07.dbc  \n",
       "78   CHAGBR08.dbc  \n",
       "79   CHAGBR09.dbc  \n",
       "80   CHAGBR10.dbc  \n",
       "81   CHAGBR11.dbc  \n",
       "82   CHAGBR12.dbc  \n",
       "83   CHAGBR13.dbc  \n",
       "84   CHAGBR14.dbc  \n",
       "85   CHAGBR15.dbc  \n",
       "86   CHAGBR16.dbc  \n",
       "87   CHAGBR17.dbc  \n",
       "88   CHAGBR18.dbc  \n",
       "89   CHAGBR19.dbc  \n",
       "834  CHAGBR20.dbc  "
      ]
     },
     "execution_count": 5,
     "metadata": {},
     "output_type": "execute_result"
    }
   ],
   "source": [
    "lu[lu.file_name.str.startswith('CHAG')]"
   ]
  },
  {
   "cell_type": "markdown",
   "metadata": {
    "pycharm": {
     "name": "#%% md\n"
    }
   },
   "source": [
    "We can see, that we have data in final form, from 2000 until 2019, and preliminary data for 2020. Now we can download it:"
   ]
  },
  {
   "cell_type": "code",
   "execution_count": 6,
   "metadata": {
    "ExecuteTime": {
     "end_time": "2022-09-05T17:21:11.840622Z",
     "start_time": "2022-09-05T17:21:10.951857Z"
    },
    "pycharm": {
     "name": "#%%\n"
    }
   },
   "outputs": [
    {
     "name": "stderr",
     "output_type": "stream",
     "text": [
      "/usr/local/lib/python3.10/dist-packages/pysus/online_data/SINAN.py:62: UserWarning: Now SINAN tables are no longer split by state. Returning countrywide years\n",
      "  warnings.warn(\"Now SINAN tables are no longer split by state. Returning countrywide years\")\n",
      "/usr/local/lib/python3.10/dist-packages/pysus/online_data/SINAN.py:92: UserWarning: Now SINAN tables are no longer split by state. Returning country table\n",
      "  warnings.warn(\"Now SINAN tables are no longer split by state. Returning country table\")\n"
     ]
    },
    {
     "data": {
      "text/html": [
       "<div>\n",
       "<style scoped>\n",
       "    .dataframe tbody tr th:only-of-type {\n",
       "        vertical-align: middle;\n",
       "    }\n",
       "\n",
       "    .dataframe tbody tr th {\n",
       "        vertical-align: top;\n",
       "    }\n",
       "\n",
       "    .dataframe thead th {\n",
       "        text-align: right;\n",
       "    }\n",
       "</style>\n",
       "<table border=\"1\" class=\"dataframe\">\n",
       "  <thead>\n",
       "    <tr style=\"text-align: right;\">\n",
       "      <th></th>\n",
       "      <th>TP_NOT</th>\n",
       "      <th>ID_AGRAVO</th>\n",
       "      <th>DT_NOTIFIC</th>\n",
       "      <th>SEM_NOT</th>\n",
       "      <th>NU_ANO</th>\n",
       "      <th>SG_UF_NOT</th>\n",
       "      <th>ID_MUNICIP</th>\n",
       "      <th>ID_REGIONA</th>\n",
       "      <th>ID_UNIDADE</th>\n",
       "      <th>DT_SIN_PRI</th>\n",
       "      <th>...</th>\n",
       "      <th>DT_OBITO</th>\n",
       "      <th>CON_PROVAV</th>\n",
       "      <th>CON_OUTRA</th>\n",
       "      <th>CON_LOCAL</th>\n",
       "      <th>TPAUTOCTO</th>\n",
       "      <th>COUFINF</th>\n",
       "      <th>COPAISINF</th>\n",
       "      <th>COMUNINF</th>\n",
       "      <th>DOENCA_TRA</th>\n",
       "      <th>DT_ENCERRA</th>\n",
       "    </tr>\n",
       "  </thead>\n",
       "  <tbody>\n",
       "    <tr>\n",
       "      <th>0</th>\n",
       "      <td>b'2'</td>\n",
       "      <td>b'B571'</td>\n",
       "      <td>b'20190410'</td>\n",
       "      <td>b'201915'</td>\n",
       "      <td>b'2019'</td>\n",
       "      <td>b'16'</td>\n",
       "      <td>b'160030'</td>\n",
       "      <td>b'        '</td>\n",
       "      <td>b'2019639'</td>\n",
       "      <td>b'20190301'</td>\n",
       "      <td>...</td>\n",
       "      <td>b'        '</td>\n",
       "      <td>b'5'</td>\n",
       "      <td>b'                              '</td>\n",
       "      <td>b'2'</td>\n",
       "      <td>b'1'</td>\n",
       "      <td>b'16'</td>\n",
       "      <td>b'1   '</td>\n",
       "      <td>b'160030'</td>\n",
       "      <td>b'2'</td>\n",
       "      <td>b'20190513'</td>\n",
       "    </tr>\n",
       "    <tr>\n",
       "      <th>1</th>\n",
       "      <td>b'2'</td>\n",
       "      <td>b'B571'</td>\n",
       "      <td>b'20190916'</td>\n",
       "      <td>b'201938'</td>\n",
       "      <td>b'2019'</td>\n",
       "      <td>b'16'</td>\n",
       "      <td>b'160030'</td>\n",
       "      <td>b'        '</td>\n",
       "      <td>b'2022192'</td>\n",
       "      <td>b'20190818'</td>\n",
       "      <td>...</td>\n",
       "      <td>b'        '</td>\n",
       "      <td>b'5'</td>\n",
       "      <td>b'                              '</td>\n",
       "      <td>b'2'</td>\n",
       "      <td>b'2'</td>\n",
       "      <td>b'16'</td>\n",
       "      <td>b'1   '</td>\n",
       "      <td>b'160060'</td>\n",
       "      <td>b'2'</td>\n",
       "      <td>b'20191002'</td>\n",
       "    </tr>\n",
       "    <tr>\n",
       "      <th>2</th>\n",
       "      <td>b'2'</td>\n",
       "      <td>b'B571'</td>\n",
       "      <td>b'20190307'</td>\n",
       "      <td>b'201910'</td>\n",
       "      <td>b'2019'</td>\n",
       "      <td>b'16'</td>\n",
       "      <td>b'160030'</td>\n",
       "      <td>b'        '</td>\n",
       "      <td>b'2022192'</td>\n",
       "      <td>b'20190228'</td>\n",
       "      <td>...</td>\n",
       "      <td>b'        '</td>\n",
       "      <td>b'5'</td>\n",
       "      <td>b'                              '</td>\n",
       "      <td>b'2'</td>\n",
       "      <td>b'1'</td>\n",
       "      <td>b'16'</td>\n",
       "      <td>b'1   '</td>\n",
       "      <td>b'160030'</td>\n",
       "      <td>b' '</td>\n",
       "      <td>b'20190325'</td>\n",
       "    </tr>\n",
       "    <tr>\n",
       "      <th>3</th>\n",
       "      <td>b'2'</td>\n",
       "      <td>b'B571'</td>\n",
       "      <td>b'20191022'</td>\n",
       "      <td>b'201943'</td>\n",
       "      <td>b'2019'</td>\n",
       "      <td>b'16'</td>\n",
       "      <td>b'160030'</td>\n",
       "      <td>b'        '</td>\n",
       "      <td>b'2020653'</td>\n",
       "      <td>b'20190909'</td>\n",
       "      <td>...</td>\n",
       "      <td>b'        '</td>\n",
       "      <td>b'5'</td>\n",
       "      <td>b'                              '</td>\n",
       "      <td>b'2'</td>\n",
       "      <td>b'1'</td>\n",
       "      <td>b'16'</td>\n",
       "      <td>b'1   '</td>\n",
       "      <td>b'160030'</td>\n",
       "      <td>b'2'</td>\n",
       "      <td>b'20191107'</td>\n",
       "    </tr>\n",
       "    <tr>\n",
       "      <th>4</th>\n",
       "      <td>b'2'</td>\n",
       "      <td>b'B571'</td>\n",
       "      <td>b'20190910'</td>\n",
       "      <td>b'201937'</td>\n",
       "      <td>b'2019'</td>\n",
       "      <td>b'16'</td>\n",
       "      <td>b'160060'</td>\n",
       "      <td>b'        '</td>\n",
       "      <td>b'2020971'</td>\n",
       "      <td>b'20190828'</td>\n",
       "      <td>...</td>\n",
       "      <td>b'        '</td>\n",
       "      <td>b'5'</td>\n",
       "      <td>b'                              '</td>\n",
       "      <td>b'2'</td>\n",
       "      <td>b'1'</td>\n",
       "      <td>b'16'</td>\n",
       "      <td>b'1   '</td>\n",
       "      <td>b'160060'</td>\n",
       "      <td>b'2'</td>\n",
       "      <td>b'20191108'</td>\n",
       "    </tr>\n",
       "    <tr>\n",
       "      <th>...</th>\n",
       "      <td>...</td>\n",
       "      <td>...</td>\n",
       "      <td>...</td>\n",
       "      <td>...</td>\n",
       "      <td>...</td>\n",
       "      <td>...</td>\n",
       "      <td>...</td>\n",
       "      <td>...</td>\n",
       "      <td>...</td>\n",
       "      <td>...</td>\n",
       "      <td>...</td>\n",
       "      <td>...</td>\n",
       "      <td>...</td>\n",
       "      <td>...</td>\n",
       "      <td>...</td>\n",
       "      <td>...</td>\n",
       "      <td>...</td>\n",
       "      <td>...</td>\n",
       "      <td>...</td>\n",
       "      <td>...</td>\n",
       "      <td>...</td>\n",
       "    </tr>\n",
       "    <tr>\n",
       "      <th>4477</th>\n",
       "      <td>b'2'</td>\n",
       "      <td>b'B571'</td>\n",
       "      <td>b'20190905'</td>\n",
       "      <td>b'201936'</td>\n",
       "      <td>b'2019'</td>\n",
       "      <td>b'26'</td>\n",
       "      <td>b'260120'</td>\n",
       "      <td>b'1501    '</td>\n",
       "      <td>b'5740592'</td>\n",
       "      <td>b'20190904'</td>\n",
       "      <td>...</td>\n",
       "      <td>b'        '</td>\n",
       "      <td>b' '</td>\n",
       "      <td>b'                              '</td>\n",
       "      <td>b' '</td>\n",
       "      <td>b' '</td>\n",
       "      <td>b'  '</td>\n",
       "      <td>b'0   '</td>\n",
       "      <td>b'      '</td>\n",
       "      <td>b' '</td>\n",
       "      <td>b'20191022'</td>\n",
       "    </tr>\n",
       "    <tr>\n",
       "      <th>4478</th>\n",
       "      <td>b'2'</td>\n",
       "      <td>b'B571'</td>\n",
       "      <td>b'20190926'</td>\n",
       "      <td>b'201939'</td>\n",
       "      <td>b'2019'</td>\n",
       "      <td>b'26'</td>\n",
       "      <td>b'261390'</td>\n",
       "      <td>b'1506    '</td>\n",
       "      <td>b'2348489'</td>\n",
       "      <td>b'20190826'</td>\n",
       "      <td>...</td>\n",
       "      <td>b'        '</td>\n",
       "      <td>b'2'</td>\n",
       "      <td>b'                              '</td>\n",
       "      <td>b'2'</td>\n",
       "      <td>b'1'</td>\n",
       "      <td>b'26'</td>\n",
       "      <td>b'1   '</td>\n",
       "      <td>b'261390'</td>\n",
       "      <td>b'2'</td>\n",
       "      <td>b'20191008'</td>\n",
       "    </tr>\n",
       "    <tr>\n",
       "      <th>4479</th>\n",
       "      <td>b'2'</td>\n",
       "      <td>b'B571'</td>\n",
       "      <td>b'20190117'</td>\n",
       "      <td>b'201903'</td>\n",
       "      <td>b'2019'</td>\n",
       "      <td>b'26'</td>\n",
       "      <td>b'260120'</td>\n",
       "      <td>b'1501    '</td>\n",
       "      <td>b'2711443'</td>\n",
       "      <td>b'20190105'</td>\n",
       "      <td>...</td>\n",
       "      <td>b'        '</td>\n",
       "      <td>b' '</td>\n",
       "      <td>b'                              '</td>\n",
       "      <td>b' '</td>\n",
       "      <td>b' '</td>\n",
       "      <td>b'  '</td>\n",
       "      <td>b'0   '</td>\n",
       "      <td>b'      '</td>\n",
       "      <td>b' '</td>\n",
       "      <td>b'20190212'</td>\n",
       "    </tr>\n",
       "    <tr>\n",
       "      <th>4480</th>\n",
       "      <td>b'2'</td>\n",
       "      <td>b'B571'</td>\n",
       "      <td>b'20190703'</td>\n",
       "      <td>b'201927'</td>\n",
       "      <td>b'2019'</td>\n",
       "      <td>b'26'</td>\n",
       "      <td>b'260820'</td>\n",
       "      <td>b'1498    '</td>\n",
       "      <td>b'5276403'</td>\n",
       "      <td>b'20190703'</td>\n",
       "      <td>...</td>\n",
       "      <td>b'        '</td>\n",
       "      <td>b' '</td>\n",
       "      <td>b'                              '</td>\n",
       "      <td>b' '</td>\n",
       "      <td>b' '</td>\n",
       "      <td>b'  '</td>\n",
       "      <td>b'0   '</td>\n",
       "      <td>b'      '</td>\n",
       "      <td>b' '</td>\n",
       "      <td>b'20190903'</td>\n",
       "    </tr>\n",
       "    <tr>\n",
       "      <th>4481</th>\n",
       "      <td>b'2'</td>\n",
       "      <td>b'B571'</td>\n",
       "      <td>b'20191108'</td>\n",
       "      <td>b'201945'</td>\n",
       "      <td>b'2019'</td>\n",
       "      <td>b'26'</td>\n",
       "      <td>b'261220'</td>\n",
       "      <td>b'1502    '</td>\n",
       "      <td>b'5844916'</td>\n",
       "      <td>b'20190804'</td>\n",
       "      <td>...</td>\n",
       "      <td>b'        '</td>\n",
       "      <td>b' '</td>\n",
       "      <td>b'                              '</td>\n",
       "      <td>b' '</td>\n",
       "      <td>b' '</td>\n",
       "      <td>b'  '</td>\n",
       "      <td>b'0   '</td>\n",
       "      <td>b'      '</td>\n",
       "      <td>b' '</td>\n",
       "      <td>b'20200124'</td>\n",
       "    </tr>\n",
       "  </tbody>\n",
       "</table>\n",
       "<p>4482 rows × 99 columns</p>\n",
       "</div>"
      ],
      "text/plain": [
       "     TP_NOT ID_AGRAVO   DT_NOTIFIC    SEM_NOT   NU_ANO SG_UF_NOT ID_MUNICIP  \\\n",
       "0      b'2'   b'B571'  b'20190410'  b'201915'  b'2019'     b'16'  b'160030'   \n",
       "1      b'2'   b'B571'  b'20190916'  b'201938'  b'2019'     b'16'  b'160030'   \n",
       "2      b'2'   b'B571'  b'20190307'  b'201910'  b'2019'     b'16'  b'160030'   \n",
       "3      b'2'   b'B571'  b'20191022'  b'201943'  b'2019'     b'16'  b'160030'   \n",
       "4      b'2'   b'B571'  b'20190910'  b'201937'  b'2019'     b'16'  b'160060'   \n",
       "...     ...       ...          ...        ...      ...       ...        ...   \n",
       "4477   b'2'   b'B571'  b'20190905'  b'201936'  b'2019'     b'26'  b'260120'   \n",
       "4478   b'2'   b'B571'  b'20190926'  b'201939'  b'2019'     b'26'  b'261390'   \n",
       "4479   b'2'   b'B571'  b'20190117'  b'201903'  b'2019'     b'26'  b'260120'   \n",
       "4480   b'2'   b'B571'  b'20190703'  b'201927'  b'2019'     b'26'  b'260820'   \n",
       "4481   b'2'   b'B571'  b'20191108'  b'201945'  b'2019'     b'26'  b'261220'   \n",
       "\n",
       "       ID_REGIONA  ID_UNIDADE   DT_SIN_PRI  ...     DT_OBITO CON_PROVAV  \\\n",
       "0     b'        '  b'2019639'  b'20190301'  ...  b'        '       b'5'   \n",
       "1     b'        '  b'2022192'  b'20190818'  ...  b'        '       b'5'   \n",
       "2     b'        '  b'2022192'  b'20190228'  ...  b'        '       b'5'   \n",
       "3     b'        '  b'2020653'  b'20190909'  ...  b'        '       b'5'   \n",
       "4     b'        '  b'2020971'  b'20190828'  ...  b'        '       b'5'   \n",
       "...           ...         ...          ...  ...          ...        ...   \n",
       "4477  b'1501    '  b'5740592'  b'20190904'  ...  b'        '       b' '   \n",
       "4478  b'1506    '  b'2348489'  b'20190826'  ...  b'        '       b'2'   \n",
       "4479  b'1501    '  b'2711443'  b'20190105'  ...  b'        '       b' '   \n",
       "4480  b'1498    '  b'5276403'  b'20190703'  ...  b'        '       b' '   \n",
       "4481  b'1502    '  b'5844916'  b'20190804'  ...  b'        '       b' '   \n",
       "\n",
       "                              CON_OUTRA CON_LOCAL TPAUTOCTO COUFINF COPAISINF  \\\n",
       "0     b'                              '      b'2'      b'1'   b'16'   b'1   '   \n",
       "1     b'                              '      b'2'      b'2'   b'16'   b'1   '   \n",
       "2     b'                              '      b'2'      b'1'   b'16'   b'1   '   \n",
       "3     b'                              '      b'2'      b'1'   b'16'   b'1   '   \n",
       "4     b'                              '      b'2'      b'1'   b'16'   b'1   '   \n",
       "...                                 ...       ...       ...     ...       ...   \n",
       "4477  b'                              '      b' '      b' '   b'  '   b'0   '   \n",
       "4478  b'                              '      b'2'      b'1'   b'26'   b'1   '   \n",
       "4479  b'                              '      b' '      b' '   b'  '   b'0   '   \n",
       "4480  b'                              '      b' '      b' '   b'  '   b'0   '   \n",
       "4481  b'                              '      b' '      b' '   b'  '   b'0   '   \n",
       "\n",
       "       COMUNINF DOENCA_TRA   DT_ENCERRA  \n",
       "0     b'160030'       b'2'  b'20190513'  \n",
       "1     b'160060'       b'2'  b'20191002'  \n",
       "2     b'160030'       b' '  b'20190325'  \n",
       "3     b'160030'       b'2'  b'20191107'  \n",
       "4     b'160060'       b'2'  b'20191108'  \n",
       "...         ...        ...          ...  \n",
       "4477  b'      '       b' '  b'20191022'  \n",
       "4478  b'261390'       b'2'  b'20191008'  \n",
       "4479  b'      '       b' '  b'20190212'  \n",
       "4480  b'      '       b' '  b'20190903'  \n",
       "4481  b'      '       b' '  b'20200124'  \n",
       "\n",
       "[4482 rows x 99 columns]"
      ]
     },
     "execution_count": 6,
     "metadata": {},
     "output_type": "execute_result"
    }
   ],
   "source": [
    "df = SINAN.download(2019,'CHAGAS')\n",
    "df"
   ]
  },
  {
   "cell_type": "code",
   "execution_count": 7,
   "metadata": {
    "ExecuteTime": {
     "end_time": "2022-09-05T17:21:32.251277Z",
     "start_time": "2022-09-05T17:21:32.084418Z"
    },
    "pycharm": {
     "name": "#%%\n"
    }
   },
   "outputs": [
    {
     "data": {
      "text/html": [
       "<div>\n",
       "<style scoped>\n",
       "    .dataframe tbody tr th:only-of-type {\n",
       "        vertical-align: middle;\n",
       "    }\n",
       "\n",
       "    .dataframe tbody tr th {\n",
       "        vertical-align: top;\n",
       "    }\n",
       "\n",
       "    .dataframe thead th {\n",
       "        text-align: right;\n",
       "    }\n",
       "</style>\n",
       "<table border=\"1\" class=\"dataframe\">\n",
       "  <thead>\n",
       "    <tr style=\"text-align: right;\">\n",
       "      <th></th>\n",
       "      <th>TP_NOT</th>\n",
       "      <th>ID_AGRAVO</th>\n",
       "      <th>DT_NOTIFIC</th>\n",
       "      <th>SEM_NOT</th>\n",
       "      <th>NU_ANO</th>\n",
       "      <th>SG_UF_NOT</th>\n",
       "      <th>ID_MUNICIP</th>\n",
       "      <th>ID_REGIONA</th>\n",
       "      <th>ID_UNIDADE</th>\n",
       "      <th>DT_SIN_PRI</th>\n",
       "      <th>...</th>\n",
       "      <th>DT_OBITO</th>\n",
       "      <th>CON_PROVAV</th>\n",
       "      <th>CON_OUTRA</th>\n",
       "      <th>CON_LOCAL</th>\n",
       "      <th>TPAUTOCTO</th>\n",
       "      <th>COUFINF</th>\n",
       "      <th>COPAISINF</th>\n",
       "      <th>COMUNINF</th>\n",
       "      <th>DOENCA_TRA</th>\n",
       "      <th>DT_ENCERRA</th>\n",
       "    </tr>\n",
       "  </thead>\n",
       "  <tbody>\n",
       "    <tr>\n",
       "      <th>0</th>\n",
       "      <td>2</td>\n",
       "      <td>B571</td>\n",
       "      <td>20190410</td>\n",
       "      <td>201915</td>\n",
       "      <td>2019</td>\n",
       "      <td>16</td>\n",
       "      <td>160030</td>\n",
       "      <td></td>\n",
       "      <td>2019639</td>\n",
       "      <td>20190301</td>\n",
       "      <td>...</td>\n",
       "      <td></td>\n",
       "      <td>5</td>\n",
       "      <td></td>\n",
       "      <td>2</td>\n",
       "      <td>1</td>\n",
       "      <td>16</td>\n",
       "      <td>1</td>\n",
       "      <td>160030</td>\n",
       "      <td>2</td>\n",
       "      <td>20190513</td>\n",
       "    </tr>\n",
       "    <tr>\n",
       "      <th>1</th>\n",
       "      <td>2</td>\n",
       "      <td>B571</td>\n",
       "      <td>20190916</td>\n",
       "      <td>201938</td>\n",
       "      <td>2019</td>\n",
       "      <td>16</td>\n",
       "      <td>160030</td>\n",
       "      <td></td>\n",
       "      <td>2022192</td>\n",
       "      <td>20190818</td>\n",
       "      <td>...</td>\n",
       "      <td></td>\n",
       "      <td>5</td>\n",
       "      <td></td>\n",
       "      <td>2</td>\n",
       "      <td>2</td>\n",
       "      <td>16</td>\n",
       "      <td>1</td>\n",
       "      <td>160060</td>\n",
       "      <td>2</td>\n",
       "      <td>20191002</td>\n",
       "    </tr>\n",
       "    <tr>\n",
       "      <th>2</th>\n",
       "      <td>2</td>\n",
       "      <td>B571</td>\n",
       "      <td>20190307</td>\n",
       "      <td>201910</td>\n",
       "      <td>2019</td>\n",
       "      <td>16</td>\n",
       "      <td>160030</td>\n",
       "      <td></td>\n",
       "      <td>2022192</td>\n",
       "      <td>20190228</td>\n",
       "      <td>...</td>\n",
       "      <td></td>\n",
       "      <td>5</td>\n",
       "      <td></td>\n",
       "      <td>2</td>\n",
       "      <td>1</td>\n",
       "      <td>16</td>\n",
       "      <td>1</td>\n",
       "      <td>160030</td>\n",
       "      <td></td>\n",
       "      <td>20190325</td>\n",
       "    </tr>\n",
       "    <tr>\n",
       "      <th>3</th>\n",
       "      <td>2</td>\n",
       "      <td>B571</td>\n",
       "      <td>20191022</td>\n",
       "      <td>201943</td>\n",
       "      <td>2019</td>\n",
       "      <td>16</td>\n",
       "      <td>160030</td>\n",
       "      <td></td>\n",
       "      <td>2020653</td>\n",
       "      <td>20190909</td>\n",
       "      <td>...</td>\n",
       "      <td></td>\n",
       "      <td>5</td>\n",
       "      <td></td>\n",
       "      <td>2</td>\n",
       "      <td>1</td>\n",
       "      <td>16</td>\n",
       "      <td>1</td>\n",
       "      <td>160030</td>\n",
       "      <td>2</td>\n",
       "      <td>20191107</td>\n",
       "    </tr>\n",
       "    <tr>\n",
       "      <th>4</th>\n",
       "      <td>2</td>\n",
       "      <td>B571</td>\n",
       "      <td>20190910</td>\n",
       "      <td>201937</td>\n",
       "      <td>2019</td>\n",
       "      <td>16</td>\n",
       "      <td>160060</td>\n",
       "      <td></td>\n",
       "      <td>2020971</td>\n",
       "      <td>20190828</td>\n",
       "      <td>...</td>\n",
       "      <td></td>\n",
       "      <td>5</td>\n",
       "      <td></td>\n",
       "      <td>2</td>\n",
       "      <td>1</td>\n",
       "      <td>16</td>\n",
       "      <td>1</td>\n",
       "      <td>160060</td>\n",
       "      <td>2</td>\n",
       "      <td>20191108</td>\n",
       "    </tr>\n",
       "    <tr>\n",
       "      <th>...</th>\n",
       "      <td>...</td>\n",
       "      <td>...</td>\n",
       "      <td>...</td>\n",
       "      <td>...</td>\n",
       "      <td>...</td>\n",
       "      <td>...</td>\n",
       "      <td>...</td>\n",
       "      <td>...</td>\n",
       "      <td>...</td>\n",
       "      <td>...</td>\n",
       "      <td>...</td>\n",
       "      <td>...</td>\n",
       "      <td>...</td>\n",
       "      <td>...</td>\n",
       "      <td>...</td>\n",
       "      <td>...</td>\n",
       "      <td>...</td>\n",
       "      <td>...</td>\n",
       "      <td>...</td>\n",
       "      <td>...</td>\n",
       "      <td>...</td>\n",
       "    </tr>\n",
       "    <tr>\n",
       "      <th>4477</th>\n",
       "      <td>2</td>\n",
       "      <td>B571</td>\n",
       "      <td>20190905</td>\n",
       "      <td>201936</td>\n",
       "      <td>2019</td>\n",
       "      <td>26</td>\n",
       "      <td>260120</td>\n",
       "      <td>1501</td>\n",
       "      <td>5740592</td>\n",
       "      <td>20190904</td>\n",
       "      <td>...</td>\n",
       "      <td></td>\n",
       "      <td></td>\n",
       "      <td></td>\n",
       "      <td></td>\n",
       "      <td></td>\n",
       "      <td></td>\n",
       "      <td>0</td>\n",
       "      <td></td>\n",
       "      <td></td>\n",
       "      <td>20191022</td>\n",
       "    </tr>\n",
       "    <tr>\n",
       "      <th>4478</th>\n",
       "      <td>2</td>\n",
       "      <td>B571</td>\n",
       "      <td>20190926</td>\n",
       "      <td>201939</td>\n",
       "      <td>2019</td>\n",
       "      <td>26</td>\n",
       "      <td>261390</td>\n",
       "      <td>1506</td>\n",
       "      <td>2348489</td>\n",
       "      <td>20190826</td>\n",
       "      <td>...</td>\n",
       "      <td></td>\n",
       "      <td>2</td>\n",
       "      <td></td>\n",
       "      <td>2</td>\n",
       "      <td>1</td>\n",
       "      <td>26</td>\n",
       "      <td>1</td>\n",
       "      <td>261390</td>\n",
       "      <td>2</td>\n",
       "      <td>20191008</td>\n",
       "    </tr>\n",
       "    <tr>\n",
       "      <th>4479</th>\n",
       "      <td>2</td>\n",
       "      <td>B571</td>\n",
       "      <td>20190117</td>\n",
       "      <td>201903</td>\n",
       "      <td>2019</td>\n",
       "      <td>26</td>\n",
       "      <td>260120</td>\n",
       "      <td>1501</td>\n",
       "      <td>2711443</td>\n",
       "      <td>20190105</td>\n",
       "      <td>...</td>\n",
       "      <td></td>\n",
       "      <td></td>\n",
       "      <td></td>\n",
       "      <td></td>\n",
       "      <td></td>\n",
       "      <td></td>\n",
       "      <td>0</td>\n",
       "      <td></td>\n",
       "      <td></td>\n",
       "      <td>20190212</td>\n",
       "    </tr>\n",
       "    <tr>\n",
       "      <th>4480</th>\n",
       "      <td>2</td>\n",
       "      <td>B571</td>\n",
       "      <td>20190703</td>\n",
       "      <td>201927</td>\n",
       "      <td>2019</td>\n",
       "      <td>26</td>\n",
       "      <td>260820</td>\n",
       "      <td>1498</td>\n",
       "      <td>5276403</td>\n",
       "      <td>20190703</td>\n",
       "      <td>...</td>\n",
       "      <td></td>\n",
       "      <td></td>\n",
       "      <td></td>\n",
       "      <td></td>\n",
       "      <td></td>\n",
       "      <td></td>\n",
       "      <td>0</td>\n",
       "      <td></td>\n",
       "      <td></td>\n",
       "      <td>20190903</td>\n",
       "    </tr>\n",
       "    <tr>\n",
       "      <th>4481</th>\n",
       "      <td>2</td>\n",
       "      <td>B571</td>\n",
       "      <td>20191108</td>\n",
       "      <td>201945</td>\n",
       "      <td>2019</td>\n",
       "      <td>26</td>\n",
       "      <td>261220</td>\n",
       "      <td>1502</td>\n",
       "      <td>5844916</td>\n",
       "      <td>20190804</td>\n",
       "      <td>...</td>\n",
       "      <td></td>\n",
       "      <td></td>\n",
       "      <td></td>\n",
       "      <td></td>\n",
       "      <td></td>\n",
       "      <td></td>\n",
       "      <td>0</td>\n",
       "      <td></td>\n",
       "      <td></td>\n",
       "      <td>20200124</td>\n",
       "    </tr>\n",
       "  </tbody>\n",
       "</table>\n",
       "<p>4482 rows × 99 columns</p>\n",
       "</div>"
      ],
      "text/plain": [
       "     TP_NOT ID_AGRAVO DT_NOTIFIC SEM_NOT NU_ANO SG_UF_NOT ID_MUNICIP  \\\n",
       "0         2      B571   20190410  201915   2019        16     160030   \n",
       "1         2      B571   20190916  201938   2019        16     160030   \n",
       "2         2      B571   20190307  201910   2019        16     160030   \n",
       "3         2      B571   20191022  201943   2019        16     160030   \n",
       "4         2      B571   20190910  201937   2019        16     160060   \n",
       "...     ...       ...        ...     ...    ...       ...        ...   \n",
       "4477      2      B571   20190905  201936   2019        26     260120   \n",
       "4478      2      B571   20190926  201939   2019        26     261390   \n",
       "4479      2      B571   20190117  201903   2019        26     260120   \n",
       "4480      2      B571   20190703  201927   2019        26     260820   \n",
       "4481      2      B571   20191108  201945   2019        26     261220   \n",
       "\n",
       "     ID_REGIONA ID_UNIDADE DT_SIN_PRI  ...  DT_OBITO CON_PROVAV  \\\n",
       "0                  2019639   20190301  ...                    5   \n",
       "1                  2022192   20190818  ...                    5   \n",
       "2                  2022192   20190228  ...                    5   \n",
       "3                  2020653   20190909  ...                    5   \n",
       "4                  2020971   20190828  ...                    5   \n",
       "...         ...        ...        ...  ...       ...        ...   \n",
       "4477   1501        5740592   20190904  ...                        \n",
       "4478   1506        2348489   20190826  ...                    2   \n",
       "4479   1501        2711443   20190105  ...                        \n",
       "4480   1498        5276403   20190703  ...                        \n",
       "4481   1502        5844916   20190804  ...                        \n",
       "\n",
       "                           CON_OUTRA CON_LOCAL TPAUTOCTO COUFINF COPAISINF  \\\n",
       "0                                            2         1      16      1      \n",
       "1                                            2         2      16      1      \n",
       "2                                            2         1      16      1      \n",
       "3                                            2         1      16      1      \n",
       "4                                            2         1      16      1      \n",
       "...                              ...       ...       ...     ...       ...   \n",
       "4477                                                                  0      \n",
       "4478                                         2         1      26      1      \n",
       "4479                                                                  0      \n",
       "4480                                                                  0      \n",
       "4481                                                                  0      \n",
       "\n",
       "     COMUNINF DOENCA_TRA DT_ENCERRA  \n",
       "0      160030          2   20190513  \n",
       "1      160060          2   20191002  \n",
       "2      160030              20190325  \n",
       "3      160030          2   20191107  \n",
       "4      160060          2   20191108  \n",
       "...       ...        ...        ...  \n",
       "4477                       20191022  \n",
       "4478   261390          2   20191008  \n",
       "4479                       20190212  \n",
       "4480                       20190903  \n",
       "4481                       20200124  \n",
       "\n",
       "[4482 rows x 99 columns]"
      ]
     },
     "execution_count": 7,
     "metadata": {},
     "output_type": "execute_result"
    }
   ],
   "source": [
    "# Converting bytes to strings\n",
    "df = df.applymap(lambda x: x.decode() if isinstance(x, bytes) else x)\n",
    "df"
   ]
  },
  {
   "cell_type": "markdown",
   "metadata": {
    "collapsed": false,
    "pycharm": {
     "name": "#%% md\n"
    }
   },
   "source": [
    "## Downloading large files\n",
    "Some SINAN files can be quite large to load entirely in memory. Therefore we have the possibility to download them in chunks."
   ]
  },
  {
   "cell_type": "code",
   "execution_count": null,
   "metadata": {
    "collapsed": false,
    "pycharm": {
     "name": "#%%\n"
    }
   },
   "outputs": [],
   "source": [
    "from glob import glob"
   ]
  },
  {
   "cell_type": "code",
   "execution_count": null,
   "metadata": {
    "collapsed": false,
    "pycharm": {
     "name": "#%%\n"
    }
   },
   "outputs": [],
   "source": [
    "fn = SINAN.download(2020, \"dengue\", return_fname=True)\n",
    "fn"
   ]
  },
  {
   "cell_type": "markdown",
   "metadata": {
    "collapsed": false,
    "pycharm": {
     "name": "#%% md\n"
    }
   },
   "source": [
    "The cases of dengue where downloaded to multiple chunks to the directory above"
   ]
  },
  {
   "cell_type": "code",
   "execution_count": null,
   "metadata": {
    "collapsed": false,
    "pycharm": {
     "name": "#%%\n"
    }
   },
   "outputs": [],
   "source": [
    "!ls DENGBR20.parquet"
   ]
  },
  {
   "cell_type": "markdown",
   "metadata": {
    "collapsed": false,
    "pycharm": {
     "name": "#%% md\n"
    }
   },
   "source": [
    "Before we decide what to do with the data files, we can check the total size of the chunks:"
   ]
  },
  {
   "cell_type": "code",
   "execution_count": null,
   "metadata": {
    "collapsed": false,
    "pycharm": {
     "name": "#%%\n"
    }
   },
   "outputs": [],
   "source": [
    "!du -h DENGBR20.parquet"
   ]
  },
  {
   "cell_type": "markdown",
   "metadata": {
    "collapsed": false,
    "pycharm": {
     "name": "#%% md\n"
    }
   },
   "source": [
    "Since they are \"only\" 43MB, we can read them all and reassemble them in memory:"
   ]
  },
  {
   "cell_type": "code",
   "execution_count": null,
   "metadata": {
    "collapsed": false,
    "pycharm": {
     "name": "#%%\n"
    }
   },
   "outputs": [],
   "source": [
    "for i, f in enumerate(glob(f\"{fn}/*.parquet\")):\n",
    "    if i == 0:\n",
    "        df2 = pd.read_parquet(f)\n",
    "    else:\n",
    "        df2 = pd.concat([df2, pd.read_parquet(f)], ignore_index=True)\n",
    "df2"
   ]
  },
  {
   "cell_type": "markdown",
   "metadata": {
    "collapsed": false,
    "pycharm": {
     "name": "#%% md\n"
    }
   },
   "source": [
    "Let's now download the entire file and check the two dataframes have the same number of lines:"
   ]
  },
  {
   "cell_type": "code",
   "execution_count": null,
   "metadata": {
    "collapsed": false,
    "pycharm": {
     "name": "#%%\n"
    }
   },
   "outputs": [],
   "source": [
    "df3 = SINAN.download(2020, \"dengue\")\n",
    "len(df3)"
   ]
  },
  {
   "cell_type": "markdown",
   "metadata": {
    "collapsed": false,
    "pycharm": {
     "name": "#%% md\n"
    }
   },
   "source": [
    "## Decoding the age in SINAN tables\n",
    "In SINAN the age comes encoded. PySUS can decode the age column `NU_IDADE_N` into any of these units: years, months, days, or hours."
   ]
  },
  {
   "cell_type": "code",
   "execution_count": 18,
   "metadata": {
    "ExecuteTime": {
     "end_time": "2022-09-05T17:36:49.060524Z",
     "start_time": "2022-09-05T17:36:49.055036Z"
    },
    "pycharm": {
     "name": "#%%\n"
    }
   },
   "outputs": [],
   "source": [
    "from glob import glob"
   ]
  },
  {
   "cell_type": "code",
   "execution_count": 13,
   "metadata": {
    "ExecuteTime": {
     "end_time": "2022-09-05T17:31:12.294742Z",
     "start_time": "2022-09-05T17:25:18.540600Z"
    },
    "pycharm": {
     "name": "#%%\n"
    }
   },
   "outputs": [
    {
     "name": "stderr",
     "output_type": "stream",
     "text": [
      "/usr/local/lib/python3.10/dist-packages/pysus/online_data/SINAN.py:62: UserWarning: Now SINAN tables are no longer split by state. Returning countrywide years\n",
      "  warnings.warn(\"Now SINAN tables are no longer split by state. Returning countrywide years\")\n",
      "/usr/local/lib/python3.10/dist-packages/pysus/online_data/SINAN.py:92: UserWarning: Now SINAN tables are no longer split by state. Returning country table\n",
      "  warnings.warn(\"Now SINAN tables are no longer split by state. Returning country table\")\n"
     ]
    },
    {
     "data": {
      "text/plain": [
       "'DENGBR20.parquet'"
      ]
     },
     "execution_count": 13,
     "metadata": {},
     "output_type": "execute_result"
    }
   ],
   "source": [
    "fn = SINAN.download(2020, \"dengue\", return_fname=True)\n",
    "fn"
   ]
  },
  {
   "cell_type": "markdown",
   "metadata": {
    "pycharm": {
     "name": "#%% md\n"
    }
   },
   "source": [
    "The cases of dengue where downloaded to multiple chunks to the directory above"
   ]
  },
  {
   "cell_type": "code",
   "execution_count": 20,
   "metadata": {
    "ExecuteTime": {
     "end_time": "2022-09-05T17:51:26.742341Z",
     "start_time": "2022-09-05T17:51:26.443784Z"
    },
    "pycharm": {
     "name": "#%%\n"
    }
   },
   "outputs": [
    {
     "name": "stdout",
     "output_type": "stream",
     "text": [
      "10eaf436512c4457b81f41f3ef7e0d17-0.parquet\r\n",
      "15fffb988b004f8aaefff3f57204b481-0.parquet\r\n",
      "1c68e3bd37494fe9ae15a9259930c4ce-0.parquet\r\n",
      "1dbc898aa8d541319894317bdea20ad6-0.parquet\r\n",
      "1e87ebb0240c4d4ea00d22073ac8e1ce-0.parquet\r\n",
      "282643b3660d4ed7a482167fedd153a9-0.parquet\r\n",
      "37bf184e407a485382b3a67efc689808-0.parquet\r\n",
      "3e4696b3d3304f9eaf963982286a6f96-0.parquet\r\n",
      "4981463bedc14be2a33a862225ebd6f8-0.parquet\r\n",
      "501d55e5538940f393f2029eba973229-0.parquet\r\n",
      "506ebd30aef043369cc73fe07ccd0a3e-0.parquet\r\n",
      "55a011228fd54bf09ec6abb1ef685c68-0.parquet\r\n",
      "59355ebbd0b94119ba30595642f82514-0.parquet\r\n",
      "5cf8315a02ff437ab2c09d3ac74c947a-0.parquet\r\n",
      "65ee8571b9934404bcb4133b74f9ec98-0.parquet\r\n",
      "706366c47e9341bba42bc5be1d6ac5ad-0.parquet\r\n",
      "71535dd82c974e3fb2cc8fc3c96618c4-0.parquet\r\n",
      "721b4cacae444630bd8ab98091d5a1b5-0.parquet\r\n",
      "72ccaa21d4f7435e87c90e0fa330011d-0.parquet\r\n",
      "818e4bf7a04b4e6ca5a6ab2972a3c8ef-0.parquet\r\n",
      "83ad8441a7004c1c9dce70229dc08bb3-0.parquet\r\n",
      "85cb7f02b5664fe38685c0dab5de80f1-0.parquet\r\n",
      "93b8697c0b734d0fa47240d3a93248f9-0.parquet\r\n",
      "968ff3b020f64e179185db27e566d90f-0.parquet\r\n",
      "96e0e729d3d44087890acbc939514b94-0.parquet\r\n",
      "a1860c0fe6c14db6b8e66483b2c4c764-0.parquet\r\n",
      "a200663ed7d14ba7b2c131e49a3121af-0.parquet\r\n",
      "a3085cf13868419e9fa57a7e55168181-0.parquet\r\n",
      "a308ecdf6e5842d2b9a062c87b9d801a-0.parquet\r\n",
      "a72be243773d4f6dac928d65c52c2c25-0.parquet\r\n",
      "af01bcbc90d44ffca45d530a00dbf978-0.parquet\r\n",
      "af6f3e7840114db88f5207c46f3b3ed8-0.parquet\r\n",
      "b101f8332d554e3092087ae7f75d9d47-0.parquet\r\n",
      "b7ba791eb5474ac4b1af1469badb8f9b-0.parquet\r\n",
      "c88dcd8cd0c848a587ba6a3ffe849a79-0.parquet\r\n",
      "d901d6abfb8f49f188ef696e47083b47-0.parquet\r\n",
      "da81d099d2494b359be1f4b21e4a012b-0.parquet\r\n",
      "dc866e7166e244648f10616c9fd15d7e-0.parquet\r\n",
      "e312fbc2e8024ffa8afd65d120ccca1d-0.parquet\r\n",
      "e41ee22209fb41439441a0931f5dc427-0.parquet\r\n",
      "e55b019cf3af43d7943baa5cc5f15c52-0.parquet\r\n",
      "e8e5e9bd683a4e618d58a42fcae9293b-0.parquet\r\n",
      "ea30516b232e40659d6c9fecaea55e45-0.parquet\r\n",
      "eadf052e57184282b7723ac965f12d06-0.parquet\r\n",
      "ec522c3bb5ff48d19da6f75a996249fc-0.parquet\r\n",
      "eeb002779e4442b2b8242ea0090539ab-0.parquet\r\n",
      "f1d8dd2ecfa94acaa4e5fdb70cac47ac-0.parquet\r\n",
      "f8bcfff059ad4f9d9c9ac8f7991c5e6d-0.parquet\r\n",
      "fc2060dd723843cb958b55e87ac53488-0.parquet\r\n",
      "feade9c9039446edb243d2747a398fcb-0.parquet\r\n"
     ]
    }
   ],
   "source": [
    "!ls DENGBR20.parquet"
   ]
  },
  {
   "cell_type": "markdown",
   "metadata": {
    "pycharm": {
     "name": "#%% md\n"
    }
   },
   "source": [
    "Before we decide what to do with the data files, we can check the total size of the chunks:"
   ]
  },
  {
   "cell_type": "code",
   "execution_count": 16,
   "metadata": {
    "ExecuteTime": {
     "end_time": "2022-09-05T17:35:08.768309Z",
     "start_time": "2022-09-05T17:35:08.542596Z"
    },
    "pycharm": {
     "name": "#%%\n"
    }
   },
   "outputs": [
    {
     "name": "stdout",
     "output_type": "stream",
     "text": [
      "43M\tDENGBR20.parquet\r\n"
     ]
    }
   ],
   "source": [
    "!du -h DENGBR20.parquet"
   ]
  },
  {
   "cell_type": "markdown",
   "metadata": {
    "pycharm": {
     "name": "#%% md\n"
    }
   },
   "source": [
    "Since they are \"only\" 43MB, we can read them all and reassemble them in memory:"
   ]
  },
  {
   "cell_type": "code",
   "execution_count": 19,
   "metadata": {
    "ExecuteTime": {
     "end_time": "2022-09-05T17:38:01.818095Z",
     "start_time": "2022-09-05T17:36:54.877226Z"
    },
    "pycharm": {
     "name": "#%%\n"
    },
    "scrolled": true
   },
   "outputs": [
    {
     "data": {
      "text/html": [
       "<div>\n",
       "<style scoped>\n",
       "    .dataframe tbody tr th:only-of-type {\n",
       "        vertical-align: middle;\n",
       "    }\n",
       "\n",
       "    .dataframe tbody tr th {\n",
       "        vertical-align: top;\n",
       "    }\n",
       "\n",
       "    .dataframe thead th {\n",
       "        text-align: right;\n",
       "    }\n",
       "</style>\n",
       "<table border=\"1\" class=\"dataframe\">\n",
       "  <thead>\n",
       "    <tr style=\"text-align: right;\">\n",
       "      <th></th>\n",
       "      <th>TP_NOT</th>\n",
       "      <th>ID_AGRAVO</th>\n",
       "      <th>DT_NOTIFIC</th>\n",
       "      <th>SEM_NOT</th>\n",
       "      <th>NU_ANO</th>\n",
       "      <th>SG_UF_NOT</th>\n",
       "      <th>ID_MUNICIP</th>\n",
       "      <th>ID_REGIONA</th>\n",
       "      <th>ID_UNIDADE</th>\n",
       "      <th>DT_SIN_PRI</th>\n",
       "      <th>...</th>\n",
       "      <th>LACO_N</th>\n",
       "      <th>PLASMATICO</th>\n",
       "      <th>EVIDENCIA</th>\n",
       "      <th>PLAQ_MENOR</th>\n",
       "      <th>CON_FHD</th>\n",
       "      <th>COMPLICA</th>\n",
       "      <th>TP_SISTEMA</th>\n",
       "      <th>NDUPLIC_N</th>\n",
       "      <th>CS_FLXRET</th>\n",
       "      <th>FLXRECEBI</th>\n",
       "    </tr>\n",
       "  </thead>\n",
       "  <tbody>\n",
       "    <tr>\n",
       "      <th>0</th>\n",
       "      <td>2</td>\n",
       "      <td>A90</td>\n",
       "      <td>2020-06-03</td>\n",
       "      <td></td>\n",
       "      <td>2020</td>\n",
       "      <td>50</td>\n",
       "      <td>500660</td>\n",
       "      <td>1972</td>\n",
       "      <td>5870178</td>\n",
       "      <td>2020-06-01</td>\n",
       "      <td>...</td>\n",
       "      <td></td>\n",
       "      <td></td>\n",
       "      <td></td>\n",
       "      <td></td>\n",
       "      <td></td>\n",
       "      <td></td>\n",
       "      <td>2</td>\n",
       "      <td></td>\n",
       "      <td>0</td>\n",
       "      <td></td>\n",
       "    </tr>\n",
       "    <tr>\n",
       "      <th>1</th>\n",
       "      <td>2</td>\n",
       "      <td>A90</td>\n",
       "      <td>2020-04-02</td>\n",
       "      <td></td>\n",
       "      <td>2020</td>\n",
       "      <td>50</td>\n",
       "      <td>500660</td>\n",
       "      <td>1972</td>\n",
       "      <td>2651610</td>\n",
       "      <td>2020-03-31</td>\n",
       "      <td>...</td>\n",
       "      <td></td>\n",
       "      <td></td>\n",
       "      <td></td>\n",
       "      <td></td>\n",
       "      <td></td>\n",
       "      <td></td>\n",
       "      <td>2</td>\n",
       "      <td></td>\n",
       "      <td>0</td>\n",
       "      <td></td>\n",
       "    </tr>\n",
       "    <tr>\n",
       "      <th>2</th>\n",
       "      <td>2</td>\n",
       "      <td>A90</td>\n",
       "      <td>2020-05-31</td>\n",
       "      <td></td>\n",
       "      <td>2020</td>\n",
       "      <td>50</td>\n",
       "      <td>500660</td>\n",
       "      <td>1972</td>\n",
       "      <td>2651610</td>\n",
       "      <td>2020-05-30</td>\n",
       "      <td>...</td>\n",
       "      <td></td>\n",
       "      <td></td>\n",
       "      <td></td>\n",
       "      <td></td>\n",
       "      <td></td>\n",
       "      <td></td>\n",
       "      <td>2</td>\n",
       "      <td></td>\n",
       "      <td>0</td>\n",
       "      <td></td>\n",
       "    </tr>\n",
       "    <tr>\n",
       "      <th>3</th>\n",
       "      <td>2</td>\n",
       "      <td>A90</td>\n",
       "      <td>2020-09-05</td>\n",
       "      <td></td>\n",
       "      <td>2020</td>\n",
       "      <td>50</td>\n",
       "      <td>500660</td>\n",
       "      <td>1972</td>\n",
       "      <td>2651610</td>\n",
       "      <td>2020-08-29</td>\n",
       "      <td>...</td>\n",
       "      <td></td>\n",
       "      <td></td>\n",
       "      <td></td>\n",
       "      <td></td>\n",
       "      <td></td>\n",
       "      <td></td>\n",
       "      <td>2</td>\n",
       "      <td></td>\n",
       "      <td>0</td>\n",
       "      <td></td>\n",
       "    </tr>\n",
       "    <tr>\n",
       "      <th>4</th>\n",
       "      <td>2</td>\n",
       "      <td>A90</td>\n",
       "      <td>2020-04-25</td>\n",
       "      <td></td>\n",
       "      <td>2020</td>\n",
       "      <td>50</td>\n",
       "      <td>500660</td>\n",
       "      <td>1972</td>\n",
       "      <td>5870178</td>\n",
       "      <td>2020-04-24</td>\n",
       "      <td>...</td>\n",
       "      <td></td>\n",
       "      <td></td>\n",
       "      <td></td>\n",
       "      <td></td>\n",
       "      <td></td>\n",
       "      <td></td>\n",
       "      <td>2</td>\n",
       "      <td></td>\n",
       "      <td>0</td>\n",
       "      <td></td>\n",
       "    </tr>\n",
       "    <tr>\n",
       "      <th>...</th>\n",
       "      <td>...</td>\n",
       "      <td>...</td>\n",
       "      <td>...</td>\n",
       "      <td>...</td>\n",
       "      <td>...</td>\n",
       "      <td>...</td>\n",
       "      <td>...</td>\n",
       "      <td>...</td>\n",
       "      <td>...</td>\n",
       "      <td>...</td>\n",
       "      <td>...</td>\n",
       "      <td>...</td>\n",
       "      <td>...</td>\n",
       "      <td>...</td>\n",
       "      <td>...</td>\n",
       "      <td>...</td>\n",
       "      <td>...</td>\n",
       "      <td>...</td>\n",
       "      <td>...</td>\n",
       "      <td>...</td>\n",
       "      <td>...</td>\n",
       "    </tr>\n",
       "    <tr>\n",
       "      <th>1495112</th>\n",
       "      <td>2</td>\n",
       "      <td>A90</td>\n",
       "      <td>2020-01-28</td>\n",
       "      <td></td>\n",
       "      <td>2020</td>\n",
       "      <td>32</td>\n",
       "      <td>320530</td>\n",
       "      <td>1510</td>\n",
       "      <td>2675110</td>\n",
       "      <td>2020-01-27</td>\n",
       "      <td>...</td>\n",
       "      <td></td>\n",
       "      <td></td>\n",
       "      <td></td>\n",
       "      <td></td>\n",
       "      <td></td>\n",
       "      <td></td>\n",
       "      <td>2</td>\n",
       "      <td></td>\n",
       "      <td>0</td>\n",
       "      <td></td>\n",
       "    </tr>\n",
       "    <tr>\n",
       "      <th>1495113</th>\n",
       "      <td>2</td>\n",
       "      <td>A90</td>\n",
       "      <td>2020-02-20</td>\n",
       "      <td></td>\n",
       "      <td>2020</td>\n",
       "      <td>32</td>\n",
       "      <td>320530</td>\n",
       "      <td>1510</td>\n",
       "      <td>0012173</td>\n",
       "      <td>2020-02-18</td>\n",
       "      <td>...</td>\n",
       "      <td></td>\n",
       "      <td></td>\n",
       "      <td></td>\n",
       "      <td></td>\n",
       "      <td></td>\n",
       "      <td></td>\n",
       "      <td>2</td>\n",
       "      <td></td>\n",
       "      <td>0</td>\n",
       "      <td></td>\n",
       "    </tr>\n",
       "    <tr>\n",
       "      <th>1495114</th>\n",
       "      <td>2</td>\n",
       "      <td>A90</td>\n",
       "      <td>2020-03-02</td>\n",
       "      <td></td>\n",
       "      <td>2020</td>\n",
       "      <td>32</td>\n",
       "      <td>320530</td>\n",
       "      <td>1510</td>\n",
       "      <td>0012173</td>\n",
       "      <td>2020-02-23</td>\n",
       "      <td>...</td>\n",
       "      <td></td>\n",
       "      <td></td>\n",
       "      <td></td>\n",
       "      <td></td>\n",
       "      <td></td>\n",
       "      <td></td>\n",
       "      <td>2</td>\n",
       "      <td></td>\n",
       "      <td>0</td>\n",
       "      <td></td>\n",
       "    </tr>\n",
       "    <tr>\n",
       "      <th>1495115</th>\n",
       "      <td>2</td>\n",
       "      <td>A90</td>\n",
       "      <td>2020-02-17</td>\n",
       "      <td></td>\n",
       "      <td>2020</td>\n",
       "      <td>32</td>\n",
       "      <td>320530</td>\n",
       "      <td>1510</td>\n",
       "      <td>0028177</td>\n",
       "      <td>2020-02-05</td>\n",
       "      <td>...</td>\n",
       "      <td></td>\n",
       "      <td></td>\n",
       "      <td></td>\n",
       "      <td></td>\n",
       "      <td></td>\n",
       "      <td></td>\n",
       "      <td>2</td>\n",
       "      <td></td>\n",
       "      <td>0</td>\n",
       "      <td></td>\n",
       "    </tr>\n",
       "    <tr>\n",
       "      <th>1495116</th>\n",
       "      <td>2</td>\n",
       "      <td>A90</td>\n",
       "      <td>2020-03-04</td>\n",
       "      <td></td>\n",
       "      <td>2020</td>\n",
       "      <td>32</td>\n",
       "      <td>320530</td>\n",
       "      <td>1510</td>\n",
       "      <td>0012173</td>\n",
       "      <td>2020-01-31</td>\n",
       "      <td>...</td>\n",
       "      <td></td>\n",
       "      <td></td>\n",
       "      <td></td>\n",
       "      <td></td>\n",
       "      <td></td>\n",
       "      <td></td>\n",
       "      <td>2</td>\n",
       "      <td></td>\n",
       "      <td>0</td>\n",
       "      <td></td>\n",
       "    </tr>\n",
       "  </tbody>\n",
       "</table>\n",
       "<p>1495117 rows × 119 columns</p>\n",
       "</div>"
      ],
      "text/plain": [
       "        TP_NOT ID_AGRAVO  DT_NOTIFIC SEM_NOT NU_ANO SG_UF_NOT ID_MUNICIP  \\\n",
       "0            2       A90  2020-06-03           2020        50     500660   \n",
       "1            2       A90  2020-04-02           2020        50     500660   \n",
       "2            2       A90  2020-05-31           2020        50     500660   \n",
       "3            2       A90  2020-09-05           2020        50     500660   \n",
       "4            2       A90  2020-04-25           2020        50     500660   \n",
       "...        ...       ...         ...     ...    ...       ...        ...   \n",
       "1495112      2       A90  2020-01-28           2020        32     320530   \n",
       "1495113      2       A90  2020-02-20           2020        32     320530   \n",
       "1495114      2       A90  2020-03-02           2020        32     320530   \n",
       "1495115      2       A90  2020-02-17           2020        32     320530   \n",
       "1495116      2       A90  2020-03-04           2020        32     320530   \n",
       "\n",
       "        ID_REGIONA ID_UNIDADE  DT_SIN_PRI  ... LACO_N PLASMATICO  EVIDENCIA  \\\n",
       "0             1972    5870178  2020-06-01  ...                                \n",
       "1             1972    2651610  2020-03-31  ...                                \n",
       "2             1972    2651610  2020-05-30  ...                                \n",
       "3             1972    2651610  2020-08-29  ...                                \n",
       "4             1972    5870178  2020-04-24  ...                                \n",
       "...            ...        ...         ...  ...    ...        ...        ...   \n",
       "1495112       1510    2675110  2020-01-27  ...                                \n",
       "1495113       1510    0012173  2020-02-18  ...                                \n",
       "1495114       1510    0012173  2020-02-23  ...                                \n",
       "1495115       1510    0028177  2020-02-05  ...                                \n",
       "1495116       1510    0012173  2020-01-31  ...                                \n",
       "\n",
       "        PLAQ_MENOR CON_FHD COMPLICA TP_SISTEMA NDUPLIC_N CS_FLXRET FLXRECEBI  \n",
       "0                                            2                   0            \n",
       "1                                            2                   0            \n",
       "2                                            2                   0            \n",
       "3                                            2                   0            \n",
       "4                                            2                   0            \n",
       "...            ...     ...      ...        ...       ...       ...       ...  \n",
       "1495112                                      2                   0            \n",
       "1495113                                      2                   0            \n",
       "1495114                                      2                   0            \n",
       "1495115                                      2                   0            \n",
       "1495116                                      2                   0            \n",
       "\n",
       "[1495117 rows x 119 columns]"
      ]
     },
     "execution_count": 19,
     "metadata": {},
     "output_type": "execute_result"
    }
   ],
   "source": [
    "for i, f in enumerate(glob(f\"{fn}/*.parquet\")):\n",
    "    if i == 0:\n",
    "        df2 = pd.read_parquet(f)\n",
    "    else:\n",
    "        df2 = pd.concat([df2, pd.read_parquet(f)], ignore_index=True)\n",
    "df2"
   ]
  },
  {
   "cell_type": "markdown",
   "metadata": {
    "pycharm": {
     "name": "#%% md\n"
    }
   },
   "source": [
    "Let's now download the entire file and check the two dataframes have the same number of lines:"
   ]
  },
  {
   "cell_type": "code",
   "execution_count": 21,
   "metadata": {
    "ExecuteTime": {
     "end_time": "2022-09-05T18:01:12.220731Z",
     "start_time": "2022-09-05T17:54:08.521800Z"
    },
    "pycharm": {
     "name": "#%%\n"
    }
   },
   "outputs": [
    {
     "name": "stderr",
     "output_type": "stream",
     "text": [
      "/usr/local/lib/python3.10/dist-packages/pysus/online_data/SINAN.py:62: UserWarning: Now SINAN tables are no longer split by state. Returning countrywide years\n",
      "  warnings.warn(\"Now SINAN tables are no longer split by state. Returning countrywide years\")\n",
      "/usr/local/lib/python3.10/dist-packages/pysus/online_data/SINAN.py:92: UserWarning: Now SINAN tables are no longer split by state. Returning country table\n",
      "  warnings.warn(\"Now SINAN tables are no longer split by state. Returning country table\")\n"
     ]
    },
    {
     "data": {
      "text/plain": [
       "1495117"
      ]
     },
     "execution_count": 21,
     "metadata": {},
     "output_type": "execute_result"
    }
   ],
   "source": [
    "df3 = SINAN.download(2020, \"dengue\")\n",
    "len(df3)"
   ]
  },
  {
   "cell_type": "markdown",
   "metadata": {
    "pycharm": {
     "name": "#%% md\n"
    }
   },
   "source": [
    "## Decoding the age in SINAN tables\n",
    "In SINAN the age comes encoded. PySUS can decode the age column `NU_IDADE_N` into any of these units: years, months, days, or hours."
   ]
  },
  {
   "cell_type": "code",
   "execution_count": 8,
   "metadata": {
    "ExecuteTime": {
     "end_time": "2022-09-05T17:21:42.746132Z",
     "start_time": "2022-09-05T17:21:42.660877Z"
    },
    "pycharm": {
     "name": "#%%\n"
    }
   },
   "outputs": [],
   "source": [
    "from pysus.preprocessing.decoders import decodifica_idade_SINAN\n",
    "decodifica_idade_SINAN?"
   ]
  },
  {
   "cell_type": "markdown",
   "metadata": {
    "pycharm": {
     "name": "#%% md\n"
    }
   },
   "source": [
    "We can easily convert dates and numerical fields in the dataframe:"
   ]
  },
  {
   "cell_type": "code",
   "execution_count": 9,
   "metadata": {
    "ExecuteTime": {
     "end_time": "2022-09-05T17:21:57.041703Z",
     "start_time": "2022-09-05T17:21:56.805000Z"
    },
    "pycharm": {
     "name": "#%%\n"
    }
   },
   "outputs": [
    {
     "name": "stdout",
     "output_type": "stream",
     "text": [
      "<class 'pandas.core.frame.DataFrame'>\n",
      "RangeIndex: 4482 entries, 0 to 4481\n",
      "Data columns (total 99 columns):\n",
      " #   Column      Non-Null Count  Dtype         \n",
      "---  ------      --------------  -----         \n",
      " 0   TP_NOT      4482 non-null   object        \n",
      " 1   ID_AGRAVO   4482 non-null   object        \n",
      " 2   DT_NOTIFIC  4482 non-null   datetime64[ns]\n",
      " 3   SEM_NOT     4482 non-null   object        \n",
      " 4   NU_ANO      4482 non-null   object        \n",
      " 5   SG_UF_NOT   4482 non-null   object        \n",
      " 6   ID_MUNICIP  4482 non-null   int64         \n",
      " 7   ID_REGIONA  4482 non-null   object        \n",
      " 8   ID_UNIDADE  4482 non-null   int64         \n",
      " 9   DT_SIN_PRI  4482 non-null   datetime64[ns]\n",
      " 10  SEM_PRI     4482 non-null   object        \n",
      " 11  DT_NASC     4447 non-null   datetime64[ns]\n",
      " 12  NU_IDADE_N  4482 non-null   object        \n",
      " 13  CS_SEXO     4482 non-null   object        \n",
      " 14  CS_GESTANT  4482 non-null   object        \n",
      " 15  CS_RACA     4482 non-null   object        \n",
      " 16  CS_ESCOL_N  4482 non-null   object        \n",
      " 17  SG_UF       4482 non-null   object        \n",
      " 18  ID_MN_RESI  4482 non-null   int64         \n",
      " 19  ID_RG_RESI  4482 non-null   object        \n",
      " 20  ID_PAIS     4482 non-null   int64         \n",
      " 21  NDUPLIC_N   4482 non-null   object        \n",
      " 22  DT_INVEST   4329 non-null   datetime64[ns]\n",
      " 23  ID_OCUPA_N  4482 non-null   object        \n",
      " 24  ANT_UF_1    4482 non-null   object        \n",
      " 25  MUN_1       4482 non-null   object        \n",
      " 26  ANT_UF_2    4482 non-null   object        \n",
      " 27  MUN_2       4482 non-null   object        \n",
      " 28  ANT_UF_3    4482 non-null   object        \n",
      " 29  MUN_3       4482 non-null   object        \n",
      " 30  PRESENCA    4482 non-null   object        \n",
      " 31  PARASITO    4482 non-null   object        \n",
      " 32  HISTORIA    4482 non-null   object        \n",
      " 33  CONTROLE    4482 non-null   object        \n",
      " 34  MANIPULA    4482 non-null   object        \n",
      " 35  MAECHAGA    4482 non-null   object        \n",
      " 36  ORAL        4482 non-null   object        \n",
      " 37  ASSINTOMA   4482 non-null   object        \n",
      " 38  EDEMA       4482 non-null   object        \n",
      " 39  MENINGOE    4482 non-null   object        \n",
      " 40  POLIADENO   4482 non-null   object        \n",
      " 41  FEBRE       4482 non-null   object        \n",
      " 42  HEPATOME    4482 non-null   object        \n",
      " 43  SINAIS_ICC  4482 non-null   object        \n",
      " 44  ARRITMIAS   4482 non-null   object        \n",
      " 45  ASTENIA     4482 non-null   object        \n",
      " 46  ESPLENOM    4482 non-null   object        \n",
      " 47  CHAGOMA     4482 non-null   object        \n",
      " 48  OUTRO_SIN   4482 non-null   object        \n",
      " 49  OUTRO_ESP   4482 non-null   object        \n",
      " 50  DT_COL_DIR  2693 non-null   datetime64[ns]\n",
      " 51  EXAME       4482 non-null   object        \n",
      " 52  MICRO_HEMA  4482 non-null   object        \n",
      " 53  OUTRO       4482 non-null   object        \n",
      " 54  DT_COL_IND  155 non-null    datetime64[ns]\n",
      " 55  XENODIAG    4482 non-null   object        \n",
      " 56  HEMOCULT    4482 non-null   object        \n",
      " 57  DT_COL_S1   3300 non-null   datetime64[ns]\n",
      " 58  DT_COL_S2   790 non-null    datetime64[ns]\n",
      " 59  ELI_IGM_S1  4482 non-null   object        \n",
      " 60  ELI_IGG_S1  4482 non-null   object        \n",
      " 61  ELI_IGM_S2  4482 non-null   object        \n",
      " 62  ELI_IGG_S2  4482 non-null   object        \n",
      " 63  HEM_IGM_S1  4482 non-null   object        \n",
      " 64  HEM_IGG_S1  4482 non-null   object        \n",
      " 65  HEM_IGM_S2  4482 non-null   object        \n",
      " 66  HEM_IGG_S2  4482 non-null   object        \n",
      " 67  IMU_IGM_S1  4482 non-null   object        \n",
      " 68  TIT_IGM_S1  4482 non-null   object        \n",
      " 69  IMU_IGM_S2  4482 non-null   object        \n",
      " 70  TIT_IGM_S2  4482 non-null   object        \n",
      " 71  IMU_IGG_S1  4482 non-null   object        \n",
      " 72  TIT_IGG_S1  4482 non-null   object        \n",
      " 73  IMU_IGG_S2  4482 non-null   object        \n",
      " 74  TIT_IGG_S2  4482 non-null   object        \n",
      " 75  RESUL_HIS   4482 non-null   object        \n",
      " 76  RES_HIST    4482 non-null   object        \n",
      " 77  ESPECIFICO  4482 non-null   object        \n",
      " 78  SINTOMATIC  4482 non-null   object        \n",
      " 79  DROGA       4482 non-null   object        \n",
      " 80  TEMPO       4482 non-null   object        \n",
      " 81  CON_TRIAT   4482 non-null   object        \n",
      " 82  BIOSSEG     4482 non-null   object        \n",
      " 83  FISCALIZA   4482 non-null   object        \n",
      " 84  MED_OUTRO   4482 non-null   object        \n",
      " 85  OUTRO_DES   4482 non-null   object        \n",
      " 86  CLASSI_FIN  4482 non-null   object        \n",
      " 87  CRITERIO    4482 non-null   object        \n",
      " 88  EVOLUCAO    4482 non-null   object        \n",
      " 89  DT_OBITO    54 non-null     datetime64[ns]\n",
      " 90  CON_PROVAV  4482 non-null   object        \n",
      " 91  CON_OUTRA   4482 non-null   object        \n",
      " 92  CON_LOCAL   4482 non-null   object        \n",
      " 93  TPAUTOCTO   4482 non-null   object        \n",
      " 94  COUFINF     4482 non-null   object        \n",
      " 95  COPAISINF   4482 non-null   object        \n",
      " 96  COMUNINF    4482 non-null   object        \n",
      " 97  DOENCA_TRA  4482 non-null   object        \n",
      " 98  DT_ENCERRA  4366 non-null   datetime64[ns]\n",
      "dtypes: datetime64[ns](10), int64(4), object(85)\n",
      "memory usage: 3.4+ MB\n"
     ]
    }
   ],
   "source": [
    "for cname in df.columns:\n",
    "    if cname.startswith('DT_'):\n",
    "        df[cname] = pd.to_datetime(df[cname], errors='coerce')\n",
    "    elif cname.startswith('ID_'):\n",
    "        try:\n",
    "            df[cname] = pd.to_numeric(df[cname])\n",
    "        except ValueError:\n",
    "            continue\n",
    "df.info()"
   ]
  },
  {
   "cell_type": "markdown",
   "metadata": {
    "pycharm": {
     "name": "#%% md\n"
    }
   },
   "source": [
    "Let's convert the age to years and save it on a different column."
   ]
  },
  {
   "cell_type": "code",
   "execution_count": 10,
   "metadata": {
    "ExecuteTime": {
     "end_time": "2022-09-05T17:21:59.409288Z",
     "start_time": "2022-09-05T17:21:59.384411Z"
    },
    "pycharm": {
     "name": "#%%\n"
    }
   },
   "outputs": [
    {
     "data": {
      "text/html": [
       "<div>\n",
       "<style scoped>\n",
       "    .dataframe tbody tr th:only-of-type {\n",
       "        vertical-align: middle;\n",
       "    }\n",
       "\n",
       "    .dataframe tbody tr th {\n",
       "        vertical-align: top;\n",
       "    }\n",
       "\n",
       "    .dataframe thead th {\n",
       "        text-align: right;\n",
       "    }\n",
       "</style>\n",
       "<table border=\"1\" class=\"dataframe\">\n",
       "  <thead>\n",
       "    <tr style=\"text-align: right;\">\n",
       "      <th></th>\n",
       "      <th>NU_IDADE_N</th>\n",
       "      <th>idade_anos</th>\n",
       "    </tr>\n",
       "  </thead>\n",
       "  <tbody>\n",
       "    <tr>\n",
       "      <th>0</th>\n",
       "      <td>4013</td>\n",
       "      <td>13.0</td>\n",
       "    </tr>\n",
       "    <tr>\n",
       "      <th>1</th>\n",
       "      <td>4054</td>\n",
       "      <td>54.0</td>\n",
       "    </tr>\n",
       "    <tr>\n",
       "      <th>2</th>\n",
       "      <td>4031</td>\n",
       "      <td>31.0</td>\n",
       "    </tr>\n",
       "    <tr>\n",
       "      <th>3</th>\n",
       "      <td>4063</td>\n",
       "      <td>63.0</td>\n",
       "    </tr>\n",
       "    <tr>\n",
       "      <th>4</th>\n",
       "      <td>4036</td>\n",
       "      <td>36.0</td>\n",
       "    </tr>\n",
       "    <tr>\n",
       "      <th>...</th>\n",
       "      <td>...</td>\n",
       "      <td>...</td>\n",
       "    </tr>\n",
       "    <tr>\n",
       "      <th>4477</th>\n",
       "      <td>4079</td>\n",
       "      <td>79.0</td>\n",
       "    </tr>\n",
       "    <tr>\n",
       "      <th>4478</th>\n",
       "      <td>4063</td>\n",
       "      <td>63.0</td>\n",
       "    </tr>\n",
       "    <tr>\n",
       "      <th>4479</th>\n",
       "      <td>4039</td>\n",
       "      <td>39.0</td>\n",
       "    </tr>\n",
       "    <tr>\n",
       "      <th>4480</th>\n",
       "      <td>4036</td>\n",
       "      <td>36.0</td>\n",
       "    </tr>\n",
       "    <tr>\n",
       "      <th>4481</th>\n",
       "      <td>4052</td>\n",
       "      <td>52.0</td>\n",
       "    </tr>\n",
       "  </tbody>\n",
       "</table>\n",
       "<p>4482 rows × 2 columns</p>\n",
       "</div>"
      ],
      "text/plain": [
       "     NU_IDADE_N  idade_anos\n",
       "0          4013        13.0\n",
       "1          4054        54.0\n",
       "2          4031        31.0\n",
       "3          4063        63.0\n",
       "4          4036        36.0\n",
       "...         ...         ...\n",
       "4477       4079        79.0\n",
       "4478       4063        63.0\n",
       "4479       4039        39.0\n",
       "4480       4036        36.0\n",
       "4481       4052        52.0\n",
       "\n",
       "[4482 rows x 2 columns]"
      ]
     },
     "execution_count": 10,
     "metadata": {},
     "output_type": "execute_result"
    }
   ],
   "source": [
    "df['idade_anos'] = decodifica_idade_SINAN(df.NU_IDADE_N, 'Y')\n",
    "df[['NU_IDADE_N', 'idade_anos']]"
   ]
  },
  {
   "cell_type": "markdown",
   "metadata": {
    "pycharm": {
     "name": "#%% md\n"
    }
   },
   "source": [
    "## Saving the Modified data\n",
    "We can save our dataframe in any format we wish to avoid having to redo this analysis next time. If we want to keep only the data from the state of Minas Gerais we need to filter the table using the UF code `31`."
   ]
  },
  {
   "cell_type": "code",
   "execution_count": 11,
   "metadata": {
    "ExecuteTime": {
     "end_time": "2022-09-05T17:22:02.591827Z",
     "start_time": "2022-09-05T17:22:02.512493Z"
    },
    "pycharm": {
     "name": "#%%\n"
    }
   },
   "outputs": [],
   "source": [
    "df['SG_UF_NOT'] = df.SG_UF_NOT.astype(int)\n",
    "df[df.SG_UF_NOT==31].to_csv('chagas_SP_2018_mod.csv',sep=';',compression='zip')"
   ]
  },
  {
   "cell_type": "code",
   "execution_count": null,
   "metadata": {
    "pycharm": {
     "name": "#%%\n"
    }
   },
   "outputs": [],
   "source": []
  }
 ],
 "metadata": {
  "interpreter": {
   "hash": "916dbcbb3f70747c44a77c7bcd40155683ae19c65e1c03b4aa3499c5328201f1"
  },
  "kernelspec": {
   "display_name": "Python 3 (ipykernel)",
   "language": "python",
   "name": "python3"
  },
  "language_info": {
   "codemirror_mode": {
    "name": "ipython",
    "version": 3
   },
   "file_extension": ".py",
   "mimetype": "text/x-python",
   "name": "python",
   "nbconvert_exporter": "python",
   "pygments_lexer": "ipython3",
   "version": "3.10.6"
  },
  "latex_envs": {
   "LaTeX_envs_menu_present": true,
   "autoclose": false,
   "autocomplete": true,
   "bibliofile": "biblio.bib",
   "cite_by": "apalike",
   "current_citInitial": 1,
   "eqLabelWithNumbers": true,
   "eqNumInitial": 1,
   "hotkeys": {
    "equation": "Ctrl-E",
    "itemize": "Ctrl-I"
   },
   "labels_anchors": false,
   "latex_user_defs": false,
   "report_style_numbering": false,
   "user_envs_cfg": false
  },
  "toc": {
   "base_numbering": 1,
   "nav_menu": {},
   "number_sections": true,
   "sideBar": true,
   "skip_h1_title": false,
   "title_cell": "Table of Contents",
   "title_sidebar": "Contents",
   "toc_cell": false,
   "toc_position": {},
   "toc_section_display": true,
   "toc_window_display": false
  },
  "varInspector": {
   "cols": {
    "lenName": 16,
    "lenType": 16,
    "lenVar": 40
   },
   "kernels_config": {
    "python": {
     "delete_cmd_postfix": "",
     "delete_cmd_prefix": "del ",
     "library": "var_list.py",
     "varRefreshCmd": "print(var_dic_list())"
    },
    "r": {
     "delete_cmd_postfix": ") ",
     "delete_cmd_prefix": "rm(",
     "library": "var_list.r",
     "varRefreshCmd": "cat(var_dic_list()) "
    }
   },
   "position": {
    "height": "249.85px",
    "left": "1104.8px",
    "right": "20px",
    "top": "120px",
    "width": "318.4px"
   },
   "types_to_exclude": [
    "module",
    "function",
    "builtin_function_or_method",
    "instance",
    "_Feature"
   ],
   "window_display": false
  }
 },
 "nbformat": 4,
 "nbformat_minor": 1
}
