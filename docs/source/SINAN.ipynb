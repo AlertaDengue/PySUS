{
 "cells": [
  {
   "cell_type": "markdown",
   "metadata": {
    "pycharm": {
     "name": "#%% md\n"
    }
   },
   "source": [
    "# Downloading data from the SINAN database"
   ]
  },
  {
   "cell_type": "code",
   "execution_count": 1,
   "metadata": {
    "ExecuteTime": {
     "end_time": "2020-11-14T08:42:07.128817Z",
     "start_time": "2020-11-14T08:42:06.879830Z"
    },
    "pycharm": {
     "name": "#%%\n"
    }
   },
   "outputs": [],
   "source": [
    "from pysus.online_data import SINAN\n",
    "import pandas as pd"
   ]
  },
  {
   "cell_type": "markdown",
   "metadata": {
    "pycharm": {
     "name": "#%% md\n"
    }
   },
   "source": [
    "SINAN is a database of reported cases of certain diseases that Brazilian law requires to be reported. Unfortunately the data available for free download, corresponds only to the investigated cases not the totality of the reported cases. Nevertheless it's an interesting dataset.\n",
    "\n",
    "To find out what are these diseases, we can use PySUS:"
   ]
  },
  {
   "cell_type": "code",
   "execution_count": 2,
   "metadata": {
    "ExecuteTime": {
     "end_time": "2020-11-14T08:42:10.012004Z",
     "start_time": "2020-11-14T08:42:09.993201Z"
    },
    "pycharm": {
     "name": "#%%\n"
    }
   },
   "outputs": [
    {
     "data": {
      "text/plain": "['Animais Peçonhentos',\n 'Botulismo',\n 'Cancer',\n 'Chagas',\n 'Chikungunya',\n 'Colera',\n 'Coqueluche',\n 'Contact Communicable Disease',\n 'Acidentes de Trabalho',\n 'Dengue',\n 'Difteria',\n 'Esquistossomose',\n 'Febre Amarela',\n 'Febre Maculosa',\n 'Febre Tifoide',\n 'Hanseniase',\n 'Hantavirose',\n 'Hepatites Virais',\n 'Intoxicação Exógena',\n 'Leishmaniose Visceral',\n 'Leptospirose',\n 'Leishmaniose Tegumentar',\n 'Malaria',\n 'Meningite',\n 'Peste',\n 'Poliomielite',\n 'Raiva Humana',\n 'Sífilis Adquirida',\n 'Sífilis Congênita',\n 'Sífilis em Gestante',\n 'Tétano Acidental',\n 'Tétano Neonatal',\n 'Tuberculose',\n 'Violência Domestica',\n 'Zika']"
     },
     "execution_count": 2,
     "metadata": {},
     "output_type": "execute_result"
    }
   ],
   "source": [
    "SINAN.list_diseases()"
   ]
  },
  {
   "cell_type": "markdown",
   "source": [
    "These diseases are available in countrywide tables, so if we want to see the cases of `Chagas` disease in the state of Minas Gerais, first we can check which years are available:"
   ],
   "metadata": {
    "collapsed": false,
    "pycharm": {
     "name": "#%% md\n"
    }
   }
  },
  {
   "cell_type": "code",
   "execution_count": 3,
   "outputs": [
    {
     "name": "stderr",
     "output_type": "stream",
     "text": [
      "/home/fccoelho/Documentos/Software_projects/PySUS/pysus/online_data/SINAN.py:60: UserWarning: Now SINAN tables are no longer split by state. Returning countrywide years\n",
      "  warnings.warn(\"Now SINAN tables are no longer split by state. Returning countrywide years\")\n"
     ]
    },
    {
     "data": {
      "text/plain": "['CHAGBR00.dbc',\n 'CHAGBR01.dbc',\n 'CHAGBR02.dbc',\n 'CHAGBR03.dbc',\n 'CHAGBR04.dbc',\n 'CHAGBR05.dbc',\n 'CHAGBR06.dbc',\n 'CHAGBR07.dbc',\n 'CHAGBR08.dbc',\n 'CHAGBR09.dbc',\n 'CHAGBR10.dbc',\n 'CHAGBR11.dbc',\n 'CHAGBR12.dbc',\n 'CHAGBR13.dbc',\n 'CHAGBR14.dbc',\n 'CHAGBR15.dbc',\n 'CHAGBR16.dbc',\n 'CHAGBR17.dbc',\n 'CHAGBR18.dbc',\n 'CHAGBR19.dbc']"
     },
     "execution_count": 3,
     "metadata": {},
     "output_type": "execute_result"
    }
   ],
   "source": [
    "SINAN.get_available_years('chagas')"
   ],
   "metadata": {
    "collapsed": false,
    "pycharm": {
     "name": "#%%\n"
    }
   }
  },
  {
   "cell_type": "markdown",
   "source": [
    "We can see, that we have data from 2000 until 2019. We can check when the data was last updated, and how big are the files. Now we can download it:"
   ],
   "metadata": {
    "collapsed": false,
    "pycharm": {
     "name": "#%% md\n"
    }
   }
  },
  {
   "cell_type": "code",
   "execution_count": 4,
   "outputs": [
    {
     "data": {
      "text/plain": "                                     folder                date  file_size  \\\n0     /dissemin/publicos/SINAN/DADOS/FINAIS 2021-09-30 10:04:00      26826   \n1     /dissemin/publicos/SINAN/DADOS/FINAIS 2021-09-30 10:04:00     641813   \n2     /dissemin/publicos/SINAN/DADOS/FINAIS 2021-09-30 10:04:00     998830   \n3     /dissemin/publicos/SINAN/DADOS/FINAIS 2021-09-30 10:04:00    1432723   \n4     /dissemin/publicos/SINAN/DADOS/FINAIS 2021-09-30 10:04:00    1562123   \n...                                     ...                 ...        ...   \n1052  /dissemin/publicos/SINAN/DADOS/PRELIM 2022-02-21 09:48:00    3702244   \n1053  /dissemin/publicos/SINAN/DADOS/PRELIM 2022-02-21 09:48:00      64058   \n1054  /dissemin/publicos/SINAN/DADOS/PRELIM 2021-10-15 11:37:00   24793234   \n1055  /dissemin/publicos/SINAN/DADOS/PRELIM 2021-10-15 11:37:00   16021135   \n1056  /dissemin/publicos/SINAN/DADOS/PRELIM 2022-02-23 12:05:00     385559   \n\n         file_name  \n0     ACBIBR06.dbc  \n1     ACBIBR07.dbc  \n2     ACBIBR08.dbc  \n3     ACBIBR09.dbc  \n4     ACBIBR10.dbc  \n...            ...  \n1052  TUBEBR21.dbc  \n1053  TUBEBR22.dbc  \n1054  VIOLBR20.dbc  \n1055  VIOLBR21.dbc  \n1056  ZIKABR21.dbc  \n\n[1057 rows x 4 columns]",
      "text/html": "<div>\n<style scoped>\n    .dataframe tbody tr th:only-of-type {\n        vertical-align: middle;\n    }\n\n    .dataframe tbody tr th {\n        vertical-align: top;\n    }\n\n    .dataframe thead th {\n        text-align: right;\n    }\n</style>\n<table border=\"1\" class=\"dataframe\">\n  <thead>\n    <tr style=\"text-align: right;\">\n      <th></th>\n      <th>folder</th>\n      <th>date</th>\n      <th>file_size</th>\n      <th>file_name</th>\n    </tr>\n  </thead>\n  <tbody>\n    <tr>\n      <th>0</th>\n      <td>/dissemin/publicos/SINAN/DADOS/FINAIS</td>\n      <td>2021-09-30 10:04:00</td>\n      <td>26826</td>\n      <td>ACBIBR06.dbc</td>\n    </tr>\n    <tr>\n      <th>1</th>\n      <td>/dissemin/publicos/SINAN/DADOS/FINAIS</td>\n      <td>2021-09-30 10:04:00</td>\n      <td>641813</td>\n      <td>ACBIBR07.dbc</td>\n    </tr>\n    <tr>\n      <th>2</th>\n      <td>/dissemin/publicos/SINAN/DADOS/FINAIS</td>\n      <td>2021-09-30 10:04:00</td>\n      <td>998830</td>\n      <td>ACBIBR08.dbc</td>\n    </tr>\n    <tr>\n      <th>3</th>\n      <td>/dissemin/publicos/SINAN/DADOS/FINAIS</td>\n      <td>2021-09-30 10:04:00</td>\n      <td>1432723</td>\n      <td>ACBIBR09.dbc</td>\n    </tr>\n    <tr>\n      <th>4</th>\n      <td>/dissemin/publicos/SINAN/DADOS/FINAIS</td>\n      <td>2021-09-30 10:04:00</td>\n      <td>1562123</td>\n      <td>ACBIBR10.dbc</td>\n    </tr>\n    <tr>\n      <th>...</th>\n      <td>...</td>\n      <td>...</td>\n      <td>...</td>\n      <td>...</td>\n    </tr>\n    <tr>\n      <th>1052</th>\n      <td>/dissemin/publicos/SINAN/DADOS/PRELIM</td>\n      <td>2022-02-21 09:48:00</td>\n      <td>3702244</td>\n      <td>TUBEBR21.dbc</td>\n    </tr>\n    <tr>\n      <th>1053</th>\n      <td>/dissemin/publicos/SINAN/DADOS/PRELIM</td>\n      <td>2022-02-21 09:48:00</td>\n      <td>64058</td>\n      <td>TUBEBR22.dbc</td>\n    </tr>\n    <tr>\n      <th>1054</th>\n      <td>/dissemin/publicos/SINAN/DADOS/PRELIM</td>\n      <td>2021-10-15 11:37:00</td>\n      <td>24793234</td>\n      <td>VIOLBR20.dbc</td>\n    </tr>\n    <tr>\n      <th>1055</th>\n      <td>/dissemin/publicos/SINAN/DADOS/PRELIM</td>\n      <td>2021-10-15 11:37:00</td>\n      <td>16021135</td>\n      <td>VIOLBR21.dbc</td>\n    </tr>\n    <tr>\n      <th>1056</th>\n      <td>/dissemin/publicos/SINAN/DADOS/PRELIM</td>\n      <td>2022-02-23 12:05:00</td>\n      <td>385559</td>\n      <td>ZIKABR21.dbc</td>\n    </tr>\n  </tbody>\n</table>\n<p>1057 rows × 4 columns</p>\n</div>"
     },
     "execution_count": 4,
     "metadata": {},
     "output_type": "execute_result"
    }
   ],
   "source": [
    "from pysus.online_data import last_update\n",
    "last_update('SINAN')"
   ],
   "metadata": {
    "collapsed": false,
    "pycharm": {
     "name": "#%%\n"
    }
   }
  },
  {
   "cell_type": "markdown",
   "source": [
    "Now we can download it."
   ],
   "metadata": {
    "collapsed": false,
    "pycharm": {
     "name": "#%% md\n"
    }
   }
  },
  {
   "cell_type": "code",
   "execution_count": 5,
   "outputs": [
    {
     "name": "stderr",
     "output_type": "stream",
     "text": [
      "/home/fccoelho/Documentos/Software_projects/PySUS/pysus/online_data/SINAN.py:60: UserWarning: Now SINAN tables are no longer split by state. Returning countrywide years\n",
      "  warnings.warn(\"Now SINAN tables are no longer split by state. Returning countrywide years\")\n",
      "/home/fccoelho/Documentos/Software_projects/PySUS/pysus/online_data/SINAN.py:85: UserWarning: Now SINAN tables are no longer split by state. Returning country table\n",
      "  warnings.warn(\"Now SINAN tables are no longer split by state. Returning country table\")\n"
     ]
    },
    {
     "data": {
      "text/plain": "     TP_NOT ID_AGRAVO   DT_NOTIFIC    SEM_NOT   NU_ANO SG_UF_NOT ID_MUNICIP  \\\n0      b'2'   b'B571'  b'20181219'  b'201851'  b'2018'     b'15'  b'150490'   \n1      b'2'   b'B571'  b'20181130'  b'201848'  b'2018'     b'15'  b'150450'   \n2      b'2'   b'B571'  b'20181003'  b'201840'  b'2018'     b'15'  b'150490'   \n3      b'2'   b'B571'  b'20180109'  b'201802'  b'2018'     b'15'  b'150375'   \n4      b'2'   b'B571'  b'20180811'  b'201832'  b'2018'     b'15'  b'150450'   \n...     ...       ...          ...        ...      ...       ...        ...   \n4680   b'2'   b'B571'  b'20181018'  b'201842'  b'2018'     b'16'  b'160030'   \n4681   b'2'   b'B571'  b'20180221'  b'201808'  b'2018'     b'12'  b'120020'   \n4682   b'2'   b'B571'  b'20181016'  b'201842'  b'2018'     b'15'  b'150210'   \n4683   b'2'   b'B571'  b'20180911'  b'201845'  b'2018'     b'15'  b'150080'   \n4684   b'2'   b'B571'  b'20180811'  b'201845'  b'2018'     b'15'  b'150080'   \n\n       ID_REGIONA  ID_UNIDADE   DT_SIN_PRI  ...     DT_OBITO CON_PROVAV  \\\n0     b'1490    '  b'2316005'  b'20181205'  ...  b'        '       b'2'   \n1     b'1491    '  b'6559476'  b'20181105'  ...  b'        '       b'5'   \n2     b'1490    '  b'2316005'  b'20180925'  ...  b'        '       b'5'   \n3     b'1492    '  b'2331691'  b'20171219'  ...  b'        '       b'5'   \n4     b'1491    '  b'6559476'  b'20180811'  ...  b'        '       b'5'   \n...           ...         ...          ...  ...          ...        ...   \n4680  b'        '  b'3043088'  b'20181010'  ...  b'        '       b'5'   \n4681  b'1941    '  b'5336171'  b'20180207'  ...  b'        '       b' '   \n4682  b'1496    '  b'2313367'  b'20180417'  ...  b'        '       b'9'   \n4683  b'1484    '  b'6996515'  b'20180310'  ...  b'        '       b'5'   \n4684  b'1484    '  b'6996515'  b'20180930'  ...  b'        '       b' '   \n\n                              CON_OUTRA CON_LOCAL TPAUTOCTO COUFINF COPAISINF  \\\n0     b'                              '      b'4'      b'1'   b'15'   b'1   '   \n1     b'                              '      b' '      b' '   b'  '   b'0   '   \n2     b'                              '      b'2'      b'1'   b'15'   b'1   '   \n3     b'                              '      b'2'      b'1'   b'15'   b'1   '   \n4     b'                              '      b'2'      b'1'   b'15'   b'1   '   \n...                                 ...       ...       ...     ...       ...   \n4680  b'                              '      b'2'      b'1'   b'16'   b'1   '   \n4681  b'                              '      b' '      b' '   b'  '   b'0   '   \n4682  b'                              '      b'9'      b'3'   b'  '   b'0   '   \n4683  b'                              '      b' '      b'1'   b'15'   b'1   '   \n4684  b'                              '      b' '      b' '   b'  '   b'0   '   \n\n       COMUNINF DOENCA_TRA   DT_ENCERRA  \n0     b'150490'       b'2'  b'20190220'  \n1     b'      '       b' '  b'20190131'  \n2     b'150490'       b'2'  b'20181206'  \n3     b'150375'       b'2'  b'20180315'  \n4     b'150450'       b'2'  b'20180814'  \n...         ...        ...          ...  \n4680  b'160030'       b'2'  b'20181023'  \n4681  b'      '       b' '  b'20180402'  \n4682  b'      '       b'2'  b'20190801'  \n4683  b'150150'       b'2'  b'20181120'  \n4684  b'      '       b' '  b'20181126'  \n\n[4685 rows x 99 columns]",
      "text/html": "<div>\n<style scoped>\n    .dataframe tbody tr th:only-of-type {\n        vertical-align: middle;\n    }\n\n    .dataframe tbody tr th {\n        vertical-align: top;\n    }\n\n    .dataframe thead th {\n        text-align: right;\n    }\n</style>\n<table border=\"1\" class=\"dataframe\">\n  <thead>\n    <tr style=\"text-align: right;\">\n      <th></th>\n      <th>TP_NOT</th>\n      <th>ID_AGRAVO</th>\n      <th>DT_NOTIFIC</th>\n      <th>SEM_NOT</th>\n      <th>NU_ANO</th>\n      <th>SG_UF_NOT</th>\n      <th>ID_MUNICIP</th>\n      <th>ID_REGIONA</th>\n      <th>ID_UNIDADE</th>\n      <th>DT_SIN_PRI</th>\n      <th>...</th>\n      <th>DT_OBITO</th>\n      <th>CON_PROVAV</th>\n      <th>CON_OUTRA</th>\n      <th>CON_LOCAL</th>\n      <th>TPAUTOCTO</th>\n      <th>COUFINF</th>\n      <th>COPAISINF</th>\n      <th>COMUNINF</th>\n      <th>DOENCA_TRA</th>\n      <th>DT_ENCERRA</th>\n    </tr>\n  </thead>\n  <tbody>\n    <tr>\n      <th>0</th>\n      <td>b'2'</td>\n      <td>b'B571'</td>\n      <td>b'20181219'</td>\n      <td>b'201851'</td>\n      <td>b'2018'</td>\n      <td>b'15'</td>\n      <td>b'150490'</td>\n      <td>b'1490    '</td>\n      <td>b'2316005'</td>\n      <td>b'20181205'</td>\n      <td>...</td>\n      <td>b'        '</td>\n      <td>b'2'</td>\n      <td>b'                              '</td>\n      <td>b'4'</td>\n      <td>b'1'</td>\n      <td>b'15'</td>\n      <td>b'1   '</td>\n      <td>b'150490'</td>\n      <td>b'2'</td>\n      <td>b'20190220'</td>\n    </tr>\n    <tr>\n      <th>1</th>\n      <td>b'2'</td>\n      <td>b'B571'</td>\n      <td>b'20181130'</td>\n      <td>b'201848'</td>\n      <td>b'2018'</td>\n      <td>b'15'</td>\n      <td>b'150450'</td>\n      <td>b'1491    '</td>\n      <td>b'6559476'</td>\n      <td>b'20181105'</td>\n      <td>...</td>\n      <td>b'        '</td>\n      <td>b'5'</td>\n      <td>b'                              '</td>\n      <td>b' '</td>\n      <td>b' '</td>\n      <td>b'  '</td>\n      <td>b'0   '</td>\n      <td>b'      '</td>\n      <td>b' '</td>\n      <td>b'20190131'</td>\n    </tr>\n    <tr>\n      <th>2</th>\n      <td>b'2'</td>\n      <td>b'B571'</td>\n      <td>b'20181003'</td>\n      <td>b'201840'</td>\n      <td>b'2018'</td>\n      <td>b'15'</td>\n      <td>b'150490'</td>\n      <td>b'1490    '</td>\n      <td>b'2316005'</td>\n      <td>b'20180925'</td>\n      <td>...</td>\n      <td>b'        '</td>\n      <td>b'5'</td>\n      <td>b'                              '</td>\n      <td>b'2'</td>\n      <td>b'1'</td>\n      <td>b'15'</td>\n      <td>b'1   '</td>\n      <td>b'150490'</td>\n      <td>b'2'</td>\n      <td>b'20181206'</td>\n    </tr>\n    <tr>\n      <th>3</th>\n      <td>b'2'</td>\n      <td>b'B571'</td>\n      <td>b'20180109'</td>\n      <td>b'201802'</td>\n      <td>b'2018'</td>\n      <td>b'15'</td>\n      <td>b'150375'</td>\n      <td>b'1492    '</td>\n      <td>b'2331691'</td>\n      <td>b'20171219'</td>\n      <td>...</td>\n      <td>b'        '</td>\n      <td>b'5'</td>\n      <td>b'                              '</td>\n      <td>b'2'</td>\n      <td>b'1'</td>\n      <td>b'15'</td>\n      <td>b'1   '</td>\n      <td>b'150375'</td>\n      <td>b'2'</td>\n      <td>b'20180315'</td>\n    </tr>\n    <tr>\n      <th>4</th>\n      <td>b'2'</td>\n      <td>b'B571'</td>\n      <td>b'20180811'</td>\n      <td>b'201832'</td>\n      <td>b'2018'</td>\n      <td>b'15'</td>\n      <td>b'150450'</td>\n      <td>b'1491    '</td>\n      <td>b'6559476'</td>\n      <td>b'20180811'</td>\n      <td>...</td>\n      <td>b'        '</td>\n      <td>b'5'</td>\n      <td>b'                              '</td>\n      <td>b'2'</td>\n      <td>b'1'</td>\n      <td>b'15'</td>\n      <td>b'1   '</td>\n      <td>b'150450'</td>\n      <td>b'2'</td>\n      <td>b'20180814'</td>\n    </tr>\n    <tr>\n      <th>...</th>\n      <td>...</td>\n      <td>...</td>\n      <td>...</td>\n      <td>...</td>\n      <td>...</td>\n      <td>...</td>\n      <td>...</td>\n      <td>...</td>\n      <td>...</td>\n      <td>...</td>\n      <td>...</td>\n      <td>...</td>\n      <td>...</td>\n      <td>...</td>\n      <td>...</td>\n      <td>...</td>\n      <td>...</td>\n      <td>...</td>\n      <td>...</td>\n      <td>...</td>\n      <td>...</td>\n    </tr>\n    <tr>\n      <th>4680</th>\n      <td>b'2'</td>\n      <td>b'B571'</td>\n      <td>b'20181018'</td>\n      <td>b'201842'</td>\n      <td>b'2018'</td>\n      <td>b'16'</td>\n      <td>b'160030'</td>\n      <td>b'        '</td>\n      <td>b'3043088'</td>\n      <td>b'20181010'</td>\n      <td>...</td>\n      <td>b'        '</td>\n      <td>b'5'</td>\n      <td>b'                              '</td>\n      <td>b'2'</td>\n      <td>b'1'</td>\n      <td>b'16'</td>\n      <td>b'1   '</td>\n      <td>b'160030'</td>\n      <td>b'2'</td>\n      <td>b'20181023'</td>\n    </tr>\n    <tr>\n      <th>4681</th>\n      <td>b'2'</td>\n      <td>b'B571'</td>\n      <td>b'20180221'</td>\n      <td>b'201808'</td>\n      <td>b'2018'</td>\n      <td>b'12'</td>\n      <td>b'120020'</td>\n      <td>b'1941    '</td>\n      <td>b'5336171'</td>\n      <td>b'20180207'</td>\n      <td>...</td>\n      <td>b'        '</td>\n      <td>b' '</td>\n      <td>b'                              '</td>\n      <td>b' '</td>\n      <td>b' '</td>\n      <td>b'  '</td>\n      <td>b'0   '</td>\n      <td>b'      '</td>\n      <td>b' '</td>\n      <td>b'20180402'</td>\n    </tr>\n    <tr>\n      <th>4682</th>\n      <td>b'2'</td>\n      <td>b'B571'</td>\n      <td>b'20181016'</td>\n      <td>b'201842'</td>\n      <td>b'2018'</td>\n      <td>b'15'</td>\n      <td>b'150210'</td>\n      <td>b'1496    '</td>\n      <td>b'2313367'</td>\n      <td>b'20180417'</td>\n      <td>...</td>\n      <td>b'        '</td>\n      <td>b'9'</td>\n      <td>b'                              '</td>\n      <td>b'9'</td>\n      <td>b'3'</td>\n      <td>b'  '</td>\n      <td>b'0   '</td>\n      <td>b'      '</td>\n      <td>b'2'</td>\n      <td>b'20190801'</td>\n    </tr>\n    <tr>\n      <th>4683</th>\n      <td>b'2'</td>\n      <td>b'B571'</td>\n      <td>b'20180911'</td>\n      <td>b'201845'</td>\n      <td>b'2018'</td>\n      <td>b'15'</td>\n      <td>b'150080'</td>\n      <td>b'1484    '</td>\n      <td>b'6996515'</td>\n      <td>b'20180310'</td>\n      <td>...</td>\n      <td>b'        '</td>\n      <td>b'5'</td>\n      <td>b'                              '</td>\n      <td>b' '</td>\n      <td>b'1'</td>\n      <td>b'15'</td>\n      <td>b'1   '</td>\n      <td>b'150150'</td>\n      <td>b'2'</td>\n      <td>b'20181120'</td>\n    </tr>\n    <tr>\n      <th>4684</th>\n      <td>b'2'</td>\n      <td>b'B571'</td>\n      <td>b'20180811'</td>\n      <td>b'201845'</td>\n      <td>b'2018'</td>\n      <td>b'15'</td>\n      <td>b'150080'</td>\n      <td>b'1484    '</td>\n      <td>b'6996515'</td>\n      <td>b'20180930'</td>\n      <td>...</td>\n      <td>b'        '</td>\n      <td>b' '</td>\n      <td>b'                              '</td>\n      <td>b' '</td>\n      <td>b' '</td>\n      <td>b'  '</td>\n      <td>b'0   '</td>\n      <td>b'      '</td>\n      <td>b' '</td>\n      <td>b'20181126'</td>\n    </tr>\n  </tbody>\n</table>\n<p>4685 rows × 99 columns</p>\n</div>"
     },
     "execution_count": 5,
     "metadata": {},
     "output_type": "execute_result"
    }
   ],
   "source": [
    "df = SINAN.download(year=2018,disease='Chagas')\n",
    "df"
   ],
   "metadata": {
    "collapsed": false,
    "pycharm": {
     "name": "#%%\n"
    }
   }
  },
  {
   "cell_type": "markdown",
   "source": [
    "In this case, the table return is small, but in the case the table is bigger than your computer's memory, you can download the data straight to disk and ask Pysus to return only the name of the resulting file:\n",
    "```python\n",
    "fname = SINAN.download(year=2015,disease='Dengue', return_fname=True)\n",
    "```\n",
    "then you can decide how to handle the data.\n",
    "\n",
    "Let's look at the variables available on the downloaded dataframe"
   ],
   "metadata": {
    "collapsed": false,
    "pycharm": {
     "name": "#%% md\n"
    }
   }
  },
  {
   "cell_type": "code",
   "execution_count": null,
   "outputs": [],
   "source": [
    "df.info()"
   ],
   "metadata": {
    "collapsed": false,
    "pycharm": {
     "name": "#%%\n"
    }
   }
  },
  {
   "cell_type": "markdown",
   "source": [
    "## Decoding the age in SINAN tables\n",
    "In SINAN the age comes encoded. PySUS can decode the age column `NU_IDADE_N` into any of these units: years, months, days, or hours."
   ],
   "metadata": {
    "collapsed": false,
    "pycharm": {
     "name": "#%% md\n"
    }
   }
  },
  {
   "cell_type": "code",
   "execution_count": null,
   "outputs": [],
   "source": [
    "from pysus.preprocessing.decoders import decodifica_idade_SINAN\n",
    "decodifica_idade_SINAN?"
   ],
   "metadata": {
    "collapsed": false,
    "pycharm": {
     "name": "#%%\n"
    }
   }
  },
  {
   "cell_type": "markdown",
   "source": [
    "Let's convert the age to years and save it on a different column."
   ],
   "metadata": {
    "collapsed": false,
    "pycharm": {
     "name": "#%% md\n"
    }
   }
  },
  {
   "cell_type": "code",
   "execution_count": null,
   "outputs": [],
   "source": [
    "df['idade_anos'] = decodifica_idade_SINAN(df.NU_IDADE_N, 'Y')\n",
    "df[['NU_IDADE_N', 'idade_anos']]"
   ],
   "metadata": {
    "collapsed": false,
    "pycharm": {
     "name": "#%%\n"
    }
   }
  },
  {
   "cell_type": "markdown",
   "source": [
    "We can easily convert dates and numerical fields in the dataframe:"
   ],
   "metadata": {
    "collapsed": false,
    "pycharm": {
     "name": "#%% md\n"
    }
   }
  },
  {
   "cell_type": "code",
   "execution_count": null,
   "outputs": [],
   "source": [
    "for cname in df.columns:\n",
    "    if cname.startswith('DT_'):\n",
    "        df[cname] = pd.to_datetime(df[cname])\n",
    "    elif cname.startswith('ID_'):\n",
    "        try:\n",
    "            df[cname] = pd.to_numeric(df[cname])\n",
    "        except ValueError:\n",
    "            continue\n",
    "df.info()"
   ],
   "metadata": {
    "collapsed": false,
    "pycharm": {
     "name": "#%%\n"
    }
   }
  },
  {
   "cell_type": "markdown",
   "source": [
    "## Saving the Modified data\n",
    "We can save our dataframe in any format we wish to avoid having to redo this analysis next time. If we want to keep only the data from the state of Minas Gerais we need to filter the table using the UF code `31`."
   ],
   "metadata": {
    "collapsed": false,
    "pycharm": {
     "name": "#%% md\n"
    }
   }
  },
  {
   "cell_type": "code",
   "execution_count": null,
   "outputs": [],
   "source": [
    "df['SG_UF_NOT'] = df.SG_UF_NOT.astype(int)\n",
    "df[df.SG_UF_NOT==31].to_csv('chagas_SP_2018_mod.csv',sep=';',compression='zip')"
   ],
   "metadata": {
    "collapsed": false,
    "pycharm": {
     "name": "#%%\n"
    }
   }
  },
  {
   "cell_type": "code",
   "execution_count": null,
   "metadata": {
    "pycharm": {
     "name": "#%%\n"
    }
   },
   "outputs": [],
   "source": []
  }
 ],
 "metadata": {
  "interpreter": {
   "hash": "916dbcbb3f70747c44a77c7bcd40155683ae19c65e1c03b4aa3499c5328201f1"
  },
  "kernelspec": {
   "display_name": "Python 3.8.10 64-bit",
   "name": "python3"
  },
  "language_info": {
   "codemirror_mode": {
    "name": "ipython",
    "version": 3
   },
   "file_extension": ".py",
   "mimetype": "text/x-python",
   "name": "python",
   "nbconvert_exporter": "python",
   "pygments_lexer": "ipython3",
   "version": "3.9.7"
  },
  "latex_envs": {
   "LaTeX_envs_menu_present": true,
   "autoclose": false,
   "autocomplete": true,
   "bibliofile": "biblio.bib",
   "cite_by": "apalike",
   "current_citInitial": 1,
   "eqLabelWithNumbers": true,
   "eqNumInitial": 1,
   "hotkeys": {
    "equation": "Ctrl-E",
    "itemize": "Ctrl-I"
   },
   "labels_anchors": false,
   "latex_user_defs": false,
   "report_style_numbering": false,
   "user_envs_cfg": false
  },
  "toc": {
   "base_numbering": 1,
   "nav_menu": {},
   "number_sections": true,
   "sideBar": true,
   "skip_h1_title": false,
   "title_cell": "Table of Contents",
   "title_sidebar": "Contents",
   "toc_cell": false,
   "toc_position": {},
   "toc_section_display": true,
   "toc_window_display": false
  },
  "varInspector": {
   "cols": {
    "lenName": 16,
    "lenType": 16,
    "lenVar": 40
   },
   "kernels_config": {
    "python": {
     "delete_cmd_postfix": "",
     "delete_cmd_prefix": "del ",
     "library": "var_list.py",
     "varRefreshCmd": "print(var_dic_list())"
    },
    "r": {
     "delete_cmd_postfix": ") ",
     "delete_cmd_prefix": "rm(",
     "library": "var_list.r",
     "varRefreshCmd": "cat(var_dic_list()) "
    }
   },
   "types_to_exclude": [
    "module",
    "function",
    "builtin_function_or_method",
    "instance",
    "_Feature"
   ],
   "window_display": false
  }
 },
 "nbformat": 4,
 "nbformat_minor": 1
}