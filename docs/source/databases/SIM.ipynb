{
 "cells": [
  {
   "cell_type": "markdown",
   "metadata": {
    "pycharm": {
     "name": "#%% md\n"
    }
   },
   "source": [
    "# SIM FTP Database\n",
    "##### Sistema de Informação sobre Mortalidade\n"
   ]
  },
  {
   "cell_type": "code",
   "execution_count": 1,
   "metadata": {
    "collapsed": false,
    "jupyter": {
     "outputs_hidden": false
    },
    "pycharm": {
     "name": "#%%\n"
    }
   },
   "outputs": [],
   "source": [
    "from pysus.ftp.databases.sim import SIM\n",
    "sim = SIM().load() # Loads the files from DATASUS"
   ]
  },
  {
   "cell_type": "code",
   "execution_count": 2,
   "metadata": {},
   "outputs": [
    {
     "data": {
      "text/plain": [
       "{'long_name': 'Sistema de Informação sobre Mortalidade',\n",
       " 'source': 'http://sim.saude.gov.br',\n",
       " 'description': ''}"
      ]
     },
     "execution_count": 2,
     "metadata": {},
     "output_type": "execute_result"
    }
   ],
   "source": [
    "sim.metadata"
   ]
  },
  {
   "cell_type": "code",
   "execution_count": 3,
   "metadata": {},
   "outputs": [
    {
     "data": {
      "text/plain": [
       "{'CID10': 'DO', 'CID9': 'DOR'}"
      ]
     },
     "execution_count": 3,
     "metadata": {},
     "output_type": "execute_result"
    }
   ],
   "source": [
    "sim.groups"
   ]
  },
  {
   "cell_type": "code",
   "execution_count": 4,
   "metadata": {},
   "outputs": [
    {
     "data": {
      "text/plain": [
       "[/dissemin/publicos/SIM/CID10/DORES, /dissemin/publicos/SIM/CID9/DORES]"
      ]
     },
     "execution_count": 4,
     "metadata": {},
     "output_type": "execute_result"
    }
   ],
   "source": [
    "sim.paths"
   ]
  },
  {
   "cell_type": "markdown",
   "metadata": {},
   "source": [
    "For more information about CID9 and CID10, visit http://tabnet.saude.es.gov.br/cgi/tabnet/sim/sim96/obtdescr.htm"
   ]
  },
  {
   "cell_type": "markdown",
   "metadata": {},
   "source": [
    "### Getting specific files "
   ]
  },
  {
   "cell_type": "code",
   "execution_count": 5,
   "metadata": {},
   "outputs": [
    {
     "data": {
      "text/plain": [
       "[DORSP95.DBC]"
      ]
     },
     "execution_count": 5,
     "metadata": {},
     "output_type": "execute_result"
    }
   ],
   "source": [
    "sim.get_files(\"CID9\", uf=\"SP\", year=1995)"
   ]
  },
  {
   "cell_type": "code",
   "execution_count": 6,
   "metadata": {
    "collapsed": false,
    "jupyter": {
     "outputs_hidden": false
    },
    "pycharm": {
     "name": "#%%\n"
    }
   },
   "outputs": [
    {
     "data": {
      "text/plain": [
       "[DORJ2019.dbc,\n",
       " DORJ2020.dbc,\n",
       " DORJ2021.dbc,\n",
       " DOSP2019.dbc,\n",
       " DOSP2020.dbc,\n",
       " DOSP2021.dbc]"
      ]
     },
     "execution_count": 6,
     "metadata": {},
     "output_type": "execute_result"
    }
   ],
   "source": [
    "sim.get_files(\"CID10\", uf=[\"SP\", \"RJ\"], year=[2019, 2020, 2021])"
   ]
  },
  {
   "cell_type": "code",
   "execution_count": 7,
   "metadata": {},
   "outputs": [],
   "source": [
    "files = sim.get_files([\"CID9\", \"CID10\"], uf=[\"SP\"], year=[1995, 2020])\n",
    "sp_cid9, sp_cid10 = files"
   ]
  },
  {
   "cell_type": "markdown",
   "metadata": {},
   "source": [
    "### Describing a file inside DATASUS server"
   ]
  },
  {
   "cell_type": "code",
   "execution_count": 8,
   "metadata": {},
   "outputs": [
    {
     "data": {
      "text/plain": [
       "{'name': 'DORSP95.DBC',\n",
       " 'uf': 'São Paulo',\n",
       " 'year': 1995,\n",
       " 'group': 'CID9',\n",
       " 'size': '8.2 MB',\n",
       " 'last_update': '2020-01-31 02:48PM'}"
      ]
     },
     "execution_count": 8,
     "metadata": {},
     "output_type": "execute_result"
    }
   ],
   "source": [
    "sim.describe(sp_cid9)"
   ]
  },
  {
   "cell_type": "code",
   "execution_count": 9,
   "metadata": {},
   "outputs": [
    {
     "data": {
      "text/plain": [
       "{'name': 'DOSP2020.dbc',\n",
       " 'uf': 'São Paulo',\n",
       " 'year': 2020,\n",
       " 'group': 'CID10',\n",
       " 'size': '28.7 MB',\n",
       " 'last_update': '2022-03-31 04:19PM'}"
      ]
     },
     "execution_count": 9,
     "metadata": {},
     "output_type": "execute_result"
    }
   ],
   "source": [
    "sim.describe(sp_cid10)"
   ]
  },
  {
   "cell_type": "markdown",
   "metadata": {},
   "source": [
    "### Downloading files"
   ]
  },
  {
   "cell_type": "markdown",
   "metadata": {},
   "source": [
    "You can rather download multiple files or download them individually:"
   ]
  },
  {
   "cell_type": "code",
   "execution_count": 10,
   "metadata": {},
   "outputs": [
    {
     "name": "stderr",
     "output_type": "stream",
     "text": [
      "DORSP95.parquet: 100%|█████████████| 434k/434k [00:12<00:00, 36.0kB/s]\n"
     ]
    },
    {
     "data": {
      "text/plain": [
       "[/home/bida/pysus/DORSP95.parquet]"
      ]
     },
     "execution_count": 10,
     "metadata": {},
     "output_type": "execute_result"
    }
   ],
   "source": [
    "sim.download(sp_cid9) # Downloads to default directory"
   ]
  },
  {
   "cell_type": "code",
   "execution_count": 11,
   "metadata": {},
   "outputs": [
    {
     "data": {
      "text/plain": [
       "/home/bida/pysus/DORSP95.parquet"
      ]
     },
     "execution_count": 11,
     "metadata": {},
     "output_type": "execute_result"
    }
   ],
   "source": [
    "parquet = sp_cid9.download() # Or in a custom directory with `local_dir=`\n",
    "parquet"
   ]
  },
  {
   "cell_type": "markdown",
   "metadata": {},
   "source": [
    "@Note: If the file has been downloaded already, it's required to delete it in order to download the lastest updated file from DATASUS. "
   ]
  },
  {
   "cell_type": "markdown",
   "metadata": {},
   "source": [
    "### Reading files\n",
    "\n",
    "PySUS uses Parquets as output, use the method `to_dataframe()` to read the file as pandas DataFrame"
   ]
  },
  {
   "cell_type": "code",
   "execution_count": 12,
   "metadata": {},
   "outputs": [
    {
     "data": {
      "text/html": [
       "<div>\n",
       "<style scoped>\n",
       "    .dataframe tbody tr th:only-of-type {\n",
       "        vertical-align: middle;\n",
       "    }\n",
       "\n",
       "    .dataframe tbody tr th {\n",
       "        vertical-align: top;\n",
       "    }\n",
       "\n",
       "    .dataframe thead th {\n",
       "        text-align: right;\n",
       "    }\n",
       "</style>\n",
       "<table border=\"1\" class=\"dataframe\">\n",
       "  <thead>\n",
       "    <tr style=\"text-align: right;\">\n",
       "      <th></th>\n",
       "      <th>contador</th>\n",
       "      <th>CARTORIO</th>\n",
       "      <th>REGISTRO</th>\n",
       "      <th>DATAREG</th>\n",
       "      <th>TIPOBITO</th>\n",
       "      <th>DATAOBITO</th>\n",
       "      <th>ESTCIVIL</th>\n",
       "      <th>SEXO</th>\n",
       "      <th>DATANASC</th>\n",
       "      <th>IDADE</th>\n",
       "      <th>...</th>\n",
       "      <th>FONTINFO</th>\n",
       "      <th>ACIDTRAB</th>\n",
       "      <th>LOCACID</th>\n",
       "      <th>CRITICA</th>\n",
       "      <th>NUMEXPORT</th>\n",
       "      <th>CRSOCOR</th>\n",
       "      <th>CRSRES</th>\n",
       "      <th>RACACOR</th>\n",
       "      <th>ETNIA</th>\n",
       "      <th>UFINFORM</th>\n",
       "    </tr>\n",
       "  </thead>\n",
       "  <tbody>\n",
       "    <tr>\n",
       "      <th>0</th>\n",
       "      <td>180001</td>\n",
       "      <td></td>\n",
       "      <td></td>\n",
       "      <td>951006</td>\n",
       "      <td>2</td>\n",
       "      <td>951002</td>\n",
       "      <td>2</td>\n",
       "      <td>1</td>\n",
       "      <td>19291003</td>\n",
       "      <td>465</td>\n",
       "      <td>...</td>\n",
       "      <td></td>\n",
       "      <td>0</td>\n",
       "      <td>0</td>\n",
       "      <td></td>\n",
       "      <td></td>\n",
       "      <td></td>\n",
       "      <td></td>\n",
       "      <td></td>\n",
       "      <td></td>\n",
       "      <td>35</td>\n",
       "    </tr>\n",
       "    <tr>\n",
       "      <th>1</th>\n",
       "      <td>180002</td>\n",
       "      <td></td>\n",
       "      <td></td>\n",
       "      <td>951006</td>\n",
       "      <td>2</td>\n",
       "      <td>951002</td>\n",
       "      <td>3</td>\n",
       "      <td>2</td>\n",
       "      <td>18980317</td>\n",
       "      <td>497</td>\n",
       "      <td>...</td>\n",
       "      <td></td>\n",
       "      <td>0</td>\n",
       "      <td>0</td>\n",
       "      <td></td>\n",
       "      <td></td>\n",
       "      <td></td>\n",
       "      <td></td>\n",
       "      <td></td>\n",
       "      <td></td>\n",
       "      <td>35</td>\n",
       "    </tr>\n",
       "    <tr>\n",
       "      <th>2</th>\n",
       "      <td>180003</td>\n",
       "      <td></td>\n",
       "      <td></td>\n",
       "      <td>951006</td>\n",
       "      <td>2</td>\n",
       "      <td>951003</td>\n",
       "      <td>2</td>\n",
       "      <td>2</td>\n",
       "      <td>19281002</td>\n",
       "      <td>467</td>\n",
       "      <td>...</td>\n",
       "      <td></td>\n",
       "      <td>0</td>\n",
       "      <td>0</td>\n",
       "      <td></td>\n",
       "      <td></td>\n",
       "      <td></td>\n",
       "      <td></td>\n",
       "      <td></td>\n",
       "      <td></td>\n",
       "      <td>35</td>\n",
       "    </tr>\n",
       "    <tr>\n",
       "      <th>3</th>\n",
       "      <td>180004</td>\n",
       "      <td></td>\n",
       "      <td></td>\n",
       "      <td>951006</td>\n",
       "      <td>2</td>\n",
       "      <td>951003</td>\n",
       "      <td>3</td>\n",
       "      <td>1</td>\n",
       "      <td>19110613</td>\n",
       "      <td>484</td>\n",
       "      <td>...</td>\n",
       "      <td></td>\n",
       "      <td>0</td>\n",
       "      <td>0</td>\n",
       "      <td></td>\n",
       "      <td></td>\n",
       "      <td></td>\n",
       "      <td></td>\n",
       "      <td></td>\n",
       "      <td></td>\n",
       "      <td>35</td>\n",
       "    </tr>\n",
       "    <tr>\n",
       "      <th>4</th>\n",
       "      <td>180005</td>\n",
       "      <td></td>\n",
       "      <td></td>\n",
       "      <td>951006</td>\n",
       "      <td>2</td>\n",
       "      <td>951004</td>\n",
       "      <td>1</td>\n",
       "      <td>1</td>\n",
       "      <td>19610914</td>\n",
       "      <td>434</td>\n",
       "      <td>...</td>\n",
       "      <td></td>\n",
       "      <td>0</td>\n",
       "      <td>0</td>\n",
       "      <td></td>\n",
       "      <td></td>\n",
       "      <td></td>\n",
       "      <td></td>\n",
       "      <td></td>\n",
       "      <td></td>\n",
       "      <td>35</td>\n",
       "    </tr>\n",
       "    <tr>\n",
       "      <th>...</th>\n",
       "      <td>...</td>\n",
       "      <td>...</td>\n",
       "      <td>...</td>\n",
       "      <td>...</td>\n",
       "      <td>...</td>\n",
       "      <td>...</td>\n",
       "      <td>...</td>\n",
       "      <td>...</td>\n",
       "      <td>...</td>\n",
       "      <td>...</td>\n",
       "      <td>...</td>\n",
       "      <td>...</td>\n",
       "      <td>...</td>\n",
       "      <td>...</td>\n",
       "      <td>...</td>\n",
       "      <td>...</td>\n",
       "      <td>...</td>\n",
       "      <td>...</td>\n",
       "      <td>...</td>\n",
       "      <td>...</td>\n",
       "      <td>...</td>\n",
       "    </tr>\n",
       "    <tr>\n",
       "      <th>227832</th>\n",
       "      <td>179996</td>\n",
       "      <td></td>\n",
       "      <td></td>\n",
       "      <td>951004</td>\n",
       "      <td>2</td>\n",
       "      <td>951001</td>\n",
       "      <td>4</td>\n",
       "      <td>1</td>\n",
       "      <td>19380423</td>\n",
       "      <td>457</td>\n",
       "      <td>...</td>\n",
       "      <td></td>\n",
       "      <td>0</td>\n",
       "      <td>0</td>\n",
       "      <td></td>\n",
       "      <td></td>\n",
       "      <td></td>\n",
       "      <td></td>\n",
       "      <td></td>\n",
       "      <td></td>\n",
       "      <td>35</td>\n",
       "    </tr>\n",
       "    <tr>\n",
       "      <th>227833</th>\n",
       "      <td>179997</td>\n",
       "      <td></td>\n",
       "      <td></td>\n",
       "      <td>951004</td>\n",
       "      <td>2</td>\n",
       "      <td>951001</td>\n",
       "      <td>2</td>\n",
       "      <td>1</td>\n",
       "      <td>19470130</td>\n",
       "      <td>448</td>\n",
       "      <td>...</td>\n",
       "      <td></td>\n",
       "      <td>0</td>\n",
       "      <td>0</td>\n",
       "      <td></td>\n",
       "      <td></td>\n",
       "      <td></td>\n",
       "      <td></td>\n",
       "      <td></td>\n",
       "      <td></td>\n",
       "      <td>35</td>\n",
       "    </tr>\n",
       "    <tr>\n",
       "      <th>227834</th>\n",
       "      <td>179998</td>\n",
       "      <td></td>\n",
       "      <td></td>\n",
       "      <td>951004</td>\n",
       "      <td>2</td>\n",
       "      <td>951001</td>\n",
       "      <td>3</td>\n",
       "      <td>2</td>\n",
       "      <td>19160113</td>\n",
       "      <td>479</td>\n",
       "      <td>...</td>\n",
       "      <td></td>\n",
       "      <td>0</td>\n",
       "      <td>0</td>\n",
       "      <td></td>\n",
       "      <td></td>\n",
       "      <td></td>\n",
       "      <td></td>\n",
       "      <td></td>\n",
       "      <td></td>\n",
       "      <td>35</td>\n",
       "    </tr>\n",
       "    <tr>\n",
       "      <th>227835</th>\n",
       "      <td>179999</td>\n",
       "      <td></td>\n",
       "      <td></td>\n",
       "      <td>951006</td>\n",
       "      <td>2</td>\n",
       "      <td>951001</td>\n",
       "      <td>1</td>\n",
       "      <td>1</td>\n",
       "      <td>19550901</td>\n",
       "      <td>440</td>\n",
       "      <td>...</td>\n",
       "      <td></td>\n",
       "      <td>0</td>\n",
       "      <td>0</td>\n",
       "      <td></td>\n",
       "      <td></td>\n",
       "      <td></td>\n",
       "      <td></td>\n",
       "      <td></td>\n",
       "      <td></td>\n",
       "      <td>35</td>\n",
       "    </tr>\n",
       "    <tr>\n",
       "      <th>227836</th>\n",
       "      <td>180000</td>\n",
       "      <td></td>\n",
       "      <td></td>\n",
       "      <td>951006</td>\n",
       "      <td>2</td>\n",
       "      <td>951001</td>\n",
       "      <td>1</td>\n",
       "      <td>1</td>\n",
       "      <td>19700510</td>\n",
       "      <td>425</td>\n",
       "      <td>...</td>\n",
       "      <td></td>\n",
       "      <td>0</td>\n",
       "      <td>0</td>\n",
       "      <td></td>\n",
       "      <td></td>\n",
       "      <td></td>\n",
       "      <td></td>\n",
       "      <td></td>\n",
       "      <td></td>\n",
       "      <td>35</td>\n",
       "    </tr>\n",
       "  </tbody>\n",
       "</table>\n",
       "<p>227837 rows × 50 columns</p>\n",
       "</div>"
      ],
      "text/plain": [
       "        contador CARTORIO REGISTRO  DATAREG  TIPOBITO  DATAOBITO  ESTCIVIL  \\\n",
       "0       180001                      951006   2         951002     2          \n",
       "1       180002                      951006   2         951002     3          \n",
       "2       180003                      951006   2         951003     2          \n",
       "3       180004                      951006   2         951003     3          \n",
       "4       180005                      951006   2         951004     1          \n",
       "...          ...      ...      ...      ...       ...        ...       ...   \n",
       "227832  179996                      951004   2         951001     4          \n",
       "227833  179997                      951004   2         951001     2          \n",
       "227834  179998                      951004   2         951001     3          \n",
       "227835  179999                      951006   2         951001     1          \n",
       "227836  180000                      951006   2         951001     1          \n",
       "\n",
       "        SEXO  DATANASC  IDADE  ... FONTINFO  ACIDTRAB  LOCACID CRITICA  \\\n",
       "0          1  19291003  465    ...           0         0                 \n",
       "1          2  18980317  497    ...           0         0                 \n",
       "2          2  19281002  467    ...           0         0                 \n",
       "3          1  19110613  484    ...           0         0                 \n",
       "4          1  19610914  434    ...           0         0                 \n",
       "...      ...       ...    ...  ...      ...       ...      ...     ...   \n",
       "227832     1  19380423  457    ...           0         0                 \n",
       "227833     1  19470130  448    ...           0         0                 \n",
       "227834     2  19160113  479    ...           0         0                 \n",
       "227835     1  19550901  440    ...           0         0                 \n",
       "227836     1  19700510  425    ...           0         0                 \n",
       "\n",
       "       NUMEXPORT CRSOCOR CRSRES RACACOR ETNIA  UFINFORM  \n",
       "0                                              35        \n",
       "1                                              35        \n",
       "2                                              35        \n",
       "3                                              35        \n",
       "4                                              35        \n",
       "...          ...     ...    ...     ...   ...       ...  \n",
       "227832                                         35        \n",
       "227833                                         35        \n",
       "227834                                         35        \n",
       "227835                                         35        \n",
       "227836                                         35        \n",
       "\n",
       "[227837 rows x 50 columns]"
      ]
     },
     "execution_count": 12,
     "metadata": {},
     "output_type": "execute_result"
    }
   ],
   "source": [
    "parquet.to_dataframe()"
   ]
  }
 ],
 "metadata": {
  "kernelspec": {
   "display_name": "Python 3 (ipykernel)",
   "language": "python",
   "name": "python3"
  },
  "language_info": {
   "codemirror_mode": {
    "name": "ipython",
    "version": 3
   },
   "file_extension": ".py",
   "mimetype": "text/x-python",
   "name": "python",
   "nbconvert_exporter": "python",
   "pygments_lexer": "ipython3",
   "version": "3.11.5"
  },
  "vscode": {
   "interpreter": {
    "hash": "2a96a5ccec8dfcba7d06b2e71f6eef3b5dac5716461bf5d73ea1bb7ee462cdaa"
   }
  }
 },
 "nbformat": 4,
 "nbformat_minor": 4
}
