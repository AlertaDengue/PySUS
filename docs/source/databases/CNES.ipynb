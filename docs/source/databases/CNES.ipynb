{
 "cells": [
  {
   "cell_type": "markdown",
   "metadata": {
    "id": "tFRs4aDTsdZb"
   },
   "source": [
    "# CNES FTP Database\n",
    "\n",
    "Code to work with CNES (Cadastro Nacional de Estabelecimentos de Saúde) directories and files inside DATASUS FTP\n",
    "\r\n"
   ]
  },
  {
   "cell_type": "code",
   "execution_count": 1,
   "metadata": {},
   "outputs": [],
   "source": [
    "from pysus.ftp.databases.cnes import CNES\n",
    "cnes = CNES()"
   ]
  },
  {
   "cell_type": "code",
   "execution_count": 2,
   "metadata": {},
   "outputs": [
    {
     "data": {
      "text/plain": [
       "{'long_name': 'Cadastro Nacional de Estabelecimentos de Saúde',\n",
       " 'source': 'https://cnes.datasus.gov.br/',\n",
       " 'description': 'O Cadastro Nacional de Estabelecimentos de Saúde (CNES) é o sistema de informação oficial de cadastramento de informações de todos os estabelecimentos de saúde no país, independentemente de sua natureza jurídica ou de integrarem o Sistema Único de Saúde (SUS). Trata-se do cadastro oficial do Ministério da Saúde (MS) no tocante à realidade da capacidade instalada e mão-de-obra assistencial de saúde no Brasil em estabelecimentos de saúde públicos ou privados, com convênio SUS ou não.'}"
      ]
     },
     "execution_count": 2,
     "metadata": {},
     "output_type": "execute_result"
    }
   ],
   "source": [
    "cnes.metadata"
   ]
  },
  {
   "cell_type": "markdown",
   "metadata": {},
   "source": [
    "CNES FTP Database has lazy loading (also applied to Directories), therefore its content will require explict `load()` to be displayed:"
   ]
  },
  {
   "cell_type": "code",
   "execution_count": 3,
   "metadata": {},
   "outputs": [
    {
     "name": "stderr",
     "output_type": "stream",
     "text": [
      "2023-09-15 09:24:42.736 | INFO     | pysus.ftp:content:413 - content is not loaded, use `load()` to load default paths\n"
     ]
    },
    {
     "data": {
      "text/plain": [
       "[]"
      ]
     },
     "execution_count": 3,
     "metadata": {},
     "output_type": "execute_result"
    }
   ],
   "source": [
    "cnes.content"
   ]
  },
  {
   "cell_type": "code",
   "execution_count": 4,
   "metadata": {},
   "outputs": [
    {
     "data": {
      "text/plain": [
       "CNES - Cadastro Nacional de Estabelecimentos de Saúde"
      ]
     },
     "execution_count": 4,
     "metadata": {},
     "output_type": "execute_result"
    }
   ],
   "source": [
    "cnes.load() # Loads default CNES content (from cnes.paths)"
   ]
  },
  {
   "cell_type": "code",
   "execution_count": 5,
   "metadata": {},
   "outputs": [
    {
     "data": {
      "text/plain": [
       "[/dissemin/publicos/CNES/200508_/Dados/DC,\n",
       " /dissemin/publicos/CNES/200508_/Dados/EE,\n",
       " /dissemin/publicos/CNES/200508_/Dados/EF,\n",
       " /dissemin/publicos/CNES/200508_/Dados/EP,\n",
       " /dissemin/publicos/CNES/200508_/Dados/EQ,\n",
       " /dissemin/publicos/CNES/200508_/Dados/GM,\n",
       " /dissemin/publicos/CNES/200508_/Dados/HB,\n",
       " /dissemin/publicos/CNES/200508_/Dados/IN,\n",
       " /dissemin/publicos/CNES/200508_/Dados/LT,\n",
       " /dissemin/publicos/CNES/200508_/Dados/PF,\n",
       " /dissemin/publicos/CNES/200508_/Dados/RC,\n",
       " /dissemin/publicos/CNES/200508_/Dados/SR,\n",
       " /dissemin/publicos/CNES/200508_/Dados/ST]"
      ]
     },
     "execution_count": 5,
     "metadata": {},
     "output_type": "execute_result"
    }
   ],
   "source": [
    "# Default content for (loaded) CNES database \n",
    "cnes.content"
   ]
  },
  {
   "cell_type": "markdown",
   "metadata": {},
   "source": [
    "## CNES Groups"
   ]
  },
  {
   "cell_type": "code",
   "execution_count": 6,
   "metadata": {},
   "outputs": [
    {
     "data": {
      "text/plain": [
       "{'DC': 'Dados Complementares',\n",
       " 'EE': 'Estabelecimento de Ensino',\n",
       " 'EF': 'Estabelecimento Filantrópico',\n",
       " 'EP': 'Equipes',\n",
       " 'EQ': 'Equipamentos',\n",
       " 'GM': 'Gestão e Metas',\n",
       " 'HB': 'Habilitação',\n",
       " 'IN': 'Incentivos',\n",
       " 'LT': 'Leitos',\n",
       " 'PF': 'Profissional',\n",
       " 'RC': 'Regra Contratual',\n",
       " 'SR': 'Serviço Especializado',\n",
       " 'ST': 'Estabelecimentos'}"
      ]
     },
     "execution_count": 6,
     "metadata": {},
     "output_type": "execute_result"
    }
   ],
   "source": [
    "cnes.groups"
   ]
  },
  {
   "cell_type": "markdown",
   "metadata": {},
   "source": [
    "## Loading groups\n",
    "\n",
    "To load specific groups into `cnes` content, it's possible to pass them in the `load()` method:"
   ]
  },
  {
   "cell_type": "code",
   "execution_count": 7,
   "metadata": {},
   "outputs": [
    {
     "name": "stdout",
     "output_type": "stream",
     "text": [
      "17757 files loaded\n"
     ]
    }
   ],
   "source": [
    "cnes.load(\"DC\")\n",
    "cnes.load([\"ST\", \"SR\"])\n",
    "print(str(len(cnes.content)) + \" files loaded\")"
   ]
  },
  {
   "cell_type": "markdown",
   "metadata": {},
   "source": [
    "## Filtering files"
   ]
  },
  {
   "cell_type": "markdown",
   "metadata": {},
   "source": [
    "#### by group (required)"
   ]
  },
  {
   "cell_type": "code",
   "execution_count": 8,
   "metadata": {},
   "outputs": [
    {
     "data": {
      "text/plain": [
       "5913"
      ]
     },
     "execution_count": 8,
     "metadata": {},
     "output_type": "execute_result"
    }
   ],
   "source": [
    "# Get files by group\n",
    "len(cnes.get_files(\"SR\"))"
   ]
  },
  {
   "cell_type": "code",
   "execution_count": 9,
   "metadata": {},
   "outputs": [
    {
     "data": {
      "text/plain": [
       "11833"
      ]
     },
     "execution_count": 9,
     "metadata": {},
     "output_type": "execute_result"
    }
   ],
   "source": [
    "# Multiple groups\n",
    "len(cnes.get_files([\"ST\", \"SR\"]))"
   ]
  },
  {
   "cell_type": "markdown",
   "metadata": {},
   "source": [
    "#### by UF (state)"
   ]
  },
  {
   "cell_type": "code",
   "execution_count": 10,
   "metadata": {},
   "outputs": [
    {
     "name": "stdout",
     "output_type": "stream",
     "text": [
      "SR - São Paulo files: 219\n"
     ]
    }
   ],
   "source": [
    "# Get files by UF from group\n",
    "print(\"SR - São Paulo files: \" + str(len( cnes.get_files(\"SR\", uf=\"SP\" ))))"
   ]
  },
  {
   "cell_type": "code",
   "execution_count": 11,
   "metadata": {},
   "outputs": [
    {
     "data": {
      "text/plain": [
       "438"
      ]
     },
     "execution_count": 11,
     "metadata": {},
     "output_type": "execute_result"
    }
   ],
   "source": [
    "# Multiple UFs\n",
    "len(cnes.get_files(\"SR\", uf=[\"SP\", \"RJ\"]))"
   ]
  },
  {
   "cell_type": "markdown",
   "metadata": {},
   "source": [
    "#### by year"
   ]
  },
  {
   "cell_type": "code",
   "execution_count": 12,
   "metadata": {},
   "outputs": [
    {
     "data": {
      "text/plain": [
       "189"
      ]
     },
     "execution_count": 12,
     "metadata": {},
     "output_type": "execute_result"
    }
   ],
   "source": [
    "len(cnes.get_files(\"SR\", year=2023)) # or 23"
   ]
  },
  {
   "cell_type": "code",
   "execution_count": 13,
   "metadata": {},
   "outputs": [
    {
     "data": {
      "text/plain": [
       "1216"
      ]
     },
     "execution_count": 13,
     "metadata": {},
     "output_type": "execute_result"
    }
   ],
   "source": [
    "# Multiple Years\n",
    "len(cnes.get_files(\"SR\", year=[20, 21, 22, 23]))"
   ]
  },
  {
   "cell_type": "markdown",
   "metadata": {},
   "source": [
    "#### by month"
   ]
  },
  {
   "cell_type": "code",
   "execution_count": 14,
   "metadata": {},
   "outputs": [
    {
     "data": {
      "text/plain": [
       "1945"
      ]
     },
     "execution_count": 14,
     "metadata": {},
     "output_type": "execute_result"
    }
   ],
   "source": [
    "len(cnes.get_files(\"SR\", month=[1, 2, 3, 4])) # or single month"
   ]
  },
  {
   "cell_type": "markdown",
   "metadata": {},
   "source": [
    "### Combining filters"
   ]
  },
  {
   "cell_type": "code",
   "execution_count": 15,
   "metadata": {},
   "outputs": [
    {
     "data": {
      "text/plain": [
       "[SRSP2301.dbc, SRSP2302.dbc, SRSP2303.dbc]"
      ]
     },
     "execution_count": 15,
     "metadata": {},
     "output_type": "execute_result"
    }
   ],
   "source": [
    "files = cnes.get_files(\"SR\", uf=\"SP\", year=2023, month=[1,2,3])\n",
    "files"
   ]
  },
  {
   "cell_type": "markdown",
   "metadata": {},
   "source": [
    "## Describing Files"
   ]
  },
  {
   "cell_type": "code",
   "execution_count": 16,
   "metadata": {},
   "outputs": [
    {
     "name": "stdout",
     "output_type": "stream",
     "text": [
      "{'group': 'Serviço Especializado',\n",
      " 'last_update': '2023-02-17 07:31AM',\n",
      " 'month': 'Janeiro',\n",
      " 'name': 'SRSP2301.dbc',\n",
      " 'size': '1.6 MB',\n",
      " 'uf': 'São Paulo',\n",
      " 'year': 2023}\n",
      "{'group': 'Serviço Especializado',\n",
      " 'last_update': '2023-03-14 02:34PM',\n",
      " 'month': 'Fevereiro',\n",
      " 'name': 'SRSP2302.dbc',\n",
      " 'size': '1.6 MB',\n",
      " 'uf': 'São Paulo',\n",
      " 'year': 2023}\n",
      "{'group': 'Serviço Especializado',\n",
      " 'last_update': '2023-04-17 07:34AM',\n",
      " 'month': 'Março',\n",
      " 'name': 'SRSP2303.dbc',\n",
      " 'size': '1.6 MB',\n",
      " 'uf': 'São Paulo',\n",
      " 'year': 2023}\n"
     ]
    }
   ],
   "source": [
    "from pprint import pprint\n",
    "for file in files:\n",
    "    pprint(cnes.describe(file))"
   ]
  },
  {
   "cell_type": "markdown",
   "metadata": {},
   "source": [
    "## Downloading Files"
   ]
  },
  {
   "cell_type": "code",
   "execution_count": 17,
   "metadata": {},
   "outputs": [
    {
     "name": "stderr",
     "output_type": "stream",
     "text": [
      "2023-09-15 09:24:49.070 | INFO     | pysus.ftp:download:109 - SRSP2301.dbc downloaded at /home/bida/pysus\n",
      "2023-09-15 09:24:50.594 | INFO     | pysus.ftp:download:109 - SRSP2302.dbc downloaded at /home/bida/pysus\n",
      "2023-09-15 09:24:52.115 | INFO     | pysus.ftp:download:109 - SRSP2303.dbc downloaded at /home/bida/pysus\n"
     ]
    },
    {
     "data": {
      "text/plain": [
       "['/home/bida/pysus/SRSP2301.dbc',\n",
       " '/home/bida/pysus/SRSP2302.dbc',\n",
       " '/home/bida/pysus/SRSP2303.dbc']"
      ]
     },
     "execution_count": 17,
     "metadata": {},
     "output_type": "execute_result"
    }
   ],
   "source": [
    "cnes.download(files)"
   ]
  }
 ],
 "metadata": {
  "colab": {
   "name": "Getting CNES Data.ipynb",
   "provenance": []
  },
  "kernelspec": {
   "display_name": "Python 3 (ipykernel)",
   "language": "python",
   "name": "python3"
  },
  "language_info": {
   "codemirror_mode": {
    "name": "ipython",
    "version": 3
   },
   "file_extension": ".py",
   "mimetype": "text/x-python",
   "name": "python",
   "nbconvert_exporter": "python",
   "pygments_lexer": "ipython3",
   "version": "3.11.5"
  }
 },
 "nbformat": 4,
 "nbformat_minor": 4
}
