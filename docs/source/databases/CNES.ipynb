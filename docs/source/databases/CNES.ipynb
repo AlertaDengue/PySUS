{
 "cells": [
  {
   "cell_type": "markdown",
   "metadata": {
    "id": "tFRs4aDTsdZb"
   },
   "source": [
    "# CNES FTP Database\n",
    "\n",
    "Code to work with CNES (Cadastro Nacional de Estabelecimentos de Saúde) directories and files inside DATASUS FTP\n",
    "\r\n"
   ]
  },
  {
   "cell_type": "code",
   "execution_count": 1,
   "metadata": {},
   "outputs": [],
   "source": [
    "from pysus.ftp.databases.cnes import CNES\n",
    "cnes = CNES()"
   ]
  },
  {
   "cell_type": "code",
   "execution_count": 2,
   "metadata": {},
   "outputs": [
    {
     "data": {
      "text/plain": [
       "{'long_name': 'Cadastro Nacional de Estabelecimentos de Saúde',\n",
       " 'source': 'https://cnes.datasus.gov.br/',\n",
       " 'description': 'O Cadastro Nacional de Estabelecimentos de Saúde (CNES) é o sistema de informação oficial de cadastramento de informações de todos os estabelecimentos de saúde no país, independentemente de sua natureza jurídica ou de integrarem o Sistema Único de Saúde (SUS). Trata-se do cadastro oficial do Ministério da Saúde (MS) no tocante à realidade da capacidade instalada e mão-de-obra assistencial de saúde no Brasil em estabelecimentos de saúde públicos ou privados, com convênio SUS ou não.'}"
      ]
     },
     "execution_count": 2,
     "metadata": {},
     "output_type": "execute_result"
    }
   ],
   "source": [
    "cnes.metadata"
   ]
  },
  {
   "cell_type": "markdown",
   "metadata": {},
   "source": [
    "CNES FTP Database has lazy loading (also applied to Directories), therefore its content will require explict `load()` to be displayed:"
   ]
  },
  {
   "cell_type": "code",
   "execution_count": 3,
   "metadata": {},
   "outputs": [
    {
     "name": "stderr",
     "output_type": "stream",
     "text": [
      "2023-09-19 11:57:40.905 | INFO     | pysus.ftp:content:440 - content is not loaded, use `load()` to load default paths\n"
     ]
    },
    {
     "data": {
      "text/plain": [
       "[]"
      ]
     },
     "execution_count": 3,
     "metadata": {},
     "output_type": "execute_result"
    }
   ],
   "source": [
    "cnes.content"
   ]
  },
  {
   "cell_type": "code",
   "execution_count": 4,
   "metadata": {},
   "outputs": [
    {
     "data": {
      "text/plain": [
       "CNES - Cadastro Nacional de Estabelecimentos de Saúde"
      ]
     },
     "execution_count": 4,
     "metadata": {},
     "output_type": "execute_result"
    }
   ],
   "source": [
    "cnes.load() # Loads default CNES content (from cnes.paths)"
   ]
  },
  {
   "cell_type": "code",
   "execution_count": 5,
   "metadata": {},
   "outputs": [
    {
     "data": {
      "text/plain": [
       "[/dissemin/publicos/CNES/200508_/Dados/DC,\n",
       " /dissemin/publicos/CNES/200508_/Dados/EE,\n",
       " /dissemin/publicos/CNES/200508_/Dados/EF,\n",
       " /dissemin/publicos/CNES/200508_/Dados/EP,\n",
       " /dissemin/publicos/CNES/200508_/Dados/EQ,\n",
       " /dissemin/publicos/CNES/200508_/Dados/GM,\n",
       " /dissemin/publicos/CNES/200508_/Dados/HB,\n",
       " /dissemin/publicos/CNES/200508_/Dados/IN,\n",
       " /dissemin/publicos/CNES/200508_/Dados/LT,\n",
       " /dissemin/publicos/CNES/200508_/Dados/PF,\n",
       " /dissemin/publicos/CNES/200508_/Dados/RC,\n",
       " /dissemin/publicos/CNES/200508_/Dados/SR,\n",
       " /dissemin/publicos/CNES/200508_/Dados/ST]"
      ]
     },
     "execution_count": 5,
     "metadata": {},
     "output_type": "execute_result"
    }
   ],
   "source": [
    "# Default content for (loaded) CNES database \n",
    "cnes.content"
   ]
  },
  {
   "cell_type": "markdown",
   "metadata": {},
   "source": [
    "## CNES Groups"
   ]
  },
  {
   "cell_type": "code",
   "execution_count": 6,
   "metadata": {},
   "outputs": [
    {
     "data": {
      "text/plain": [
       "{'DC': 'Dados Complementares',\n",
       " 'EE': 'Estabelecimento de Ensino',\n",
       " 'EF': 'Estabelecimento Filantrópico',\n",
       " 'EP': 'Equipes',\n",
       " 'EQ': 'Equipamentos',\n",
       " 'GM': 'Gestão e Metas',\n",
       " 'HB': 'Habilitação',\n",
       " 'IN': 'Incentivos',\n",
       " 'LT': 'Leitos',\n",
       " 'PF': 'Profissional',\n",
       " 'RC': 'Regra Contratual',\n",
       " 'SR': 'Serviço Especializado',\n",
       " 'ST': 'Estabelecimentos'}"
      ]
     },
     "execution_count": 6,
     "metadata": {},
     "output_type": "execute_result"
    }
   ],
   "source": [
    "cnes.groups"
   ]
  },
  {
   "cell_type": "markdown",
   "metadata": {},
   "source": [
    "## Loading groups\n",
    "\n",
    "To load specific groups into `cnes` content, it's possible to pass them in the `load()` method:"
   ]
  },
  {
   "cell_type": "code",
   "execution_count": 7,
   "metadata": {},
   "outputs": [
    {
     "name": "stdout",
     "output_type": "stream",
     "text": [
      "17838 files loaded\n"
     ]
    }
   ],
   "source": [
    "cnes.load(\"DC\")\n",
    "cnes.load([\"ST\", \"SR\"])\n",
    "print(str(len(cnes.content)) + \" files loaded\")"
   ]
  },
  {
   "cell_type": "markdown",
   "metadata": {},
   "source": [
    "## Filtering files"
   ]
  },
  {
   "cell_type": "markdown",
   "metadata": {},
   "source": [
    "#### by group (required)"
   ]
  },
  {
   "cell_type": "code",
   "execution_count": 8,
   "metadata": {},
   "outputs": [
    {
     "data": {
      "text/plain": [
       "5940"
      ]
     },
     "execution_count": 8,
     "metadata": {},
     "output_type": "execute_result"
    }
   ],
   "source": [
    "# Get files by group\n",
    "len(cnes.get_files(\"SR\"))"
   ]
  },
  {
   "cell_type": "code",
   "execution_count": 9,
   "metadata": {},
   "outputs": [
    {
     "data": {
      "text/plain": [
       "11887"
      ]
     },
     "execution_count": 9,
     "metadata": {},
     "output_type": "execute_result"
    }
   ],
   "source": [
    "# Multiple groups\n",
    "len(cnes.get_files([\"ST\", \"SR\"]))"
   ]
  },
  {
   "cell_type": "markdown",
   "metadata": {},
   "source": [
    "#### by UF (state)"
   ]
  },
  {
   "cell_type": "code",
   "execution_count": 10,
   "metadata": {},
   "outputs": [
    {
     "name": "stdout",
     "output_type": "stream",
     "text": [
      "SR - São Paulo files: 220\n"
     ]
    }
   ],
   "source": [
    "# Get files by UF from group\n",
    "print(\"SR - São Paulo files: \" + str(len( cnes.get_files(\"SR\", uf=\"SP\" ))))"
   ]
  },
  {
   "cell_type": "code",
   "execution_count": 11,
   "metadata": {},
   "outputs": [
    {
     "data": {
      "text/plain": [
       "440"
      ]
     },
     "execution_count": 11,
     "metadata": {},
     "output_type": "execute_result"
    }
   ],
   "source": [
    "# Multiple UFs\n",
    "len(cnes.get_files(\"SR\", uf=[\"SP\", \"RJ\"]))"
   ]
  },
  {
   "cell_type": "markdown",
   "metadata": {},
   "source": [
    "#### by year"
   ]
  },
  {
   "cell_type": "code",
   "execution_count": 12,
   "metadata": {},
   "outputs": [
    {
     "data": {
      "text/plain": [
       "216"
      ]
     },
     "execution_count": 12,
     "metadata": {},
     "output_type": "execute_result"
    }
   ],
   "source": [
    "len(cnes.get_files(\"SR\", year=2023)) # or 23"
   ]
  },
  {
   "cell_type": "code",
   "execution_count": 13,
   "metadata": {},
   "outputs": [
    {
     "data": {
      "text/plain": [
       "1243"
      ]
     },
     "execution_count": 13,
     "metadata": {},
     "output_type": "execute_result"
    }
   ],
   "source": [
    "# Multiple Years\n",
    "len(cnes.get_files(\"SR\", year=[20, 21, 22, 23]))"
   ]
  },
  {
   "cell_type": "markdown",
   "metadata": {},
   "source": [
    "#### by month"
   ]
  },
  {
   "cell_type": "code",
   "execution_count": 14,
   "metadata": {},
   "outputs": [
    {
     "data": {
      "text/plain": [
       "1945"
      ]
     },
     "execution_count": 14,
     "metadata": {},
     "output_type": "execute_result"
    }
   ],
   "source": [
    "len(cnes.get_files(\"SR\", month=[1, 2, 3, 4])) # or single month"
   ]
  },
  {
   "cell_type": "markdown",
   "metadata": {},
   "source": [
    "### Combining filters"
   ]
  },
  {
   "cell_type": "code",
   "execution_count": 15,
   "metadata": {},
   "outputs": [
    {
     "data": {
      "text/plain": [
       "[SRSP2301.dbc, SRSP2302.dbc, SRSP2303.dbc]"
      ]
     },
     "execution_count": 15,
     "metadata": {},
     "output_type": "execute_result"
    }
   ],
   "source": [
    "files = cnes.get_files(\"SR\", uf=\"SP\", year=2023, month=[1,2,3])\n",
    "files"
   ]
  },
  {
   "cell_type": "markdown",
   "metadata": {},
   "source": [
    "## Describing Files"
   ]
  },
  {
   "cell_type": "code",
   "execution_count": 16,
   "metadata": {},
   "outputs": [
    {
     "name": "stdout",
     "output_type": "stream",
     "text": [
      "{'group': 'Serviço Especializado',\n",
      " 'last_update': '2023-02-17 07:31AM',\n",
      " 'month': 'Janeiro',\n",
      " 'name': 'SRSP2301.dbc',\n",
      " 'size': '1.6 MB',\n",
      " 'uf': 'São Paulo',\n",
      " 'year': 2023}\n",
      "{'group': 'Serviço Especializado',\n",
      " 'last_update': '2023-03-14 02:34PM',\n",
      " 'month': 'Fevereiro',\n",
      " 'name': 'SRSP2302.dbc',\n",
      " 'size': '1.6 MB',\n",
      " 'uf': 'São Paulo',\n",
      " 'year': 2023}\n",
      "{'group': 'Serviço Especializado',\n",
      " 'last_update': '2023-04-17 07:34AM',\n",
      " 'month': 'Março',\n",
      " 'name': 'SRSP2303.dbc',\n",
      " 'size': '1.6 MB',\n",
      " 'uf': 'São Paulo',\n",
      " 'year': 2023}\n"
     ]
    }
   ],
   "source": [
    "from pprint import pprint\n",
    "for file in files:\n",
    "    pprint(cnes.describe(file))"
   ]
  },
  {
   "cell_type": "markdown",
   "metadata": {},
   "source": [
    "## Downloading Files"
   ]
  },
  {
   "cell_type": "code",
   "execution_count": 17,
   "metadata": {},
   "outputs": [
    {
     "name": "stderr",
     "output_type": "stream",
     "text": [
      "SRSP2303.parquet: 100%|██████████| 81.4k/81.4k [00:05<00:00, 14.8kB/s]\n"
     ]
    },
    {
     "data": {
      "text/plain": [
       "[/home/bida/pysus/SRSP2301.parquet,\n",
       " /home/bida/pysus/SRSP2302.parquet,\n",
       " /home/bida/pysus/SRSP2303.parquet]"
      ]
     },
     "execution_count": 17,
     "metadata": {},
     "output_type": "execute_result"
    }
   ],
   "source": [
    "parquets = cnes.download(files)\n",
    "parquets"
   ]
  },
  {
   "cell_type": "markdown",
   "metadata": {},
   "source": [
    "### Reading files\n",
    "\n",
    "PySUS uses Parquets as output, use the method `to_dataframe()` to read the file as pandas DataFrame"
   ]
  },
  {
   "cell_type": "code",
   "execution_count": 18,
   "metadata": {},
   "outputs": [
    {
     "data": {
      "text/html": [
       "<div>\n",
       "<style scoped>\n",
       "    .dataframe tbody tr th:only-of-type {\n",
       "        vertical-align: middle;\n",
       "    }\n",
       "\n",
       "    .dataframe tbody tr th {\n",
       "        vertical-align: top;\n",
       "    }\n",
       "\n",
       "    .dataframe thead th {\n",
       "        text-align: right;\n",
       "    }\n",
       "</style>\n",
       "<table border=\"1\" class=\"dataframe\">\n",
       "  <thead>\n",
       "    <tr style=\"text-align: right;\">\n",
       "      <th></th>\n",
       "      <th>CNES</th>\n",
       "      <th>CODUFMUN</th>\n",
       "      <th>SERV_ESP</th>\n",
       "      <th>CLASS_SR</th>\n",
       "      <th>SRVUNICO</th>\n",
       "      <th>REGSAUDE</th>\n",
       "      <th>MICR_REG</th>\n",
       "      <th>DISTRSAN</th>\n",
       "      <th>DISTRADM</th>\n",
       "      <th>TPGESTAO</th>\n",
       "      <th>...</th>\n",
       "      <th>CNPJ_MAN</th>\n",
       "      <th>CARACTER</th>\n",
       "      <th>AMB_NSUS</th>\n",
       "      <th>AMB_SUS</th>\n",
       "      <th>HOSP_NSUS</th>\n",
       "      <th>HOSP_SUS</th>\n",
       "      <th>COMPETEN</th>\n",
       "      <th>CONTSRVU</th>\n",
       "      <th>CNESTERC</th>\n",
       "      <th>NAT_JUR</th>\n",
       "    </tr>\n",
       "  </thead>\n",
       "  <tbody>\n",
       "    <tr>\n",
       "      <th>0</th>\n",
       "      <td>2790920</td>\n",
       "      <td>351450</td>\n",
       "      <td>145</td>\n",
       "      <td>008</td>\n",
       "      <td></td>\n",
       "      <td>0206</td>\n",
       "      <td></td>\n",
       "      <td></td>\n",
       "      <td></td>\n",
       "      <td>M</td>\n",
       "      <td>...</td>\n",
       "      <td>00000000000000</td>\n",
       "      <td>1</td>\n",
       "      <td>1</td>\n",
       "      <td>0</td>\n",
       "      <td>0</td>\n",
       "      <td>0</td>\n",
       "      <td>202301</td>\n",
       "      <td></td>\n",
       "      <td></td>\n",
       "      <td>2062</td>\n",
       "    </tr>\n",
       "    <tr>\n",
       "      <th>1</th>\n",
       "      <td>2790920</td>\n",
       "      <td>351450</td>\n",
       "      <td>145</td>\n",
       "      <td>009</td>\n",
       "      <td></td>\n",
       "      <td>0206</td>\n",
       "      <td></td>\n",
       "      <td></td>\n",
       "      <td></td>\n",
       "      <td>M</td>\n",
       "      <td>...</td>\n",
       "      <td>00000000000000</td>\n",
       "      <td>1</td>\n",
       "      <td>1</td>\n",
       "      <td>0</td>\n",
       "      <td>0</td>\n",
       "      <td>0</td>\n",
       "      <td>202301</td>\n",
       "      <td></td>\n",
       "      <td></td>\n",
       "      <td>2062</td>\n",
       "    </tr>\n",
       "    <tr>\n",
       "      <th>2</th>\n",
       "      <td>2790920</td>\n",
       "      <td>351450</td>\n",
       "      <td>145</td>\n",
       "      <td>010</td>\n",
       "      <td></td>\n",
       "      <td>0206</td>\n",
       "      <td></td>\n",
       "      <td></td>\n",
       "      <td></td>\n",
       "      <td>M</td>\n",
       "      <td>...</td>\n",
       "      <td>00000000000000</td>\n",
       "      <td>1</td>\n",
       "      <td>1</td>\n",
       "      <td>0</td>\n",
       "      <td>0</td>\n",
       "      <td>0</td>\n",
       "      <td>202301</td>\n",
       "      <td></td>\n",
       "      <td></td>\n",
       "      <td>2062</td>\n",
       "    </tr>\n",
       "    <tr>\n",
       "      <th>3</th>\n",
       "      <td>2790920</td>\n",
       "      <td>351450</td>\n",
       "      <td>145</td>\n",
       "      <td>013</td>\n",
       "      <td></td>\n",
       "      <td>0206</td>\n",
       "      <td></td>\n",
       "      <td></td>\n",
       "      <td></td>\n",
       "      <td>M</td>\n",
       "      <td>...</td>\n",
       "      <td>00000000000000</td>\n",
       "      <td>1</td>\n",
       "      <td>1</td>\n",
       "      <td>0</td>\n",
       "      <td>0</td>\n",
       "      <td>0</td>\n",
       "      <td>202301</td>\n",
       "      <td></td>\n",
       "      <td></td>\n",
       "      <td>2062</td>\n",
       "    </tr>\n",
       "    <tr>\n",
       "      <th>4</th>\n",
       "      <td>3025489</td>\n",
       "      <td>351450</td>\n",
       "      <td>111</td>\n",
       "      <td>001</td>\n",
       "      <td>111</td>\n",
       "      <td>0206</td>\n",
       "      <td></td>\n",
       "      <td></td>\n",
       "      <td></td>\n",
       "      <td>M</td>\n",
       "      <td>...</td>\n",
       "      <td>46137485000160</td>\n",
       "      <td>1</td>\n",
       "      <td>0</td>\n",
       "      <td>1</td>\n",
       "      <td>0</td>\n",
       "      <td>0</td>\n",
       "      <td>202301</td>\n",
       "      <td>1</td>\n",
       "      <td></td>\n",
       "      <td>1244</td>\n",
       "    </tr>\n",
       "    <tr>\n",
       "      <th>...</th>\n",
       "      <td>...</td>\n",
       "      <td>...</td>\n",
       "      <td>...</td>\n",
       "      <td>...</td>\n",
       "      <td>...</td>\n",
       "      <td>...</td>\n",
       "      <td>...</td>\n",
       "      <td>...</td>\n",
       "      <td>...</td>\n",
       "      <td>...</td>\n",
       "      <td>...</td>\n",
       "      <td>...</td>\n",
       "      <td>...</td>\n",
       "      <td>...</td>\n",
       "      <td>...</td>\n",
       "      <td>...</td>\n",
       "      <td>...</td>\n",
       "      <td>...</td>\n",
       "      <td>...</td>\n",
       "      <td>...</td>\n",
       "      <td>...</td>\n",
       "    </tr>\n",
       "    <tr>\n",
       "      <th>144830</th>\n",
       "      <td>0008885</td>\n",
       "      <td>354780</td>\n",
       "      <td>141</td>\n",
       "      <td>002</td>\n",
       "      <td></td>\n",
       "      <td></td>\n",
       "      <td></td>\n",
       "      <td></td>\n",
       "      <td></td>\n",
       "      <td>M</td>\n",
       "      <td>...</td>\n",
       "      <td>46522942000130</td>\n",
       "      <td>1</td>\n",
       "      <td>0</td>\n",
       "      <td>1</td>\n",
       "      <td>0</td>\n",
       "      <td>0</td>\n",
       "      <td>202301</td>\n",
       "      <td></td>\n",
       "      <td></td>\n",
       "      <td>1244</td>\n",
       "    </tr>\n",
       "    <tr>\n",
       "      <th>144831</th>\n",
       "      <td>0008885</td>\n",
       "      <td>354780</td>\n",
       "      <td>144</td>\n",
       "      <td>001</td>\n",
       "      <td>144</td>\n",
       "      <td></td>\n",
       "      <td></td>\n",
       "      <td></td>\n",
       "      <td></td>\n",
       "      <td>M</td>\n",
       "      <td>...</td>\n",
       "      <td>46522942000130</td>\n",
       "      <td>1</td>\n",
       "      <td>0</td>\n",
       "      <td>1</td>\n",
       "      <td>0</td>\n",
       "      <td>0</td>\n",
       "      <td>202301</td>\n",
       "      <td>1</td>\n",
       "      <td></td>\n",
       "      <td>1244</td>\n",
       "    </tr>\n",
       "    <tr>\n",
       "      <th>144832</th>\n",
       "      <td>0008885</td>\n",
       "      <td>354780</td>\n",
       "      <td>159</td>\n",
       "      <td>001</td>\n",
       "      <td>159</td>\n",
       "      <td></td>\n",
       "      <td></td>\n",
       "      <td></td>\n",
       "      <td></td>\n",
       "      <td>M</td>\n",
       "      <td>...</td>\n",
       "      <td>46522942000130</td>\n",
       "      <td>1</td>\n",
       "      <td>0</td>\n",
       "      <td>1</td>\n",
       "      <td>0</td>\n",
       "      <td>0</td>\n",
       "      <td>202301</td>\n",
       "      <td>1</td>\n",
       "      <td></td>\n",
       "      <td>1244</td>\n",
       "    </tr>\n",
       "    <tr>\n",
       "      <th>144833</th>\n",
       "      <td>0008885</td>\n",
       "      <td>354780</td>\n",
       "      <td>159</td>\n",
       "      <td>004</td>\n",
       "      <td></td>\n",
       "      <td></td>\n",
       "      <td></td>\n",
       "      <td></td>\n",
       "      <td></td>\n",
       "      <td>M</td>\n",
       "      <td>...</td>\n",
       "      <td>46522942000130</td>\n",
       "      <td>1</td>\n",
       "      <td>0</td>\n",
       "      <td>1</td>\n",
       "      <td>0</td>\n",
       "      <td>0</td>\n",
       "      <td>202301</td>\n",
       "      <td></td>\n",
       "      <td></td>\n",
       "      <td>1244</td>\n",
       "    </tr>\n",
       "    <tr>\n",
       "      <th>144834</th>\n",
       "      <td>0008885</td>\n",
       "      <td>354780</td>\n",
       "      <td>159</td>\n",
       "      <td>005</td>\n",
       "      <td></td>\n",
       "      <td></td>\n",
       "      <td></td>\n",
       "      <td></td>\n",
       "      <td></td>\n",
       "      <td>M</td>\n",
       "      <td>...</td>\n",
       "      <td>46522942000130</td>\n",
       "      <td>1</td>\n",
       "      <td>0</td>\n",
       "      <td>1</td>\n",
       "      <td>0</td>\n",
       "      <td>0</td>\n",
       "      <td>202301</td>\n",
       "      <td></td>\n",
       "      <td></td>\n",
       "      <td>1244</td>\n",
       "    </tr>\n",
       "  </tbody>\n",
       "</table>\n",
       "<p>144835 rows × 32 columns</p>\n",
       "</div>"
      ],
      "text/plain": [
       "           CNES CODUFMUN SERV_ESP CLASS_SR SRVUNICO REGSAUDE MICR_REG  \\\n",
       "0       2790920   351450      145      008              0206            \n",
       "1       2790920   351450      145      009              0206            \n",
       "2       2790920   351450      145      010              0206            \n",
       "3       2790920   351450      145      013              0206            \n",
       "4       3025489   351450      111      001      111     0206            \n",
       "...         ...      ...      ...      ...      ...      ...      ...   \n",
       "144830  0008885   354780      141      002                              \n",
       "144831  0008885   354780      144      001      144                     \n",
       "144832  0008885   354780      159      001      159                     \n",
       "144833  0008885   354780      159      004                              \n",
       "144834  0008885   354780      159      005                              \n",
       "\n",
       "       DISTRSAN DISTRADM TPGESTAO  ...        CNPJ_MAN CARACTER AMB_NSUS  \\\n",
       "0                               M  ...  00000000000000        1        1   \n",
       "1                               M  ...  00000000000000        1        1   \n",
       "2                               M  ...  00000000000000        1        1   \n",
       "3                               M  ...  00000000000000        1        1   \n",
       "4                               M  ...  46137485000160        1        0   \n",
       "...         ...      ...      ...  ...             ...      ...      ...   \n",
       "144830                          M  ...  46522942000130        1        0   \n",
       "144831                          M  ...  46522942000130        1        0   \n",
       "144832                          M  ...  46522942000130        1        0   \n",
       "144833                          M  ...  46522942000130        1        0   \n",
       "144834                          M  ...  46522942000130        1        0   \n",
       "\n",
       "       AMB_SUS HOSP_NSUS HOSP_SUS COMPETEN CONTSRVU CNESTERC NAT_JUR  \n",
       "0            0         0        0   202301                      2062  \n",
       "1            0         0        0   202301                      2062  \n",
       "2            0         0        0   202301                      2062  \n",
       "3            0         0        0   202301                      2062  \n",
       "4            1         0        0   202301        1             1244  \n",
       "...        ...       ...      ...      ...      ...      ...     ...  \n",
       "144830       1         0        0   202301                      1244  \n",
       "144831       1         0        0   202301        1             1244  \n",
       "144832       1         0        0   202301        1             1244  \n",
       "144833       1         0        0   202301                      1244  \n",
       "144834       1         0        0   202301                      1244  \n",
       "\n",
       "[144835 rows x 32 columns]"
      ]
     },
     "execution_count": 18,
     "metadata": {},
     "output_type": "execute_result"
    }
   ],
   "source": [
    "parquets[0].to_dataframe()"
   ]
  }
 ],
 "metadata": {
  "colab": {
   "name": "Getting CNES Data.ipynb",
   "provenance": []
  },
  "kernelspec": {
   "display_name": "Python 3 (ipykernel)",
   "language": "python",
   "name": "python3"
  },
  "language_info": {
   "codemirror_mode": {
    "name": "ipython",
    "version": 3
   },
   "file_extension": ".py",
   "mimetype": "text/x-python",
   "name": "python",
   "nbconvert_exporter": "python",
   "pygments_lexer": "ipython3",
   "version": "3.11.5"
  }
 },
 "nbformat": 4,
 "nbformat_minor": 4
}
