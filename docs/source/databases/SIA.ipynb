{
 "cells": [
  {
   "cell_type": "markdown",
   "id": "a73920ee-3902-4270-a17d-b7907d8561d7",
   "metadata": {},
   "source": [
    "# SIA FTP Database\n",
    "##### Sistema de Informações Ambulatoriais"
   ]
  },
  {
   "cell_type": "code",
   "execution_count": 1,
   "id": "8d619b0d-300c-4bc2-a738-bf96d650311d",
   "metadata": {},
   "outputs": [],
   "source": [
    "from pysus.ftp.databases.sia import SIA\n",
    "sia = SIA().load() # Loads the files from DATASUS"
   ]
  },
  {
   "cell_type": "code",
   "execution_count": 2,
   "id": "4d50b674-b5bd-4ec5-a812-15c680841879",
   "metadata": {},
   "outputs": [
    {
     "data": {
      "text/plain": [
       "SIA - Sistema de Informações Ambulatoriais"
      ]
     },
     "execution_count": 2,
     "metadata": {},
     "output_type": "execute_result"
    }
   ],
   "source": [
    "sia"
   ]
  },
  {
   "cell_type": "code",
   "execution_count": 3,
   "id": "5a74172b-841e-4ba7-bcc6-41ec9a216423",
   "metadata": {},
   "outputs": [
    {
     "data": {
      "text/plain": [
       "{'long_name': 'Sistema de Informações Ambulatoriais',\n",
       " 'source': 'http://sia.datasus.gov.br/principal/index.php',\n",
       " 'description': 'O Sistema de Informação Ambulatorial (SIA) foi instituído pela Portaria GM/MS n.º 896 de 29 de junho de 1990. Originalmente, o SIA foi concebido a partir do projeto SICAPS (Sistema de Informação e Controle Ambulatorial da Previdência Social), em que os conceitos, os objetivos e as diretrizes criados para o desenvolvimento do SICAPS foram extremamente importantes e amplamente utilizados para o desenvolvimento do SIA, tais como: (i) o acompanhamento das programações físicas e orçamentárias; (ii) o acompanhamento das ações de saúde produzidas; (iii) a agilização do pagamento e controle orçamentário e financeiro; e (iv) a formação de banco de dados para contribuir com a construção do SUS.'}"
      ]
     },
     "execution_count": 3,
     "metadata": {},
     "output_type": "execute_result"
    }
   ],
   "source": [
    "sia.metadata"
   ]
  },
  {
   "cell_type": "code",
   "execution_count": 4,
   "id": "10e69ba8-baa1-4718-b53e-40af23084324",
   "metadata": {},
   "outputs": [
    {
     "data": {
      "text/plain": [
       "{'AB': 'APAC de Cirurgia Bariátrica',\n",
       " 'ABO': 'APAC de Acompanhamento Pós Cirurgia Bariátrica',\n",
       " 'ACF': 'APAC de Confecção de Fístula',\n",
       " 'AD': 'APAC de Laudos Diversos',\n",
       " 'AM': 'APAC de Medicamentos',\n",
       " 'AMP': 'APAC de Acompanhamento Multiprofissional',\n",
       " 'AN': 'APAC de Nefrologia',\n",
       " 'AQ': 'APAC de Quimioterapia',\n",
       " 'AR': 'APAC de Radioterapia',\n",
       " 'ATD': 'APAC de Tratamento Dialítico',\n",
       " 'BI': 'Boletim de Produção Ambulatorial individualizado',\n",
       " 'IMPBO': '',\n",
       " 'PA': 'Produção Ambulatorial',\n",
       " 'PAM': '',\n",
       " 'PAR': '',\n",
       " 'PAS': '',\n",
       " 'PS': 'RAAS Psicossocial',\n",
       " 'SAD': 'RAAS de Atenção Domiciliar'}"
      ]
     },
     "execution_count": 4,
     "metadata": {},
     "output_type": "execute_result"
    }
   ],
   "source": [
    "sia.groups"
   ]
  },
  {
   "cell_type": "markdown",
   "id": "ff0b298c-69cf-4884-b7c8-2936de2c3508",
   "metadata": {},
   "source": [
    "### Getting specific files"
   ]
  },
  {
   "cell_type": "code",
   "execution_count": 5,
   "id": "3910f87e-965b-4a5e-8fb2-9c9ad257d0f7",
   "metadata": {},
   "outputs": [
    {
     "name": "stdout",
     "output_type": "stream",
     "text": [
      "14300 files\n"
     ]
    }
   ],
   "source": [
    "print(str(len(sia.get_files([\"PA\", \"BI\"]))) + \" files\")"
   ]
  },
  {
   "cell_type": "code",
   "execution_count": 6,
   "id": "c3cd4449-55fd-418d-a6e0-53ff38cd9258",
   "metadata": {},
   "outputs": [
    {
     "data": {
      "text/plain": [
       "[PASP0001.dbc,\n",
       " PASP0002.dbc,\n",
       " PASP0004.dbc,\n",
       " PASP0005.dbc,\n",
       " Pasp0006.dbc,\n",
       " pasp0003.dbc,\n",
       " pasp0007.dbc,\n",
       " pasp0008.dbc,\n",
       " pasp0009.dbc,\n",
       " pasp0010.dbc,\n",
       " pasp0011.dbc,\n",
       " pasp0012.dbc]"
      ]
     },
     "execution_count": 6,
     "metadata": {},
     "output_type": "execute_result"
    }
   ],
   "source": [
    "sia.get_files(\"PA\", uf=\"SP\", year=2000)"
   ]
  },
  {
   "cell_type": "code",
   "execution_count": 7,
   "id": "3883f518-c21e-4334-b18e-7fd9127aa83f",
   "metadata": {},
   "outputs": [
    {
     "data": {
      "text/plain": [
       "[PASP0001.dbc, PASP0002.dbc, pasp0003.dbc]"
      ]
     },
     "execution_count": 7,
     "metadata": {},
     "output_type": "execute_result"
    }
   ],
   "source": [
    "files = sia.get_files(\"PA\", uf=\"SP\", year=2000, month=[1,2,3])\n",
    "files"
   ]
  },
  {
   "cell_type": "markdown",
   "id": "c065668a-0157-40cb-8662-0daf9db2937b",
   "metadata": {},
   "source": [
    "### Describing files inside DATASUS server"
   ]
  },
  {
   "cell_type": "code",
   "execution_count": 8,
   "id": "017d4445-f172-4376-ba85-19c06f9d1de4",
   "metadata": {},
   "outputs": [
    {
     "data": {
      "text/plain": [
       "{'name': 'PASP0001.dbc',\n",
       " 'group': 'Produção Ambulatorial',\n",
       " 'uf': 'São Paulo',\n",
       " 'month': 'Janeiro',\n",
       " 'year': 2000,\n",
       " 'size': '7.2 MB',\n",
       " 'last_update': '2013-10-24 04:18PM'}"
      ]
     },
     "execution_count": 8,
     "metadata": {},
     "output_type": "execute_result"
    }
   ],
   "source": [
    "sia.describe(files[0])"
   ]
  },
  {
   "cell_type": "markdown",
   "id": "59039f48-9c9b-4807-81f6-24d2139a70b8",
   "metadata": {},
   "source": [
    "### Downloading files"
   ]
  },
  {
   "cell_type": "markdown",
   "id": "dc671449-d4d3-4e32-9afd-68f0d844a104",
   "metadata": {},
   "source": [
    "You can rather download multiple files or download them individually:"
   ]
  },
  {
   "cell_type": "code",
   "execution_count": 9,
   "id": "8f53a375-266b-4290-8705-408d236fd6d1",
   "metadata": {},
   "outputs": [
    {
     "data": {
      "text/plain": [
       "['/home/bida/pysus/PASP0001.dbc',\n",
       " '/home/bida/pysus/PASP0002.dbc',\n",
       " '/home/bida/pysus/pasp0003.dbc']"
      ]
     },
     "execution_count": 9,
     "metadata": {},
     "output_type": "execute_result"
    }
   ],
   "source": [
    "sia.download(files)"
   ]
  },
  {
   "cell_type": "code",
   "execution_count": 10,
   "id": "dfac23ae-1018-4767-8092-dc05b35727e7",
   "metadata": {},
   "outputs": [
    {
     "data": {
      "text/plain": [
       "'/tmp/PASP0001.dbc'"
      ]
     },
     "execution_count": 10,
     "metadata": {},
     "output_type": "execute_result"
    }
   ],
   "source": [
    "files[0].download(local_dir=\"/tmp\") # Specify a local directory"
   ]
  },
  {
   "cell_type": "markdown",
   "id": "70e10d61-d2a7-49ed-a409-38175321df04",
   "metadata": {},
   "source": [
    "@Note: If the file has been downloaded already, it's required to delete it in order to download the lastest updated file from DATASUS. "
   ]
  }
 ],
 "metadata": {
  "kernelspec": {
   "display_name": "Python 3 (ipykernel)",
   "language": "python",
   "name": "python3"
  },
  "language_info": {
   "codemirror_mode": {
    "name": "ipython",
    "version": 3
   },
   "file_extension": ".py",
   "mimetype": "text/x-python",
   "name": "python",
   "nbconvert_exporter": "python",
   "pygments_lexer": "ipython3",
   "version": "3.11.5"
  }
 },
 "nbformat": 4,
 "nbformat_minor": 5
}
