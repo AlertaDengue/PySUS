{
 "cells": [
  {
   "cell_type": "markdown",
   "id": "a73920ee-3902-4270-a17d-b7907d8561d7",
   "metadata": {},
   "source": [
    "# SIA FTP Database\n",
    "##### Sistema de Informações Ambulatoriais"
   ]
  },
  {
   "cell_type": "code",
   "execution_count": 1,
   "id": "8d619b0d-300c-4bc2-a738-bf96d650311d",
   "metadata": {},
   "outputs": [],
   "source": [
    "from pysus.ftp.databases.sia import SIA\n",
    "sia = SIA().load() # Loads the files from DATASUS"
   ]
  },
  {
   "cell_type": "code",
   "execution_count": 2,
   "id": "4d50b674-b5bd-4ec5-a812-15c680841879",
   "metadata": {},
   "outputs": [
    {
     "data": {
      "text/plain": [
       "SIA - Sistema de Informações Ambulatoriais"
      ]
     },
     "execution_count": 2,
     "metadata": {},
     "output_type": "execute_result"
    }
   ],
   "source": [
    "sia"
   ]
  },
  {
   "cell_type": "code",
   "execution_count": 3,
   "id": "5a74172b-841e-4ba7-bcc6-41ec9a216423",
   "metadata": {},
   "outputs": [
    {
     "data": {
      "text/plain": [
       "{'long_name': 'Sistema de Informações Ambulatoriais',\n",
       " 'source': 'http://sia.datasus.gov.br/principal/index.php',\n",
       " 'description': 'O Sistema de Informação Ambulatorial (SIA) foi instituído pela Portaria GM/MS n.º 896 de 29 de junho de 1990. Originalmente, o SIA foi concebido a partir do projeto SICAPS (Sistema de Informação e Controle Ambulatorial da Previdência Social), em que os conceitos, os objetivos e as diretrizes criados para o desenvolvimento do SICAPS foram extremamente importantes e amplamente utilizados para o desenvolvimento do SIA, tais como: (i) o acompanhamento das programações físicas e orçamentárias; (ii) o acompanhamento das ações de saúde produzidas; (iii) a agilização do pagamento e controle orçamentário e financeiro; e (iv) a formação de banco de dados para contribuir com a construção do SUS.'}"
      ]
     },
     "execution_count": 3,
     "metadata": {},
     "output_type": "execute_result"
    }
   ],
   "source": [
    "sia.metadata"
   ]
  },
  {
   "cell_type": "code",
   "execution_count": 4,
   "id": "10e69ba8-baa1-4718-b53e-40af23084324",
   "metadata": {},
   "outputs": [
    {
     "data": {
      "text/plain": [
       "{'AB': 'APAC de Cirurgia Bariátrica',\n",
       " 'ABO': 'APAC de Acompanhamento Pós Cirurgia Bariátrica',\n",
       " 'ACF': 'APAC de Confecção de Fístula',\n",
       " 'AD': 'APAC de Laudos Diversos',\n",
       " 'AM': 'APAC de Medicamentos',\n",
       " 'AMP': 'APAC de Acompanhamento Multiprofissional',\n",
       " 'AN': 'APAC de Nefrologia',\n",
       " 'AQ': 'APAC de Quimioterapia',\n",
       " 'AR': 'APAC de Radioterapia',\n",
       " 'ATD': 'APAC de Tratamento Dialítico',\n",
       " 'BI': 'Boletim de Produção Ambulatorial individualizado',\n",
       " 'IMPBO': '',\n",
       " 'PA': 'Produção Ambulatorial',\n",
       " 'PAM': '',\n",
       " 'PAR': '',\n",
       " 'PAS': '',\n",
       " 'PS': 'RAAS Psicossocial',\n",
       " 'SAD': 'RAAS de Atenção Domiciliar'}"
      ]
     },
     "execution_count": 4,
     "metadata": {},
     "output_type": "execute_result"
    }
   ],
   "source": [
    "sia.groups"
   ]
  },
  {
   "cell_type": "markdown",
   "id": "ff0b298c-69cf-4884-b7c8-2936de2c3508",
   "metadata": {},
   "source": [
    "### Getting specific files"
   ]
  },
  {
   "cell_type": "code",
   "execution_count": 5,
   "id": "3910f87e-965b-4a5e-8fb2-9c9ad257d0f7",
   "metadata": {},
   "outputs": [
    {
     "name": "stdout",
     "output_type": "stream",
     "text": [
      "14300 files\n"
     ]
    }
   ],
   "source": [
    "print(str(len(sia.get_files([\"PA\", \"BI\"]))) + \" files\")"
   ]
  },
  {
   "cell_type": "code",
   "execution_count": 6,
   "id": "c3cd4449-55fd-418d-a6e0-53ff38cd9258",
   "metadata": {},
   "outputs": [
    {
     "data": {
      "text/plain": [
       "[PASP0001.dbc,\n",
       " PASP0002.dbc,\n",
       " PASP0004.dbc,\n",
       " PASP0005.dbc,\n",
       " Pasp0006.dbc,\n",
       " pasp0003.dbc,\n",
       " pasp0007.dbc,\n",
       " pasp0008.dbc,\n",
       " pasp0009.dbc,\n",
       " pasp0010.dbc,\n",
       " pasp0011.dbc,\n",
       " pasp0012.dbc]"
      ]
     },
     "execution_count": 6,
     "metadata": {},
     "output_type": "execute_result"
    }
   ],
   "source": [
    "sia.get_files(\"PA\", uf=\"SP\", year=2000)"
   ]
  },
  {
   "cell_type": "code",
   "execution_count": 7,
   "id": "3883f518-c21e-4334-b18e-7fd9127aa83f",
   "metadata": {},
   "outputs": [
    {
     "data": {
      "text/plain": [
       "[PASP0001.dbc, PASP0002.dbc]"
      ]
     },
     "execution_count": 7,
     "metadata": {},
     "output_type": "execute_result"
    }
   ],
   "source": [
    "files = sia.get_files(\"PA\", uf=\"SP\", year=2000, month=[1,2])\n",
    "files"
   ]
  },
  {
   "cell_type": "markdown",
   "id": "c065668a-0157-40cb-8662-0daf9db2937b",
   "metadata": {},
   "source": [
    "### Describing files inside DATASUS server"
   ]
  },
  {
   "cell_type": "code",
   "execution_count": 8,
   "id": "017d4445-f172-4376-ba85-19c06f9d1de4",
   "metadata": {},
   "outputs": [
    {
     "data": {
      "text/plain": [
       "{'name': 'PASP0001.dbc',\n",
       " 'group': 'Produção Ambulatorial',\n",
       " 'uf': 'São Paulo',\n",
       " 'month': 'Janeiro',\n",
       " 'year': 2000,\n",
       " 'size': '7.2 MB',\n",
       " 'last_update': '2013-10-24 04:18PM'}"
      ]
     },
     "execution_count": 8,
     "metadata": {},
     "output_type": "execute_result"
    }
   ],
   "source": [
    "sia.describe(files[0])"
   ]
  },
  {
   "cell_type": "markdown",
   "id": "59039f48-9c9b-4807-81f6-24d2139a70b8",
   "metadata": {},
   "source": [
    "### Downloading files"
   ]
  },
  {
   "cell_type": "markdown",
   "id": "dc671449-d4d3-4e32-9afd-68f0d844a104",
   "metadata": {},
   "source": [
    "You can rather download multiple files or download them individually:"
   ]
  },
  {
   "cell_type": "code",
   "execution_count": 9,
   "id": "8f53a375-266b-4290-8705-408d236fd6d1",
   "metadata": {},
   "outputs": [
    {
     "name": "stderr",
     "output_type": "stream",
     "text": [
      "PASP0002.parquet: 100%|████████████| 447k/447k [00:20<00:00, 21.6kB/s]\n"
     ]
    },
    {
     "data": {
      "text/plain": [
       "[/home/bida/pysus/PASP0001.parquet, /home/bida/pysus/PASP0002.parquet]"
      ]
     },
     "execution_count": 9,
     "metadata": {},
     "output_type": "execute_result"
    }
   ],
   "source": [
    "sia.download(files) # or specify a directory with `local_dir=` "
   ]
  },
  {
   "cell_type": "markdown",
   "id": "70e10d61-d2a7-49ed-a409-38175321df04",
   "metadata": {},
   "source": [
    "@Note: If the file has been downloaded already, it's required to delete it in order to download the lastest updated file from DATASUS. "
   ]
  },
  {
   "cell_type": "markdown",
   "id": "886389c2-5c26-43c2-9820-0c3fa9d85021",
   "metadata": {},
   "source": [
    "### Reading files\n",
    "\n",
    "PySUS uses Parquets as output, use the method `to_dataframe()` to read the file as pandas DataFrame"
   ]
  },
  {
   "cell_type": "code",
   "execution_count": 10,
   "id": "4d2ddb3e-0d04-4b3c-952f-12ddd658751b",
   "metadata": {},
   "outputs": [
    {
     "name": "stderr",
     "output_type": "stream",
     "text": [
      "100%|████████████████████████████| 7.73M/7.73M [00:00<00:00, 4.84GB/s]\n"
     ]
    }
   ],
   "source": [
    "parquet = sia.download(files)[0]"
   ]
  },
  {
   "cell_type": "code",
   "execution_count": 11,
   "id": "0ef3fb2b-af49-4744-9692-410c4c4820b1",
   "metadata": {},
   "outputs": [
    {
     "data": {
      "text/html": [
       "<div>\n",
       "<style scoped>\n",
       "    .dataframe tbody tr th:only-of-type {\n",
       "        vertical-align: middle;\n",
       "    }\n",
       "\n",
       "    .dataframe tbody tr th {\n",
       "        vertical-align: top;\n",
       "    }\n",
       "\n",
       "    .dataframe thead th {\n",
       "        text-align: right;\n",
       "    }\n",
       "</style>\n",
       "<table border=\"1\" class=\"dataframe\">\n",
       "  <thead>\n",
       "    <tr style=\"text-align: right;\">\n",
       "      <th></th>\n",
       "      <th>PA_CONDIC</th>\n",
       "      <th>PA_GESTAO</th>\n",
       "      <th>PA_CODUNI</th>\n",
       "      <th>PA_DATREF</th>\n",
       "      <th>PA_CODPRO</th>\n",
       "      <th>PA_DOCORIG</th>\n",
       "      <th>PA_CODESP</th>\n",
       "      <th>PA_TIPPRO</th>\n",
       "      <th>PA_TIPATE</th>\n",
       "      <th>PA_FXETAR</th>\n",
       "      <th>...</th>\n",
       "      <th>PA_DATPR</th>\n",
       "      <th>PA_VALPRO</th>\n",
       "      <th>PA_VALAPR</th>\n",
       "      <th>PA_UFMUN</th>\n",
       "      <th>PA_MUNAT</th>\n",
       "      <th>PA_NUMAPA</th>\n",
       "      <th>PA_CODOCO</th>\n",
       "      <th>PA_CIDPRI</th>\n",
       "      <th>PA_CIDSEC</th>\n",
       "      <th>PA_MORFOL</th>\n",
       "    </tr>\n",
       "  </thead>\n",
       "  <tbody>\n",
       "    <tr>\n",
       "      <th>0</th>\n",
       "      <td>EC</td>\n",
       "      <td>359999</td>\n",
       "      <td>000867</td>\n",
       "      <td>200001</td>\n",
       "      <td>0701223</td>\n",
       "      <td>B</td>\n",
       "      <td>27</td>\n",
       "      <td>02</td>\n",
       "      <td>99</td>\n",
       "      <td></td>\n",
       "      <td>...</td>\n",
       "      <td>200001</td>\n",
       "      <td>58.65</td>\n",
       "      <td>58.65</td>\n",
       "      <td>355030</td>\n",
       "      <td>355030</td>\n",
       "      <td>00000000000</td>\n",
       "      <td>S01</td>\n",
       "      <td></td>\n",
       "      <td></td>\n",
       "      <td></td>\n",
       "    </tr>\n",
       "    <tr>\n",
       "      <th>1</th>\n",
       "      <td>EC</td>\n",
       "      <td>359999</td>\n",
       "      <td>000867</td>\n",
       "      <td>200001</td>\n",
       "      <td>0701223</td>\n",
       "      <td>B</td>\n",
       "      <td>27</td>\n",
       "      <td>02</td>\n",
       "      <td>99</td>\n",
       "      <td></td>\n",
       "      <td>...</td>\n",
       "      <td>200001</td>\n",
       "      <td>15.30</td>\n",
       "      <td>15.30</td>\n",
       "      <td>355030</td>\n",
       "      <td>355030</td>\n",
       "      <td>00000000000</td>\n",
       "      <td>S01</td>\n",
       "      <td></td>\n",
       "      <td></td>\n",
       "      <td></td>\n",
       "    </tr>\n",
       "    <tr>\n",
       "      <th>2</th>\n",
       "      <td>EC</td>\n",
       "      <td>359999</td>\n",
       "      <td>000867</td>\n",
       "      <td>200001</td>\n",
       "      <td>0701223</td>\n",
       "      <td>B</td>\n",
       "      <td>27</td>\n",
       "      <td>02</td>\n",
       "      <td>99</td>\n",
       "      <td></td>\n",
       "      <td>...</td>\n",
       "      <td>200001</td>\n",
       "      <td>12.75</td>\n",
       "      <td>12.75</td>\n",
       "      <td>355030</td>\n",
       "      <td>355030</td>\n",
       "      <td>00000000000</td>\n",
       "      <td>S01</td>\n",
       "      <td></td>\n",
       "      <td></td>\n",
       "      <td></td>\n",
       "    </tr>\n",
       "    <tr>\n",
       "      <th>3</th>\n",
       "      <td>EC</td>\n",
       "      <td>359999</td>\n",
       "      <td>000867</td>\n",
       "      <td>200001</td>\n",
       "      <td>0701223</td>\n",
       "      <td>B</td>\n",
       "      <td>27</td>\n",
       "      <td>02</td>\n",
       "      <td>99</td>\n",
       "      <td></td>\n",
       "      <td>...</td>\n",
       "      <td>200001</td>\n",
       "      <td>12.75</td>\n",
       "      <td>12.75</td>\n",
       "      <td>355030</td>\n",
       "      <td>355030</td>\n",
       "      <td>00000000000</td>\n",
       "      <td>S01</td>\n",
       "      <td></td>\n",
       "      <td></td>\n",
       "      <td></td>\n",
       "    </tr>\n",
       "    <tr>\n",
       "      <th>4</th>\n",
       "      <td>EC</td>\n",
       "      <td>359999</td>\n",
       "      <td>000867</td>\n",
       "      <td>200001</td>\n",
       "      <td>0701223</td>\n",
       "      <td>B</td>\n",
       "      <td>27</td>\n",
       "      <td>02</td>\n",
       "      <td>99</td>\n",
       "      <td></td>\n",
       "      <td>...</td>\n",
       "      <td>200001</td>\n",
       "      <td>5.10</td>\n",
       "      <td>5.10</td>\n",
       "      <td>355030</td>\n",
       "      <td>355030</td>\n",
       "      <td>00000000000</td>\n",
       "      <td>S01</td>\n",
       "      <td></td>\n",
       "      <td></td>\n",
       "      <td></td>\n",
       "    </tr>\n",
       "    <tr>\n",
       "      <th>...</th>\n",
       "      <td>...</td>\n",
       "      <td>...</td>\n",
       "      <td>...</td>\n",
       "      <td>...</td>\n",
       "      <td>...</td>\n",
       "      <td>...</td>\n",
       "      <td>...</td>\n",
       "      <td>...</td>\n",
       "      <td>...</td>\n",
       "      <td>...</td>\n",
       "      <td>...</td>\n",
       "      <td>...</td>\n",
       "      <td>...</td>\n",
       "      <td>...</td>\n",
       "      <td>...</td>\n",
       "      <td>...</td>\n",
       "      <td>...</td>\n",
       "      <td>...</td>\n",
       "      <td>...</td>\n",
       "      <td>...</td>\n",
       "      <td>...</td>\n",
       "    </tr>\n",
       "    <tr>\n",
       "      <th>725999</th>\n",
       "      <td>EA</td>\n",
       "      <td>359999</td>\n",
       "      <td>016127</td>\n",
       "      <td>200001</td>\n",
       "      <td>0102302</td>\n",
       "      <td>B</td>\n",
       "      <td>77</td>\n",
       "      <td>00</td>\n",
       "      <td>00</td>\n",
       "      <td></td>\n",
       "      <td>...</td>\n",
       "      <td>200001</td>\n",
       "      <td>3972.00</td>\n",
       "      <td>3972.00</td>\n",
       "      <td>355030</td>\n",
       "      <td>355030</td>\n",
       "      <td>00000000000</td>\n",
       "      <td>S01</td>\n",
       "      <td></td>\n",
       "      <td></td>\n",
       "      <td></td>\n",
       "    </tr>\n",
       "    <tr>\n",
       "      <th>726000</th>\n",
       "      <td>EA</td>\n",
       "      <td>359999</td>\n",
       "      <td>016127</td>\n",
       "      <td>200001</td>\n",
       "      <td>0302206</td>\n",
       "      <td>B</td>\n",
       "      <td>30</td>\n",
       "      <td>00</td>\n",
       "      <td>00</td>\n",
       "      <td></td>\n",
       "      <td>...</td>\n",
       "      <td>200001</td>\n",
       "      <td>2.48</td>\n",
       "      <td>2.48</td>\n",
       "      <td>355030</td>\n",
       "      <td>355030</td>\n",
       "      <td>00000000000</td>\n",
       "      <td>S01</td>\n",
       "      <td></td>\n",
       "      <td></td>\n",
       "      <td></td>\n",
       "    </tr>\n",
       "    <tr>\n",
       "      <th>726001</th>\n",
       "      <td>EA</td>\n",
       "      <td>359999</td>\n",
       "      <td>016127</td>\n",
       "      <td>200001</td>\n",
       "      <td>0302207</td>\n",
       "      <td>B</td>\n",
       "      <td>30</td>\n",
       "      <td>00</td>\n",
       "      <td>00</td>\n",
       "      <td></td>\n",
       "      <td>...</td>\n",
       "      <td>200001</td>\n",
       "      <td>6.39</td>\n",
       "      <td>6.39</td>\n",
       "      <td>355030</td>\n",
       "      <td>355030</td>\n",
       "      <td>00000000000</td>\n",
       "      <td>S01</td>\n",
       "      <td></td>\n",
       "      <td></td>\n",
       "      <td></td>\n",
       "    </tr>\n",
       "    <tr>\n",
       "      <th>726002</th>\n",
       "      <td>EA</td>\n",
       "      <td>359999</td>\n",
       "      <td>016127</td>\n",
       "      <td>200001</td>\n",
       "      <td>0304103</td>\n",
       "      <td>B</td>\n",
       "      <td>30</td>\n",
       "      <td>00</td>\n",
       "      <td>00</td>\n",
       "      <td></td>\n",
       "      <td>...</td>\n",
       "      <td>200001</td>\n",
       "      <td>7.92</td>\n",
       "      <td>7.92</td>\n",
       "      <td>355030</td>\n",
       "      <td>355030</td>\n",
       "      <td>00000000000</td>\n",
       "      <td>S01</td>\n",
       "      <td></td>\n",
       "      <td></td>\n",
       "      <td></td>\n",
       "    </tr>\n",
       "    <tr>\n",
       "      <th>726003</th>\n",
       "      <td>EA</td>\n",
       "      <td>359999</td>\n",
       "      <td>016127</td>\n",
       "      <td>200001</td>\n",
       "      <td>0401103</td>\n",
       "      <td>B</td>\n",
       "      <td>01</td>\n",
       "      <td>00</td>\n",
       "      <td>27</td>\n",
       "      <td></td>\n",
       "      <td>...</td>\n",
       "      <td>200001</td>\n",
       "      <td>2.00</td>\n",
       "      <td>2.00</td>\n",
       "      <td>355030</td>\n",
       "      <td>355030</td>\n",
       "      <td>00000000000</td>\n",
       "      <td>S01</td>\n",
       "      <td></td>\n",
       "      <td></td>\n",
       "      <td></td>\n",
       "    </tr>\n",
       "  </tbody>\n",
       "</table>\n",
       "<p>726004 rows × 24 columns</p>\n",
       "</div>"
      ],
      "text/plain": [
       "       PA_CONDIC PA_GESTAO PA_CODUNI PA_DATREF PA_CODPRO PA_DOCORIG PA_CODESP  \\\n",
       "0             EC    359999    000867    200001   0701223          B        27   \n",
       "1             EC    359999    000867    200001   0701223          B        27   \n",
       "2             EC    359999    000867    200001   0701223          B        27   \n",
       "3             EC    359999    000867    200001   0701223          B        27   \n",
       "4             EC    359999    000867    200001   0701223          B        27   \n",
       "...          ...       ...       ...       ...       ...        ...       ...   \n",
       "725999        EA    359999    016127    200001   0102302          B        77   \n",
       "726000        EA    359999    016127    200001   0302206          B        30   \n",
       "726001        EA    359999    016127    200001   0302207          B        30   \n",
       "726002        EA    359999    016127    200001   0304103          B        30   \n",
       "726003        EA    359999    016127    200001   0401103          B        01   \n",
       "\n",
       "       PA_TIPPRO PA_TIPATE PA_FXETAR  ... PA_DATPR   PA_VALPRO   PA_VALAPR  \\\n",
       "0             02        99            ...   200001       58.65       58.65   \n",
       "1             02        99            ...   200001       15.30       15.30   \n",
       "2             02        99            ...   200001       12.75       12.75   \n",
       "3             02        99            ...   200001       12.75       12.75   \n",
       "4             02        99            ...   200001        5.10        5.10   \n",
       "...          ...       ...       ...  ...      ...         ...         ...   \n",
       "725999        00        00            ...   200001     3972.00     3972.00   \n",
       "726000        00        00            ...   200001        2.48        2.48   \n",
       "726001        00        00            ...   200001        6.39        6.39   \n",
       "726002        00        00            ...   200001        7.92        7.92   \n",
       "726003        00        27            ...   200001        2.00        2.00   \n",
       "\n",
       "       PA_UFMUN PA_MUNAT    PA_NUMAPA PA_CODOCO PA_CIDPRI PA_CIDSEC PA_MORFOL  \n",
       "0        355030   355030  00000000000       S01                                \n",
       "1        355030   355030  00000000000       S01                                \n",
       "2        355030   355030  00000000000       S01                                \n",
       "3        355030   355030  00000000000       S01                                \n",
       "4        355030   355030  00000000000       S01                                \n",
       "...         ...      ...          ...       ...       ...       ...       ...  \n",
       "725999   355030   355030  00000000000       S01                                \n",
       "726000   355030   355030  00000000000       S01                                \n",
       "726001   355030   355030  00000000000       S01                                \n",
       "726002   355030   355030  00000000000       S01                                \n",
       "726003   355030   355030  00000000000       S01                                \n",
       "\n",
       "[726004 rows x 24 columns]"
      ]
     },
     "execution_count": 11,
     "metadata": {},
     "output_type": "execute_result"
    }
   ],
   "source": [
    "parquet.to_dataframe()"
   ]
  }
 ],
 "metadata": {
  "kernelspec": {
   "display_name": "Python 3 (ipykernel)",
   "language": "python",
   "name": "python3"
  },
  "language_info": {
   "codemirror_mode": {
    "name": "ipython",
    "version": 3
   },
   "file_extension": ".py",
   "mimetype": "text/x-python",
   "name": "python",
   "nbconvert_exporter": "python",
   "pygments_lexer": "ipython3",
   "version": "3.11.5"
  }
 },
 "nbformat": 4,
 "nbformat_minor": 5
}
