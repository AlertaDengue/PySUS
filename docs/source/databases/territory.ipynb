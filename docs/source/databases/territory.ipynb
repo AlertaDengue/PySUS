{
 "cells": [
  {
   "cell_type": "markdown",
   "metadata": {},
   "source": [
    "# Downloading territory information"
   ]
  },
  {
   "cell_type": "code",
   "execution_count": 1,
   "metadata": {},
   "outputs": [],
   "source": [
    "import pandas as pd\n",
    "from pysus.online_data import territory"
   ]
  },
  {
   "cell_type": "code",
   "execution_count": 2,
   "metadata": {},
   "outputs": [
    {
     "data": {
      "text/plain": [
       "[02-base_territorio_fev24.zip,\n",
       " 03-base_territorial_mar.zip,\n",
       " 04-base_territorial_abr.zip,\n",
       " 05-base_territorial_mai24.zip,\n",
       " 06-base_territorial_jun24.zip,\n",
       " 07-base_territorial_jul24.zip,\n",
       " 08-base_territorial_ago24.zip,\n",
       " 09-base_territorial_set24.zip,\n",
       " 10-base_territorial_out24.zip,\n",
       " 11-base territorial_nov24.zip,\n",
       " base_territorial_2023.zip]"
      ]
     },
     "execution_count": 2,
     "metadata": {},
     "output_type": "execute_result"
    }
   ],
   "source": [
    "territory.list_tables()"
   ]
  },
  {
   "cell_type": "code",
   "execution_count": 3,
   "metadata": {},
   "outputs": [
    {
     "data": {
      "text/plain": [
       "[ac_mapas_2013.zip,\n",
       " al_mapas_2013.zip,\n",
       " am_mapas_1991.zip,\n",
       " am_mapas_1994.zip,\n",
       " am_mapas_1997.zip,\n",
       " am_mapas_2001.zip,\n",
       " am_mapas_2005.zip,\n",
       " am_mapas_2013.zip,\n",
       " ap_mapas_2013.zip,\n",
       " ba_mapas_2013.zip,\n",
       " br_mapas_1991.zip,\n",
       " br_mapas_1994.zip,\n",
       " br_mapas_1997.zip,\n",
       " br_mapas_2001.zip,\n",
       " br_mapas_2005.zip,\n",
       " br_mapas_2013.zip,\n",
       " ce_mapas_1991.zip,\n",
       " ce_mapas_1994.zip,\n",
       " ce_mapas_1997.zip,\n",
       " ce_mapas_2001.zip,\n",
       " ce_mapas_2005.zip,\n",
       " ce_mapas_2013.zip,\n",
       " df_mapas_2013.zip,\n",
       " es_mapas_2013.zip,\n",
       " go_mapas_1991.zip,\n",
       " go_mapas_1994.zip,\n",
       " go_mapas_1997.zip,\n",
       " go_mapas_2001.zip,\n",
       " go_mapas_2005.zip,\n",
       " go_mapas_2013.zip,\n",
       " ma_mapas_1991.zip,\n",
       " ma_mapas_1994.zip,\n",
       " ma_mapas_1997.zip,\n",
       " ma_mapas_2001.zip,\n",
       " ma_mapas_2005.zip,\n",
       " ma_mapas_2013.zip,\n",
       " mg_mapas_2013.zip,\n",
       " mrco_mapas_1991.zip,\n",
       " mrco_mapas_1994.zip,\n",
       " mrco_mapas_1997.zip,\n",
       " mrco_mapas_2001.zip,\n",
       " mrco_mapas_2005.zip,\n",
       " mrco_mapas_2013.zip,\n",
       " mrne_mapas_1991.zip,\n",
       " mrne_mapas_1994.zip,\n",
       " mrne_mapas_1997.zip,\n",
       " mrne_mapas_2001.zip,\n",
       " mrne_mapas_2005.zip,\n",
       " mrne_mapas_2013.zip,\n",
       " mrno_mapas_1991.zip,\n",
       " mrno_mapas_1994.zip,\n",
       " mrno_mapas_1997.zip,\n",
       " mrno_mapas_2001.zip,\n",
       " mrno_mapas_2005.zip,\n",
       " mrno_mapas_2013.zip,\n",
       " mrse_mapas_1991.zip,\n",
       " mrse_mapas_1994.zip,\n",
       " mrse_mapas_1997.zip,\n",
       " mrse_mapas_2001.zip,\n",
       " mrse_mapas_2005.zip,\n",
       " mrse_mapas_2013.zip,\n",
       " mrsu_mapas_1991.zip,\n",
       " mrsu_mapas_1994.zip,\n",
       " mrsu_mapas_1997.zip,\n",
       " mrsu_mapas_2001.zip,\n",
       " mrsu_mapas_2005.zip,\n",
       " mrsu_mapas_2013.zip,\n",
       " ms_mapas_2013.zip,\n",
       " mt_mapas_1991.zip,\n",
       " mt_mapas_1994.zip,\n",
       " mt_mapas_1997.zip,\n",
       " mt_mapas_2001.zip,\n",
       " mt_mapas_2005.zip,\n",
       " mt_mapas_2013.zip,\n",
       " pa_mapas_2013.zip,\n",
       " pb_mapas_1991.zip,\n",
       " pb_mapas_1994.zip,\n",
       " pb_mapas_1997.zip,\n",
       " pb_mapas_2001.zip,\n",
       " pb_mapas_2005.zip,\n",
       " pb_mapas_2013.zip,\n",
       " pe_mapas_2013.zip,\n",
       " pi_mapas_2013.zip,\n",
       " pr_mapas_1991.zip,\n",
       " pr_mapas_1994.zip,\n",
       " pr_mapas_1997.zip,\n",
       " pr_mapas_2001.zip,\n",
       " pr_mapas_2005.zip,\n",
       " pr_mapas_2013.zip,\n",
       " rj_mapas_2013.zip,\n",
       " rn_mapas_2013.zip,\n",
       " ro_mapas_2013.zip,\n",
       " rr_mapas_2013.zip,\n",
       " rs_mapas_1991.zip,\n",
       " rs_mapas_1994.zip,\n",
       " rs_mapas_1997.zip,\n",
       " rs_mapas_2001.zip,\n",
       " rs_mapas_2005.zip,\n",
       " rs_mapas_2013.zip,\n",
       " sc_mapas_1991.zip,\n",
       " sc_mapas_1994.zip,\n",
       " sc_mapas_1997.zip,\n",
       " sc_mapas_2001.zip,\n",
       " sc_mapas_2005.zip,\n",
       " sc_mapas_2013.zip,\n",
       " se_mapas_2013.zip,\n",
       " sp_mapas_1991.zip,\n",
       " sp_mapas_1994.zip,\n",
       " sp_mapas_1997.zip,\n",
       " sp_mapas_2001.zip,\n",
       " sp_mapas_2005.zip,\n",
       " sp_mapas_2013.zip,\n",
       " todos_mapas_1991.zip,\n",
       " todos_mapas_1994.zip,\n",
       " todos_mapas_1997.zip,\n",
       " todos_mapas_2001.zip,\n",
       " todos_mapas_2005.zip,\n",
       " todos_mapas_2013.zip,\n",
       " to_mapas_2013.zip]"
      ]
     },
     "execution_count": 3,
     "metadata": {},
     "output_type": "execute_result"
    }
   ],
   "source": [
    "territory.list_maps()"
   ]
  },
  {
   "cell_type": "code",
   "execution_count": 4,
   "metadata": {},
   "outputs": [
    {
     "data": {
      "text/plain": [
       "'/home/bida/pysus/todos_mapas_2013.zip'"
      ]
     },
     "execution_count": 4,
     "metadata": {},
     "output_type": "execute_result"
    }
   ],
   "source": [
    "territory.download('todos_mapas_2013.zip')"
   ]
  },
  {
   "cell_type": "code",
   "execution_count": 5,
   "metadata": {},
   "outputs": [
    {
     "data": {
      "text/plain": [
       "'/home/bida/pysus/02-base_territorio_fev24.zip'"
      ]
     },
     "execution_count": 5,
     "metadata": {},
     "output_type": "execute_result"
    }
   ],
   "source": [
    "territory.download('02-base_territorio_fev24.zip')"
   ]
  }
 ],
 "metadata": {
  "kernelspec": {
   "display_name": "Python 3 (ipykernel)",
   "language": "python",
   "name": "python3"
  },
  "language_info": {
   "codemirror_mode": {
    "name": "ipython",
    "version": 3
   },
   "file_extension": ".py",
   "mimetype": "text/x-python",
   "name": "python",
   "nbconvert_exporter": "python",
   "pygments_lexer": "ipython3",
   "version": "3.11.8"
  }
 },
 "nbformat": 4,
 "nbformat_minor": 4
}
