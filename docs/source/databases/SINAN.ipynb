{
 "cells": [
  {
   "cell_type": "markdown",
   "metadata": {
    "pycharm": {
     "name": "#%% md\n"
    }
   },
   "source": [
    "# SINAN FTP Database \n",
    "##### Available diseases and years to download\n"
   ]
  },
  {
   "cell_type": "code",
   "execution_count": 1,
   "metadata": {
    "collapsed": false,
    "jupyter": {
     "outputs_hidden": false
    },
    "pycharm": {
     "name": "#%%\n"
    }
   },
   "outputs": [],
   "source": [
    "from pysus.ftp.databases.sinan import SINAN\n",
    "sinan = SINAN().load() # Loads the files from DATASUS"
   ]
  },
  {
   "cell_type": "code",
   "execution_count": 2,
   "metadata": {},
   "outputs": [
    {
     "data": {
      "text/plain": [
       "{'long_name': 'Doenças e Agravos de Notificação',\n",
       " 'source': 'https://portalsinan.saude.gov.br/',\n",
       " 'description': 'The Notifiable Diseases Information System - Sinan is primarilyfed by the notification and investigation of cases of diseases and conditions listed in the national list of compulsorily notifiable diseases (Consolidation Ordinance No. 4, September 28, 2017, Annex).However, states and municipalities are allowed to include other important health problems in their region, such as difilobotriasis in the municipality of São Paulo. Its effective use enables the dynamic diagnosis of the occurrence of an event in the population, providing evidence for causal explanations of compulsorily notifiable diseases and indicating risks to which people are exposed. This contributes to identifying the epidemiological reality of a specific geographical area. Its systematic, decentralized use contributes to the democratization of information, allowing all healthcare professionals to access and make it available to the community. Therefore, it is a relevant tool to assist in health planning, define intervention priorities, and evaluate the impact of interventions.'}"
      ]
     },
     "execution_count": 2,
     "metadata": {},
     "output_type": "execute_result"
    }
   ],
   "source": [
    "sinan.metadata"
   ]
  },
  {
   "cell_type": "markdown",
   "metadata": {},
   "source": [
    "### Listing SINAN Codes & Diseases"
   ]
  },
  {
   "cell_type": "code",
   "execution_count": 3,
   "metadata": {
    "collapsed": false,
    "jupyter": {
     "outputs_hidden": false
    },
    "pycharm": {
     "name": "#%%\n"
    }
   },
   "outputs": [
    {
     "data": {
      "text/plain": [
       "{'ACBI': 'Acidente de trabalho com material biológico',\n",
       " 'ACGR': 'Acidente de trabalho',\n",
       " 'ANIM': 'Acidente por Animais Peçonhentos',\n",
       " 'ANTR': 'Atendimento Antirrabico',\n",
       " 'BOTU': 'Botulismo',\n",
       " 'CANC': 'Cancêr relacionado ao trabalho',\n",
       " 'CHAG': 'Doença de Chagas Aguda',\n",
       " 'CHIK': 'Febre de Chikungunya',\n",
       " 'COLE': 'Cólera',\n",
       " 'COQU': 'Coqueluche',\n",
       " 'DENG': 'Dengue',\n",
       " 'DERM': 'Dermatoses ocupacionais',\n",
       " 'DIFT': 'Difteria',\n",
       " 'ESQU': 'Esquistossomose',\n",
       " 'EXAN': 'Doença exantemáticas',\n",
       " 'FMAC': 'Febre Maculosa',\n",
       " 'FTIF': 'Febre Tifóide',\n",
       " 'HANS': 'Hanseníase',\n",
       " 'HANT': 'Hantavirose',\n",
       " 'HEPA': 'Hepatites Virais',\n",
       " 'IEXO': 'Intoxicação Exógena',\n",
       " 'INFL': 'Influenza Pandêmica',\n",
       " 'LEIV': 'Leishmaniose Visceral',\n",
       " 'LEPT': 'Leptospirose',\n",
       " 'LERD': 'LER/Dort',\n",
       " 'LTAN': 'Leishmaniose Tegumentar Americana',\n",
       " 'MALA': 'Malária',\n",
       " 'MENI': 'Meningite',\n",
       " 'MENT': 'Transtornos mentais relacionados ao trabalho',\n",
       " 'NTRA': 'Notificação de Tracoma',\n",
       " 'PAIR': 'Perda auditiva por ruído relacionado ao trabalho',\n",
       " 'PEST': 'Peste',\n",
       " 'PFAN': 'Paralisia Flácida Aguda',\n",
       " 'PNEU': 'Pneumoconioses realacionadas ao trabalho',\n",
       " 'RAIV': 'Raiva',\n",
       " 'SDTA': 'Surto Doenças Transmitidas por Alimentos',\n",
       " 'SIFA': 'Sífilis Adquirida',\n",
       " 'SIFC': 'Sífilis Congênita',\n",
       " 'SIFG': 'Sífilis em Gestante',\n",
       " 'SRC': 'Síndrome da Rubéola Congênia',\n",
       " 'TETA': 'Tétano Acidental',\n",
       " 'TETN': 'Tétano Neonatal',\n",
       " 'TOXC': 'Toxoplasmose Congênita',\n",
       " 'TOXG': 'Toxoplasmose Gestacional',\n",
       " 'TRAC': 'Inquérito de Tracoma',\n",
       " 'TUBE': 'Tuberculose',\n",
       " 'VARC': 'Varicela',\n",
       " 'VIOL': 'Violência doméstica, sexual e/ou outras violências',\n",
       " 'ZIKA': 'Zika Vírus'}"
      ]
     },
     "execution_count": 3,
     "metadata": {},
     "output_type": "execute_result"
    }
   ],
   "source": [
    "sinan.diseases"
   ]
  },
  {
   "cell_type": "markdown",
   "metadata": {},
   "source": [
    "### Getting specific files "
   ]
  },
  {
   "cell_type": "code",
   "execution_count": 4,
   "metadata": {
    "collapsed": false,
    "jupyter": {
     "outputs_hidden": false
    },
    "pycharm": {
     "name": "#%%\n"
    }
   },
   "outputs": [
    {
     "data": {
      "text/plain": [
       "[CHIKBR15.dbc,\n",
       " CHIKBR16.dbc,\n",
       " CHIKBR17.dbc,\n",
       " CHIKBR18.dbc,\n",
       " CHIKBR19.dbc,\n",
       " CHIKBR20.dbc,\n",
       " CHIKBR21.dbc,\n",
       " CHIKBR22.dbc,\n",
       " CHIKBR23.dbc,\n",
       " ZIKABR16.dbc,\n",
       " ZIKABR17.dbc,\n",
       " ZIKABR18.dbc,\n",
       " ZIKABR19.dbc,\n",
       " ZIKABR20.dbc,\n",
       " ZIKABR21.dbc,\n",
       " ZIKABR22.dbc,\n",
       " ZIKABR23.dbc]"
      ]
     },
     "execution_count": 4,
     "metadata": {},
     "output_type": "execute_result"
    }
   ],
   "source": [
    "sinan.get_files(dis_codes=[\"ZIKA\", \"CHIK\"])"
   ]
  },
  {
   "cell_type": "code",
   "execution_count": 5,
   "metadata": {},
   "outputs": [
    {
     "data": {
      "text/plain": [
       "[BOTUBR23.dbc,\n",
       " CHIKBR23.dbc,\n",
       " ESQUBR23.dbc,\n",
       " FTIFBR23.dbc,\n",
       " HANSBR23.dbc,\n",
       " MENIBR23.dbc,\n",
       " TOXCBR23.dbc,\n",
       " TOXGBR23.dbc,\n",
       " TUBEBR23.dbc,\n",
       " VARCBR23.dbc,\n",
       " ZIKABR23.dbc]"
      ]
     },
     "execution_count": 5,
     "metadata": {},
     "output_type": "execute_result"
    }
   ],
   "source": [
    "sinan.get_files(years=2023)"
   ]
  },
  {
   "cell_type": "code",
   "execution_count": 6,
   "metadata": {},
   "outputs": [
    {
     "data": {
      "text/plain": [
       "[DENGBR22.dbc, ZIKABR22.dbc, ZIKABR23.dbc]"
      ]
     },
     "execution_count": 6,
     "metadata": {},
     "output_type": "execute_result"
    }
   ],
   "source": [
    "sinan.get_files(dis_codes=[\"DENG\", \"ZIKA\"], years=[2022, 2023])"
   ]
  },
  {
   "cell_type": "code",
   "execution_count": 7,
   "metadata": {},
   "outputs": [],
   "source": [
    "files = sinan.get_files(dis_codes=\"DENG\", years=[2000, 2001])\n",
    "dengue_2000, dengue_2001 = files"
   ]
  },
  {
   "cell_type": "markdown",
   "metadata": {},
   "source": [
    "### Describing a file inside DATASUS server"
   ]
  },
  {
   "cell_type": "code",
   "execution_count": 8,
   "metadata": {},
   "outputs": [
    {
     "data": {
      "text/plain": [
       "{'name': 'DENGBR00.dbc',\n",
       " 'disease': 'Dengue',\n",
       " 'year': 2000,\n",
       " 'size': '4.0 MB',\n",
       " 'last_update': '2022-02-18 10:03AM'}"
      ]
     },
     "execution_count": 8,
     "metadata": {},
     "output_type": "execute_result"
    }
   ],
   "source": [
    "sinan.describe(dengue_2000)"
   ]
  },
  {
   "cell_type": "code",
   "execution_count": 9,
   "metadata": {},
   "outputs": [
    {
     "data": {
      "text/plain": [
       "{'name': 'DENGBR01.dbc',\n",
       " 'disease': 'Dengue',\n",
       " 'year': 2001,\n",
       " 'size': '12.3 MB',\n",
       " 'last_update': '2022-02-18 10:03AM'}"
      ]
     },
     "execution_count": 9,
     "metadata": {},
     "output_type": "execute_result"
    }
   ],
   "source": [
    "sinan.describe(dengue_2001)"
   ]
  },
  {
   "cell_type": "markdown",
   "metadata": {},
   "source": [
    "### Downloading files"
   ]
  },
  {
   "cell_type": "markdown",
   "metadata": {},
   "source": [
    "You can rather download multiple files or download them individually:"
   ]
  },
  {
   "cell_type": "code",
   "execution_count": 10,
   "metadata": {},
   "outputs": [
    {
     "data": {
      "text/plain": [
       "['/home/bida/pysus/DENGBR00.dbc', '/home/bida/pysus/DENGBR01.dbc']"
      ]
     },
     "execution_count": 10,
     "metadata": {},
     "output_type": "execute_result"
    }
   ],
   "source": [
    "sinan.download(files) # Downloads to default directory"
   ]
  },
  {
   "cell_type": "code",
   "execution_count": 11,
   "metadata": {},
   "outputs": [
    {
     "data": {
      "text/plain": [
       "'/home/bida/pysus/DENGBR00.dbc'"
      ]
     },
     "execution_count": 11,
     "metadata": {},
     "output_type": "execute_result"
    }
   ],
   "source": [
    "dengue_2000.download()"
   ]
  },
  {
   "cell_type": "markdown",
   "metadata": {},
   "source": [
    "You can specify a local directory to download:"
   ]
  },
  {
   "cell_type": "code",
   "execution_count": 12,
   "metadata": {},
   "outputs": [
    {
     "name": "stderr",
     "output_type": "stream",
     "text": [
      "2023-09-15 09:57:15.244 | INFO     | pysus.ftp:download:109 - DENGBR00.dbc downloaded at /tmp\n",
      "2023-09-15 09:57:18.328 | INFO     | pysus.ftp:download:109 - DENGBR01.dbc downloaded at /tmp\n"
     ]
    },
    {
     "data": {
      "text/plain": [
       "['/tmp/DENGBR00.dbc', '/tmp/DENGBR01.dbc']"
      ]
     },
     "execution_count": 12,
     "metadata": {},
     "output_type": "execute_result"
    }
   ],
   "source": [
    "sinan.download(files, local_dir=\"/tmp\")"
   ]
  },
  {
   "cell_type": "code",
   "execution_count": 13,
   "metadata": {},
   "outputs": [
    {
     "data": {
      "text/plain": [
       "'/tmp/DENGBR01.dbc'"
      ]
     },
     "execution_count": 13,
     "metadata": {},
     "output_type": "execute_result"
    }
   ],
   "source": [
    "dengue_2001.download(local_dir=\"/tmp\")"
   ]
  },
  {
   "cell_type": "markdown",
   "metadata": {},
   "source": [
    "@Note: If the file has been downloaded already, it's required to delete it in order to download the lastest updated file from DATASUS. "
   ]
  }
 ],
 "metadata": {
  "kernelspec": {
   "display_name": "Python 3 (ipykernel)",
   "language": "python",
   "name": "python3"
  },
  "language_info": {
   "codemirror_mode": {
    "name": "ipython",
    "version": 3
   },
   "file_extension": ".py",
   "mimetype": "text/x-python",
   "name": "python",
   "nbconvert_exporter": "python",
   "pygments_lexer": "ipython3",
   "version": "3.11.5"
  },
  "vscode": {
   "interpreter": {
    "hash": "2a96a5ccec8dfcba7d06b2e71f6eef3b5dac5716461bf5d73ea1bb7ee462cdaa"
   }
  }
 },
 "nbformat": 4,
 "nbformat_minor": 4
}
