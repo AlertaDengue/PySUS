{
 "cells": [
  {
   "cell_type": "markdown",
   "id": "a73920ee-3902-4270-a17d-b7907d8561d7",
   "metadata": {},
   "source": [
    "# SIH FTP Database\n",
    "##### Sistema de Informações Hospitalares"
   ]
  },
  {
   "cell_type": "code",
   "execution_count": 1,
   "id": "8d619b0d-300c-4bc2-a738-bf96d650311d",
   "metadata": {},
   "outputs": [],
   "source": [
    "from pysus.ftp.databases.sih import SIH\n",
    "sih = SIH().load() # Loads the files from DATASUS"
   ]
  },
  {
   "cell_type": "code",
   "execution_count": 2,
   "id": "4d50b674-b5bd-4ec5-a812-15c680841879",
   "metadata": {},
   "outputs": [
    {
     "data": {
      "text/plain": [
       "SIH - Sistema de Informações Hospitalares"
      ]
     },
     "execution_count": 2,
     "metadata": {},
     "output_type": "execute_result"
    }
   ],
   "source": [
    "sih"
   ]
  },
  {
   "cell_type": "code",
   "execution_count": 3,
   "id": "5a74172b-841e-4ba7-bcc6-41ec9a216423",
   "metadata": {},
   "outputs": [
    {
     "data": {
      "text/plain": [
       "{'long_name': 'Sistema de Informações Hospitalares',\n",
       " 'source': ('https://datasus.saude.gov.br/acesso-a-informacao/morbidade-hospitalar-do-sus-sih-sus/',\n",
       "  'https://datasus.saude.gov.br/acesso-a-informacao/producao-hospitalar-sih-sus/'),\n",
       " 'description': 'A finalidade do AIH (Sistema SIHSUS) é a de transcrever todos os atendimentos que provenientes de internações hospitalares que foram financiadas pelo SUS, e após o processamento, gerarem relatórios para os gestores que lhes possibilitem fazer os pagamentos dos estabelecimentos de saúde. Além disso, o nível Federal recebe mensalmente uma base de dados de todas as internações autorizadas (aprovadas ou não para pagamento) para que possam ser repassados às Secretarias de Saúde os valores de Produção de Média e Alta complexidade além dos valores de CNRAC, FAEC e de Hospitais Universitários – em suas variadas formas de contrato de gestão.'}"
      ]
     },
     "execution_count": 3,
     "metadata": {},
     "output_type": "execute_result"
    }
   ],
   "source": [
    "sih.metadata"
   ]
  },
  {
   "cell_type": "code",
   "execution_count": 4,
   "id": "10e69ba8-baa1-4718-b53e-40af23084324",
   "metadata": {},
   "outputs": [
    {
     "data": {
      "text/plain": [
       "{'RD': 'AIH Reduzida',\n",
       " 'RJ': 'AIH Rejeitada',\n",
       " 'ER': 'AIH Rejeitada com erro',\n",
       " 'SP': 'Serviços Profissionais',\n",
       " 'CH': 'Cadastro Hospitalar',\n",
       " 'CM': ''}"
      ]
     },
     "execution_count": 4,
     "metadata": {},
     "output_type": "execute_result"
    }
   ],
   "source": [
    "sih.groups"
   ]
  },
  {
   "cell_type": "markdown",
   "id": "ff0b298c-69cf-4884-b7c8-2936de2c3508",
   "metadata": {},
   "source": [
    "### Getting specific files"
   ]
  },
  {
   "cell_type": "code",
   "execution_count": 5,
   "id": "3910f87e-965b-4a5e-8fb2-9c9ad257d0f7",
   "metadata": {},
   "outputs": [
    {
     "name": "stdout",
     "output_type": "stream",
     "text": [
      "15649 files\n"
     ]
    }
   ],
   "source": [
    "print(str(len(sih.get_files([\"RD\", \"RJ\"]))) + \" files\")"
   ]
  },
  {
   "cell_type": "code",
   "execution_count": 6,
   "id": "c3cd4449-55fd-418d-a6e0-53ff38cd9258",
   "metadata": {},
   "outputs": [
    {
     "data": {
      "text/plain": [
       "[RDSP0001.dbc,\n",
       " RDSP0002.dbc,\n",
       " RDSP0003.dbc,\n",
       " RDSP0004.dbc,\n",
       " RDSP0005.dbc,\n",
       " RDSP0006.dbc,\n",
       " RDSP0007.dbc,\n",
       " RDSP0008.dbc,\n",
       " RDSP0009.dbc,\n",
       " RDSP0010.dbc,\n",
       " RDSP0011.dbc,\n",
       " RDSP0012.dbc]"
      ]
     },
     "execution_count": 6,
     "metadata": {},
     "output_type": "execute_result"
    }
   ],
   "source": [
    "sih.get_files(\"RD\", uf=\"SP\", year=2000)"
   ]
  },
  {
   "cell_type": "code",
   "execution_count": 7,
   "id": "3883f518-c21e-4334-b18e-7fd9127aa83f",
   "metadata": {},
   "outputs": [
    {
     "data": {
      "text/plain": [
       "[RDSP0001.dbc, RDSP0002.dbc, RDSP0003.dbc]"
      ]
     },
     "execution_count": 7,
     "metadata": {},
     "output_type": "execute_result"
    }
   ],
   "source": [
    "files = sih.get_files(\"RD\", uf=\"SP\", year=2000, month=[1,2,3])\n",
    "files"
   ]
  },
  {
   "cell_type": "markdown",
   "id": "c065668a-0157-40cb-8662-0daf9db2937b",
   "metadata": {},
   "source": [
    "### Describing files inside DATASUS server"
   ]
  },
  {
   "cell_type": "code",
   "execution_count": 8,
   "id": "017d4445-f172-4376-ba85-19c06f9d1de4",
   "metadata": {},
   "outputs": [
    {
     "data": {
      "text/plain": [
       "{'name': 'RDSP0001.dbc',\n",
       " 'group': 'AIH Reduzida',\n",
       " 'uf': 'São Paulo',\n",
       " 'month': 'Janeiro',\n",
       " 'year': 2000,\n",
       " 'size': '10.1 MB',\n",
       " 'last_update': '2013-10-31 01:14PM'}"
      ]
     },
     "execution_count": 8,
     "metadata": {},
     "output_type": "execute_result"
    }
   ],
   "source": [
    "sih.describe(files[0])"
   ]
  },
  {
   "cell_type": "markdown",
   "id": "59039f48-9c9b-4807-81f6-24d2139a70b8",
   "metadata": {},
   "source": [
    "### Downloading files"
   ]
  },
  {
   "cell_type": "markdown",
   "id": "dc671449-d4d3-4e32-9afd-68f0d844a104",
   "metadata": {},
   "source": [
    "You can rather download multiple files or download them individually:"
   ]
  },
  {
   "cell_type": "code",
   "execution_count": 9,
   "id": "8f53a375-266b-4290-8705-408d236fd6d1",
   "metadata": {},
   "outputs": [
    {
     "data": {
      "text/plain": [
       "['/home/bida/pysus/RDSP0001.dbc',\n",
       " '/home/bida/pysus/RDSP0002.dbc',\n",
       " '/home/bida/pysus/RDSP0003.dbc']"
      ]
     },
     "execution_count": 9,
     "metadata": {},
     "output_type": "execute_result"
    }
   ],
   "source": [
    "sih.download(files)"
   ]
  },
  {
   "cell_type": "code",
   "execution_count": 10,
   "id": "dfac23ae-1018-4767-8092-dc05b35727e7",
   "metadata": {},
   "outputs": [
    {
     "data": {
      "text/plain": [
       "'/tmp/RDSP0001.dbc'"
      ]
     },
     "execution_count": 10,
     "metadata": {},
     "output_type": "execute_result"
    }
   ],
   "source": [
    "files[0].download(local_dir=\"/tmp\") # Specify a local directory"
   ]
  },
  {
   "cell_type": "markdown",
   "id": "70e10d61-d2a7-49ed-a409-38175321df04",
   "metadata": {},
   "source": [
    "@Note: If the file has been downloaded already, it's required to delete it in order to download the lastest updated file from DATASUS. "
   ]
  }
 ],
 "metadata": {
  "kernelspec": {
   "display_name": "Python 3 (ipykernel)",
   "language": "python",
   "name": "python3"
  },
  "language_info": {
   "codemirror_mode": {
    "name": "ipython",
    "version": 3
   },
   "file_extension": ".py",
   "mimetype": "text/x-python",
   "name": "python",
   "nbconvert_exporter": "python",
   "pygments_lexer": "ipython3",
   "version": "3.11.5"
  }
 },
 "nbformat": 4,
 "nbformat_minor": 5
}
