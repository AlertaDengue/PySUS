{
 "cells": [
  {
   "cell_type": "markdown",
   "id": "a73920ee-3902-4270-a17d-b7907d8561d7",
   "metadata": {},
   "source": [
    "# SIH FTP Database\n",
    "##### Sistema de Informações Hospitalares"
   ]
  },
  {
   "cell_type": "code",
   "execution_count": 1,
   "id": "8d619b0d-300c-4bc2-a738-bf96d650311d",
   "metadata": {},
   "outputs": [],
   "source": [
    "from pysus.ftp.databases.sih import SIH\n",
    "sih = SIH().load() # Loads the files from DATASUS"
   ]
  },
  {
   "cell_type": "code",
   "execution_count": 2,
   "id": "4d50b674-b5bd-4ec5-a812-15c680841879",
   "metadata": {},
   "outputs": [
    {
     "data": {
      "text/plain": [
       "SIH - Sistema de Informações Hospitalares"
      ]
     },
     "execution_count": 2,
     "metadata": {},
     "output_type": "execute_result"
    }
   ],
   "source": [
    "sih"
   ]
  },
  {
   "cell_type": "code",
   "execution_count": 3,
   "id": "5a74172b-841e-4ba7-bcc6-41ec9a216423",
   "metadata": {},
   "outputs": [
    {
     "data": {
      "text/plain": [
       "{'long_name': 'Sistema de Informações Hospitalares',\n",
       " 'source': ('https://datasus.saude.gov.br/acesso-a-informacao/morbidade-hospitalar-do-sus-sih-sus/',\n",
       "  'https://datasus.saude.gov.br/acesso-a-informacao/producao-hospitalar-sih-sus/'),\n",
       " 'description': 'A finalidade do AIH (Sistema SIHSUS) é a de transcrever todos os atendimentos que provenientes de internações hospitalares que foram financiadas pelo SUS, e após o processamento, gerarem relatórios para os gestores que lhes possibilitem fazer os pagamentos dos estabelecimentos de saúde. Além disso, o nível Federal recebe mensalmente uma base de dados de todas as internações autorizadas (aprovadas ou não para pagamento) para que possam ser repassados às Secretarias de Saúde os valores de Produção de Média e Alta complexidade além dos valores de CNRAC, FAEC e de Hospitais Universitários – em suas variadas formas de contrato de gestão.'}"
      ]
     },
     "execution_count": 3,
     "metadata": {},
     "output_type": "execute_result"
    }
   ],
   "source": [
    "sih.metadata"
   ]
  },
  {
   "cell_type": "code",
   "execution_count": 4,
   "id": "10e69ba8-baa1-4718-b53e-40af23084324",
   "metadata": {},
   "outputs": [
    {
     "data": {
      "text/plain": [
       "{'RD': 'AIH Reduzida',\n",
       " 'RJ': 'AIH Rejeitada',\n",
       " 'ER': 'AIH Rejeitada com erro',\n",
       " 'SP': 'Serviços Profissionais',\n",
       " 'CH': 'Cadastro Hospitalar',\n",
       " 'CM': ''}"
      ]
     },
     "execution_count": 4,
     "metadata": {},
     "output_type": "execute_result"
    }
   ],
   "source": [
    "sih.groups"
   ]
  },
  {
   "cell_type": "markdown",
   "id": "ff0b298c-69cf-4884-b7c8-2936de2c3508",
   "metadata": {},
   "source": [
    "### Getting specific files"
   ]
  },
  {
   "cell_type": "code",
   "execution_count": 5,
   "id": "3910f87e-965b-4a5e-8fb2-9c9ad257d0f7",
   "metadata": {},
   "outputs": [
    {
     "name": "stdout",
     "output_type": "stream",
     "text": [
      "15649 files\n"
     ]
    }
   ],
   "source": [
    "print(str(len(sih.get_files([\"RD\", \"RJ\"]))) + \" files\")"
   ]
  },
  {
   "cell_type": "code",
   "execution_count": 6,
   "id": "c3cd4449-55fd-418d-a6e0-53ff38cd9258",
   "metadata": {},
   "outputs": [
    {
     "data": {
      "text/plain": [
       "[RDSP0001.dbc,\n",
       " RDSP0002.dbc,\n",
       " RDSP0003.dbc,\n",
       " RDSP0004.dbc,\n",
       " RDSP0005.dbc,\n",
       " RDSP0006.dbc,\n",
       " RDSP0007.dbc,\n",
       " RDSP0008.dbc,\n",
       " RDSP0009.dbc,\n",
       " RDSP0010.dbc,\n",
       " RDSP0011.dbc,\n",
       " RDSP0012.dbc]"
      ]
     },
     "execution_count": 6,
     "metadata": {},
     "output_type": "execute_result"
    }
   ],
   "source": [
    "sih.get_files(\"RD\", uf=\"SP\", year=2000)"
   ]
  },
  {
   "cell_type": "code",
   "execution_count": 7,
   "id": "3883f518-c21e-4334-b18e-7fd9127aa83f",
   "metadata": {},
   "outputs": [
    {
     "data": {
      "text/plain": [
       "[RDSP0001.dbc, RDSP0002.dbc, RDSP0003.dbc]"
      ]
     },
     "execution_count": 7,
     "metadata": {},
     "output_type": "execute_result"
    }
   ],
   "source": [
    "files = sih.get_files(\"RD\", uf=\"SP\", year=2000, month=[1,2,3])\n",
    "files"
   ]
  },
  {
   "cell_type": "markdown",
   "id": "c065668a-0157-40cb-8662-0daf9db2937b",
   "metadata": {},
   "source": [
    "### Describing files inside DATASUS server"
   ]
  },
  {
   "cell_type": "code",
   "execution_count": 8,
   "id": "017d4445-f172-4376-ba85-19c06f9d1de4",
   "metadata": {},
   "outputs": [
    {
     "data": {
      "text/plain": [
       "{'name': 'RDSP0001.dbc',\n",
       " 'group': 'AIH Reduzida',\n",
       " 'uf': 'São Paulo',\n",
       " 'month': 'Janeiro',\n",
       " 'year': 2000,\n",
       " 'size': '10.1 MB',\n",
       " 'last_update': '2013-10-31 01:14PM'}"
      ]
     },
     "execution_count": 8,
     "metadata": {},
     "output_type": "execute_result"
    }
   ],
   "source": [
    "sih.describe(files[0])"
   ]
  },
  {
   "cell_type": "markdown",
   "id": "59039f48-9c9b-4807-81f6-24d2139a70b8",
   "metadata": {},
   "source": [
    "### Downloading files"
   ]
  },
  {
   "cell_type": "markdown",
   "id": "dc671449-d4d3-4e32-9afd-68f0d844a104",
   "metadata": {},
   "source": [
    "You can rather download multiple files or download them individually:"
   ]
  },
  {
   "cell_type": "code",
   "execution_count": 9,
   "id": "8f53a375-266b-4290-8705-408d236fd6d1",
   "metadata": {},
   "outputs": [
    {
     "name": "stderr",
     "output_type": "stream",
     "text": [
      "RDSP0003.parquet: 100%|████████████| 340k/340k [00:12<00:00, 28.0kB/s]\n"
     ]
    },
    {
     "data": {
      "text/plain": [
       "[/home/bida/pysus/RDSP0001.parquet,\n",
       " /home/bida/pysus/RDSP0002.parquet,\n",
       " /home/bida/pysus/RDSP0003.parquet]"
      ]
     },
     "execution_count": 9,
     "metadata": {},
     "output_type": "execute_result"
    }
   ],
   "source": [
    "sih.download(files) # Specify a directory with `local_dir=`"
   ]
  },
  {
   "cell_type": "markdown",
   "id": "70e10d61-d2a7-49ed-a409-38175321df04",
   "metadata": {},
   "source": [
    "@Note: If the file has been downloaded already, it's required to delete it in order to download the lastest updated file from DATASUS. "
   ]
  },
  {
   "cell_type": "markdown",
   "id": "886389c2-5c26-43c2-9820-0c3fa9d85021",
   "metadata": {},
   "source": [
    "### Reading files\n",
    "\n",
    "PySUS uses Parquets as output, use the method `to_dataframe()` to read the file as pandas DataFrame"
   ]
  },
  {
   "cell_type": "code",
   "execution_count": 11,
   "id": "5882ddc1-9dfb-4181-baed-2adb09bf66e8",
   "metadata": {},
   "outputs": [
    {
     "name": "stderr",
     "output_type": "stream",
     "text": [
      "100%|████████████████████████████| 8.46M/8.46M [00:00<00:00, 4.04GB/s]\n"
     ]
    }
   ],
   "source": [
    "parquet = sih.download(files)[0]"
   ]
  },
  {
   "cell_type": "code",
   "execution_count": 12,
   "id": "70db53ae-7105-48d8-9a42-868385dc3982",
   "metadata": {},
   "outputs": [
    {
     "data": {
      "text/html": [
       "<div>\n",
       "<style scoped>\n",
       "    .dataframe tbody tr th:only-of-type {\n",
       "        vertical-align: middle;\n",
       "    }\n",
       "\n",
       "    .dataframe tbody tr th {\n",
       "        vertical-align: top;\n",
       "    }\n",
       "\n",
       "    .dataframe thead th {\n",
       "        text-align: right;\n",
       "    }\n",
       "</style>\n",
       "<table border=\"1\" class=\"dataframe\">\n",
       "  <thead>\n",
       "    <tr style=\"text-align: right;\">\n",
       "      <th></th>\n",
       "      <th>UF_ZI</th>\n",
       "      <th>ANO_CMPT</th>\n",
       "      <th>MES_CMPT</th>\n",
       "      <th>ESPEC</th>\n",
       "      <th>CGC_HOSP</th>\n",
       "      <th>N_AIH</th>\n",
       "      <th>IDENT</th>\n",
       "      <th>CEP</th>\n",
       "      <th>MUNIC_RES</th>\n",
       "      <th>NASC</th>\n",
       "      <th>...</th>\n",
       "      <th>CAR_INT</th>\n",
       "      <th>TOT_PT_SP</th>\n",
       "      <th>CPF_AUT</th>\n",
       "      <th>HOMONIMO</th>\n",
       "      <th>NUM_FILHOS</th>\n",
       "      <th>INSTRU</th>\n",
       "      <th>CID_NOTIF</th>\n",
       "      <th>CONTRACEP1</th>\n",
       "      <th>CONTRACEP2</th>\n",
       "      <th>GESTRISCO</th>\n",
       "    </tr>\n",
       "  </thead>\n",
       "  <tbody>\n",
       "    <tr>\n",
       "      <th>0</th>\n",
       "      <td>35</td>\n",
       "      <td>2000</td>\n",
       "      <td>01</td>\n",
       "      <td>02</td>\n",
       "      <td>46523171000287</td>\n",
       "      <td>2179380830</td>\n",
       "      <td>1</td>\n",
       "      <td>06040090</td>\n",
       "      <td>353440</td>\n",
       "      <td>19631229</td>\n",
       "      <td>...</td>\n",
       "      <td>05</td>\n",
       "      <td>719</td>\n",
       "      <td></td>\n",
       "      <td></td>\n",
       "      <td>0</td>\n",
       "      <td>0</td>\n",
       "      <td></td>\n",
       "      <td>00</td>\n",
       "      <td>00</td>\n",
       "      <td>0</td>\n",
       "    </tr>\n",
       "    <tr>\n",
       "      <th>1</th>\n",
       "      <td>35</td>\n",
       "      <td>2000</td>\n",
       "      <td>01</td>\n",
       "      <td>02</td>\n",
       "      <td>46523171000287</td>\n",
       "      <td>2179380841</td>\n",
       "      <td>1</td>\n",
       "      <td>06110000</td>\n",
       "      <td>353440</td>\n",
       "      <td>19620609</td>\n",
       "      <td>...</td>\n",
       "      <td>05</td>\n",
       "      <td>176</td>\n",
       "      <td></td>\n",
       "      <td></td>\n",
       "      <td>0</td>\n",
       "      <td>0</td>\n",
       "      <td></td>\n",
       "      <td>00</td>\n",
       "      <td>00</td>\n",
       "      <td>0</td>\n",
       "    </tr>\n",
       "    <tr>\n",
       "      <th>2</th>\n",
       "      <td>35</td>\n",
       "      <td>2000</td>\n",
       "      <td>01</td>\n",
       "      <td>02</td>\n",
       "      <td>46523171000287</td>\n",
       "      <td>2179380852</td>\n",
       "      <td>1</td>\n",
       "      <td>06184080</td>\n",
       "      <td>353440</td>\n",
       "      <td>19781207</td>\n",
       "      <td>...</td>\n",
       "      <td>05</td>\n",
       "      <td>36</td>\n",
       "      <td></td>\n",
       "      <td></td>\n",
       "      <td>0</td>\n",
       "      <td>0</td>\n",
       "      <td></td>\n",
       "      <td>00</td>\n",
       "      <td>00</td>\n",
       "      <td>0</td>\n",
       "    </tr>\n",
       "    <tr>\n",
       "      <th>3</th>\n",
       "      <td>35</td>\n",
       "      <td>2000</td>\n",
       "      <td>01</td>\n",
       "      <td>02</td>\n",
       "      <td>46523171000287</td>\n",
       "      <td>2179380863</td>\n",
       "      <td>1</td>\n",
       "      <td>06010020</td>\n",
       "      <td>353440</td>\n",
       "      <td>19710106</td>\n",
       "      <td>...</td>\n",
       "      <td>05</td>\n",
       "      <td>176</td>\n",
       "      <td></td>\n",
       "      <td></td>\n",
       "      <td>0</td>\n",
       "      <td>0</td>\n",
       "      <td></td>\n",
       "      <td>00</td>\n",
       "      <td>00</td>\n",
       "      <td>0</td>\n",
       "    </tr>\n",
       "    <tr>\n",
       "      <th>4</th>\n",
       "      <td>35</td>\n",
       "      <td>2000</td>\n",
       "      <td>01</td>\n",
       "      <td>02</td>\n",
       "      <td>46523171000287</td>\n",
       "      <td>2179380874</td>\n",
       "      <td>1</td>\n",
       "      <td>06112010</td>\n",
       "      <td>353440</td>\n",
       "      <td>19710717</td>\n",
       "      <td>...</td>\n",
       "      <td>05</td>\n",
       "      <td>158</td>\n",
       "      <td></td>\n",
       "      <td></td>\n",
       "      <td>0</td>\n",
       "      <td>0</td>\n",
       "      <td></td>\n",
       "      <td>00</td>\n",
       "      <td>00</td>\n",
       "      <td>0</td>\n",
       "    </tr>\n",
       "    <tr>\n",
       "      <th>...</th>\n",
       "      <td>...</td>\n",
       "      <td>...</td>\n",
       "      <td>...</td>\n",
       "      <td>...</td>\n",
       "      <td>...</td>\n",
       "      <td>...</td>\n",
       "      <td>...</td>\n",
       "      <td>...</td>\n",
       "      <td>...</td>\n",
       "      <td>...</td>\n",
       "      <td>...</td>\n",
       "      <td>...</td>\n",
       "      <td>...</td>\n",
       "      <td>...</td>\n",
       "      <td>...</td>\n",
       "      <td>...</td>\n",
       "      <td>...</td>\n",
       "      <td>...</td>\n",
       "      <td>...</td>\n",
       "      <td>...</td>\n",
       "      <td>...</td>\n",
       "    </tr>\n",
       "    <tr>\n",
       "      <th>193819</th>\n",
       "      <td>35</td>\n",
       "      <td>2000</td>\n",
       "      <td>01</td>\n",
       "      <td>02</td>\n",
       "      <td>46523171000287</td>\n",
       "      <td>2179380786</td>\n",
       "      <td>1</td>\n",
       "      <td>06036090</td>\n",
       "      <td>353440</td>\n",
       "      <td>19740804</td>\n",
       "      <td>...</td>\n",
       "      <td>05</td>\n",
       "      <td>737</td>\n",
       "      <td></td>\n",
       "      <td></td>\n",
       "      <td>0</td>\n",
       "      <td>0</td>\n",
       "      <td></td>\n",
       "      <td>00</td>\n",
       "      <td>00</td>\n",
       "      <td>0</td>\n",
       "    </tr>\n",
       "    <tr>\n",
       "      <th>193820</th>\n",
       "      <td>35</td>\n",
       "      <td>2000</td>\n",
       "      <td>01</td>\n",
       "      <td>02</td>\n",
       "      <td>46523171000287</td>\n",
       "      <td>2179380797</td>\n",
       "      <td>1</td>\n",
       "      <td>06240120</td>\n",
       "      <td>353440</td>\n",
       "      <td>19670403</td>\n",
       "      <td>...</td>\n",
       "      <td>05</td>\n",
       "      <td>737</td>\n",
       "      <td></td>\n",
       "      <td></td>\n",
       "      <td>0</td>\n",
       "      <td>0</td>\n",
       "      <td></td>\n",
       "      <td>00</td>\n",
       "      <td>00</td>\n",
       "      <td>0</td>\n",
       "    </tr>\n",
       "    <tr>\n",
       "      <th>193821</th>\n",
       "      <td>35</td>\n",
       "      <td>2000</td>\n",
       "      <td>01</td>\n",
       "      <td>02</td>\n",
       "      <td>46523171000287</td>\n",
       "      <td>2179380808</td>\n",
       "      <td>1</td>\n",
       "      <td>06140080</td>\n",
       "      <td>353440</td>\n",
       "      <td>19741001</td>\n",
       "      <td>...</td>\n",
       "      <td>05</td>\n",
       "      <td>737</td>\n",
       "      <td></td>\n",
       "      <td></td>\n",
       "      <td>0</td>\n",
       "      <td>0</td>\n",
       "      <td></td>\n",
       "      <td>00</td>\n",
       "      <td>00</td>\n",
       "      <td>0</td>\n",
       "    </tr>\n",
       "    <tr>\n",
       "      <th>193822</th>\n",
       "      <td>35</td>\n",
       "      <td>2000</td>\n",
       "      <td>01</td>\n",
       "      <td>02</td>\n",
       "      <td>46523171000287</td>\n",
       "      <td>2179380819</td>\n",
       "      <td>1</td>\n",
       "      <td>06240090</td>\n",
       "      <td>353440</td>\n",
       "      <td>19721028</td>\n",
       "      <td>...</td>\n",
       "      <td>05</td>\n",
       "      <td>719</td>\n",
       "      <td></td>\n",
       "      <td></td>\n",
       "      <td>0</td>\n",
       "      <td>0</td>\n",
       "      <td></td>\n",
       "      <td>00</td>\n",
       "      <td>00</td>\n",
       "      <td>0</td>\n",
       "    </tr>\n",
       "    <tr>\n",
       "      <th>193823</th>\n",
       "      <td>35</td>\n",
       "      <td>2000</td>\n",
       "      <td>01</td>\n",
       "      <td>02</td>\n",
       "      <td>46523171000287</td>\n",
       "      <td>2179380820</td>\n",
       "      <td>1</td>\n",
       "      <td>06260030</td>\n",
       "      <td>353440</td>\n",
       "      <td>19721122</td>\n",
       "      <td>...</td>\n",
       "      <td>05</td>\n",
       "      <td>737</td>\n",
       "      <td></td>\n",
       "      <td></td>\n",
       "      <td>0</td>\n",
       "      <td>0</td>\n",
       "      <td></td>\n",
       "      <td>00</td>\n",
       "      <td>00</td>\n",
       "      <td>0</td>\n",
       "    </tr>\n",
       "  </tbody>\n",
       "</table>\n",
       "<p>193824 rows × 60 columns</p>\n",
       "</div>"
      ],
      "text/plain": [
       "       UF_ZI ANO_CMPT MES_CMPT ESPEC        CGC_HOSP       N_AIH IDENT  \\\n",
       "0         35     2000       01    02  46523171000287  2179380830     1   \n",
       "1         35     2000       01    02  46523171000287  2179380841     1   \n",
       "2         35     2000       01    02  46523171000287  2179380852     1   \n",
       "3         35     2000       01    02  46523171000287  2179380863     1   \n",
       "4         35     2000       01    02  46523171000287  2179380874     1   \n",
       "...      ...      ...      ...   ...             ...         ...   ...   \n",
       "193819    35     2000       01    02  46523171000287  2179380786     1   \n",
       "193820    35     2000       01    02  46523171000287  2179380797     1   \n",
       "193821    35     2000       01    02  46523171000287  2179380808     1   \n",
       "193822    35     2000       01    02  46523171000287  2179380819     1   \n",
       "193823    35     2000       01    02  46523171000287  2179380820     1   \n",
       "\n",
       "             CEP MUNIC_RES      NASC  ...  CAR_INT TOT_PT_SP CPF_AUT HOMONIMO  \\\n",
       "0       06040090    353440  19631229  ...       05       719                    \n",
       "1       06110000    353440  19620609  ...       05       176                    \n",
       "2       06184080    353440  19781207  ...       05        36                    \n",
       "3       06010020    353440  19710106  ...       05       176                    \n",
       "4       06112010    353440  19710717  ...       05       158                    \n",
       "...          ...       ...       ...  ...      ...       ...     ...      ...   \n",
       "193819  06036090    353440  19740804  ...       05       737                    \n",
       "193820  06240120    353440  19670403  ...       05       737                    \n",
       "193821  06140080    353440  19741001  ...       05       737                    \n",
       "193822  06240090    353440  19721028  ...       05       719                    \n",
       "193823  06260030    353440  19721122  ...       05       737                    \n",
       "\n",
       "       NUM_FILHOS INSTRU CID_NOTIF CONTRACEP1 CONTRACEP2 GESTRISCO  \n",
       "0               0      0                   00         00         0  \n",
       "1               0      0                   00         00         0  \n",
       "2               0      0                   00         00         0  \n",
       "3               0      0                   00         00         0  \n",
       "4               0      0                   00         00         0  \n",
       "...           ...    ...       ...        ...        ...       ...  \n",
       "193819          0      0                   00         00         0  \n",
       "193820          0      0                   00         00         0  \n",
       "193821          0      0                   00         00         0  \n",
       "193822          0      0                   00         00         0  \n",
       "193823          0      0                   00         00         0  \n",
       "\n",
       "[193824 rows x 60 columns]"
      ]
     },
     "execution_count": 12,
     "metadata": {},
     "output_type": "execute_result"
    }
   ],
   "source": [
    "parquet.to_dataframe()"
   ]
  }
 ],
 "metadata": {
  "kernelspec": {
   "display_name": "Python 3 (ipykernel)",
   "language": "python",
   "name": "python3"
  },
  "language_info": {
   "codemirror_mode": {
    "name": "ipython",
    "version": 3
   },
   "file_extension": ".py",
   "mimetype": "text/x-python",
   "name": "python",
   "nbconvert_exporter": "python",
   "pygments_lexer": "ipython3",
   "version": "3.11.5"
  }
 },
 "nbformat": 4,
 "nbformat_minor": 5
}
