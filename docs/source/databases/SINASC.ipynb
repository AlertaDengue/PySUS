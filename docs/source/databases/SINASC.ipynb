{
 "cells": [
  {
   "cell_type": "markdown",
   "metadata": {
    "pycharm": {
     "name": "#%% md\n"
    }
   },
   "source": [
    "# SINASC FTP Database\n",
    "##### Sistema de Informações sobre Nascidos Vivos\n"
   ]
  },
  {
   "cell_type": "code",
   "execution_count": 1,
   "metadata": {
    "collapsed": false,
    "jupyter": {
     "outputs_hidden": false
    },
    "pycharm": {
     "name": "#%%\n"
    }
   },
   "outputs": [],
   "source": [
    "from pysus.ftp.databases.sinasc import SINASC\n",
    "sinasc = SINASC().load() # Loads the files from DATASUS"
   ]
  },
  {
   "cell_type": "code",
   "execution_count": 2,
   "metadata": {},
   "outputs": [
    {
     "data": {
      "text/plain": [
       "SINASC - Sistema de Informações sobre Nascidos Vivos"
      ]
     },
     "execution_count": 2,
     "metadata": {},
     "output_type": "execute_result"
    }
   ],
   "source": [
    "sinasc"
   ]
  },
  {
   "cell_type": "code",
   "execution_count": 3,
   "metadata": {},
   "outputs": [
    {
     "data": {
      "text/plain": [
       "{'long_name': 'Sistema de Informações sobre Nascidos Vivos',\n",
       " 'source': 'http://sinasc.saude.gov.br/',\n",
       " 'description': ''}"
      ]
     },
     "execution_count": 3,
     "metadata": {},
     "output_type": "execute_result"
    }
   ],
   "source": [
    "sinasc.metadata"
   ]
  },
  {
   "cell_type": "markdown",
   "metadata": {},
   "source": [
    "## Listing codes & groups"
   ]
  },
  {
   "cell_type": "code",
   "execution_count": 4,
   "metadata": {
    "collapsed": false,
    "jupyter": {
     "outputs_hidden": false
    },
    "pycharm": {
     "name": "#%%\n"
    }
   },
   "outputs": [
    {
     "data": {
      "text/plain": [
       "{'DN': 'Declarações de Nascidos Vivos',\n",
       " 'DNR': 'Dados dos Nascidos Vivos por UF de residência'}"
      ]
     },
     "execution_count": 4,
     "metadata": {},
     "output_type": "execute_result"
    }
   ],
   "source": [
    "sinasc.groups"
   ]
  },
  {
   "cell_type": "markdown",
   "metadata": {},
   "source": [
    "## Getting specific files "
   ]
  },
  {
   "cell_type": "code",
   "execution_count": 5,
   "metadata": {},
   "outputs": [
    {
     "data": {
      "text/plain": [
       "[DNSP1996.DBC,\n",
       " DNSP1997.DBC,\n",
       " DNSP1998.DBC,\n",
       " DNSP1999.DBC,\n",
       " DNSP2000.DBC,\n",
       " DNSP2001.DBC,\n",
       " DNSP2002.DBC,\n",
       " DNSP2003.DBC,\n",
       " DNSP2004.DBC,\n",
       " DNSP2005.dbc,\n",
       " DNSP2006.DBC,\n",
       " DNSP2007.dbc,\n",
       " DNSP2008.dbc,\n",
       " DNSP2009.dbc,\n",
       " DNSP2010.DBC,\n",
       " DNSP2011.DBC,\n",
       " DNSP2012.DBC,\n",
       " DNSP2013.dbc,\n",
       " DNSP2014.dbc,\n",
       " DNSP2015.dbc,\n",
       " DNSP2016.dbc,\n",
       " DNSP2017.dbc,\n",
       " DNSP2018.dbc,\n",
       " DNSP2019.dbc,\n",
       " DNSP2020.dbc,\n",
       " DNSP2021.dbc]"
      ]
     },
     "execution_count": 5,
     "metadata": {},
     "output_type": "execute_result"
    }
   ],
   "source": [
    "sinasc.get_files(\"DN\", uf=\"SP\") # or multiple [\"SP\", ...]"
   ]
  },
  {
   "cell_type": "code",
   "execution_count": 6,
   "metadata": {},
   "outputs": [
    {
     "data": {
      "text/plain": [
       "[DNSP2001.DBC, DNSP2002.DBC, DNSP2003.DBC]"
      ]
     },
     "execution_count": 6,
     "metadata": {},
     "output_type": "execute_result"
    }
   ],
   "source": [
    "files = sinasc.get_files(\"DN\", uf=\"SP\", year=[2001, 2002, 2003])\n",
    "files"
   ]
  },
  {
   "cell_type": "markdown",
   "metadata": {},
   "source": [
    "## Describing files inside DATASUS server"
   ]
  },
  {
   "cell_type": "code",
   "execution_count": 7,
   "metadata": {},
   "outputs": [
    {
     "name": "stdout",
     "output_type": "stream",
     "text": [
      "{'group': 'Declarações de Nascidos Vivos',\n",
      " 'last_update': '2020-01-27 12:12PM',\n",
      " 'name': 'DNSP2001.DBC',\n",
      " 'size': '14.7 MB',\n",
      " 'uf': 'São Paulo',\n",
      " 'year': 2001}\n",
      "{'group': 'Declarações de Nascidos Vivos',\n",
      " 'last_update': '2020-01-27 12:12PM',\n",
      " 'name': 'DNSP2002.DBC',\n",
      " 'size': '15.6 MB',\n",
      " 'uf': 'São Paulo',\n",
      " 'year': 2002}\n",
      "{'group': 'Declarações de Nascidos Vivos',\n",
      " 'last_update': '2020-01-27 12:12PM',\n",
      " 'name': 'DNSP2003.DBC',\n",
      " 'size': '17.5 MB',\n",
      " 'uf': 'São Paulo',\n",
      " 'year': 2003}\n"
     ]
    }
   ],
   "source": [
    "from pprint import pprint\n",
    "for file in files:\n",
    "    pprint(sinasc.describe(file))"
   ]
  },
  {
   "cell_type": "markdown",
   "metadata": {},
   "source": [
    "## Downloading files"
   ]
  },
  {
   "cell_type": "markdown",
   "metadata": {},
   "source": [
    "You can rather download multiple files or download them individually:"
   ]
  },
  {
   "cell_type": "code",
   "execution_count": 8,
   "metadata": {},
   "outputs": [
    {
     "data": {
      "text/plain": [
       "'/home/bida/pysus/DNSP2001.DBC'"
      ]
     },
     "execution_count": 8,
     "metadata": {},
     "output_type": "execute_result"
    }
   ],
   "source": [
    "files[0].download()"
   ]
  },
  {
   "cell_type": "code",
   "execution_count": 9,
   "metadata": {},
   "outputs": [
    {
     "data": {
      "text/plain": [
       "['/home/bida/pysus/DNSP2001.DBC',\n",
       " '/home/bida/pysus/DNSP2002.DBC',\n",
       " '/home/bida/pysus/DNSP2003.DBC']"
      ]
     },
     "execution_count": 9,
     "metadata": {},
     "output_type": "execute_result"
    }
   ],
   "source": [
    "sinasc.download(files) # Downloads to default directory"
   ]
  },
  {
   "cell_type": "markdown",
   "metadata": {},
   "source": [
    "You can specify a local directory to download:"
   ]
  },
  {
   "cell_type": "code",
   "execution_count": 10,
   "metadata": {},
   "outputs": [
    {
     "data": {
      "text/plain": [
       "['/tmp/DNSP2001.DBC', '/tmp/DNSP2002.DBC', '/tmp/DNSP2003.DBC']"
      ]
     },
     "execution_count": 10,
     "metadata": {},
     "output_type": "execute_result"
    }
   ],
   "source": [
    "sinasc.download(files, local_dir=\"/tmp\")"
   ]
  },
  {
   "cell_type": "markdown",
   "metadata": {},
   "source": [
    "@Note: If the file has been downloaded already, it's required to delete it in order to download the lastest updated file from DATASUS. "
   ]
  }
 ],
 "metadata": {
  "kernelspec": {
   "display_name": "Python 3 (ipykernel)",
   "language": "python",
   "name": "python3"
  },
  "language_info": {
   "codemirror_mode": {
    "name": "ipython",
    "version": 3
   },
   "file_extension": ".py",
   "mimetype": "text/x-python",
   "name": "python",
   "nbconvert_exporter": "python",
   "pygments_lexer": "ipython3",
   "version": "3.11.5"
  },
  "vscode": {
   "interpreter": {
    "hash": "2a96a5ccec8dfcba7d06b2e71f6eef3b5dac5716461bf5d73ea1bb7ee462cdaa"
   }
  }
 },
 "nbformat": 4,
 "nbformat_minor": 4
}
