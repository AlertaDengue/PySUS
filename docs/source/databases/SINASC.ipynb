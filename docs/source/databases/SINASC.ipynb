{
 "cells": [
  {
   "cell_type": "markdown",
   "metadata": {
    "pycharm": {
     "name": "#%% md\n"
    }
   },
   "source": [
    "# SINASC FTP Database\n",
    "##### Sistema de Informações sobre Nascidos Vivos\n"
   ]
  },
  {
   "cell_type": "code",
   "execution_count": 1,
   "metadata": {
    "collapsed": false,
    "jupyter": {
     "outputs_hidden": false
    },
    "pycharm": {
     "name": "#%%\n"
    }
   },
   "outputs": [],
   "source": [
    "from pysus.ftp.databases.sinasc import SINASC\n",
    "sinasc = SINASC().load() # Loads the files from DATASUS"
   ]
  },
  {
   "cell_type": "code",
   "execution_count": 2,
   "metadata": {},
   "outputs": [
    {
     "data": {
      "text/plain": [
       "SINASC - Sistema de Informações sobre Nascidos Vivos"
      ]
     },
     "execution_count": 2,
     "metadata": {},
     "output_type": "execute_result"
    }
   ],
   "source": [
    "sinasc"
   ]
  },
  {
   "cell_type": "code",
   "execution_count": 3,
   "metadata": {},
   "outputs": [
    {
     "data": {
      "text/plain": [
       "{'long_name': 'Sistema de Informações sobre Nascidos Vivos',\n",
       " 'source': 'http://sinasc.saude.gov.br/',\n",
       " 'description': ''}"
      ]
     },
     "execution_count": 3,
     "metadata": {},
     "output_type": "execute_result"
    }
   ],
   "source": [
    "sinasc.metadata"
   ]
  },
  {
   "cell_type": "markdown",
   "metadata": {},
   "source": [
    "## Listing codes & groups"
   ]
  },
  {
   "cell_type": "code",
   "execution_count": 4,
   "metadata": {
    "collapsed": false,
    "jupyter": {
     "outputs_hidden": false
    },
    "pycharm": {
     "name": "#%%\n"
    }
   },
   "outputs": [
    {
     "data": {
      "text/plain": [
       "{'DN': 'Declarações de Nascidos Vivos',\n",
       " 'DNR': 'Dados dos Nascidos Vivos por UF de residência'}"
      ]
     },
     "execution_count": 4,
     "metadata": {},
     "output_type": "execute_result"
    }
   ],
   "source": [
    "sinasc.groups"
   ]
  },
  {
   "cell_type": "markdown",
   "metadata": {},
   "source": [
    "## Getting specific files "
   ]
  },
  {
   "cell_type": "code",
   "execution_count": 5,
   "metadata": {},
   "outputs": [
    {
     "data": {
      "text/plain": [
       "[DNSP1996.DBC,\n",
       " DNSP1997.DBC,\n",
       " DNSP1998.DBC,\n",
       " DNSP1999.DBC,\n",
       " DNSP2000.DBC,\n",
       " DNSP2001.DBC,\n",
       " DNSP2002.DBC,\n",
       " DNSP2003.DBC,\n",
       " DNSP2004.DBC,\n",
       " DNSP2005.dbc,\n",
       " DNSP2006.DBC,\n",
       " DNSP2007.dbc,\n",
       " DNSP2008.dbc,\n",
       " DNSP2009.dbc,\n",
       " DNSP2010.DBC,\n",
       " DNSP2011.DBC,\n",
       " DNSP2012.DBC,\n",
       " DNSP2013.dbc,\n",
       " DNSP2014.dbc,\n",
       " DNSP2015.dbc,\n",
       " DNSP2016.dbc,\n",
       " DNSP2017.dbc,\n",
       " DNSP2018.dbc,\n",
       " DNSP2019.dbc,\n",
       " DNSP2020.dbc,\n",
       " DNSP2021.dbc]"
      ]
     },
     "execution_count": 5,
     "metadata": {},
     "output_type": "execute_result"
    }
   ],
   "source": [
    "sinasc.get_files(\"DN\", uf=\"SP\") # or multiple [\"SP\", ...]"
   ]
  },
  {
   "cell_type": "code",
   "execution_count": 6,
   "metadata": {},
   "outputs": [
    {
     "data": {
      "text/plain": [
       "[DNSP1999.DBC, DNSP2000.DBC]"
      ]
     },
     "execution_count": 6,
     "metadata": {},
     "output_type": "execute_result"
    }
   ],
   "source": [
    "files = sinasc.get_files(\"DN\", uf=\"SP\", year=[1999, 2000])\n",
    "files"
   ]
  },
  {
   "cell_type": "markdown",
   "metadata": {},
   "source": [
    "## Describing files inside DATASUS server"
   ]
  },
  {
   "cell_type": "code",
   "execution_count": 7,
   "metadata": {},
   "outputs": [
    {
     "name": "stdout",
     "output_type": "stream",
     "text": [
      "{'group': 'Declarações de Nascidos Vivos',\n",
      " 'last_update': '2020-01-27 12:12PM',\n",
      " 'name': 'DNSP1999.DBC',\n",
      " 'size': '14.3 MB',\n",
      " 'uf': 'São Paulo',\n",
      " 'year': 1999}\n",
      "{'group': 'Declarações de Nascidos Vivos',\n",
      " 'last_update': '2020-01-27 12:12PM',\n",
      " 'name': 'DNSP2000.DBC',\n",
      " 'size': '14.3 MB',\n",
      " 'uf': 'São Paulo',\n",
      " 'year': 2000}\n"
     ]
    }
   ],
   "source": [
    "from pprint import pprint\n",
    "for file in files:\n",
    "    pprint(sinasc.describe(file))"
   ]
  },
  {
   "cell_type": "markdown",
   "metadata": {},
   "source": [
    "## Downloading files"
   ]
  },
  {
   "cell_type": "markdown",
   "metadata": {},
   "source": [
    "You can rather download multiple files or download them individually:"
   ]
  },
  {
   "cell_type": "code",
   "execution_count": 8,
   "metadata": {},
   "outputs": [
    {
     "name": "stderr",
     "output_type": "stream",
     "text": [
      "DNSP2000.parquet: 100%|████████████| 523k/523k [00:15<00:00, 34.3kB/s]\n"
     ]
    },
    {
     "data": {
      "text/plain": [
       "[/home/bida/pysus/DNSP1999.parquet, /home/bida/pysus/DNSP2000.parquet]"
      ]
     },
     "execution_count": 8,
     "metadata": {},
     "output_type": "execute_result"
    }
   ],
   "source": [
    "sinasc.download(files) # Downloads to default directory or specify with `local_dir=`"
   ]
  },
  {
   "cell_type": "markdown",
   "metadata": {},
   "source": [
    "@Note: If the file has been downloaded already, it's required to delete it in order to download the lastest updated file from DATASUS. "
   ]
  },
  {
   "cell_type": "markdown",
   "metadata": {},
   "source": [
    "### Reading files\n",
    "\n",
    "PySUS uses Parquets as output, use the method `to_dataframe()` to read the file as pandas DataFrame"
   ]
  },
  {
   "cell_type": "code",
   "execution_count": 9,
   "metadata": {},
   "outputs": [
    {
     "name": "stderr",
     "output_type": "stream",
     "text": [
      "100%|████████████████████████████| 14.3M/14.3M [00:00<00:00, 6.32GB/s]\n"
     ]
    }
   ],
   "source": [
    "parquet = sinasc.download(files)[0]"
   ]
  },
  {
   "cell_type": "code",
   "execution_count": 10,
   "metadata": {},
   "outputs": [
    {
     "data": {
      "text/html": [
       "<div>\n",
       "<style scoped>\n",
       "    .dataframe tbody tr th:only-of-type {\n",
       "        vertical-align: middle;\n",
       "    }\n",
       "\n",
       "    .dataframe tbody tr th {\n",
       "        vertical-align: top;\n",
       "    }\n",
       "\n",
       "    .dataframe thead th {\n",
       "        text-align: right;\n",
       "    }\n",
       "</style>\n",
       "<table border=\"1\" class=\"dataframe\">\n",
       "  <thead>\n",
       "    <tr style=\"text-align: right;\">\n",
       "      <th></th>\n",
       "      <th>contador</th>\n",
       "      <th>LOCNASC</th>\n",
       "      <th>CODMUNNASC</th>\n",
       "      <th>IDADEMAE</th>\n",
       "      <th>ESTCIVMAE</th>\n",
       "      <th>ESCMAE</th>\n",
       "      <th>CODOCUPMAE</th>\n",
       "      <th>QTDFILVIVO</th>\n",
       "      <th>QTDFILMORT</th>\n",
       "      <th>CODMUNRES</th>\n",
       "      <th>...</th>\n",
       "      <th>GRAVIDEZ</th>\n",
       "      <th>PARTO</th>\n",
       "      <th>CONSULTAS</th>\n",
       "      <th>DTNASC</th>\n",
       "      <th>SEXO</th>\n",
       "      <th>APGAR1</th>\n",
       "      <th>APGAR5</th>\n",
       "      <th>RACACOR</th>\n",
       "      <th>PESO</th>\n",
       "      <th>CODANOMAL</th>\n",
       "    </tr>\n",
       "  </thead>\n",
       "  <tbody>\n",
       "    <tr>\n",
       "      <th>0</th>\n",
       "      <td>90001</td>\n",
       "      <td>1</td>\n",
       "      <td>3550308</td>\n",
       "      <td>21</td>\n",
       "      <td>9</td>\n",
       "      <td>2</td>\n",
       "      <td></td>\n",
       "      <td>03</td>\n",
       "      <td>00</td>\n",
       "      <td>3550308</td>\n",
       "      <td>...</td>\n",
       "      <td>1</td>\n",
       "      <td>1</td>\n",
       "      <td>8</td>\n",
       "      <td>20021999</td>\n",
       "      <td>2</td>\n",
       "      <td>09</td>\n",
       "      <td>10</td>\n",
       "      <td></td>\n",
       "      <td>3300</td>\n",
       "      <td></td>\n",
       "    </tr>\n",
       "    <tr>\n",
       "      <th>1</th>\n",
       "      <td>90002</td>\n",
       "      <td>1</td>\n",
       "      <td>3550308</td>\n",
       "      <td>23</td>\n",
       "      <td>9</td>\n",
       "      <td>3</td>\n",
       "      <td></td>\n",
       "      <td>01</td>\n",
       "      <td>00</td>\n",
       "      <td>3550308</td>\n",
       "      <td>...</td>\n",
       "      <td>1</td>\n",
       "      <td>1</td>\n",
       "      <td>8</td>\n",
       "      <td>19031999</td>\n",
       "      <td>2</td>\n",
       "      <td>09</td>\n",
       "      <td>10</td>\n",
       "      <td></td>\n",
       "      <td>2300</td>\n",
       "      <td></td>\n",
       "    </tr>\n",
       "    <tr>\n",
       "      <th>2</th>\n",
       "      <td>90003</td>\n",
       "      <td>1</td>\n",
       "      <td>3550308</td>\n",
       "      <td>19</td>\n",
       "      <td>9</td>\n",
       "      <td>2</td>\n",
       "      <td></td>\n",
       "      <td>01</td>\n",
       "      <td>00</td>\n",
       "      <td>3550308</td>\n",
       "      <td>...</td>\n",
       "      <td>1</td>\n",
       "      <td>1</td>\n",
       "      <td>8</td>\n",
       "      <td>09031999</td>\n",
       "      <td>1</td>\n",
       "      <td>08</td>\n",
       "      <td>09</td>\n",
       "      <td>4</td>\n",
       "      <td>3600</td>\n",
       "      <td></td>\n",
       "    </tr>\n",
       "    <tr>\n",
       "      <th>3</th>\n",
       "      <td>90004</td>\n",
       "      <td>1</td>\n",
       "      <td>3550308</td>\n",
       "      <td>16</td>\n",
       "      <td>9</td>\n",
       "      <td>2</td>\n",
       "      <td></td>\n",
       "      <td>00</td>\n",
       "      <td>00</td>\n",
       "      <td>3550308</td>\n",
       "      <td>...</td>\n",
       "      <td>1</td>\n",
       "      <td>1</td>\n",
       "      <td>8</td>\n",
       "      <td>15031999</td>\n",
       "      <td>2</td>\n",
       "      <td>09</td>\n",
       "      <td>10</td>\n",
       "      <td>1</td>\n",
       "      <td>2600</td>\n",
       "      <td></td>\n",
       "    </tr>\n",
       "    <tr>\n",
       "      <th>4</th>\n",
       "      <td>90005</td>\n",
       "      <td>1</td>\n",
       "      <td>3550308</td>\n",
       "      <td>33</td>\n",
       "      <td>9</td>\n",
       "      <td>2</td>\n",
       "      <td></td>\n",
       "      <td>00</td>\n",
       "      <td>00</td>\n",
       "      <td>3550308</td>\n",
       "      <td>...</td>\n",
       "      <td>1</td>\n",
       "      <td>2</td>\n",
       "      <td>8</td>\n",
       "      <td>17031999</td>\n",
       "      <td>2</td>\n",
       "      <td>09</td>\n",
       "      <td>09</td>\n",
       "      <td></td>\n",
       "      <td>2700</td>\n",
       "      <td></td>\n",
       "    </tr>\n",
       "    <tr>\n",
       "      <th>...</th>\n",
       "      <td>...</td>\n",
       "      <td>...</td>\n",
       "      <td>...</td>\n",
       "      <td>...</td>\n",
       "      <td>...</td>\n",
       "      <td>...</td>\n",
       "      <td>...</td>\n",
       "      <td>...</td>\n",
       "      <td>...</td>\n",
       "      <td>...</td>\n",
       "      <td>...</td>\n",
       "      <td>...</td>\n",
       "      <td>...</td>\n",
       "      <td>...</td>\n",
       "      <td>...</td>\n",
       "      <td>...</td>\n",
       "      <td>...</td>\n",
       "      <td>...</td>\n",
       "      <td>...</td>\n",
       "      <td>...</td>\n",
       "      <td>...</td>\n",
       "    </tr>\n",
       "    <tr>\n",
       "      <th>714423</th>\n",
       "      <td>299996</td>\n",
       "      <td>1</td>\n",
       "      <td>3522604</td>\n",
       "      <td>18</td>\n",
       "      <td>9</td>\n",
       "      <td>3</td>\n",
       "      <td></td>\n",
       "      <td>01</td>\n",
       "      <td>00</td>\n",
       "      <td>3522604</td>\n",
       "      <td>...</td>\n",
       "      <td>1</td>\n",
       "      <td>1</td>\n",
       "      <td>4</td>\n",
       "      <td>20051999</td>\n",
       "      <td>1</td>\n",
       "      <td>08</td>\n",
       "      <td>10</td>\n",
       "      <td>1</td>\n",
       "      <td>3400</td>\n",
       "      <td></td>\n",
       "    </tr>\n",
       "    <tr>\n",
       "      <th>714424</th>\n",
       "      <td>299997</td>\n",
       "      <td>1</td>\n",
       "      <td>3522604</td>\n",
       "      <td>37</td>\n",
       "      <td>2</td>\n",
       "      <td>2</td>\n",
       "      <td></td>\n",
       "      <td>01</td>\n",
       "      <td>00</td>\n",
       "      <td>3522604</td>\n",
       "      <td>...</td>\n",
       "      <td>1</td>\n",
       "      <td>2</td>\n",
       "      <td>4</td>\n",
       "      <td>29051999</td>\n",
       "      <td>1</td>\n",
       "      <td>09</td>\n",
       "      <td>10</td>\n",
       "      <td>1</td>\n",
       "      <td>3800</td>\n",
       "      <td></td>\n",
       "    </tr>\n",
       "    <tr>\n",
       "      <th>714425</th>\n",
       "      <td>299998</td>\n",
       "      <td>1</td>\n",
       "      <td>3522604</td>\n",
       "      <td>21</td>\n",
       "      <td>9</td>\n",
       "      <td>4</td>\n",
       "      <td></td>\n",
       "      <td>00</td>\n",
       "      <td>00</td>\n",
       "      <td>3522604</td>\n",
       "      <td>...</td>\n",
       "      <td>1</td>\n",
       "      <td>1</td>\n",
       "      <td>4</td>\n",
       "      <td>04061999</td>\n",
       "      <td>2</td>\n",
       "      <td>09</td>\n",
       "      <td>10</td>\n",
       "      <td>1</td>\n",
       "      <td>3500</td>\n",
       "      <td></td>\n",
       "    </tr>\n",
       "    <tr>\n",
       "      <th>714426</th>\n",
       "      <td>299999</td>\n",
       "      <td>1</td>\n",
       "      <td>3522604</td>\n",
       "      <td>34</td>\n",
       "      <td>2</td>\n",
       "      <td>4</td>\n",
       "      <td></td>\n",
       "      <td>00</td>\n",
       "      <td>00</td>\n",
       "      <td>3522604</td>\n",
       "      <td>...</td>\n",
       "      <td>1</td>\n",
       "      <td>2</td>\n",
       "      <td>3</td>\n",
       "      <td>04061999</td>\n",
       "      <td>2</td>\n",
       "      <td>09</td>\n",
       "      <td>10</td>\n",
       "      <td>1</td>\n",
       "      <td>3800</td>\n",
       "      <td></td>\n",
       "    </tr>\n",
       "    <tr>\n",
       "      <th>714427</th>\n",
       "      <td>300000</td>\n",
       "      <td>1</td>\n",
       "      <td>3522604</td>\n",
       "      <td>37</td>\n",
       "      <td>9</td>\n",
       "      <td>2</td>\n",
       "      <td></td>\n",
       "      <td>05</td>\n",
       "      <td>00</td>\n",
       "      <td>3522604</td>\n",
       "      <td>...</td>\n",
       "      <td>1</td>\n",
       "      <td>1</td>\n",
       "      <td>8</td>\n",
       "      <td>29051999</td>\n",
       "      <td>2</td>\n",
       "      <td>10</td>\n",
       "      <td>10</td>\n",
       "      <td>1</td>\n",
       "      <td>3100</td>\n",
       "      <td></td>\n",
       "    </tr>\n",
       "  </tbody>\n",
       "</table>\n",
       "<p>714428 rows × 21 columns</p>\n",
       "</div>"
      ],
      "text/plain": [
       "        contador  LOCNASC  CODMUNNASC  IDADEMAE  ESTCIVMAE  ESCMAE CODOCUPMAE  \\\n",
       "0       90001     1        3550308     21        9          2                   \n",
       "1       90002     1        3550308     23        9          3                   \n",
       "2       90003     1        3550308     19        9          2                   \n",
       "3       90004     1        3550308     16        9          2                   \n",
       "4       90005     1        3550308     33        9          2                   \n",
       "...          ...      ...         ...       ...        ...     ...        ...   \n",
       "714423  299996    1        3522604     18        9          3                   \n",
       "714424  299997    1        3522604     37        2          2                   \n",
       "714425  299998    1        3522604     21        9          4                   \n",
       "714426  299999    1        3522604     34        2          4                   \n",
       "714427  300000    1        3522604     37        9          2                   \n",
       "\n",
       "        QTDFILVIVO  QTDFILMORT  CODMUNRES  ...  GRAVIDEZ  PARTO  CONSULTAS  \\\n",
       "0       03          00            3550308  ...  1         1      8           \n",
       "1       01          00            3550308  ...  1         1      8           \n",
       "2       01          00            3550308  ...  1         1      8           \n",
       "3       00          00            3550308  ...  1         1      8           \n",
       "4       00          00            3550308  ...  1         2      8           \n",
       "...            ...         ...        ...  ...       ...    ...        ...   \n",
       "714423  01          00            3522604  ...  1         1      4           \n",
       "714424  01          00            3522604  ...  1         2      4           \n",
       "714425  00          00            3522604  ...  1         1      4           \n",
       "714426  00          00            3522604  ...  1         2      3           \n",
       "714427  05          00            3522604  ...  1         1      8           \n",
       "\n",
       "          DTNASC SEXO  APGAR1  APGAR5  RACACOR  PESO CODANOMAL  \n",
       "0       20021999    2  09      10               3300            \n",
       "1       19031999    2  09      10               2300            \n",
       "2       09031999    1  08      09      4        3600            \n",
       "3       15031999    2  09      10      1        2600            \n",
       "4       17031999    2  09      09               2700            \n",
       "...          ...  ...     ...     ...      ...   ...       ...  \n",
       "714423  20051999    1  08      10      1        3400            \n",
       "714424  29051999    1  09      10      1        3800            \n",
       "714425  04061999    2  09      10      1        3500            \n",
       "714426  04061999    2  09      10      1        3800            \n",
       "714427  29051999    2  10      10      1        3100            \n",
       "\n",
       "[714428 rows x 21 columns]"
      ]
     },
     "execution_count": 10,
     "metadata": {},
     "output_type": "execute_result"
    }
   ],
   "source": [
    "parquet.to_dataframe()"
   ]
  }
 ],
 "metadata": {
  "kernelspec": {
   "display_name": "Python 3 (ipykernel)",
   "language": "python",
   "name": "python3"
  },
  "language_info": {
   "codemirror_mode": {
    "name": "ipython",
    "version": 3
   },
   "file_extension": ".py",
   "mimetype": "text/x-python",
   "name": "python",
   "nbconvert_exporter": "python",
   "pygments_lexer": "ipython3",
   "version": "3.11.5"
  },
  "vscode": {
   "interpreter": {
    "hash": "2a96a5ccec8dfcba7d06b2e71f6eef3b5dac5716461bf5d73ea1bb7ee462cdaa"
   }
  }
 },
 "nbformat": 4,
 "nbformat_minor": 4
}
