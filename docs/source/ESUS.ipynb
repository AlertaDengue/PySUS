{
 "cells": [
  {
   "cell_type": "code",
   "execution_count": 1,
   "metadata": {
    "ExecuteTime": {
     "end_time": "2021-04-16T19:34:15.389045Z",
     "start_time": "2021-04-16T19:34:14.686722Z"
    },
    "pycharm": {
     "name": "#%%\n"
    }
   },
   "outputs": [],
   "source": [
    "from pysus.online_data.ESUS import download\n",
    "import pandas as pd"
   ]
  },
  {
   "cell_type": "markdown",
   "metadata": {},
   "source": [
    "# Downloading data from ESUS\n",
    "This function alows for the download of COVID-19 data from ESUS. For Some States, the size of the resulting table can easily exceed the memory size of most personal computers, in such cases, the ESUS download function will stream the data to disk without filling up the memory and return an iterator of chunks of 1000 rows of data. The user must then iterate over the chunks to analyze the data."
   ]
  },
  {
   "cell_type": "code",
   "execution_count": 2,
   "metadata": {
    "ExecuteTime": {
     "end_time": "2021-04-16T19:34:16.833304Z",
     "start_time": "2021-04-16T19:34:16.030302Z"
    },
    "pycharm": {
     "name": "#%%\n"
    }
   },
   "outputs": [],
   "source": [
    "df = download(uf='se')"
   ]
  },
  {
   "cell_type": "code",
   "execution_count": 3,
   "metadata": {
    "ExecuteTime": {
     "end_time": "2021-04-16T19:34:17.854332Z",
     "start_time": "2021-04-16T19:34:17.824496Z"
    },
    "pycharm": {
     "name": "#%%\n"
    }
   },
   "outputs": [
    {
     "data": {
      "text/html": [
       "<div>\n",
       "<style scoped>\n",
       "    .dataframe tbody tr th:only-of-type {\n",
       "        vertical-align: middle;\n",
       "    }\n",
       "\n",
       "    .dataframe tbody tr th {\n",
       "        vertical-align: top;\n",
       "    }\n",
       "\n",
       "    .dataframe thead th {\n",
       "        text-align: right;\n",
       "    }\n",
       "</style>\n",
       "<table border=\"1\" class=\"dataframe\">\n",
       "  <thead>\n",
       "    <tr style=\"text-align: right;\">\n",
       "      <th></th>\n",
       "      <th>dataNotificacao</th>\n",
       "      <th>dataInicioSintomas</th>\n",
       "      <th>dataTeste</th>\n",
       "      <th>estrangeiro</th>\n",
       "      <th>profissionalSaude</th>\n",
       "      <th>profissionalSeguranca</th>\n",
       "      <th>cbo</th>\n",
       "      <th>sexo</th>\n",
       "      <th>racaCor</th>\n",
       "      <th>estado</th>\n",
       "      <th>...</th>\n",
       "      <th>tipoTesteSorologico</th>\n",
       "      <th>resultadoTesteSorologicoIgA</th>\n",
       "      <th>resultadoTesteSorologicoIgG</th>\n",
       "      <th>resultadoTesteSorologicoIgM</th>\n",
       "      <th>resultadoTesteSorologicoTotais</th>\n",
       "      <th>@timestamp</th>\n",
       "      <th>estadoIBGE</th>\n",
       "      <th>estadoNotificacaoIBGE</th>\n",
       "      <th>municipioIBGE</th>\n",
       "      <th>municipioNotificacaoIBGE</th>\n",
       "    </tr>\n",
       "  </thead>\n",
       "  <tbody>\n",
       "    <tr>\n",
       "      <th>0</th>\n",
       "      <td>2020-07-04T14:37:16.521Z</td>\n",
       "      <td>2020-06-30T03:00:00.000Z</td>\n",
       "      <td>2020-07-03T03:00:00.000Z</td>\n",
       "      <td>None</td>\n",
       "      <td>Não</td>\n",
       "      <td>Não</td>\n",
       "      <td>None</td>\n",
       "      <td>Feminino</td>\n",
       "      <td>Branca</td>\n",
       "      <td>SERGIPE</td>\n",
       "      <td>...</td>\n",
       "      <td>None</td>\n",
       "      <td>None</td>\n",
       "      <td>None</td>\n",
       "      <td>None</td>\n",
       "      <td>None</td>\n",
       "      <td>2021-03-02T20:10:19.244Z</td>\n",
       "      <td>28</td>\n",
       "      <td>28</td>\n",
       "      <td>2800308</td>\n",
       "      <td>2800308</td>\n",
       "    </tr>\n",
       "    <tr>\n",
       "      <th>1</th>\n",
       "      <td>2020-07-03T03:00:00.000Z</td>\n",
       "      <td>2020-06-25T03:00:00.000Z</td>\n",
       "      <td>2020-07-03T03:00:00.000Z</td>\n",
       "      <td>Não</td>\n",
       "      <td>Sim</td>\n",
       "      <td>Não</td>\n",
       "      <td>3222 - Técnico ou Auxiliar em Enfermagem</td>\n",
       "      <td>Feminino</td>\n",
       "      <td>Parda</td>\n",
       "      <td>SERGIPE</td>\n",
       "      <td>...</td>\n",
       "      <td>None</td>\n",
       "      <td>None</td>\n",
       "      <td>None</td>\n",
       "      <td>None</td>\n",
       "      <td>None</td>\n",
       "      <td>2021-03-02T20:10:19.244Z</td>\n",
       "      <td>28</td>\n",
       "      <td>28</td>\n",
       "      <td>2800308</td>\n",
       "      <td>2806701</td>\n",
       "    </tr>\n",
       "    <tr>\n",
       "      <th>2</th>\n",
       "      <td>2020-07-04T14:40:48.582Z</td>\n",
       "      <td>2020-06-26T03:00:00.000Z</td>\n",
       "      <td>2020-07-03T03:00:00.000Z</td>\n",
       "      <td>None</td>\n",
       "      <td>Sim</td>\n",
       "      <td>Não</td>\n",
       "      <td>251605 - Assistente Social</td>\n",
       "      <td>Feminino</td>\n",
       "      <td>Parda</td>\n",
       "      <td>SERGIPE</td>\n",
       "      <td>...</td>\n",
       "      <td>None</td>\n",
       "      <td>None</td>\n",
       "      <td>None</td>\n",
       "      <td>None</td>\n",
       "      <td>None</td>\n",
       "      <td>2021-03-02T20:10:19.244Z</td>\n",
       "      <td>28</td>\n",
       "      <td>28</td>\n",
       "      <td>2800308</td>\n",
       "      <td>2800308</td>\n",
       "    </tr>\n",
       "    <tr>\n",
       "      <th>3</th>\n",
       "      <td>2020-07-04T14:45:52.616Z</td>\n",
       "      <td>2020-07-03T03:00:00.000Z</td>\n",
       "      <td>2020-07-03T03:00:00.000Z</td>\n",
       "      <td>None</td>\n",
       "      <td>Sim</td>\n",
       "      <td>Não</td>\n",
       "      <td>2232 - Cirurgião-Dentista</td>\n",
       "      <td>Feminino</td>\n",
       "      <td>Parda</td>\n",
       "      <td>SERGIPE</td>\n",
       "      <td>...</td>\n",
       "      <td>None</td>\n",
       "      <td>None</td>\n",
       "      <td>None</td>\n",
       "      <td>None</td>\n",
       "      <td>None</td>\n",
       "      <td>2021-03-02T20:10:19.244Z</td>\n",
       "      <td>28</td>\n",
       "      <td>28</td>\n",
       "      <td>2800308</td>\n",
       "      <td>2800308</td>\n",
       "    </tr>\n",
       "    <tr>\n",
       "      <th>4</th>\n",
       "      <td>2020-07-04T14:47:55.651Z</td>\n",
       "      <td>2020-06-16T03:00:00.000Z</td>\n",
       "      <td>2020-06-04T03:00:00.000Z</td>\n",
       "      <td>None</td>\n",
       "      <td>Não</td>\n",
       "      <td>Não</td>\n",
       "      <td>None</td>\n",
       "      <td>Masculino</td>\n",
       "      <td>Parda</td>\n",
       "      <td>SERGIPE</td>\n",
       "      <td>...</td>\n",
       "      <td>None</td>\n",
       "      <td>None</td>\n",
       "      <td>None</td>\n",
       "      <td>None</td>\n",
       "      <td>None</td>\n",
       "      <td>2021-03-02T20:10:19.244Z</td>\n",
       "      <td>28</td>\n",
       "      <td>28</td>\n",
       "      <td>2800308</td>\n",
       "      <td>2800308</td>\n",
       "    </tr>\n",
       "  </tbody>\n",
       "</table>\n",
       "<p>5 rows × 38 columns</p>\n",
       "</div>"
      ],
      "text/plain": [
       "            dataNotificacao        dataInicioSintomas  \\\n",
       "0  2020-07-04T14:37:16.521Z  2020-06-30T03:00:00.000Z   \n",
       "1  2020-07-03T03:00:00.000Z  2020-06-25T03:00:00.000Z   \n",
       "2  2020-07-04T14:40:48.582Z  2020-06-26T03:00:00.000Z   \n",
       "3  2020-07-04T14:45:52.616Z  2020-07-03T03:00:00.000Z   \n",
       "4  2020-07-04T14:47:55.651Z  2020-06-16T03:00:00.000Z   \n",
       "\n",
       "                  dataTeste estrangeiro profissionalSaude  \\\n",
       "0  2020-07-03T03:00:00.000Z        None               Não   \n",
       "1  2020-07-03T03:00:00.000Z         Não               Sim   \n",
       "2  2020-07-03T03:00:00.000Z        None               Sim   \n",
       "3  2020-07-03T03:00:00.000Z        None               Sim   \n",
       "4  2020-06-04T03:00:00.000Z        None               Não   \n",
       "\n",
       "  profissionalSeguranca                                       cbo       sexo  \\\n",
       "0                   Não                                      None   Feminino   \n",
       "1                   Não  3222 - Técnico ou Auxiliar em Enfermagem   Feminino   \n",
       "2                   Não                251605 - Assistente Social   Feminino   \n",
       "3                   Não                 2232 - Cirurgião-Dentista   Feminino   \n",
       "4                   Não                                      None  Masculino   \n",
       "\n",
       "  racaCor   estado  ... tipoTesteSorologico resultadoTesteSorologicoIgA  \\\n",
       "0  Branca  SERGIPE  ...                None                        None   \n",
       "1   Parda  SERGIPE  ...                None                        None   \n",
       "2   Parda  SERGIPE  ...                None                        None   \n",
       "3   Parda  SERGIPE  ...                None                        None   \n",
       "4   Parda  SERGIPE  ...                None                        None   \n",
       "\n",
       "  resultadoTesteSorologicoIgG resultadoTesteSorologicoIgM  \\\n",
       "0                        None                        None   \n",
       "1                        None                        None   \n",
       "2                        None                        None   \n",
       "3                        None                        None   \n",
       "4                        None                        None   \n",
       "\n",
       "  resultadoTesteSorologicoTotais                @timestamp estadoIBGE  \\\n",
       "0                           None  2021-03-02T20:10:19.244Z         28   \n",
       "1                           None  2021-03-02T20:10:19.244Z         28   \n",
       "2                           None  2021-03-02T20:10:19.244Z         28   \n",
       "3                           None  2021-03-02T20:10:19.244Z         28   \n",
       "4                           None  2021-03-02T20:10:19.244Z         28   \n",
       "\n",
       "  estadoNotificacaoIBGE municipioIBGE municipioNotificacaoIBGE  \n",
       "0                    28       2800308                  2800308  \n",
       "1                    28       2800308                  2806701  \n",
       "2                    28       2800308                  2800308  \n",
       "3                    28       2800308                  2800308  \n",
       "4                    28       2800308                  2800308  \n",
       "\n",
       "[5 rows x 38 columns]"
      ]
     },
     "execution_count": 3,
     "metadata": {},
     "output_type": "execute_result"
    }
   ],
   "source": [
    "df.head()"
   ]
  },
  {
   "cell_type": "code",
   "execution_count": 13,
   "metadata": {
    "ExecuteTime": {
     "end_time": "2021-04-16T19:48:02.736025Z",
     "start_time": "2021-04-16T19:48:01.520690Z"
    }
   },
   "outputs": [],
   "source": [
    "for cname in df:\n",
    "    if cname.startswith('data'):\n",
    "        df[cname] = pd.to_datetime(df[cname], errors='coerce')"
   ]
  },
  {
   "cell_type": "code",
   "execution_count": 14,
   "metadata": {
    "ExecuteTime": {
     "end_time": "2021-04-16T19:48:05.089575Z",
     "start_time": "2021-04-16T19:48:04.754944Z"
    }
   },
   "outputs": [
    {
     "name": "stdout",
     "output_type": "stream",
     "text": [
      "<class 'pandas.core.frame.DataFrame'>\n",
      "RangeIndex: 381068 entries, 0 to 381067\n",
      "Data columns (total 39 columns):\n",
      " #   Column                          Non-Null Count   Dtype              \n",
      "---  ------                          --------------   -----              \n",
      " 0   index                           381068 non-null  int64              \n",
      " 1   dataNotificacao                 380858 non-null  datetime64[ns, UTC]\n",
      " 2   dataInicioSintomas              380925 non-null  datetime64[ns, UTC]\n",
      " 3   dataTeste                       305246 non-null  datetime64[ns, UTC]\n",
      " 4   estrangeiro                     72903 non-null   object             \n",
      " 5   profissionalSaude               380962 non-null  object             \n",
      " 6   profissionalSeguranca           372901 non-null  object             \n",
      " 7   cbo                             27338 non-null   object             \n",
      " 8   sexo                            381067 non-null  object             \n",
      " 9   racaCor                         370430 non-null  object             \n",
      " 10  estado                          381068 non-null  object             \n",
      " 11  municipio                       381068 non-null  object             \n",
      " 12  sintomas                        381052 non-null  object             \n",
      " 13  outrosSintomas                  170386 non-null  object             \n",
      " 14  condicoes                       27408 non-null   object             \n",
      " 15  estadoTeste                     360878 non-null  object             \n",
      " 16  tipoTeste                       294495 non-null  object             \n",
      " 17  resultadoTeste                  229405 non-null  object             \n",
      " 18  estadoNotificacao               381067 non-null  object             \n",
      " 19  municipioNotificacao            381057 non-null  object             \n",
      " 20  dataRegistro                    381068 non-null  datetime64[ns, UTC]\n",
      " 21  dataAtualizacao                 381068 non-null  datetime64[ns, UTC]\n",
      " 22  source_id                       381068 non-null  object             \n",
      " 23  idade                           381066 non-null  float64            \n",
      " 24  classificacaoFinal              128560 non-null  object             \n",
      " 25  evolucaoCaso                    130834 non-null  object             \n",
      " 26  dataEncerramento                115793 non-null  datetime64[ns, UTC]\n",
      " 27  testeSorologico                 8941 non-null    object             \n",
      " 28  dataTesteSorologico             8206 non-null    datetime64[ns, UTC]\n",
      " 29  tipoTesteSorologico             8850 non-null    object             \n",
      " 30  resultadoTesteSorologicoIgA     9 non-null       object             \n",
      " 31  resultadoTesteSorologicoIgG     6352 non-null    object             \n",
      " 32  resultadoTesteSorologicoIgM     6389 non-null    object             \n",
      " 33  resultadoTesteSorologicoTotais  735 non-null     object             \n",
      " 34  @timestamp                      381068 non-null  object             \n",
      " 35  estadoIBGE                      381068 non-null  object             \n",
      " 36  estadoNotificacaoIBGE           381067 non-null  object             \n",
      " 37  municipioIBGE                   381032 non-null  object             \n",
      " 38  municipioNotificacaoIBGE        381042 non-null  object             \n",
      "dtypes: datetime64[ns, UTC](7), float64(1), int64(1), object(30)\n",
      "memory usage: 113.4+ MB\n"
     ]
    }
   ],
   "source": [
    "df.info()"
   ]
  },
  {
   "cell_type": "markdown",
   "metadata": {},
   "source": [
    "Now we will create a datetime index for our dataframe, but we must be carefull with missing dates here. For now, to enable a quick visualization, we will simply coerce missing dates to `NaT`."
   ]
  },
  {
   "cell_type": "code",
   "execution_count": 4,
   "metadata": {
    "ExecuteTime": {
     "end_time": "2021-04-16T18:55:55.954762Z",
     "start_time": "2021-04-16T18:55:55.732958Z"
    },
    "pycharm": {
     "name": "#%%\n"
    }
   },
   "outputs": [],
   "source": [
    "df['datesint'] = pd.to_datetime(df['dataInicioSintomas'],errors='coerce')\n",
    "# df = df.dropna()\n",
    "df.set_index('datesint', inplace=True);"
   ]
  },
  {
   "cell_type": "markdown",
   "metadata": {},
   "source": [
    "Now we can count the cases per day and plot."
   ]
  },
  {
   "cell_type": "code",
   "execution_count": 5,
   "metadata": {
    "ExecuteTime": {
     "end_time": "2021-04-16T18:56:00.999229Z",
     "start_time": "2021-04-16T18:55:57.214885Z"
    },
    "pycharm": {
     "name": "#%%\n"
    }
   },
   "outputs": [
    {
     "data": {
      "text/html": [
       "<div>\n",
       "<style scoped>\n",
       "    .dataframe tbody tr th:only-of-type {\n",
       "        vertical-align: middle;\n",
       "    }\n",
       "\n",
       "    .dataframe tbody tr th {\n",
       "        vertical-align: top;\n",
       "    }\n",
       "\n",
       "    .dataframe thead th {\n",
       "        text-align: right;\n",
       "    }\n",
       "</style>\n",
       "<table border=\"1\" class=\"dataframe\">\n",
       "  <thead>\n",
       "    <tr style=\"text-align: right;\">\n",
       "      <th></th>\n",
       "      <th>dataNotificacao</th>\n",
       "      <th>dataInicioSintomas</th>\n",
       "      <th>dataTeste</th>\n",
       "      <th>estrangeiro</th>\n",
       "      <th>profissionalSaude</th>\n",
       "      <th>profissionalSeguranca</th>\n",
       "      <th>cbo</th>\n",
       "      <th>sexo</th>\n",
       "      <th>racaCor</th>\n",
       "      <th>estado</th>\n",
       "      <th>...</th>\n",
       "      <th>tipoTesteSorologico</th>\n",
       "      <th>resultadoTesteSorologicoIgA</th>\n",
       "      <th>resultadoTesteSorologicoIgG</th>\n",
       "      <th>resultadoTesteSorologicoIgM</th>\n",
       "      <th>resultadoTesteSorologicoTotais</th>\n",
       "      <th>@timestamp</th>\n",
       "      <th>estadoIBGE</th>\n",
       "      <th>estadoNotificacaoIBGE</th>\n",
       "      <th>municipioIBGE</th>\n",
       "      <th>municipioNotificacaoIBGE</th>\n",
       "    </tr>\n",
       "    <tr>\n",
       "      <th>datesint</th>\n",
       "      <th></th>\n",
       "      <th></th>\n",
       "      <th></th>\n",
       "      <th></th>\n",
       "      <th></th>\n",
       "      <th></th>\n",
       "      <th></th>\n",
       "      <th></th>\n",
       "      <th></th>\n",
       "      <th></th>\n",
       "      <th></th>\n",
       "      <th></th>\n",
       "      <th></th>\n",
       "      <th></th>\n",
       "      <th></th>\n",
       "      <th></th>\n",
       "      <th></th>\n",
       "      <th></th>\n",
       "      <th></th>\n",
       "      <th></th>\n",
       "      <th></th>\n",
       "    </tr>\n",
       "  </thead>\n",
       "  <tbody>\n",
       "    <tr>\n",
       "      <th>2020-01-01 00:00:00+00:00</th>\n",
       "      <td>17</td>\n",
       "      <td>17</td>\n",
       "      <td>9</td>\n",
       "      <td>7</td>\n",
       "      <td>17</td>\n",
       "      <td>16</td>\n",
       "      <td>2</td>\n",
       "      <td>17</td>\n",
       "      <td>17</td>\n",
       "      <td>17</td>\n",
       "      <td>...</td>\n",
       "      <td>2</td>\n",
       "      <td>0</td>\n",
       "      <td>1</td>\n",
       "      <td>1</td>\n",
       "      <td>0</td>\n",
       "      <td>17</td>\n",
       "      <td>17</td>\n",
       "      <td>17</td>\n",
       "      <td>17</td>\n",
       "      <td>17</td>\n",
       "    </tr>\n",
       "    <tr>\n",
       "      <th>2020-01-02 00:00:00+00:00</th>\n",
       "      <td>16</td>\n",
       "      <td>16</td>\n",
       "      <td>10</td>\n",
       "      <td>1</td>\n",
       "      <td>16</td>\n",
       "      <td>16</td>\n",
       "      <td>1</td>\n",
       "      <td>16</td>\n",
       "      <td>16</td>\n",
       "      <td>16</td>\n",
       "      <td>...</td>\n",
       "      <td>1</td>\n",
       "      <td>0</td>\n",
       "      <td>1</td>\n",
       "      <td>1</td>\n",
       "      <td>0</td>\n",
       "      <td>16</td>\n",
       "      <td>16</td>\n",
       "      <td>16</td>\n",
       "      <td>16</td>\n",
       "      <td>16</td>\n",
       "    </tr>\n",
       "    <tr>\n",
       "      <th>2020-01-03 00:00:00+00:00</th>\n",
       "      <td>15</td>\n",
       "      <td>15</td>\n",
       "      <td>9</td>\n",
       "      <td>2</td>\n",
       "      <td>15</td>\n",
       "      <td>15</td>\n",
       "      <td>2</td>\n",
       "      <td>15</td>\n",
       "      <td>15</td>\n",
       "      <td>15</td>\n",
       "      <td>...</td>\n",
       "      <td>0</td>\n",
       "      <td>0</td>\n",
       "      <td>0</td>\n",
       "      <td>0</td>\n",
       "      <td>0</td>\n",
       "      <td>15</td>\n",
       "      <td>15</td>\n",
       "      <td>15</td>\n",
       "      <td>15</td>\n",
       "      <td>15</td>\n",
       "    </tr>\n",
       "    <tr>\n",
       "      <th>2020-01-04 00:00:00+00:00</th>\n",
       "      <td>19</td>\n",
       "      <td>19</td>\n",
       "      <td>13</td>\n",
       "      <td>0</td>\n",
       "      <td>19</td>\n",
       "      <td>19</td>\n",
       "      <td>1</td>\n",
       "      <td>19</td>\n",
       "      <td>18</td>\n",
       "      <td>19</td>\n",
       "      <td>...</td>\n",
       "      <td>0</td>\n",
       "      <td>0</td>\n",
       "      <td>0</td>\n",
       "      <td>0</td>\n",
       "      <td>0</td>\n",
       "      <td>19</td>\n",
       "      <td>19</td>\n",
       "      <td>19</td>\n",
       "      <td>19</td>\n",
       "      <td>19</td>\n",
       "    </tr>\n",
       "    <tr>\n",
       "      <th>2020-01-05 00:00:00+00:00</th>\n",
       "      <td>4</td>\n",
       "      <td>4</td>\n",
       "      <td>1</td>\n",
       "      <td>0</td>\n",
       "      <td>4</td>\n",
       "      <td>4</td>\n",
       "      <td>0</td>\n",
       "      <td>4</td>\n",
       "      <td>4</td>\n",
       "      <td>4</td>\n",
       "      <td>...</td>\n",
       "      <td>1</td>\n",
       "      <td>0</td>\n",
       "      <td>1</td>\n",
       "      <td>1</td>\n",
       "      <td>0</td>\n",
       "      <td>4</td>\n",
       "      <td>4</td>\n",
       "      <td>4</td>\n",
       "      <td>4</td>\n",
       "      <td>4</td>\n",
       "    </tr>\n",
       "  </tbody>\n",
       "</table>\n",
       "<p>5 rows × 38 columns</p>\n",
       "</div>"
      ],
      "text/plain": [
       "                           dataNotificacao  dataInicioSintomas  dataTeste  \\\n",
       "datesint                                                                    \n",
       "2020-01-01 00:00:00+00:00               17                  17          9   \n",
       "2020-01-02 00:00:00+00:00               16                  16         10   \n",
       "2020-01-03 00:00:00+00:00               15                  15          9   \n",
       "2020-01-04 00:00:00+00:00               19                  19         13   \n",
       "2020-01-05 00:00:00+00:00                4                   4          1   \n",
       "\n",
       "                           estrangeiro  profissionalSaude  \\\n",
       "datesint                                                    \n",
       "2020-01-01 00:00:00+00:00            7                 17   \n",
       "2020-01-02 00:00:00+00:00            1                 16   \n",
       "2020-01-03 00:00:00+00:00            2                 15   \n",
       "2020-01-04 00:00:00+00:00            0                 19   \n",
       "2020-01-05 00:00:00+00:00            0                  4   \n",
       "\n",
       "                           profissionalSeguranca  cbo  sexo  racaCor  estado  \\\n",
       "datesint                                                                       \n",
       "2020-01-01 00:00:00+00:00                     16    2    17       17      17   \n",
       "2020-01-02 00:00:00+00:00                     16    1    16       16      16   \n",
       "2020-01-03 00:00:00+00:00                     15    2    15       15      15   \n",
       "2020-01-04 00:00:00+00:00                     19    1    19       18      19   \n",
       "2020-01-05 00:00:00+00:00                      4    0     4        4       4   \n",
       "\n",
       "                           ...  tipoTesteSorologico  \\\n",
       "datesint                   ...                        \n",
       "2020-01-01 00:00:00+00:00  ...                    2   \n",
       "2020-01-02 00:00:00+00:00  ...                    1   \n",
       "2020-01-03 00:00:00+00:00  ...                    0   \n",
       "2020-01-04 00:00:00+00:00  ...                    0   \n",
       "2020-01-05 00:00:00+00:00  ...                    1   \n",
       "\n",
       "                           resultadoTesteSorologicoIgA  \\\n",
       "datesint                                                 \n",
       "2020-01-01 00:00:00+00:00                            0   \n",
       "2020-01-02 00:00:00+00:00                            0   \n",
       "2020-01-03 00:00:00+00:00                            0   \n",
       "2020-01-04 00:00:00+00:00                            0   \n",
       "2020-01-05 00:00:00+00:00                            0   \n",
       "\n",
       "                           resultadoTesteSorologicoIgG  \\\n",
       "datesint                                                 \n",
       "2020-01-01 00:00:00+00:00                            1   \n",
       "2020-01-02 00:00:00+00:00                            1   \n",
       "2020-01-03 00:00:00+00:00                            0   \n",
       "2020-01-04 00:00:00+00:00                            0   \n",
       "2020-01-05 00:00:00+00:00                            1   \n",
       "\n",
       "                           resultadoTesteSorologicoIgM  \\\n",
       "datesint                                                 \n",
       "2020-01-01 00:00:00+00:00                            1   \n",
       "2020-01-02 00:00:00+00:00                            1   \n",
       "2020-01-03 00:00:00+00:00                            0   \n",
       "2020-01-04 00:00:00+00:00                            0   \n",
       "2020-01-05 00:00:00+00:00                            1   \n",
       "\n",
       "                           resultadoTesteSorologicoTotais  @timestamp  \\\n",
       "datesint                                                                \n",
       "2020-01-01 00:00:00+00:00                               0          17   \n",
       "2020-01-02 00:00:00+00:00                               0          16   \n",
       "2020-01-03 00:00:00+00:00                               0          15   \n",
       "2020-01-04 00:00:00+00:00                               0          19   \n",
       "2020-01-05 00:00:00+00:00                               0           4   \n",
       "\n",
       "                           estadoIBGE  estadoNotificacaoIBGE  municipioIBGE  \\\n",
       "datesint                                                                      \n",
       "2020-01-01 00:00:00+00:00          17                     17             17   \n",
       "2020-01-02 00:00:00+00:00          16                     16             16   \n",
       "2020-01-03 00:00:00+00:00          15                     15             15   \n",
       "2020-01-04 00:00:00+00:00          19                     19             19   \n",
       "2020-01-05 00:00:00+00:00           4                      4              4   \n",
       "\n",
       "                           municipioNotificacaoIBGE  \n",
       "datesint                                             \n",
       "2020-01-01 00:00:00+00:00                        17  \n",
       "2020-01-02 00:00:00+00:00                        16  \n",
       "2020-01-03 00:00:00+00:00                        15  \n",
       "2020-01-04 00:00:00+00:00                        19  \n",
       "2020-01-05 00:00:00+00:00                         4  \n",
       "\n",
       "[5 rows x 38 columns]"
      ]
     },
     "execution_count": 5,
     "metadata": {},
     "output_type": "execute_result"
    }
   ],
   "source": [
    "df_day = df.resample('D').count()\n",
    "df_day.head()"
   ]
  },
  {
   "cell_type": "code",
   "execution_count": 6,
   "metadata": {
    "ExecuteTime": {
     "end_time": "2021-04-16T18:56:02.483725Z",
     "start_time": "2021-04-16T18:56:02.061747Z"
    },
    "pycharm": {
     "name": "#%%\n"
    }
   },
   "outputs": [
    {
     "data": {
      "image/png": "[encoded data removed]",
      "text/plain": [
       "<Figure size 432x288 with 1 Axes>"
      ]
     },
     "metadata": {
      "needs_background": "light"
     },
     "output_type": "display_data"
    }
   ],
   "source": [
    "df_day.estadoIBGE.plot();"
   ]
  },
  {
   "cell_type": "markdown",
   "metadata": {},
   "source": [
    "## Deduplicating the data\n",
    "ESUS records are know to have a number of duplicated records. Let's see here how to detect possible duplicates in the dataframe we have just downloaded.  For that we will need the [`recordlinkage`](https://recordlinkage.readthedocs.io/en/latest/index.html) package."
   ]
  },
  {
   "cell_type": "code",
   "execution_count": 7,
   "metadata": {
    "ExecuteTime": {
     "end_time": "2021-04-16T18:57:13.460730Z",
     "start_time": "2021-04-16T18:57:03.354252Z"
    },
    "collapsed": true
   },
   "outputs": [
    {
     "name": "stdout",
     "output_type": "stream",
     "text": [
      "/usr/lib/python3/dist-packages/secretstorage/dhcrypto.py:16: CryptographyDeprecationWarning: int_from_bytes is deprecated, use int.from_bytes instead\n",
      "  from cryptography.utils import int_from_bytes\n",
      "/usr/lib/python3/dist-packages/secretstorage/util.py:25: CryptographyDeprecationWarning: int_from_bytes is deprecated, use int.from_bytes instead\n",
      "  from cryptography.utils import int_from_bytes\n",
      "Defaulting to user installation because normal site-packages is not writeable\n",
      "Requirement already satisfied: recordlinkage in /usr/local/lib/python3.8/dist-packages (0.14)\n",
      "Requirement already satisfied: joblib in /usr/local/lib/python3.8/dist-packages (from recordlinkage) (0.14.1)\n",
      "Requirement already satisfied: numpy>=1.13.0 in /home/fccoelho/.local/lib/python3.8/site-packages (from recordlinkage) (1.20.1)\n",
      "Requirement already satisfied: scipy>=1 in /usr/local/lib/python3.8/dist-packages (from recordlinkage) (1.6.2)\n",
      "Requirement already satisfied: pandas>=0.23 in /usr/local/lib/python3.8/dist-packages (from recordlinkage) (1.2.3)\n",
      "Requirement already satisfied: jellyfish>=0.5.4 in /usr/local/lib/python3.8/dist-packages (from recordlinkage) (0.8.2)\n",
      "Requirement already satisfied: scikit-learn>=0.19.0 in /usr/local/lib/python3.8/dist-packages (from recordlinkage) (0.24.0)\n",
      "Requirement already satisfied: python-dateutil>=2.7.3 in /usr/local/lib/python3.8/dist-packages (from pandas>=0.23->recordlinkage) (2.8.1)\n",
      "Requirement already satisfied: pytz>=2017.3 in /usr/local/lib/python3.8/dist-packages (from pandas>=0.23->recordlinkage) (2019.3)\n",
      "Requirement already satisfied: six>=1.5 in /usr/local/lib/python3.8/dist-packages (from python-dateutil>=2.7.3->pandas>=0.23->recordlinkage) (1.15.0)\n",
      "Requirement already satisfied: threadpoolctl>=2.0.0 in /usr/local/lib/python3.8/dist-packages (from scikit-learn>=0.19.0->recordlinkage) (2.1.0)\n"
     ]
    }
   ],
   "source": [
    "!pip3 install recordlinkage"
   ]
  },
  {
   "cell_type": "code",
   "execution_count": 5,
   "metadata": {
    "ExecuteTime": {
     "end_time": "2021-04-16T19:34:29.368186Z",
     "start_time": "2021-04-16T19:34:28.837625Z"
    }
   },
   "outputs": [],
   "source": [
    "import recordlinkage"
   ]
  },
  {
   "cell_type": "code",
   "execution_count": 6,
   "metadata": {
    "ExecuteTime": {
     "end_time": "2021-04-16T19:34:30.535825Z",
     "start_time": "2021-04-16T19:34:30.533203Z"
    }
   },
   "outputs": [],
   "source": [
    "dup_index = recordlinkage.Index()"
   ]
  },
  {
   "cell_type": "code",
   "execution_count": 7,
   "metadata": {
    "ExecuteTime": {
     "end_time": "2021-04-16T19:34:32.034203Z",
     "start_time": "2021-04-16T19:34:32.029132Z"
    }
   },
   "outputs": [],
   "source": [
    "df.reset_index(inplace=True)\n",
    "df['dataInicioSintomas'] = pd.to_datetime(df['dataInicioSintomas'], errors='coerce')"
   ]
  },
  {
   "cell_type": "code",
   "execution_count": 11,
   "metadata": {
    "ExecuteTime": {
     "end_time": "2021-04-16T19:40:49.540948Z",
     "start_time": "2021-04-16T19:40:46.228212Z"
    }
   },
   "outputs": [
    {
     "data": {
      "text/plain": [
       "34406552"
      ]
     },
     "execution_count": 11,
     "metadata": {},
     "output_type": "execute_result"
    }
   ],
   "source": [
    "dup_index = recordlinkage.Index()\n",
    "dup_index.block(['municipio','dataTeste'])\n",
    "# dup_index.sortedneighbourhood(['municipio','dataTeste'])\n",
    "dup_candidates = dup_index.index(df)\n",
    "len(dup_candidates)"
   ]
  },
  {
   "cell_type": "code",
   "execution_count": 12,
   "metadata": {
    "ExecuteTime": {
     "end_time": "2021-04-16T19:44:04.147455Z",
     "start_time": "2021-04-16T19:44:04.143263Z"
    }
   },
   "outputs": [
    {
     "data": {
      "text/plain": [
       "<Compare>"
      ]
     },
     "execution_count": 12,
     "metadata": {},
     "output_type": "execute_result"
    }
   ],
   "source": [
    "compare_dups = recordlinkage.Compare()\n",
    "compare_dups.string('sintomas', 'sintomas', threshold=0.85, label='sintomas', method='jarowinkler')\n",
    "compare_dups.date('dataInicioSintomas', 'dataInicioSintomas', label='dataInicioSintomas')"
   ]
  },
  {
   "cell_type": "code",
   "execution_count": 16,
   "metadata": {
    "ExecuteTime": {
     "end_time": "2021-04-16T20:13:57.263245Z",
     "start_time": "2021-04-16T20:05:22.606576Z"
    }
   },
   "outputs": [],
   "source": [
    "dup_features = compare_dups.compute(dup_candidates,df)"
   ]
  },
  {
   "cell_type": "code",
   "execution_count": 17,
   "metadata": {
    "ExecuteTime": {
     "end_time": "2021-04-16T20:13:58.693991Z",
     "start_time": "2021-04-16T20:13:58.678794Z"
    }
   },
   "outputs": [
    {
     "data": {
      "text/html": [
       "<div>\n",
       "<style scoped>\n",
       "    .dataframe tbody tr th:only-of-type {\n",
       "        vertical-align: middle;\n",
       "    }\n",
       "\n",
       "    .dataframe tbody tr th {\n",
       "        vertical-align: top;\n",
       "    }\n",
       "\n",
       "    .dataframe thead th {\n",
       "        text-align: right;\n",
       "    }\n",
       "</style>\n",
       "<table border=\"1\" class=\"dataframe\">\n",
       "  <thead>\n",
       "    <tr style=\"text-align: right;\">\n",
       "      <th></th>\n",
       "      <th></th>\n",
       "      <th>sintomas</th>\n",
       "    </tr>\n",
       "  </thead>\n",
       "  <tbody>\n",
       "    <tr>\n",
       "      <th>1</th>\n",
       "      <th>0</th>\n",
       "      <td>0.0</td>\n",
       "    </tr>\n",
       "    <tr>\n",
       "      <th rowspan=\"2\" valign=\"top\">2</th>\n",
       "      <th>0</th>\n",
       "      <td>0.0</td>\n",
       "    </tr>\n",
       "    <tr>\n",
       "      <th>1</th>\n",
       "      <td>0.0</td>\n",
       "    </tr>\n",
       "    <tr>\n",
       "      <th rowspan=\"2\" valign=\"top\">3</th>\n",
       "      <th>0</th>\n",
       "      <td>0.0</td>\n",
       "    </tr>\n",
       "    <tr>\n",
       "      <th>1</th>\n",
       "      <td>0.0</td>\n",
       "    </tr>\n",
       "    <tr>\n",
       "      <th>...</th>\n",
       "      <th>...</th>\n",
       "      <td>...</td>\n",
       "    </tr>\n",
       "    <tr>\n",
       "      <th rowspan=\"5\" valign=\"top\">381057</th>\n",
       "      <th>380968</th>\n",
       "      <td>0.0</td>\n",
       "    </tr>\n",
       "    <tr>\n",
       "      <th>380990</th>\n",
       "      <td>0.0</td>\n",
       "    </tr>\n",
       "    <tr>\n",
       "      <th>381019</th>\n",
       "      <td>0.0</td>\n",
       "    </tr>\n",
       "    <tr>\n",
       "      <th>381048</th>\n",
       "      <td>0.0</td>\n",
       "    </tr>\n",
       "    <tr>\n",
       "      <th>381050</th>\n",
       "      <td>0.0</td>\n",
       "    </tr>\n",
       "  </tbody>\n",
       "</table>\n",
       "<p>34406552 rows × 1 columns</p>\n",
       "</div>"
      ],
      "text/plain": [
       "               sintomas\n",
       "1      0            0.0\n",
       "2      0            0.0\n",
       "       1            0.0\n",
       "3      0            0.0\n",
       "       1            0.0\n",
       "...                 ...\n",
       "381057 380968       0.0\n",
       "       380990       0.0\n",
       "       381019       0.0\n",
       "       381048       0.0\n",
       "       381050       0.0\n",
       "\n",
       "[34406552 rows x 1 columns]"
      ]
     },
     "execution_count": 17,
     "metadata": {},
     "output_type": "execute_result"
    }
   ],
   "source": [
    "dup_features"
   ]
  },
  {
   "cell_type": "code",
   "execution_count": 18,
   "metadata": {
    "ExecuteTime": {
     "end_time": "2021-04-16T20:14:01.019982Z",
     "start_time": "2021-04-16T20:14:00.151452Z"
    }
   },
   "outputs": [
    {
     "data": {
      "text/plain": [
       "1.0     5910561\n",
       "0.0    28495991\n",
       "dtype: int64"
      ]
     },
     "execution_count": 18,
     "metadata": {},
     "output_type": "execute_result"
    }
   ],
   "source": [
    "dup_features.sum(axis=1).value_counts().sort_index(ascending=False)"
   ]
  },
  {
   "cell_type": "code",
   "execution_count": 24,
   "metadata": {
    "ExecuteTime": {
     "end_time": "2021-04-16T20:19:38.288067Z",
     "start_time": "2021-04-16T20:19:37.764608Z"
    }
   },
   "outputs": [],
   "source": [
    "potential_dups = dup_features[dup_features.sum(axis=1) >= 1]#.reset_index()\n",
    "# potential_dups['Score'] = potential_dups.loc[:, 'sintomas':'dataInicioSintomas'].sum(axis=1)"
   ]
  },
  {
   "cell_type": "code",
   "execution_count": 25,
   "metadata": {
    "ExecuteTime": {
     "end_time": "2021-04-16T20:19:39.755935Z",
     "start_time": "2021-04-16T20:19:39.746855Z"
    }
   },
   "outputs": [
    {
     "data": {
      "text/html": [
       "<div>\n",
       "<style scoped>\n",
       "    .dataframe tbody tr th:only-of-type {\n",
       "        vertical-align: middle;\n",
       "    }\n",
       "\n",
       "    .dataframe tbody tr th {\n",
       "        vertical-align: top;\n",
       "    }\n",
       "\n",
       "    .dataframe thead th {\n",
       "        text-align: right;\n",
       "    }\n",
       "</style>\n",
       "<table border=\"1\" class=\"dataframe\">\n",
       "  <thead>\n",
       "    <tr style=\"text-align: right;\">\n",
       "      <th></th>\n",
       "      <th></th>\n",
       "      <th>sintomas</th>\n",
       "    </tr>\n",
       "  </thead>\n",
       "  <tbody>\n",
       "    <tr>\n",
       "      <th>9</th>\n",
       "      <th>5</th>\n",
       "      <td>1.0</td>\n",
       "    </tr>\n",
       "    <tr>\n",
       "      <th>12</th>\n",
       "      <th>3</th>\n",
       "      <td>1.0</td>\n",
       "    </tr>\n",
       "    <tr>\n",
       "      <th rowspan=\"2\" valign=\"top\">15</th>\n",
       "      <th>3</th>\n",
       "      <td>1.0</td>\n",
       "    </tr>\n",
       "    <tr>\n",
       "      <th>12</th>\n",
       "      <td>1.0</td>\n",
       "    </tr>\n",
       "    <tr>\n",
       "      <th>23</th>\n",
       "      <th>3</th>\n",
       "      <td>1.0</td>\n",
       "    </tr>\n",
       "    <tr>\n",
       "      <th>...</th>\n",
       "      <th>...</th>\n",
       "      <td>...</td>\n",
       "    </tr>\n",
       "    <tr>\n",
       "      <th>380990</th>\n",
       "      <th>380953</th>\n",
       "      <td>1.0</td>\n",
       "    </tr>\n",
       "    <tr>\n",
       "      <th>381048</th>\n",
       "      <th>381019</th>\n",
       "      <td>1.0</td>\n",
       "    </tr>\n",
       "    <tr>\n",
       "      <th rowspan=\"2\" valign=\"top\">381050</th>\n",
       "      <th>381019</th>\n",
       "      <td>1.0</td>\n",
       "    </tr>\n",
       "    <tr>\n",
       "      <th>381048</th>\n",
       "      <td>1.0</td>\n",
       "    </tr>\n",
       "    <tr>\n",
       "      <th>381057</th>\n",
       "      <th>380939</th>\n",
       "      <td>1.0</td>\n",
       "    </tr>\n",
       "  </tbody>\n",
       "</table>\n",
       "<p>5910561 rows × 1 columns</p>\n",
       "</div>"
      ],
      "text/plain": [
       "               sintomas\n",
       "9      5            1.0\n",
       "12     3            1.0\n",
       "15     3            1.0\n",
       "       12           1.0\n",
       "23     3            1.0\n",
       "...                 ...\n",
       "380990 380953       1.0\n",
       "381048 381019       1.0\n",
       "381050 381019       1.0\n",
       "       381048       1.0\n",
       "381057 380939       1.0\n",
       "\n",
       "[5910561 rows x 1 columns]"
      ]
     },
     "execution_count": 25,
     "metadata": {},
     "output_type": "execute_result"
    }
   ],
   "source": [
    "potential_dups"
   ]
  },
  {
   "cell_type": "code",
   "execution_count": null,
   "metadata": {},
   "outputs": [],
   "source": [
    "potential_dups"
   ]
  }
 ],
 "metadata": {
  "kernelspec": {
   "display_name": "Python 3",
   "language": "python",
   "name": "python3"
  },
  "language_info": {
   "codemirror_mode": {
    "name": "ipython",
    "version": 3
   },
   "file_extension": ".py",
   "mimetype": "text/x-python",
   "name": "python",
   "nbconvert_exporter": "python",
   "pygments_lexer": "ipython3",
   "version": "3.8.6"
  },
  "latex_envs": {
   "LaTeX_envs_menu_present": true,
   "autoclose": false,
   "autocomplete": true,
   "bibliofile": "biblio.bib",
   "cite_by": "apalike",
   "current_citInitial": 1,
   "eqLabelWithNumbers": true,
   "eqNumInitial": 1,
   "hotkeys": {
    "equation": "Ctrl-E",
    "itemize": "Ctrl-I"
   },
   "labels_anchors": false,
   "latex_user_defs": false,
   "report_style_numbering": false,
   "user_envs_cfg": false
  },
  "toc": {
   "base_numbering": 1,
   "nav_menu": {},
   "number_sections": true,
   "sideBar": true,
   "skip_h1_title": false,
   "title_cell": "Table of Contents",
   "title_sidebar": "Contents",
   "toc_cell": false,
   "toc_position": {},
   "toc_section_display": true,
   "toc_window_display": false
  },
  "varInspector": {
   "cols": {
    "lenName": 16,
    "lenType": 16,
    "lenVar": 40
   },
   "kernels_config": {
    "python": {
     "delete_cmd_postfix": "",
     "delete_cmd_prefix": "del ",
     "library": "var_list.py",
     "varRefreshCmd": "print(var_dic_list())"
    },
    "r": {
     "delete_cmd_postfix": ") ",
     "delete_cmd_prefix": "rm(",
     "library": "var_list.r",
     "varRefreshCmd": "cat(var_dic_list()) "
    }
   },
   "types_to_exclude": [
    "module",
    "function",
    "builtin_function_or_method",
    "instance",
    "_Feature"
   ],
   "window_display": false
  }
 },
 "nbformat": 4,
 "nbformat_minor": 1
}