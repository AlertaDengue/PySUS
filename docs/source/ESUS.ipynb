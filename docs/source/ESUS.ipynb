{
 "cells": [
  {
   "cell_type": "code",
   "execution_count": 42,
   "metadata": {
    "ExecuteTime": {
     "end_time": "2021-04-16T19:34:15.389045Z",
     "start_time": "2021-04-16T19:34:14.686722Z"
    },
    "pycharm": {
     "name": "#%%\n"
    }
   },
   "outputs": [],
   "source": [
    "from pysus.online_data.ESUS import download\n",
    "import pandas as pd"
   ]
  },
  {
   "cell_type": "markdown",
   "metadata": {
    "pycharm": {
     "name": "#%% md\n"
    }
   },
   "source": [
    "# Downloading data from ESUS\n",
    "This function alows for the download of COVID-19 data from ESUS. For Some States, the size of the resulting table can easily exceed the memory size of most personal computers, in such cases, the ESUS download function will stream the data to disk without filling up the memory and return an iterator of chunks of 1000 rows of data. The user must then iterate over the chunks to analyze the data."
   ]
  },
  {
   "cell_type": "code",
   "execution_count": 43,
   "metadata": {
    "ExecuteTime": {
     "end_time": "2021-04-16T19:34:16.833304Z",
     "start_time": "2021-04-16T19:34:16.030302Z"
    },
    "execution": {
     "timeout": 600
    },
    "pycharm": {
     "name": "#%%\n"
    }
   },
   "outputs": [
    {
     "name": "stderr",
     "output_type": "stream",
     "text": [
      "2023-04-12 09:21:40.709 | INFO     | pysus.online_data.ESUS:download:34 - Local csv file found at /home/luabida/pysus/ESUS_temp_SE.csv.gz\n",
      "/tmp/ipykernel_91880/506159845.py:1: DtypeWarning: Columns (2,4,5,8,9,10,11,12,15,18,19,21,22,23,24,26,27,29,30,31,32,34,35,36,37,40,41,42,44,45,46,48,49,50,51,54,55,56,57,58,59,60,61) have mixed types. Specify dtype option on import or set low_memory=False.\n",
      "  df = download(uf='se').read()\n"
     ]
    }
   ],
   "source": [
    "df = download(uf='se').read()"
   ]
  },
  {
   "cell_type": "code",
   "execution_count": 44,
   "metadata": {
    "ExecuteTime": {
     "end_time": "2021-04-16T19:34:17.854332Z",
     "start_time": "2021-04-16T19:34:17.824496Z"
    },
    "pycharm": {
     "name": "#%%\n"
    }
   },
   "outputs": [
    {
     "data": {
      "text/html": [
       "<div>\n",
       "<style scoped>\n",
       "    .dataframe tbody tr th:only-of-type {\n",
       "        vertical-align: middle;\n",
       "    }\n",
       "\n",
       "    .dataframe tbody tr th {\n",
       "        vertical-align: top;\n",
       "    }\n",
       "\n",
       "    .dataframe thead th {\n",
       "        text-align: right;\n",
       "    }\n",
       "</style>\n",
       "<table border=\"1\" class=\"dataframe\">\n",
       "  <thead>\n",
       "    <tr style=\"text-align: right;\">\n",
       "      <th></th>\n",
       "      <th>Unnamed: 0</th>\n",
       "      <th>outrasCondicoes</th>\n",
       "      <th>municipio</th>\n",
       "      <th>resultadoTesteSorologicoIgM</th>\n",
       "      <th>laboratorioSegundaReforcoDose</th>\n",
       "      <th>dataTesteSorologico</th>\n",
       "      <th>codigoBuscaAtivaAssintomatico</th>\n",
       "      <th>recebeuAntiviral</th>\n",
       "      <th>profissionalSeguranca</th>\n",
       "      <th>cbo</th>\n",
       "      <th>...</th>\n",
       "      <th>testes</th>\n",
       "      <th>idade</th>\n",
       "      <th>resultadoTesteSorologicoTotais</th>\n",
       "      <th>codigoEstrategiaCovid</th>\n",
       "      <th>outrosSintomas</th>\n",
       "      <th>codigoQualAntiviral</th>\n",
       "      <th>estrangeiro</th>\n",
       "      <th>resultadoTesteSorologicoIgA</th>\n",
       "      <th>sexo</th>\n",
       "      <th>sintomas</th>\n",
       "    </tr>\n",
       "  </thead>\n",
       "  <tbody>\n",
       "    <tr>\n",
       "      <th>0</th>\n",
       "      <td>0</td>\n",
       "      <td>NaN</td>\n",
       "      <td>Aracaju</td>\n",
       "      <td>NaN</td>\n",
       "      <td>NaN</td>\n",
       "      <td>NaN</td>\n",
       "      <td>NaN</td>\n",
       "      <td>NaN</td>\n",
       "      <td>Não</td>\n",
       "      <td>NaN</td>\n",
       "      <td>...</td>\n",
       "      <td>[]</td>\n",
       "      <td>18</td>\n",
       "      <td>NaN</td>\n",
       "      <td>1</td>\n",
       "      <td>NaN</td>\n",
       "      <td>NaN</td>\n",
       "      <td>NaN</td>\n",
       "      <td>NaN</td>\n",
       "      <td>Feminino</td>\n",
       "      <td>Coriza, Dor de Cabeça, Febre, Dor de Garganta</td>\n",
       "    </tr>\n",
       "    <tr>\n",
       "      <th>1</th>\n",
       "      <td>1</td>\n",
       "      <td>NaN</td>\n",
       "      <td>Aracaju</td>\n",
       "      <td>NaN</td>\n",
       "      <td>JANSSEN</td>\n",
       "      <td>NaN</td>\n",
       "      <td>NaN</td>\n",
       "      <td>Não</td>\n",
       "      <td>Não</td>\n",
       "      <td>NaN</td>\n",
       "      <td>...</td>\n",
       "      <td>[{'codigoEstadoTeste': '3', 'tipoTeste': 'RT-P...</td>\n",
       "      <td>26</td>\n",
       "      <td>NaN</td>\n",
       "      <td>1</td>\n",
       "      <td>NaN</td>\n",
       "      <td>NaN</td>\n",
       "      <td>NaN</td>\n",
       "      <td>NaN</td>\n",
       "      <td>Feminino</td>\n",
       "      <td>Tosse, Febre, Dor de Garganta</td>\n",
       "    </tr>\n",
       "    <tr>\n",
       "      <th>2</th>\n",
       "      <td>2</td>\n",
       "      <td>NaN</td>\n",
       "      <td>Nossa Senhora do Socorro</td>\n",
       "      <td>NaN</td>\n",
       "      <td>ASTRAZENECA/FIOCRUZ</td>\n",
       "      <td>NaN</td>\n",
       "      <td>NaN</td>\n",
       "      <td>Não</td>\n",
       "      <td>Não</td>\n",
       "      <td>NaN</td>\n",
       "      <td>...</td>\n",
       "      <td>[{'codigoEstadoTeste': '3', 'tipoTeste': 'RT-P...</td>\n",
       "      <td>31</td>\n",
       "      <td>NaN</td>\n",
       "      <td>1</td>\n",
       "      <td>NaN</td>\n",
       "      <td>NaN</td>\n",
       "      <td>NaN</td>\n",
       "      <td>NaN</td>\n",
       "      <td>Masculino</td>\n",
       "      <td>Tosse, Febre, Dor de Garganta</td>\n",
       "    </tr>\n",
       "    <tr>\n",
       "      <th>3</th>\n",
       "      <td>3</td>\n",
       "      <td>NaN</td>\n",
       "      <td>Aracaju</td>\n",
       "      <td>NaN</td>\n",
       "      <td>PFIZER</td>\n",
       "      <td>NaN</td>\n",
       "      <td>NaN</td>\n",
       "      <td>NaN</td>\n",
       "      <td>Não</td>\n",
       "      <td>NaN</td>\n",
       "      <td>...</td>\n",
       "      <td>[]</td>\n",
       "      <td>39</td>\n",
       "      <td>NaN</td>\n",
       "      <td>1</td>\n",
       "      <td>NaN</td>\n",
       "      <td>NaN</td>\n",
       "      <td>NaN</td>\n",
       "      <td>NaN</td>\n",
       "      <td>Masculino</td>\n",
       "      <td>Coriza, Dor de Cabeça, Tosse, Febre, Dor de Ga...</td>\n",
       "    </tr>\n",
       "    <tr>\n",
       "      <th>4</th>\n",
       "      <td>4</td>\n",
       "      <td>NaN</td>\n",
       "      <td>Aracaju</td>\n",
       "      <td>NaN</td>\n",
       "      <td>NaN</td>\n",
       "      <td>NaN</td>\n",
       "      <td>NaN</td>\n",
       "      <td>Não</td>\n",
       "      <td>Não</td>\n",
       "      <td>NaN</td>\n",
       "      <td>...</td>\n",
       "      <td>[{'codigoEstadoTeste': '3', 'tipoTeste': 'TEST...</td>\n",
       "      <td>32</td>\n",
       "      <td>NaN</td>\n",
       "      <td>1</td>\n",
       "      <td>ALGIA OCULAR</td>\n",
       "      <td>NaN</td>\n",
       "      <td>NaN</td>\n",
       "      <td>NaN</td>\n",
       "      <td>Feminino</td>\n",
       "      <td>Dor de Cabeça, Tosse, Outros</td>\n",
       "    </tr>\n",
       "  </tbody>\n",
       "</table>\n",
       "<p>5 rows × 63 columns</p>\n",
       "</div>"
      ],
      "text/plain": [
       "   Unnamed: 0 outrasCondicoes                 municipio  \\\n",
       "0           0             NaN                   Aracaju   \n",
       "1           1             NaN                   Aracaju   \n",
       "2           2             NaN  Nossa Senhora do Socorro   \n",
       "3           3             NaN                   Aracaju   \n",
       "4           4             NaN                   Aracaju   \n",
       "\n",
       "  resultadoTesteSorologicoIgM laboratorioSegundaReforcoDose  \\\n",
       "0                         NaN                           NaN   \n",
       "1                         NaN                       JANSSEN   \n",
       "2                         NaN           ASTRAZENECA/FIOCRUZ   \n",
       "3                         NaN                        PFIZER   \n",
       "4                         NaN                           NaN   \n",
       "\n",
       "  dataTesteSorologico codigoBuscaAtivaAssintomatico recebeuAntiviral  \\\n",
       "0                 NaN                           NaN              NaN   \n",
       "1                 NaN                           NaN              Não   \n",
       "2                 NaN                           NaN              Não   \n",
       "3                 NaN                           NaN              NaN   \n",
       "4                 NaN                           NaN              Não   \n",
       "\n",
       "  profissionalSeguranca  cbo  ...  \\\n",
       "0                   Não  NaN  ...   \n",
       "1                   Não  NaN  ...   \n",
       "2                   Não  NaN  ...   \n",
       "3                   Não  NaN  ...   \n",
       "4                   Não  NaN  ...   \n",
       "\n",
       "                                              testes idade  \\\n",
       "0                                                 []    18   \n",
       "1  [{'codigoEstadoTeste': '3', 'tipoTeste': 'RT-P...    26   \n",
       "2  [{'codigoEstadoTeste': '3', 'tipoTeste': 'RT-P...    31   \n",
       "3                                                 []    39   \n",
       "4  [{'codigoEstadoTeste': '3', 'tipoTeste': 'TEST...    32   \n",
       "\n",
       "  resultadoTesteSorologicoTotais codigoEstrategiaCovid outrosSintomas  \\\n",
       "0                            NaN                     1            NaN   \n",
       "1                            NaN                     1            NaN   \n",
       "2                            NaN                     1            NaN   \n",
       "3                            NaN                     1            NaN   \n",
       "4                            NaN                     1   ALGIA OCULAR   \n",
       "\n",
       "  codigoQualAntiviral estrangeiro resultadoTesteSorologicoIgA       sexo  \\\n",
       "0                 NaN         NaN                         NaN   Feminino   \n",
       "1                 NaN         NaN                         NaN   Feminino   \n",
       "2                 NaN         NaN                         NaN  Masculino   \n",
       "3                 NaN         NaN                         NaN  Masculino   \n",
       "4                 NaN         NaN                         NaN   Feminino   \n",
       "\n",
       "                                            sintomas  \n",
       "0      Coriza, Dor de Cabeça, Febre, Dor de Garganta  \n",
       "1                      Tosse, Febre, Dor de Garganta  \n",
       "2                      Tosse, Febre, Dor de Garganta  \n",
       "3  Coriza, Dor de Cabeça, Tosse, Febre, Dor de Ga...  \n",
       "4                       Dor de Cabeça, Tosse, Outros  \n",
       "\n",
       "[5 rows x 63 columns]"
      ]
     },
     "execution_count": 44,
     "metadata": {},
     "output_type": "execute_result"
    }
   ],
   "source": [
    "df.head()"
   ]
  },
  {
   "cell_type": "code",
   "execution_count": 45,
   "metadata": {
    "ExecuteTime": {
     "end_time": "2021-04-16T19:48:02.736025Z",
     "start_time": "2021-04-16T19:48:01.520690Z"
    },
    "pycharm": {
     "name": "#%%\n"
    }
   },
   "outputs": [
    {
     "name": "stderr",
     "output_type": "stream",
     "text": [
      "/home/luabida/micromamba/envs/pysus/lib/python3.9/site-packages/pandas/core/tools/datetimes.py:1047: UserWarning: Parsing '15/03/2022' in DD/MM/YYYY format. Provide format or specify infer_datetime_format=True for consistent parsing.\n",
      "  cache_array = _maybe_cache(arg, format, cache, convert_listlike)\n"
     ]
    }
   ],
   "source": [
    "for cname in df:\n",
    "    if cname.startswith('data'):\n",
    "        df[cname] = pd.to_datetime(df[cname], errors='coerce')"
   ]
  },
  {
   "cell_type": "code",
   "execution_count": 46,
   "metadata": {
    "ExecuteTime": {
     "end_time": "2021-04-16T19:48:05.089575Z",
     "start_time": "2021-04-16T19:48:04.754944Z"
    },
    "pycharm": {
     "name": "#%%\n"
    }
   },
   "outputs": [
    {
     "name": "stdout",
     "output_type": "stream",
     "text": [
      "<class 'pandas.core.frame.DataFrame'>\n",
      "RangeIndex: 905099 entries, 0 to 905098\n",
      "Data columns (total 63 columns):\n",
      " #   Column                             Non-Null Count   Dtype              \n",
      "---  ------                             --------------   -----              \n",
      " 0   Unnamed: 0                         905099 non-null  int64              \n",
      " 1   outrasCondicoes                    845124 non-null  object             \n",
      " 2   municipio                          60015 non-null   object             \n",
      " 3   resultadoTesteSorologicoIgM        347694 non-null  object             \n",
      " 4   laboratorioSegundaReforcoDose      846885 non-null  object             \n",
      " 5   dataTesteSorologico                0 non-null       datetime64[ns]     \n",
      " 6   codigoBuscaAtivaAssintomatico      352115 non-null  object             \n",
      " 7   recebeuAntiviral                   900105 non-null  object             \n",
      " 8   profissionalSeguranca              137182 non-null  object             \n",
      " 9   cbo                                861037 non-null  object             \n",
      " 10  codigoRecebeuAntiviral             203302 non-null  object             \n",
      " 11  municipioNotificacaoIBGE           854567 non-null  object             \n",
      " 12  profissionalSaude                  30981 non-null   object             \n",
      " 13  outroTriagemPopulacaoEspecifica    890233 non-null  object             \n",
      " 14  resultadoTeste                     890667 non-null  object             \n",
      " 15  classificacaoFinal                 893538 non-null  object             \n",
      " 16  estadoIBGE                         393564 non-null  object             \n",
      " 17  estadoNotificacaoIBGE              278568 non-null  object             \n",
      " 18  dataInicioTratamento               5255 non-null    object             \n",
      " 19  @version                           900294 non-null  object             \n",
      " 20  evolucaoCaso                       875469 non-null  object             \n",
      " 21  @timestamp                         581989 non-null  object             \n",
      " 22  municipioIBGE                      23681 non-null   object             \n",
      " 23  dataEncerramento                   854649 non-null  datetime64[ns, UTC]\n",
      " 24  estado                             24573 non-null   object             \n",
      " 25  resultadoTesteSorologicoIgG        880839 non-null  object             \n",
      " 26  dataReforcoDose                    54581 non-null   datetime64[ns, UTC]\n",
      " 27  tipoTesteSorologico                54288 non-null   object             \n",
      " 28  qualAntiviral                      852065 non-null  object             \n",
      " 29  estadoNotificacao                  354141 non-null  object             \n",
      " 30  loteSegundaReforcoDose             897885 non-null  object             \n",
      " 31  id                                 65786 non-null   object             \n",
      " 32  outroLocalRealizacaoTestagem       23429 non-null   object             \n",
      " 33  outroBuscaAtivaAssintomatico       857163 non-null  object             \n",
      " 34  dataSegundaReforcoDose             18455 non-null   datetime64[ns, UTC]\n",
      " 35  codigoTriagemPopulacaoEspecifica   46742 non-null   object             \n",
      " 36  condicoes                          31514 non-null   object             \n",
      " 37  codigoDosesVacina                  890467 non-null  object             \n",
      " 38  idCollection                       47349 non-null   object             \n",
      " 39  estadoTeste                        73489 non-null   object             \n",
      " 40  codigoLocalRealizacaoTestagem      804537 non-null  object             \n",
      " 41  outroAntiviral                     288180 non-null  object             \n",
      " 42  dataSegundaDose                    4605 non-null    object             \n",
      " 43  codigoContemComunidadeTradicional  465724 non-null  object             \n",
      " 44  tipoTeste                          350244 non-null  object             \n",
      " 45  racaCor                            878427 non-null  object             \n",
      " 46  codigoRecebeuVacina                889016 non-null  object             \n",
      " 47  dataPrimeiraDose                   5038 non-null    datetime64[ns, UTC]\n",
      " 48  dataTeste                          190916 non-null  datetime64[ns, UTC]\n",
      " 49  registroAtual                      17821 non-null   object             \n",
      " 50  dataNotificacao                    15883 non-null   datetime64[ns, UTC]\n",
      " 51  dataInicioSintomas                 10223 non-null   datetime64[ns, UTC]\n",
      " 52  municipioNotificacao               834928 non-null  object             \n",
      " 53  testes                             513594 non-null  object             \n",
      " 54  idade                              26270 non-null   object             \n",
      " 55  resultadoTesteSorologicoTotais     9712 non-null    object             \n",
      " 56  codigoEstrategiaCovid              184183 non-null  object             \n",
      " 57  outrosSintomas                     13699 non-null   object             \n",
      " 58  codigoQualAntiviral                56849 non-null   object             \n",
      " 59  estrangeiro                        886104 non-null  object             \n",
      " 60  resultadoTesteSorologicoIgA        891226 non-null  object             \n",
      " 61  sexo                               531234 non-null  object             \n",
      " 62  sintomas                           115487 non-null  object             \n",
      "dtypes: datetime64[ns, UTC](7), datetime64[ns](1), int64(1), object(54)\n",
      "memory usage: 435.0+ MB\n"
     ]
    }
   ],
   "source": [
    "df.info()"
   ]
  },
  {
   "cell_type": "markdown",
   "metadata": {
    "pycharm": {
     "name": "#%% md\n"
    }
   },
   "source": [
    "Now we will create a datetime index for our dataframe, but we must be carefull with missing dates here. For now, to enable a quick visualization, we will simply coerce missing dates to `NaT`."
   ]
  },
  {
   "cell_type": "code",
   "execution_count": 47,
   "metadata": {
    "ExecuteTime": {
     "end_time": "2021-04-16T18:55:55.954762Z",
     "start_time": "2021-04-16T18:55:55.732958Z"
    },
    "pycharm": {
     "name": "#%%\n"
    }
   },
   "outputs": [],
   "source": [
    "df['datesint'] = pd.to_datetime(df['dataInicioSintomas'],errors='coerce')\n",
    "# df = df.dropna()\n",
    "df.set_index('datesint', inplace=True);"
   ]
  },
  {
   "cell_type": "markdown",
   "metadata": {
    "pycharm": {
     "name": "#%% md\n"
    }
   },
   "source": [
    "Now we can count the cases per day and plot."
   ]
  },
  {
   "cell_type": "code",
   "execution_count": 48,
   "metadata": {
    "ExecuteTime": {
     "end_time": "2021-04-16T18:56:00.999229Z",
     "start_time": "2021-04-16T18:55:57.214885Z"
    },
    "pycharm": {
     "name": "#%%\n"
    }
   },
   "outputs": [
    {
     "data": {
      "text/html": [
       "<div>\n",
       "<style scoped>\n",
       "    .dataframe tbody tr th:only-of-type {\n",
       "        vertical-align: middle;\n",
       "    }\n",
       "\n",
       "    .dataframe tbody tr th {\n",
       "        vertical-align: top;\n",
       "    }\n",
       "\n",
       "    .dataframe thead th {\n",
       "        text-align: right;\n",
       "    }\n",
       "</style>\n",
       "<table border=\"1\" class=\"dataframe\">\n",
       "  <thead>\n",
       "    <tr style=\"text-align: right;\">\n",
       "      <th></th>\n",
       "      <th>Unnamed: 0</th>\n",
       "      <th>outrasCondicoes</th>\n",
       "      <th>municipio</th>\n",
       "      <th>resultadoTesteSorologicoIgM</th>\n",
       "      <th>laboratorioSegundaReforcoDose</th>\n",
       "      <th>dataTesteSorologico</th>\n",
       "      <th>codigoBuscaAtivaAssintomatico</th>\n",
       "      <th>recebeuAntiviral</th>\n",
       "      <th>profissionalSeguranca</th>\n",
       "      <th>cbo</th>\n",
       "      <th>...</th>\n",
       "      <th>testes</th>\n",
       "      <th>idade</th>\n",
       "      <th>resultadoTesteSorologicoTotais</th>\n",
       "      <th>codigoEstrategiaCovid</th>\n",
       "      <th>outrosSintomas</th>\n",
       "      <th>codigoQualAntiviral</th>\n",
       "      <th>estrangeiro</th>\n",
       "      <th>resultadoTesteSorologicoIgA</th>\n",
       "      <th>sexo</th>\n",
       "      <th>sintomas</th>\n",
       "    </tr>\n",
       "    <tr>\n",
       "      <th>datesint</th>\n",
       "      <th></th>\n",
       "      <th></th>\n",
       "      <th></th>\n",
       "      <th></th>\n",
       "      <th></th>\n",
       "      <th></th>\n",
       "      <th></th>\n",
       "      <th></th>\n",
       "      <th></th>\n",
       "      <th></th>\n",
       "      <th></th>\n",
       "      <th></th>\n",
       "      <th></th>\n",
       "      <th></th>\n",
       "      <th></th>\n",
       "      <th></th>\n",
       "      <th></th>\n",
       "      <th></th>\n",
       "      <th></th>\n",
       "      <th></th>\n",
       "      <th></th>\n",
       "    </tr>\n",
       "  </thead>\n",
       "  <tbody>\n",
       "    <tr>\n",
       "      <th>1970-01-01 00:00:00+00:00</th>\n",
       "      <td>33</td>\n",
       "      <td>21</td>\n",
       "      <td>33</td>\n",
       "      <td>0</td>\n",
       "      <td>0</td>\n",
       "      <td>0</td>\n",
       "      <td>31</td>\n",
       "      <td>33</td>\n",
       "      <td>33</td>\n",
       "      <td>8</td>\n",
       "      <td>...</td>\n",
       "      <td>33</td>\n",
       "      <td>8</td>\n",
       "      <td>0</td>\n",
       "      <td>0</td>\n",
       "      <td>0</td>\n",
       "      <td>4</td>\n",
       "      <td>33</td>\n",
       "      <td>33</td>\n",
       "      <td>0</td>\n",
       "      <td>33</td>\n",
       "    </tr>\n",
       "    <tr>\n",
       "      <th>1970-01-02 00:00:00+00:00</th>\n",
       "      <td>0</td>\n",
       "      <td>0</td>\n",
       "      <td>0</td>\n",
       "      <td>0</td>\n",
       "      <td>0</td>\n",
       "      <td>0</td>\n",
       "      <td>0</td>\n",
       "      <td>0</td>\n",
       "      <td>0</td>\n",
       "      <td>0</td>\n",
       "      <td>...</td>\n",
       "      <td>0</td>\n",
       "      <td>0</td>\n",
       "      <td>0</td>\n",
       "      <td>0</td>\n",
       "      <td>0</td>\n",
       "      <td>0</td>\n",
       "      <td>0</td>\n",
       "      <td>0</td>\n",
       "      <td>0</td>\n",
       "      <td>0</td>\n",
       "    </tr>\n",
       "    <tr>\n",
       "      <th>1970-01-03 00:00:00+00:00</th>\n",
       "      <td>0</td>\n",
       "      <td>0</td>\n",
       "      <td>0</td>\n",
       "      <td>0</td>\n",
       "      <td>0</td>\n",
       "      <td>0</td>\n",
       "      <td>0</td>\n",
       "      <td>0</td>\n",
       "      <td>0</td>\n",
       "      <td>0</td>\n",
       "      <td>...</td>\n",
       "      <td>0</td>\n",
       "      <td>0</td>\n",
       "      <td>0</td>\n",
       "      <td>0</td>\n",
       "      <td>0</td>\n",
       "      <td>0</td>\n",
       "      <td>0</td>\n",
       "      <td>0</td>\n",
       "      <td>0</td>\n",
       "      <td>0</td>\n",
       "    </tr>\n",
       "    <tr>\n",
       "      <th>1970-01-04 00:00:00+00:00</th>\n",
       "      <td>0</td>\n",
       "      <td>0</td>\n",
       "      <td>0</td>\n",
       "      <td>0</td>\n",
       "      <td>0</td>\n",
       "      <td>0</td>\n",
       "      <td>0</td>\n",
       "      <td>0</td>\n",
       "      <td>0</td>\n",
       "      <td>0</td>\n",
       "      <td>...</td>\n",
       "      <td>0</td>\n",
       "      <td>0</td>\n",
       "      <td>0</td>\n",
       "      <td>0</td>\n",
       "      <td>0</td>\n",
       "      <td>0</td>\n",
       "      <td>0</td>\n",
       "      <td>0</td>\n",
       "      <td>0</td>\n",
       "      <td>0</td>\n",
       "    </tr>\n",
       "    <tr>\n",
       "      <th>1970-01-05 00:00:00+00:00</th>\n",
       "      <td>0</td>\n",
       "      <td>0</td>\n",
       "      <td>0</td>\n",
       "      <td>0</td>\n",
       "      <td>0</td>\n",
       "      <td>0</td>\n",
       "      <td>0</td>\n",
       "      <td>0</td>\n",
       "      <td>0</td>\n",
       "      <td>0</td>\n",
       "      <td>...</td>\n",
       "      <td>0</td>\n",
       "      <td>0</td>\n",
       "      <td>0</td>\n",
       "      <td>0</td>\n",
       "      <td>0</td>\n",
       "      <td>0</td>\n",
       "      <td>0</td>\n",
       "      <td>0</td>\n",
       "      <td>0</td>\n",
       "      <td>0</td>\n",
       "    </tr>\n",
       "  </tbody>\n",
       "</table>\n",
       "<p>5 rows × 63 columns</p>\n",
       "</div>"
      ],
      "text/plain": [
       "                           Unnamed: 0  outrasCondicoes  municipio  \\\n",
       "datesint                                                            \n",
       "1970-01-01 00:00:00+00:00          33               21         33   \n",
       "1970-01-02 00:00:00+00:00           0                0          0   \n",
       "1970-01-03 00:00:00+00:00           0                0          0   \n",
       "1970-01-04 00:00:00+00:00           0                0          0   \n",
       "1970-01-05 00:00:00+00:00           0                0          0   \n",
       "\n",
       "                           resultadoTesteSorologicoIgM  \\\n",
       "datesint                                                 \n",
       "1970-01-01 00:00:00+00:00                            0   \n",
       "1970-01-02 00:00:00+00:00                            0   \n",
       "1970-01-03 00:00:00+00:00                            0   \n",
       "1970-01-04 00:00:00+00:00                            0   \n",
       "1970-01-05 00:00:00+00:00                            0   \n",
       "\n",
       "                           laboratorioSegundaReforcoDose  dataTesteSorologico  \\\n",
       "datesint                                                                        \n",
       "1970-01-01 00:00:00+00:00                              0                    0   \n",
       "1970-01-02 00:00:00+00:00                              0                    0   \n",
       "1970-01-03 00:00:00+00:00                              0                    0   \n",
       "1970-01-04 00:00:00+00:00                              0                    0   \n",
       "1970-01-05 00:00:00+00:00                              0                    0   \n",
       "\n",
       "                           codigoBuscaAtivaAssintomatico  recebeuAntiviral  \\\n",
       "datesint                                                                     \n",
       "1970-01-01 00:00:00+00:00                             31                33   \n",
       "1970-01-02 00:00:00+00:00                              0                 0   \n",
       "1970-01-03 00:00:00+00:00                              0                 0   \n",
       "1970-01-04 00:00:00+00:00                              0                 0   \n",
       "1970-01-05 00:00:00+00:00                              0                 0   \n",
       "\n",
       "                           profissionalSeguranca  cbo  ...  testes  idade  \\\n",
       "datesint                                               ...                  \n",
       "1970-01-01 00:00:00+00:00                     33    8  ...      33      8   \n",
       "1970-01-02 00:00:00+00:00                      0    0  ...       0      0   \n",
       "1970-01-03 00:00:00+00:00                      0    0  ...       0      0   \n",
       "1970-01-04 00:00:00+00:00                      0    0  ...       0      0   \n",
       "1970-01-05 00:00:00+00:00                      0    0  ...       0      0   \n",
       "\n",
       "                           resultadoTesteSorologicoTotais  \\\n",
       "datesint                                                    \n",
       "1970-01-01 00:00:00+00:00                               0   \n",
       "1970-01-02 00:00:00+00:00                               0   \n",
       "1970-01-03 00:00:00+00:00                               0   \n",
       "1970-01-04 00:00:00+00:00                               0   \n",
       "1970-01-05 00:00:00+00:00                               0   \n",
       "\n",
       "                           codigoEstrategiaCovid  outrosSintomas  \\\n",
       "datesint                                                           \n",
       "1970-01-01 00:00:00+00:00                      0               0   \n",
       "1970-01-02 00:00:00+00:00                      0               0   \n",
       "1970-01-03 00:00:00+00:00                      0               0   \n",
       "1970-01-04 00:00:00+00:00                      0               0   \n",
       "1970-01-05 00:00:00+00:00                      0               0   \n",
       "\n",
       "                           codigoQualAntiviral  estrangeiro  \\\n",
       "datesint                                                      \n",
       "1970-01-01 00:00:00+00:00                    4           33   \n",
       "1970-01-02 00:00:00+00:00                    0            0   \n",
       "1970-01-03 00:00:00+00:00                    0            0   \n",
       "1970-01-04 00:00:00+00:00                    0            0   \n",
       "1970-01-05 00:00:00+00:00                    0            0   \n",
       "\n",
       "                           resultadoTesteSorologicoIgA  sexo  sintomas  \n",
       "datesint                                                                \n",
       "1970-01-01 00:00:00+00:00                           33     0        33  \n",
       "1970-01-02 00:00:00+00:00                            0     0         0  \n",
       "1970-01-03 00:00:00+00:00                            0     0         0  \n",
       "1970-01-04 00:00:00+00:00                            0     0         0  \n",
       "1970-01-05 00:00:00+00:00                            0     0         0  \n",
       "\n",
       "[5 rows x 63 columns]"
      ]
     },
     "execution_count": 48,
     "metadata": {},
     "output_type": "execute_result"
    }
   ],
   "source": [
    "df_day = df.resample('D').count()\n",
    "df_day.head()"
   ]
  },
  {
   "cell_type": "code",
   "execution_count": 49,
   "metadata": {
    "ExecuteTime": {
     "end_time": "2021-04-16T18:56:02.483725Z",
     "start_time": "2021-04-16T18:56:02.061747Z"
    },
    "pycharm": {
     "name": "#%%\n"
    }
   },
   "outputs": [
    {
     "data": {
      "image/png": "[encoded data removed]",
      "text/plain": [
       "<Figure size 640x480 with 1 Axes>"
      ]
     },
     "metadata": {},
     "output_type": "display_data"
    }
   ],
   "source": [
    "df_day.estadoIBGE.plot();"
   ]
  },
  {
   "cell_type": "markdown",
   "metadata": {
    "pycharm": {
     "name": "#%% md\n"
    }
   },
   "source": [
    "## Deduplicating the data\n",
    "ESUS records are know to have a number of duplicated records. Let's see here how to detect possible duplicates in the dataframe we have just downloaded.  For that we will need the [`recordlinkage`](https://recordlinkage.readthedocs.io/en/latest/index.html) package."
   ]
  },
  {
   "cell_type": "code",
   "execution_count": 50,
   "metadata": {
    "ExecuteTime": {
     "end_time": "2021-04-16T18:57:13.460730Z",
     "start_time": "2021-04-16T18:57:03.354252Z"
    },
    "collapsed": true,
    "pycharm": {
     "name": "#%%\n"
    }
   },
   "outputs": [
    {
     "name": "stdout",
     "output_type": "stream",
     "text": [
      "Requirement already satisfied: recordlinkage in /home/luabida/micromamba/envs/pysus/lib/python3.9/site-packages (0.15)\n",
      "Requirement already satisfied: numpy>=1.13.0 in /home/luabida/micromamba/envs/pysus/lib/python3.9/site-packages (from recordlinkage) (1.23.2)\n",
      "Requirement already satisfied: scikit-learn>=0.19.0 in /home/luabida/micromamba/envs/pysus/lib/python3.9/site-packages (from recordlinkage) (1.2.2)\n",
      "Requirement already satisfied: pandas<2,>=1 in /home/luabida/micromamba/envs/pysus/lib/python3.9/site-packages (from recordlinkage) (1.4.3)\n",
      "Requirement already satisfied: scipy>=1 in /home/luabida/micromamba/envs/pysus/lib/python3.9/site-packages (from recordlinkage) (1.10.1)\n",
      "Requirement already satisfied: joblib in /home/luabida/micromamba/envs/pysus/lib/python3.9/site-packages (from recordlinkage) (1.2.0)\n",
      "Requirement already satisfied: jellyfish>=0.8.0 in /home/luabida/micromamba/envs/pysus/lib/python3.9/site-packages (from recordlinkage) (0.11.2)\n",
      "Requirement already satisfied: pytz>=2020.1 in /home/luabida/micromamba/envs/pysus/lib/python3.9/site-packages (from pandas<2,>=1->recordlinkage) (2022.2.1)\n",
      "Requirement already satisfied: python-dateutil>=2.8.1 in /home/luabida/micromamba/envs/pysus/lib/python3.9/site-packages (from pandas<2,>=1->recordlinkage) (2.8.2)\n",
      "Requirement already satisfied: threadpoolctl>=2.0.0 in /home/luabida/micromamba/envs/pysus/lib/python3.9/site-packages (from scikit-learn>=0.19.0->recordlinkage) (3.1.0)\n",
      "Requirement already satisfied: six>=1.5 in /home/luabida/micromamba/envs/pysus/lib/python3.9/site-packages (from python-dateutil>=2.8.1->pandas<2,>=1->recordlinkage) (1.16.0)\n"
     ]
    }
   ],
   "source": [
    "!pip3 install recordlinkage"
   ]
  },
  {
   "cell_type": "code",
   "execution_count": 51,
   "metadata": {
    "tags": ["skip-execution"],
    "ExecuteTime": {
     "end_time": "2021-04-16T19:34:29.368186Z",
     "start_time": "2021-04-16T19:34:28.837625Z"
    },
    "pycharm": {
     "name": "#%%\n"
    }
   },
   "outputs": [],
   "source": [
    "import recordlinkage"
   ]
  },
  {
   "cell_type": "code",
   "execution_count": 52,
   "metadata": {
    "tags": ["skip-execution"],
    "ExecuteTime": {
     "end_time": "2021-04-16T19:34:32.034203Z",
     "start_time": "2021-04-16T19:34:32.029132Z"
    },
    "pycharm": {
     "name": "#%%\n"
    }
   },
   "outputs": [],
   "source": [
    "df.reset_index(inplace=True)\n",
    "df['dataInicioSintomas'] = pd.to_datetime(df['dataInicioSintomas'], errors='coerce')"
   ]
  },
  {
   "cell_type": "code",
   "execution_count": 53,
   "metadata": {
    "tags": ["skip-execution"],
    "ExecuteTime": {
     "end_time": "2021-04-16T19:40:49.540948Z",
     "start_time": "2021-04-16T19:40:46.228212Z"
    },
    "pycharm": {
     "name": "#%%\n"
    }
   },
   "outputs": [
    {
     "data": {
      "text/plain": [
       "3154"
      ]
     },
     "execution_count": 53,
     "metadata": {},
     "output_type": "execute_result"
    }
   ],
   "source": [
    "dup_index = recordlinkage.Index()\n",
    "dup_index.block(['municipio','dataTeste'])\n",
    "# dup_index.sortedneighbourhood(['municipio','dataTeste'])\n",
    "dup_candidates = dup_index.index(df)\n",
    "len(dup_candidates)"
   ]
  },
  {
   "cell_type": "code",
   "execution_count": 54,
   "metadata": {"tags": ["skip-execution"]},
   "outputs": [
    {
     "data": {
      "text/plain": [
       "MultiIndex([( 3450,  1020),\n",
       "            ( 4995,  1581),\n",
       "            (18524,  3101),\n",
       "            (57863, 12167),\n",
       "            (57897, 12167),\n",
       "            (57897, 57863),\n",
       "            (35208, 12291),\n",
       "            (56484, 12291),\n",
       "            (56484, 35208),\n",
       "            (74707, 12291),\n",
       "            ...\n",
       "            (74583, 58130),\n",
       "            (74542, 58174),\n",
       "            (74610, 58174),\n",
       "            (74610, 74542),\n",
       "            (74630, 58174),\n",
       "            (74630, 74542),\n",
       "            (74630, 74610),\n",
       "            (58921, 58491),\n",
       "            (74258, 74188),\n",
       "            (74606, 74587)],\n",
       "           length=3154)"
      ]
     },
     "execution_count": 54,
     "metadata": {},
     "output_type": "execute_result"
    }
   ],
   "source": [
    "dup_candidates"
   ]
  },
  {
   "cell_type": "code",
   "execution_count": 55,
   "metadata": {
    "tags": ["skip-execution"],
    "ExecuteTime": {
     "end_time": "2021-04-16T19:44:04.147455Z",
     "start_time": "2021-04-16T19:44:04.143263Z"
    },
    "pycharm": {
     "name": "#%%\n"
    }
   },
   "outputs": [
    {
     "data": {
      "text/plain": [
       "<Compare>"
      ]
     },
     "execution_count": 55,
     "metadata": {},
     "output_type": "execute_result"
    }
   ],
   "source": [
    "compare_dups = recordlinkage.Compare()\n",
    "compare_dups.string('sintomas', 'sintomas', threshold=0.85, label='sintomas', method='jarowinkler')\n",
    "compare_dups.date('dataInicioSintomas', 'dataInicioSintomas', label='dataInicioSintomas')"
   ]
  },
  {
   "cell_type": "code",
   "execution_count": 56,
   "metadata": {
    "tags": ["skip-execution"],
    "ExecuteTime": {
     "end_time": "2021-04-16T20:13:57.263245Z",
     "start_time": "2021-04-16T20:05:22.606576Z"
    },
    "pycharm": {
     "name": "#%%\n"
    }
   },
   "outputs": [
    {
     "ename": "ValueError",
     "evalue": "Left column is not of type datetime64[ns]",
     "output_type": "error",
     "traceback": [
      "\u001b[0;31m---------------------------------------------------------------------------\u001b[0m",
      "\u001b[0;31mValueError\u001b[0m                                Traceback (most recent call last)",
      "Cell \u001b[0;32mIn[56], line 1\u001b[0m\n\u001b[0;32m----> 1\u001b[0m dup_features \u001b[39m=\u001b[39m compare_dups\u001b[39m.\u001b[39;49mcompute(dup_candidates,df)\n",
      "File \u001b[0;32m~/micromamba/envs/pysus/lib/python3.9/site-packages/recordlinkage/base.py:862\u001b[0m, in \u001b[0;36mBaseCompare.compute\u001b[0;34m(self, pairs, x, x_link)\u001b[0m\n\u001b[1;32m    859\u001b[0m     \u001b[39mraise\u001b[39;00m \u001b[39mValueError\u001b[39;00m(\u001b[39m\"\u001b[39m\u001b[39mexpected pandas.DataFrame as third argument\u001b[39m\u001b[39m\"\u001b[39m)\n\u001b[1;32m    861\u001b[0m \u001b[39mif\u001b[39;00m \u001b[39mself\u001b[39m\u001b[39m.\u001b[39mn_jobs \u001b[39m==\u001b[39m \u001b[39m1\u001b[39m:\n\u001b[0;32m--> 862\u001b[0m     results \u001b[39m=\u001b[39m \u001b[39mself\u001b[39;49m\u001b[39m.\u001b[39;49m_compute(pairs, x, x_link)\n\u001b[1;32m    863\u001b[0m \u001b[39melif\u001b[39;00m \u001b[39mself\u001b[39m\u001b[39m.\u001b[39mn_jobs \u001b[39m>\u001b[39m \u001b[39m1\u001b[39m:\n\u001b[1;32m    864\u001b[0m     results \u001b[39m=\u001b[39m \u001b[39mself\u001b[39m\u001b[39m.\u001b[39m_compute_parallel(pairs,\n\u001b[1;32m    865\u001b[0m                                      x,\n\u001b[1;32m    866\u001b[0m                                      x_link,\n\u001b[1;32m    867\u001b[0m                                      n_jobs\u001b[39m=\u001b[39m\u001b[39mself\u001b[39m\u001b[39m.\u001b[39mn_jobs)\n",
      "File \u001b[0;32m~/micromamba/envs/pysus/lib/python3.9/site-packages/recordlinkage/base.py:727\u001b[0m, in \u001b[0;36mBaseCompare._compute\u001b[0;34m(self, pairs, x, x_link)\u001b[0m\n\u001b[1;32m    722\u001b[0m     \u001b[39m# else: subset columns and pass tuple of series\u001b[39;00m\n\u001b[1;32m    723\u001b[0m     \u001b[39melse\u001b[39;00m:\n\u001b[1;32m    724\u001b[0m         data2 \u001b[39m=\u001b[39m \u001b[39mtuple\u001b[39m(\n\u001b[1;32m    725\u001b[0m             [df_b_indexed[lbl] \u001b[39mfor\u001b[39;00m lbl \u001b[39min\u001b[39;00m listify(feat\u001b[39m.\u001b[39mlabels_right)])\n\u001b[0;32m--> 727\u001b[0m     result \u001b[39m=\u001b[39m feat\u001b[39m.\u001b[39;49m_compute(data1, data2)\n\u001b[1;32m    728\u001b[0m     features\u001b[39m.\u001b[39mappend((result, feat\u001b[39m.\u001b[39mlabel))\n\u001b[1;32m    730\u001b[0m features \u001b[39m=\u001b[39m \u001b[39mself\u001b[39m\u001b[39m.\u001b[39m_union(features, pairs)\n",
      "File \u001b[0;32m~/micromamba/envs/pysus/lib/python3.9/site-packages/recordlinkage/base.py:452\u001b[0m, in \u001b[0;36mBaseCompareFeature._compute\u001b[0;34m(self, left_on, right_on)\u001b[0m\n\u001b[1;32m    430\u001b[0m \u001b[39mdef\u001b[39;00m \u001b[39m_compute\u001b[39m(\u001b[39mself\u001b[39m, left_on, right_on):\n\u001b[1;32m    431\u001b[0m \u001b[39m    \u001b[39m\u001b[39m\"\"\"Compare the data on the left and right.\u001b[39;00m\n\u001b[1;32m    432\u001b[0m \n\u001b[1;32m    433\u001b[0m \u001b[39m    :meth:`BaseCompareFeature._compute` and\u001b[39;00m\n\u001b[0;32m   (...)\u001b[0m\n\u001b[1;32m    450\u001b[0m \u001b[39m        numpy.ndarray objects.\u001b[39;00m\n\u001b[1;32m    451\u001b[0m \u001b[39m    \"\"\"\u001b[39;00m\n\u001b[0;32m--> 452\u001b[0m     result \u001b[39m=\u001b[39m \u001b[39mself\u001b[39;49m\u001b[39m.\u001b[39;49m_compute_vectorized(\u001b[39m*\u001b[39;49m\u001b[39mtuple\u001b[39;49m(left_on \u001b[39m+\u001b[39;49m right_on))\n\u001b[1;32m    454\u001b[0m     \u001b[39mreturn\u001b[39;00m result\n",
      "File \u001b[0;32m~/micromamba/envs/pysus/lib/python3.9/site-packages/recordlinkage/compare.py:382\u001b[0m, in \u001b[0;36mDate._compute_vectorized\u001b[0;34m(self, s_left, s_right)\u001b[0m\n\u001b[1;32m    378\u001b[0m \u001b[39mdef\u001b[39;00m \u001b[39m_compute_vectorized\u001b[39m(\u001b[39mself\u001b[39m, s_left, s_right):\n\u001b[1;32m    379\u001b[0m \n\u001b[1;32m    380\u001b[0m     \u001b[39m# validate datatypes\u001b[39;00m\n\u001b[1;32m    381\u001b[0m     \u001b[39mif\u001b[39;00m \u001b[39mstr\u001b[39m(s_left\u001b[39m.\u001b[39mdtype) \u001b[39m!=\u001b[39m \u001b[39m'\u001b[39m\u001b[39mdatetime64[ns]\u001b[39m\u001b[39m'\u001b[39m:\n\u001b[0;32m--> 382\u001b[0m         \u001b[39mraise\u001b[39;00m \u001b[39mValueError\u001b[39;00m(\u001b[39m'\u001b[39m\u001b[39mLeft column is not of type datetime64[ns]\u001b[39m\u001b[39m'\u001b[39m)\n\u001b[1;32m    384\u001b[0m     \u001b[39mif\u001b[39;00m \u001b[39mstr\u001b[39m(s_right\u001b[39m.\u001b[39mdtype) \u001b[39m!=\u001b[39m \u001b[39m'\u001b[39m\u001b[39mdatetime64[ns]\u001b[39m\u001b[39m'\u001b[39m:\n\u001b[1;32m    385\u001b[0m         \u001b[39mraise\u001b[39;00m \u001b[39mValueError\u001b[39;00m(\u001b[39m'\u001b[39m\u001b[39mRight column is not of type datetime64[ns]\u001b[39m\u001b[39m'\u001b[39m)\n",
      "\u001b[0;31mValueError\u001b[0m: Left column is not of type datetime64[ns]"
     ]
    }
   ],
   "source": [
    "dup_features = compare_dups.compute(dup_candidates,df)"
   ]
  },
  {
   "cell_type": "code",
   "execution_count": null,
   "metadata": {
    "tags": ["skip-execution"],
    "ExecuteTime": {
     "end_time": "2021-04-16T20:13:58.693991Z",
     "start_time": "2021-04-16T20:13:58.678794Z"
    },
    "pycharm": {
     "name": "#%%\n"
    }
   },
   "outputs": [
    {
     "ename": "NameError",
     "evalue": "name 'dup_features' is not defined",
     "output_type": "error",
     "traceback": [
      "\u001b[0;31m---------------------------------------------------------------------------\u001b[0m",
      "\u001b[0;31mNameError\u001b[0m                                 Traceback (most recent call last)",
      "Cell \u001b[0;32mIn[17], line 1\u001b[0m\n\u001b[0;32m----> 1\u001b[0m dup_features\n",
      "\u001b[0;31mNameError\u001b[0m: name 'dup_features' is not defined"
     ]
    }
   ],
   "source": [
    "dup_features"
   ]
  },
  {
   "cell_type": "code",
   "execution_count": null,
   "metadata": {
    "tags": ["skip-execution"],
    "ExecuteTime": {
     "end_time": "2021-04-16T20:14:01.019982Z",
     "start_time": "2021-04-16T20:14:00.151452Z"
    },
    "pycharm": {
     "name": "#%%\n"
    }
   },
   "outputs": [
    {
     "data": {
      "text/plain": [
       "1.0     5910561\n",
       "0.0    28495991\n",
       "dtype: int64"
      ]
     },
     "execution_count": 18,
     "metadata": {},
     "output_type": "execute_result"
    }
   ],
   "source": [
    "dup_features.sum(axis=1).value_counts().sort_index(ascending=False)"
   ]
  },
  {
   "cell_type": "code",
   "execution_count": null,
   "metadata": {
    "tags": ["skip-execution"],
    "ExecuteTime": {
     "end_time": "2021-04-16T20:19:38.288067Z",
     "start_time": "2021-04-16T20:19:37.764608Z"
    },
    "pycharm": {
     "name": "#%%\n"
    }
   },
   "outputs": [],
   "source": [
    "potential_dups = dup_features[dup_features.sum(axis=1) >= 1]#.reset_index()\n",
    "# potential_dups['Score'] = potential_dups.loc[:, 'sintomas':'dataInicioSintomas'].sum(axis=1)"
   ]
  },
  {
   "cell_type": "code",
   "execution_count": null,
   "metadata": {
    "tags": ["skip-execution"],
    "ExecuteTime": {
     "end_time": "2021-04-16T20:19:39.755935Z",
     "start_time": "2021-04-16T20:19:39.746855Z"
    },
    "pycharm": {
     "name": "#%%\n"
    }
   },
   "outputs": [
    {
     "data": {
      "text/html": [
       "<div>\n",
       "<style scoped>\n",
       "    .dataframe tbody tr th:only-of-type {\n",
       "        vertical-align: middle;\n",
       "    }\n",
       "\n",
       "    .dataframe tbody tr th {\n",
       "        vertical-align: top;\n",
       "    }\n",
       "\n",
       "    .dataframe thead th {\n",
       "        text-align: right;\n",
       "    }\n",
       "</style>\n",
       "<table border=\"1\" class=\"dataframe\">\n",
       "  <thead>\n",
       "    <tr style=\"text-align: right;\">\n",
       "      <th></th>\n",
       "      <th></th>\n",
       "      <th>sintomas</th>\n",
       "    </tr>\n",
       "  </thead>\n",
       "  <tbody>\n",
       "    <tr>\n",
       "      <th>9</th>\n",
       "      <th>5</th>\n",
       "      <td>1.0</td>\n",
       "    </tr>\n",
       "    <tr>\n",
       "      <th>12</th>\n",
       "      <th>3</th>\n",
       "      <td>1.0</td>\n",
       "    </tr>\n",
       "    <tr>\n",
       "      <th rowspan=\"2\" valign=\"top\">15</th>\n",
       "      <th>3</th>\n",
       "      <td>1.0</td>\n",
       "    </tr>\n",
       "    <tr>\n",
       "      <th>12</th>\n",
       "      <td>1.0</td>\n",
       "    </tr>\n",
       "    <tr>\n",
       "      <th>23</th>\n",
       "      <th>3</th>\n",
       "      <td>1.0</td>\n",
       "    </tr>\n",
       "    <tr>\n",
       "      <th>...</th>\n",
       "      <th>...</th>\n",
       "      <td>...</td>\n",
       "    </tr>\n",
       "    <tr>\n",
       "      <th>380990</th>\n",
       "      <th>380953</th>\n",
       "      <td>1.0</td>\n",
       "    </tr>\n",
       "    <tr>\n",
       "      <th>381048</th>\n",
       "      <th>381019</th>\n",
       "      <td>1.0</td>\n",
       "    </tr>\n",
       "    <tr>\n",
       "      <th rowspan=\"2\" valign=\"top\">381050</th>\n",
       "      <th>381019</th>\n",
       "      <td>1.0</td>\n",
       "    </tr>\n",
       "    <tr>\n",
       "      <th>381048</th>\n",
       "      <td>1.0</td>\n",
       "    </tr>\n",
       "    <tr>\n",
       "      <th>381057</th>\n",
       "      <th>380939</th>\n",
       "      <td>1.0</td>\n",
       "    </tr>\n",
       "  </tbody>\n",
       "</table>\n",
       "<p>5910561 rows × 1 columns</p>\n",
       "</div>"
      ],
      "text/plain": [
       "               sintomas\n",
       "9      5            1.0\n",
       "12     3            1.0\n",
       "15     3            1.0\n",
       "       12           1.0\n",
       "23     3            1.0\n",
       "...                 ...\n",
       "380990 380953       1.0\n",
       "381048 381019       1.0\n",
       "381050 381019       1.0\n",
       "       381048       1.0\n",
       "381057 380939       1.0\n",
       "\n",
       "[5910561 rows x 1 columns]"
      ]
     },
     "execution_count": 25,
     "metadata": {},
     "output_type": "execute_result"
    }
   ],
   "source": [
    "potential_dups"
   ]
  },
  {
   "cell_type": "code",
   "execution_count": null,
   "metadata": {
    "tags": ["skip-execution"],
    "pycharm": {
     "name": "#%%\n"
    }
   },
   "outputs": [],
   "source": [
    "potential_dups"
   ]
  }
 ],
 "metadata": {
  "kernelspec": {
   "display_name": "pysus",
   "language": "python",
   "name": "python3"
  },
  "language_info": {
   "codemirror_mode": {
    "name": "ipython",
    "version": 3
   },
   "file_extension": ".py",
   "mimetype": "text/x-python",
   "name": "python",
   "nbconvert_exporter": "python",
   "pygments_lexer": "ipython3",
   "version": "3.9.16"
  },
  "latex_envs": {
   "LaTeX_envs_menu_present": true,
   "autoclose": false,
   "autocomplete": true,
   "bibliofile": "biblio.bib",
   "cite_by": "apalike",
   "current_citInitial": 1,
   "eqLabelWithNumbers": true,
   "eqNumInitial": 1,
   "hotkeys": {
    "equation": "Ctrl-E",
    "itemize": "Ctrl-I"
   },
   "labels_anchors": false,
   "latex_user_defs": false,
   "report_style_numbering": false,
   "user_envs_cfg": false
  },
  "toc": {
   "base_numbering": 1,
   "nav_menu": {},
   "number_sections": true,
   "sideBar": true,
   "skip_h1_title": false,
   "title_cell": "Table of Contents",
   "title_sidebar": "Contents",
   "toc_cell": false,
   "toc_position": {},
   "toc_section_display": true,
   "toc_window_display": false
  },
  "varInspector": {
   "cols": {
    "lenName": 16,
    "lenType": 16,
    "lenVar": 40
   },
   "kernels_config": {
    "python": {
     "delete_cmd_postfix": "",
     "delete_cmd_prefix": "del ",
     "library": "var_list.py",
     "varRefreshCmd": "print(var_dic_list())"
    },
    "r": {
     "delete_cmd_postfix": ") ",
     "delete_cmd_prefix": "rm(",
     "library": "var_list.r",
     "varRefreshCmd": "cat(var_dic_list()) "
    }
   },
   "types_to_exclude": [
    "module",
    "function",
    "builtin_function_or_method",
    "instance",
    "_Feature"
   ],
   "window_display": false
  },
  "vscode": {
   "interpreter": {
    "hash": "2a96a5ccec8dfcba7d06b2e71f6eef3b5dac5716461bf5d73ea1bb7ee462cdaa"
   }
  }
 },
 "nbformat": 4,
 "nbformat_minor": 1
}
