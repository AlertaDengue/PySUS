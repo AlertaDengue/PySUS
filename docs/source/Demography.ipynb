{
 "cells": [
  {
   "cell_type": "code",
   "execution_count": 1,
   "metadata": {
    "ExecuteTime": {
     "end_time": "2021-03-02T16:20:55.570062Z",
     "start_time": "2021-03-02T16:20:49.060499Z"
    }
   },
   "outputs": [
    {
     "name": "stderr",
     "output_type": "stream",
     "text": [
      "/usr/local/lib/python3.8/dist-packages/geopandas/_compat.py:84: UserWarning: The Shapely GEOS version (3.8.0-CAPI-1.13.1 ) is incompatible with the GEOS version PyGEOS was compiled with (3.9.0-CAPI-1.16.2). Conversions between both will be slow.\n",
      "  warnings.warn(\n"
     ]
    },
    {
     "name": "stdout",
     "output_type": "stream",
     "text": [
      "Populating the interactive namespace from numpy and matplotlib\n"
     ]
    }
   ],
   "source": [
    "from pysus.demography import geobase\n",
    "from pysus.demography.geobase import GeoBase\n",
    "%pylab inline"
   ]
  },
  {
   "cell_type": "markdown",
   "metadata": {},
   "source": [
    "# Generating Synthetic demographical data with PySUS\n",
    "The package `pysus.demography` includes tools to synthetize population data with the same demographical characteristics as the brazilian population.\n",
    "\n",
    "## Defining the geographical base\n",
    "Building the geographical base can take a while, because we need to download the data from IBGE, But the data gets cached in the local directory. On a second run the data is loaded much faster. The code below pulls in the map boundaries."
   ]
  },
  {
   "cell_type": "code",
   "execution_count": 2,
   "metadata": {
    "ExecuteTime": {
     "end_time": "2021-03-02T16:22:09.636328Z",
     "start_time": "2021-03-02T16:21:00.093954Z"
    }
   },
   "outputs": [
    {
     "name": "stdout",
     "output_type": "stream",
     "text": [
      "Dowloading the Map...\n"
     ]
    },
    {
     "name": "stderr",
     "output_type": "stream",
     "text": [
      "/usr/local/lib/python3.8/dist-packages/geopandas/geodataframe.py:422: RuntimeWarning: Sequential read of iterator was interrupted. Resetting iterator. This can negatively impact the performance.\n",
      "  for feature in features_lst:\n",
      "/usr/local/lib/python3.8/dist-packages/pysus/demography/geobase.py:72: UserWarning: this is an initial implementation of Parquet/Feather file support and associated metadata.  This is tracking version 0.1.0 of the metadata specification at https://github.com/geopandas/geo-arrow-spec\n",
      "\n",
      "This metadata specification does not yet make stability promises.  We do not yet recommend using this in a production setting unless you are able to rewrite your Parquet/Feather files.\n",
      "\n",
      "To further ignore this warning, you can do: \n",
      "import warnings; warnings.filterwarnings('ignore', message='.*initial implementation of Parquet.*')\n",
      "  self.mapdf.to_parquet(f\"{self.level}_map.parquet\")\n"
     ]
    },
    {
     "data": {
      "text/html": [
       "<div>\n",
       "<style scoped>\n",
       "    .dataframe tbody tr th:only-of-type {\n",
       "        vertical-align: middle;\n",
       "    }\n",
       "\n",
       "    .dataframe tbody tr th {\n",
       "        vertical-align: top;\n",
       "    }\n",
       "\n",
       "    .dataframe thead th {\n",
       "        text-align: right;\n",
       "    }\n",
       "</style>\n",
       "<table border=\"1\" class=\"dataframe\">\n",
       "  <thead>\n",
       "    <tr style=\"text-align: right;\">\n",
       "      <th></th>\n",
       "      <th>code_state</th>\n",
       "      <th>abbrev_state</th>\n",
       "      <th>name_state</th>\n",
       "      <th>code_region</th>\n",
       "      <th>name_region</th>\n",
       "      <th>geometry</th>\n",
       "    </tr>\n",
       "  </thead>\n",
       "  <tbody>\n",
       "    <tr>\n",
       "      <th>0</th>\n",
       "      <td>11.0</td>\n",
       "      <td>RO</td>\n",
       "      <td>Rondônia</td>\n",
       "      <td>1.0</td>\n",
       "      <td>Norte</td>\n",
       "      <td>MULTIPOLYGON (((-63.32721 -7.97672, -62.86662 ...</td>\n",
       "    </tr>\n",
       "    <tr>\n",
       "      <th>1</th>\n",
       "      <td>12.0</td>\n",
       "      <td>AC</td>\n",
       "      <td>Acre</td>\n",
       "      <td>1.0</td>\n",
       "      <td>Norte</td>\n",
       "      <td>MULTIPOLYGON (((-73.18253 -7.33550, -72.58477 ...</td>\n",
       "    </tr>\n",
       "    <tr>\n",
       "      <th>2</th>\n",
       "      <td>13.0</td>\n",
       "      <td>AM</td>\n",
       "      <td>Amazonas</td>\n",
       "      <td>1.0</td>\n",
       "      <td>Norte</td>\n",
       "      <td>MULTIPOLYGON (((-67.32609 2.02971, -67.31682 2...</td>\n",
       "    </tr>\n",
       "    <tr>\n",
       "      <th>3</th>\n",
       "      <td>14.0</td>\n",
       "      <td>RR</td>\n",
       "      <td>Roraima</td>\n",
       "      <td>1.0</td>\n",
       "      <td>Norte</td>\n",
       "      <td>MULTIPOLYGON (((-60.20051 5.26434, -60.19273 5...</td>\n",
       "    </tr>\n",
       "    <tr>\n",
       "      <th>4</th>\n",
       "      <td>15.0</td>\n",
       "      <td>PA</td>\n",
       "      <td>Pará</td>\n",
       "      <td>1.0</td>\n",
       "      <td>Norte</td>\n",
       "      <td>MULTIPOLYGON (((-54.95431 2.58369, -54.93542 2...</td>\n",
       "    </tr>\n",
       "    <tr>\n",
       "      <th>5</th>\n",
       "      <td>16.0</td>\n",
       "      <td>AP</td>\n",
       "      <td>Amapá</td>\n",
       "      <td>1.0</td>\n",
       "      <td>Norte</td>\n",
       "      <td>MULTIPOLYGON (((-51.17970 4.00008, -51.17739 3...</td>\n",
       "    </tr>\n",
       "    <tr>\n",
       "      <th>6</th>\n",
       "      <td>17.0</td>\n",
       "      <td>TO</td>\n",
       "      <td>Tocantins</td>\n",
       "      <td>1.0</td>\n",
       "      <td>Norte</td>\n",
       "      <td>MULTIPOLYGON (((-48.35878 -5.17008, -48.33846 ...</td>\n",
       "    </tr>\n",
       "    <tr>\n",
       "      <th>7</th>\n",
       "      <td>21.0</td>\n",
       "      <td>MA</td>\n",
       "      <td>Maranhão</td>\n",
       "      <td>2.0</td>\n",
       "      <td>Nordeste</td>\n",
       "      <td>MULTIPOLYGON (((-45.84073 -1.04548, -45.84099 ...</td>\n",
       "    </tr>\n",
       "    <tr>\n",
       "      <th>8</th>\n",
       "      <td>22.0</td>\n",
       "      <td>PI</td>\n",
       "      <td>Piauí</td>\n",
       "      <td>2.0</td>\n",
       "      <td>Nordeste</td>\n",
       "      <td>MULTIPOLYGON (((-41.74605 -2.80350, -41.73488 ...</td>\n",
       "    </tr>\n",
       "    <tr>\n",
       "      <th>9</th>\n",
       "      <td>23.0</td>\n",
       "      <td>CE</td>\n",
       "      <td>Ceará</td>\n",
       "      <td>2.0</td>\n",
       "      <td>Nordeste</td>\n",
       "      <td>MULTIPOLYGON (((-41.16703 -4.46736, -41.17757 ...</td>\n",
       "    </tr>\n",
       "    <tr>\n",
       "      <th>10</th>\n",
       "      <td>24.0</td>\n",
       "      <td>RN</td>\n",
       "      <td>Rio Grande Do Norte</td>\n",
       "      <td>2.0</td>\n",
       "      <td>Nordeste</td>\n",
       "      <td>MULTIPOLYGON (((-37.25329 -4.83156, -37.24905 ...</td>\n",
       "    </tr>\n",
       "    <tr>\n",
       "      <th>11</th>\n",
       "      <td>25.0</td>\n",
       "      <td>PB</td>\n",
       "      <td>Paraíba</td>\n",
       "      <td>2.0</td>\n",
       "      <td>Nordeste</td>\n",
       "      <td>MULTIPOLYGON (((-37.22269 -6.04215, -37.21642 ...</td>\n",
       "    </tr>\n",
       "    <tr>\n",
       "      <th>12</th>\n",
       "      <td>26.0</td>\n",
       "      <td>PE</td>\n",
       "      <td>Pernambuco</td>\n",
       "      <td>2.0</td>\n",
       "      <td>Nordeste</td>\n",
       "      <td>MULTIPOLYGON (((-32.39705 -3.83294, -32.39774 ...</td>\n",
       "    </tr>\n",
       "    <tr>\n",
       "      <th>13</th>\n",
       "      <td>27.0</td>\n",
       "      <td>AL</td>\n",
       "      <td>Alagoas</td>\n",
       "      <td>2.0</td>\n",
       "      <td>Nordeste</td>\n",
       "      <td>MULTIPOLYGON (((-35.46753 -8.81744, -35.46430 ...</td>\n",
       "    </tr>\n",
       "    <tr>\n",
       "      <th>14</th>\n",
       "      <td>28.0</td>\n",
       "      <td>SE</td>\n",
       "      <td>Sergipe</td>\n",
       "      <td>2.0</td>\n",
       "      <td>Nordeste</td>\n",
       "      <td>MULTIPOLYGON (((-37.99245 -9.52511, -37.98933 ...</td>\n",
       "    </tr>\n",
       "    <tr>\n",
       "      <th>15</th>\n",
       "      <td>29.0</td>\n",
       "      <td>BA</td>\n",
       "      <td>Bahia</td>\n",
       "      <td>2.0</td>\n",
       "      <td>Nordeste</td>\n",
       "      <td>MULTIPOLYGON (((-39.36446 -8.53785, -39.35681 ...</td>\n",
       "    </tr>\n",
       "    <tr>\n",
       "      <th>16</th>\n",
       "      <td>31.0</td>\n",
       "      <td>MG</td>\n",
       "      <td>Minas Gerais</td>\n",
       "      <td>3.0</td>\n",
       "      <td>Sudeste</td>\n",
       "      <td>MULTIPOLYGON (((-41.87545 -20.76487, -41.87338...</td>\n",
       "    </tr>\n",
       "    <tr>\n",
       "      <th>17</th>\n",
       "      <td>32.0</td>\n",
       "      <td>ES</td>\n",
       "      <td>Espirito Santo</td>\n",
       "      <td>3.0</td>\n",
       "      <td>Sudeste</td>\n",
       "      <td>MULTIPOLYGON (((-41.87545 -20.76487, -41.87920...</td>\n",
       "    </tr>\n",
       "    <tr>\n",
       "      <th>18</th>\n",
       "      <td>33.0</td>\n",
       "      <td>RJ</td>\n",
       "      <td>Rio De Janeiro</td>\n",
       "      <td>3.0</td>\n",
       "      <td>Sudeste</td>\n",
       "      <td>MULTIPOLYGON (((-41.85946 -20.76517, -41.85748...</td>\n",
       "    </tr>\n",
       "    <tr>\n",
       "      <th>19</th>\n",
       "      <td>35.0</td>\n",
       "      <td>SP</td>\n",
       "      <td>São Paulo</td>\n",
       "      <td>3.0</td>\n",
       "      <td>Sudeste</td>\n",
       "      <td>MULTIPOLYGON (((-44.90215 -23.35392, -44.90650...</td>\n",
       "    </tr>\n",
       "    <tr>\n",
       "      <th>20</th>\n",
       "      <td>41.0</td>\n",
       "      <td>PR</td>\n",
       "      <td>Paraná</td>\n",
       "      <td>4.0</td>\n",
       "      <td>Sul</td>\n",
       "      <td>MULTIPOLYGON (((-52.05188 -22.53933, -52.03446...</td>\n",
       "    </tr>\n",
       "    <tr>\n",
       "      <th>21</th>\n",
       "      <td>42.0</td>\n",
       "      <td>SC</td>\n",
       "      <td>Santa Catarina</td>\n",
       "      <td>4.0</td>\n",
       "      <td>Sul</td>\n",
       "      <td>MULTIPOLYGON (((-48.63865 -25.96873, -48.63434...</td>\n",
       "    </tr>\n",
       "    <tr>\n",
       "      <th>22</th>\n",
       "      <td>43.0</td>\n",
       "      <td>RS</td>\n",
       "      <td>Rio Grande Do Sul</td>\n",
       "      <td>4.0</td>\n",
       "      <td>Sul</td>\n",
       "      <td>MULTIPOLYGON (((-51.90486 -27.45935, -51.90129...</td>\n",
       "    </tr>\n",
       "    <tr>\n",
       "      <th>23</th>\n",
       "      <td>50.0</td>\n",
       "      <td>MS</td>\n",
       "      <td>Mato Grosso Do Sul</td>\n",
       "      <td>5.0</td>\n",
       "      <td>Centro Oeste</td>\n",
       "      <td>MULTIPOLYGON (((-56.10370 -17.17354, -56.09692...</td>\n",
       "    </tr>\n",
       "    <tr>\n",
       "      <th>24</th>\n",
       "      <td>51.0</td>\n",
       "      <td>MT</td>\n",
       "      <td>Mato Grosso</td>\n",
       "      <td>5.0</td>\n",
       "      <td>Centro Oeste</td>\n",
       "      <td>MULTIPOLYGON (((-54.89485 -17.62150, -54.89704...</td>\n",
       "    </tr>\n",
       "    <tr>\n",
       "      <th>25</th>\n",
       "      <td>52.0</td>\n",
       "      <td>GO</td>\n",
       "      <td>Goiás</td>\n",
       "      <td>5.0</td>\n",
       "      <td>Centro Oeste</td>\n",
       "      <td>MULTIPOLYGON (((-50.16015 -12.42007, -50.15856...</td>\n",
       "    </tr>\n",
       "    <tr>\n",
       "      <th>26</th>\n",
       "      <td>53.0</td>\n",
       "      <td>DF</td>\n",
       "      <td>Distrito Federal</td>\n",
       "      <td>5.0</td>\n",
       "      <td>Centro Oeste</td>\n",
       "      <td>MULTIPOLYGON (((-47.57461 -15.51341, -47.56997...</td>\n",
       "    </tr>\n",
       "  </tbody>\n",
       "</table>\n",
       "</div>"
      ],
      "text/plain": [
       "    code_state abbrev_state           name_state  code_region   name_region  \\\n",
       "0         11.0           RO             Rondônia          1.0         Norte   \n",
       "1         12.0           AC                 Acre          1.0         Norte   \n",
       "2         13.0           AM             Amazonas          1.0         Norte   \n",
       "3         14.0           RR              Roraima          1.0         Norte   \n",
       "4         15.0           PA                 Pará          1.0         Norte   \n",
       "5         16.0           AP                Amapá          1.0         Norte   \n",
       "6         17.0           TO            Tocantins          1.0         Norte   \n",
       "7         21.0           MA             Maranhão          2.0      Nordeste   \n",
       "8         22.0           PI                Piauí          2.0      Nordeste   \n",
       "9         23.0           CE                Ceará          2.0      Nordeste   \n",
       "10        24.0           RN  Rio Grande Do Norte          2.0      Nordeste   \n",
       "11        25.0           PB              Paraíba          2.0      Nordeste   \n",
       "12        26.0           PE           Pernambuco          2.0      Nordeste   \n",
       "13        27.0           AL              Alagoas          2.0      Nordeste   \n",
       "14        28.0           SE              Sergipe          2.0      Nordeste   \n",
       "15        29.0           BA                Bahia          2.0      Nordeste   \n",
       "16        31.0           MG         Minas Gerais          3.0       Sudeste   \n",
       "17        32.0           ES       Espirito Santo          3.0       Sudeste   \n",
       "18        33.0           RJ       Rio De Janeiro          3.0       Sudeste   \n",
       "19        35.0           SP            São Paulo          3.0       Sudeste   \n",
       "20        41.0           PR               Paraná          4.0           Sul   \n",
       "21        42.0           SC       Santa Catarina          4.0           Sul   \n",
       "22        43.0           RS    Rio Grande Do Sul          4.0           Sul   \n",
       "23        50.0           MS   Mato Grosso Do Sul          5.0  Centro Oeste   \n",
       "24        51.0           MT          Mato Grosso          5.0  Centro Oeste   \n",
       "25        52.0           GO                Goiás          5.0  Centro Oeste   \n",
       "26        53.0           DF     Distrito Federal          5.0  Centro Oeste   \n",
       "\n",
       "                                             geometry  \n",
       "0   MULTIPOLYGON (((-63.32721 -7.97672, -62.86662 ...  \n",
       "1   MULTIPOLYGON (((-73.18253 -7.33550, -72.58477 ...  \n",
       "2   MULTIPOLYGON (((-67.32609 2.02971, -67.31682 2...  \n",
       "3   MULTIPOLYGON (((-60.20051 5.26434, -60.19273 5...  \n",
       "4   MULTIPOLYGON (((-54.95431 2.58369, -54.93542 2...  \n",
       "5   MULTIPOLYGON (((-51.17970 4.00008, -51.17739 3...  \n",
       "6   MULTIPOLYGON (((-48.35878 -5.17008, -48.33846 ...  \n",
       "7   MULTIPOLYGON (((-45.84073 -1.04548, -45.84099 ...  \n",
       "8   MULTIPOLYGON (((-41.74605 -2.80350, -41.73488 ...  \n",
       "9   MULTIPOLYGON (((-41.16703 -4.46736, -41.17757 ...  \n",
       "10  MULTIPOLYGON (((-37.25329 -4.83156, -37.24905 ...  \n",
       "11  MULTIPOLYGON (((-37.22269 -6.04215, -37.21642 ...  \n",
       "12  MULTIPOLYGON (((-32.39705 -3.83294, -32.39774 ...  \n",
       "13  MULTIPOLYGON (((-35.46753 -8.81744, -35.46430 ...  \n",
       "14  MULTIPOLYGON (((-37.99245 -9.52511, -37.98933 ...  \n",
       "15  MULTIPOLYGON (((-39.36446 -8.53785, -39.35681 ...  \n",
       "16  MULTIPOLYGON (((-41.87545 -20.76487, -41.87338...  \n",
       "17  MULTIPOLYGON (((-41.87545 -20.76487, -41.87920...  \n",
       "18  MULTIPOLYGON (((-41.85946 -20.76517, -41.85748...  \n",
       "19  MULTIPOLYGON (((-44.90215 -23.35392, -44.90650...  \n",
       "20  MULTIPOLYGON (((-52.05188 -22.53933, -52.03446...  \n",
       "21  MULTIPOLYGON (((-48.63865 -25.96873, -48.63434...  \n",
       "22  MULTIPOLYGON (((-51.90486 -27.45935, -51.90129...  \n",
       "23  MULTIPOLYGON (((-56.10370 -17.17354, -56.09692...  \n",
       "24  MULTIPOLYGON (((-54.89485 -17.62150, -54.89704...  \n",
       "25  MULTIPOLYGON (((-50.16015 -12.42007, -50.15856...  \n",
       "26  MULTIPOLYGON (((-47.57461 -15.51341, -47.56997...  "
      ]
     },
     "execution_count": 2,
     "metadata": {},
     "output_type": "execute_result"
    }
   ],
   "source": [
    "GB = GeoBase(level='State')\n",
    "gdf = GB.map('all')  # Fetch all states\n",
    "gdf"
   ]
  },
  {
   "cell_type": "markdown",
   "metadata": {},
   "source": [
    "Here is the cached map file. If you want to redownload the map, in the same working directory, just initialize Geobase with `reset=True`:\n",
    "```python\n",
    "GB = GeoBase(level='State', reset=True)\n",
    "```"
   ]
  },
  {
   "cell_type": "code",
   "execution_count": 4,
   "metadata": {
    "ExecuteTime": {
     "end_time": "2021-03-02T16:23:04.464152Z",
     "start_time": "2021-03-02T16:23:04.202852Z"
    }
   },
   "outputs": [
    {
     "name": "stdout",
     "output_type": "stream",
     "text": [
      "State_map.parquet\r\n"
     ]
    }
   ],
   "source": [
    "# Cached data\n",
    "!ls *.parquet"
   ]
  },
  {
   "cell_type": "markdown",
   "metadata": {},
   "source": [
    "You can define your geographical base on different levels"
   ]
  },
  {
   "cell_type": "code",
   "execution_count": 5,
   "metadata": {
    "ExecuteTime": {
     "end_time": "2021-03-02T16:23:11.903801Z",
     "start_time": "2021-03-02T16:23:11.891518Z"
    }
   },
   "outputs": [
    {
     "name": "stdout",
     "output_type": "stream",
     "text": [
      "['Country', 'Region', 'State', 'Meso region', 'Micro region', 'Immediate region', 'Census weighting area', 'Census tract', 'Municipality', 'Municipality seats', 'Metropolitan areas', 'Urban footprints', \"Brazil's Legal Amazon\", 'Biomes', 'Environmental Conservation Units', 'Disaster risk areas', 'Indigenous lands', 'Semi Arid region', 'Health facilities', 'Health regions', 'Neighborhood limits']\n"
     ]
    }
   ],
   "source": [
    "print(list(geobase.LEVELS.keys()))"
   ]
  },
  {
   "cell_type": "markdown",
   "metadata": {},
   "source": [
    "PySUS use the `geobr` library to download the maps, thus you can pass aditional parameters to the `map` function depending on the Level you are working at. You can use the `help_fetch_map` method of `GeoBase` to check what parameters are available at the level of you geobase. "
   ]
  },
  {
   "cell_type": "code",
   "execution_count": 4,
   "metadata": {
    "ExecuteTime": {
     "end_time": "2021-02-21T23:02:31.869832Z",
     "start_time": "2021-02-21T23:02:31.856715Z"
    }
   },
   "outputs": [
    {
     "name": "stdout",
     "output_type": "stream",
     "text": [
      "Help on function read_state in module geobr.read_state:\n",
      "\n",
      "read_state(code_state='all', year=2010, simplified=True, verbose=False)\n",
      "    Download shapefiles of Brazilian states as geopandas objects.\n",
      "    \n",
      "     Data at scale 1:250,000, using Geodetic reference system \"SIRGAS2000\" and CRS(4674)\n",
      "    \n",
      "    Parameters\n",
      "    ----------\n",
      "    code_state : str, optional\n",
      "        The two-digit code of a state or a two-letter uppercase abbreviation \n",
      "        (e.g. 33 or \"RJ\"). If code_state=\"all\", all states will be loaded (Default).\n",
      "    year : int, optional\n",
      "        Year of the data, by default 2010\n",
      "    simplified: boolean, by default True\n",
      "        Data 'type', indicating whether the function returns the 'original' dataset \n",
      "        with high resolution or a dataset with 'simplified' borders (Default)\n",
      "    verbose : bool, optional\n",
      "        by default False\n",
      "    \n",
      "    Returns\n",
      "    -------\n",
      "    gpd.GeoDataFrame\n",
      "        Metadata and geopackage of selected states\n",
      "    \n",
      "    Raises\n",
      "    ------\n",
      "    Exception\n",
      "        If parameters are not found or not well defined\n",
      "    \n",
      "    Example\n",
      "    -------\n",
      "    >>> from geobr import read_state\n",
      "    \n",
      "    # Read specific state at a given year\n",
      "    >>> uf = read_state(code_state=12, year=2017)\n",
      "    \n",
      "     # Read specific state at a given year with normal geopackages\n",
      "    >>> uf = read_state(code_state=\"SC\", year=2000, tp='normal')\n",
      "    \n",
      "     # Read all states at a given year\n",
      "    >>> ufs = read_state(code_state=\"all\", year=2010)\n",
      "\n"
     ]
    }
   ],
   "source": [
    "GB.help_fetch_map()"
   ]
  },
  {
   "cell_type": "markdown",
   "metadata": {},
   "source": [
    "## Geting the population data\n",
    "Now we download the population data, and aggregate for each polygon in our geographical base"
   ]
  },
  {
   "cell_type": "code",
   "execution_count": 10,
   "metadata": {
    "ExecuteTime": {
     "end_time": "2021-03-02T16:28:02.006545Z",
     "start_time": "2021-03-02T16:28:01.999402Z"
    }
   },
   "outputs": [],
   "source": [
    "GB.demographics()"
   ]
  },
  {
   "cell_type": "code",
   "execution_count": 8,
   "metadata": {
    "ExecuteTime": {
     "end_time": "2021-03-02T16:27:23.375023Z",
     "start_time": "2021-03-02T16:27:23.007053Z"
    }
   },
   "outputs": [
    {
     "data": {
      "image/png": "[encoded data removed]",
      "text/plain": [
       "<Figure size 432x288 with 1 Axes>"
      ]
     },
     "metadata": {
      "needs_background": "light"
     },
     "output_type": "display_data"
    }
   ],
   "source": [
    "GB.plot_pop()"
   ]
  },
  {
   "cell_type": "markdown",
   "metadata": {},
   "source": [
    "## Generating the synthetic individuals\n",
    "First let's reduce our geographical base to a single state to simplify our task."
   ]
  },
  {
   "cell_type": "code",
   "execution_count": 11,
   "metadata": {
    "ExecuteTime": {
     "end_time": "2021-03-02T16:28:36.527320Z",
     "start_time": "2021-03-02T16:28:32.011156Z"
    }
   },
   "outputs": [
    {
     "name": "stdout",
     "output_type": "stream",
     "text": [
      "Dowloading the Map...\n",
      "Fetching population data...\n"
     ]
    },
    {
     "name": "stderr",
     "output_type": "stream",
     "text": [
      "/usr/local/lib/python3.8/dist-packages/pysus/demography/geobase.py:72: UserWarning: this is an initial implementation of Parquet/Feather file support and associated metadata.  This is tracking version 0.1.0 of the metadata specification at https://github.com/geopandas/geo-arrow-spec\n",
      "\n",
      "This metadata specification does not yet make stability promises.  We do not yet recommend using this in a production setting unless you are able to rewrite your Parquet/Feather files.\n",
      "\n",
      "To further ignore this warning, you can do: \n",
      "import warnings; warnings.filterwarnings('ignore', message='.*initial implementation of Parquet.*')\n",
      "  self.mapdf.to_parquet(f\"{self.level}_map.parquet\")\n"
     ]
    },
    {
     "data": {
      "text/html": [
       "<div>\n",
       "<style scoped>\n",
       "    .dataframe tbody tr th:only-of-type {\n",
       "        vertical-align: middle;\n",
       "    }\n",
       "\n",
       "    .dataframe tbody tr th {\n",
       "        vertical-align: top;\n",
       "    }\n",
       "\n",
       "    .dataframe thead th {\n",
       "        text-align: right;\n",
       "    }\n",
       "</style>\n",
       "<table border=\"1\" class=\"dataframe\">\n",
       "  <thead>\n",
       "    <tr style=\"text-align: right;\">\n",
       "      <th></th>\n",
       "      <th>code_state</th>\n",
       "      <th>abbrev_state</th>\n",
       "      <th>name_state</th>\n",
       "      <th>code_region</th>\n",
       "      <th>name_region</th>\n",
       "      <th>geometry</th>\n",
       "      <th>population</th>\n",
       "    </tr>\n",
       "  </thead>\n",
       "  <tbody>\n",
       "    <tr>\n",
       "      <th>0</th>\n",
       "      <td>31.0</td>\n",
       "      <td>MG</td>\n",
       "      <td>Minas Gerais</td>\n",
       "      <td>3.0</td>\n",
       "      <td>Sudeste</td>\n",
       "      <td>MULTIPOLYGON (((-41.87545 -20.76487, -41.87338...</td>\n",
       "      <td>2.692211e+07</td>\n",
       "    </tr>\n",
       "  </tbody>\n",
       "</table>\n",
       "</div>"
      ],
      "text/plain": [
       "   code_state abbrev_state    name_state  code_region name_region  \\\n",
       "0        31.0           MG  Minas Gerais          3.0     Sudeste   \n",
       "\n",
       "                                            geometry    population  \n",
       "0  MULTIPOLYGON (((-41.87545 -20.76487, -41.87338...  2.692211e+07  "
      ]
     },
     "execution_count": 11,
     "metadata": {},
     "output_type": "execute_result"
    }
   ],
   "source": [
    "GB = GeoBase(level='State', reset=True)\n",
    "gdf = GB.map('MG')  # Fetch only MG\n",
    "GB.demographics()\n",
    "gdf"
   ]
  },
  {
   "cell_type": "code",
   "execution_count": 12,
   "metadata": {
    "ExecuteTime": {
     "end_time": "2021-03-02T16:29:10.130861Z",
     "start_time": "2021-03-02T16:29:09.891148Z"
    }
   },
   "outputs": [
    {
     "name": "stdout",
     "output_type": "stream",
     "text": [
      "State_map.parquet\r\n"
     ]
    }
   ],
   "source": [
    "!ls *.parquet"
   ]
  },
  {
   "cell_type": "code",
   "execution_count": 13,
   "metadata": {
    "ExecuteTime": {
     "end_time": "2021-03-02T16:29:23.243569Z",
     "start_time": "2021-03-02T16:29:23.037068Z"
    }
   },
   "outputs": [
    {
     "data": {
      "image/png": "[encoded data removed]",
      "text/plain": [
       "<Figure size 432x288 with 1 Axes>"
      ]
     },
     "metadata": {
      "needs_background": "light"
     },
     "output_type": "display_data"
    }
   ],
   "source": [
    "GB.plot_pop()"
   ]
  },
  {
   "cell_type": "markdown",
   "metadata": {},
   "source": [
    "We will synthesize a population $0.05\\%$ the size of the actual population of MG, because this step is very time consuming, but it also gets cached."
   ]
  },
  {
   "cell_type": "code",
   "execution_count": 14,
   "metadata": {
    "ExecuteTime": {
     "end_time": "2021-03-02T16:33:05.112430Z",
     "start_time": "2021-03-02T16:32:21.772161Z"
    }
   },
   "outputs": [
    {
     "name": "stdout",
     "output_type": "stream",
     "text": [
      "Synthetizing 13461 individuals\n",
      "6924 POINT (-43.25835944309186 -15.04259128237882)\n",
      "State_map.parquet  State_pop.parquet\n"
     ]
    },
    {
     "name": "stderr",
     "output_type": "stream",
     "text": [
      "/usr/local/lib/python3.8/dist-packages/pysus/demography/geobase.py:74: UserWarning: this is an initial implementation of Parquet/Feather file support and associated metadata.  This is tracking version 0.1.0 of the metadata specification at https://github.com/geopandas/geo-arrow-spec\n",
      "\n",
      "This metadata specification does not yet make stability promises.  We do not yet recommend using this in a production setting unless you are able to rewrite your Parquet/Feather files.\n",
      "\n",
      "To further ignore this warning, you can do: \n",
      "import warnings; warnings.filterwarnings('ignore', message='.*initial implementation of Parquet.*')\n",
      "  self.pop.to_parquet(f\"{self.level}_pop.parquet\")\n"
     ]
    }
   ],
   "source": [
    "GB.generate_populations(scale=0.0005)\n",
    "!ls *.parquet"
   ]
  },
  {
   "cell_type": "code",
   "execution_count": 15,
   "metadata": {
    "ExecuteTime": {
     "end_time": "2021-03-02T16:34:05.043614Z",
     "start_time": "2021-03-02T16:34:05.011041Z"
    }
   },
   "outputs": [
    {
     "data": {
      "text/html": [
       "<div>\n",
       "<style scoped>\n",
       "    .dataframe tbody tr th:only-of-type {\n",
       "        vertical-align: middle;\n",
       "    }\n",
       "\n",
       "    .dataframe tbody tr th {\n",
       "        vertical-align: top;\n",
       "    }\n",
       "\n",
       "    .dataframe thead th {\n",
       "        text-align: right;\n",
       "    }\n",
       "</style>\n",
       "<table border=\"1\" class=\"dataframe\">\n",
       "  <thead>\n",
       "    <tr style=\"text-align: right;\">\n",
       "      <th></th>\n",
       "      <th>sex</th>\n",
       "      <th>age</th>\n",
       "      <th>geometry</th>\n",
       "      <th>longitude</th>\n",
       "      <th>latitude</th>\n",
       "    </tr>\n",
       "  </thead>\n",
       "  <tbody>\n",
       "    <tr>\n",
       "      <th>0</th>\n",
       "      <td>1</td>\n",
       "      <td>3</td>\n",
       "      <td>POINT (-43.25836 -15.04259)</td>\n",
       "      <td>-43.258359</td>\n",
       "      <td>-15.042591</td>\n",
       "    </tr>\n",
       "    <tr>\n",
       "      <th>1</th>\n",
       "      <td>1</td>\n",
       "      <td>67</td>\n",
       "      <td>POINT (-41.49873 -19.98606)</td>\n",
       "      <td>-41.498729</td>\n",
       "      <td>-19.986055</td>\n",
       "    </tr>\n",
       "    <tr>\n",
       "      <th>2</th>\n",
       "      <td>1</td>\n",
       "      <td>73</td>\n",
       "      <td>POINT (-46.80902 -19.03101)</td>\n",
       "      <td>-46.809017</td>\n",
       "      <td>-19.031014</td>\n",
       "    </tr>\n",
       "    <tr>\n",
       "      <th>3</th>\n",
       "      <td>0</td>\n",
       "      <td>66</td>\n",
       "      <td>POINT (-44.66696 -20.21877)</td>\n",
       "      <td>-44.666958</td>\n",
       "      <td>-20.218772</td>\n",
       "    </tr>\n",
       "    <tr>\n",
       "      <th>4</th>\n",
       "      <td>1</td>\n",
       "      <td>55</td>\n",
       "      <td>POINT (-41.37851 -16.40539)</td>\n",
       "      <td>-41.378514</td>\n",
       "      <td>-16.405387</td>\n",
       "    </tr>\n",
       "    <tr>\n",
       "      <th>...</th>\n",
       "      <td>...</td>\n",
       "      <td>...</td>\n",
       "      <td>...</td>\n",
       "      <td>...</td>\n",
       "      <td>...</td>\n",
       "    </tr>\n",
       "    <tr>\n",
       "      <th>6919</th>\n",
       "      <td>0</td>\n",
       "      <td>75</td>\n",
       "      <td>POINT (-45.30820 -16.25881)</td>\n",
       "      <td>-45.308199</td>\n",
       "      <td>-16.258810</td>\n",
       "    </tr>\n",
       "    <tr>\n",
       "      <th>6920</th>\n",
       "      <td>1</td>\n",
       "      <td>63</td>\n",
       "      <td>POINT (-43.76239 -14.75533)</td>\n",
       "      <td>-43.762389</td>\n",
       "      <td>-14.755328</td>\n",
       "    </tr>\n",
       "    <tr>\n",
       "      <th>6921</th>\n",
       "      <td>1</td>\n",
       "      <td>26</td>\n",
       "      <td>POINT (-45.93665 -19.49463)</td>\n",
       "      <td>-45.936649</td>\n",
       "      <td>-19.494630</td>\n",
       "    </tr>\n",
       "    <tr>\n",
       "      <th>6922</th>\n",
       "      <td>0</td>\n",
       "      <td>28</td>\n",
       "      <td>POINT (-44.78204 -21.19821)</td>\n",
       "      <td>-44.782035</td>\n",
       "      <td>-21.198208</td>\n",
       "    </tr>\n",
       "    <tr>\n",
       "      <th>6923</th>\n",
       "      <td>1</td>\n",
       "      <td>64</td>\n",
       "      <td>POINT (-44.00330 -20.42084)</td>\n",
       "      <td>-44.003301</td>\n",
       "      <td>-20.420845</td>\n",
       "    </tr>\n",
       "  </tbody>\n",
       "</table>\n",
       "<p>6924 rows × 5 columns</p>\n",
       "</div>"
      ],
      "text/plain": [
       "      sex  age                     geometry  longitude   latitude\n",
       "0       1    3  POINT (-43.25836 -15.04259) -43.258359 -15.042591\n",
       "1       1   67  POINT (-41.49873 -19.98606) -41.498729 -19.986055\n",
       "2       1   73  POINT (-46.80902 -19.03101) -46.809017 -19.031014\n",
       "3       0   66  POINT (-44.66696 -20.21877) -44.666958 -20.218772\n",
       "4       1   55  POINT (-41.37851 -16.40539) -41.378514 -16.405387\n",
       "...   ...  ...                          ...        ...        ...\n",
       "6919    0   75  POINT (-45.30820 -16.25881) -45.308199 -16.258810\n",
       "6920    1   63  POINT (-43.76239 -14.75533) -43.762389 -14.755328\n",
       "6921    1   26  POINT (-45.93665 -19.49463) -45.936649 -19.494630\n",
       "6922    0   28  POINT (-44.78204 -21.19821) -44.782035 -21.198208\n",
       "6923    1   64  POINT (-44.00330 -20.42084) -44.003301 -20.420845\n",
       "\n",
       "[6924 rows x 5 columns]"
      ]
     },
     "execution_count": 15,
     "metadata": {},
     "output_type": "execute_result"
    }
   ],
   "source": [
    "GB.pop"
   ]
  },
  {
   "cell_type": "markdown",
   "metadata": {},
   "source": [
    "Finally, we can plot our population, and see how our synthetic is uniformly distributed over the state of MG."
   ]
  },
  {
   "cell_type": "code",
   "execution_count": 16,
   "metadata": {
    "ExecuteTime": {
     "end_time": "2021-03-02T16:34:16.331368Z",
     "start_time": "2021-03-02T16:34:15.824912Z"
    }
   },
   "outputs": [
    {
     "data": {
      "image/png": "[encoded data removed]",
      "text/html": [
       "<img style=\"margin: auto; border:1px solid\" src='data:image/png;base64,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'/>"
      ],
      "text/plain": [
       "<xarray.Image (latitude: 600, longitude: 800)>\n",
       "array([[0, 0, 0, ..., 0, 0, 0],\n",
       "       [0, 0, 0, ..., 0, 0, 0],\n",
       "       [0, 0, 0, ..., 0, 0, 0],\n",
       "       ...,\n",
       "       [0, 0, 0, ..., 0, 0, 0],\n",
       "       [0, 0, 0, ..., 0, 0, 0],\n",
       "       [0, 0, 0, ..., 0, 0, 0]], dtype=uint32)\n",
       "Coordinates:\n",
       "  * longitude  (longitude) float64 -51.01 -50.99 -50.98 ... -39.95 -39.94 -39.92\n",
       "  * latitude   (latitude) float64 -22.87 -22.86 -22.84 ... -14.3 -14.28 -14.27"
      ]
     },
     "execution_count": 16,
     "metadata": {},
     "output_type": "execute_result"
    }
   ],
   "source": [
    "GB.plot_synthetic_pop()"
   ]
  },
  {
   "cell_type": "code",
   "execution_count": null,
   "metadata": {},
   "outputs": [],
   "source": []
  }
 ],
 "metadata": {
  "kernelspec": {
   "display_name": "Python 3",
   "language": "python",
   "name": "python3"
  },
  "language_info": {
   "codemirror_mode": {
    "name": "ipython",
    "version": 3
   },
   "file_extension": ".py",
   "mimetype": "text/x-python",
   "name": "python",
   "nbconvert_exporter": "python",
   "pygments_lexer": "ipython3",
   "version": "3.8.6"
  },
  "latex_envs": {
   "LaTeX_envs_menu_present": true,
   "autoclose": false,
   "autocomplete": true,
   "bibliofile": "biblio.bib",
   "cite_by": "apalike",
   "current_citInitial": 1,
   "eqLabelWithNumbers": true,
   "eqNumInitial": 1,
   "hotkeys": {
    "equation": "Ctrl-E",
    "itemize": "Ctrl-I"
   },
   "labels_anchors": false,
   "latex_user_defs": false,
   "report_style_numbering": false,
   "user_envs_cfg": false
  },
  "toc": {
   "base_numbering": 1,
   "nav_menu": {},
   "number_sections": true,
   "sideBar": true,
   "skip_h1_title": false,
   "title_cell": "Table of Contents",
   "title_sidebar": "Contents",
   "toc_cell": false,
   "toc_position": {},
   "toc_section_display": true,
   "toc_window_display": false
  },
  "varInspector": {
   "cols": {
    "lenName": 16,
    "lenType": 16,
    "lenVar": 40
   },
   "kernels_config": {
    "python": {
     "delete_cmd_postfix": "",
     "delete_cmd_prefix": "del ",
     "library": "var_list.py",
     "varRefreshCmd": "print(var_dic_list())"
    },
    "r": {
     "delete_cmd_postfix": ") ",
     "delete_cmd_prefix": "rm(",
     "library": "var_list.r",
     "varRefreshCmd": "cat(var_dic_list()) "
    }
   },
   "oldHeight": 195.85,
   "position": {
    "height": "217.85px",
    "left": "957px",
    "right": "20px",
    "top": "68px",
    "width": "342px"
   },
   "types_to_exclude": [
    "module",
    "function",
    "builtin_function_or_method",
    "instance",
    "_Feature"
   ],
   "varInspector_section_display": "block",
   "window_display": false
  }
 },
 "nbformat": 4,
 "nbformat_minor": 2
}
