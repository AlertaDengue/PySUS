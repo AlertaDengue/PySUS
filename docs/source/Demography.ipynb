{
 "cells": [
  {
   "cell_type": "code",
   "execution_count": 1,
   "metadata": {
    "ExecuteTime": {
     "end_time": "2021-02-21T23:01:24.465912Z",
     "start_time": "2021-02-21T23:01:19.123469Z"
    }
   },
   "outputs": [
    {
     "name": "stdout",
     "output_type": "stream",
     "text": [
      "Populating the interactive namespace from numpy and matplotlib\n"
     ]
    }
   ],
   "source": [
    "from pysus.demography import geobase\n",
    "from pysus.demography.geobase import GeoBase\n",
    "%pylab inline"
   ]
  },
  {
   "cell_type": "markdown",
   "metadata": {},
   "source": [
    "# Generating Synthetic demographical data with PySUS\n",
    "The package `pysus.demography` includes tools to synthetize population data with the same demographical characteristics as the brazilian population.\n",
    "\n",
    "## Defining the geographical base\n",
    "Building the geographical base can take a while, because we need to download the data from IBGE. The code below pulls the map boundaries."
   ]
  },
  {
   "cell_type": "code",
   "execution_count": 2,
   "metadata": {
    "ExecuteTime": {
     "end_time": "2021-02-21T23:02:31.851273Z",
     "start_time": "2021-02-21T23:01:24.467504Z"
    }
   },
   "outputs": [
    {
     "name": "stdout",
     "output_type": "stream",
     "text": [
      "Loading the Map...\n"
     ]
    },
    {
     "name": "stderr",
     "output_type": "stream",
     "text": [
      "/usr/local/lib/python3.8/dist-packages/geopandas/geodataframe.py:422: RuntimeWarning: Sequential read of iterator was interrupted. Resetting iterator. This can negatively impact the performance.\n",
      "  for feature in features_lst:\n"
     ]
    },
    {
     "data": {
      "text/html": [
       "<div>\n",
       "<style scoped>\n",
       "    .dataframe tbody tr th:only-of-type {\n",
       "        vertical-align: middle;\n",
       "    }\n",
       "\n",
       "    .dataframe tbody tr th {\n",
       "        vertical-align: top;\n",
       "    }\n",
       "\n",
       "    .dataframe thead th {\n",
       "        text-align: right;\n",
       "    }\n",
       "</style>\n",
       "<table border=\"1\" class=\"dataframe\">\n",
       "  <thead>\n",
       "    <tr style=\"text-align: right;\">\n",
       "      <th></th>\n",
       "      <th>code_state</th>\n",
       "      <th>abbrev_state</th>\n",
       "      <th>name_state</th>\n",
       "      <th>code_region</th>\n",
       "      <th>name_region</th>\n",
       "      <th>geometry</th>\n",
       "    </tr>\n",
       "  </thead>\n",
       "  <tbody>\n",
       "    <tr>\n",
       "      <th>0</th>\n",
       "      <td>11.0</td>\n",
       "      <td>RO</td>\n",
       "      <td>Rondônia</td>\n",
       "      <td>1.0</td>\n",
       "      <td>Norte</td>\n",
       "      <td>MULTIPOLYGON (((-63.32721 -7.97672, -62.86662 ...</td>\n",
       "    </tr>\n",
       "    <tr>\n",
       "      <th>1</th>\n",
       "      <td>12.0</td>\n",
       "      <td>AC</td>\n",
       "      <td>Acre</td>\n",
       "      <td>1.0</td>\n",
       "      <td>Norte</td>\n",
       "      <td>MULTIPOLYGON (((-73.18253 -7.33550, -72.58477 ...</td>\n",
       "    </tr>\n",
       "    <tr>\n",
       "      <th>2</th>\n",
       "      <td>13.0</td>\n",
       "      <td>AM</td>\n",
       "      <td>Amazonas</td>\n",
       "      <td>1.0</td>\n",
       "      <td>Norte</td>\n",
       "      <td>MULTIPOLYGON (((-67.32609 2.02971, -67.31682 2...</td>\n",
       "    </tr>\n",
       "    <tr>\n",
       "      <th>3</th>\n",
       "      <td>14.0</td>\n",
       "      <td>RR</td>\n",
       "      <td>Roraima</td>\n",
       "      <td>1.0</td>\n",
       "      <td>Norte</td>\n",
       "      <td>MULTIPOLYGON (((-60.20051 5.26434, -60.19273 5...</td>\n",
       "    </tr>\n",
       "    <tr>\n",
       "      <th>4</th>\n",
       "      <td>15.0</td>\n",
       "      <td>PA</td>\n",
       "      <td>Pará</td>\n",
       "      <td>1.0</td>\n",
       "      <td>Norte</td>\n",
       "      <td>MULTIPOLYGON (((-54.95431 2.58369, -54.93542 2...</td>\n",
       "    </tr>\n",
       "    <tr>\n",
       "      <th>5</th>\n",
       "      <td>16.0</td>\n",
       "      <td>AP</td>\n",
       "      <td>Amapá</td>\n",
       "      <td>1.0</td>\n",
       "      <td>Norte</td>\n",
       "      <td>MULTIPOLYGON (((-51.17970 4.00008, -51.17739 3...</td>\n",
       "    </tr>\n",
       "    <tr>\n",
       "      <th>6</th>\n",
       "      <td>17.0</td>\n",
       "      <td>TO</td>\n",
       "      <td>Tocantins</td>\n",
       "      <td>1.0</td>\n",
       "      <td>Norte</td>\n",
       "      <td>MULTIPOLYGON (((-48.35878 -5.17008, -48.33846 ...</td>\n",
       "    </tr>\n",
       "    <tr>\n",
       "      <th>7</th>\n",
       "      <td>21.0</td>\n",
       "      <td>MA</td>\n",
       "      <td>Maranhão</td>\n",
       "      <td>2.0</td>\n",
       "      <td>Nordeste</td>\n",
       "      <td>MULTIPOLYGON (((-45.84073 -1.04548, -45.84099 ...</td>\n",
       "    </tr>\n",
       "    <tr>\n",
       "      <th>8</th>\n",
       "      <td>22.0</td>\n",
       "      <td>PI</td>\n",
       "      <td>Piauí</td>\n",
       "      <td>2.0</td>\n",
       "      <td>Nordeste</td>\n",
       "      <td>MULTIPOLYGON (((-41.74605 -2.80350, -41.73488 ...</td>\n",
       "    </tr>\n",
       "    <tr>\n",
       "      <th>9</th>\n",
       "      <td>23.0</td>\n",
       "      <td>CE</td>\n",
       "      <td>Ceará</td>\n",
       "      <td>2.0</td>\n",
       "      <td>Nordeste</td>\n",
       "      <td>MULTIPOLYGON (((-41.16703 -4.46736, -41.17757 ...</td>\n",
       "    </tr>\n",
       "    <tr>\n",
       "      <th>10</th>\n",
       "      <td>24.0</td>\n",
       "      <td>RN</td>\n",
       "      <td>Rio Grande Do Norte</td>\n",
       "      <td>2.0</td>\n",
       "      <td>Nordeste</td>\n",
       "      <td>MULTIPOLYGON (((-37.25329 -4.83156, -37.24905 ...</td>\n",
       "    </tr>\n",
       "    <tr>\n",
       "      <th>11</th>\n",
       "      <td>25.0</td>\n",
       "      <td>PB</td>\n",
       "      <td>Paraíba</td>\n",
       "      <td>2.0</td>\n",
       "      <td>Nordeste</td>\n",
       "      <td>MULTIPOLYGON (((-37.22269 -6.04215, -37.21642 ...</td>\n",
       "    </tr>\n",
       "    <tr>\n",
       "      <th>12</th>\n",
       "      <td>26.0</td>\n",
       "      <td>PE</td>\n",
       "      <td>Pernambuco</td>\n",
       "      <td>2.0</td>\n",
       "      <td>Nordeste</td>\n",
       "      <td>MULTIPOLYGON (((-32.39705 -3.83294, -32.39774 ...</td>\n",
       "    </tr>\n",
       "    <tr>\n",
       "      <th>13</th>\n",
       "      <td>27.0</td>\n",
       "      <td>AL</td>\n",
       "      <td>Alagoas</td>\n",
       "      <td>2.0</td>\n",
       "      <td>Nordeste</td>\n",
       "      <td>MULTIPOLYGON (((-35.46753 -8.81744, -35.46430 ...</td>\n",
       "    </tr>\n",
       "    <tr>\n",
       "      <th>14</th>\n",
       "      <td>28.0</td>\n",
       "      <td>SE</td>\n",
       "      <td>Sergipe</td>\n",
       "      <td>2.0</td>\n",
       "      <td>Nordeste</td>\n",
       "      <td>MULTIPOLYGON (((-37.99245 -9.52511, -37.98933 ...</td>\n",
       "    </tr>\n",
       "    <tr>\n",
       "      <th>15</th>\n",
       "      <td>29.0</td>\n",
       "      <td>BA</td>\n",
       "      <td>Bahia</td>\n",
       "      <td>2.0</td>\n",
       "      <td>Nordeste</td>\n",
       "      <td>MULTIPOLYGON (((-39.36446 -8.53785, -39.35681 ...</td>\n",
       "    </tr>\n",
       "    <tr>\n",
       "      <th>16</th>\n",
       "      <td>31.0</td>\n",
       "      <td>MG</td>\n",
       "      <td>Minas Gerais</td>\n",
       "      <td>3.0</td>\n",
       "      <td>Sudeste</td>\n",
       "      <td>MULTIPOLYGON (((-41.87545 -20.76487, -41.87338...</td>\n",
       "    </tr>\n",
       "    <tr>\n",
       "      <th>17</th>\n",
       "      <td>32.0</td>\n",
       "      <td>ES</td>\n",
       "      <td>Espirito Santo</td>\n",
       "      <td>3.0</td>\n",
       "      <td>Sudeste</td>\n",
       "      <td>MULTIPOLYGON (((-41.87545 -20.76487, -41.87920...</td>\n",
       "    </tr>\n",
       "    <tr>\n",
       "      <th>18</th>\n",
       "      <td>33.0</td>\n",
       "      <td>RJ</td>\n",
       "      <td>Rio De Janeiro</td>\n",
       "      <td>3.0</td>\n",
       "      <td>Sudeste</td>\n",
       "      <td>MULTIPOLYGON (((-41.85946 -20.76517, -41.85748...</td>\n",
       "    </tr>\n",
       "    <tr>\n",
       "      <th>19</th>\n",
       "      <td>35.0</td>\n",
       "      <td>SP</td>\n",
       "      <td>São Paulo</td>\n",
       "      <td>3.0</td>\n",
       "      <td>Sudeste</td>\n",
       "      <td>MULTIPOLYGON (((-44.90215 -23.35392, -44.90650...</td>\n",
       "    </tr>\n",
       "    <tr>\n",
       "      <th>20</th>\n",
       "      <td>41.0</td>\n",
       "      <td>PR</td>\n",
       "      <td>Paraná</td>\n",
       "      <td>4.0</td>\n",
       "      <td>Sul</td>\n",
       "      <td>MULTIPOLYGON (((-52.05188 -22.53933, -52.03446...</td>\n",
       "    </tr>\n",
       "    <tr>\n",
       "      <th>21</th>\n",
       "      <td>42.0</td>\n",
       "      <td>SC</td>\n",
       "      <td>Santa Catarina</td>\n",
       "      <td>4.0</td>\n",
       "      <td>Sul</td>\n",
       "      <td>MULTIPOLYGON (((-48.63865 -25.96873, -48.63434...</td>\n",
       "    </tr>\n",
       "    <tr>\n",
       "      <th>22</th>\n",
       "      <td>43.0</td>\n",
       "      <td>RS</td>\n",
       "      <td>Rio Grande Do Sul</td>\n",
       "      <td>4.0</td>\n",
       "      <td>Sul</td>\n",
       "      <td>MULTIPOLYGON (((-51.90486 -27.45935, -51.90129...</td>\n",
       "    </tr>\n",
       "    <tr>\n",
       "      <th>23</th>\n",
       "      <td>50.0</td>\n",
       "      <td>MS</td>\n",
       "      <td>Mato Grosso Do Sul</td>\n",
       "      <td>5.0</td>\n",
       "      <td>Centro Oeste</td>\n",
       "      <td>MULTIPOLYGON (((-56.10370 -17.17354, -56.09692...</td>\n",
       "    </tr>\n",
       "    <tr>\n",
       "      <th>24</th>\n",
       "      <td>51.0</td>\n",
       "      <td>MT</td>\n",
       "      <td>Mato Grosso</td>\n",
       "      <td>5.0</td>\n",
       "      <td>Centro Oeste</td>\n",
       "      <td>MULTIPOLYGON (((-54.89485 -17.62150, -54.89704...</td>\n",
       "    </tr>\n",
       "    <tr>\n",
       "      <th>25</th>\n",
       "      <td>52.0</td>\n",
       "      <td>GO</td>\n",
       "      <td>Goiás</td>\n",
       "      <td>5.0</td>\n",
       "      <td>Centro Oeste</td>\n",
       "      <td>MULTIPOLYGON (((-50.16015 -12.42007, -50.15856...</td>\n",
       "    </tr>\n",
       "    <tr>\n",
       "      <th>26</th>\n",
       "      <td>53.0</td>\n",
       "      <td>DF</td>\n",
       "      <td>Distrito Federal</td>\n",
       "      <td>5.0</td>\n",
       "      <td>Centro Oeste</td>\n",
       "      <td>MULTIPOLYGON (((-47.57461 -15.51341, -47.56997...</td>\n",
       "    </tr>\n",
       "  </tbody>\n",
       "</table>\n",
       "</div>"
      ],
      "text/plain": [
       "    code_state abbrev_state           name_state  code_region   name_region  \\\n",
       "0         11.0           RO             Rondônia          1.0         Norte   \n",
       "1         12.0           AC                 Acre          1.0         Norte   \n",
       "2         13.0           AM             Amazonas          1.0         Norte   \n",
       "3         14.0           RR              Roraima          1.0         Norte   \n",
       "4         15.0           PA                 Pará          1.0         Norte   \n",
       "5         16.0           AP                Amapá          1.0         Norte   \n",
       "6         17.0           TO            Tocantins          1.0         Norte   \n",
       "7         21.0           MA             Maranhão          2.0      Nordeste   \n",
       "8         22.0           PI                Piauí          2.0      Nordeste   \n",
       "9         23.0           CE                Ceará          2.0      Nordeste   \n",
       "10        24.0           RN  Rio Grande Do Norte          2.0      Nordeste   \n",
       "11        25.0           PB              Paraíba          2.0      Nordeste   \n",
       "12        26.0           PE           Pernambuco          2.0      Nordeste   \n",
       "13        27.0           AL              Alagoas          2.0      Nordeste   \n",
       "14        28.0           SE              Sergipe          2.0      Nordeste   \n",
       "15        29.0           BA                Bahia          2.0      Nordeste   \n",
       "16        31.0           MG         Minas Gerais          3.0       Sudeste   \n",
       "17        32.0           ES       Espirito Santo          3.0       Sudeste   \n",
       "18        33.0           RJ       Rio De Janeiro          3.0       Sudeste   \n",
       "19        35.0           SP            São Paulo          3.0       Sudeste   \n",
       "20        41.0           PR               Paraná          4.0           Sul   \n",
       "21        42.0           SC       Santa Catarina          4.0           Sul   \n",
       "22        43.0           RS    Rio Grande Do Sul          4.0           Sul   \n",
       "23        50.0           MS   Mato Grosso Do Sul          5.0  Centro Oeste   \n",
       "24        51.0           MT          Mato Grosso          5.0  Centro Oeste   \n",
       "25        52.0           GO                Goiás          5.0  Centro Oeste   \n",
       "26        53.0           DF     Distrito Federal          5.0  Centro Oeste   \n",
       "\n",
       "                                             geometry  \n",
       "0   MULTIPOLYGON (((-63.32721 -7.97672, -62.86662 ...  \n",
       "1   MULTIPOLYGON (((-73.18253 -7.33550, -72.58477 ...  \n",
       "2   MULTIPOLYGON (((-67.32609 2.02971, -67.31682 2...  \n",
       "3   MULTIPOLYGON (((-60.20051 5.26434, -60.19273 5...  \n",
       "4   MULTIPOLYGON (((-54.95431 2.58369, -54.93542 2...  \n",
       "5   MULTIPOLYGON (((-51.17970 4.00008, -51.17739 3...  \n",
       "6   MULTIPOLYGON (((-48.35878 -5.17008, -48.33846 ...  \n",
       "7   MULTIPOLYGON (((-45.84073 -1.04548, -45.84099 ...  \n",
       "8   MULTIPOLYGON (((-41.74605 -2.80350, -41.73488 ...  \n",
       "9   MULTIPOLYGON (((-41.16703 -4.46736, -41.17757 ...  \n",
       "10  MULTIPOLYGON (((-37.25329 -4.83156, -37.24905 ...  \n",
       "11  MULTIPOLYGON (((-37.22269 -6.04215, -37.21642 ...  \n",
       "12  MULTIPOLYGON (((-32.39705 -3.83294, -32.39774 ...  \n",
       "13  MULTIPOLYGON (((-35.46753 -8.81744, -35.46430 ...  \n",
       "14  MULTIPOLYGON (((-37.99245 -9.52511, -37.98933 ...  \n",
       "15  MULTIPOLYGON (((-39.36446 -8.53785, -39.35681 ...  \n",
       "16  MULTIPOLYGON (((-41.87545 -20.76487, -41.87338...  \n",
       "17  MULTIPOLYGON (((-41.87545 -20.76487, -41.87920...  \n",
       "18  MULTIPOLYGON (((-41.85946 -20.76517, -41.85748...  \n",
       "19  MULTIPOLYGON (((-44.90215 -23.35392, -44.90650...  \n",
       "20  MULTIPOLYGON (((-52.05188 -22.53933, -52.03446...  \n",
       "21  MULTIPOLYGON (((-48.63865 -25.96873, -48.63434...  \n",
       "22  MULTIPOLYGON (((-51.90486 -27.45935, -51.90129...  \n",
       "23  MULTIPOLYGON (((-56.10370 -17.17354, -56.09692...  \n",
       "24  MULTIPOLYGON (((-54.89485 -17.62150, -54.89704...  \n",
       "25  MULTIPOLYGON (((-50.16015 -12.42007, -50.15856...  \n",
       "26  MULTIPOLYGON (((-47.57461 -15.51341, -47.56997...  "
      ]
     },
     "execution_count": 2,
     "metadata": {},
     "output_type": "execute_result"
    }
   ],
   "source": [
    "GB = GeoBase(level='State')\n",
    "gdf = GB.map('all')  # Fetch all states\n",
    "gdf"
   ]
  },
  {
   "cell_type": "markdown",
   "metadata": {},
   "source": [
    "You can define your geographical base on different levels"
   ]
  },
  {
   "cell_type": "code",
   "execution_count": 3,
   "metadata": {
    "ExecuteTime": {
     "end_time": "2021-02-21T23:02:31.855367Z",
     "start_time": "2021-02-21T23:02:31.852961Z"
    }
   },
   "outputs": [
    {
     "name": "stdout",
     "output_type": "stream",
     "text": [
      "dict_keys(['Country', 'Region', 'State', 'Meso region', 'Micro region', 'Immediate region', 'Census weighting area', 'Census tract', 'Municipality', 'Municipality seats', 'Metropolitan areas', 'Urban footprints', \"Brazil's Legal Amazon\", 'Biomes', 'Environmental Conservation Units', 'Disaster risk areas', 'Indigenous lands', 'Semi Arid region', 'Health facilities', 'Health regions', 'Neighborhood limits'])\n"
     ]
    }
   ],
   "source": [
    "print(geobase.LEVELS.keys())"
   ]
  },
  {
   "cell_type": "markdown",
   "metadata": {},
   "source": [
    "PySUS use the `geobr` library to download the maps, thus you can pass aditional parameters to the `map` function depending on the Level you are working at. You can use the `help_fetch_map` method of `GeoBase` to check what parameters are available at the level of you geobase. "
   ]
  },
  {
   "cell_type": "code",
   "execution_count": 4,
   "metadata": {
    "ExecuteTime": {
     "end_time": "2021-02-21T23:02:31.869832Z",
     "start_time": "2021-02-21T23:02:31.856715Z"
    }
   },
   "outputs": [
    {
     "name": "stdout",
     "output_type": "stream",
     "text": [
      "Help on function read_state in module geobr.read_state:\n",
      "\n",
      "read_state(code_state='all', year=2010, simplified=True, verbose=False)\n",
      "    Download shapefiles of Brazilian states as geopandas objects.\n",
      "    \n",
      "     Data at scale 1:250,000, using Geodetic reference system \"SIRGAS2000\" and CRS(4674)\n",
      "    \n",
      "    Parameters\n",
      "    ----------\n",
      "    code_state : str, optional\n",
      "        The two-digit code of a state or a two-letter uppercase abbreviation \n",
      "        (e.g. 33 or \"RJ\"). If code_state=\"all\", all states will be loaded (Default).\n",
      "    year : int, optional\n",
      "        Year of the data, by default 2010\n",
      "    simplified: boolean, by default True\n",
      "        Data 'type', indicating whether the function returns the 'original' dataset \n",
      "        with high resolution or a dataset with 'simplified' borders (Default)\n",
      "    verbose : bool, optional\n",
      "        by default False\n",
      "    \n",
      "    Returns\n",
      "    -------\n",
      "    gpd.GeoDataFrame\n",
      "        Metadata and geopackage of selected states\n",
      "    \n",
      "    Raises\n",
      "    ------\n",
      "    Exception\n",
      "        If parameters are not found or not well defined\n",
      "    \n",
      "    Example\n",
      "    -------\n",
      "    >>> from geobr import read_state\n",
      "    \n",
      "    # Read specific state at a given year\n",
      "    >>> uf = read_state(code_state=12, year=2017)\n",
      "    \n",
      "     # Read specific state at a given year with normal geopackages\n",
      "    >>> uf = read_state(code_state=\"SC\", year=2000, tp='normal')\n",
      "    \n",
      "     # Read all states at a given year\n",
      "    >>> ufs = read_state(code_state=\"all\", year=2010)\n",
      "\n"
     ]
    }
   ],
   "source": [
    "GB.help_fetch_map()"
   ]
  },
  {
   "cell_type": "markdown",
   "metadata": {},
   "source": [
    "## Geting the population data\n",
    "Now we download the population data, and aggregate for each polygon in our geographical base"
   ]
  },
  {
   "cell_type": "code",
   "execution_count": 5,
   "metadata": {
    "ExecuteTime": {
     "end_time": "2021-02-21T23:02:37.773285Z",
     "start_time": "2021-02-21T23:02:31.870921Z"
    }
   },
   "outputs": [
    {
     "name": "stdout",
     "output_type": "stream",
     "text": [
      "Fetching population data...\n"
     ]
    }
   ],
   "source": [
    "GB.demographics()"
   ]
  },
  {
   "cell_type": "code",
   "execution_count": 6,
   "metadata": {
    "ExecuteTime": {
     "end_time": "2021-02-21T23:02:38.079333Z",
     "start_time": "2021-02-21T23:02:37.774541Z"
    }
   },
   "outputs": [
    {
     "data": {
      "image/png": "[encoded data removed]",
      "text/plain": [
       "<Figure size 432x288 with 1 Axes>"
      ]
     },
     "metadata": {
      "needs_background": "light"
     },
     "output_type": "display_data"
    }
   ],
   "source": [
    "GB.plot_pop()"
   ]
  },
  {
   "cell_type": "markdown",
   "metadata": {},
   "source": [
    "## Generating the synthetic individuals\n",
    "First let's reduce our geographical base to a single state to simplify our task."
   ]
  },
  {
   "cell_type": "code",
   "execution_count": 7,
   "metadata": {
    "ExecuteTime": {
     "end_time": "2021-02-21T23:02:42.715607Z",
     "start_time": "2021-02-21T23:02:38.080511Z"
    }
   },
   "outputs": [
    {
     "name": "stdout",
     "output_type": "stream",
     "text": [
      "Loading the Map...\n",
      "Fetching population data...\n"
     ]
    },
    {
     "data": {
      "text/html": [
       "<div>\n",
       "<style scoped>\n",
       "    .dataframe tbody tr th:only-of-type {\n",
       "        vertical-align: middle;\n",
       "    }\n",
       "\n",
       "    .dataframe tbody tr th {\n",
       "        vertical-align: top;\n",
       "    }\n",
       "\n",
       "    .dataframe thead th {\n",
       "        text-align: right;\n",
       "    }\n",
       "</style>\n",
       "<table border=\"1\" class=\"dataframe\">\n",
       "  <thead>\n",
       "    <tr style=\"text-align: right;\">\n",
       "      <th></th>\n",
       "      <th>code_state</th>\n",
       "      <th>abbrev_state</th>\n",
       "      <th>name_state</th>\n",
       "      <th>code_region</th>\n",
       "      <th>name_region</th>\n",
       "      <th>geometry</th>\n",
       "      <th>population</th>\n",
       "    </tr>\n",
       "  </thead>\n",
       "  <tbody>\n",
       "    <tr>\n",
       "      <th>0</th>\n",
       "      <td>31.0</td>\n",
       "      <td>MG</td>\n",
       "      <td>Minas Gerais</td>\n",
       "      <td>3.0</td>\n",
       "      <td>Sudeste</td>\n",
       "      <td>MULTIPOLYGON (((-41.87545 -20.76487, -41.87338...</td>\n",
       "      <td>2.692211e+07</td>\n",
       "    </tr>\n",
       "  </tbody>\n",
       "</table>\n",
       "</div>"
      ],
      "text/plain": [
       "   code_state abbrev_state    name_state  code_region name_region  \\\n",
       "0        31.0           MG  Minas Gerais          3.0     Sudeste   \n",
       "\n",
       "                                            geometry    population  \n",
       "0  MULTIPOLYGON (((-41.87545 -20.76487, -41.87338...  2.692211e+07  "
      ]
     },
     "execution_count": 7,
     "metadata": {},
     "output_type": "execute_result"
    }
   ],
   "source": [
    "GB = GeoBase(level='State')\n",
    "gdf = GB.map('MG')  # Fetch only MG\n",
    "GB.demographics()\n",
    "gdf"
   ]
  },
  {
   "cell_type": "code",
   "execution_count": 8,
   "metadata": {
    "ExecuteTime": {
     "end_time": "2021-02-21T23:02:42.823619Z",
     "start_time": "2021-02-21T23:02:42.717598Z"
    }
   },
   "outputs": [
    {
     "data": {
      "image/png": "[encoded data removed]",
      "text/plain": [
       "<Figure size 432x288 with 1 Axes>"
      ]
     },
     "metadata": {
      "needs_background": "light"
     },
     "output_type": "display_data"
    }
   ],
   "source": [
    "GB.plot_pop()"
   ]
  },
  {
   "cell_type": "markdown",
   "metadata": {},
   "source": [
    "We will synthesize a population $0.05\\%$ the size of the actual population of MG, because this step is very time consuming."
   ]
  },
  {
   "cell_type": "code",
   "execution_count": 9,
   "metadata": {
    "ExecuteTime": {
     "end_time": "2021-02-21T23:03:19.063643Z",
     "start_time": "2021-02-21T23:02:42.825557Z"
    }
   },
   "outputs": [
    {
     "name": "stdout",
     "output_type": "stream",
     "text": [
      "Synthetizing 13461 individuals\n",
      "6901 POINT (-42.81723878069685 -17.68929438524477)\n"
     ]
    }
   ],
   "source": [
    "GB.generate_populations(scale=0.0005)"
   ]
  },
  {
   "cell_type": "code",
   "execution_count": 10,
   "metadata": {
    "ExecuteTime": {
     "end_time": "2021-02-21T23:03:19.082227Z",
     "start_time": "2021-02-21T23:03:19.065403Z"
    }
   },
   "outputs": [
    {
     "data": {
      "text/html": [
       "<div>\n",
       "<style scoped>\n",
       "    .dataframe tbody tr th:only-of-type {\n",
       "        vertical-align: middle;\n",
       "    }\n",
       "\n",
       "    .dataframe tbody tr th {\n",
       "        vertical-align: top;\n",
       "    }\n",
       "\n",
       "    .dataframe thead th {\n",
       "        text-align: right;\n",
       "    }\n",
       "</style>\n",
       "<table border=\"1\" class=\"dataframe\">\n",
       "  <thead>\n",
       "    <tr style=\"text-align: right;\">\n",
       "      <th></th>\n",
       "      <th>sex</th>\n",
       "      <th>age</th>\n",
       "      <th>geometry</th>\n",
       "      <th>longitude</th>\n",
       "      <th>latitude</th>\n",
       "    </tr>\n",
       "  </thead>\n",
       "  <tbody>\n",
       "    <tr>\n",
       "      <th>0</th>\n",
       "      <td>1</td>\n",
       "      <td>42</td>\n",
       "      <td>POINT (-42.81724 -17.68929)</td>\n",
       "      <td>-42.817239</td>\n",
       "      <td>-17.689294</td>\n",
       "    </tr>\n",
       "    <tr>\n",
       "      <th>1</th>\n",
       "      <td>1</td>\n",
       "      <td>21</td>\n",
       "      <td>POINT (-42.75766 -17.06457)</td>\n",
       "      <td>-42.757660</td>\n",
       "      <td>-17.064573</td>\n",
       "    </tr>\n",
       "    <tr>\n",
       "      <th>2</th>\n",
       "      <td>0</td>\n",
       "      <td>38</td>\n",
       "      <td>POINT (-45.02620 -20.30186)</td>\n",
       "      <td>-45.026199</td>\n",
       "      <td>-20.301861</td>\n",
       "    </tr>\n",
       "    <tr>\n",
       "      <th>3</th>\n",
       "      <td>0</td>\n",
       "      <td>17</td>\n",
       "      <td>POINT (-44.77909 -19.19668)</td>\n",
       "      <td>-44.779088</td>\n",
       "      <td>-19.196676</td>\n",
       "    </tr>\n",
       "    <tr>\n",
       "      <th>4</th>\n",
       "      <td>0</td>\n",
       "      <td>7</td>\n",
       "      <td>POINT (-42.23332 -17.08750)</td>\n",
       "      <td>-42.233317</td>\n",
       "      <td>-17.087502</td>\n",
       "    </tr>\n",
       "    <tr>\n",
       "      <th>...</th>\n",
       "      <td>...</td>\n",
       "      <td>...</td>\n",
       "      <td>...</td>\n",
       "      <td>...</td>\n",
       "      <td>...</td>\n",
       "    </tr>\n",
       "    <tr>\n",
       "      <th>6896</th>\n",
       "      <td>1</td>\n",
       "      <td>24</td>\n",
       "      <td>POINT (-41.32128 -19.13660)</td>\n",
       "      <td>-41.321285</td>\n",
       "      <td>-19.136600</td>\n",
       "    </tr>\n",
       "    <tr>\n",
       "      <th>6897</th>\n",
       "      <td>1</td>\n",
       "      <td>4</td>\n",
       "      <td>POINT (-43.18249 -20.73437)</td>\n",
       "      <td>-43.182492</td>\n",
       "      <td>-20.734369</td>\n",
       "    </tr>\n",
       "    <tr>\n",
       "      <th>6898</th>\n",
       "      <td>0</td>\n",
       "      <td>74</td>\n",
       "      <td>POINT (-44.77175 -15.92383)</td>\n",
       "      <td>-44.771748</td>\n",
       "      <td>-15.923834</td>\n",
       "    </tr>\n",
       "    <tr>\n",
       "      <th>6899</th>\n",
       "      <td>1</td>\n",
       "      <td>87</td>\n",
       "      <td>POINT (-43.46758 -21.64484)</td>\n",
       "      <td>-43.467583</td>\n",
       "      <td>-21.644835</td>\n",
       "    </tr>\n",
       "    <tr>\n",
       "      <th>6900</th>\n",
       "      <td>1</td>\n",
       "      <td>8</td>\n",
       "      <td>POINT (-43.17485 -20.88243)</td>\n",
       "      <td>-43.174846</td>\n",
       "      <td>-20.882432</td>\n",
       "    </tr>\n",
       "  </tbody>\n",
       "</table>\n",
       "<p>6901 rows × 5 columns</p>\n",
       "</div>"
      ],
      "text/plain": [
       "      sex  age                     geometry  longitude   latitude\n",
       "0       1   42  POINT (-42.81724 -17.68929) -42.817239 -17.689294\n",
       "1       1   21  POINT (-42.75766 -17.06457) -42.757660 -17.064573\n",
       "2       0   38  POINT (-45.02620 -20.30186) -45.026199 -20.301861\n",
       "3       0   17  POINT (-44.77909 -19.19668) -44.779088 -19.196676\n",
       "4       0    7  POINT (-42.23332 -17.08750) -42.233317 -17.087502\n",
       "...   ...  ...                          ...        ...        ...\n",
       "6896    1   24  POINT (-41.32128 -19.13660) -41.321285 -19.136600\n",
       "6897    1    4  POINT (-43.18249 -20.73437) -43.182492 -20.734369\n",
       "6898    0   74  POINT (-44.77175 -15.92383) -44.771748 -15.923834\n",
       "6899    1   87  POINT (-43.46758 -21.64484) -43.467583 -21.644835\n",
       "6900    1    8  POINT (-43.17485 -20.88243) -43.174846 -20.882432\n",
       "\n",
       "[6901 rows x 5 columns]"
      ]
     },
     "execution_count": 10,
     "metadata": {},
     "output_type": "execute_result"
    }
   ],
   "source": [
    "GB.pop"
   ]
  },
  {
   "cell_type": "markdown",
   "metadata": {},
   "source": [
    "Finally, we can plot our population, and see how our synthetic is uniformly distributed over the state of MG."
   ]
  },
  {
   "cell_type": "code",
   "execution_count": 11,
   "metadata": {
    "ExecuteTime": {
     "end_time": "2021-02-21T23:03:19.635921Z",
     "start_time": "2021-02-21T23:03:19.083596Z"
    }
   },
   "outputs": [
    {
     "data": {
      "image/png": "[encoded data removed]",
      "text/html": [
       "<img style=\"margin: auto; border:1px solid\" src='data:image/png;base64,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'/>"
      ],
      "text/plain": [
       "<xarray.Image (latitude: 600, longitude: 800)>\n",
       "array([[0, 0, 0, ..., 0, 0, 0],\n",
       "       [0, 0, 0, ..., 0, 0, 0],\n",
       "       [0, 0, 0, ..., 0, 0, 0],\n",
       "       ...,\n",
       "       [0, 0, 0, ..., 0, 0, 0],\n",
       "       [0, 0, 0, ..., 0, 0, 0],\n",
       "       [0, 0, 0, ..., 0, 0, 0]], dtype=uint32)\n",
       "Coordinates:\n",
       "  * longitude  (longitude) float64 -51.0 -50.99 -50.98 ... -39.93 -39.92 -39.9\n",
       "  * latitude   (latitude) float64 -22.85 -22.83 -22.82 ... -14.31 -14.3 -14.29"
      ]
     },
     "execution_count": 11,
     "metadata": {},
     "output_type": "execute_result"
    }
   ],
   "source": [
    "GB.plot_synthetic_pop()"
   ]
  },
  {
   "cell_type": "code",
   "execution_count": null,
   "metadata": {},
   "outputs": [],
   "source": []
  }
 ],
 "metadata": {
  "kernelspec": {
   "display_name": "Python 3",
   "language": "python",
   "name": "python3"
  },
  "language_info": {
   "codemirror_mode": {
    "name": "ipython",
    "version": 3
   },
   "file_extension": ".py",
   "mimetype": "text/x-python",
   "name": "python",
   "nbconvert_exporter": "python",
   "pygments_lexer": "ipython3",
   "version": "3.8.6"
  },
  "latex_envs": {
   "LaTeX_envs_menu_present": true,
   "autoclose": false,
   "autocomplete": true,
   "bibliofile": "biblio.bib",
   "cite_by": "apalike",
   "current_citInitial": 1,
   "eqLabelWithNumbers": true,
   "eqNumInitial": 1,
   "hotkeys": {
    "equation": "Ctrl-E",
    "itemize": "Ctrl-I"
   },
   "labels_anchors": false,
   "latex_user_defs": false,
   "report_style_numbering": false,
   "user_envs_cfg": false
  },
  "toc": {
   "base_numbering": 1,
   "nav_menu": {},
   "number_sections": true,
   "sideBar": true,
   "skip_h1_title": false,
   "title_cell": "Table of Contents",
   "title_sidebar": "Contents",
   "toc_cell": false,
   "toc_position": {},
   "toc_section_display": true,
   "toc_window_display": false
  },
  "varInspector": {
   "cols": {
    "lenName": 16,
    "lenType": 16,
    "lenVar": 40
   },
   "kernels_config": {
    "python": {
     "delete_cmd_postfix": "",
     "delete_cmd_prefix": "del ",
     "library": "var_list.py",
     "varRefreshCmd": "print(var_dic_list())"
    },
    "r": {
     "delete_cmd_postfix": ") ",
     "delete_cmd_prefix": "rm(",
     "library": "var_list.r",
     "varRefreshCmd": "cat(var_dic_list()) "
    }
   },
   "oldHeight": 195.85,
   "position": {
    "height": "217.85px",
    "left": "957px",
    "right": "20px",
    "top": "68px",
    "width": "342px"
   },
   "types_to_exclude": [
    "module",
    "function",
    "builtin_function_or_method",
    "instance",
    "_Feature"
   ],
   "varInspector_section_display": "block",
   "window_display": false
  }
 },
 "nbformat": 4,
 "nbformat_minor": 2
}
