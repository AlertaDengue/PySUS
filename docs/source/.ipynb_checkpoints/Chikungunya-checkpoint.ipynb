{
 "cells": [
  {
   "cell_type": "markdown",
   "metadata": {},
   "source": [
    "# Analyzing Chikungunya data"
   ]
  },
  {
   "cell_type": "code",
   "execution_count": 1,
   "metadata": {},
   "outputs": [
    {
     "name": "stdout",
     "output_type": "stream",
     "text": [
      "Populating the interactive namespace from numpy and matplotlib\n"
     ]
    }
   ],
   "source": [
    "import pandas as pd\n",
    "import folium\n",
    "from folium.plugins import MarkerCluster\n",
    "import seaborn as sns\n",
    "%pylab inline"
   ]
  },
  {
   "cell_type": "code",
   "execution_count": 2,
   "metadata": {},
   "outputs": [
    {
     "name": "stderr",
     "output_type": "stream",
     "text": [
      "/usr/local/lib/python3.5/dist-packages/IPython/core/interactiveshell.py:2717: DtypeWarning: Columns (42,43,44,45) have mixed types. Specify dtype option on import or set low_memory=False.\n",
      "  interactivity=interactivity, compiler=compiler, result=result)\n"
     ]
    }
   ],
   "source": [
    "casos = pd.read_csv('https://info.dengue.mat.br/dumps/Mosquito.Borne.Disease.tar.gz',compression='gzip',header=0, index_col=0)"
   ]
  },
  {
   "cell_type": "code",
   "execution_count": 6,
   "metadata": {},
   "outputs": [
    {
     "data": {
      "text/html": [
       "<div>\n",
       "<table border=\"1\" class=\"dataframe\">\n",
       "  <thead>\n",
       "    <tr style=\"text-align: right;\">\n",
       "      <th></th>\n",
       "      <th>ID_AGRAVO</th>\n",
       "      <th>DT_NOTIFIC</th>\n",
       "      <th>SEM_NOT</th>\n",
       "      <th>NU_ANO</th>\n",
       "      <th>SG_UF_NOT</th>\n",
       "      <th>ID_MUNICIP</th>\n",
       "      <th>ID_REGIONA</th>\n",
       "      <th>ID_UNIDADE</th>\n",
       "      <th>DT_SIN_PRI</th>\n",
       "      <th>SEM_PRI</th>\n",
       "      <th>...</th>\n",
       "      <th>NU_LOTE_V</th>\n",
       "      <th>NU_LOTE_H</th>\n",
       "      <th>CS_FLXRET</th>\n",
       "      <th>FLXRECEBI</th>\n",
       "      <th>IDENT_MICR</th>\n",
       "      <th>MIGRADO_W</th>\n",
       "      <th>TP_SISTEMA</th>\n",
       "      <th>latitude</th>\n",
       "      <th>longitude</th>\n",
       "      <th>NM_DISEASE</th>\n",
       "    </tr>\n",
       "    <tr>\n",
       "      <th>Mosquito.Borne.Disease.csv</th>\n",
       "      <th></th>\n",
       "      <th></th>\n",
       "      <th></th>\n",
       "      <th></th>\n",
       "      <th></th>\n",
       "      <th></th>\n",
       "      <th></th>\n",
       "      <th></th>\n",
       "      <th></th>\n",
       "      <th></th>\n",
       "      <th></th>\n",
       "      <th></th>\n",
       "      <th></th>\n",
       "      <th></th>\n",
       "      <th></th>\n",
       "      <th></th>\n",
       "      <th></th>\n",
       "      <th></th>\n",
       "      <th></th>\n",
       "      <th></th>\n",
       "      <th></th>\n",
       "    </tr>\n",
       "  </thead>\n",
       "  <tbody>\n",
       "    <tr>\n",
       "      <th>95955.0</th>\n",
       "      <td>A920</td>\n",
       "      <td>2015-01-07</td>\n",
       "      <td>1.0</td>\n",
       "      <td>2015.0</td>\n",
       "      <td>33.0</td>\n",
       "      <td>330455.0</td>\n",
       "      <td>NaN</td>\n",
       "      <td>2288338.0</td>\n",
       "      <td>2015-01-01</td>\n",
       "      <td>53.0</td>\n",
       "      <td>...</td>\n",
       "      <td>2015006.0</td>\n",
       "      <td>NaN</td>\n",
       "      <td>1.0</td>\n",
       "      <td>2.0</td>\n",
       "      <td>3.304550e+10</td>\n",
       "      <td>NaN</td>\n",
       "      <td>NaN</td>\n",
       "      <td>-22.89797</td>\n",
       "      <td>-43.12758</td>\n",
       "      <td>Chikungunya</td>\n",
       "    </tr>\n",
       "    <tr>\n",
       "      <th>95956.0</th>\n",
       "      <td>A920</td>\n",
       "      <td>2015-01-07</td>\n",
       "      <td>1.0</td>\n",
       "      <td>2015.0</td>\n",
       "      <td>33.0</td>\n",
       "      <td>330455.0</td>\n",
       "      <td>NaN</td>\n",
       "      <td>2288338.0</td>\n",
       "      <td>2014-12-26</td>\n",
       "      <td>52.0</td>\n",
       "      <td>...</td>\n",
       "      <td>2015006.0</td>\n",
       "      <td>NaN</td>\n",
       "      <td>1.0</td>\n",
       "      <td>2.0</td>\n",
       "      <td>3.304550e+10</td>\n",
       "      <td>NaN</td>\n",
       "      <td>NaN</td>\n",
       "      <td>-22.89797</td>\n",
       "      <td>-43.12758</td>\n",
       "      <td>Chikungunya</td>\n",
       "    </tr>\n",
       "    <tr>\n",
       "      <th>95957.0</th>\n",
       "      <td>A920</td>\n",
       "      <td>2015-02-09</td>\n",
       "      <td>6.0</td>\n",
       "      <td>2015.0</td>\n",
       "      <td>33.0</td>\n",
       "      <td>330455.0</td>\n",
       "      <td>NaN</td>\n",
       "      <td>2708434.0</td>\n",
       "      <td>2015-02-04</td>\n",
       "      <td>5.0</td>\n",
       "      <td>...</td>\n",
       "      <td>2015015.0</td>\n",
       "      <td>NaN</td>\n",
       "      <td>0.0</td>\n",
       "      <td>2.0</td>\n",
       "      <td>3.304550e+10</td>\n",
       "      <td>NaN</td>\n",
       "      <td>NaN</td>\n",
       "      <td>-22.93488</td>\n",
       "      <td>-43.17785</td>\n",
       "      <td>Chikungunya</td>\n",
       "    </tr>\n",
       "    <tr>\n",
       "      <th>95958.0</th>\n",
       "      <td>A920</td>\n",
       "      <td>2015-02-12</td>\n",
       "      <td>6.0</td>\n",
       "      <td>2015.0</td>\n",
       "      <td>33.0</td>\n",
       "      <td>330455.0</td>\n",
       "      <td>NaN</td>\n",
       "      <td>2288338.0</td>\n",
       "      <td>2015-01-23</td>\n",
       "      <td>3.0</td>\n",
       "      <td>...</td>\n",
       "      <td>2015016.0</td>\n",
       "      <td>NaN</td>\n",
       "      <td>0.0</td>\n",
       "      <td>2.0</td>\n",
       "      <td>3.304550e+10</td>\n",
       "      <td>NaN</td>\n",
       "      <td>NaN</td>\n",
       "      <td>-22.89733</td>\n",
       "      <td>-43.25526</td>\n",
       "      <td>Chikungunya</td>\n",
       "    </tr>\n",
       "    <tr>\n",
       "      <th>95959.0</th>\n",
       "      <td>A920</td>\n",
       "      <td>2015-01-23</td>\n",
       "      <td>3.0</td>\n",
       "      <td>2015.0</td>\n",
       "      <td>33.0</td>\n",
       "      <td>330455.0</td>\n",
       "      <td>NaN</td>\n",
       "      <td>2288370.0</td>\n",
       "      <td>2014-12-25</td>\n",
       "      <td>52.0</td>\n",
       "      <td>...</td>\n",
       "      <td>2015015.0</td>\n",
       "      <td>NaN</td>\n",
       "      <td>0.0</td>\n",
       "      <td>2.0</td>\n",
       "      <td>3.304550e+10</td>\n",
       "      <td>NaN</td>\n",
       "      <td>NaN</td>\n",
       "      <td>-22.95167</td>\n",
       "      <td>-43.17700</td>\n",
       "      <td>Chikungunya</td>\n",
       "    </tr>\n",
       "  </tbody>\n",
       "</table>\n",
       "<p>5 rows × 55 columns</p>\n",
       "</div>"
      ],
      "text/plain": [
       "                           ID_AGRAVO  DT_NOTIFIC  SEM_NOT  NU_ANO  SG_UF_NOT  \\\n",
       "Mosquito.Borne.Disease.csv                                                     \n",
       "95955.0                         A920  2015-01-07      1.0  2015.0       33.0   \n",
       "95956.0                         A920  2015-01-07      1.0  2015.0       33.0   \n",
       "95957.0                         A920  2015-02-09      6.0  2015.0       33.0   \n",
       "95958.0                         A920  2015-02-12      6.0  2015.0       33.0   \n",
       "95959.0                         A920  2015-01-23      3.0  2015.0       33.0   \n",
       "\n",
       "                            ID_MUNICIP  ID_REGIONA  ID_UNIDADE  DT_SIN_PRI  \\\n",
       "Mosquito.Borne.Disease.csv                                                   \n",
       "95955.0                       330455.0         NaN   2288338.0  2015-01-01   \n",
       "95956.0                       330455.0         NaN   2288338.0  2014-12-26   \n",
       "95957.0                       330455.0         NaN   2708434.0  2015-02-04   \n",
       "95958.0                       330455.0         NaN   2288338.0  2015-01-23   \n",
       "95959.0                       330455.0         NaN   2288370.0  2014-12-25   \n",
       "\n",
       "                            SEM_PRI     ...       NU_LOTE_V  NU_LOTE_H  \\\n",
       "Mosquito.Borne.Disease.csv              ...                              \n",
       "95955.0                        53.0     ...       2015006.0        NaN   \n",
       "95956.0                        52.0     ...       2015006.0        NaN   \n",
       "95957.0                         5.0     ...       2015015.0        NaN   \n",
       "95958.0                         3.0     ...       2015016.0        NaN   \n",
       "95959.0                        52.0     ...       2015015.0        NaN   \n",
       "\n",
       "                           CS_FLXRET  FLXRECEBI    IDENT_MICR  MIGRADO_W  \\\n",
       "Mosquito.Borne.Disease.csv                                                 \n",
       "95955.0                          1.0        2.0  3.304550e+10        NaN   \n",
       "95956.0                          1.0        2.0  3.304550e+10        NaN   \n",
       "95957.0                          0.0        2.0  3.304550e+10        NaN   \n",
       "95958.0                          0.0        2.0  3.304550e+10        NaN   \n",
       "95959.0                          0.0        2.0  3.304550e+10        NaN   \n",
       "\n",
       "                            TP_SISTEMA  latitude  longitude   NM_DISEASE  \n",
       "Mosquito.Borne.Disease.csv                                                \n",
       "95955.0                            NaN -22.89797  -43.12758  Chikungunya  \n",
       "95956.0                            NaN -22.89797  -43.12758  Chikungunya  \n",
       "95957.0                            NaN -22.93488  -43.17785  Chikungunya  \n",
       "95958.0                            NaN -22.89733  -43.25526  Chikungunya  \n",
       "95959.0                            NaN -22.95167  -43.17700  Chikungunya  \n",
       "\n",
       "[5 rows x 55 columns]"
      ]
     },
     "execution_count": 6,
     "metadata": {},
     "output_type": "execute_result"
    }
   ],
   "source": [
    "casos = casos[casos.ID_AGRAVO=='A920']\n",
    "\n",
    "casos.head()"
   ]
  },
  {
   "cell_type": "code",
   "execution_count": 9,
   "metadata": {},
   "outputs": [],
   "source": [
    "casos.DT_NOTIFIC = pd.to_datetime(casos.DT_NOTIFIC)"
   ]
  },
  {
   "cell_type": "code",
   "execution_count": 10,
   "metadata": {
    "collapsed": true
   },
   "outputs": [],
   "source": [
    "casos = casos.set_index('DT_NOTIFIC')"
   ]
  },
  {
   "cell_type": "code",
   "execution_count": 11,
   "metadata": {},
   "outputs": [
    {
     "data": {
      "image/png": "[encoded data removed]",
      "text/plain": [
       "<matplotlib.figure.Figure at 0x7f8a32864ef0>"
      ]
     },
     "metadata": {},
     "output_type": "display_data"
    }
   ],
   "source": [
    "casos.ID_AGRAVO.resample('1W').count().plot();"
   ]
  },
  {
   "cell_type": "code",
   "execution_count": null,
   "metadata": {
    "collapsed": true
   },
   "outputs": [],
   "source": []
  }
 ],
 "metadata": {
  "kernelspec": {
   "display_name": "Python 3",
   "language": "python",
   "name": "python3"
  },
  "language_info": {
   "codemirror_mode": {
    "name": "ipython",
    "version": 3
   },
   "file_extension": ".py",
   "mimetype": "text/x-python",
   "name": "python",
   "nbconvert_exporter": "python",
   "pygments_lexer": "ipython3",
   "version": "3.5.2"
  }
 },
 "nbformat": 4,
 "nbformat_minor": 1
}
