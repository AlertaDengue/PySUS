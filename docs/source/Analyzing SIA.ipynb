{
 "cells": [
  {
   "cell_type": "code",
   "execution_count": 6,
   "metadata": {},
   "outputs": [],
   "source": [
    "from pysus.online_data.SIA import download, show_datatypes\n",
    "from pysus.online_data import parquets_to_dataframe"
   ]
  },
  {
   "cell_type": "code",
   "execution_count": 7,
   "metadata": {},
   "outputs": [],
   "source": [
    "%matplotlib inline"
   ]
  },
  {
   "cell_type": "markdown",
   "metadata": {
    "collapsed": false,
    "pycharm": {
     "name": "#%% md\n"
    }
   },
   "source": [
    "## Dataset types\n",
    "The SIA Information system contains multiple types of datasets we can download with PySUS. These are:\n"
   ]
  },
  {
   "cell_type": "code",
   "execution_count": 8,
   "metadata": {
    "collapsed": false,
    "pycharm": {
     "name": "#%%\n"
    }
   },
   "outputs": [
    {
     "name": "stdout",
     "output_type": "stream",
     "text": [
      "{'AB': ('APAC de Cirurgia Bariátrica', 1, 2008),\n",
      " 'ACF': ('APAC de Confecção de Fístula', 1, 2008),\n",
      " 'AD': ('APAC de Laudos Diversos', 1, 2008),\n",
      " 'AM': ('APAC de Medicamentos', 1, 2008),\n",
      " 'AMP': ('APAC de Acompanhamento Multiprofissional', 1, 2008),\n",
      " 'AN': ('APAC de Nefrologia', 1, 2008),\n",
      " 'AQ': ('APAC de Quimioterapia', 1, 2008),\n",
      " 'AR': ('APAC de Radioterapia', 1, 2008),\n",
      " 'ATD': ('APAC de Tratamento Dialítico', 1, 2008),\n",
      " 'BI': ('Boletim de Produção Ambulatorial individualizado', 1, 2008),\n",
      " 'PA': ('Produção Ambulatorial', 7, 1994),\n",
      " 'PS': ('RAAS Psicossocial', 1, 2008),\n",
      " 'SAD': ('RAAS de Atenção Domiciliar', 1, 2008)}\n"
     ]
    }
   ],
   "source": [
    "show_datatypes()"
   ]
  },
  {
   "cell_type": "code",
   "execution_count": 9,
   "metadata": {
    "execution": {
     "timeout": 600
    },
    "pycharm": {
     "is_executing": true
    }
   },
   "outputs": [],
   "source": [
    "SPa = download('SP', 2020, 12, group='PA')[0] # Some large datasets are split in more than one DBC\n",
    "dfSPa = parquets_to_dataframe(SPa)"
   ]
  },
  {
   "cell_type": "code",
   "execution_count": 8,
   "metadata": {},
   "outputs": [
    {
     "data": {
      "text/html": [
       "<div>\n",
       "<style scoped>\n",
       "    .dataframe tbody tr th:only-of-type {\n",
       "        vertical-align: middle;\n",
       "    }\n",
       "\n",
       "    .dataframe tbody tr th {\n",
       "        vertical-align: top;\n",
       "    }\n",
       "\n",
       "    .dataframe thead th {\n",
       "        text-align: right;\n",
       "    }\n",
       "</style>\n",
       "<table border=\"1\" class=\"dataframe\">\n",
       "  <thead>\n",
       "    <tr style=\"text-align: right;\">\n",
       "      <th></th>\n",
       "      <th>PA_CODUNI</th>\n",
       "      <th>PA_GESTAO</th>\n",
       "      <th>PA_CONDIC</th>\n",
       "      <th>PA_UFMUN</th>\n",
       "      <th>PA_REGCT</th>\n",
       "      <th>PA_INCOUT</th>\n",
       "      <th>PA_INCURG</th>\n",
       "      <th>PA_TPUPS</th>\n",
       "      <th>PA_TIPPRE</th>\n",
       "      <th>PA_MN_IND</th>\n",
       "      <th>...</th>\n",
       "      <th>PA_CODOCO</th>\n",
       "      <th>PA_FLQT</th>\n",
       "      <th>PA_FLER</th>\n",
       "      <th>PA_ETNIA</th>\n",
       "      <th>PA_VL_CF</th>\n",
       "      <th>PA_VL_CL</th>\n",
       "      <th>PA_VL_INC</th>\n",
       "      <th>PA_SRV_C</th>\n",
       "      <th>PA_INE</th>\n",
       "      <th>PA_NAT_JUR</th>\n",
       "    </tr>\n",
       "  </thead>\n",
       "  <tbody>\n",
       "    <tr>\n",
       "      <th>0</th>\n",
       "      <td>2076802</td>\n",
       "      <td>350000</td>\n",
       "      <td>EP</td>\n",
       "      <td>354910</td>\n",
       "      <td>0000</td>\n",
       "      <td>0000</td>\n",
       "      <td>0000</td>\n",
       "      <td>36</td>\n",
       "      <td>00</td>\n",
       "      <td>M</td>\n",
       "      <td>...</td>\n",
       "      <td>1</td>\n",
       "      <td>K</td>\n",
       "      <td>0</td>\n",
       "      <td></td>\n",
       "      <td>0.00</td>\n",
       "      <td>0.00</td>\n",
       "      <td>0.00</td>\n",
       "      <td>125001</td>\n",
       "      <td></td>\n",
       "      <td>1023</td>\n",
       "    </tr>\n",
       "    <tr>\n",
       "      <th>1</th>\n",
       "      <td>2076802</td>\n",
       "      <td>350000</td>\n",
       "      <td>EP</td>\n",
       "      <td>354910</td>\n",
       "      <td>0000</td>\n",
       "      <td>0000</td>\n",
       "      <td>0000</td>\n",
       "      <td>36</td>\n",
       "      <td>00</td>\n",
       "      <td>M</td>\n",
       "      <td>...</td>\n",
       "      <td>1</td>\n",
       "      <td>K</td>\n",
       "      <td>0</td>\n",
       "      <td></td>\n",
       "      <td>0.00</td>\n",
       "      <td>0.00</td>\n",
       "      <td>0.00</td>\n",
       "      <td>125001</td>\n",
       "      <td></td>\n",
       "      <td>1023</td>\n",
       "    </tr>\n",
       "    <tr>\n",
       "      <th>2</th>\n",
       "      <td>2076802</td>\n",
       "      <td>350000</td>\n",
       "      <td>EP</td>\n",
       "      <td>354910</td>\n",
       "      <td>0000</td>\n",
       "      <td>0000</td>\n",
       "      <td>0000</td>\n",
       "      <td>36</td>\n",
       "      <td>00</td>\n",
       "      <td>M</td>\n",
       "      <td>...</td>\n",
       "      <td>1</td>\n",
       "      <td>K</td>\n",
       "      <td>0</td>\n",
       "      <td></td>\n",
       "      <td>0.00</td>\n",
       "      <td>0.00</td>\n",
       "      <td>0.00</td>\n",
       "      <td>125001</td>\n",
       "      <td></td>\n",
       "      <td>1023</td>\n",
       "    </tr>\n",
       "    <tr>\n",
       "      <th>3</th>\n",
       "      <td>2076802</td>\n",
       "      <td>350000</td>\n",
       "      <td>EP</td>\n",
       "      <td>354910</td>\n",
       "      <td>0000</td>\n",
       "      <td>0000</td>\n",
       "      <td>0000</td>\n",
       "      <td>36</td>\n",
       "      <td>00</td>\n",
       "      <td>M</td>\n",
       "      <td>...</td>\n",
       "      <td>1</td>\n",
       "      <td>K</td>\n",
       "      <td>0</td>\n",
       "      <td></td>\n",
       "      <td>0.00</td>\n",
       "      <td>0.00</td>\n",
       "      <td>0.00</td>\n",
       "      <td>125001</td>\n",
       "      <td></td>\n",
       "      <td>1023</td>\n",
       "    </tr>\n",
       "    <tr>\n",
       "      <th>4</th>\n",
       "      <td>2076802</td>\n",
       "      <td>350000</td>\n",
       "      <td>EP</td>\n",
       "      <td>354910</td>\n",
       "      <td>0000</td>\n",
       "      <td>0000</td>\n",
       "      <td>0000</td>\n",
       "      <td>36</td>\n",
       "      <td>00</td>\n",
       "      <td>M</td>\n",
       "      <td>...</td>\n",
       "      <td>1</td>\n",
       "      <td>K</td>\n",
       "      <td>0</td>\n",
       "      <td></td>\n",
       "      <td>0.00</td>\n",
       "      <td>0.00</td>\n",
       "      <td>0.00</td>\n",
       "      <td>125001</td>\n",
       "      <td></td>\n",
       "      <td>1023</td>\n",
       "    </tr>\n",
       "  </tbody>\n",
       "</table>\n",
       "<p>5 rows × 60 columns</p>\n",
       "</div>"
      ],
      "text/plain": [
       "  PA_CODUNI PA_GESTAO PA_CONDIC PA_UFMUN PA_REGCT PA_INCOUT PA_INCURG  \\\n",
       "0   2076802    350000        EP   354910     0000      0000      0000   \n",
       "1   2076802    350000        EP   354910     0000      0000      0000   \n",
       "2   2076802    350000        EP   354910     0000      0000      0000   \n",
       "3   2076802    350000        EP   354910     0000      0000      0000   \n",
       "4   2076802    350000        EP   354910     0000      0000      0000   \n",
       "\n",
       "  PA_TPUPS PA_TIPPRE PA_MN_IND  ... PA_CODOCO PA_FLQT PA_FLER PA_ETNIA  \\\n",
       "0       36        00         M  ...         1       K       0            \n",
       "1       36        00         M  ...         1       K       0            \n",
       "2       36        00         M  ...         1       K       0            \n",
       "3       36        00         M  ...         1       K       0            \n",
       "4       36        00         M  ...         1       K       0            \n",
       "\n",
       "               PA_VL_CF              PA_VL_CL             PA_VL_INC PA_SRV_C  \\\n",
       "0                  0.00                  0.00                  0.00   125001   \n",
       "1                  0.00                  0.00                  0.00   125001   \n",
       "2                  0.00                  0.00                  0.00   125001   \n",
       "3                  0.00                  0.00                  0.00   125001   \n",
       "4                  0.00                  0.00                  0.00   125001   \n",
       "\n",
       "  PA_INE PA_NAT_JUR  \n",
       "0              1023  \n",
       "1              1023  \n",
       "2              1023  \n",
       "3              1023  \n",
       "4              1023  \n",
       "\n",
       "[5 rows x 60 columns]"
      ]
     },
     "execution_count": 8,
     "metadata": {},
     "output_type": "execute_result"
    }
   ],
   "source": [
    "dfSPa.head()"
   ]
  },
  {
   "cell_type": "markdown",
   "metadata": {},
   "source": [
    "import pysus"
   ]
  }
 ],
 "metadata": {
  "kernelspec": {
   "display_name": "pysus",
   "language": "python",
   "name": "python3"
  },
  "language_info": {
   "codemirror_mode": {
    "name": "ipython",
    "version": 3
   },
   "file_extension": ".py",
   "mimetype": "text/x-python",
   "name": "python",
   "nbconvert_exporter": "python",
   "pygments_lexer": "ipython3",
   "version": "3.9.16"
  },
  "vscode": {
   "interpreter": {
    "hash": "2a96a5ccec8dfcba7d06b2e71f6eef3b5dac5716461bf5d73ea1bb7ee462cdaa"
   }
  }
 },
 "nbformat": 4,
 "nbformat_minor": 2
}
