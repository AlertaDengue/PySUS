{
 "cells": [
  {
   "cell_type": "markdown",
   "metadata": {},
   "source": [
    "# SINAN Metadata Information"
   ]
  },
  {
   "cell_type": "code",
   "execution_count": 1,
   "metadata": {},
   "outputs": [],
   "source": [
    "from pysus.online_data import SINAN"
   ]
  },
  {
   "cell_type": "code",
   "execution_count": 2,
   "metadata": {},
   "outputs": [
    {
     "data": {
      "text/html": [
       "<div>\n",
       "<style scoped>\n",
       "    .dataframe tbody tr th:only-of-type {\n",
       "        vertical-align: middle;\n",
       "    }\n",
       "\n",
       "    .dataframe tbody tr th {\n",
       "        vertical-align: top;\n",
       "    }\n",
       "\n",
       "    .dataframe thead th {\n",
       "        text-align: right;\n",
       "    }\n",
       "</style>\n",
       "<table border=\"1\" class=\"dataframe\">\n",
       "  <thead>\n",
       "    <tr style=\"text-align: right;\">\n",
       "      <th></th>\n",
       "      <th>Nome do campo</th>\n",
       "      <th>Campo</th>\n",
       "      <th>Tipo</th>\n",
       "      <th>Categoria</th>\n",
       "      <th>Descrição</th>\n",
       "      <th>Características</th>\n",
       "      <th>DBF</th>\n",
       "    </tr>\n",
       "  </thead>\n",
       "  <tbody>\n",
       "    <tr>\n",
       "      <th>0</th>\n",
       "      <td>2-Agravo/doença</td>\n",
       "      <td>NaN</td>\n",
       "      <td>VARCHAR(1)</td>\n",
       "      <td>1-Dengue\\n2-Chikungunya</td>\n",
       "      <td>Especifica a suspeição do agravo.</td>\n",
       "      <td>Campo Obrigatório\\nPreenchendo o código,\\na de...</td>\n",
       "      <td>ID_AGRAVO</td>\n",
       "    </tr>\n",
       "    <tr>\n",
       "      <th>1</th>\n",
       "      <td>31-Data da Investigação</td>\n",
       "      <td>dt_investigacao</td>\n",
       "      <td>DATE</td>\n",
       "      <td>NaN</td>\n",
       "      <td>Informar a data da investigação</td>\n",
       "      <td>Campo obrigatório\\n- Não aceitar Data da\\ninve...</td>\n",
       "      <td>DT_INVEST</td>\n",
       "    </tr>\n",
       "    <tr>\n",
       "      <th>2</th>\n",
       "      <td>32- Ocupação/ramo de atividade econômica</td>\n",
       "      <td>co_cbo_ocupacao</td>\n",
       "      <td>VARCHAR(6)</td>\n",
       "      <td>NaN</td>\n",
       "      <td>Informar a atividade exercida pelo paciente no...</td>\n",
       "      <td>NaN</td>\n",
       "      <td>ID_OCUPA_N</td>\n",
       "    </tr>\n",
       "    <tr>\n",
       "      <th>3</th>\n",
       "      <td>33- Sinais clínicos (Febre)</td>\n",
       "      <td>NaN</td>\n",
       "      <td>VARCHAR(1)</td>\n",
       "      <td>1 – Sim\\n2 – Não</td>\n",
       "      <td>Informar qual sinal clínico ou achados\\nlabora...</td>\n",
       "      <td>Campo obrigatório</td>\n",
       "      <td>FEBRE</td>\n",
       "    </tr>\n",
       "    <tr>\n",
       "      <th>4</th>\n",
       "      <td>33- Sinais clínicos (Mialgia)</td>\n",
       "      <td>NaN</td>\n",
       "      <td>VARCHAR(1)</td>\n",
       "      <td>1 – Sim\\n2 – Não</td>\n",
       "      <td>Informar qual sinal clínico ou achados\\nlabora...</td>\n",
       "      <td>Campo obrigatório</td>\n",
       "      <td>MIALGIA</td>\n",
       "    </tr>\n",
       "    <tr>\n",
       "      <th>...</th>\n",
       "      <td>...</td>\n",
       "      <td>...</td>\n",
       "      <td>...</td>\n",
       "      <td>...</td>\n",
       "      <td>...</td>\n",
       "      <td>...</td>\n",
       "      <td>...</td>\n",
       "    </tr>\n",
       "    <tr>\n",
       "      <th>83</th>\n",
       "      <td>70- Dengue grave (Alteração da consciência)</td>\n",
       "      <td>NaN</td>\n",
       "      <td>VARCHAR(1)</td>\n",
       "      <td>1 – Sim\\n2 – Não</td>\n",
       "      <td>Informar qual sinal de gravidade foi\\nencontrado</td>\n",
       "      <td>Campo obrigatório\\nSe campo 62-\\nClassificação...</td>\n",
       "      <td>GRAV_CONSC</td>\n",
       "    </tr>\n",
       "    <tr>\n",
       "      <th>84</th>\n",
       "      <td>70- Dengue grave (Outros órgãos)</td>\n",
       "      <td>NaN</td>\n",
       "      <td>NaN</td>\n",
       "      <td>NaN</td>\n",
       "      <td>Informar qual sinal de gravidade foi\\nencontrado</td>\n",
       "      <td>Campo obrigatório\\nSe campo 62-\\nClassificação...</td>\n",
       "      <td>GRAV_ORGAO</td>\n",
       "    </tr>\n",
       "    <tr>\n",
       "      <th>85</th>\n",
       "      <td>71- Dengue grave Data de início dos sintomas</td>\n",
       "      <td>NaN</td>\n",
       "      <td>DATE</td>\n",
       "      <td>NaN</td>\n",
       "      <td>Informar data de início dos sinais de alarme.\\...</td>\n",
       "      <td>Campo obrigatório\\nSe campo 62-\\nClassificação...</td>\n",
       "      <td>DT_GRAV</td>\n",
       "    </tr>\n",
       "    <tr>\n",
       "      <th>86</th>\n",
       "      <td>Informações complementares e observações adici...</td>\n",
       "      <td>ds_observacao</td>\n",
       "      <td>VARCHAR(255)</td>\n",
       "      <td>NaN</td>\n",
       "      <td>Informações complementares e observações\\nadic...</td>\n",
       "      <td>Habilitado para todas\\nnotificações</td>\n",
       "      <td>DS_OBS</td>\n",
       "    </tr>\n",
       "    <tr>\n",
       "      <th>87</th>\n",
       "      <td>NaN</td>\n",
       "      <td>NaN</td>\n",
       "      <td>NaN</td>\n",
       "      <td>NaN</td>\n",
       "      <td>NaN</td>\n",
       "      <td>NaN</td>\n",
       "      <td>NaN</td>\n",
       "    </tr>\n",
       "  </tbody>\n",
       "</table>\n",
       "<p>88 rows × 7 columns</p>\n",
       "</div>"
      ],
      "text/plain": [
       "                                        Nome do campo            Campo  \\\n",
       "0                                     2-Agravo/doença              NaN   \n",
       "1                             31-Data da Investigação  dt_investigacao   \n",
       "2            32- Ocupação/ramo de atividade econômica  co_cbo_ocupacao   \n",
       "3                         33- Sinais clínicos (Febre)              NaN   \n",
       "4                       33- Sinais clínicos (Mialgia)              NaN   \n",
       "..                                                ...              ...   \n",
       "83        70- Dengue grave (Alteração da consciência)              NaN   \n",
       "84                   70- Dengue grave (Outros órgãos)              NaN   \n",
       "85       71- Dengue grave Data de início dos sintomas              NaN   \n",
       "86  Informações complementares e observações adici...    ds_observacao   \n",
       "87                                                NaN              NaN   \n",
       "\n",
       "            Tipo                Categoria  \\\n",
       "0     VARCHAR(1)  1-Dengue\\n2-Chikungunya   \n",
       "1           DATE                      NaN   \n",
       "2     VARCHAR(6)                      NaN   \n",
       "3     VARCHAR(1)         1 – Sim\\n2 – Não   \n",
       "4     VARCHAR(1)         1 – Sim\\n2 – Não   \n",
       "..           ...                      ...   \n",
       "83    VARCHAR(1)         1 – Sim\\n2 – Não   \n",
       "84           NaN                      NaN   \n",
       "85          DATE                      NaN   \n",
       "86  VARCHAR(255)                      NaN   \n",
       "87           NaN                      NaN   \n",
       "\n",
       "                                            Descrição  \\\n",
       "0                   Especifica a suspeição do agravo.   \n",
       "1                     Informar a data da investigação   \n",
       "2   Informar a atividade exercida pelo paciente no...   \n",
       "3   Informar qual sinal clínico ou achados\\nlabora...   \n",
       "4   Informar qual sinal clínico ou achados\\nlabora...   \n",
       "..                                                ...   \n",
       "83   Informar qual sinal de gravidade foi\\nencontrado   \n",
       "84   Informar qual sinal de gravidade foi\\nencontrado   \n",
       "85  Informar data de início dos sinais de alarme.\\...   \n",
       "86  Informações complementares e observações\\nadic...   \n",
       "87                                                NaN   \n",
       "\n",
       "                                      Características         DBF  \n",
       "0   Campo Obrigatório\\nPreenchendo o código,\\na de...   ID_AGRAVO  \n",
       "1   Campo obrigatório\\n- Não aceitar Data da\\ninve...   DT_INVEST  \n",
       "2                                                 NaN  ID_OCUPA_N  \n",
       "3                                   Campo obrigatório       FEBRE  \n",
       "4                                   Campo obrigatório     MIALGIA  \n",
       "..                                                ...         ...  \n",
       "83  Campo obrigatório\\nSe campo 62-\\nClassificação...  GRAV_CONSC  \n",
       "84  Campo obrigatório\\nSe campo 62-\\nClassificação...  GRAV_ORGAO  \n",
       "85  Campo obrigatório\\nSe campo 62-\\nClassificação...     DT_GRAV  \n",
       "86                Habilitado para todas\\nnotificações      DS_OBS  \n",
       "87                                                NaN         NaN  \n",
       "\n",
       "[88 rows x 7 columns]"
      ]
     },
     "execution_count": 2,
     "metadata": {},
     "output_type": "execute_result"
    }
   ],
   "source": [
    "metadata = SINAN.metadata_df('DENG')\n",
    "metadata"
   ]
  },
  {
   "cell_type": "code",
   "execution_count": 3,
   "metadata": {},
   "outputs": [
    {
     "data": {
      "text/plain": [
       "{'ID_AGRAVO': '2-Agravo/doença',\n",
       " 'DT_INVEST': '31-Data da Investigação',\n",
       " 'ID_OCUPA_N': '32- Ocupação/ramo de atividade econômica',\n",
       " 'FEBRE': '33- Sinais clínicos (Febre)',\n",
       " 'MIALGIA': '33- Sinais clínicos (Mialgia)',\n",
       " 'CEFALEIA': '33- Sinais clínicos (Cefaleia)',\n",
       " 'EXANTEMA': '33- Sinais clínicos (Exantema)',\n",
       " 'VOMITO': '33- Sinais clínicos (Vômito)',\n",
       " 'NAUSEA': '33- Sinais clínicos (Náusea)',\n",
       " 'DOR_COSTAS': '33- Sinais clínicos (Dor nas costas)',\n",
       " 'CONJUNTVIT': '33- Sinais clínicos (Conjuntivite)',\n",
       " 'ARTRITE': '33- Sinais clínicos (Artrite)',\n",
       " 'ARTRALGIA': '33- Sinais clínicos (Artralgia intensa)',\n",
       " 'PETÉQUIA_N': '33- Sinais clínicos (Petéquias)',\n",
       " 'LEUCOPENIA': '33- Sinais clínicos (Leucopenia)',\n",
       " 'LACO': '33- Sinais clínicos (Prova do laço)',\n",
       " 'DOR_RETRO': '33- Sinais clínicos (Dor retroorbital)',\n",
       " 'DIABETES': '34- Doenças pré- existentes (Diabetes)',\n",
       " 'HEMATOLOG': '34- Doenças pré- existentes (Doenças hematológicas)',\n",
       " 'HEPATOPAT': '34- Doenças pré- existentes (Hepatopatias)',\n",
       " 'RENAL': '34- Doenças pré- existentes (Doença renal crônica)',\n",
       " 'HIPERTENSA': '34- Doenças pré- existentes (Hipertensão arterial)',\n",
       " 'ÁCIDO_PEPT': '34- Doenças pré- existentes (Doença ácido-péptica)',\n",
       " 'AUTO_IMUNE': '34- Doenças pré- existentes (Doenças auto-imunes)',\n",
       " 'DT_CHIK_S1': '35-Exame sorológico (IgM) Chikungunya Soro 1 Data da Coleta',\n",
       " 'DT_CHIK_S2': '36-Exame sorológico (IgM) Chikungunya Soro 2 Data da Coleta',\n",
       " 'DT_PRNT': '37-Exame PRNT Data da Coleta',\n",
       " 'RES_CHIKS1': '38-Exame sorológico (IgM) Chikungunya Soro 1 Resultado',\n",
       " 'RES_CHIKS2': '38-Exame sorológico (IgM) Chikungunya Soro 2 Resultado',\n",
       " 'RESUL_PRNT': '38-Exame PRNT Resultado',\n",
       " 'DT_SORO': '39-Exame sorológico (IgM) Dengue Data da Coleta',\n",
       " 'RESUL_SORO': '40-Exame sorológico (IgM) Dengue Resultado',\n",
       " 'DT_NS1': '41- Exame NS1 Data da Coleta',\n",
       " 'RESUL_NS1': '42- Exame NS1 Resultado',\n",
       " 'DT_VIRAL': '43-Isolamento Viral Data da Coleta',\n",
       " 'RESUL_VI_N': '43-Isolamento Viral Resultado',\n",
       " 'DT_PCR': '45-RT-PCR Data da Coleta',\n",
       " 'RESUL_PCR_': '46-RT-PCR Resultado',\n",
       " 'SOROTIPO': '47-Sorotipo',\n",
       " 'HISTOPA_N': '48-Histopatologia Resultado',\n",
       " 'IMUNOH_N': '49-Imunohistoquímica Resultado',\n",
       " 'HOSPITALIZ': '50-Ocorreu Hospitalização?',\n",
       " 'DT_INTERNA': '51-Data Da Internação',\n",
       " 'UF': '52-UF De Hospitalização',\n",
       " 'MUNICIPIO': '53-Municipio Do Hospital',\n",
       " 'HOSPITAL': '54-Nome Do Hospital',\n",
       " 'DDD_HOSP': '55-(DDD)',\n",
       " 'TEL_HOSP': '55-Telefone',\n",
       " 'TPAUTOCTO': '56-O caso é Autóctone de residência?',\n",
       " 'COUFINF': '57-UF (provável da fonte de infecção)',\n",
       " 'COPAISINF': '58-País (provável da fonte de infecção)',\n",
       " 'COMUNINF': '59-Município (provável da fonte de infecção)',\n",
       " 'CODISINF': '60-Distrito (provável de infecção)',\n",
       " 'CO_BAINF\\nNOBAIINF': '61-Bairro (provável de infecção)',\n",
       " 'CLASSI_FIN': '62-Classificação',\n",
       " 'CRITERIO': '63-Critério De Confirmação/Descarte',\n",
       " 'CLINIC_CHIK': '64- Apresentação clínica Chikungunya',\n",
       " 'EVOLUCAO': '65-Evolução Do Caso',\n",
       " 'DT_OBITO': '66-Data do Óbito',\n",
       " 'DT_ENCERRA': '67-Data Do Encerramento',\n",
       " 'ALRM_HIPOT': '68- Dengue com sinais de alarme (Hipotensão)',\n",
       " 'ALRM_PLAQ': '68- Dengue com sinais de alarme (Queda abrupta de plaquetas)',\n",
       " 'ALRM_VOM': '68- Dengue com sinais de alarme (Vômitos persistentes)',\n",
       " 'ALRM_ABDOM': '68- Dengue com sinais de alarme (Dor abdominal)',\n",
       " 'ALRM_LETAR': '68- Dengue com sinais de alarme (Letargia ou irritabilidade)',\n",
       " 'ALRM_SANG': '68- Dengue com sinais de alarme (Sangramento de mucosa/outras hemorragias)',\n",
       " 'ALRM_HEMAT': '68- Dengue com sinais de alarme (Aumento hematócrito)',\n",
       " 'ALRM_HEPAT': '68- Dengue com sinais de alarme (Hepatomegalia)',\n",
       " 'ALRM_LIQ': '68- Dengue com sinais de alarme (Acúmulo de líquidos)',\n",
       " 'DT_ALRM': '69- Dengue com sinais de alarme Data de início dos sintomas',\n",
       " 'GRAV_PULSO': '70- Dengue grave (Pulso débil ou indectável)',\n",
       " 'GRAV_CONV': '70- Dengue grave (PA convergente)',\n",
       " 'GRAV_ENCH': '70- Dengue grave (Tempo de enchimento capilar)',\n",
       " 'GRAV_INSUF': '70- Dengue grave (Acúmulo de líquidos com insuficiência respiratória)',\n",
       " 'GRAV_TAQUI': '70- Dengue grave (Taquicardia)',\n",
       " 'GRAV_EXTRE': '70- Dengue grave (Extremidade frias)',\n",
       " 'GRAV_HIPOT': '70- Dengue grave (Hipotensão arterial em fase tardia)',\n",
       " 'GRAV_HEMAT': '70- Dengue grave (Hematêmese)',\n",
       " 'GRAV_MELEN': '70- Dengue grave (Melena)',\n",
       " 'GRAV_METRO': '70- Dengue grave (Metrorragia volumosa)',\n",
       " 'GRAV_SANG': '70- Dengue grave (Sangramento do SNC)',\n",
       " 'GRAV_AST': '70- Dengue grave (AST/ALT >1 .000)',\n",
       " 'GRAV_MIOC': '70- Dengue grave (Miocardite)',\n",
       " 'GRAV_CONSC': '70- Dengue grave (Alteração da consciência)',\n",
       " 'GRAV_ORGAO': '70- Dengue grave (Outros órgãos)',\n",
       " 'DT_GRAV': '71- Dengue grave Data de início dos sintomas',\n",
       " 'DS_OBS': 'Informações complementares e observações adicionais',\n",
       " nan: nan}"
      ]
     },
     "execution_count": 3,
     "metadata": {},
     "output_type": "execute_result"
    }
   ],
   "source": [
    "dict(zip(metadata['DBF'], metadata['Nome do campo']))"
   ]
  },
  {
   "cell_type": "markdown",
   "metadata": {
    "pycharm": {
     "name": "#%% md\n"
    }
   },
   "source": [
    "# Downloading data from the SINAN database"
   ]
  },
  {
   "cell_type": "code",
   "execution_count": 4,
   "metadata": {
    "ExecuteTime": {
     "end_time": "2022-09-05T17:20:45.781320Z",
     "start_time": "2022-09-05T17:20:45.256619Z"
    },
    "pycharm": {
     "name": "#%%\n"
    }
   },
   "outputs": [],
   "source": [
    "from pysus.ftp.databases.sinan import SINAN\n",
    "import pandas as pd\n",
    "\n",
    "sinan = SINAN().load()"
   ]
  },
  {
   "cell_type": "markdown",
   "metadata": {
    "pycharm": {
     "name": "#%% md\n"
    }
   },
   "source": [
    "SINAN is a database of reported cases of certain diseases that Brazilian law requires to be reported. Unfortunately the data available for free download, corresponds only to the investigated cases not the totality of the reported cases. Nevertheless it's an interesting dataset.\n",
    "\n",
    "To find out what are these diseases, we can use PySUS:"
   ]
  },
  {
   "cell_type": "code",
   "execution_count": 5,
   "metadata": {
    "ExecuteTime": {
     "end_time": "2022-09-05T17:20:46.623422Z",
     "start_time": "2022-09-05T17:20:46.605579Z"
    },
    "pycharm": {
     "name": "#%%\n"
    }
   },
   "outputs": [
    {
     "data": {
      "text/plain": [
       "{'ACBI': 'Acidente de trabalho com material biológico',\n",
       " 'ACGR': 'Acidente de trabalho',\n",
       " 'ANIM': 'Acidente por Animais Peçonhentos',\n",
       " 'ANTR': 'Atendimento Antirrabico',\n",
       " 'BOTU': 'Botulismo',\n",
       " 'CANC': 'Cancêr relacionado ao trabalho',\n",
       " 'CHAG': 'Doença de Chagas Aguda',\n",
       " 'CHIK': 'Febre de Chikungunya',\n",
       " 'COLE': 'Cólera',\n",
       " 'COQU': 'Coqueluche',\n",
       " 'DENG': 'Dengue',\n",
       " 'DERM': 'Dermatoses ocupacionais',\n",
       " 'DIFT': 'Difteria',\n",
       " 'ESQU': 'Esquistossomose',\n",
       " 'EXAN': 'Doença exantemáticas',\n",
       " 'FMAC': 'Febre Maculosa',\n",
       " 'FTIF': 'Febre Tifóide',\n",
       " 'HANS': 'Hanseníase',\n",
       " 'HANT': 'Hantavirose',\n",
       " 'HEPA': 'Hepatites Virais',\n",
       " 'IEXO': 'Intoxicação Exógena',\n",
       " 'INFL': 'Influenza Pandêmica',\n",
       " 'LEIV': 'Leishmaniose Visceral',\n",
       " 'LEPT': 'Leptospirose',\n",
       " 'LERD': 'LER/Dort',\n",
       " 'LTAN': 'Leishmaniose Tegumentar Americana',\n",
       " 'MALA': 'Malária',\n",
       " 'MENI': 'Meningite',\n",
       " 'MENT': 'Transtornos mentais relacionados ao trabalho',\n",
       " 'NTRA': 'Notificação de Tracoma',\n",
       " 'PAIR': 'Perda auditiva por ruído relacionado ao trabalho',\n",
       " 'PEST': 'Peste',\n",
       " 'PFAN': 'Paralisia Flácida Aguda',\n",
       " 'PNEU': 'Pneumoconioses realacionadas ao trabalho',\n",
       " 'RAIV': 'Raiva',\n",
       " 'SDTA': 'Surto Doenças Transmitidas por Alimentos',\n",
       " 'SIFA': 'Sífilis Adquirida',\n",
       " 'SIFC': 'Sífilis Congênita',\n",
       " 'SIFG': 'Sífilis em Gestante',\n",
       " 'SRC': 'Síndrome da Rubéola Congênia',\n",
       " 'TETA': 'Tétano Acidental',\n",
       " 'TETN': 'Tétano Neonatal',\n",
       " 'TOXC': 'Toxoplasmose Congênita',\n",
       " 'TOXG': 'Toxoplasmose Gestacional',\n",
       " 'TRAC': 'Inquérito de Tracoma',\n",
       " 'TUBE': 'Tuberculose',\n",
       " 'VARC': 'Varicela',\n",
       " 'VIOL': 'Violência doméstica, sexual e/ou outras violências',\n",
       " 'ZIKA': 'Zika Vírus'}"
      ]
     },
     "execution_count": 5,
     "metadata": {},
     "output_type": "execute_result"
    }
   ],
   "source": [
    "sinan.diseases"
   ]
  },
  {
   "cell_type": "markdown",
   "metadata": {
    "ExecuteTime": {
     "end_time": "2020-11-12T15:39:24.871171Z",
     "start_time": "2020-11-12T15:39:24.860483Z"
    },
    "pycharm": {
     "name": "#%% md\n"
    }
   },
   "source": [
    "These diseases are available in countrywide tables, so if we want to see the cases of `Chagas` disease in the state of Minas Gerais, first we can check which years are available:"
   ]
  },
  {
   "cell_type": "code",
   "execution_count": 6,
   "metadata": {
    "ExecuteTime": {
     "end_time": "2022-09-05T17:20:50.094901Z",
     "start_time": "2022-09-05T17:20:49.365812Z"
    },
    "pycharm": {
     "name": "#%%\n"
    }
   },
   "outputs": [
    {
     "data": {
      "text/plain": [
       "[CHAGBR00.dbc,\n",
       " CHAGBR01.dbc,\n",
       " CHAGBR02.dbc,\n",
       " CHAGBR03.dbc,\n",
       " CHAGBR04.dbc,\n",
       " CHAGBR05.dbc,\n",
       " CHAGBR06.dbc,\n",
       " CHAGBR07.dbc,\n",
       " CHAGBR08.dbc,\n",
       " CHAGBR09.dbc,\n",
       " CHAGBR10.dbc,\n",
       " CHAGBR11.dbc,\n",
       " CHAGBR12.dbc,\n",
       " CHAGBR13.dbc,\n",
       " CHAGBR14.dbc,\n",
       " CHAGBR15.dbc,\n",
       " CHAGBR16.dbc,\n",
       " CHAGBR17.dbc,\n",
       " CHAGBR18.dbc,\n",
       " CHAGBR19.dbc,\n",
       " CHAGBR20.dbc,\n",
       " CHAGBR21.dbc,\n",
       " CHAGBR22.dbc]"
      ]
     },
     "execution_count": 6,
     "metadata": {},
     "output_type": "execute_result"
    }
   ],
   "source": [
    "sinan.get_files('CHAG')"
   ]
  },
  {
   "cell_type": "markdown",
   "metadata": {
    "pycharm": {
     "name": "#%% md\n"
    }
   },
   "source": [
    "We can see, that we have data from 2000 to present. Now we can download it:"
   ]
  },
  {
   "cell_type": "code",
   "execution_count": 7,
   "metadata": {
    "ExecuteTime": {
     "end_time": "2022-09-05T17:21:11.840622Z",
     "start_time": "2022-09-05T17:21:10.951857Z"
    },
    "pycharm": {
     "name": "#%%\n"
    }
   },
   "outputs": [
    {
     "name": "stderr",
     "output_type": "stream",
     "text": [
      "100%|███████████████████████████████████████████████████████████████████| 286k/286k [00:00<00:00, 313MB/s]\n"
     ]
    },
    {
     "data": {
      "text/html": [
       "<div>\n",
       "<style scoped>\n",
       "    .dataframe tbody tr th:only-of-type {\n",
       "        vertical-align: middle;\n",
       "    }\n",
       "\n",
       "    .dataframe tbody tr th {\n",
       "        vertical-align: top;\n",
       "    }\n",
       "\n",
       "    .dataframe thead th {\n",
       "        text-align: right;\n",
       "    }\n",
       "</style>\n",
       "<table border=\"1\" class=\"dataframe\">\n",
       "  <thead>\n",
       "    <tr style=\"text-align: right;\">\n",
       "      <th></th>\n",
       "      <th>TP_NOT</th>\n",
       "      <th>ID_AGRAVO</th>\n",
       "      <th>DT_NOTIFIC</th>\n",
       "      <th>SEM_NOT</th>\n",
       "      <th>NU_ANO</th>\n",
       "      <th>SG_UF_NOT</th>\n",
       "      <th>ID_MUNICIP</th>\n",
       "      <th>ID_REGIONA</th>\n",
       "      <th>ID_UNIDADE</th>\n",
       "      <th>DT_SIN_PRI</th>\n",
       "      <th>...</th>\n",
       "      <th>DT_ENCERRA</th>\n",
       "      <th>DT_DIGITA</th>\n",
       "      <th>DT_TRANSUS</th>\n",
       "      <th>DT_TRANSDM</th>\n",
       "      <th>DT_TRANSSM</th>\n",
       "      <th>DT_TRANSRM</th>\n",
       "      <th>DT_TRANSRS</th>\n",
       "      <th>DT_TRANSSE</th>\n",
       "      <th>NU_LOTE_V</th>\n",
       "      <th>NU_LOTE_H</th>\n",
       "    </tr>\n",
       "  </thead>\n",
       "  <tbody>\n",
       "    <tr>\n",
       "      <th>0</th>\n",
       "      <td>2</td>\n",
       "      <td>B571</td>\n",
       "      <td>2019-04-10</td>\n",
       "      <td>201915</td>\n",
       "      <td>2019</td>\n",
       "      <td>16</td>\n",
       "      <td>160030</td>\n",
       "      <td></td>\n",
       "      <td>2019639</td>\n",
       "      <td>2019-03-01</td>\n",
       "      <td>...</td>\n",
       "      <td>20190513</td>\n",
       "      <td></td>\n",
       "      <td></td>\n",
       "      <td></td>\n",
       "      <td></td>\n",
       "      <td></td>\n",
       "      <td></td>\n",
       "      <td></td>\n",
       "      <td></td>\n",
       "      <td></td>\n",
       "    </tr>\n",
       "    <tr>\n",
       "      <th>1</th>\n",
       "      <td>2</td>\n",
       "      <td>B571</td>\n",
       "      <td>2019-09-16</td>\n",
       "      <td>201938</td>\n",
       "      <td>2019</td>\n",
       "      <td>16</td>\n",
       "      <td>160030</td>\n",
       "      <td></td>\n",
       "      <td>2022192</td>\n",
       "      <td>2019-08-18</td>\n",
       "      <td>...</td>\n",
       "      <td>20191002</td>\n",
       "      <td></td>\n",
       "      <td></td>\n",
       "      <td></td>\n",
       "      <td></td>\n",
       "      <td></td>\n",
       "      <td></td>\n",
       "      <td></td>\n",
       "      <td></td>\n",
       "      <td></td>\n",
       "    </tr>\n",
       "    <tr>\n",
       "      <th>2</th>\n",
       "      <td>2</td>\n",
       "      <td>B571</td>\n",
       "      <td>2019-03-07</td>\n",
       "      <td>201910</td>\n",
       "      <td>2019</td>\n",
       "      <td>16</td>\n",
       "      <td>160030</td>\n",
       "      <td></td>\n",
       "      <td>2022192</td>\n",
       "      <td>2019-02-28</td>\n",
       "      <td>...</td>\n",
       "      <td>20190325</td>\n",
       "      <td></td>\n",
       "      <td></td>\n",
       "      <td></td>\n",
       "      <td></td>\n",
       "      <td></td>\n",
       "      <td></td>\n",
       "      <td></td>\n",
       "      <td></td>\n",
       "      <td></td>\n",
       "    </tr>\n",
       "    <tr>\n",
       "      <th>3</th>\n",
       "      <td>2</td>\n",
       "      <td>B571</td>\n",
       "      <td>2019-10-22</td>\n",
       "      <td>201943</td>\n",
       "      <td>2019</td>\n",
       "      <td>16</td>\n",
       "      <td>160030</td>\n",
       "      <td></td>\n",
       "      <td>2020653</td>\n",
       "      <td>2019-09-09</td>\n",
       "      <td>...</td>\n",
       "      <td>20191107</td>\n",
       "      <td></td>\n",
       "      <td></td>\n",
       "      <td></td>\n",
       "      <td></td>\n",
       "      <td></td>\n",
       "      <td></td>\n",
       "      <td></td>\n",
       "      <td></td>\n",
       "      <td></td>\n",
       "    </tr>\n",
       "    <tr>\n",
       "      <th>4</th>\n",
       "      <td>2</td>\n",
       "      <td>B571</td>\n",
       "      <td>2019-09-10</td>\n",
       "      <td>201937</td>\n",
       "      <td>2019</td>\n",
       "      <td>16</td>\n",
       "      <td>160060</td>\n",
       "      <td></td>\n",
       "      <td>2020971</td>\n",
       "      <td>2019-08-28</td>\n",
       "      <td>...</td>\n",
       "      <td>20191108</td>\n",
       "      <td></td>\n",
       "      <td></td>\n",
       "      <td></td>\n",
       "      <td></td>\n",
       "      <td></td>\n",
       "      <td></td>\n",
       "      <td></td>\n",
       "      <td></td>\n",
       "      <td></td>\n",
       "    </tr>\n",
       "    <tr>\n",
       "      <th>...</th>\n",
       "      <td>...</td>\n",
       "      <td>...</td>\n",
       "      <td>...</td>\n",
       "      <td>...</td>\n",
       "      <td>...</td>\n",
       "      <td>...</td>\n",
       "      <td>...</td>\n",
       "      <td>...</td>\n",
       "      <td>...</td>\n",
       "      <td>...</td>\n",
       "      <td>...</td>\n",
       "      <td>...</td>\n",
       "      <td>...</td>\n",
       "      <td>...</td>\n",
       "      <td>...</td>\n",
       "      <td>...</td>\n",
       "      <td>...</td>\n",
       "      <td>...</td>\n",
       "      <td>...</td>\n",
       "      <td>...</td>\n",
       "      <td>...</td>\n",
       "    </tr>\n",
       "    <tr>\n",
       "      <th>4477</th>\n",
       "      <td>2</td>\n",
       "      <td>B571</td>\n",
       "      <td>2019-09-05</td>\n",
       "      <td>201936</td>\n",
       "      <td>2019</td>\n",
       "      <td>26</td>\n",
       "      <td>260120</td>\n",
       "      <td>1501</td>\n",
       "      <td>5740592</td>\n",
       "      <td>2019-09-04</td>\n",
       "      <td>...</td>\n",
       "      <td>20191022</td>\n",
       "      <td></td>\n",
       "      <td></td>\n",
       "      <td></td>\n",
       "      <td></td>\n",
       "      <td></td>\n",
       "      <td></td>\n",
       "      <td></td>\n",
       "      <td></td>\n",
       "      <td></td>\n",
       "    </tr>\n",
       "    <tr>\n",
       "      <th>4478</th>\n",
       "      <td>2</td>\n",
       "      <td>B571</td>\n",
       "      <td>2019-09-26</td>\n",
       "      <td>201939</td>\n",
       "      <td>2019</td>\n",
       "      <td>26</td>\n",
       "      <td>261390</td>\n",
       "      <td>1506</td>\n",
       "      <td>2348489</td>\n",
       "      <td>2019-08-26</td>\n",
       "      <td>...</td>\n",
       "      <td>20191008</td>\n",
       "      <td></td>\n",
       "      <td></td>\n",
       "      <td></td>\n",
       "      <td></td>\n",
       "      <td></td>\n",
       "      <td></td>\n",
       "      <td></td>\n",
       "      <td></td>\n",
       "      <td></td>\n",
       "    </tr>\n",
       "    <tr>\n",
       "      <th>4479</th>\n",
       "      <td>2</td>\n",
       "      <td>B571</td>\n",
       "      <td>2019-01-17</td>\n",
       "      <td>201903</td>\n",
       "      <td>2019</td>\n",
       "      <td>26</td>\n",
       "      <td>260120</td>\n",
       "      <td>1501</td>\n",
       "      <td>2711443</td>\n",
       "      <td>2019-01-05</td>\n",
       "      <td>...</td>\n",
       "      <td>20190212</td>\n",
       "      <td></td>\n",
       "      <td></td>\n",
       "      <td></td>\n",
       "      <td></td>\n",
       "      <td></td>\n",
       "      <td></td>\n",
       "      <td></td>\n",
       "      <td></td>\n",
       "      <td></td>\n",
       "    </tr>\n",
       "    <tr>\n",
       "      <th>4480</th>\n",
       "      <td>2</td>\n",
       "      <td>B571</td>\n",
       "      <td>2019-07-03</td>\n",
       "      <td>201927</td>\n",
       "      <td>2019</td>\n",
       "      <td>26</td>\n",
       "      <td>260820</td>\n",
       "      <td>1498</td>\n",
       "      <td>5276403</td>\n",
       "      <td>2019-07-03</td>\n",
       "      <td>...</td>\n",
       "      <td>20190903</td>\n",
       "      <td></td>\n",
       "      <td></td>\n",
       "      <td></td>\n",
       "      <td></td>\n",
       "      <td></td>\n",
       "      <td></td>\n",
       "      <td></td>\n",
       "      <td></td>\n",
       "      <td></td>\n",
       "    </tr>\n",
       "    <tr>\n",
       "      <th>4481</th>\n",
       "      <td>2</td>\n",
       "      <td>B571</td>\n",
       "      <td>2019-11-08</td>\n",
       "      <td>201945</td>\n",
       "      <td>2019</td>\n",
       "      <td>26</td>\n",
       "      <td>261220</td>\n",
       "      <td>1502</td>\n",
       "      <td>5844916</td>\n",
       "      <td>2019-08-04</td>\n",
       "      <td>...</td>\n",
       "      <td>20200124</td>\n",
       "      <td></td>\n",
       "      <td></td>\n",
       "      <td></td>\n",
       "      <td></td>\n",
       "      <td></td>\n",
       "      <td></td>\n",
       "      <td></td>\n",
       "      <td></td>\n",
       "      <td></td>\n",
       "    </tr>\n",
       "  </tbody>\n",
       "</table>\n",
       "<p>4482 rows × 108 columns</p>\n",
       "</div>"
      ],
      "text/plain": [
       "     TP_NOT ID_AGRAVO  DT_NOTIFIC SEM_NOT NU_ANO SG_UF_NOT ID_MUNICIP  \\\n",
       "0         2      B571  2019-04-10  201915   2019        16     160030   \n",
       "1         2      B571  2019-09-16  201938   2019        16     160030   \n",
       "2         2      B571  2019-03-07  201910   2019        16     160030   \n",
       "3         2      B571  2019-10-22  201943   2019        16     160030   \n",
       "4         2      B571  2019-09-10  201937   2019        16     160060   \n",
       "...     ...       ...         ...     ...    ...       ...        ...   \n",
       "4477      2      B571  2019-09-05  201936   2019        26     260120   \n",
       "4478      2      B571  2019-09-26  201939   2019        26     261390   \n",
       "4479      2      B571  2019-01-17  201903   2019        26     260120   \n",
       "4480      2      B571  2019-07-03  201927   2019        26     260820   \n",
       "4481      2      B571  2019-11-08  201945   2019        26     261220   \n",
       "\n",
       "     ID_REGIONA ID_UNIDADE  DT_SIN_PRI  ... DT_ENCERRA DT_DIGITA DT_TRANSUS  \\\n",
       "0                  2019639  2019-03-01  ...   20190513                        \n",
       "1                  2022192  2019-08-18  ...   20191002                        \n",
       "2                  2022192  2019-02-28  ...   20190325                        \n",
       "3                  2020653  2019-09-09  ...   20191107                        \n",
       "4                  2020971  2019-08-28  ...   20191108                        \n",
       "...         ...        ...         ...  ...        ...       ...        ...   \n",
       "4477   1501        5740592  2019-09-04  ...   20191022                        \n",
       "4478   1506        2348489  2019-08-26  ...   20191008                        \n",
       "4479   1501        2711443  2019-01-05  ...   20190212                        \n",
       "4480   1498        5276403  2019-07-03  ...   20190903                        \n",
       "4481   1502        5844916  2019-08-04  ...   20200124                        \n",
       "\n",
       "     DT_TRANSDM DT_TRANSSM DT_TRANSRM DT_TRANSRS DT_TRANSSE NU_LOTE_V  \\\n",
       "0                                                                       \n",
       "1                                                                       \n",
       "2                                                                       \n",
       "3                                                                       \n",
       "4                                                                       \n",
       "...         ...        ...        ...        ...        ...       ...   \n",
       "4477                                                                    \n",
       "4478                                                                    \n",
       "4479                                                                    \n",
       "4480                                                                    \n",
       "4481                                                                    \n",
       "\n",
       "     NU_LOTE_H  \n",
       "0               \n",
       "1               \n",
       "2               \n",
       "3               \n",
       "4               \n",
       "...        ...  \n",
       "4477            \n",
       "4478            \n",
       "4479            \n",
       "4480            \n",
       "4481            \n",
       "\n",
       "[4482 rows x 108 columns]"
      ]
     },
     "execution_count": 7,
     "metadata": {},
     "output_type": "execute_result"
    }
   ],
   "source": [
    "df = sinan.download(sinan.get_files('CHAG', 2019)).to_dataframe()\n",
    "df"
   ]
  },
  {
   "attachments": {},
   "cell_type": "markdown",
   "metadata": {
    "collapsed": false,
    "jupyter": {
     "outputs_hidden": false
    },
    "pycharm": {
     "name": "#%% md\n"
    }
   },
   "source": [
    "## Downloading large files\n",
    "Some SINAN files can be quite large and can take a bit longer to download and convert. As the default behavior is to download data in chunks, some folders may contain lots of parquet chunks"
   ]
  },
  {
   "cell_type": "code",
   "execution_count": 8,
   "metadata": {
    "collapsed": false,
    "jupyter": {
     "outputs_hidden": false
    },
    "pycharm": {
     "name": "#%%\n"
    }
   },
   "outputs": [
    {
     "name": "stderr",
     "output_type": "stream",
     "text": [
      "100%|████████████████████████████████████████████████████████████████| 73.8M/73.8M [00:00<00:00, 68.5GB/s]\n"
     ]
    }
   ],
   "source": [
    "fn = sinan.download(sinan.get_files('DENG', 2020))"
   ]
  },
  {
   "cell_type": "markdown",
   "metadata": {
    "collapsed": false,
    "jupyter": {
     "outputs_hidden": false
    },
    "pycharm": {
     "name": "#%% md\n"
    }
   },
   "source": [
    "The cases of dengue were downloaded to multiple chunks to the directory above"
   ]
  },
  {
   "cell_type": "code",
   "execution_count": 9,
   "metadata": {
    "collapsed": false,
    "jupyter": {
     "outputs_hidden": false
    },
    "pycharm": {
     "name": "#%%\n"
    }
   },
   "outputs": [
    {
     "data": {
      "text/plain": [
       "50"
      ]
     },
     "execution_count": 9,
     "metadata": {},
     "output_type": "execute_result"
    }
   ],
   "source": [
    "import os\n",
    "len(os.listdir(str(fn)))"
   ]
  },
  {
   "cell_type": "code",
   "execution_count": 10,
   "metadata": {
    "collapsed": false,
    "jupyter": {
     "outputs_hidden": false
    },
    "pycharm": {
     "name": "#%%\n"
    }
   },
   "outputs": [
    {
     "data": {
      "text/plain": [
       "1495117"
      ]
     },
     "execution_count": 10,
     "metadata": {},
     "output_type": "execute_result"
    }
   ],
   "source": [
    "df2 = fn.to_dataframe()\n",
    "len(df2)"
   ]
  },
  {
   "cell_type": "markdown",
   "metadata": {
    "pycharm": {
     "name": "#%% md\n"
    }
   },
   "source": [
    "## Decoding the age in SINAN tables\n",
    "In SINAN the age comes encoded. PySUS can decode the age column `NU_IDADE_N` into any of these units: years, months, days, or hours."
   ]
  },
  {
   "cell_type": "code",
   "execution_count": 11,
   "metadata": {
    "ExecuteTime": {
     "end_time": "2022-09-05T17:21:42.746132Z",
     "start_time": "2022-09-05T17:21:42.660877Z"
    },
    "pycharm": {
     "name": "#%%\n"
    }
   },
   "outputs": [
    {
     "data": {
      "text/plain": [
       "\u001b[0;31mSignature:\u001b[0m       \u001b[0mdecodifica_idade_SINAN\u001b[0m\u001b[0;34m(\u001b[0m\u001b[0;34m*\u001b[0m\u001b[0margs\u001b[0m\u001b[0;34m,\u001b[0m \u001b[0;34m**\u001b[0m\u001b[0mkwargs\u001b[0m\u001b[0;34m)\u001b[0m\u001b[0;34m\u001b[0m\u001b[0;34m\u001b[0m\u001b[0m\n",
       "\u001b[0;31mType:\u001b[0m            vectorize\n",
       "\u001b[0;31mString form:\u001b[0m     <numpy.vectorize object at 0x7e36e0551610>\n",
       "\u001b[0;31mFile:\u001b[0m            ~/micromamba/envs/pysus/lib/python3.11/site-packages/numpy/__init__.py\n",
       "\u001b[0;31mDocstring:\u001b[0m      \n",
       "Em tabelas do SINAN frequentemente a idade é representada como um inteiro que precisa ser parseado\n",
       "para retornar a idade em uma unidade cronológica padrão.\n",
       ":param unidade: unidade da idade: 'Y': anos, 'M' meses, 'D': dias, 'H': horas\n",
       ":param idade: inteiro ou sequencia de inteiros codificados.\n",
       ":return:\n",
       "\u001b[0;31mClass docstring:\u001b[0m\n",
       "vectorize(pyfunc=np._NoValue, otypes=None, doc=None, excluded=None,\n",
       "cache=False, signature=None)\n",
       "\n",
       "Returns an object that acts like pyfunc, but takes arrays as input.\n",
       "\n",
       "Define a vectorized function which takes a nested sequence of objects or\n",
       "numpy arrays as inputs and returns a single numpy array or a tuple of numpy\n",
       "arrays. The vectorized function evaluates `pyfunc` over successive tuples\n",
       "of the input arrays like the python map function, except it uses the\n",
       "broadcasting rules of numpy.\n",
       "\n",
       "The data type of the output of `vectorized` is determined by calling\n",
       "the function with the first element of the input.  This can be avoided\n",
       "by specifying the `otypes` argument.\n",
       "\n",
       "Parameters\n",
       "----------\n",
       "pyfunc : callable, optional\n",
       "    A python function or method.\n",
       "    Can be omitted to produce a decorator with keyword arguments.\n",
       "otypes : str or list of dtypes, optional\n",
       "    The output data type. It must be specified as either a string of\n",
       "    typecode characters or a list of data type specifiers. There should\n",
       "    be one data type specifier for each output.\n",
       "doc : str, optional\n",
       "    The docstring for the function. If None, the docstring will be the\n",
       "    ``pyfunc.__doc__``.\n",
       "excluded : set, optional\n",
       "    Set of strings or integers representing the positional or keyword\n",
       "    arguments for which the function will not be vectorized.  These will be\n",
       "    passed directly to `pyfunc` unmodified.\n",
       "\n",
       "    .. versionadded:: 1.7.0\n",
       "\n",
       "cache : bool, optional\n",
       "    If `True`, then cache the first function call that determines the number\n",
       "    of outputs if `otypes` is not provided.\n",
       "\n",
       "    .. versionadded:: 1.7.0\n",
       "\n",
       "signature : string, optional\n",
       "    Generalized universal function signature, e.g., ``(m,n),(n)->(m)`` for\n",
       "    vectorized matrix-vector multiplication. If provided, ``pyfunc`` will\n",
       "    be called with (and expected to return) arrays with shapes given by the\n",
       "    size of corresponding core dimensions. By default, ``pyfunc`` is\n",
       "    assumed to take scalars as input and output.\n",
       "\n",
       "    .. versionadded:: 1.12.0\n",
       "\n",
       "Returns\n",
       "-------\n",
       "out : callable\n",
       "    A vectorized function if ``pyfunc`` was provided,\n",
       "    a decorator otherwise.\n",
       "\n",
       "See Also\n",
       "--------\n",
       "frompyfunc : Takes an arbitrary Python function and returns a ufunc\n",
       "\n",
       "Notes\n",
       "-----\n",
       "The `vectorize` function is provided primarily for convenience, not for\n",
       "performance. The implementation is essentially a for loop.\n",
       "\n",
       "If `otypes` is not specified, then a call to the function with the\n",
       "first argument will be used to determine the number of outputs.  The\n",
       "results of this call will be cached if `cache` is `True` to prevent\n",
       "calling the function twice.  However, to implement the cache, the\n",
       "original function must be wrapped which will slow down subsequent\n",
       "calls, so only do this if your function is expensive.\n",
       "\n",
       "The new keyword argument interface and `excluded` argument support\n",
       "further degrades performance.\n",
       "\n",
       "References\n",
       "----------\n",
       ".. [1] :doc:`/reference/c-api/generalized-ufuncs`\n",
       "\n",
       "Examples\n",
       "--------\n",
       ">>> def myfunc(a, b):\n",
       "...     \"Return a-b if a>b, otherwise return a+b\"\n",
       "...     if a > b:\n",
       "...         return a - b\n",
       "...     else:\n",
       "...         return a + b\n",
       "\n",
       ">>> vfunc = np.vectorize(myfunc)\n",
       ">>> vfunc([1, 2, 3, 4], 2)\n",
       "array([3, 4, 1, 2])\n",
       "\n",
       "The docstring is taken from the input function to `vectorize` unless it\n",
       "is specified:\n",
       "\n",
       ">>> vfunc.__doc__\n",
       "'Return a-b if a>b, otherwise return a+b'\n",
       ">>> vfunc = np.vectorize(myfunc, doc='Vectorized `myfunc`')\n",
       ">>> vfunc.__doc__\n",
       "'Vectorized `myfunc`'\n",
       "\n",
       "The output type is determined by evaluating the first element of the input,\n",
       "unless it is specified:\n",
       "\n",
       ">>> out = vfunc([1, 2, 3, 4], 2)\n",
       ">>> type(out[0])\n",
       "<class 'numpy.int64'>\n",
       ">>> vfunc = np.vectorize(myfunc, otypes=[float])\n",
       ">>> out = vfunc([1, 2, 3, 4], 2)\n",
       ">>> type(out[0])\n",
       "<class 'numpy.float64'>\n",
       "\n",
       "The `excluded` argument can be used to prevent vectorizing over certain\n",
       "arguments.  This can be useful for array-like arguments of a fixed length\n",
       "such as the coefficients for a polynomial as in `polyval`:\n",
       "\n",
       ">>> def mypolyval(p, x):\n",
       "...     _p = list(p)\n",
       "...     res = _p.pop(0)\n",
       "...     while _p:\n",
       "...         res = res*x + _p.pop(0)\n",
       "...     return res\n",
       ">>> vpolyval = np.vectorize(mypolyval, excluded=['p'])\n",
       ">>> vpolyval(p=[1, 2, 3], x=[0, 1])\n",
       "array([3, 6])\n",
       "\n",
       "Positional arguments may also be excluded by specifying their position:\n",
       "\n",
       ">>> vpolyval.excluded.add(0)\n",
       ">>> vpolyval([1, 2, 3], x=[0, 1])\n",
       "array([3, 6])\n",
       "\n",
       "The `signature` argument allows for vectorizing functions that act on\n",
       "non-scalar arrays of fixed length. For example, you can use it for a\n",
       "vectorized calculation of Pearson correlation coefficient and its p-value:\n",
       "\n",
       ">>> import scipy.stats\n",
       ">>> pearsonr = np.vectorize(scipy.stats.pearsonr,\n",
       "...                 signature='(n),(n)->(),()')\n",
       ">>> pearsonr([[0, 1, 2, 3]], [[1, 2, 3, 4], [4, 3, 2, 1]])\n",
       "(array([ 1., -1.]), array([ 0.,  0.]))\n",
       "\n",
       "Or for a vectorized convolution:\n",
       "\n",
       ">>> convolve = np.vectorize(np.convolve, signature='(n),(m)->(k)')\n",
       ">>> convolve(np.eye(4), [1, 2, 1])\n",
       "array([[1., 2., 1., 0., 0., 0.],\n",
       "       [0., 1., 2., 1., 0., 0.],\n",
       "       [0., 0., 1., 2., 1., 0.],\n",
       "       [0., 0., 0., 1., 2., 1.]])\n",
       "\n",
       "Decorator syntax is supported.  The decorator can be called as\n",
       "a function to provide keyword arguments.\n",
       ">>>@np.vectorize\n",
       "...def identity(x):\n",
       "...    return x\n",
       "...\n",
       ">>>identity([0, 1, 2])\n",
       "array([0, 1, 2])\n",
       ">>>@np.vectorize(otypes=[float])\n",
       "...def as_float(x):\n",
       "...    return x\n",
       "...\n",
       ">>>as_float([0, 1, 2])\n",
       "array([0., 1., 2.])"
      ]
     },
     "metadata": {},
     "output_type": "display_data"
    }
   ],
   "source": [
    "from pysus.preprocessing.decoders import decodifica_idade_SINAN\n",
    "decodifica_idade_SINAN?"
   ]
  },
  {
   "cell_type": "markdown",
   "metadata": {
    "pycharm": {
     "name": "#%% md\n"
    }
   },
   "source": [
    "We can easily convert dates and numerical fields in the dataframe:"
   ]
  },
  {
   "cell_type": "code",
   "execution_count": 12,
   "metadata": {
    "ExecuteTime": {
     "end_time": "2022-09-05T17:21:57.041703Z",
     "start_time": "2022-09-05T17:21:56.805000Z"
    },
    "pycharm": {
     "name": "#%%\n"
    }
   },
   "outputs": [
    {
     "name": "stdout",
     "output_type": "stream",
     "text": [
      "<class 'pandas.core.frame.DataFrame'>\n",
      "RangeIndex: 4482 entries, 0 to 4481\n",
      "Columns: 108 entries, TP_NOT to NU_LOTE_H\n",
      "dtypes: Float64(2), Int64(4), datetime64[ns](16), string(86)\n",
      "memory usage: 3.7 MB\n"
     ]
    }
   ],
   "source": [
    "for cname in df.columns:\n",
    "    if cname.startswith('DT_'):\n",
    "        df[cname] = pd.to_datetime(df[cname], errors='coerce')\n",
    "    elif cname.startswith('ID_'):\n",
    "        try:\n",
    "            df[cname] = pd.to_numeric(df[cname])\n",
    "        except ValueError:\n",
    "            continue\n",
    "df.info()"
   ]
  },
  {
   "cell_type": "markdown",
   "metadata": {
    "pycharm": {
     "name": "#%% md\n"
    }
   },
   "source": [
    "Let's convert the age to years and save it on a different column."
   ]
  },
  {
   "cell_type": "code",
   "execution_count": 13,
   "metadata": {
    "ExecuteTime": {
     "end_time": "2022-09-05T17:21:59.409288Z",
     "start_time": "2022-09-05T17:21:59.384411Z"
    },
    "pycharm": {
     "name": "#%%\n"
    }
   },
   "outputs": [
    {
     "data": {
      "text/html": [
       "<div>\n",
       "<style scoped>\n",
       "    .dataframe tbody tr th:only-of-type {\n",
       "        vertical-align: middle;\n",
       "    }\n",
       "\n",
       "    .dataframe tbody tr th {\n",
       "        vertical-align: top;\n",
       "    }\n",
       "\n",
       "    .dataframe thead th {\n",
       "        text-align: right;\n",
       "    }\n",
       "</style>\n",
       "<table border=\"1\" class=\"dataframe\">\n",
       "  <thead>\n",
       "    <tr style=\"text-align: right;\">\n",
       "      <th></th>\n",
       "      <th>NU_IDADE_N</th>\n",
       "      <th>idade_anos</th>\n",
       "    </tr>\n",
       "  </thead>\n",
       "  <tbody>\n",
       "    <tr>\n",
       "      <th>0</th>\n",
       "      <td>4013</td>\n",
       "      <td>13.0</td>\n",
       "    </tr>\n",
       "    <tr>\n",
       "      <th>1</th>\n",
       "      <td>4054</td>\n",
       "      <td>54.0</td>\n",
       "    </tr>\n",
       "    <tr>\n",
       "      <th>2</th>\n",
       "      <td>4031</td>\n",
       "      <td>31.0</td>\n",
       "    </tr>\n",
       "    <tr>\n",
       "      <th>3</th>\n",
       "      <td>4063</td>\n",
       "      <td>63.0</td>\n",
       "    </tr>\n",
       "    <tr>\n",
       "      <th>4</th>\n",
       "      <td>4036</td>\n",
       "      <td>36.0</td>\n",
       "    </tr>\n",
       "    <tr>\n",
       "      <th>...</th>\n",
       "      <td>...</td>\n",
       "      <td>...</td>\n",
       "    </tr>\n",
       "    <tr>\n",
       "      <th>4477</th>\n",
       "      <td>4079</td>\n",
       "      <td>79.0</td>\n",
       "    </tr>\n",
       "    <tr>\n",
       "      <th>4478</th>\n",
       "      <td>4063</td>\n",
       "      <td>63.0</td>\n",
       "    </tr>\n",
       "    <tr>\n",
       "      <th>4479</th>\n",
       "      <td>4039</td>\n",
       "      <td>39.0</td>\n",
       "    </tr>\n",
       "    <tr>\n",
       "      <th>4480</th>\n",
       "      <td>4036</td>\n",
       "      <td>36.0</td>\n",
       "    </tr>\n",
       "    <tr>\n",
       "      <th>4481</th>\n",
       "      <td>4052</td>\n",
       "      <td>52.0</td>\n",
       "    </tr>\n",
       "  </tbody>\n",
       "</table>\n",
       "<p>4482 rows × 2 columns</p>\n",
       "</div>"
      ],
      "text/plain": [
       "     NU_IDADE_N  idade_anos\n",
       "0          4013        13.0\n",
       "1          4054        54.0\n",
       "2          4031        31.0\n",
       "3          4063        63.0\n",
       "4          4036        36.0\n",
       "...         ...         ...\n",
       "4477       4079        79.0\n",
       "4478       4063        63.0\n",
       "4479       4039        39.0\n",
       "4480       4036        36.0\n",
       "4481       4052        52.0\n",
       "\n",
       "[4482 rows x 2 columns]"
      ]
     },
     "execution_count": 13,
     "metadata": {},
     "output_type": "execute_result"
    }
   ],
   "source": [
    "df['idade_anos'] = decodifica_idade_SINAN(df.NU_IDADE_N, 'Y')\n",
    "df[['NU_IDADE_N', 'idade_anos']]"
   ]
  },
  {
   "cell_type": "markdown",
   "metadata": {
    "pycharm": {
     "name": "#%% md\n"
    }
   },
   "source": [
    "## Saving the Modified data\n",
    "We can save our dataframe in any format we wish to avoid having to redo this analysis next time. If we want to keep only the data from the state of Minas Gerais we need to filter the table using the UF code `31`."
   ]
  },
  {
   "cell_type": "code",
   "execution_count": 14,
   "metadata": {
    "ExecuteTime": {
     "end_time": "2022-09-05T17:22:02.591827Z",
     "start_time": "2022-09-05T17:22:02.512493Z"
    },
    "pycharm": {
     "name": "#%%\n"
    }
   },
   "outputs": [],
   "source": [
    "df['SG_UF_NOT'] = df.SG_UF_NOT.astype(int)\n",
    "df[df.SG_UF_NOT==31].to_csv('chagas_SP_2018_mod.csv',sep=';',compression='zip')"
   ]
  },
  {
   "cell_type": "markdown",
   "metadata": {},
   "source": [
    "## Combining SINAN and IBGE databases\n",
    "\n",
    "We could also use different sources to enrich the analysis. In the example below, population data will be used to calculate how many dengue cases per 100k habitants there are in each geocode:"
   ]
  },
  {
   "cell_type": "code",
   "execution_count": 15,
   "metadata": {},
   "outputs": [],
   "source": [
    "from pysus.online_data import IBGE"
   ]
  },
  {
   "cell_type": "code",
   "execution_count": 16,
   "metadata": {},
   "outputs": [
    {
     "data": {
      "text/html": [
       "<div>\n",
       "<style scoped>\n",
       "    .dataframe tbody tr th:only-of-type {\n",
       "        vertical-align: middle;\n",
       "    }\n",
       "\n",
       "    .dataframe tbody tr th {\n",
       "        vertical-align: top;\n",
       "    }\n",
       "\n",
       "    .dataframe thead th {\n",
       "        text-align: right;\n",
       "    }\n",
       "</style>\n",
       "<table border=\"1\" class=\"dataframe\">\n",
       "  <thead>\n",
       "    <tr style=\"text-align: right;\">\n",
       "      <th></th>\n",
       "      <th>MUNIC_RES</th>\n",
       "      <th>ANO</th>\n",
       "      <th>POPULACAO</th>\n",
       "    </tr>\n",
       "  </thead>\n",
       "  <tbody>\n",
       "    <tr>\n",
       "      <th>0</th>\n",
       "      <td>110001</td>\n",
       "      <td>2010</td>\n",
       "      <td>24422</td>\n",
       "    </tr>\n",
       "    <tr>\n",
       "      <th>1</th>\n",
       "      <td>110002</td>\n",
       "      <td>2010</td>\n",
       "      <td>90354</td>\n",
       "    </tr>\n",
       "    <tr>\n",
       "      <th>2</th>\n",
       "      <td>110003</td>\n",
       "      <td>2010</td>\n",
       "      <td>6309</td>\n",
       "    </tr>\n",
       "    <tr>\n",
       "      <th>3</th>\n",
       "      <td>110004</td>\n",
       "      <td>2010</td>\n",
       "      <td>78601</td>\n",
       "    </tr>\n",
       "    <tr>\n",
       "      <th>4</th>\n",
       "      <td>110005</td>\n",
       "      <td>2010</td>\n",
       "      <td>17030</td>\n",
       "    </tr>\n",
       "    <tr>\n",
       "      <th>...</th>\n",
       "      <td>...</td>\n",
       "      <td>...</td>\n",
       "      <td>...</td>\n",
       "    </tr>\n",
       "    <tr>\n",
       "      <th>5560</th>\n",
       "      <td>522200</td>\n",
       "      <td>2010</td>\n",
       "      <td>12549</td>\n",
       "    </tr>\n",
       "    <tr>\n",
       "      <th>5561</th>\n",
       "      <td>522205</td>\n",
       "      <td>2010</td>\n",
       "      <td>7371</td>\n",
       "    </tr>\n",
       "    <tr>\n",
       "      <th>5562</th>\n",
       "      <td>522220</td>\n",
       "      <td>2010</td>\n",
       "      <td>4742</td>\n",
       "    </tr>\n",
       "    <tr>\n",
       "      <th>5563</th>\n",
       "      <td>522230</td>\n",
       "      <td>2010</td>\n",
       "      <td>5145</td>\n",
       "    </tr>\n",
       "    <tr>\n",
       "      <th>5564</th>\n",
       "      <td>530010</td>\n",
       "      <td>2010</td>\n",
       "      <td>2562963</td>\n",
       "    </tr>\n",
       "  </tbody>\n",
       "</table>\n",
       "<p>5565 rows × 3 columns</p>\n",
       "</div>"
      ],
      "text/plain": [
       "     MUNIC_RES   ANO  POPULACAO\n",
       "0       110001  2010      24422\n",
       "1       110002  2010      90354\n",
       "2       110003  2010       6309\n",
       "3       110004  2010      78601\n",
       "4       110005  2010      17030\n",
       "...        ...   ...        ...\n",
       "5560    522200  2010      12549\n",
       "5561    522205  2010       7371\n",
       "5562    522220  2010       4742\n",
       "5563    522230  2010       5145\n",
       "5564    530010  2010    2562963\n",
       "\n",
       "[5565 rows x 3 columns]"
      ]
     },
     "execution_count": 16,
     "metadata": {},
     "output_type": "execute_result"
    }
   ],
   "source": [
    "pop = IBGE.get_population(source=\"POP\", year=2010)\n",
    "pop"
   ]
  },
  {
   "cell_type": "code",
   "execution_count": 17,
   "metadata": {},
   "outputs": [
    {
     "name": "stderr",
     "output_type": "stream",
     "text": [
      "100%|████████████████████████████████████████████████████████████████| 30.5M/30.5M [00:00<00:00, 37.7GB/s]\n"
     ]
    }
   ],
   "source": [
    "df = sinan.download(sinan.get_files('DENG', 2010)).to_dataframe()"
   ]
  },
  {
   "cell_type": "code",
   "execution_count": 18,
   "metadata": {},
   "outputs": [
    {
     "data": {
      "text/html": [
       "<div>\n",
       "<style scoped>\n",
       "    .dataframe tbody tr th:only-of-type {\n",
       "        vertical-align: middle;\n",
       "    }\n",
       "\n",
       "    .dataframe tbody tr th {\n",
       "        vertical-align: top;\n",
       "    }\n",
       "\n",
       "    .dataframe thead th {\n",
       "        text-align: right;\n",
       "    }\n",
       "</style>\n",
       "<table border=\"1\" class=\"dataframe\">\n",
       "  <thead>\n",
       "    <tr style=\"text-align: right;\">\n",
       "      <th></th>\n",
       "      <th>TP_NOT</th>\n",
       "      <th>ID_AGRAVO</th>\n",
       "      <th>DT_NOTIFIC</th>\n",
       "      <th>SEM_NOT</th>\n",
       "      <th>NU_ANO</th>\n",
       "      <th>SG_UF_NOT</th>\n",
       "      <th>ID_MUNICIP</th>\n",
       "      <th>ID_REGIONA</th>\n",
       "      <th>ID_UNIDADE</th>\n",
       "      <th>DT_SIN_PRI</th>\n",
       "      <th>...</th>\n",
       "      <th>PLASMATICO</th>\n",
       "      <th>EVIDENCIA</th>\n",
       "      <th>PLAQ_MENOR</th>\n",
       "      <th>CON_FHD</th>\n",
       "      <th>COMPLICA</th>\n",
       "      <th>HOSPITALIZ</th>\n",
       "      <th>DT_INTERNA</th>\n",
       "      <th>UF</th>\n",
       "      <th>MUNICIPIO</th>\n",
       "      <th>TP_SISTEMA</th>\n",
       "    </tr>\n",
       "  </thead>\n",
       "  <tbody>\n",
       "    <tr>\n",
       "      <th>0</th>\n",
       "      <td>2</td>\n",
       "      <td>A90</td>\n",
       "      <td>2010-03-19</td>\n",
       "      <td>201011</td>\n",
       "      <td>2010</td>\n",
       "      <td>51</td>\n",
       "      <td>510760</td>\n",
       "      <td>1579</td>\n",
       "      <td>2701626</td>\n",
       "      <td>2010-03-14</td>\n",
       "      <td>...</td>\n",
       "      <td></td>\n",
       "      <td></td>\n",
       "      <td></td>\n",
       "      <td></td>\n",
       "      <td></td>\n",
       "      <td></td>\n",
       "      <td></td>\n",
       "      <td></td>\n",
       "      <td></td>\n",
       "      <td>1</td>\n",
       "    </tr>\n",
       "    <tr>\n",
       "      <th>1</th>\n",
       "      <td>2</td>\n",
       "      <td>A90</td>\n",
       "      <td>2010-03-26</td>\n",
       "      <td>201012</td>\n",
       "      <td>2010</td>\n",
       "      <td>51</td>\n",
       "      <td>510760</td>\n",
       "      <td>1579</td>\n",
       "      <td>2701626</td>\n",
       "      <td>2010-03-21</td>\n",
       "      <td>...</td>\n",
       "      <td></td>\n",
       "      <td></td>\n",
       "      <td></td>\n",
       "      <td></td>\n",
       "      <td></td>\n",
       "      <td></td>\n",
       "      <td></td>\n",
       "      <td></td>\n",
       "      <td></td>\n",
       "      <td>1</td>\n",
       "    </tr>\n",
       "    <tr>\n",
       "      <th>2</th>\n",
       "      <td>2</td>\n",
       "      <td>A90</td>\n",
       "      <td>2010-03-12</td>\n",
       "      <td>201010</td>\n",
       "      <td>2010</td>\n",
       "      <td>51</td>\n",
       "      <td>510760</td>\n",
       "      <td>1579</td>\n",
       "      <td>2701626</td>\n",
       "      <td>2010-03-07</td>\n",
       "      <td>...</td>\n",
       "      <td></td>\n",
       "      <td></td>\n",
       "      <td></td>\n",
       "      <td></td>\n",
       "      <td></td>\n",
       "      <td></td>\n",
       "      <td></td>\n",
       "      <td></td>\n",
       "      <td></td>\n",
       "      <td>1</td>\n",
       "    </tr>\n",
       "    <tr>\n",
       "      <th>3</th>\n",
       "      <td>2</td>\n",
       "      <td>A90</td>\n",
       "      <td>2010-03-23</td>\n",
       "      <td>201012</td>\n",
       "      <td>2010</td>\n",
       "      <td>51</td>\n",
       "      <td>510760</td>\n",
       "      <td>1579</td>\n",
       "      <td>2701626</td>\n",
       "      <td>2010-03-18</td>\n",
       "      <td>...</td>\n",
       "      <td></td>\n",
       "      <td></td>\n",
       "      <td></td>\n",
       "      <td></td>\n",
       "      <td></td>\n",
       "      <td></td>\n",
       "      <td></td>\n",
       "      <td></td>\n",
       "      <td></td>\n",
       "      <td>1</td>\n",
       "    </tr>\n",
       "    <tr>\n",
       "      <th>4</th>\n",
       "      <td>2</td>\n",
       "      <td>A90</td>\n",
       "      <td>2010-03-12</td>\n",
       "      <td>201010</td>\n",
       "      <td>2010</td>\n",
       "      <td>51</td>\n",
       "      <td>510760</td>\n",
       "      <td>1579</td>\n",
       "      <td>2701626</td>\n",
       "      <td>2010-03-07</td>\n",
       "      <td>...</td>\n",
       "      <td></td>\n",
       "      <td></td>\n",
       "      <td></td>\n",
       "      <td></td>\n",
       "      <td></td>\n",
       "      <td></td>\n",
       "      <td></td>\n",
       "      <td></td>\n",
       "      <td></td>\n",
       "      <td>1</td>\n",
       "    </tr>\n",
       "  </tbody>\n",
       "</table>\n",
       "<p>5 rows × 66 columns</p>\n",
       "</div>"
      ],
      "text/plain": [
       "  TP_NOT ID_AGRAVO  DT_NOTIFIC SEM_NOT NU_ANO SG_UF_NOT ID_MUNICIP ID_REGIONA  \\\n",
       "0      2      A90   2010-03-19  201011   2010        51     510760   1579       \n",
       "1      2      A90   2010-03-26  201012   2010        51     510760   1579       \n",
       "2      2      A90   2010-03-12  201010   2010        51     510760   1579       \n",
       "3      2      A90   2010-03-23  201012   2010        51     510760   1579       \n",
       "4      2      A90   2010-03-12  201010   2010        51     510760   1579       \n",
       "\n",
       "  ID_UNIDADE  DT_SIN_PRI  ... PLASMATICO EVIDENCIA PLAQ_MENOR CON_FHD  \\\n",
       "0    2701626  2010-03-14  ...                                           \n",
       "1    2701626  2010-03-21  ...                                           \n",
       "2    2701626  2010-03-07  ...                                           \n",
       "3    2701626  2010-03-18  ...                                           \n",
       "4    2701626  2010-03-07  ...                                           \n",
       "\n",
       "  COMPLICA HOSPITALIZ DT_INTERNA UF MUNICIPIO TP_SISTEMA  \n",
       "0                                                      1  \n",
       "1                                                      1  \n",
       "2                                                      1  \n",
       "3                                                      1  \n",
       "4                                                      1  \n",
       "\n",
       "[5 rows x 66 columns]"
      ]
     },
     "execution_count": 18,
     "metadata": {},
     "output_type": "execute_result"
    }
   ],
   "source": [
    "df.head()"
   ]
  },
  {
   "cell_type": "code",
   "execution_count": null,
   "metadata": {},
   "outputs": [],
   "source": []
  }
 ],
 "metadata": {
  "kernelspec": {
   "display_name": "Python 3 (ipykernel)",
   "language": "python",
   "name": "python3"
  },
  "language_info": {
   "codemirror_mode": {
    "name": "ipython",
    "version": 3
   },
   "file_extension": ".py",
   "mimetype": "text/x-python",
   "name": "python",
   "nbconvert_exporter": "python",
   "pygments_lexer": "ipython3",
   "version": "3.11.8"
  },
  "latex_envs": {
   "LaTeX_envs_menu_present": true,
   "autoclose": false,
   "autocomplete": true,
   "bibliofile": "biblio.bib",
   "cite_by": "apalike",
   "current_citInitial": 1,
   "eqLabelWithNumbers": true,
   "eqNumInitial": 1,
   "hotkeys": {
    "equation": "Ctrl-E",
    "itemize": "Ctrl-I"
   },
   "labels_anchors": false,
   "latex_user_defs": false,
   "report_style_numbering": false,
   "user_envs_cfg": false
  },
  "toc": {
   "base_numbering": 1,
   "nav_menu": {},
   "number_sections": true,
   "sideBar": true,
   "skip_h1_title": false,
   "title_cell": "Table of Contents",
   "title_sidebar": "Contents",
   "toc_cell": false,
   "toc_position": {},
   "toc_section_display": true,
   "toc_window_display": false
  },
  "varInspector": {
   "cols": {
    "lenName": 16,
    "lenType": 16,
    "lenVar": 40
   },
   "kernels_config": {
    "python": {
     "delete_cmd_postfix": "",
     "delete_cmd_prefix": "del ",
     "library": "var_list.py",
     "varRefreshCmd": "print(var_dic_list())"
    },
    "r": {
     "delete_cmd_postfix": ") ",
     "delete_cmd_prefix": "rm(",
     "library": "var_list.r",
     "varRefreshCmd": "cat(var_dic_list()) "
    }
   },
   "position": {
    "height": "249.85px",
    "left": "1104.8px",
    "right": "20px",
    "top": "120px",
    "width": "318.4px"
   },
   "types_to_exclude": [
    "module",
    "function",
    "builtin_function_or_method",
    "instance",
    "_Feature"
   ],
   "window_display": false
  },
  "vscode": {
   "interpreter": {
    "hash": "2a96a5ccec8dfcba7d06b2e71f6eef3b5dac5716461bf5d73ea1bb7ee462cdaa"
   }
  }
 },
 "nbformat": 4,
 "nbformat_minor": 4
}
