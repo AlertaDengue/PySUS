{
 "cells": [
  {
   "cell_type": "code",
   "execution_count": 1,
   "metadata": {},
   "outputs": [],
   "source": [
    "from pysus.preprocessing.geodata import add_data_to_municipality\n",
    "from pysus.online_data import SIM, parquets_to_dataframe\n",
    "from pysus.preprocessing.SIM import group_and_count, redistribute_missing, redistribute_cid_chapter\n",
    "from pysus.preprocessing.decoders import translate_variables_SIM\n",
    "import pandas as pd\n",
    "\n",
    "states = [\"AC\", \"AM\", \"AP\", \"PA\", \"RO\", \"RR\", \"TO\"]\n",
    "variables = ['CODMUNRES','SEXO','IDADE_ANOS','CID10_CHAPTER']\n",
    "filter_variables = variables[:3]\n",
    "geo_df = pd.DataFrame()\n",
    "ages_args = {\n",
    "    \"start\": 0,\n",
    "    \"end\": 90,\n",
    "    \"freq\": 5\n",
    "}"
   ]
  },
  {
   "cell_type": "code",
   "execution_count": 2,
   "metadata": {},
   "outputs": [],
   "source": [
    "\n",
    "#for state in states:\n",
    "#    df = parquets_to_dataframe(SIM.download(state,2018))\n",
    "#    df = translate_variables_SIM(df,age_classes=True,classify_args=ages_args,classify_cid10_chapters=True)\n",
    "#    df = df[variables]\n",
    "#    counts = group_and_count(df,variables)\n",
    "#    counts = redistribute_missing(counts,filter_variables)\n",
    "#    counts = redistribute_cid_chapter(counts,filter_variables)\n",
    "#    geo_df = geo_df.append(add_data_to_municipality(counts,title_cols=['SEXO','IDADE_ANOS','CID10_CHAPTER'], nan_string='NA'))"
   ]
  },
  {
   "cell_type": "code",
   "execution_count": 3,
   "metadata": {},
   "outputs": [],
   "source": [
    "#geo_df.columns"
   ]
  },
  {
   "cell_type": "code",
   "execution_count": null,
   "metadata": {},
   "outputs": [],
   "source": []
  }
 ],
 "metadata": {
  "kernelspec": {
   "display_name": "Python 3 (ipykernel)",
   "language": "python",
   "name": "python3"
  },
  "language_info": {
   "codemirror_mode": {
    "name": "ipython",
    "version": 3
   },
   "file_extension": ".py",
   "mimetype": "text/x-python",
   "name": "python",
   "nbconvert_exporter": "python",
   "pygments_lexer": "ipython3",
   "version": "3.11.5"
  },
  "vscode": {
   "interpreter": {
    "hash": "2a96a5ccec8dfcba7d06b2e71f6eef3b5dac5716461bf5d73ea1bb7ee462cdaa"
   }
  }
 },
 "nbformat": 4,
 "nbformat_minor": 4
}
