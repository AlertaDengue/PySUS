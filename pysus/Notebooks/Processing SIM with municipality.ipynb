{
 "cells": [
  {
   "cell_type": "code",
   "execution_count": 1,
   "metadata": {},
   "outputs": [],
   "source": [
    "from pysus.preprocessing.geodata import add_data_to_municipality\n",
    "from pysus.online_data.SIM import download\n",
    "from pysus.preprocessing.SIM import group_and_count, redistribute_missing, redistribute_cid_chapter\n",
    "from pysus.preprocessing.decoders import translate_variables_SIM\n",
    "import pandas as pd\n",
    "\n",
    "states = [\"AC\", \"AM\", \"AP\", \"PA\", \"RO\", \"RR\", \"TO\"]\n",
    "variables = ['CODMUNRES','SEXO','IDADE_ANOS','CID10_CHAPTER']\n",
    "filter_variables = variables[:3]\n",
    "geo_df = pd.DataFrame()\n",
    "ages_args = {\n",
    "    \"start\": 0,\n",
    "    \"end\": 90,\n",
    "    \"freq\": 5\n",
    "}"
   ]
  },
  {
   "cell_type": "code",
   "execution_count": 7,
   "metadata": {},
   "outputs": [],
   "source": [
    "\n",
    "for state in states:\n",
    "    df = download(state,2018)\n",
    "    df = translate_variables_SIM(df,age_classes=True,classify_args=ages_args,classify_cid10_chapters=True)\n",
    "    df = df[variables]\n",
    "    counts = group_and_count(df,variables)\n",
    "    counts = redistribute_missing(counts,filter_variables)\n",
    "    counts = redistribute_cid_chapter(counts,filter_variables)\n",
    "    geo_df = geo_df.append(add_data_to_municipality(counts,title_cols=['SEXO','IDADE_ANOS','CID10_CHAPTER']))"
   ]
  },
  {
   "cell_type": "code",
   "execution_count": 3,
   "metadata": {},
   "outputs": [
    {
     "data": {
      "text/plain": [
       "Index(['code_muni', 'name_muni', 'code_state', 'abbrev_state', 'name_state',\n",
       "       'code_region', 'name_region', 'geometry', 'Feminino-[0.0, 5.0)',\n",
       "       'Feminino-[5.0, 10.0)', 'Feminino-[10.0, 15.0)',\n",
       "       'Feminino-[15.0, 20.0)', 'Feminino-[20.0, 25.0)',\n",
       "       'Feminino-[25.0, 30.0)', 'Feminino-[30.0, 35.0)',\n",
       "       'Feminino-[35.0, 40.0)', 'Feminino-[40.0, 45.0)',\n",
       "       'Feminino-[45.0, 50.0)', 'Feminino-[50.0, 55.0)',\n",
       "       'Feminino-[55.0, 60.0)', 'Feminino-[60.0, 65.0)',\n",
       "       'Feminino-[65.0, 70.0)', 'Feminino-[70.0, 75.0)',\n",
       "       'Feminino-[75.0, 80.0)', 'Feminino-[80.0, 85.0)',\n",
       "       'Feminino-[85.0, 90.0)', 'Feminino-[90.0, inf)', 'Masculino-[0.0, 5.0)',\n",
       "       'Masculino-[5.0, 10.0)', 'Masculino-[10.0, 15.0)',\n",
       "       'Masculino-[15.0, 20.0)', 'Masculino-[20.0, 25.0)',\n",
       "       'Masculino-[25.0, 30.0)', 'Masculino-[30.0, 35.0)',\n",
       "       'Masculino-[35.0, 40.0)', 'Masculino-[40.0, 45.0)',\n",
       "       'Masculino-[45.0, 50.0)', 'Masculino-[50.0, 55.0)',\n",
       "       'Masculino-[55.0, 60.0)', 'Masculino-[60.0, 65.0)',\n",
       "       'Masculino-[65.0, 70.0)', 'Masculino-[70.0, 75.0)',\n",
       "       'Masculino-[75.0, 80.0)', 'Masculino-[80.0, 85.0)',\n",
       "       'Masculino-[85.0, 90.0)', 'Masculino-[90.0, inf)'],\n",
       "      dtype='object')"
      ]
     },
     "execution_count": 3,
     "metadata": {},
     "output_type": "execute_result"
    }
   ],
   "source": [
    "geo_df.columns"
   ]
  },
  {
   "cell_type": "code",
   "execution_count": 2,
   "metadata": {},
   "outputs": [
    {
     "ename": "AttributeError",
     "evalue": "module 'geopandas' has no attribute 'to_file'",
     "output_type": "error",
     "traceback": [
      "\u001b[0;31m---------------------------------------------------------------------------\u001b[0m",
      "\u001b[0;31mAttributeError\u001b[0m                            Traceback (most recent call last)",
      "\u001b[0;32m/tmp/ipykernel_27349/2333445825.py\u001b[0m in \u001b[0;36m<module>\u001b[0;34m\u001b[0m\n\u001b[1;32m      1\u001b[0m \u001b[0;32mimport\u001b[0m \u001b[0mgeopandas\u001b[0m \u001b[0;32mas\u001b[0m \u001b[0mgdf\u001b[0m\u001b[0;34m\u001b[0m\u001b[0;34m\u001b[0m\u001b[0m\n\u001b[1;32m      2\u001b[0m \u001b[0;34m\u001b[0m\u001b[0m\n\u001b[0;32m----> 3\u001b[0;31m \u001b[0mgdf\u001b[0m\u001b[0;34m.\u001b[0m\u001b[0mto_file\u001b[0m\u001b[0;34m(\u001b[0m\u001b[0;34m\"ac-2010.geojson\"\u001b[0m\u001b[0;34m,\u001b[0m \u001b[0mdriver\u001b[0m\u001b[0;34m=\u001b[0m\u001b[0;34m'GeoJSON'\u001b[0m\u001b[0;34m)\u001b[0m\u001b[0;34m\u001b[0m\u001b[0;34m\u001b[0m\u001b[0m\n\u001b[0m",
      "\u001b[0;31mAttributeError\u001b[0m: module 'geopandas' has no attribute 'to_file'"
     ]
    }
   ],
   "source": [
    "# geo_df.to_file(\"ac-2010.geojson\", driver='GeoJSON')"
   ]
  },
  {
   "cell_type": "code",
   "execution_count": null,
   "metadata": {},
   "outputs": [],
   "source": []
  }
 ],
 "metadata": {
  "kernelspec": {
   "display_name": "Python 3.8.7 64-bit ('venv': virtualenv)",
   "metadata": {
    "interpreter": {
     "hash": "c6b3df72bee112d2a9ce9314c5908894d8b0467e14190acfd828be6e2b0e3d0b"
    }
   },
   "name": "python3"
  },
  "language_info": {
   "codemirror_mode": {
    "name": "ipython",
    "version": 3
   },
   "file_extension": ".py",
   "mimetype": "text/x-python",
   "name": "python",
   "nbconvert_exporter": "python",
   "pygments_lexer": "ipython3",
   "version": "3.9.7"
  },
  "orig_nbformat": 2
 },
 "nbformat": 4,
 "nbformat_minor": 2
}
