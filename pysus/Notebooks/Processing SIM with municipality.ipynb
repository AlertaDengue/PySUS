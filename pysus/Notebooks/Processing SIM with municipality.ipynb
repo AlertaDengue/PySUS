{
 "metadata": {
  "language_info": {
   "codemirror_mode": {
    "name": "ipython",
    "version": 3
   },
   "file_extension": ".py",
   "mimetype": "text/x-python",
   "name": "python",
   "nbconvert_exporter": "python",
   "pygments_lexer": "ipython3",
   "version": "3.7.9-final"
  },
  "orig_nbformat": 2,
  "kernelspec": {
   "name": "Python 3.7.9 64-bit ('PySUS': virtualenv)",
   "display_name": "Python 3.7.9 64-bit ('PySUS': virtualenv)",
   "metadata": {
    "interpreter": {
     "hash": "4fbc0dfded6cf35630212588d0e29de90bc6534df803ca52b12b9c83cb86b14a"
    }
   }
  }
 },
 "nbformat": 4,
 "nbformat_minor": 2,
 "cells": [
  {
   "cell_type": "code",
   "execution_count": 2,
   "metadata": {},
   "outputs": [],
   "source": [
    "from pysus.preprocessing.geodata import add_data_to_municipality\n",
    "from pysus.online_data.SIM import download\n",
    "from pysus.preprocessing.SIM import group_and_count, redistribute\n",
    "from pysus.preprocessing.decoders import translate_variables_SIM\n",
    "import pandas as pd\n",
    "\n",
    "states = [\"AC\", \"AM\", \"AP\", \"PA\", \"RO\", \"RR\", \"TO\"]\n",
    "variables = ['CODMUNRES','SEXO','IDADE_ANOS']\n",
    "geo_df = pd.DataFrame()\n",
    "ages_args = {\n",
    "    \"start\": 0,\n",
    "    \"end\": 90,\n",
    "    \"freq\": 5\n",
    "}"
   ]
  },
  {
   "cell_type": "code",
   "execution_count": 3,
   "metadata": {},
   "outputs": [],
   "source": [
    "\n",
    "for state in states:\n",
    "    df = download(state,2018)\n",
    "    df = translate_variables_SIM(df,age_classes=True,classify_args=ages_args)\n",
    "    df = df[variables]\n",
    "    counts = group_and_count(df,variables)\n",
    "    counts = redistribute(counts,variables)\n",
    "    geo_df = geo_df.append(add_data_to_municipality(counts))"
   ]
  },
  {
   "cell_type": "code",
   "execution_count": 4,
   "metadata": {},
   "outputs": [
    {
     "output_type": "execute_result",
     "data": {
      "text/plain": [
       "Index(['code_muni', 'name_muni', 'code_state', 'abbrev_state', 'name_state',\n",
       "       'code_region', 'name_region', 'geometry', 'Feminino-[0.0, 5.0)',\n",
       "       'Feminino-[5.0, 10.0)', 'Feminino-[10.0, 15.0)',\n",
       "       'Feminino-[15.0, 20.0)', 'Feminino-[20.0, 25.0)',\n",
       "       'Feminino-[25.0, 30.0)', 'Feminino-[30.0, 35.0)',\n",
       "       'Feminino-[35.0, 40.0)', 'Feminino-[40.0, 45.0)',\n",
       "       'Feminino-[45.0, 50.0)', 'Feminino-[50.0, 55.0)',\n",
       "       'Feminino-[55.0, 60.0)', 'Feminino-[60.0, 65.0)',\n",
       "       'Feminino-[65.0, 70.0)', 'Feminino-[70.0, 75.0)',\n",
       "       'Feminino-[75.0, 80.0)', 'Feminino-[80.0, 85.0)',\n",
       "       'Feminino-[85.0, 90.0)', 'Feminino-[90.0, inf)', 'Masculino-[0.0, 5.0)',\n",
       "       'Masculino-[5.0, 10.0)', 'Masculino-[10.0, 15.0)',\n",
       "       'Masculino-[15.0, 20.0)', 'Masculino-[20.0, 25.0)',\n",
       "       'Masculino-[25.0, 30.0)', 'Masculino-[30.0, 35.0)',\n",
       "       'Masculino-[35.0, 40.0)', 'Masculino-[40.0, 45.0)',\n",
       "       'Masculino-[45.0, 50.0)', 'Masculino-[50.0, 55.0)',\n",
       "       'Masculino-[55.0, 60.0)', 'Masculino-[60.0, 65.0)',\n",
       "       'Masculino-[65.0, 70.0)', 'Masculino-[70.0, 75.0)',\n",
       "       'Masculino-[75.0, 80.0)', 'Masculino-[80.0, 85.0)',\n",
       "       'Masculino-[85.0, 90.0)', 'Masculino-[90.0, inf)'],\n",
       "      dtype='object')"
      ]
     },
     "metadata": {},
     "execution_count": 4
    }
   ],
   "source": [
    "geo_df.columns"
   ]
  },
  {
   "cell_type": "code",
   "execution_count": null,
   "metadata": {},
   "outputs": [],
   "source": []
  }
 ]
}