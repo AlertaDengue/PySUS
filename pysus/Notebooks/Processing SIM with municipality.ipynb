{
 "cells": [
  {
   "cell_type": "code",
   "execution_count": 3,
   "metadata": {},
   "outputs": [],
   "source": [
    "from pysus.preprocessing.geodata import add_data_to_municipality\n",
    "from pysus.online_data import SIM, parquets_to_dataframe\n",
    "from pysus.preprocessing.SIM import group_and_count, redistribute_missing, redistribute_cid_chapter\n",
    "from pysus.preprocessing.decoders import translate_variables_SIM\n",
    "import pandas as pd\n",
    "\n",
    "states = [\"AC\", \"AM\", \"AP\", \"PA\", \"RO\", \"RR\", \"TO\"]\n",
    "variables = ['CODMUNRES','SEXO','IDADE_ANOS','CID10_CHAPTER']\n",
    "filter_variables = variables[:3]\n",
    "geo_df = pd.DataFrame()\n",
    "ages_args = {\n",
    "    \"start\": 0,\n",
    "    \"end\": 90,\n",
    "    \"freq\": 5\n",
    "}"
   ]
  },
  {
   "cell_type": "code",
   "execution_count": null,
   "metadata": {},
   "outputs": [],
   "source": [
    "\n",
    "for state in states:\n",
    "    df = parquets_to_dataframe(SIM.download(state,2018))\n",
    "    df = translate_variables_SIM(df,age_classes=True,classify_args=ages_args,classify_cid10_chapters=True)\n",
    "    df = df[variables]\n",
    "    counts = group_and_count(df,variables)\n",
    "    counts = redistribute_missing(counts,filter_variables)\n",
    "    counts = redistribute_cid_chapter(counts,filter_variables)\n",
    "    geo_df = geo_df.append(add_data_to_municipality(counts,title_cols=['SEXO','IDADE_ANOS','CID10_CHAPTER'], nan_string='NA'))"
   ]
  },
  {
   "cell_type": "code",
   "execution_count": 7,
   "metadata": {},
   "outputs": [
    {
     "data": {
      "text/plain": [
       "Index(['code_muni', 'name_muni', 'code_state', 'abbrev_state', 'name_state',\n",
       "       'code_region', 'name_region', 'geometry', 'Feminino-[0.0, 5.0)-1',\n",
       "       'Feminino-[0.0, 5.0)-2',\n",
       "       ...\n",
       "       'NA-[50.0, 55.0)-8', 'NA-[55.0, 60.0)-8', 'NA-[60.0, 65.0)-8',\n",
       "       'NA-[65.0, 70.0)-8', 'NA-[70.0, 75.0)-8', 'NA-[75.0, 80.0)-8',\n",
       "       'NA-[80.0, 85.0)-8', 'NA-[85.0, 90.0)-8', 'NA-[90.0, inf)-8',\n",
       "       'NA-NA-8'],\n",
       "      dtype='object', length=1088)"
      ]
     },
     "execution_count": 7,
     "metadata": {},
     "output_type": "execute_result"
    }
   ],
   "source": [
    "geo_df.columns"
   ]
  },
  {
   "cell_type": "code",
   "execution_count": null,
   "metadata": {},
   "outputs": [],
   "source": []
  }
 ],
 "metadata": {
  "kernelspec": {
   "display_name": "Python 3",
   "language": "python",
   "name": "python3"
  },
  "language_info": {
   "codemirror_mode": {
    "name": "ipython",
    "version": 3
   },
   "file_extension": ".py",
   "mimetype": "text/x-python",
   "name": "python",
   "nbconvert_exporter": "python",
   "pygments_lexer": "ipython3",
   "version": "3.9.16"
  },
  "orig_nbformat": 2,
  "vscode": {
   "interpreter": {
    "hash": "2a96a5ccec8dfcba7d06b2e71f6eef3b5dac5716461bf5d73ea1bb7ee462cdaa"
   }
  }
 },
 "nbformat": 4,
 "nbformat_minor": 2
}
