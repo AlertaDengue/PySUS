{
 "metadata": {
  "language_info": {
   "codemirror_mode": {
    "name": "ipython",
    "version": 3
   },
   "file_extension": ".py",
   "mimetype": "text/x-python",
   "name": "python",
   "nbconvert_exporter": "python",
   "pygments_lexer": "ipython3",
   "version": "3.8.7-final"
  },
  "orig_nbformat": 2,
  "kernelspec": {
   "name": "python3",
   "display_name": "Python 3.8.7 64-bit ('venv': virtualenv)",
   "metadata": {
    "interpreter": {
     "hash": "c6b3df72bee112d2a9ce9314c5908894d8b0467e14190acfd828be6e2b0e3d0b"
    }
   }
  }
 },
 "nbformat": 4,
 "nbformat_minor": 2,
 "cells": [
  {
   "cell_type": "markdown",
   "metadata": {},
   "source": [
    "## Processin SIM data"
   ]
  },
  {
   "cell_type": "code",
   "execution_count": 6,
   "metadata": {},
   "outputs": [],
   "source": [
    "from pysus.online_data.SIM import download\n",
    "from pysus.preprocessing.decoders import translate_variables_SIM\n",
    "from pysus.preprocessing.SIM import group_and_count, redistribute_missing, redistribute_cid_chapter"
   ]
  },
  {
   "cell_type": "code",
   "execution_count": 10,
   "metadata": {},
   "outputs": [
    {
     "output_type": "execute_result",
     "data": {
      "text/plain": [
       "     contador ORIGEM TIPOBITO   DTOBITO HORAOBITO NATURAL    DTNASC IDADE  \\\n",
       "0           1      1        2  06082010      2000     831  09041945   465   \n",
       "1           2      1        2  06082010      1300     812  20011912   498   \n",
       "2           3      1        2  02102010      1700     812  17032010   306   \n",
       "3           4      1        2  07042010      2300          07042010   005   \n",
       "4           5      1        2  13052010      0030     812  04081971   438   \n",
       "...       ...    ...      ...       ...       ...     ...       ...   ...   \n",
       "3004     3005      1        2  28092010      0100          20041958   452   \n",
       "3005     3006      1        2  14102010      1015          24031928   482   \n",
       "3006     3007      1        2  21112010      0650          11121955   454   \n",
       "3007     3008      1        2  10112010      0500          07071955   455   \n",
       "3008     3009      1        2  10102010      1240          07051976   434   \n",
       "\n",
       "     SEXO RACACOR  ... DTCADASTRO ATESTANTE FONTEINV DTRECEBIM UFINFORM  \\\n",
       "0       2          ...   19082010                     20092010            \n",
       "1       1          ...   19082010                  2  01102010            \n",
       "2       2       4  ...   05012011         3           10022011            \n",
       "3       2       1  ...   06052010         1           20072010            \n",
       "4       1       1  ...   21062010         5           20072010            \n",
       "...   ...     ...  ...        ...       ...      ...       ...      ...   \n",
       "3004    2       4  ...   20102010                     11112010            \n",
       "3005    1       1  ...   06122010         2           19012011            \n",
       "3006    2       1  ...   09122010         5           17012011            \n",
       "3007    1       1  ...   04012011         2           19012011            \n",
       "3008    2       4  ...   28122010         2           26112010            \n",
       "\n",
       "     CB_PRE MORTEPARTO DTCADINF TPOBITOCOR DTCADINV  \n",
       "0       R98                                          \n",
       "1       R98                                          \n",
       "2       R98                                          \n",
       "3      O689                                          \n",
       "4      X999                                          \n",
       "...     ...        ...      ...        ...      ...  \n",
       "3004   I619                                          \n",
       "3005   I219                                          \n",
       "3006   C349                                          \n",
       "3007   C787                                          \n",
       "3008   I739                                          \n",
       "\n",
       "[3009 rows x 59 columns]"
      ],
      "text/html": "<div>\n<style scoped>\n    .dataframe tbody tr th:only-of-type {\n        vertical-align: middle;\n    }\n\n    .dataframe tbody tr th {\n        vertical-align: top;\n    }\n\n    .dataframe thead th {\n        text-align: right;\n    }\n</style>\n<table border=\"1\" class=\"dataframe\">\n  <thead>\n    <tr style=\"text-align: right;\">\n      <th></th>\n      <th>contador</th>\n      <th>ORIGEM</th>\n      <th>TIPOBITO</th>\n      <th>DTOBITO</th>\n      <th>HORAOBITO</th>\n      <th>NATURAL</th>\n      <th>DTNASC</th>\n      <th>IDADE</th>\n      <th>SEXO</th>\n      <th>RACACOR</th>\n      <th>...</th>\n      <th>DTCADASTRO</th>\n      <th>ATESTANTE</th>\n      <th>FONTEINV</th>\n      <th>DTRECEBIM</th>\n      <th>UFINFORM</th>\n      <th>CB_PRE</th>\n      <th>MORTEPARTO</th>\n      <th>DTCADINF</th>\n      <th>TPOBITOCOR</th>\n      <th>DTCADINV</th>\n    </tr>\n  </thead>\n  <tbody>\n    <tr>\n      <th>0</th>\n      <td>1</td>\n      <td>1</td>\n      <td>2</td>\n      <td>06082010</td>\n      <td>2000</td>\n      <td>831</td>\n      <td>09041945</td>\n      <td>465</td>\n      <td>2</td>\n      <td></td>\n      <td>...</td>\n      <td>19082010</td>\n      <td></td>\n      <td></td>\n      <td>20092010</td>\n      <td></td>\n      <td>R98</td>\n      <td></td>\n      <td></td>\n      <td></td>\n      <td></td>\n    </tr>\n    <tr>\n      <th>1</th>\n      <td>2</td>\n      <td>1</td>\n      <td>2</td>\n      <td>06082010</td>\n      <td>1300</td>\n      <td>812</td>\n      <td>20011912</td>\n      <td>498</td>\n      <td>1</td>\n      <td></td>\n      <td>...</td>\n      <td>19082010</td>\n      <td></td>\n      <td>2</td>\n      <td>01102010</td>\n      <td></td>\n      <td>R98</td>\n      <td></td>\n      <td></td>\n      <td></td>\n      <td></td>\n    </tr>\n    <tr>\n      <th>2</th>\n      <td>3</td>\n      <td>1</td>\n      <td>2</td>\n      <td>02102010</td>\n      <td>1700</td>\n      <td>812</td>\n      <td>17032010</td>\n      <td>306</td>\n      <td>2</td>\n      <td>4</td>\n      <td>...</td>\n      <td>05012011</td>\n      <td>3</td>\n      <td></td>\n      <td>10022011</td>\n      <td></td>\n      <td>R98</td>\n      <td></td>\n      <td></td>\n      <td></td>\n      <td></td>\n    </tr>\n    <tr>\n      <th>3</th>\n      <td>4</td>\n      <td>1</td>\n      <td>2</td>\n      <td>07042010</td>\n      <td>2300</td>\n      <td></td>\n      <td>07042010</td>\n      <td>005</td>\n      <td>2</td>\n      <td>1</td>\n      <td>...</td>\n      <td>06052010</td>\n      <td>1</td>\n      <td></td>\n      <td>20072010</td>\n      <td></td>\n      <td>O689</td>\n      <td></td>\n      <td></td>\n      <td></td>\n      <td></td>\n    </tr>\n    <tr>\n      <th>4</th>\n      <td>5</td>\n      <td>1</td>\n      <td>2</td>\n      <td>13052010</td>\n      <td>0030</td>\n      <td>812</td>\n      <td>04081971</td>\n      <td>438</td>\n      <td>1</td>\n      <td>1</td>\n      <td>...</td>\n      <td>21062010</td>\n      <td>5</td>\n      <td></td>\n      <td>20072010</td>\n      <td></td>\n      <td>X999</td>\n      <td></td>\n      <td></td>\n      <td></td>\n      <td></td>\n    </tr>\n    <tr>\n      <th>...</th>\n      <td>...</td>\n      <td>...</td>\n      <td>...</td>\n      <td>...</td>\n      <td>...</td>\n      <td>...</td>\n      <td>...</td>\n      <td>...</td>\n      <td>...</td>\n      <td>...</td>\n      <td>...</td>\n      <td>...</td>\n      <td>...</td>\n      <td>...</td>\n      <td>...</td>\n      <td>...</td>\n      <td>...</td>\n      <td>...</td>\n      <td>...</td>\n      <td>...</td>\n      <td>...</td>\n    </tr>\n    <tr>\n      <th>3004</th>\n      <td>3005</td>\n      <td>1</td>\n      <td>2</td>\n      <td>28092010</td>\n      <td>0100</td>\n      <td></td>\n      <td>20041958</td>\n      <td>452</td>\n      <td>2</td>\n      <td>4</td>\n      <td>...</td>\n      <td>20102010</td>\n      <td></td>\n      <td></td>\n      <td>11112010</td>\n      <td></td>\n      <td>I619</td>\n      <td></td>\n      <td></td>\n      <td></td>\n      <td></td>\n    </tr>\n    <tr>\n      <th>3005</th>\n      <td>3006</td>\n      <td>1</td>\n      <td>2</td>\n      <td>14102010</td>\n      <td>1015</td>\n      <td></td>\n      <td>24031928</td>\n      <td>482</td>\n      <td>1</td>\n      <td>1</td>\n      <td>...</td>\n      <td>06122010</td>\n      <td>2</td>\n      <td></td>\n      <td>19012011</td>\n      <td></td>\n      <td>I219</td>\n      <td></td>\n      <td></td>\n      <td></td>\n      <td></td>\n    </tr>\n    <tr>\n      <th>3006</th>\n      <td>3007</td>\n      <td>1</td>\n      <td>2</td>\n      <td>21112010</td>\n      <td>0650</td>\n      <td></td>\n      <td>11121955</td>\n      <td>454</td>\n      <td>2</td>\n      <td>1</td>\n      <td>...</td>\n      <td>09122010</td>\n      <td>5</td>\n      <td></td>\n      <td>17012011</td>\n      <td></td>\n      <td>C349</td>\n      <td></td>\n      <td></td>\n      <td></td>\n      <td></td>\n    </tr>\n    <tr>\n      <th>3007</th>\n      <td>3008</td>\n      <td>1</td>\n      <td>2</td>\n      <td>10112010</td>\n      <td>0500</td>\n      <td></td>\n      <td>07071955</td>\n      <td>455</td>\n      <td>1</td>\n      <td>1</td>\n      <td>...</td>\n      <td>04012011</td>\n      <td>2</td>\n      <td></td>\n      <td>19012011</td>\n      <td></td>\n      <td>C787</td>\n      <td></td>\n      <td></td>\n      <td></td>\n      <td></td>\n    </tr>\n    <tr>\n      <th>3008</th>\n      <td>3009</td>\n      <td>1</td>\n      <td>2</td>\n      <td>10102010</td>\n      <td>1240</td>\n      <td></td>\n      <td>07051976</td>\n      <td>434</td>\n      <td>2</td>\n      <td>4</td>\n      <td>...</td>\n      <td>28122010</td>\n      <td>2</td>\n      <td></td>\n      <td>26112010</td>\n      <td></td>\n      <td>I739</td>\n      <td></td>\n      <td></td>\n      <td></td>\n      <td></td>\n    </tr>\n  </tbody>\n</table>\n<p>3009 rows × 59 columns</p>\n</div>"
     },
     "metadata": {},
     "execution_count": 10
    }
   ],
   "source": [
    "df = download('ac',2010)\n",
    "df"
   ]
  },
  {
   "cell_type": "code",
   "execution_count": 11,
   "metadata": {},
   "outputs": [
    {
     "output_type": "execute_result",
     "data": {
      "text/plain": [
       "     CODMUNRES       SEXO    IDADE_ANOS CID10_CHAPTER\n",
       "0       120040   Feminino  [65.0, 66.0)            18\n",
       "1       120040  Masculino   [90.0, inf)             9\n",
       "2       120040   Feminino    [0.0, 1.0)            18\n",
       "3       120042   Feminino    [0.0, 1.0)            16\n",
       "4       120020  Masculino  [38.0, 39.0)            20\n",
       "...        ...        ...           ...           ...\n",
       "3004    120040   Feminino  [52.0, 53.0)             9\n",
       "3005    120040  Masculino  [82.0, 83.0)             9\n",
       "3006    120040   Feminino  [54.0, 55.0)             2\n",
       "3007       nan  Masculino  [55.0, 56.0)             2\n",
       "3008    120040   Feminino  [34.0, 35.0)             9\n",
       "\n",
       "[3009 rows x 4 columns]"
      ],
      "text/html": "<div>\n<style scoped>\n    .dataframe tbody tr th:only-of-type {\n        vertical-align: middle;\n    }\n\n    .dataframe tbody tr th {\n        vertical-align: top;\n    }\n\n    .dataframe thead th {\n        text-align: right;\n    }\n</style>\n<table border=\"1\" class=\"dataframe\">\n  <thead>\n    <tr style=\"text-align: right;\">\n      <th></th>\n      <th>CODMUNRES</th>\n      <th>SEXO</th>\n      <th>IDADE_ANOS</th>\n      <th>CID10_CHAPTER</th>\n    </tr>\n  </thead>\n  <tbody>\n    <tr>\n      <th>0</th>\n      <td>120040</td>\n      <td>Feminino</td>\n      <td>[65.0, 66.0)</td>\n      <td>18</td>\n    </tr>\n    <tr>\n      <th>1</th>\n      <td>120040</td>\n      <td>Masculino</td>\n      <td>[90.0, inf)</td>\n      <td>9</td>\n    </tr>\n    <tr>\n      <th>2</th>\n      <td>120040</td>\n      <td>Feminino</td>\n      <td>[0.0, 1.0)</td>\n      <td>18</td>\n    </tr>\n    <tr>\n      <th>3</th>\n      <td>120042</td>\n      <td>Feminino</td>\n      <td>[0.0, 1.0)</td>\n      <td>16</td>\n    </tr>\n    <tr>\n      <th>4</th>\n      <td>120020</td>\n      <td>Masculino</td>\n      <td>[38.0, 39.0)</td>\n      <td>20</td>\n    </tr>\n    <tr>\n      <th>...</th>\n      <td>...</td>\n      <td>...</td>\n      <td>...</td>\n      <td>...</td>\n    </tr>\n    <tr>\n      <th>3004</th>\n      <td>120040</td>\n      <td>Feminino</td>\n      <td>[52.0, 53.0)</td>\n      <td>9</td>\n    </tr>\n    <tr>\n      <th>3005</th>\n      <td>120040</td>\n      <td>Masculino</td>\n      <td>[82.0, 83.0)</td>\n      <td>9</td>\n    </tr>\n    <tr>\n      <th>3006</th>\n      <td>120040</td>\n      <td>Feminino</td>\n      <td>[54.0, 55.0)</td>\n      <td>2</td>\n    </tr>\n    <tr>\n      <th>3007</th>\n      <td>nan</td>\n      <td>Masculino</td>\n      <td>[55.0, 56.0)</td>\n      <td>2</td>\n    </tr>\n    <tr>\n      <th>3008</th>\n      <td>120040</td>\n      <td>Feminino</td>\n      <td>[34.0, 35.0)</td>\n      <td>9</td>\n    </tr>\n  </tbody>\n</table>\n<p>3009 rows × 4 columns</p>\n</div>"
     },
     "metadata": {},
     "execution_count": 11
    }
   ],
   "source": [
    "variables = ['CODMUNRES','SEXO','IDADE_ANOS','CID10_CHAPTER']\n",
    "df = translate_variables_SIM(df,age_classes=True,classify_cid10_chapters=True)\n",
    "df = df[variables]\n",
    "df"
   ]
  },
  {
   "cell_type": "code",
   "execution_count": 12,
   "metadata": {},
   "outputs": [
    {
     "output_type": "execute_result",
     "data": {
      "text/plain": [
       "       CODMUNRES      SEXO  IDADE_ANOS CID10_CHAPTER  COUNTS\n",
       "0         120001  Feminino  [0.0, 1.0)             1     1.0\n",
       "1         120001  Feminino  [0.0, 1.0)             2     0.0\n",
       "2         120001  Feminino  [0.0, 1.0)             3     0.0\n",
       "3         120001  Feminino  [0.0, 1.0)             4     0.0\n",
       "4         120001  Feminino  [0.0, 1.0)             5     0.0\n",
       "...          ...       ...         ...           ...     ...\n",
       "107911       nan       nan         nan            15     0.0\n",
       "107912       nan       nan         nan            16     0.0\n",
       "107913       nan       nan         nan            17     0.0\n",
       "107914       nan       nan         nan            18     0.0\n",
       "107915       nan       nan         nan            20     0.0\n",
       "\n",
       "[107916 rows x 5 columns]"
      ],
      "text/html": "<div>\n<style scoped>\n    .dataframe tbody tr th:only-of-type {\n        vertical-align: middle;\n    }\n\n    .dataframe tbody tr th {\n        vertical-align: top;\n    }\n\n    .dataframe thead th {\n        text-align: right;\n    }\n</style>\n<table border=\"1\" class=\"dataframe\">\n  <thead>\n    <tr style=\"text-align: right;\">\n      <th></th>\n      <th>CODMUNRES</th>\n      <th>SEXO</th>\n      <th>IDADE_ANOS</th>\n      <th>CID10_CHAPTER</th>\n      <th>COUNTS</th>\n    </tr>\n  </thead>\n  <tbody>\n    <tr>\n      <th>0</th>\n      <td>120001</td>\n      <td>Feminino</td>\n      <td>[0.0, 1.0)</td>\n      <td>1</td>\n      <td>1.0</td>\n    </tr>\n    <tr>\n      <th>1</th>\n      <td>120001</td>\n      <td>Feminino</td>\n      <td>[0.0, 1.0)</td>\n      <td>2</td>\n      <td>0.0</td>\n    </tr>\n    <tr>\n      <th>2</th>\n      <td>120001</td>\n      <td>Feminino</td>\n      <td>[0.0, 1.0)</td>\n      <td>3</td>\n      <td>0.0</td>\n    </tr>\n    <tr>\n      <th>3</th>\n      <td>120001</td>\n      <td>Feminino</td>\n      <td>[0.0, 1.0)</td>\n      <td>4</td>\n      <td>0.0</td>\n    </tr>\n    <tr>\n      <th>4</th>\n      <td>120001</td>\n      <td>Feminino</td>\n      <td>[0.0, 1.0)</td>\n      <td>5</td>\n      <td>0.0</td>\n    </tr>\n    <tr>\n      <th>...</th>\n      <td>...</td>\n      <td>...</td>\n      <td>...</td>\n      <td>...</td>\n      <td>...</td>\n    </tr>\n    <tr>\n      <th>107911</th>\n      <td>nan</td>\n      <td>nan</td>\n      <td>nan</td>\n      <td>15</td>\n      <td>0.0</td>\n    </tr>\n    <tr>\n      <th>107912</th>\n      <td>nan</td>\n      <td>nan</td>\n      <td>nan</td>\n      <td>16</td>\n      <td>0.0</td>\n    </tr>\n    <tr>\n      <th>107913</th>\n      <td>nan</td>\n      <td>nan</td>\n      <td>nan</td>\n      <td>17</td>\n      <td>0.0</td>\n    </tr>\n    <tr>\n      <th>107914</th>\n      <td>nan</td>\n      <td>nan</td>\n      <td>nan</td>\n      <td>18</td>\n      <td>0.0</td>\n    </tr>\n    <tr>\n      <th>107915</th>\n      <td>nan</td>\n      <td>nan</td>\n      <td>nan</td>\n      <td>20</td>\n      <td>0.0</td>\n    </tr>\n  </tbody>\n</table>\n<p>107916 rows × 5 columns</p>\n</div>"
     },
     "metadata": {},
     "execution_count": 12
    }
   ],
   "source": [
    "counts = group_and_count(df,variables)\n",
    "counts"
   ]
  },
  {
   "cell_type": "code",
   "execution_count": 13,
   "metadata": {
    "tags": []
   },
   "outputs": [
    {
     "output_type": "execute_result",
     "data": {
      "text/plain": [
       "       CODMUNRES       SEXO   IDADE_ANOS CID10_CHAPTER  COUNTS  \\\n",
       "0         120001   Feminino   [0.0, 1.0)             1     1.0   \n",
       "1         120001   Feminino   [0.0, 1.0)             2     0.0   \n",
       "2         120001   Feminino   [0.0, 1.0)             3     0.0   \n",
       "3         120001   Feminino   [0.0, 1.0)             4     0.0   \n",
       "4         120001   Feminino   [0.0, 1.0)             5     0.0   \n",
       "...          ...        ...          ...           ...     ...   \n",
       "101638    120080  Masculino  [90.0, inf)            15     0.0   \n",
       "101639    120080  Masculino  [90.0, inf)            16     0.0   \n",
       "101640    120080  Masculino  [90.0, inf)            17     0.0   \n",
       "101641    120080  Masculino  [90.0, inf)            18     0.0   \n",
       "101642    120080  Masculino  [90.0, inf)            20     1.0   \n",
       "\n",
       "        COUNTS_ORIGINAL  \n",
       "0                   1.0  \n",
       "1                   0.0  \n",
       "2                   0.0  \n",
       "3                   0.0  \n",
       "4                   0.0  \n",
       "...                 ...  \n",
       "101638              0.0  \n",
       "101639              0.0  \n",
       "101640              0.0  \n",
       "101641              0.0  \n",
       "101642              1.0  \n",
       "\n",
       "[68068 rows x 6 columns]"
      ],
      "text/html": "<div>\n<style scoped>\n    .dataframe tbody tr th:only-of-type {\n        vertical-align: middle;\n    }\n\n    .dataframe tbody tr th {\n        vertical-align: top;\n    }\n\n    .dataframe thead th {\n        text-align: right;\n    }\n</style>\n<table border=\"1\" class=\"dataframe\">\n  <thead>\n    <tr style=\"text-align: right;\">\n      <th></th>\n      <th>CODMUNRES</th>\n      <th>SEXO</th>\n      <th>IDADE_ANOS</th>\n      <th>CID10_CHAPTER</th>\n      <th>COUNTS</th>\n      <th>COUNTS_ORIGINAL</th>\n    </tr>\n  </thead>\n  <tbody>\n    <tr>\n      <th>0</th>\n      <td>120001</td>\n      <td>Feminino</td>\n      <td>[0.0, 1.0)</td>\n      <td>1</td>\n      <td>1.0</td>\n      <td>1.0</td>\n    </tr>\n    <tr>\n      <th>1</th>\n      <td>120001</td>\n      <td>Feminino</td>\n      <td>[0.0, 1.0)</td>\n      <td>2</td>\n      <td>0.0</td>\n      <td>0.0</td>\n    </tr>\n    <tr>\n      <th>2</th>\n      <td>120001</td>\n      <td>Feminino</td>\n      <td>[0.0, 1.0)</td>\n      <td>3</td>\n      <td>0.0</td>\n      <td>0.0</td>\n    </tr>\n    <tr>\n      <th>3</th>\n      <td>120001</td>\n      <td>Feminino</td>\n      <td>[0.0, 1.0)</td>\n      <td>4</td>\n      <td>0.0</td>\n      <td>0.0</td>\n    </tr>\n    <tr>\n      <th>4</th>\n      <td>120001</td>\n      <td>Feminino</td>\n      <td>[0.0, 1.0)</td>\n      <td>5</td>\n      <td>0.0</td>\n      <td>0.0</td>\n    </tr>\n    <tr>\n      <th>...</th>\n      <td>...</td>\n      <td>...</td>\n      <td>...</td>\n      <td>...</td>\n      <td>...</td>\n      <td>...</td>\n    </tr>\n    <tr>\n      <th>101638</th>\n      <td>120080</td>\n      <td>Masculino</td>\n      <td>[90.0, inf)</td>\n      <td>15</td>\n      <td>0.0</td>\n      <td>0.0</td>\n    </tr>\n    <tr>\n      <th>101639</th>\n      <td>120080</td>\n      <td>Masculino</td>\n      <td>[90.0, inf)</td>\n      <td>16</td>\n      <td>0.0</td>\n      <td>0.0</td>\n    </tr>\n    <tr>\n      <th>101640</th>\n      <td>120080</td>\n      <td>Masculino</td>\n      <td>[90.0, inf)</td>\n      <td>17</td>\n      <td>0.0</td>\n      <td>0.0</td>\n    </tr>\n    <tr>\n      <th>101641</th>\n      <td>120080</td>\n      <td>Masculino</td>\n      <td>[90.0, inf)</td>\n      <td>18</td>\n      <td>0.0</td>\n      <td>0.0</td>\n    </tr>\n    <tr>\n      <th>101642</th>\n      <td>120080</td>\n      <td>Masculino</td>\n      <td>[90.0, inf)</td>\n      <td>20</td>\n      <td>1.0</td>\n      <td>1.0</td>\n    </tr>\n  </tbody>\n</table>\n<p>68068 rows × 6 columns</p>\n</div>"
     },
     "metadata": {},
     "execution_count": 13
    }
   ],
   "source": [
    "counts['COUNTS_ORIGINAL'] = counts['COUNTS']\n",
    "counts = redistribute_missing(counts,['CODMUNRES','SEXO','IDADE_ANOS'])\n",
    "counts"
   ]
  },
  {
   "cell_type": "code",
   "execution_count": 14,
   "metadata": {},
   "outputs": [
    {
     "output_type": "execute_result",
     "data": {
      "text/plain": [
       "       CODMUNRES       SEXO   IDADE_ANOS CID10_CHAPTER    COUNTS  \\\n",
       "0         120001   Feminino   [0.0, 1.0)             1  1.000000   \n",
       "1         120001   Feminino   [0.0, 1.0)             2  0.000000   \n",
       "2         120001   Feminino   [0.0, 1.0)             3  0.000000   \n",
       "3         120001   Feminino   [0.0, 1.0)             4  0.000000   \n",
       "4         120001   Feminino   [0.0, 1.0)             5  0.000000   \n",
       "...          ...        ...          ...           ...       ...   \n",
       "101637    120080  Masculino  [90.0, inf)            14  0.000000   \n",
       "101638    120080  Masculino  [90.0, inf)            15  0.000000   \n",
       "101639    120080  Masculino  [90.0, inf)            16  0.000000   \n",
       "101640    120080  Masculino  [90.0, inf)            17  0.000000   \n",
       "101642    120080  Masculino  [90.0, inf)            20  1.106748   \n",
       "\n",
       "        COUNTS_ORIGINAL  \n",
       "0                   1.0  \n",
       "1                   0.0  \n",
       "2                   0.0  \n",
       "3                   0.0  \n",
       "4                   0.0  \n",
       "...                 ...  \n",
       "101637              0.0  \n",
       "101638              0.0  \n",
       "101639              0.0  \n",
       "101640              0.0  \n",
       "101642              1.0  \n",
       "\n",
       "[64064 rows x 6 columns]"
      ],
      "text/html": "<div>\n<style scoped>\n    .dataframe tbody tr th:only-of-type {\n        vertical-align: middle;\n    }\n\n    .dataframe tbody tr th {\n        vertical-align: top;\n    }\n\n    .dataframe thead th {\n        text-align: right;\n    }\n</style>\n<table border=\"1\" class=\"dataframe\">\n  <thead>\n    <tr style=\"text-align: right;\">\n      <th></th>\n      <th>CODMUNRES</th>\n      <th>SEXO</th>\n      <th>IDADE_ANOS</th>\n      <th>CID10_CHAPTER</th>\n      <th>COUNTS</th>\n      <th>COUNTS_ORIGINAL</th>\n    </tr>\n  </thead>\n  <tbody>\n    <tr>\n      <th>0</th>\n      <td>120001</td>\n      <td>Feminino</td>\n      <td>[0.0, 1.0)</td>\n      <td>1</td>\n      <td>1.000000</td>\n      <td>1.0</td>\n    </tr>\n    <tr>\n      <th>1</th>\n      <td>120001</td>\n      <td>Feminino</td>\n      <td>[0.0, 1.0)</td>\n      <td>2</td>\n      <td>0.000000</td>\n      <td>0.0</td>\n    </tr>\n    <tr>\n      <th>2</th>\n      <td>120001</td>\n      <td>Feminino</td>\n      <td>[0.0, 1.0)</td>\n      <td>3</td>\n      <td>0.000000</td>\n      <td>0.0</td>\n    </tr>\n    <tr>\n      <th>3</th>\n      <td>120001</td>\n      <td>Feminino</td>\n      <td>[0.0, 1.0)</td>\n      <td>4</td>\n      <td>0.000000</td>\n      <td>0.0</td>\n    </tr>\n    <tr>\n      <th>4</th>\n      <td>120001</td>\n      <td>Feminino</td>\n      <td>[0.0, 1.0)</td>\n      <td>5</td>\n      <td>0.000000</td>\n      <td>0.0</td>\n    </tr>\n    <tr>\n      <th>...</th>\n      <td>...</td>\n      <td>...</td>\n      <td>...</td>\n      <td>...</td>\n      <td>...</td>\n      <td>...</td>\n    </tr>\n    <tr>\n      <th>101637</th>\n      <td>120080</td>\n      <td>Masculino</td>\n      <td>[90.0, inf)</td>\n      <td>14</td>\n      <td>0.000000</td>\n      <td>0.0</td>\n    </tr>\n    <tr>\n      <th>101638</th>\n      <td>120080</td>\n      <td>Masculino</td>\n      <td>[90.0, inf)</td>\n      <td>15</td>\n      <td>0.000000</td>\n      <td>0.0</td>\n    </tr>\n    <tr>\n      <th>101639</th>\n      <td>120080</td>\n      <td>Masculino</td>\n      <td>[90.0, inf)</td>\n      <td>16</td>\n      <td>0.000000</td>\n      <td>0.0</td>\n    </tr>\n    <tr>\n      <th>101640</th>\n      <td>120080</td>\n      <td>Masculino</td>\n      <td>[90.0, inf)</td>\n      <td>17</td>\n      <td>0.000000</td>\n      <td>0.0</td>\n    </tr>\n    <tr>\n      <th>101642</th>\n      <td>120080</td>\n      <td>Masculino</td>\n      <td>[90.0, inf)</td>\n      <td>20</td>\n      <td>1.106748</td>\n      <td>1.0</td>\n    </tr>\n  </tbody>\n</table>\n<p>64064 rows × 6 columns</p>\n</div>"
     },
     "metadata": {},
     "execution_count": 14
    }
   ],
   "source": [
    "counts = redistribute_cid_chapter(counts,['CODMUNRES','SEXO','IDADE_ANOS'])\n",
    "counts"
   ]
  },
  {
   "cell_type": "code",
   "execution_count": null,
   "metadata": {},
   "outputs": [],
   "source": []
  }
 ]
}