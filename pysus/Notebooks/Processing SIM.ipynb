{
 "metadata": {
  "language_info": {
   "codemirror_mode": {
    "name": "ipython",
    "version": 3
   },
   "file_extension": ".py",
   "mimetype": "text/x-python",
   "name": "python",
   "nbconvert_exporter": "python",
   "pygments_lexer": "ipython3",
   "version": "3.7.5-final"
  },
  "orig_nbformat": 2,
  "kernelspec": {
   "name": "python_defaultSpec_1597583580999",
   "display_name": "Python 3.7.5 64-bit"
  }
 },
 "nbformat": 4,
 "nbformat_minor": 2,
 "cells": [
  {
   "cell_type": "markdown",
   "metadata": {},
   "source": [
    "## Processin SIM data"
   ]
  },
  {
   "cell_type": "code",
   "execution_count": 13,
   "metadata": {},
   "outputs": [],
   "source": [
    "from pysus.online_data.SIM import download\n",
    "from pysus.preprocessing.decoders import translate_variables_SIM, group_and_count, redistribute"
   ]
  },
  {
   "cell_type": "code",
   "execution_count": 14,
   "metadata": {},
   "outputs": [
    {
     "output_type": "execute_result",
     "data": {
      "text/plain": "       CONTADOR ORIGEM TIPOBITO   DTOBITO HORAOBITO NATURAL    DTNASC IDADE  \\\n0             1      1        2  22072010      0700     829  18011933   477   \n1             2      1        2  30082010      0700     831  05111945   464   \n2             3      1        2  25092010      1700     835  26051938   472   \n3             4      1        2  29012010      0740     835  04031966   443   \n4             5      1        2  01072010      1600     831  04111927   482   \n...         ...    ...      ...       ...       ...     ...       ...   ...   \n264946   264947      3        2  25122010      0345     826  28031930   480   \n264947   264948      3        2  25122010      1800     835  19111945   465   \n264948   264949      3        2  25122010      2100     835  27071927   483   \n264949   264950      3        2  25122010      2005     835  22061909   501   \n264950   264951      3        2  28012010               835  10051973   436   \n\n       SEXO RACACOR  ... DTCADASTRO ATESTANTE FONTEINV DTRECEBIM UFINFORM  \\\n0         1       1  ...   28072010         1           30082010            \n1         2       2  ...   14092010         1           13102010            \n2         1       3  ...   13102010         1           27102010            \n3         1          ...   22022010         1           12032010            \n4         1       1  ...   10082010         2           12082010            \n...     ...     ...  ...        ...       ...      ...       ...      ...   \n264946    1          ...                    4                               \n264947    1          ...                                                    \n264948    2          ...                                                    \n264949    2          ...                                                    \n264950    1          ...                                                    \n\n       CB_PRE MORTEPARTO DTCADINF TPOBITOCOR DTCADINV  \n0        J180                                          \n1        C169                                          \n2        I219                                          \n3        B208                                          \n4        I251                                          \n...       ...        ...      ...        ...      ...  \n264946                                                 \n264947                                                 \n264948                                                 \n264949                                                 \n264950                                                 \n\n[264951 rows x 58 columns]",
      "text/html": "<div>\n<style scoped>\n    .dataframe tbody tr th:only-of-type {\n        vertical-align: middle;\n    }\n\n    .dataframe tbody tr th {\n        vertical-align: top;\n    }\n\n    .dataframe thead th {\n        text-align: right;\n    }\n</style>\n<table border=\"1\" class=\"dataframe\">\n  <thead>\n    <tr style=\"text-align: right;\">\n      <th></th>\n      <th>CONTADOR</th>\n      <th>ORIGEM</th>\n      <th>TIPOBITO</th>\n      <th>DTOBITO</th>\n      <th>HORAOBITO</th>\n      <th>NATURAL</th>\n      <th>DTNASC</th>\n      <th>IDADE</th>\n      <th>SEXO</th>\n      <th>RACACOR</th>\n      <th>...</th>\n      <th>DTCADASTRO</th>\n      <th>ATESTANTE</th>\n      <th>FONTEINV</th>\n      <th>DTRECEBIM</th>\n      <th>UFINFORM</th>\n      <th>CB_PRE</th>\n      <th>MORTEPARTO</th>\n      <th>DTCADINF</th>\n      <th>TPOBITOCOR</th>\n      <th>DTCADINV</th>\n    </tr>\n  </thead>\n  <tbody>\n    <tr>\n      <th>0</th>\n      <td>1</td>\n      <td>1</td>\n      <td>2</td>\n      <td>22072010</td>\n      <td>0700</td>\n      <td>829</td>\n      <td>18011933</td>\n      <td>477</td>\n      <td>1</td>\n      <td>1</td>\n      <td>...</td>\n      <td>28072010</td>\n      <td>1</td>\n      <td></td>\n      <td>30082010</td>\n      <td></td>\n      <td>J180</td>\n      <td></td>\n      <td></td>\n      <td></td>\n      <td></td>\n    </tr>\n    <tr>\n      <th>1</th>\n      <td>2</td>\n      <td>1</td>\n      <td>2</td>\n      <td>30082010</td>\n      <td>0700</td>\n      <td>831</td>\n      <td>05111945</td>\n      <td>464</td>\n      <td>2</td>\n      <td>2</td>\n      <td>...</td>\n      <td>14092010</td>\n      <td>1</td>\n      <td></td>\n      <td>13102010</td>\n      <td></td>\n      <td>C169</td>\n      <td></td>\n      <td></td>\n      <td></td>\n      <td></td>\n    </tr>\n    <tr>\n      <th>2</th>\n      <td>3</td>\n      <td>1</td>\n      <td>2</td>\n      <td>25092010</td>\n      <td>1700</td>\n      <td>835</td>\n      <td>26051938</td>\n      <td>472</td>\n      <td>1</td>\n      <td>3</td>\n      <td>...</td>\n      <td>13102010</td>\n      <td>1</td>\n      <td></td>\n      <td>27102010</td>\n      <td></td>\n      <td>I219</td>\n      <td></td>\n      <td></td>\n      <td></td>\n      <td></td>\n    </tr>\n    <tr>\n      <th>3</th>\n      <td>4</td>\n      <td>1</td>\n      <td>2</td>\n      <td>29012010</td>\n      <td>0740</td>\n      <td>835</td>\n      <td>04031966</td>\n      <td>443</td>\n      <td>1</td>\n      <td></td>\n      <td>...</td>\n      <td>22022010</td>\n      <td>1</td>\n      <td></td>\n      <td>12032010</td>\n      <td></td>\n      <td>B208</td>\n      <td></td>\n      <td></td>\n      <td></td>\n      <td></td>\n    </tr>\n    <tr>\n      <th>4</th>\n      <td>5</td>\n      <td>1</td>\n      <td>2</td>\n      <td>01072010</td>\n      <td>1600</td>\n      <td>831</td>\n      <td>04111927</td>\n      <td>482</td>\n      <td>1</td>\n      <td>1</td>\n      <td>...</td>\n      <td>10082010</td>\n      <td>2</td>\n      <td></td>\n      <td>12082010</td>\n      <td></td>\n      <td>I251</td>\n      <td></td>\n      <td></td>\n      <td></td>\n      <td></td>\n    </tr>\n    <tr>\n      <th>...</th>\n      <td>...</td>\n      <td>...</td>\n      <td>...</td>\n      <td>...</td>\n      <td>...</td>\n      <td>...</td>\n      <td>...</td>\n      <td>...</td>\n      <td>...</td>\n      <td>...</td>\n      <td>...</td>\n      <td>...</td>\n      <td>...</td>\n      <td>...</td>\n      <td>...</td>\n      <td>...</td>\n      <td>...</td>\n      <td>...</td>\n      <td>...</td>\n      <td>...</td>\n      <td>...</td>\n    </tr>\n    <tr>\n      <th>264946</th>\n      <td>264947</td>\n      <td>3</td>\n      <td>2</td>\n      <td>25122010</td>\n      <td>0345</td>\n      <td>826</td>\n      <td>28031930</td>\n      <td>480</td>\n      <td>1</td>\n      <td></td>\n      <td>...</td>\n      <td></td>\n      <td>4</td>\n      <td></td>\n      <td></td>\n      <td></td>\n      <td></td>\n      <td></td>\n      <td></td>\n      <td></td>\n      <td></td>\n    </tr>\n    <tr>\n      <th>264947</th>\n      <td>264948</td>\n      <td>3</td>\n      <td>2</td>\n      <td>25122010</td>\n      <td>1800</td>\n      <td>835</td>\n      <td>19111945</td>\n      <td>465</td>\n      <td>1</td>\n      <td></td>\n      <td>...</td>\n      <td></td>\n      <td></td>\n      <td></td>\n      <td></td>\n      <td></td>\n      <td></td>\n      <td></td>\n      <td></td>\n      <td></td>\n      <td></td>\n    </tr>\n    <tr>\n      <th>264948</th>\n      <td>264949</td>\n      <td>3</td>\n      <td>2</td>\n      <td>25122010</td>\n      <td>2100</td>\n      <td>835</td>\n      <td>27071927</td>\n      <td>483</td>\n      <td>2</td>\n      <td></td>\n      <td>...</td>\n      <td></td>\n      <td></td>\n      <td></td>\n      <td></td>\n      <td></td>\n      <td></td>\n      <td></td>\n      <td></td>\n      <td></td>\n      <td></td>\n    </tr>\n    <tr>\n      <th>264949</th>\n      <td>264950</td>\n      <td>3</td>\n      <td>2</td>\n      <td>25122010</td>\n      <td>2005</td>\n      <td>835</td>\n      <td>22061909</td>\n      <td>501</td>\n      <td>2</td>\n      <td></td>\n      <td>...</td>\n      <td></td>\n      <td></td>\n      <td></td>\n      <td></td>\n      <td></td>\n      <td></td>\n      <td></td>\n      <td></td>\n      <td></td>\n      <td></td>\n    </tr>\n    <tr>\n      <th>264950</th>\n      <td>264951</td>\n      <td>3</td>\n      <td>2</td>\n      <td>28012010</td>\n      <td></td>\n      <td>835</td>\n      <td>10051973</td>\n      <td>436</td>\n      <td>1</td>\n      <td></td>\n      <td>...</td>\n      <td></td>\n      <td></td>\n      <td></td>\n      <td></td>\n      <td></td>\n      <td></td>\n      <td></td>\n      <td></td>\n      <td></td>\n      <td></td>\n    </tr>\n  </tbody>\n</table>\n<p>264951 rows × 58 columns</p>\n</div>"
     },
     "metadata": {},
     "execution_count": 14
    }
   ],
   "source": [
    "df = download('sp',2010)\n",
    "df"
   ]
  },
  {
   "cell_type": "code",
   "execution_count": 15,
   "metadata": {},
   "outputs": [
    {
     "output_type": "execute_result",
     "data": {
      "text/plain": "       CODMUNRES       SEXO    IDADE_ANOS\n0        3550308  Masculino  [77.0, 78.0)\n1        3550308   Feminino  [64.0, 65.0)\n2        3550308  Masculino  [72.0, 73.0)\n3        3550308  Masculino  [43.0, 44.0)\n4        3550308  Masculino  [82.0, 83.0)\n...          ...        ...           ...\n264946   3550308  Masculino  [80.0, 81.0)\n264947   3550308  Masculino  [65.0, 66.0)\n264948   3550308   Feminino  [83.0, 84.0)\n264949   3550308   Feminino   [90.0, inf)\n264950   3522208  Masculino  [36.0, 37.0)\n\n[264951 rows x 3 columns]",
      "text/html": "<div>\n<style scoped>\n    .dataframe tbody tr th:only-of-type {\n        vertical-align: middle;\n    }\n\n    .dataframe tbody tr th {\n        vertical-align: top;\n    }\n\n    .dataframe thead th {\n        text-align: right;\n    }\n</style>\n<table border=\"1\" class=\"dataframe\">\n  <thead>\n    <tr style=\"text-align: right;\">\n      <th></th>\n      <th>CODMUNRES</th>\n      <th>SEXO</th>\n      <th>IDADE_ANOS</th>\n    </tr>\n  </thead>\n  <tbody>\n    <tr>\n      <th>0</th>\n      <td>3550308</td>\n      <td>Masculino</td>\n      <td>[77.0, 78.0)</td>\n    </tr>\n    <tr>\n      <th>1</th>\n      <td>3550308</td>\n      <td>Feminino</td>\n      <td>[64.0, 65.0)</td>\n    </tr>\n    <tr>\n      <th>2</th>\n      <td>3550308</td>\n      <td>Masculino</td>\n      <td>[72.0, 73.0)</td>\n    </tr>\n    <tr>\n      <th>3</th>\n      <td>3550308</td>\n      <td>Masculino</td>\n      <td>[43.0, 44.0)</td>\n    </tr>\n    <tr>\n      <th>4</th>\n      <td>3550308</td>\n      <td>Masculino</td>\n      <td>[82.0, 83.0)</td>\n    </tr>\n    <tr>\n      <th>...</th>\n      <td>...</td>\n      <td>...</td>\n      <td>...</td>\n    </tr>\n    <tr>\n      <th>264946</th>\n      <td>3550308</td>\n      <td>Masculino</td>\n      <td>[80.0, 81.0)</td>\n    </tr>\n    <tr>\n      <th>264947</th>\n      <td>3550308</td>\n      <td>Masculino</td>\n      <td>[65.0, 66.0)</td>\n    </tr>\n    <tr>\n      <th>264948</th>\n      <td>3550308</td>\n      <td>Feminino</td>\n      <td>[83.0, 84.0)</td>\n    </tr>\n    <tr>\n      <th>264949</th>\n      <td>3550308</td>\n      <td>Feminino</td>\n      <td>[90.0, inf)</td>\n    </tr>\n    <tr>\n      <th>264950</th>\n      <td>3522208</td>\n      <td>Masculino</td>\n      <td>[36.0, 37.0)</td>\n    </tr>\n  </tbody>\n</table>\n<p>264951 rows × 3 columns</p>\n</div>"
     },
     "metadata": {},
     "execution_count": 15
    }
   ],
   "source": [
    "variables = ['CODMUNRES','SEXO','IDADE_ANOS']\n",
    "df = translate_variables_SIM(df,age_classes=True)\n",
    "df = df[variables]\n",
    "df"
   ]
  },
  {
   "cell_type": "code",
   "execution_count": 16,
   "metadata": {},
   "outputs": [
    {
     "output_type": "execute_result",
     "data": {
      "text/plain": "       CODMUNRES      SEXO    IDADE_ANOS  CONTAGEM\n0        3500105  Feminino    [0.0, 1.0)       0.0\n1        3500105  Feminino    [1.0, 2.0)       0.0\n2        3500105  Feminino    [2.0, 3.0)       0.0\n3        3500105  Feminino    [3.0, 4.0)       0.0\n4        3500105  Feminino    [4.0, 5.0)       0.0\n...          ...       ...           ...       ...\n178291       nan       nan  [87.0, 88.0)       0.0\n178292       nan       nan  [88.0, 89.0)       0.0\n178293       nan       nan  [89.0, 90.0)       0.0\n178294       nan       nan   [90.0, inf)       0.0\n178295       nan       nan           nan      22.0\n\n[178296 rows x 4 columns]",
      "text/html": "<div>\n<style scoped>\n    .dataframe tbody tr th:only-of-type {\n        vertical-align: middle;\n    }\n\n    .dataframe tbody tr th {\n        vertical-align: top;\n    }\n\n    .dataframe thead th {\n        text-align: right;\n    }\n</style>\n<table border=\"1\" class=\"dataframe\">\n  <thead>\n    <tr style=\"text-align: right;\">\n      <th></th>\n      <th>CODMUNRES</th>\n      <th>SEXO</th>\n      <th>IDADE_ANOS</th>\n      <th>CONTAGEM</th>\n    </tr>\n  </thead>\n  <tbody>\n    <tr>\n      <th>0</th>\n      <td>3500105</td>\n      <td>Feminino</td>\n      <td>[0.0, 1.0)</td>\n      <td>0.0</td>\n    </tr>\n    <tr>\n      <th>1</th>\n      <td>3500105</td>\n      <td>Feminino</td>\n      <td>[1.0, 2.0)</td>\n      <td>0.0</td>\n    </tr>\n    <tr>\n      <th>2</th>\n      <td>3500105</td>\n      <td>Feminino</td>\n      <td>[2.0, 3.0)</td>\n      <td>0.0</td>\n    </tr>\n    <tr>\n      <th>3</th>\n      <td>3500105</td>\n      <td>Feminino</td>\n      <td>[3.0, 4.0)</td>\n      <td>0.0</td>\n    </tr>\n    <tr>\n      <th>4</th>\n      <td>3500105</td>\n      <td>Feminino</td>\n      <td>[4.0, 5.0)</td>\n      <td>0.0</td>\n    </tr>\n    <tr>\n      <th>...</th>\n      <td>...</td>\n      <td>...</td>\n      <td>...</td>\n      <td>...</td>\n    </tr>\n    <tr>\n      <th>178291</th>\n      <td>nan</td>\n      <td>nan</td>\n      <td>[87.0, 88.0)</td>\n      <td>0.0</td>\n    </tr>\n    <tr>\n      <th>178292</th>\n      <td>nan</td>\n      <td>nan</td>\n      <td>[88.0, 89.0)</td>\n      <td>0.0</td>\n    </tr>\n    <tr>\n      <th>178293</th>\n      <td>nan</td>\n      <td>nan</td>\n      <td>[89.0, 90.0)</td>\n      <td>0.0</td>\n    </tr>\n    <tr>\n      <th>178294</th>\n      <td>nan</td>\n      <td>nan</td>\n      <td>[90.0, inf)</td>\n      <td>0.0</td>\n    </tr>\n    <tr>\n      <th>178295</th>\n      <td>nan</td>\n      <td>nan</td>\n      <td>nan</td>\n      <td>22.0</td>\n    </tr>\n  </tbody>\n</table>\n<p>178296 rows × 4 columns</p>\n</div>"
     },
     "metadata": {},
     "execution_count": 16
    }
   ],
   "source": [
    "counts = group_and_count(df,variables)\n",
    "counts"
   ]
  },
  {
   "cell_type": "code",
   "execution_count": 17,
   "metadata": {
    "tags": []
   },
   "outputs": [
    {
     "output_type": "stream",
     "name": "stdout",
     "text": "Criando dataframes de dados faltantes\n"
    },
    {
     "output_type": "execute_result",
     "data": {
      "text/plain": "       CODMUNRES       SEXO    IDADE_ANOS  CONTAGEM\n0        3500105   Feminino    [0.0, 1.0)  0.000000\n1        3500105   Feminino    [1.0, 2.0)  0.000000\n2        3500105   Feminino    [2.0, 3.0)  0.000000\n3        3500105   Feminino    [3.0, 4.0)  0.000000\n4        3500105   Feminino    [4.0, 5.0)  0.000000\n...          ...        ...           ...       ...\n177922   3557303  Masculino  [86.0, 87.0)  1.002131\n177923   3557303  Masculino  [87.0, 88.0)  1.002131\n177924   3557303  Masculino  [88.0, 89.0)  0.000000\n177925   3557303  Masculino  [89.0, 90.0)  2.004263\n177926   3557303  Masculino   [90.0, inf)  0.000000\n\n[117390 rows x 4 columns]",
      "text/html": "<div>\n<style scoped>\n    .dataframe tbody tr th:only-of-type {\n        vertical-align: middle;\n    }\n\n    .dataframe tbody tr th {\n        vertical-align: top;\n    }\n\n    .dataframe thead th {\n        text-align: right;\n    }\n</style>\n<table border=\"1\" class=\"dataframe\">\n  <thead>\n    <tr style=\"text-align: right;\">\n      <th></th>\n      <th>CODMUNRES</th>\n      <th>SEXO</th>\n      <th>IDADE_ANOS</th>\n      <th>CONTAGEM</th>\n    </tr>\n  </thead>\n  <tbody>\n    <tr>\n      <th>0</th>\n      <td>3500105</td>\n      <td>Feminino</td>\n      <td>[0.0, 1.0)</td>\n      <td>0.000000</td>\n    </tr>\n    <tr>\n      <th>1</th>\n      <td>3500105</td>\n      <td>Feminino</td>\n      <td>[1.0, 2.0)</td>\n      <td>0.000000</td>\n    </tr>\n    <tr>\n      <th>2</th>\n      <td>3500105</td>\n      <td>Feminino</td>\n      <td>[2.0, 3.0)</td>\n      <td>0.000000</td>\n    </tr>\n    <tr>\n      <th>3</th>\n      <td>3500105</td>\n      <td>Feminino</td>\n      <td>[3.0, 4.0)</td>\n      <td>0.000000</td>\n    </tr>\n    <tr>\n      <th>4</th>\n      <td>3500105</td>\n      <td>Feminino</td>\n      <td>[4.0, 5.0)</td>\n      <td>0.000000</td>\n    </tr>\n    <tr>\n      <th>...</th>\n      <td>...</td>\n      <td>...</td>\n      <td>...</td>\n      <td>...</td>\n    </tr>\n    <tr>\n      <th>177922</th>\n      <td>3557303</td>\n      <td>Masculino</td>\n      <td>[86.0, 87.0)</td>\n      <td>1.002131</td>\n    </tr>\n    <tr>\n      <th>177923</th>\n      <td>3557303</td>\n      <td>Masculino</td>\n      <td>[87.0, 88.0)</td>\n      <td>1.002131</td>\n    </tr>\n    <tr>\n      <th>177924</th>\n      <td>3557303</td>\n      <td>Masculino</td>\n      <td>[88.0, 89.0)</td>\n      <td>0.000000</td>\n    </tr>\n    <tr>\n      <th>177925</th>\n      <td>3557303</td>\n      <td>Masculino</td>\n      <td>[89.0, 90.0)</td>\n      <td>2.004263</td>\n    </tr>\n    <tr>\n      <th>177926</th>\n      <td>3557303</td>\n      <td>Masculino</td>\n      <td>[90.0, inf)</td>\n      <td>0.000000</td>\n    </tr>\n  </tbody>\n</table>\n<p>117390 rows × 4 columns</p>\n</div>"
     },
     "metadata": {},
     "execution_count": 17
    }
   ],
   "source": [
    "counts = redistribute(counts,variables)\n",
    "counts"
   ]
  },
  {
   "cell_type": "code",
   "execution_count": null,
   "metadata": {},
   "outputs": [],
   "source": []
  }
 ]
}