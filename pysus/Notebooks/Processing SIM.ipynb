{
 "metadata": {
  "language_info": {
   "codemirror_mode": {
    "name": "ipython",
    "version": 3
   },
   "file_extension": ".py",
   "mimetype": "text/x-python",
   "name": "python",
   "nbconvert_exporter": "python",
   "pygments_lexer": "ipython3",
   "version": "3.8.6-final"
  },
  "orig_nbformat": 2,
  "kernelspec": {
   "name": "python3",
   "display_name": "Python 3.8.6 64-bit ('venv')",
   "metadata": {
    "interpreter": {
     "hash": "c6b3df72bee112d2a9ce9314c5908894d8b0467e14190acfd828be6e2b0e3d0b"
    }
   }
  }
 },
 "nbformat": 4,
 "nbformat_minor": 2,
 "cells": [
  {
   "cell_type": "markdown",
   "metadata": {},
   "source": [
    "## Processin SIM data"
   ]
  },
  {
   "cell_type": "code",
   "execution_count": 2,
   "metadata": {},
   "outputs": [],
   "source": [
    "from pysus.online_data.SIM import download\n",
    "from pysus.preprocessing.decoders import translate_variables_SIM\n",
    "from pysus.preprocessing.SIM import group_and_count, redistribute"
   ]
  },
  {
   "cell_type": "code",
   "execution_count": 3,
   "metadata": {},
   "outputs": [
    {
     "output_type": "execute_result",
     "data": {
      "text/plain": [
       "       CONTADOR ORIGEM TIPOBITO   DTOBITO HORAOBITO NATURAL    DTNASC IDADE  \\\n",
       "0             1      1        2  22072010      0700     829  18011933   477   \n",
       "1             2      1        2  30082010      0700     831  05111945   464   \n",
       "2             3      1        2  25092010      1700     835  26051938   472   \n",
       "3             4      1        2  29012010      0740     835  04031966   443   \n",
       "4             5      1        2  01072010      1600     831  04111927   482   \n",
       "...         ...    ...      ...       ...       ...     ...       ...   ...   \n",
       "264946   264947      3        2  25122010      0345     826  28031930   480   \n",
       "264947   264948      3        2  25122010      1800     835  19111945   465   \n",
       "264948   264949      3        2  25122010      2100     835  27071927   483   \n",
       "264949   264950      3        2  25122010      2005     835  22061909   501   \n",
       "264950   264951      3        2  28012010               835  10051973   436   \n",
       "\n",
       "       SEXO RACACOR  ... DTCADASTRO ATESTANTE FONTEINV DTRECEBIM UFINFORM  \\\n",
       "0         1       1  ...   28072010         1           30082010            \n",
       "1         2       2  ...   14092010         1           13102010            \n",
       "2         1       3  ...   13102010         1           27102010            \n",
       "3         1          ...   22022010         1           12032010            \n",
       "4         1       1  ...   10082010         2           12082010            \n",
       "...     ...     ...  ...        ...       ...      ...       ...      ...   \n",
       "264946    1          ...                    4                               \n",
       "264947    1          ...                                                    \n",
       "264948    2          ...                                                    \n",
       "264949    2          ...                                                    \n",
       "264950    1          ...                                                    \n",
       "\n",
       "       CB_PRE MORTEPARTO DTCADINF TPOBITOCOR DTCADINV  \n",
       "0        J180                                          \n",
       "1        C169                                          \n",
       "2        I219                                          \n",
       "3        B208                                          \n",
       "4        I251                                          \n",
       "...       ...        ...      ...        ...      ...  \n",
       "264946                                                 \n",
       "264947                                                 \n",
       "264948                                                 \n",
       "264949                                                 \n",
       "264950                                                 \n",
       "\n",
       "[264951 rows x 58 columns]"
      ],
      "text/html": "<div>\n<style scoped>\n    .dataframe tbody tr th:only-of-type {\n        vertical-align: middle;\n    }\n\n    .dataframe tbody tr th {\n        vertical-align: top;\n    }\n\n    .dataframe thead th {\n        text-align: right;\n    }\n</style>\n<table border=\"1\" class=\"dataframe\">\n  <thead>\n    <tr style=\"text-align: right;\">\n      <th></th>\n      <th>CONTADOR</th>\n      <th>ORIGEM</th>\n      <th>TIPOBITO</th>\n      <th>DTOBITO</th>\n      <th>HORAOBITO</th>\n      <th>NATURAL</th>\n      <th>DTNASC</th>\n      <th>IDADE</th>\n      <th>SEXO</th>\n      <th>RACACOR</th>\n      <th>...</th>\n      <th>DTCADASTRO</th>\n      <th>ATESTANTE</th>\n      <th>FONTEINV</th>\n      <th>DTRECEBIM</th>\n      <th>UFINFORM</th>\n      <th>CB_PRE</th>\n      <th>MORTEPARTO</th>\n      <th>DTCADINF</th>\n      <th>TPOBITOCOR</th>\n      <th>DTCADINV</th>\n    </tr>\n  </thead>\n  <tbody>\n    <tr>\n      <th>0</th>\n      <td>1</td>\n      <td>1</td>\n      <td>2</td>\n      <td>22072010</td>\n      <td>0700</td>\n      <td>829</td>\n      <td>18011933</td>\n      <td>477</td>\n      <td>1</td>\n      <td>1</td>\n      <td>...</td>\n      <td>28072010</td>\n      <td>1</td>\n      <td></td>\n      <td>30082010</td>\n      <td></td>\n      <td>J180</td>\n      <td></td>\n      <td></td>\n      <td></td>\n      <td></td>\n    </tr>\n    <tr>\n      <th>1</th>\n      <td>2</td>\n      <td>1</td>\n      <td>2</td>\n      <td>30082010</td>\n      <td>0700</td>\n      <td>831</td>\n      <td>05111945</td>\n      <td>464</td>\n      <td>2</td>\n      <td>2</td>\n      <td>...</td>\n      <td>14092010</td>\n      <td>1</td>\n      <td></td>\n      <td>13102010</td>\n      <td></td>\n      <td>C169</td>\n      <td></td>\n      <td></td>\n      <td></td>\n      <td></td>\n    </tr>\n    <tr>\n      <th>2</th>\n      <td>3</td>\n      <td>1</td>\n      <td>2</td>\n      <td>25092010</td>\n      <td>1700</td>\n      <td>835</td>\n      <td>26051938</td>\n      <td>472</td>\n      <td>1</td>\n      <td>3</td>\n      <td>...</td>\n      <td>13102010</td>\n      <td>1</td>\n      <td></td>\n      <td>27102010</td>\n      <td></td>\n      <td>I219</td>\n      <td></td>\n      <td></td>\n      <td></td>\n      <td></td>\n    </tr>\n    <tr>\n      <th>3</th>\n      <td>4</td>\n      <td>1</td>\n      <td>2</td>\n      <td>29012010</td>\n      <td>0740</td>\n      <td>835</td>\n      <td>04031966</td>\n      <td>443</td>\n      <td>1</td>\n      <td></td>\n      <td>...</td>\n      <td>22022010</td>\n      <td>1</td>\n      <td></td>\n      <td>12032010</td>\n      <td></td>\n      <td>B208</td>\n      <td></td>\n      <td></td>\n      <td></td>\n      <td></td>\n    </tr>\n    <tr>\n      <th>4</th>\n      <td>5</td>\n      <td>1</td>\n      <td>2</td>\n      <td>01072010</td>\n      <td>1600</td>\n      <td>831</td>\n      <td>04111927</td>\n      <td>482</td>\n      <td>1</td>\n      <td>1</td>\n      <td>...</td>\n      <td>10082010</td>\n      <td>2</td>\n      <td></td>\n      <td>12082010</td>\n      <td></td>\n      <td>I251</td>\n      <td></td>\n      <td></td>\n      <td></td>\n      <td></td>\n    </tr>\n    <tr>\n      <th>...</th>\n      <td>...</td>\n      <td>...</td>\n      <td>...</td>\n      <td>...</td>\n      <td>...</td>\n      <td>...</td>\n      <td>...</td>\n      <td>...</td>\n      <td>...</td>\n      <td>...</td>\n      <td>...</td>\n      <td>...</td>\n      <td>...</td>\n      <td>...</td>\n      <td>...</td>\n      <td>...</td>\n      <td>...</td>\n      <td>...</td>\n      <td>...</td>\n      <td>...</td>\n      <td>...</td>\n    </tr>\n    <tr>\n      <th>264946</th>\n      <td>264947</td>\n      <td>3</td>\n      <td>2</td>\n      <td>25122010</td>\n      <td>0345</td>\n      <td>826</td>\n      <td>28031930</td>\n      <td>480</td>\n      <td>1</td>\n      <td></td>\n      <td>...</td>\n      <td></td>\n      <td>4</td>\n      <td></td>\n      <td></td>\n      <td></td>\n      <td></td>\n      <td></td>\n      <td></td>\n      <td></td>\n      <td></td>\n    </tr>\n    <tr>\n      <th>264947</th>\n      <td>264948</td>\n      <td>3</td>\n      <td>2</td>\n      <td>25122010</td>\n      <td>1800</td>\n      <td>835</td>\n      <td>19111945</td>\n      <td>465</td>\n      <td>1</td>\n      <td></td>\n      <td>...</td>\n      <td></td>\n      <td></td>\n      <td></td>\n      <td></td>\n      <td></td>\n      <td></td>\n      <td></td>\n      <td></td>\n      <td></td>\n      <td></td>\n    </tr>\n    <tr>\n      <th>264948</th>\n      <td>264949</td>\n      <td>3</td>\n      <td>2</td>\n      <td>25122010</td>\n      <td>2100</td>\n      <td>835</td>\n      <td>27071927</td>\n      <td>483</td>\n      <td>2</td>\n      <td></td>\n      <td>...</td>\n      <td></td>\n      <td></td>\n      <td></td>\n      <td></td>\n      <td></td>\n      <td></td>\n      <td></td>\n      <td></td>\n      <td></td>\n      <td></td>\n    </tr>\n    <tr>\n      <th>264949</th>\n      <td>264950</td>\n      <td>3</td>\n      <td>2</td>\n      <td>25122010</td>\n      <td>2005</td>\n      <td>835</td>\n      <td>22061909</td>\n      <td>501</td>\n      <td>2</td>\n      <td></td>\n      <td>...</td>\n      <td></td>\n      <td></td>\n      <td></td>\n      <td></td>\n      <td></td>\n      <td></td>\n      <td></td>\n      <td></td>\n      <td></td>\n      <td></td>\n    </tr>\n    <tr>\n      <th>264950</th>\n      <td>264951</td>\n      <td>3</td>\n      <td>2</td>\n      <td>28012010</td>\n      <td></td>\n      <td>835</td>\n      <td>10051973</td>\n      <td>436</td>\n      <td>1</td>\n      <td></td>\n      <td>...</td>\n      <td></td>\n      <td></td>\n      <td></td>\n      <td></td>\n      <td></td>\n      <td></td>\n      <td></td>\n      <td></td>\n      <td></td>\n      <td></td>\n    </tr>\n  </tbody>\n</table>\n<p>264951 rows × 58 columns</p>\n</div>"
     },
     "metadata": {},
     "execution_count": 3
    }
   ],
   "source": [
    "df = download('sp',2010)\n",
    "df"
   ]
  },
  {
   "cell_type": "code",
   "execution_count": 4,
   "metadata": {},
   "outputs": [
    {
     "output_type": "execute_result",
     "data": {
      "text/plain": [
       "       CODMUNRES       SEXO    IDADE_ANOS  CID10_CHAPTER\n",
       "0            nan  Masculino  [77.0, 78.0)             10\n",
       "1            nan   Feminino  [64.0, 65.0)              2\n",
       "2            nan  Masculino  [72.0, 73.0)              9\n",
       "3            nan  Masculino  [43.0, 44.0)              1\n",
       "4            nan  Masculino  [82.0, 83.0)              9\n",
       "...          ...        ...           ...            ...\n",
       "264946       nan  Masculino  [80.0, 81.0)              9\n",
       "264947       nan  Masculino  [65.0, 66.0)              2\n",
       "264948       nan   Feminino  [83.0, 84.0)              5\n",
       "264949       nan   Feminino   [90.0, inf)              9\n",
       "264950       nan  Masculino  [36.0, 37.0)             18\n",
       "\n",
       "[264951 rows x 4 columns]"
      ],
      "text/html": "<div>\n<style scoped>\n    .dataframe tbody tr th:only-of-type {\n        vertical-align: middle;\n    }\n\n    .dataframe tbody tr th {\n        vertical-align: top;\n    }\n\n    .dataframe thead th {\n        text-align: right;\n    }\n</style>\n<table border=\"1\" class=\"dataframe\">\n  <thead>\n    <tr style=\"text-align: right;\">\n      <th></th>\n      <th>CODMUNRES</th>\n      <th>SEXO</th>\n      <th>IDADE_ANOS</th>\n      <th>CID10_CHAPTER</th>\n    </tr>\n  </thead>\n  <tbody>\n    <tr>\n      <th>0</th>\n      <td>nan</td>\n      <td>Masculino</td>\n      <td>[77.0, 78.0)</td>\n      <td>10</td>\n    </tr>\n    <tr>\n      <th>1</th>\n      <td>nan</td>\n      <td>Feminino</td>\n      <td>[64.0, 65.0)</td>\n      <td>2</td>\n    </tr>\n    <tr>\n      <th>2</th>\n      <td>nan</td>\n      <td>Masculino</td>\n      <td>[72.0, 73.0)</td>\n      <td>9</td>\n    </tr>\n    <tr>\n      <th>3</th>\n      <td>nan</td>\n      <td>Masculino</td>\n      <td>[43.0, 44.0)</td>\n      <td>1</td>\n    </tr>\n    <tr>\n      <th>4</th>\n      <td>nan</td>\n      <td>Masculino</td>\n      <td>[82.0, 83.0)</td>\n      <td>9</td>\n    </tr>\n    <tr>\n      <th>...</th>\n      <td>...</td>\n      <td>...</td>\n      <td>...</td>\n      <td>...</td>\n    </tr>\n    <tr>\n      <th>264946</th>\n      <td>nan</td>\n      <td>Masculino</td>\n      <td>[80.0, 81.0)</td>\n      <td>9</td>\n    </tr>\n    <tr>\n      <th>264947</th>\n      <td>nan</td>\n      <td>Masculino</td>\n      <td>[65.0, 66.0)</td>\n      <td>2</td>\n    </tr>\n    <tr>\n      <th>264948</th>\n      <td>nan</td>\n      <td>Feminino</td>\n      <td>[83.0, 84.0)</td>\n      <td>5</td>\n    </tr>\n    <tr>\n      <th>264949</th>\n      <td>nan</td>\n      <td>Feminino</td>\n      <td>[90.0, inf)</td>\n      <td>9</td>\n    </tr>\n    <tr>\n      <th>264950</th>\n      <td>nan</td>\n      <td>Masculino</td>\n      <td>[36.0, 37.0)</td>\n      <td>18</td>\n    </tr>\n  </tbody>\n</table>\n<p>264951 rows × 4 columns</p>\n</div>"
     },
     "metadata": {},
     "execution_count": 4
    }
   ],
   "source": [
    "variables = ['CODMUNRES','SEXO','IDADE_ANOS','CID10_CHAPTER']\n",
    "df = translate_variables_SIM(df,age_classes=True,classify_cid10_chapters=True)\n",
    "df = df[variables]\n",
    "df"
   ]
  },
  {
   "cell_type": "code",
   "execution_count": 5,
   "metadata": {},
   "outputs": [
    {
     "output_type": "execute_result",
     "data": {
      "text/plain": [
       "     CODMUNRES      SEXO  IDADE_ANOS  CID10_CHAPTER  CONTAGEM\n",
       "0          nan  Feminino  [0.0, 1.0)              1     122.0\n",
       "1          nan  Feminino  [0.0, 1.0)              2       8.0\n",
       "2          nan  Feminino  [0.0, 1.0)              3       8.0\n",
       "3          nan  Feminino  [0.0, 1.0)              4      31.0\n",
       "4          nan  Feminino  [0.0, 1.0)              5       0.0\n",
       "...        ...       ...         ...            ...       ...\n",
       "5239       nan       nan         nan             15       0.0\n",
       "5240       nan       nan         nan             16       0.0\n",
       "5241       nan       nan         nan             17       0.0\n",
       "5242       nan       nan         nan             18      12.0\n",
       "5243       nan       nan         nan             20      18.0\n",
       "\n",
       "[5244 rows x 5 columns]"
      ],
      "text/html": "<div>\n<style scoped>\n    .dataframe tbody tr th:only-of-type {\n        vertical-align: middle;\n    }\n\n    .dataframe tbody tr th {\n        vertical-align: top;\n    }\n\n    .dataframe thead th {\n        text-align: right;\n    }\n</style>\n<table border=\"1\" class=\"dataframe\">\n  <thead>\n    <tr style=\"text-align: right;\">\n      <th></th>\n      <th>CODMUNRES</th>\n      <th>SEXO</th>\n      <th>IDADE_ANOS</th>\n      <th>CID10_CHAPTER</th>\n      <th>CONTAGEM</th>\n    </tr>\n  </thead>\n  <tbody>\n    <tr>\n      <th>0</th>\n      <td>nan</td>\n      <td>Feminino</td>\n      <td>[0.0, 1.0)</td>\n      <td>1</td>\n      <td>122.0</td>\n    </tr>\n    <tr>\n      <th>1</th>\n      <td>nan</td>\n      <td>Feminino</td>\n      <td>[0.0, 1.0)</td>\n      <td>2</td>\n      <td>8.0</td>\n    </tr>\n    <tr>\n      <th>2</th>\n      <td>nan</td>\n      <td>Feminino</td>\n      <td>[0.0, 1.0)</td>\n      <td>3</td>\n      <td>8.0</td>\n    </tr>\n    <tr>\n      <th>3</th>\n      <td>nan</td>\n      <td>Feminino</td>\n      <td>[0.0, 1.0)</td>\n      <td>4</td>\n      <td>31.0</td>\n    </tr>\n    <tr>\n      <th>4</th>\n      <td>nan</td>\n      <td>Feminino</td>\n      <td>[0.0, 1.0)</td>\n      <td>5</td>\n      <td>0.0</td>\n    </tr>\n    <tr>\n      <th>...</th>\n      <td>...</td>\n      <td>...</td>\n      <td>...</td>\n      <td>...</td>\n      <td>...</td>\n    </tr>\n    <tr>\n      <th>5239</th>\n      <td>nan</td>\n      <td>nan</td>\n      <td>nan</td>\n      <td>15</td>\n      <td>0.0</td>\n    </tr>\n    <tr>\n      <th>5240</th>\n      <td>nan</td>\n      <td>nan</td>\n      <td>nan</td>\n      <td>16</td>\n      <td>0.0</td>\n    </tr>\n    <tr>\n      <th>5241</th>\n      <td>nan</td>\n      <td>nan</td>\n      <td>nan</td>\n      <td>17</td>\n      <td>0.0</td>\n    </tr>\n    <tr>\n      <th>5242</th>\n      <td>nan</td>\n      <td>nan</td>\n      <td>nan</td>\n      <td>18</td>\n      <td>12.0</td>\n    </tr>\n    <tr>\n      <th>5243</th>\n      <td>nan</td>\n      <td>nan</td>\n      <td>nan</td>\n      <td>20</td>\n      <td>18.0</td>\n    </tr>\n  </tbody>\n</table>\n<p>5244 rows × 5 columns</p>\n</div>"
     },
     "metadata": {},
     "execution_count": 5
    }
   ],
   "source": [
    "counts = group_and_count(df,variables)\n",
    "counts"
   ]
  },
  {
   "cell_type": "code",
   "execution_count": null,
   "metadata": {
    "tags": []
   },
   "outputs": [],
   "source": [
    "counts = redistribute(counts,variables)\n",
    "counts"
   ]
  },
  {
   "cell_type": "code",
   "execution_count": null,
   "metadata": {},
   "outputs": [],
   "source": []
  }
 ]
}