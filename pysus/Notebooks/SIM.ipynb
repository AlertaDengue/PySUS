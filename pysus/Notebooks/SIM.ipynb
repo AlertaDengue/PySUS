{
 "cells": [
  {
   "cell_type": "markdown",
   "metadata": {
    "pycharm": {
     "name": "#%% md\n"
    }
   },
   "source": [
    "# SIM - Sistema de Informação sobre Mortalidade\n"
   ]
  },
  {
   "cell_type": "code",
   "execution_count": 1,
   "metadata": {
    "collapsed": false,
    "jupyter": {
     "outputs_hidden": false
    },
    "pycharm": {
     "name": "#%%\n"
    }
   },
   "outputs": [],
   "source": [
    "from pysus.ftp.databases import SIM\n",
    "sim = SIM().load() # Loads the files from DATASUS"
   ]
  },
  {
   "cell_type": "code",
   "execution_count": 2,
   "metadata": {},
   "outputs": [
    {
     "data": {
      "text/plain": [
       "{'long_name': 'Sistema de Informação sobre Mortalidade',\n",
       " 'source': 'http://sim.saude.gov.br',\n",
       " 'description': ''}"
      ]
     },
     "execution_count": 2,
     "metadata": {},
     "output_type": "execute_result"
    }
   ],
   "source": [
    "sim.metadata"
   ]
  },
  {
   "cell_type": "code",
   "execution_count": 3,
   "metadata": {},
   "outputs": [
    {
     "data": {
      "text/plain": [
       "{'DO': 'CID10', 'DOR': 'CID9'}"
      ]
     },
     "execution_count": 3,
     "metadata": {},
     "output_type": "execute_result"
    }
   ],
   "source": [
    "sim.groups"
   ]
  },
  {
   "cell_type": "markdown",
   "metadata": {},
   "source": [
    "For more information about CID9 and CID10, visit http://tabnet.saude.es.gov.br/cgi/tabnet/sim/sim96/obtdescr.htm"
   ]
  },
  {
   "cell_type": "markdown",
   "metadata": {},
   "source": [
    "### Getting specific files "
   ]
  },
  {
   "cell_type": "code",
   "execution_count": 4,
   "metadata": {},
   "outputs": [
    {
     "data": {
      "text/plain": [
       "[DORRJ93.DBC, DORRJ94.DBC, DORRJ95.DBC, DORSP93.DBC, DORSP94.DBC, DORSP95.DBC]"
      ]
     },
     "execution_count": 4,
     "metadata": {},
     "output_type": "execute_result"
    }
   ],
   "source": [
    "sim.get_files(groups=[\"CID9\"], ufs=[\"SP\", \"RJ\"], years=[1993, 1994, 1995])"
   ]
  },
  {
   "cell_type": "code",
   "execution_count": 5,
   "metadata": {
    "collapsed": false,
    "jupyter": {
     "outputs_hidden": false
    },
    "pycharm": {
     "name": "#%%\n"
    }
   },
   "outputs": [
    {
     "data": {
      "text/plain": [
       "[DORJ2019.dbc,\n",
       " DORJ2020.dbc,\n",
       " DORJ2021.dbc,\n",
       " DOSP2019.dbc,\n",
       " DOSP2020.dbc,\n",
       " DOSP2021.dbc]"
      ]
     },
     "execution_count": 5,
     "metadata": {},
     "output_type": "execute_result"
    }
   ],
   "source": [
    "sim.get_files(groups=[\"CID10\"], ufs=[\"SP\", \"RJ\"], years=[2019, 2020, 2021])"
   ]
  },
  {
   "cell_type": "code",
   "execution_count": 6,
   "metadata": {},
   "outputs": [],
   "source": [
    "files = sim.get_files(groups=[\"CID9\", \"CID10\"], ufs=[\"SP\"], years=[1995, 2020])\n",
    "sp_cid9, sp_cid10 = files"
   ]
  },
  {
   "cell_type": "markdown",
   "metadata": {},
   "source": [
    "### Describing a file inside DATASUS server"
   ]
  },
  {
   "cell_type": "code",
   "execution_count": 7,
   "metadata": {},
   "outputs": [
    {
     "data": {
      "text/plain": [
       "{'name': 'DORSP95.DBC',\n",
       " 'uf': 'São Paulo',\n",
       " 'year': 1995,\n",
       " 'group': 'CID9',\n",
       " 'size': '8.2 MB',\n",
       " 'last_update': '01-31-2020 02:48PM'}"
      ]
     },
     "execution_count": 7,
     "metadata": {},
     "output_type": "execute_result"
    }
   ],
   "source": [
    "sim.describe(sp_cid9)"
   ]
  },
  {
   "cell_type": "code",
   "execution_count": 8,
   "metadata": {},
   "outputs": [
    {
     "data": {
      "text/plain": [
       "{'name': 'DOSP2020.dbc',\n",
       " 'uf': 'São Paulo',\n",
       " 'year': 2020,\n",
       " 'group': 'CID10',\n",
       " 'size': '28.7 MB',\n",
       " 'last_update': '03-31-2022 04:19PM'}"
      ]
     },
     "execution_count": 8,
     "metadata": {},
     "output_type": "execute_result"
    }
   ],
   "source": [
    "sim.describe(sp_cid10)"
   ]
  },
  {
   "cell_type": "markdown",
   "metadata": {},
   "source": [
    "### Downloading files"
   ]
  },
  {
   "cell_type": "markdown",
   "metadata": {},
   "source": [
    "You can rather download multiple files or download them individually:"
   ]
  },
  {
   "cell_type": "code",
   "execution_count": 9,
   "metadata": {},
   "outputs": [
    {
     "data": {
      "text/plain": [
       "['/home/bida/pysus/DORSP95.DBC', '/home/bida/pysus/DOSP2020.dbc']"
      ]
     },
     "execution_count": 9,
     "metadata": {},
     "output_type": "execute_result"
    }
   ],
   "source": [
    "sim.download(files) # Downloads to default directory"
   ]
  },
  {
   "cell_type": "code",
   "execution_count": 10,
   "metadata": {},
   "outputs": [
    {
     "data": {
      "text/plain": [
       "'/home/bida/pysus/DORSP95.DBC'"
      ]
     },
     "execution_count": 10,
     "metadata": {},
     "output_type": "execute_result"
    }
   ],
   "source": [
    "sp_cid9.download()"
   ]
  },
  {
   "cell_type": "markdown",
   "metadata": {},
   "source": [
    "You can specify a local directory to download:"
   ]
  },
  {
   "cell_type": "code",
   "execution_count": 11,
   "metadata": {},
   "outputs": [
    {
     "data": {
      "text/plain": [
       "['/tmp/DORSP95.DBC', '/tmp/DOSP2020.dbc']"
      ]
     },
     "execution_count": 11,
     "metadata": {},
     "output_type": "execute_result"
    }
   ],
   "source": [
    "sim.download(files, local_dir=\"/tmp\")"
   ]
  },
  {
   "cell_type": "code",
   "execution_count": 12,
   "metadata": {},
   "outputs": [
    {
     "data": {
      "text/plain": [
       "'/tmp/DORSP95.DBC'"
      ]
     },
     "execution_count": 12,
     "metadata": {},
     "output_type": "execute_result"
    }
   ],
   "source": [
    "sp_cid9.download(local_dir=\"/tmp\")"
   ]
  },
  {
   "cell_type": "markdown",
   "metadata": {},
   "source": [
    "@Note: If the file has been downloaded already, it's required to delete it in order to download the lastest updated file from DATASUS. "
   ]
  },
  {
   "cell_type": "markdown",
   "metadata": {},
   "source": [
    "# SIM Metadata Information"
   ]
  },
  {
   "cell_type": "code",
   "execution_count": 13,
   "metadata": {},
   "outputs": [],
   "source": [
    "from pysus.online_data.SIM import get_CID9_table, get_CID10_table, get_municipios, get_ocupations"
   ]
  },
  {
   "cell_type": "code",
   "execution_count": 14,
   "metadata": {},
   "outputs": [
    {
     "name": "stderr",
     "output_type": "stream",
     "text": [
      "2023-09-06 15:10:48.247 | DEBUG    | pysus.online_data.SIM:get_CID9_table:141 - Stablishing connection with ftp.datasus.gov.br.\n",
      "220 Microsoft FTP Service\n",
      "2023-09-06 15:10:48.272 | DEBUG    | pysus.online_data.SIM:get_CID9_table:145 - Changing FTP work dir to: /dissemin/publicos/SIM/CID9/TABELAS\n",
      "2023-09-06 15:10:48.273 | INFO     | pysus.online_data.SIM:get_CID9_table:155 - Local parquet file found at /home/bida/pysus/SIM_CID9_.parquet\n"
     ]
    },
    {
     "data": {
      "text/html": [
       "<div>\n",
       "<style scoped>\n",
       "    .dataframe tbody tr th:only-of-type {\n",
       "        vertical-align: middle;\n",
       "    }\n",
       "\n",
       "    .dataframe tbody tr th {\n",
       "        vertical-align: top;\n",
       "    }\n",
       "\n",
       "    .dataframe thead th {\n",
       "        text-align: right;\n",
       "    }\n",
       "</style>\n",
       "<table border=\"1\" class=\"dataframe\">\n",
       "  <thead>\n",
       "    <tr style=\"text-align: right;\">\n",
       "      <th></th>\n",
       "      <th>DESCRICAO</th>\n",
       "      <th>CAUSAS</th>\n",
       "    </tr>\n",
       "  </thead>\n",
       "  <tbody>\n",
       "    <tr>\n",
       "      <th>0</th>\n",
       "      <td>001  COLERA</td>\n",
       "      <td>001</td>\n",
       "    </tr>\n",
       "    <tr>\n",
       "      <th>1</th>\n",
       "      <td>002  FEBRES TIFOIDE E PARATIFOIDE</td>\n",
       "      <td>002</td>\n",
       "    </tr>\n",
       "    <tr>\n",
       "      <th>2</th>\n",
       "      <td>003  OUTRAS INFECCOES POR SALMONELLA</td>\n",
       "      <td>003</td>\n",
       "    </tr>\n",
       "    <tr>\n",
       "      <th>3</th>\n",
       "      <td>004  SHIGUELOSE</td>\n",
       "      <td>004</td>\n",
       "    </tr>\n",
       "    <tr>\n",
       "      <th>4</th>\n",
       "      <td>005  OUT INTOXIC ALIMENTARES (BACTERIANAS)</td>\n",
       "      <td>005</td>\n",
       "    </tr>\n",
       "    <tr>\n",
       "      <th>...</th>\n",
       "      <td>...</td>\n",
       "      <td>...</td>\n",
       "    </tr>\n",
       "    <tr>\n",
       "      <th>881</th>\n",
       "      <td>E995  LES OUT MEIOS OU N ESP OP GUERRA CONVENC</td>\n",
       "      <td>995</td>\n",
       "    </tr>\n",
       "    <tr>\n",
       "      <th>882</th>\n",
       "      <td>E996  LES ARMA NUCLEAR EM OPERACOES DE GUERRA</td>\n",
       "      <td>996</td>\n",
       "    </tr>\n",
       "    <tr>\n",
       "      <th>883</th>\n",
       "      <td>E997  LES OUT FORM GUERRA NAO CONVENCIONAL</td>\n",
       "      <td>997</td>\n",
       "    </tr>\n",
       "    <tr>\n",
       "      <th>884</th>\n",
       "      <td>E998  LES OP GUERRA OCORR APOS CESSACAO HOSTIL</td>\n",
       "      <td>998</td>\n",
       "    </tr>\n",
       "    <tr>\n",
       "      <th>885</th>\n",
       "      <td>E999  EFEIT TARDIOS DE LES OPERACAO DE GUERRA</td>\n",
       "      <td>999</td>\n",
       "    </tr>\n",
       "  </tbody>\n",
       "</table>\n",
       "<p>886 rows × 2 columns</p>\n",
       "</div>"
      ],
      "text/plain": [
       "                                          DESCRICAO CAUSAS\n",
       "0                                       001  COLERA    001\n",
       "1                 002  FEBRES TIFOIDE E PARATIFOIDE    002\n",
       "2              003  OUTRAS INFECCOES POR SALMONELLA    003\n",
       "3                                   004  SHIGUELOSE    004\n",
       "4        005  OUT INTOXIC ALIMENTARES (BACTERIANAS)    005\n",
       "..                                              ...    ...\n",
       "881  E995  LES OUT MEIOS OU N ESP OP GUERRA CONVENC    995\n",
       "882   E996  LES ARMA NUCLEAR EM OPERACOES DE GUERRA    996\n",
       "883      E997  LES OUT FORM GUERRA NAO CONVENCIONAL    997\n",
       "884  E998  LES OP GUERRA OCORR APOS CESSACAO HOSTIL    998\n",
       "885   E999  EFEIT TARDIOS DE LES OPERACAO DE GUERRA    999\n",
       "\n",
       "[886 rows x 2 columns]"
      ]
     },
     "execution_count": 14,
     "metadata": {},
     "output_type": "execute_result"
    }
   ],
   "source": [
    "get_CID9_table()"
   ]
  },
  {
   "cell_type": "code",
   "execution_count": 15,
   "metadata": {},
   "outputs": [
    {
     "name": "stderr",
     "output_type": "stream",
     "text": [
      "2023-09-06 15:10:48.402 | DEBUG    | pysus.online_data.SIM:get_CID10_table:95 - Stablishing connection with ftp.datasus.gov.br.\n",
      "220 Microsoft FTP Service\n",
      "2023-09-06 15:10:48.424 | DEBUG    | pysus.online_data.SIM:get_CID10_table:99 - Changing FTP work dir to: /dissemin/publicos/SIM/CID10/TABELAS\n",
      "2023-09-06 15:10:48.427 | INFO     | pysus.online_data.SIM:get_CID10_table:109 - Local parquet file found at /home/bida/pysus/SIM_CID10_.parquet\n"
     ]
    },
    {
     "data": {
      "text/html": [
       "<div>\n",
       "<style scoped>\n",
       "    .dataframe tbody tr th:only-of-type {\n",
       "        vertical-align: middle;\n",
       "    }\n",
       "\n",
       "    .dataframe tbody tr th {\n",
       "        vertical-align: top;\n",
       "    }\n",
       "\n",
       "    .dataframe thead th {\n",
       "        text-align: right;\n",
       "    }\n",
       "</style>\n",
       "<table border=\"1\" class=\"dataframe\">\n",
       "  <thead>\n",
       "    <tr style=\"text-align: right;\">\n",
       "      <th></th>\n",
       "      <th>CID10</th>\n",
       "      <th>OPC</th>\n",
       "      <th>CAT</th>\n",
       "      <th>SUBCAT</th>\n",
       "      <th>DESCR</th>\n",
       "      <th>RESTRSEXO</th>\n",
       "    </tr>\n",
       "  </thead>\n",
       "  <tbody>\n",
       "    <tr>\n",
       "      <th>0</th>\n",
       "      <td>A00</td>\n",
       "      <td></td>\n",
       "      <td>S</td>\n",
       "      <td>N</td>\n",
       "      <td>A00   Colera</td>\n",
       "      <td>5</td>\n",
       "    </tr>\n",
       "    <tr>\n",
       "      <th>1</th>\n",
       "      <td>A000</td>\n",
       "      <td></td>\n",
       "      <td>N</td>\n",
       "      <td>S</td>\n",
       "      <td>A00.0 Colera dev Vibrio cholerae 01 biot cholerae</td>\n",
       "      <td>5</td>\n",
       "    </tr>\n",
       "    <tr>\n",
       "      <th>2</th>\n",
       "      <td>A001</td>\n",
       "      <td></td>\n",
       "      <td>N</td>\n",
       "      <td>S</td>\n",
       "      <td>A00.1 Colera dev Vibrio cholerae 01 biot El Tor</td>\n",
       "      <td>5</td>\n",
       "    </tr>\n",
       "    <tr>\n",
       "      <th>3</th>\n",
       "      <td>A009</td>\n",
       "      <td></td>\n",
       "      <td>N</td>\n",
       "      <td>S</td>\n",
       "      <td>A00.9 Colera NE</td>\n",
       "      <td>5</td>\n",
       "    </tr>\n",
       "    <tr>\n",
       "      <th>4</th>\n",
       "      <td>A01</td>\n",
       "      <td></td>\n",
       "      <td>S</td>\n",
       "      <td>N</td>\n",
       "      <td>A01   Febres tifoide e paratifoide</td>\n",
       "      <td>5</td>\n",
       "    </tr>\n",
       "    <tr>\n",
       "      <th>...</th>\n",
       "      <td>...</td>\n",
       "      <td>...</td>\n",
       "      <td>...</td>\n",
       "      <td>...</td>\n",
       "      <td>...</td>\n",
       "      <td>...</td>\n",
       "    </tr>\n",
       "    <tr>\n",
       "      <th>14252</th>\n",
       "      <td>Z926</td>\n",
       "      <td></td>\n",
       "      <td>N</td>\n",
       "      <td>S</td>\n",
       "      <td>Z92.6 História pessoal de quimioterapia para d...</td>\n",
       "      <td>5</td>\n",
       "    </tr>\n",
       "    <tr>\n",
       "      <th>14253</th>\n",
       "      <td>U070</td>\n",
       "      <td></td>\n",
       "      <td>N</td>\n",
       "      <td>S</td>\n",
       "      <td>U07.0 Doença por cigarro eletrônico</td>\n",
       "      <td>5</td>\n",
       "    </tr>\n",
       "    <tr>\n",
       "      <th>14254</th>\n",
       "      <td>U071</td>\n",
       "      <td></td>\n",
       "      <td>N</td>\n",
       "      <td>S</td>\n",
       "      <td>U07.1 Infecção pelo novo Coronavírus (COVID-19)</td>\n",
       "      <td>5</td>\n",
       "    </tr>\n",
       "    <tr>\n",
       "      <th>14255</th>\n",
       "      <td>U072</td>\n",
       "      <td></td>\n",
       "      <td>N</td>\n",
       "      <td>S</td>\n",
       "      <td>U07.2 COVID-19, vírus não identificado</td>\n",
       "      <td>5</td>\n",
       "    </tr>\n",
       "    <tr>\n",
       "      <th>14256</th>\n",
       "      <td>U07</td>\n",
       "      <td></td>\n",
       "      <td>S</td>\n",
       "      <td>N</td>\n",
       "      <td>U07 Uso emergencial do U07</td>\n",
       "      <td>5</td>\n",
       "    </tr>\n",
       "  </tbody>\n",
       "</table>\n",
       "<p>14257 rows × 6 columns</p>\n",
       "</div>"
      ],
      "text/plain": [
       "      CID10 OPC CAT SUBCAT                                              DESCR  \\\n",
       "0       A00       S      N                                       A00   Colera   \n",
       "1      A000       N      S  A00.0 Colera dev Vibrio cholerae 01 biot cholerae   \n",
       "2      A001       N      S    A00.1 Colera dev Vibrio cholerae 01 biot El Tor   \n",
       "3      A009       N      S                                    A00.9 Colera NE   \n",
       "4       A01       S      N                 A01   Febres tifoide e paratifoide   \n",
       "...     ...  ..  ..    ...                                                ...   \n",
       "14252  Z926       N      S  Z92.6 História pessoal de quimioterapia para d...   \n",
       "14253  U070       N      S                U07.0 Doença por cigarro eletrônico   \n",
       "14254  U071       N      S    U07.1 Infecção pelo novo Coronavírus (COVID-19)   \n",
       "14255  U072       N      S             U07.2 COVID-19, vírus não identificado   \n",
       "14256   U07       S      N                         U07 Uso emergencial do U07   \n",
       "\n",
       "      RESTRSEXO  \n",
       "0             5  \n",
       "1             5  \n",
       "2             5  \n",
       "3             5  \n",
       "4             5  \n",
       "...         ...  \n",
       "14252         5  \n",
       "14253         5  \n",
       "14254         5  \n",
       "14255         5  \n",
       "14256         5  \n",
       "\n",
       "[14257 rows x 6 columns]"
      ]
     },
     "execution_count": 15,
     "metadata": {},
     "output_type": "execute_result"
    }
   ],
   "source": [
    "get_CID10_table()"
   ]
  },
  {
   "cell_type": "code",
   "execution_count": 16,
   "metadata": {},
   "outputs": [
    {
     "name": "stderr",
     "output_type": "stream",
     "text": [
      "2023-09-06 15:10:48.554 | DEBUG    | pysus.online_data.SIM:get_municipios:187 - Stablishing connection with ftp.datasus.gov.br.\n",
      "220 Microsoft FTP Service\n",
      "2023-09-06 15:10:48.575 | DEBUG    | pysus.online_data.SIM:get_municipios:191 - Changing FTP work dir to: /dissemin/publicos/SIM/CID10/TABELAS\n",
      "2023-09-06 15:10:48.577 | INFO     | pysus.online_data.SIM:get_municipios:201 - Local parquet file found at /home/bida/pysus/SIM_CADMUN_.parquet\n"
     ]
    },
    {
     "data": {
      "text/html": [
       "<div>\n",
       "<style scoped>\n",
       "    .dataframe tbody tr th:only-of-type {\n",
       "        vertical-align: middle;\n",
       "    }\n",
       "\n",
       "    .dataframe tbody tr th {\n",
       "        vertical-align: top;\n",
       "    }\n",
       "\n",
       "    .dataframe thead th {\n",
       "        text-align: right;\n",
       "    }\n",
       "</style>\n",
       "<table border=\"1\" class=\"dataframe\">\n",
       "  <thead>\n",
       "    <tr style=\"text-align: right;\">\n",
       "      <th></th>\n",
       "      <th>MUNCOD</th>\n",
       "      <th>MUNCODDV</th>\n",
       "      <th>SITUACAO</th>\n",
       "      <th>MUNSINP</th>\n",
       "      <th>MUNSIAFI</th>\n",
       "      <th>MUNNOME</th>\n",
       "      <th>MUNNOMEX</th>\n",
       "      <th>OBSERV</th>\n",
       "      <th>MUNSINON</th>\n",
       "      <th>MUNSINONDV</th>\n",
       "      <th>...</th>\n",
       "      <th>CSAUDCOD</th>\n",
       "      <th>RMETRCOD</th>\n",
       "      <th>AGLCOD</th>\n",
       "      <th>ANOINST</th>\n",
       "      <th>ANOEXT</th>\n",
       "      <th>SUCESSOR</th>\n",
       "      <th>LATITUDE</th>\n",
       "      <th>LONGITUDE</th>\n",
       "      <th>ALTITUDE</th>\n",
       "      <th>AREA</th>\n",
       "    </tr>\n",
       "  </thead>\n",
       "  <tbody>\n",
       "    <tr>\n",
       "      <th>0</th>\n",
       "      <td>000000</td>\n",
       "      <td>0000000</td>\n",
       "      <td>IGNOR</td>\n",
       "      <td>00000</td>\n",
       "      <td></td>\n",
       "      <td>Ignorado ou exterior</td>\n",
       "      <td>IGNORADO OU EXTERIOR</td>\n",
       "      <td>Ignorado</td>\n",
       "      <td>,      ,000001-009999</td>\n",
       "      <td>,       ,0000001-0099999</td>\n",
       "      <td>...</td>\n",
       "      <td>00000</td>\n",
       "      <td>0000</td>\n",
       "      <td>0000</td>\n",
       "      <td></td>\n",
       "      <td></td>\n",
       "      <td></td>\n",
       "      <td>0.000</td>\n",
       "      <td>0.000</td>\n",
       "      <td>0.0</td>\n",
       "      <td>0.000</td>\n",
       "    </tr>\n",
       "    <tr>\n",
       "      <th>1</th>\n",
       "      <td>110000</td>\n",
       "      <td>1100000</td>\n",
       "      <td>IGNOR</td>\n",
       "      <td>26000</td>\n",
       "      <td></td>\n",
       "      <td>Munic¡pio ignorado - RO</td>\n",
       "      <td>MUNICIPIO IGNORADO - RO</td>\n",
       "      <td></td>\n",
       "      <td>,119999</td>\n",
       "      <td>,1199999</td>\n",
       "      <td>...</td>\n",
       "      <td>11000</td>\n",
       "      <td>1100</td>\n",
       "      <td>1100</td>\n",
       "      <td></td>\n",
       "      <td></td>\n",
       "      <td></td>\n",
       "      <td>0.000</td>\n",
       "      <td>0.000</td>\n",
       "      <td>0.0</td>\n",
       "      <td>0.000</td>\n",
       "    </tr>\n",
       "    <tr>\n",
       "      <th>2</th>\n",
       "      <td>110001</td>\n",
       "      <td>1100015</td>\n",
       "      <td>ATIVO</td>\n",
       "      <td>26016</td>\n",
       "      <td>0033</td>\n",
       "      <td>Alta Floresta D'Oeste</td>\n",
       "      <td>ALTA FLORESTA D'OESTE</td>\n",
       "      <td></td>\n",
       "      <td></td>\n",
       "      <td></td>\n",
       "      <td>...</td>\n",
       "      <td>11900</td>\n",
       "      <td>1190</td>\n",
       "      <td>1190</td>\n",
       "      <td>1986</td>\n",
       "      <td></td>\n",
       "      <td></td>\n",
       "      <td>-11.929</td>\n",
       "      <td>-61.996</td>\n",
       "      <td>350.0</td>\n",
       "      <td>7066.702</td>\n",
       "    </tr>\n",
       "    <tr>\n",
       "      <th>3</th>\n",
       "      <td>110002</td>\n",
       "      <td>1100023</td>\n",
       "      <td>ATIVO</td>\n",
       "      <td>26004</td>\n",
       "      <td>0007</td>\n",
       "      <td>Ariquemes</td>\n",
       "      <td>ARIQUEMES</td>\n",
       "      <td></td>\n",
       "      <td></td>\n",
       "      <td></td>\n",
       "      <td>...</td>\n",
       "      <td>11900</td>\n",
       "      <td>1190</td>\n",
       "      <td>1190</td>\n",
       "      <td>1977</td>\n",
       "      <td></td>\n",
       "      <td></td>\n",
       "      <td>-9.913</td>\n",
       "      <td>-63.041</td>\n",
       "      <td>142.0</td>\n",
       "      <td>4426.558</td>\n",
       "    </tr>\n",
       "    <tr>\n",
       "      <th>4</th>\n",
       "      <td>110003</td>\n",
       "      <td>1100031</td>\n",
       "      <td>ATIVO</td>\n",
       "      <td>26020</td>\n",
       "      <td>0037</td>\n",
       "      <td>Cabixi</td>\n",
       "      <td>CABIXI</td>\n",
       "      <td></td>\n",
       "      <td></td>\n",
       "      <td></td>\n",
       "      <td>...</td>\n",
       "      <td>11900</td>\n",
       "      <td>1190</td>\n",
       "      <td>1190</td>\n",
       "      <td>1989</td>\n",
       "      <td></td>\n",
       "      <td></td>\n",
       "      <td>-13.492</td>\n",
       "      <td>-60.545</td>\n",
       "      <td>230.0</td>\n",
       "      <td>1314.355</td>\n",
       "    </tr>\n",
       "    <tr>\n",
       "      <th>...</th>\n",
       "      <td>...</td>\n",
       "      <td>...</td>\n",
       "      <td>...</td>\n",
       "      <td>...</td>\n",
       "      <td>...</td>\n",
       "      <td>...</td>\n",
       "      <td>...</td>\n",
       "      <td>...</td>\n",
       "      <td>...</td>\n",
       "      <td>...</td>\n",
       "      <td>...</td>\n",
       "      <td>...</td>\n",
       "      <td>...</td>\n",
       "      <td>...</td>\n",
       "      <td>...</td>\n",
       "      <td>...</td>\n",
       "      <td>...</td>\n",
       "      <td>...</td>\n",
       "      <td>...</td>\n",
       "      <td>...</td>\n",
       "      <td>...</td>\n",
       "    </tr>\n",
       "    <tr>\n",
       "      <th>5647</th>\n",
       "      <td>522208</td>\n",
       "      <td>5222088</td>\n",
       "      <td>TRANS</td>\n",
       "      <td></td>\n",
       "      <td></td>\n",
       "      <td>Wanderlndia (transf. p/TO)</td>\n",
       "      <td>WANDERLANDIA (TRANSF. P/TO)</td>\n",
       "      <td>Transferido para Tocantins</td>\n",
       "      <td></td>\n",
       "      <td></td>\n",
       "      <td>...</td>\n",
       "      <td>52980</td>\n",
       "      <td>5298</td>\n",
       "      <td>5298</td>\n",
       "      <td></td>\n",
       "      <td>1988</td>\n",
       "      <td>1722081</td>\n",
       "      <td>0.000</td>\n",
       "      <td>0.000</td>\n",
       "      <td>0.0</td>\n",
       "      <td>0.000</td>\n",
       "    </tr>\n",
       "    <tr>\n",
       "      <th>5648</th>\n",
       "      <td>522210</td>\n",
       "      <td>5222104</td>\n",
       "      <td>TRANS</td>\n",
       "      <td></td>\n",
       "      <td></td>\n",
       "      <td>Xambio  (transf. p/TO)</td>\n",
       "      <td>XAMBIOA (TRANSF. P/TO)</td>\n",
       "      <td>Transferido para Tocantins</td>\n",
       "      <td></td>\n",
       "      <td></td>\n",
       "      <td>...</td>\n",
       "      <td>52980</td>\n",
       "      <td>5298</td>\n",
       "      <td>5298</td>\n",
       "      <td></td>\n",
       "      <td>1988</td>\n",
       "      <td>1722107</td>\n",
       "      <td>0.000</td>\n",
       "      <td>0.000</td>\n",
       "      <td>0.0</td>\n",
       "      <td>0.000</td>\n",
       "    </tr>\n",
       "    <tr>\n",
       "      <th>5649</th>\n",
       "      <td>522220</td>\n",
       "      <td>5222203</td>\n",
       "      <td>ATIVO</td>\n",
       "      <td>08313</td>\n",
       "      <td>0067</td>\n",
       "      <td>Vila Boa</td>\n",
       "      <td>VILA BOA</td>\n",
       "      <td></td>\n",
       "      <td></td>\n",
       "      <td></td>\n",
       "      <td>...</td>\n",
       "      <td>52900</td>\n",
       "      <td>5301</td>\n",
       "      <td>5301</td>\n",
       "      <td>1993</td>\n",
       "      <td></td>\n",
       "      <td></td>\n",
       "      <td>-15.038</td>\n",
       "      <td>-47.059</td>\n",
       "      <td>0.0</td>\n",
       "      <td>1060.170</td>\n",
       "    </tr>\n",
       "    <tr>\n",
       "      <th>5650</th>\n",
       "      <td>522230</td>\n",
       "      <td>5222302</td>\n",
       "      <td>ATIVO</td>\n",
       "      <td>08323</td>\n",
       "      <td>1068</td>\n",
       "      <td>Vila Prop¡cio</td>\n",
       "      <td>VILA PROPICIO</td>\n",
       "      <td></td>\n",
       "      <td></td>\n",
       "      <td></td>\n",
       "      <td>...</td>\n",
       "      <td>52900</td>\n",
       "      <td>5290</td>\n",
       "      <td>5290</td>\n",
       "      <td>1997</td>\n",
       "      <td></td>\n",
       "      <td></td>\n",
       "      <td>-15.457</td>\n",
       "      <td>-48.889</td>\n",
       "      <td>744.0</td>\n",
       "      <td>2181.575</td>\n",
       "    </tr>\n",
       "    <tr>\n",
       "      <th>5651</th>\n",
       "      <td>530010</td>\n",
       "      <td>5300108</td>\n",
       "      <td>ATIVO</td>\n",
       "      <td>23001</td>\n",
       "      <td>9701</td>\n",
       "      <td>Bras¡lia</td>\n",
       "      <td>BRASILIA</td>\n",
       "      <td></td>\n",
       "      <td>,530000-530009,530011-539999</td>\n",
       "      <td>,5300000-5300099,5300110-5399999</td>\n",
       "      <td>...</td>\n",
       "      <td>53001</td>\n",
       "      <td>5301</td>\n",
       "      <td>5301</td>\n",
       "      <td>1960</td>\n",
       "      <td></td>\n",
       "      <td></td>\n",
       "      <td>-15.780</td>\n",
       "      <td>-47.930</td>\n",
       "      <td>1171.0</td>\n",
       "      <td>5801.937</td>\n",
       "    </tr>\n",
       "  </tbody>\n",
       "</table>\n",
       "<p>5652 rows × 28 columns</p>\n",
       "</div>"
      ],
      "text/plain": [
       "      MUNCOD MUNCODDV SITUACAO MUNSINP MUNSIAFI                      MUNNOME  \\\n",
       "0     000000  0000000    IGNOR   00000                  Ignorado ou exterior   \n",
       "1     110000  1100000    IGNOR   26000               Munic¡pio ignorado - RO   \n",
       "2     110001  1100015    ATIVO   26016     0033        Alta Floresta D'Oeste   \n",
       "3     110002  1100023    ATIVO   26004     0007                    Ariquemes   \n",
       "4     110003  1100031    ATIVO   26020     0037                       Cabixi   \n",
       "...      ...      ...      ...     ...      ...                          ...   \n",
       "5647  522208  5222088    TRANS                   Wanderlndia (transf. p/TO)   \n",
       "5648  522210  5222104    TRANS                        Xambio  (transf. p/TO)   \n",
       "5649  522220  5222203    ATIVO   08313     0067                     Vila Boa   \n",
       "5650  522230  5222302    ATIVO   08323     1068                Vila Prop¡cio   \n",
       "5651  530010  5300108    ATIVO   23001     9701                     Bras¡lia   \n",
       "\n",
       "                         MUNNOMEX                      OBSERV  \\\n",
       "0            IGNORADO OU EXTERIOR                    Ignorado   \n",
       "1         MUNICIPIO IGNORADO - RO                               \n",
       "2           ALTA FLORESTA D'OESTE                               \n",
       "3                       ARIQUEMES                               \n",
       "4                          CABIXI                               \n",
       "...                           ...                         ...   \n",
       "5647  WANDERLANDIA (TRANSF. P/TO)  Transferido para Tocantins   \n",
       "5648       XAMBIOA (TRANSF. P/TO)  Transferido para Tocantins   \n",
       "5649                     VILA BOA                               \n",
       "5650                VILA PROPICIO                               \n",
       "5651                     BRASILIA                               \n",
       "\n",
       "                          MUNSINON                        MUNSINONDV  ...  \\\n",
       "0            ,      ,000001-009999          ,       ,0000001-0099999  ...   \n",
       "1                          ,119999                          ,1199999  ...   \n",
       "2                                                                     ...   \n",
       "3                                                                     ...   \n",
       "4                                                                     ...   \n",
       "...                            ...                               ...  ...   \n",
       "5647                                                                  ...   \n",
       "5648                                                                  ...   \n",
       "5649                                                                  ...   \n",
       "5650                                                                  ...   \n",
       "5651  ,530000-530009,530011-539999  ,5300000-5300099,5300110-5399999  ...   \n",
       "\n",
       "     CSAUDCOD RMETRCOD AGLCOD ANOINST ANOEXT SUCESSOR LATITUDE LONGITUDE  \\\n",
       "0       00000     0000   0000                            0.000     0.000   \n",
       "1       11000     1100   1100                            0.000     0.000   \n",
       "2       11900     1190   1190    1986                  -11.929   -61.996   \n",
       "3       11900     1190   1190    1977                   -9.913   -63.041   \n",
       "4       11900     1190   1190    1989                  -13.492   -60.545   \n",
       "...       ...      ...    ...     ...    ...      ...      ...       ...   \n",
       "5647    52980     5298   5298           1988  1722081    0.000     0.000   \n",
       "5648    52980     5298   5298           1988  1722107    0.000     0.000   \n",
       "5649    52900     5301   5301    1993                  -15.038   -47.059   \n",
       "5650    52900     5290   5290    1997                  -15.457   -48.889   \n",
       "5651    53001     5301   5301    1960                  -15.780   -47.930   \n",
       "\n",
       "     ALTITUDE      AREA  \n",
       "0         0.0     0.000  \n",
       "1         0.0     0.000  \n",
       "2       350.0  7066.702  \n",
       "3       142.0  4426.558  \n",
       "4       230.0  1314.355  \n",
       "...       ...       ...  \n",
       "5647      0.0     0.000  \n",
       "5648      0.0     0.000  \n",
       "5649      0.0  1060.170  \n",
       "5650    744.0  2181.575  \n",
       "5651   1171.0  5801.937  \n",
       "\n",
       "[5652 rows x 28 columns]"
      ]
     },
     "execution_count": 16,
     "metadata": {},
     "output_type": "execute_result"
    }
   ],
   "source": [
    "get_municipios()"
   ]
  },
  {
   "cell_type": "code",
   "execution_count": 17,
   "metadata": {},
   "outputs": [
    {
     "name": "stderr",
     "output_type": "stream",
     "text": [
      "2023-09-06 15:10:48.739 | DEBUG    | pysus.online_data.SIM:get_ocupations:233 - Stablishing connection with ftp.datasus.gov.br.\n",
      "220 Microsoft FTP Service\n",
      "2023-09-06 15:10:48.760 | DEBUG    | pysus.online_data.SIM:get_ocupations:237 - Changing FTP work dir to: /dissemin/publicos/SIM/CID10/TABELAS\n",
      "2023-09-06 15:10:48.761 | INFO     | pysus.online_data.SIM:get_ocupations:246 - Local parquet file found at /home/bida/pysus/SIM_TABOCUP_.parquet\n"
     ]
    },
    {
     "data": {
      "text/html": [
       "<div>\n",
       "<style scoped>\n",
       "    .dataframe tbody tr th:only-of-type {\n",
       "        vertical-align: middle;\n",
       "    }\n",
       "\n",
       "    .dataframe tbody tr th {\n",
       "        vertical-align: top;\n",
       "    }\n",
       "\n",
       "    .dataframe thead th {\n",
       "        text-align: right;\n",
       "    }\n",
       "</style>\n",
       "<table border=\"1\" class=\"dataframe\">\n",
       "  <thead>\n",
       "    <tr style=\"text-align: right;\">\n",
       "      <th></th>\n",
       "      <th>CODIGO</th>\n",
       "      <th>DESCRICAO</th>\n",
       "    </tr>\n",
       "  </thead>\n",
       "  <tbody>\n",
       "    <tr>\n",
       "      <th>0</th>\n",
       "      <td>639</td>\n",
       "      <td>ABALIZADOR (AREAS AGRICOLAS)</td>\n",
       "    </tr>\n",
       "    <tr>\n",
       "      <th>1</th>\n",
       "      <td>759</td>\n",
       "      <td>ABASTECEDOR DE ESPULAS</td>\n",
       "    </tr>\n",
       "    <tr>\n",
       "      <th>2</th>\n",
       "      <td>893</td>\n",
       "      <td>ABASTECEDOR DE FORNO (CERAMICA)</td>\n",
       "    </tr>\n",
       "    <tr>\n",
       "      <th>3</th>\n",
       "      <td>999</td>\n",
       "      <td>ABASTECEDOR DE LINHA DE PRODUCAO</td>\n",
       "    </tr>\n",
       "    <tr>\n",
       "      <th>4</th>\n",
       "      <td>739</td>\n",
       "      <td>ABASTECEDOR DE MAQUINAS (MAD. E PASTA PAPEL)</td>\n",
       "    </tr>\n",
       "    <tr>\n",
       "      <th>...</th>\n",
       "      <td>...</td>\n",
       "      <td>...</td>\n",
       "    </tr>\n",
       "    <tr>\n",
       "      <th>3559</th>\n",
       "      <td>540</td>\n",
       "      <td>ZELADOR DE VESTIARIOS</td>\n",
       "    </tr>\n",
       "    <tr>\n",
       "      <th>3560</th>\n",
       "      <td>551</td>\n",
       "      <td>ZELADOR SEM ESPECIFICACAO</td>\n",
       "    </tr>\n",
       "    <tr>\n",
       "      <th>3561</th>\n",
       "      <td>728</td>\n",
       "      <td>ZINCADOR</td>\n",
       "    </tr>\n",
       "    <tr>\n",
       "      <th>3562</th>\n",
       "      <td>051</td>\n",
       "      <td>ZOOLOGO</td>\n",
       "    </tr>\n",
       "    <tr>\n",
       "      <th>3563</th>\n",
       "      <td>065</td>\n",
       "      <td>ZOOTECNISTA</td>\n",
       "    </tr>\n",
       "  </tbody>\n",
       "</table>\n",
       "<p>3564 rows × 2 columns</p>\n",
       "</div>"
      ],
      "text/plain": [
       "     CODIGO                                     DESCRICAO\n",
       "0       639                  ABALIZADOR (AREAS AGRICOLAS)\n",
       "1       759                        ABASTECEDOR DE ESPULAS\n",
       "2       893               ABASTECEDOR DE FORNO (CERAMICA)\n",
       "3       999              ABASTECEDOR DE LINHA DE PRODUCAO\n",
       "4       739  ABASTECEDOR DE MAQUINAS (MAD. E PASTA PAPEL)\n",
       "...     ...                                           ...\n",
       "3559    540                         ZELADOR DE VESTIARIOS\n",
       "3560    551                     ZELADOR SEM ESPECIFICACAO\n",
       "3561    728                                      ZINCADOR\n",
       "3562    051                                       ZOOLOGO\n",
       "3563    065                                   ZOOTECNISTA\n",
       "\n",
       "[3564 rows x 2 columns]"
      ]
     },
     "execution_count": 17,
     "metadata": {},
     "output_type": "execute_result"
    }
   ],
   "source": [
    "get_ocupations()"
   ]
  }
 ],
 "metadata": {
  "kernelspec": {
   "display_name": "Python 3 (ipykernel)",
   "language": "python",
   "name": "python3"
  },
  "language_info": {
   "codemirror_mode": {
    "name": "ipython",
    "version": 3
   },
   "file_extension": ".py",
   "mimetype": "text/x-python",
   "name": "python",
   "nbconvert_exporter": "python",
   "pygments_lexer": "ipython3",
   "version": "3.9.16"
  },
  "vscode": {
   "interpreter": {
    "hash": "2a96a5ccec8dfcba7d06b2e71f6eef3b5dac5716461bf5d73ea1bb7ee462cdaa"
   }
  }
 },
 "nbformat": 4,
 "nbformat_minor": 4
}
