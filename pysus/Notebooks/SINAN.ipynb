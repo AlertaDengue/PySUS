{
 "cells": [
  {
   "cell_type": "markdown",
   "metadata": {
    "pycharm": {
     "name": "#%% md\n"
    }
   },
   "source": [
    "# SINAN Available diseases and years to download\n"
   ]
  },
  {
   "cell_type": "code",
   "execution_count": 1,
   "metadata": {
    "collapsed": false,
    "jupyter": {
     "outputs_hidden": false
    },
    "pycharm": {
     "name": "#%%\n"
    }
   },
   "outputs": [],
   "source": [
    "from pysus.ftp.databases import SINAN\n",
    "sinan = SINAN().load() # Loads the files from DATASUS"
   ]
  },
  {
   "cell_type": "code",
   "execution_count": 3,
   "metadata": {},
   "outputs": [
    {
     "data": {
      "text/plain": [
       "{'long_name': 'Doenças e Agravos de Notificação',\n",
       " 'source': 'https://portalsinan.saude.gov.br/',\n",
       " 'description': 'The Notifiable Diseases Information System - Sinan is primarilyfed by the notification and investigation of cases of diseases and conditions listed in the national list of compulsorily notifiable diseases (Consolidation Ordinance No. 4, September 28, 2017, Annex).However, states and municipalities are allowed to include other important health problems in their region, such as difilobotriasis in the municipality of São Paulo. Its effective use enables the dynamic diagnosis of the occurrence of an event in the population, providing evidence for causal explanations of compulsorily notifiable diseases and indicating risks to which people are exposed. This contributes to identifying the epidemiological reality of a specific geographical area. Its systematic, decentralized use contributes to the democratization of information, allowing all healthcare professionals to access and make it available to the community. Therefore, it is a relevant tool to assist in health planning, define intervention priorities, and evaluate the impact of interventions.'}"
      ]
     },
     "execution_count": 3,
     "metadata": {},
     "output_type": "execute_result"
    }
   ],
   "source": [
    "sinan.metadata"
   ]
  },
  {
   "cell_type": "markdown",
   "metadata": {},
   "source": [
    "### Listing SINAN Codes & Diseases"
   ]
  },
  {
   "cell_type": "code",
   "execution_count": 4,
   "metadata": {
    "collapsed": false,
    "jupyter": {
     "outputs_hidden": false
    },
    "pycharm": {
     "name": "#%%\n"
    }
   },
   "outputs": [
    {
     "data": {
      "text/plain": [
       "{'ACBI': 'Acidente de trabalho com material biológico',\n",
       " 'ACGR': 'Acidente de trabalho',\n",
       " 'ANIM': 'Acidente por Animais Peçonhentos',\n",
       " 'ANTR': 'Atendimento Antirrabico',\n",
       " 'BOTU': 'Botulismo',\n",
       " 'CANC': 'Cancêr relacionado ao trabalho',\n",
       " 'CHAG': 'Doença de Chagas Aguda',\n",
       " 'CHIK': 'Febre de Chikungunya',\n",
       " 'COLE': 'Cólera',\n",
       " 'COQU': 'Coqueluche',\n",
       " 'DENG': 'Dengue',\n",
       " 'DERM': 'Dermatoses ocupacionais',\n",
       " 'DIFT': 'Difteria',\n",
       " 'ESQU': 'Esquistossomose',\n",
       " 'EXAN': 'Doença exantemáticas',\n",
       " 'FMAC': 'Febre Maculosa',\n",
       " 'FTIF': 'Febre Tifóide',\n",
       " 'HANS': 'Hanseníase',\n",
       " 'HANT': 'Hantavirose',\n",
       " 'HEPA': 'Hepatites Virais',\n",
       " 'IEXO': 'Intoxicação Exógena',\n",
       " 'INFL': 'Influenza Pandêmica',\n",
       " 'LEIV': 'Leishmaniose Visceral',\n",
       " 'LEPT': 'Leptospirose',\n",
       " 'LERD': 'LER/Dort',\n",
       " 'LTAN': 'Leishmaniose Tegumentar Americana',\n",
       " 'MALA': 'Malária',\n",
       " 'MENI': 'Meningite',\n",
       " 'MENT': 'Transtornos mentais relacionados ao trabalho',\n",
       " 'NTRA': 'Notificação de Tracoma',\n",
       " 'PAIR': 'Perda auditiva por ruído relacionado ao trabalho',\n",
       " 'PEST': 'Peste',\n",
       " 'PFAN': 'Paralisia Flácida Aguda',\n",
       " 'PNEU': 'Pneumoconioses realacionadas ao trabalho',\n",
       " 'RAIV': 'Raiva',\n",
       " 'SDTA': 'Surto Doenças Transmitidas por Alimentos',\n",
       " 'SIFA': 'Sífilis Adquirida',\n",
       " 'SIFC': 'Sífilis Congênita',\n",
       " 'SIFG': 'Sífilis em Gestante',\n",
       " 'SRC': 'Síndrome da Rubéola Congênia',\n",
       " 'TETA': 'Tétano Acidental',\n",
       " 'TETN': 'Tétano Neonatal',\n",
       " 'TOXC': 'Toxoplasmose Congênita',\n",
       " 'TOXG': 'Toxoplasmose Gestacional',\n",
       " 'TRAC': 'Inquérito de Tracoma',\n",
       " 'TUBE': 'Tuberculose',\n",
       " 'VARC': 'Varicela',\n",
       " 'VIOL': 'Violência doméstica, sexual e/ou outras violências',\n",
       " 'ZIKA': 'Zika Vírus'}"
      ]
     },
     "execution_count": 4,
     "metadata": {},
     "output_type": "execute_result"
    }
   ],
   "source": [
    "sinan.diseases"
   ]
  },
  {
   "cell_type": "markdown",
   "metadata": {},
   "source": [
    "### Getting specific files "
   ]
  },
  {
   "cell_type": "code",
   "execution_count": 5,
   "metadata": {
    "collapsed": false,
    "jupyter": {
     "outputs_hidden": false
    },
    "pycharm": {
     "name": "#%%\n"
    }
   },
   "outputs": [
    {
     "data": {
      "text/plain": [
       "[CHIKBR15.dbc,\n",
       " CHIKBR16.dbc,\n",
       " CHIKBR17.dbc,\n",
       " CHIKBR18.dbc,\n",
       " CHIKBR19.dbc,\n",
       " CHIKBR20.dbc,\n",
       " CHIKBR21.dbc,\n",
       " CHIKBR22.dbc,\n",
       " CHIKBR23.dbc,\n",
       " ZIKABR16.dbc,\n",
       " ZIKABR17.dbc,\n",
       " ZIKABR18.dbc,\n",
       " ZIKABR19.dbc,\n",
       " ZIKABR20.dbc,\n",
       " ZIKABR21.dbc,\n",
       " ZIKABR22.dbc,\n",
       " ZIKABR23.dbc]"
      ]
     },
     "execution_count": 5,
     "metadata": {},
     "output_type": "execute_result"
    }
   ],
   "source": [
    "sinan.get_files(dis_codes=[\"ZIKA\", \"CHIK\"])"
   ]
  },
  {
   "cell_type": "code",
   "execution_count": 6,
   "metadata": {},
   "outputs": [
    {
     "data": {
      "text/plain": [
       "[BOTUBR23.dbc,\n",
       " CHIKBR23.dbc,\n",
       " ESQUBR23.dbc,\n",
       " FTIFBR23.dbc,\n",
       " HANSBR23.dbc,\n",
       " MENIBR23.dbc,\n",
       " TOXCBR23.dbc,\n",
       " TOXGBR23.dbc,\n",
       " TUBEBR23.dbc,\n",
       " VARCBR23.dbc,\n",
       " ZIKABR23.dbc]"
      ]
     },
     "execution_count": 6,
     "metadata": {},
     "output_type": "execute_result"
    }
   ],
   "source": [
    "sinan.get_files(years=2023)"
   ]
  },
  {
   "cell_type": "code",
   "execution_count": 7,
   "metadata": {},
   "outputs": [
    {
     "data": {
      "text/plain": [
       "[DENGBR22.dbc, ZIKABR22.dbc, ZIKABR23.dbc]"
      ]
     },
     "execution_count": 7,
     "metadata": {},
     "output_type": "execute_result"
    }
   ],
   "source": [
    "sinan.get_files(dis_codes=[\"DENG\", \"ZIKA\"], years=[2022, 2023])"
   ]
  },
  {
   "cell_type": "code",
   "execution_count": 8,
   "metadata": {},
   "outputs": [],
   "source": [
    "files = sinan.get_files(dis_codes=\"DENG\", years=[2000, 2001])\n",
    "dengue_2000, dengue_2001 = files"
   ]
  },
  {
   "cell_type": "markdown",
   "metadata": {},
   "source": [
    "### Describing a file inside DATASUS server"
   ]
  },
  {
   "cell_type": "code",
   "execution_count": 9,
   "metadata": {},
   "outputs": [
    {
     "data": {
      "text/plain": [
       "{'name': 'DENGBR00.dbc',\n",
       " 'disease': 'Dengue',\n",
       " 'year': 2000,\n",
       " 'size': '4.0 MB',\n",
       " 'last_update': '02-18-2022 10:03AM'}"
      ]
     },
     "execution_count": 9,
     "metadata": {},
     "output_type": "execute_result"
    }
   ],
   "source": [
    "sinan.describe(dengue_2000)"
   ]
  },
  {
   "cell_type": "code",
   "execution_count": 10,
   "metadata": {},
   "outputs": [
    {
     "data": {
      "text/plain": [
       "{'name': 'DENGBR01.dbc',\n",
       " 'disease': 'Dengue',\n",
       " 'year': 2001,\n",
       " 'size': '12.3 MB',\n",
       " 'last_update': '02-18-2022 10:03AM'}"
      ]
     },
     "execution_count": 10,
     "metadata": {},
     "output_type": "execute_result"
    }
   ],
   "source": [
    "sinan.describe(dengue_2001)"
   ]
  },
  {
   "cell_type": "markdown",
   "metadata": {},
   "source": [
    "### Downloading files"
   ]
  },
  {
   "cell_type": "markdown",
   "metadata": {},
   "source": [
    "You can rather download multiple files or download them individually:"
   ]
  },
  {
   "cell_type": "code",
   "execution_count": 11,
   "metadata": {},
   "outputs": [
    {
     "data": {
      "text/plain": [
       "['/home/bida/pysus/DENGBR00.dbc', '/home/bida/pysus/DENGBR01.dbc']"
      ]
     },
     "execution_count": 11,
     "metadata": {},
     "output_type": "execute_result"
    }
   ],
   "source": [
    "sinan.download(files) # Downloads to default directory"
   ]
  },
  {
   "cell_type": "code",
   "execution_count": 12,
   "metadata": {},
   "outputs": [
    {
     "data": {
      "text/plain": [
       "'/home/bida/pysus/DENGBR00.dbc'"
      ]
     },
     "execution_count": 12,
     "metadata": {},
     "output_type": "execute_result"
    }
   ],
   "source": [
    "dengue_2000.download()"
   ]
  },
  {
   "cell_type": "markdown",
   "metadata": {},
   "source": [
    "You can specify a local directory to download:"
   ]
  },
  {
   "cell_type": "code",
   "execution_count": 13,
   "metadata": {},
   "outputs": [
    {
     "data": {
      "text/plain": [
       "['/tmp/DENGBR00.dbc', '/tmp/DENGBR01.dbc']"
      ]
     },
     "execution_count": 13,
     "metadata": {},
     "output_type": "execute_result"
    }
   ],
   "source": [
    "sinan.download(files, local_dir=\"/tmp\")"
   ]
  },
  {
   "cell_type": "code",
   "execution_count": 14,
   "metadata": {},
   "outputs": [
    {
     "data": {
      "text/plain": [
       "'/tmp/DENGBR01.dbc'"
      ]
     },
     "execution_count": 14,
     "metadata": {},
     "output_type": "execute_result"
    }
   ],
   "source": [
    "dengue_2001.download(local_dir=\"/tmp\")"
   ]
  },
  {
   "cell_type": "markdown",
   "metadata": {},
   "source": [
    "@Note: If the file has been downloaded already, it's required to delete it in order to download the lastest updated file from DATASUS. "
   ]
  },
  {
   "cell_type": "markdown",
   "metadata": {},
   "source": [
    "# SINAN Metadata Information"
   ]
  },
  {
   "cell_type": "code",
   "execution_count": 15,
   "metadata": {},
   "outputs": [],
   "source": [
    "from pysus.online_data import SINAN"
   ]
  },
  {
   "cell_type": "code",
   "execution_count": 16,
   "metadata": {},
   "outputs": [
    {
     "name": "stderr",
     "output_type": "stream",
     "text": [
      "/home/bida/Projetos/InfoDengue/PySUS/pysus/online_data/SINAN.py:53: FutureWarning: The error_bad_lines argument has been deprecated and will be removed in a future version. Use on_bad_lines in the future.\n",
      "\n",
      "\n",
      "  df = pd.read_csv(\n"
     ]
    },
    {
     "data": {
      "text/html": [
       "<div>\n",
       "<style scoped>\n",
       "    .dataframe tbody tr th:only-of-type {\n",
       "        vertical-align: middle;\n",
       "    }\n",
       "\n",
       "    .dataframe tbody tr th {\n",
       "        vertical-align: top;\n",
       "    }\n",
       "\n",
       "    .dataframe thead th {\n",
       "        text-align: right;\n",
       "    }\n",
       "</style>\n",
       "<table border=\"1\" class=\"dataframe\">\n",
       "  <thead>\n",
       "    <tr style=\"text-align: right;\">\n",
       "      <th></th>\n",
       "      <th>Nome do campo</th>\n",
       "      <th>Campo</th>\n",
       "      <th>Tipo</th>\n",
       "      <th>Categoria</th>\n",
       "      <th>Descrição</th>\n",
       "      <th>Características</th>\n",
       "      <th>DBF</th>\n",
       "    </tr>\n",
       "  </thead>\n",
       "  <tbody>\n",
       "    <tr>\n",
       "      <th>0</th>\n",
       "      <td>2-Agravo/doença</td>\n",
       "      <td>NaN</td>\n",
       "      <td>VARCHAR(1)</td>\n",
       "      <td>1-Dengue\\n2-Chikungunya</td>\n",
       "      <td>Especifica a suspeição do agravo.</td>\n",
       "      <td>Campo Obrigatório\\nPreenchendo o código,\\na de...</td>\n",
       "      <td>ID_AGRAVO</td>\n",
       "    </tr>\n",
       "    <tr>\n",
       "      <th>1</th>\n",
       "      <td>31-Data da Investigação</td>\n",
       "      <td>dt_investigacao</td>\n",
       "      <td>DATE</td>\n",
       "      <td>NaN</td>\n",
       "      <td>Informar a data da investigação</td>\n",
       "      <td>Campo obrigatório\\n- Não aceitar Data da\\ninve...</td>\n",
       "      <td>DT_INVEST</td>\n",
       "    </tr>\n",
       "    <tr>\n",
       "      <th>2</th>\n",
       "      <td>32- Ocupação/ramo de atividade econômica</td>\n",
       "      <td>co_cbo_ocupacao</td>\n",
       "      <td>VARCHAR(6)</td>\n",
       "      <td>NaN</td>\n",
       "      <td>Informar a atividade exercida pelo paciente no...</td>\n",
       "      <td>NaN</td>\n",
       "      <td>ID_OCUPA_N</td>\n",
       "    </tr>\n",
       "    <tr>\n",
       "      <th>3</th>\n",
       "      <td>33- Sinais clínicos (Febre)</td>\n",
       "      <td>NaN</td>\n",
       "      <td>VARCHAR(1)</td>\n",
       "      <td>1 – Sim\\n2 – Não</td>\n",
       "      <td>Informar qual sinal clínico ou achados\\nlabora...</td>\n",
       "      <td>Campo obrigatório</td>\n",
       "      <td>FEBRE</td>\n",
       "    </tr>\n",
       "    <tr>\n",
       "      <th>4</th>\n",
       "      <td>33- Sinais clínicos (Mialgia)</td>\n",
       "      <td>NaN</td>\n",
       "      <td>VARCHAR(1)</td>\n",
       "      <td>1 – Sim\\n2 – Não</td>\n",
       "      <td>Informar qual sinal clínico ou achados\\nlabora...</td>\n",
       "      <td>Campo obrigatório</td>\n",
       "      <td>MIALGIA</td>\n",
       "    </tr>\n",
       "    <tr>\n",
       "      <th>...</th>\n",
       "      <td>...</td>\n",
       "      <td>...</td>\n",
       "      <td>...</td>\n",
       "      <td>...</td>\n",
       "      <td>...</td>\n",
       "      <td>...</td>\n",
       "      <td>...</td>\n",
       "    </tr>\n",
       "    <tr>\n",
       "      <th>83</th>\n",
       "      <td>70- Dengue grave (Alteração da consciência)</td>\n",
       "      <td>NaN</td>\n",
       "      <td>VARCHAR(1)</td>\n",
       "      <td>1 – Sim\\n2 – Não</td>\n",
       "      <td>Informar qual sinal de gravidade foi\\nencontrado</td>\n",
       "      <td>Campo obrigatório\\nSe campo 62-\\nClassificação...</td>\n",
       "      <td>GRAV_CONSC</td>\n",
       "    </tr>\n",
       "    <tr>\n",
       "      <th>84</th>\n",
       "      <td>70- Dengue grave (Outros órgãos)</td>\n",
       "      <td>NaN</td>\n",
       "      <td>NaN</td>\n",
       "      <td>NaN</td>\n",
       "      <td>Informar qual sinal de gravidade foi\\nencontrado</td>\n",
       "      <td>Campo obrigatório\\nSe campo 62-\\nClassificação...</td>\n",
       "      <td>GRAV_ORGAO</td>\n",
       "    </tr>\n",
       "    <tr>\n",
       "      <th>85</th>\n",
       "      <td>71- Dengue grave Data de início dos sintomas</td>\n",
       "      <td>NaN</td>\n",
       "      <td>DATE</td>\n",
       "      <td>NaN</td>\n",
       "      <td>Informar data de início dos sinais de alarme.\\...</td>\n",
       "      <td>Campo obrigatório\\nSe campo 62-\\nClassificação...</td>\n",
       "      <td>DT_GRAV</td>\n",
       "    </tr>\n",
       "    <tr>\n",
       "      <th>86</th>\n",
       "      <td>Informações complementares e observações adici...</td>\n",
       "      <td>ds_observacao</td>\n",
       "      <td>VARCHAR(255)</td>\n",
       "      <td>NaN</td>\n",
       "      <td>Informações complementares e observações\\nadic...</td>\n",
       "      <td>Habilitado para todas\\nnotificações</td>\n",
       "      <td>DS_OBS</td>\n",
       "    </tr>\n",
       "    <tr>\n",
       "      <th>87</th>\n",
       "      <td>NaN</td>\n",
       "      <td>NaN</td>\n",
       "      <td>NaN</td>\n",
       "      <td>NaN</td>\n",
       "      <td>NaN</td>\n",
       "      <td>NaN</td>\n",
       "      <td>NaN</td>\n",
       "    </tr>\n",
       "  </tbody>\n",
       "</table>\n",
       "<p>88 rows × 7 columns</p>\n",
       "</div>"
      ],
      "text/plain": [
       "                                        Nome do campo            Campo  \\\n",
       "0                                     2-Agravo/doença              NaN   \n",
       "1                             31-Data da Investigação  dt_investigacao   \n",
       "2            32- Ocupação/ramo de atividade econômica  co_cbo_ocupacao   \n",
       "3                         33- Sinais clínicos (Febre)              NaN   \n",
       "4                       33- Sinais clínicos (Mialgia)              NaN   \n",
       "..                                                ...              ...   \n",
       "83        70- Dengue grave (Alteração da consciência)              NaN   \n",
       "84                   70- Dengue grave (Outros órgãos)              NaN   \n",
       "85       71- Dengue grave Data de início dos sintomas              NaN   \n",
       "86  Informações complementares e observações adici...    ds_observacao   \n",
       "87                                                NaN              NaN   \n",
       "\n",
       "            Tipo                Categoria  \\\n",
       "0     VARCHAR(1)  1-Dengue\\n2-Chikungunya   \n",
       "1           DATE                      NaN   \n",
       "2     VARCHAR(6)                      NaN   \n",
       "3     VARCHAR(1)         1 – Sim\\n2 – Não   \n",
       "4     VARCHAR(1)         1 – Sim\\n2 – Não   \n",
       "..           ...                      ...   \n",
       "83    VARCHAR(1)         1 – Sim\\n2 – Não   \n",
       "84           NaN                      NaN   \n",
       "85          DATE                      NaN   \n",
       "86  VARCHAR(255)                      NaN   \n",
       "87           NaN                      NaN   \n",
       "\n",
       "                                            Descrição  \\\n",
       "0                   Especifica a suspeição do agravo.   \n",
       "1                     Informar a data da investigação   \n",
       "2   Informar a atividade exercida pelo paciente no...   \n",
       "3   Informar qual sinal clínico ou achados\\nlabora...   \n",
       "4   Informar qual sinal clínico ou achados\\nlabora...   \n",
       "..                                                ...   \n",
       "83   Informar qual sinal de gravidade foi\\nencontrado   \n",
       "84   Informar qual sinal de gravidade foi\\nencontrado   \n",
       "85  Informar data de início dos sinais de alarme.\\...   \n",
       "86  Informações complementares e observações\\nadic...   \n",
       "87                                                NaN   \n",
       "\n",
       "                                      Características         DBF  \n",
       "0   Campo Obrigatório\\nPreenchendo o código,\\na de...   ID_AGRAVO  \n",
       "1   Campo obrigatório\\n- Não aceitar Data da\\ninve...   DT_INVEST  \n",
       "2                                                 NaN  ID_OCUPA_N  \n",
       "3                                   Campo obrigatório       FEBRE  \n",
       "4                                   Campo obrigatório     MIALGIA  \n",
       "..                                                ...         ...  \n",
       "83  Campo obrigatório\\nSe campo 62-\\nClassificação...  GRAV_CONSC  \n",
       "84  Campo obrigatório\\nSe campo 62-\\nClassificação...  GRAV_ORGAO  \n",
       "85  Campo obrigatório\\nSe campo 62-\\nClassificação...     DT_GRAV  \n",
       "86                Habilitado para todas\\nnotificações      DS_OBS  \n",
       "87                                                NaN         NaN  \n",
       "\n",
       "[88 rows x 7 columns]"
      ]
     },
     "execution_count": 16,
     "metadata": {},
     "output_type": "execute_result"
    }
   ],
   "source": [
    "metadata = SINAN.metadata_df('DENG')\n",
    "metadata"
   ]
  },
  {
   "cell_type": "code",
   "execution_count": 17,
   "metadata": {},
   "outputs": [
    {
     "data": {
      "text/plain": [
       "{'ID_AGRAVO': '2-Agravo/doença',\n",
       " 'DT_INVEST': '31-Data da Investigação',\n",
       " 'ID_OCUPA_N': '32- Ocupação/ramo de atividade econômica',\n",
       " 'FEBRE': '33- Sinais clínicos (Febre)',\n",
       " 'MIALGIA': '33- Sinais clínicos (Mialgia)',\n",
       " 'CEFALEIA': '33- Sinais clínicos (Cefaleia)',\n",
       " 'EXANTEMA': '33- Sinais clínicos (Exantema)',\n",
       " 'VOMITO': '33- Sinais clínicos (Vômito)',\n",
       " 'NAUSEA': '33- Sinais clínicos (Náusea)',\n",
       " 'DOR_COSTAS': '33- Sinais clínicos (Dor nas costas)',\n",
       " 'CONJUNTVIT': '33- Sinais clínicos (Conjuntivite)',\n",
       " 'ARTRITE': '33- Sinais clínicos (Artrite)',\n",
       " 'ARTRALGIA': '33- Sinais clínicos (Artralgia intensa)',\n",
       " 'PETÉQUIA_N': '33- Sinais clínicos (Petéquias)',\n",
       " 'LEUCOPENIA': '33- Sinais clínicos (Leucopenia)',\n",
       " 'LACO': '33- Sinais clínicos (Prova do laço)',\n",
       " 'DOR_RETRO': '33- Sinais clínicos (Dor retroorbital)',\n",
       " 'DIABETES': '34- Doenças pré- existentes (Diabetes)',\n",
       " 'HEMATOLOG': '34- Doenças pré- existentes (Doenças hematológicas)',\n",
       " 'HEPATOPAT': '34- Doenças pré- existentes (Hepatopatias)',\n",
       " 'RENAL': '34- Doenças pré- existentes (Doença renal crônica)',\n",
       " 'HIPERTENSA': '34- Doenças pré- existentes (Hipertensão arterial)',\n",
       " 'ÁCIDO_PEPT': '34- Doenças pré- existentes (Doença ácido-péptica)',\n",
       " 'AUTO_IMUNE': '34- Doenças pré- existentes (Doenças auto-imunes)',\n",
       " 'DT_CHIK_S1': '35-Exame sorológico (IgM) Chikungunya Soro 1 Data da Coleta',\n",
       " 'DT_CHIK_S2': '36-Exame sorológico (IgM) Chikungunya Soro 2 Data da Coleta',\n",
       " 'DT_PRNT': '37-Exame PRNT Data da Coleta',\n",
       " 'RES_CHIKS1': '38-Exame sorológico (IgM) Chikungunya Soro 1 Resultado',\n",
       " 'RES_CHIKS2': '38-Exame sorológico (IgM) Chikungunya Soro 2 Resultado',\n",
       " 'RESUL_PRNT': '38-Exame PRNT Resultado',\n",
       " 'DT_SORO': '39-Exame sorológico (IgM) Dengue Data da Coleta',\n",
       " 'RESUL_SORO': '40-Exame sorológico (IgM) Dengue Resultado',\n",
       " 'DT_NS1': '41- Exame NS1 Data da Coleta',\n",
       " 'RESUL_NS1': '42- Exame NS1 Resultado',\n",
       " 'DT_VIRAL': '43-Isolamento Viral Data da Coleta',\n",
       " 'RESUL_VI_N': '43-Isolamento Viral Resultado',\n",
       " 'DT_PCR': '45-RT-PCR Data da Coleta',\n",
       " 'RESUL_PCR_': '46-RT-PCR Resultado',\n",
       " 'SOROTIPO': '47-Sorotipo',\n",
       " 'HISTOPA_N': '48-Histopatologia Resultado',\n",
       " 'IMUNOH_N': '49-Imunohistoquímica Resultado',\n",
       " 'HOSPITALIZ': '50-Ocorreu Hospitalização?',\n",
       " 'DT_INTERNA': '51-Data Da Internação',\n",
       " 'UF': '52-UF De Hospitalização',\n",
       " 'MUNICIPIO': '53-Municipio Do Hospital',\n",
       " 'HOSPITAL': '54-Nome Do Hospital',\n",
       " 'DDD_HOSP': '55-(DDD)',\n",
       " 'TEL_HOSP': '55-Telefone',\n",
       " 'TPAUTOCTO': '56-O caso é Autóctone de residência?',\n",
       " 'COUFINF': '57-UF (provável da fonte de infecção)',\n",
       " 'COPAISINF': '58-País (provável da fonte de infecção)',\n",
       " 'COMUNINF': '59-Município (provável da fonte de infecção)',\n",
       " 'CODISINF': '60-Distrito (provável de infecção)',\n",
       " 'CO_BAINF\\nNOBAIINF': '61-Bairro (provável de infecção)',\n",
       " 'CLASSI_FIN': '62-Classificação',\n",
       " 'CRITERIO': '63-Critério De Confirmação/Descarte',\n",
       " 'CLINIC_CHIK': '64- Apresentação clínica Chikungunya',\n",
       " 'EVOLUCAO': '65-Evolução Do Caso',\n",
       " 'DT_OBITO': '66-Data do Óbito',\n",
       " 'DT_ENCERRA': '67-Data Do Encerramento',\n",
       " 'ALRM_HIPOT': '68- Dengue com sinais de alarme (Hipotensão)',\n",
       " 'ALRM_PLAQ': '68- Dengue com sinais de alarme (Queda abrupta de plaquetas)',\n",
       " 'ALRM_VOM': '68- Dengue com sinais de alarme (Vômitos persistentes)',\n",
       " 'ALRM_ABDOM': '68- Dengue com sinais de alarme (Dor abdominal)',\n",
       " 'ALRM_LETAR': '68- Dengue com sinais de alarme (Letargia ou irritabilidade)',\n",
       " 'ALRM_SANG': '68- Dengue com sinais de alarme (Sangramento de mucosa/outras hemorragias)',\n",
       " 'ALRM_HEMAT': '68- Dengue com sinais de alarme (Aumento hematócrito)',\n",
       " 'ALRM_HEPAT': '68- Dengue com sinais de alarme (Hepatomegalia)',\n",
       " 'ALRM_LIQ': '68- Dengue com sinais de alarme (Acúmulo de líquidos)',\n",
       " 'DT_ALRM': '69- Dengue com sinais de alarme Data de início dos sintomas',\n",
       " 'GRAV_PULSO': '70- Dengue grave (Pulso débil ou indectável)',\n",
       " 'GRAV_CONV': '70- Dengue grave (PA convergente)',\n",
       " 'GRAV_ENCH': '70- Dengue grave (Tempo de enchimento capilar)',\n",
       " 'GRAV_INSUF': '70- Dengue grave (Acúmulo de líquidos com insuficiência respiratória)',\n",
       " 'GRAV_TAQUI': '70- Dengue grave (Taquicardia)',\n",
       " 'GRAV_EXTRE': '70- Dengue grave (Extremidade frias)',\n",
       " 'GRAV_HIPOT': '70- Dengue grave (Hipotensão arterial em fase tardia)',\n",
       " 'GRAV_HEMAT': '70- Dengue grave (Hematêmese)',\n",
       " 'GRAV_MELEN': '70- Dengue grave (Melena)',\n",
       " 'GRAV_METRO': '70- Dengue grave (Metrorragia volumosa)',\n",
       " 'GRAV_SANG': '70- Dengue grave (Sangramento do SNC)',\n",
       " 'GRAV_AST': '70- Dengue grave (AST/ALT >1 .000)',\n",
       " 'GRAV_MIOC': '70- Dengue grave (Miocardite)',\n",
       " 'GRAV_CONSC': '70- Dengue grave (Alteração da consciência)',\n",
       " 'GRAV_ORGAO': '70- Dengue grave (Outros órgãos)',\n",
       " 'DT_GRAV': '71- Dengue grave Data de início dos sintomas',\n",
       " 'DS_OBS': 'Informações complementares e observações adicionais',\n",
       " nan: nan}"
      ]
     },
     "execution_count": 17,
     "metadata": {},
     "output_type": "execute_result"
    }
   ],
   "source": [
    "dict(zip(metadata['DBF'], metadata['Nome do campo']))"
   ]
  }
 ],
 "metadata": {
  "kernelspec": {
   "display_name": "Python 3 (ipykernel)",
   "language": "python",
   "name": "python3"
  },
  "language_info": {
   "codemirror_mode": {
    "name": "ipython",
    "version": 3
   },
   "file_extension": ".py",
   "mimetype": "text/x-python",
   "name": "python",
   "nbconvert_exporter": "python",
   "pygments_lexer": "ipython3",
   "version": "3.9.16"
  },
  "vscode": {
   "interpreter": {
    "hash": "2a96a5ccec8dfcba7d06b2e71f6eef3b5dac5716461bf5d73ea1bb7ee462cdaa"
   }
  }
 },
 "nbformat": 4,
 "nbformat_minor": 4
}
