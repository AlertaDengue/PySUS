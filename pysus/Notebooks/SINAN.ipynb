{
 "cells": [
  {
   "cell_type": "markdown",
   "metadata": {
    "collapsed": true,
    "pycharm": {
     "name": "#%% md\n"
    }
   },
   "source": [
    "# Fetching National level table from SINAN\n"
   ],
   "outputs": []
  },
  {
   "cell_type": "code",
   "execution_count": 1,
   "outputs": [],
   "source": [
    "from pysus.online_data import _fetch_file, get_CID10_table\n",
    "from pysus.online_data.SINAN import download"
   ],
   "metadata": {
    "collapsed": false,
    "pycharm": {
     "name": "#%%\n"
    }
   }
  },
  {
   "cell_type": "code",
   "execution_count": 16,
   "outputs": [],
   "source": [
    "# df = _fetch_file(fname='CHIKBR15.dbc',path='/dissemin/publicos/SINAN/DADOS/FINAIS', ftype='DBC')\n",
    "df = download('BR',2015,'Chikungunya')"
   ],
   "metadata": {
    "collapsed": false,
    "pycharm": {
     "name": "#%%\n"
    }
   }
  },
  {
   "cell_type": "code",
   "execution_count": 17,
   "outputs": [
    {
     "data": {
      "text/plain": "      TP_NOT ID_AGRAVO CS_SUSPEIT  DT_NOTIFIC SEM_NOT NU_ANO SG_UF_NOT  \\\n0          2      A920             2015-01-01  201453   2015        28   \n1          2      A920             2015-01-01  201453   2015        24   \n2          2      A920             2015-01-01  201453   2015        26   \n3          2      A920             2015-01-01  201453   2015        29   \n4          2      A920             2015-01-01  201453   2015        29   \n...      ...       ...        ...         ...     ...    ...       ...   \n53266      2      A920             2015-12-31  201552   2015        26   \n53267      2      A920             2015-12-31  201552   2015        26   \n53268      2      A920             2015-12-31  201552   2015        26   \n53269      2      A920             2015-12-31  201552   2015        26   \n53270      2      A920             2015-12-31  201552   2015        26   \n\n      ID_MUNICIP ID_REGIONA  DT_SIN_PRI  ... COPAISINF  COMUNINF DOENCA_TRA  \\\n0         280460       2061  2015-01-01  ...         1    280460          2   \n1         240310       1414  2015-01-01  ...         0                        \n2         260890       1507  2015-01-01  ...         0                        \n3         292630       1381  2015-01-01  ...         1    292630          9   \n4         292630       1381  2014-12-27  ...         1    292630          9   \n...          ...        ...         ...  ...       ...       ...        ...   \n53266     260890       1507  2015-12-31  ...         0                        \n53267     260410       1499  2015-12-26  ...         0                        \n53268     261160       1497  2015-12-26  ...         0                        \n53269     261160       1497  2015-12-29  ...         0                        \n53270     261160       1497  2015-12-30  ...         0                        \n\n      EVOLUCAO DT_OBITO  DT_ENCERRA CS_FLXRET FLXRECEBI TP_SISTEMA TPUNINOT  \n0            1     None  2015-12-17         0         2          1           \n1                  None  2015-03-09         0         2          1           \n2                  None        None         0                    2           \n3            9     None  2015-01-13         0         2          1           \n4            9     None  2015-01-13         0         2          1           \n...        ...      ...         ...       ...       ...        ...      ...  \n53266              None  2015-12-31         0                    2           \n53267        1     None  2016-08-16         0                    2           \n53268              None        None         0                    2           \n53269        1     None  2016-08-11         1                    2           \n53270              None        None         0                    2           \n\n[53271 rows x 38 columns]",
      "text/html": "<div>\n<style scoped>\n    .dataframe tbody tr th:only-of-type {\n        vertical-align: middle;\n    }\n\n    .dataframe tbody tr th {\n        vertical-align: top;\n    }\n\n    .dataframe thead th {\n        text-align: right;\n    }\n</style>\n<table border=\"1\" class=\"dataframe\">\n  <thead>\n    <tr style=\"text-align: right;\">\n      <th></th>\n      <th>TP_NOT</th>\n      <th>ID_AGRAVO</th>\n      <th>CS_SUSPEIT</th>\n      <th>DT_NOTIFIC</th>\n      <th>SEM_NOT</th>\n      <th>NU_ANO</th>\n      <th>SG_UF_NOT</th>\n      <th>ID_MUNICIP</th>\n      <th>ID_REGIONA</th>\n      <th>DT_SIN_PRI</th>\n      <th>...</th>\n      <th>COPAISINF</th>\n      <th>COMUNINF</th>\n      <th>DOENCA_TRA</th>\n      <th>EVOLUCAO</th>\n      <th>DT_OBITO</th>\n      <th>DT_ENCERRA</th>\n      <th>CS_FLXRET</th>\n      <th>FLXRECEBI</th>\n      <th>TP_SISTEMA</th>\n      <th>TPUNINOT</th>\n    </tr>\n  </thead>\n  <tbody>\n    <tr>\n      <th>0</th>\n      <td>2</td>\n      <td>A920</td>\n      <td></td>\n      <td>2015-01-01</td>\n      <td>201453</td>\n      <td>2015</td>\n      <td>28</td>\n      <td>280460</td>\n      <td>2061</td>\n      <td>2015-01-01</td>\n      <td>...</td>\n      <td>1</td>\n      <td>280460</td>\n      <td>2</td>\n      <td>1</td>\n      <td>None</td>\n      <td>2015-12-17</td>\n      <td>0</td>\n      <td>2</td>\n      <td>1</td>\n      <td></td>\n    </tr>\n    <tr>\n      <th>1</th>\n      <td>2</td>\n      <td>A920</td>\n      <td></td>\n      <td>2015-01-01</td>\n      <td>201453</td>\n      <td>2015</td>\n      <td>24</td>\n      <td>240310</td>\n      <td>1414</td>\n      <td>2015-01-01</td>\n      <td>...</td>\n      <td>0</td>\n      <td></td>\n      <td></td>\n      <td></td>\n      <td>None</td>\n      <td>2015-03-09</td>\n      <td>0</td>\n      <td>2</td>\n      <td>1</td>\n      <td></td>\n    </tr>\n    <tr>\n      <th>2</th>\n      <td>2</td>\n      <td>A920</td>\n      <td></td>\n      <td>2015-01-01</td>\n      <td>201453</td>\n      <td>2015</td>\n      <td>26</td>\n      <td>260890</td>\n      <td>1507</td>\n      <td>2015-01-01</td>\n      <td>...</td>\n      <td>0</td>\n      <td></td>\n      <td></td>\n      <td></td>\n      <td>None</td>\n      <td>None</td>\n      <td>0</td>\n      <td></td>\n      <td>2</td>\n      <td></td>\n    </tr>\n    <tr>\n      <th>3</th>\n      <td>2</td>\n      <td>A920</td>\n      <td></td>\n      <td>2015-01-01</td>\n      <td>201453</td>\n      <td>2015</td>\n      <td>29</td>\n      <td>292630</td>\n      <td>1381</td>\n      <td>2015-01-01</td>\n      <td>...</td>\n      <td>1</td>\n      <td>292630</td>\n      <td>9</td>\n      <td>9</td>\n      <td>None</td>\n      <td>2015-01-13</td>\n      <td>0</td>\n      <td>2</td>\n      <td>1</td>\n      <td></td>\n    </tr>\n    <tr>\n      <th>4</th>\n      <td>2</td>\n      <td>A920</td>\n      <td></td>\n      <td>2015-01-01</td>\n      <td>201453</td>\n      <td>2015</td>\n      <td>29</td>\n      <td>292630</td>\n      <td>1381</td>\n      <td>2014-12-27</td>\n      <td>...</td>\n      <td>1</td>\n      <td>292630</td>\n      <td>9</td>\n      <td>9</td>\n      <td>None</td>\n      <td>2015-01-13</td>\n      <td>0</td>\n      <td>2</td>\n      <td>1</td>\n      <td></td>\n    </tr>\n    <tr>\n      <th>...</th>\n      <td>...</td>\n      <td>...</td>\n      <td>...</td>\n      <td>...</td>\n      <td>...</td>\n      <td>...</td>\n      <td>...</td>\n      <td>...</td>\n      <td>...</td>\n      <td>...</td>\n      <td>...</td>\n      <td>...</td>\n      <td>...</td>\n      <td>...</td>\n      <td>...</td>\n      <td>...</td>\n      <td>...</td>\n      <td>...</td>\n      <td>...</td>\n      <td>...</td>\n      <td>...</td>\n    </tr>\n    <tr>\n      <th>53266</th>\n      <td>2</td>\n      <td>A920</td>\n      <td></td>\n      <td>2015-12-31</td>\n      <td>201552</td>\n      <td>2015</td>\n      <td>26</td>\n      <td>260890</td>\n      <td>1507</td>\n      <td>2015-12-31</td>\n      <td>...</td>\n      <td>0</td>\n      <td></td>\n      <td></td>\n      <td></td>\n      <td>None</td>\n      <td>2015-12-31</td>\n      <td>0</td>\n      <td></td>\n      <td>2</td>\n      <td></td>\n    </tr>\n    <tr>\n      <th>53267</th>\n      <td>2</td>\n      <td>A920</td>\n      <td></td>\n      <td>2015-12-31</td>\n      <td>201552</td>\n      <td>2015</td>\n      <td>26</td>\n      <td>260410</td>\n      <td>1499</td>\n      <td>2015-12-26</td>\n      <td>...</td>\n      <td>0</td>\n      <td></td>\n      <td></td>\n      <td>1</td>\n      <td>None</td>\n      <td>2016-08-16</td>\n      <td>0</td>\n      <td></td>\n      <td>2</td>\n      <td></td>\n    </tr>\n    <tr>\n      <th>53268</th>\n      <td>2</td>\n      <td>A920</td>\n      <td></td>\n      <td>2015-12-31</td>\n      <td>201552</td>\n      <td>2015</td>\n      <td>26</td>\n      <td>261160</td>\n      <td>1497</td>\n      <td>2015-12-26</td>\n      <td>...</td>\n      <td>0</td>\n      <td></td>\n      <td></td>\n      <td></td>\n      <td>None</td>\n      <td>None</td>\n      <td>0</td>\n      <td></td>\n      <td>2</td>\n      <td></td>\n    </tr>\n    <tr>\n      <th>53269</th>\n      <td>2</td>\n      <td>A920</td>\n      <td></td>\n      <td>2015-12-31</td>\n      <td>201552</td>\n      <td>2015</td>\n      <td>26</td>\n      <td>261160</td>\n      <td>1497</td>\n      <td>2015-12-29</td>\n      <td>...</td>\n      <td>0</td>\n      <td></td>\n      <td></td>\n      <td>1</td>\n      <td>None</td>\n      <td>2016-08-11</td>\n      <td>1</td>\n      <td></td>\n      <td>2</td>\n      <td></td>\n    </tr>\n    <tr>\n      <th>53270</th>\n      <td>2</td>\n      <td>A920</td>\n      <td></td>\n      <td>2015-12-31</td>\n      <td>201552</td>\n      <td>2015</td>\n      <td>26</td>\n      <td>261160</td>\n      <td>1497</td>\n      <td>2015-12-30</td>\n      <td>...</td>\n      <td>0</td>\n      <td></td>\n      <td></td>\n      <td></td>\n      <td>None</td>\n      <td>None</td>\n      <td>0</td>\n      <td></td>\n      <td>2</td>\n      <td></td>\n    </tr>\n  </tbody>\n</table>\n<p>53271 rows × 38 columns</p>\n</div>"
     },
     "execution_count": 17,
     "metadata": {},
     "output_type": "execute_result"
    }
   ],
   "source": [
    "df\n"
   ],
   "metadata": {
    "collapsed": false,
    "pycharm": {
     "name": "#%%\n"
    }
   }
  },
  {
   "cell_type": "code",
   "execution_count": 19,
   "outputs": [
    {
     "data": {
      "text/plain": "       TP_NOT ID_AGRAVO CS_SUSPEIT  DT_NOTIFIC SEM_NOT NU_ANO SG_UF_NOT  \\\n0           2      A928             2016-01-01  201552   2016        17   \n1           2      A928             2016-01-01  201552   2016        29   \n2           2      A928             2016-01-01  201552   2016        29   \n3           2      A928             2016-01-01  201552   2016        29   \n4           2      A928             2016-01-01  201552   2016        32   \n...       ...       ...        ...         ...     ...    ...       ...   \n281459      2      A928             2016-12-31  201652   2016        33   \n281460      2      A928             2016-12-31  201652   2016        51   \n281461      2      A928             2016-12-31  201652   2016        51   \n281462      2      A928             2016-12-31  201652   2016        51   \n281463      2      A928             2016-12-31  201652   2016        51   \n\n       ID_MUNICIP ID_REGIONA  DT_SIN_PRI  ... COPAISINF  COMUNINF DOENCA_TRA  \\\n0          170230             2016-01-01  ...         0                        \n1          292040       1385  2015-12-29  ...         1    292040          2   \n2          292040       1385  2016-01-01  ...         1    292040          2   \n3          293240       1394  2015-12-28  ...         1    293240          2   \n4          320530       1510  2015-12-31  ...         1    320530          2   \n...           ...        ...         ...  ...       ...       ...        ...   \n281459     330455             2016-12-29  ...         1    330455          2   \n281460     510340       1578  2016-12-26  ...         1    510340          2   \n281461     510340       1578  2016-12-30  ...         1    510340          2   \n281462     510340       1578  2016-12-27  ...         1    510340          2   \n281463     510340       1578  2016-12-30  ...         0                        \n\n       EVOLUCAO DT_OBITO  DT_ENCERRA CS_FLXRET FLXRECEBI TP_SISTEMA TPUNINOT  \n0                   None  2016-03-07         0         2          1           \n1             1     None  2016-06-02         0         2          1           \n2             1     None  2016-06-02         0         2          1           \n3             1     None  2016-01-02         0         2          1           \n4             1     None  2016-01-25         0         2          1           \n...         ...      ...         ...       ...       ...        ...      ...  \n281459        1     None  2017-01-10         0         2          1           \n281460        1     None  2017-02-10         0         2          1           \n281461        1     None  2017-02-10         0         2          1           \n281462        1     None  2017-01-30         0         2          1           \n281463              None        None         1         2          1           \n\n[281464 rows x 38 columns]",
      "text/html": "<div>\n<style scoped>\n    .dataframe tbody tr th:only-of-type {\n        vertical-align: middle;\n    }\n\n    .dataframe tbody tr th {\n        vertical-align: top;\n    }\n\n    .dataframe thead th {\n        text-align: right;\n    }\n</style>\n<table border=\"1\" class=\"dataframe\">\n  <thead>\n    <tr style=\"text-align: right;\">\n      <th></th>\n      <th>TP_NOT</th>\n      <th>ID_AGRAVO</th>\n      <th>CS_SUSPEIT</th>\n      <th>DT_NOTIFIC</th>\n      <th>SEM_NOT</th>\n      <th>NU_ANO</th>\n      <th>SG_UF_NOT</th>\n      <th>ID_MUNICIP</th>\n      <th>ID_REGIONA</th>\n      <th>DT_SIN_PRI</th>\n      <th>...</th>\n      <th>COPAISINF</th>\n      <th>COMUNINF</th>\n      <th>DOENCA_TRA</th>\n      <th>EVOLUCAO</th>\n      <th>DT_OBITO</th>\n      <th>DT_ENCERRA</th>\n      <th>CS_FLXRET</th>\n      <th>FLXRECEBI</th>\n      <th>TP_SISTEMA</th>\n      <th>TPUNINOT</th>\n    </tr>\n  </thead>\n  <tbody>\n    <tr>\n      <th>0</th>\n      <td>2</td>\n      <td>A928</td>\n      <td></td>\n      <td>2016-01-01</td>\n      <td>201552</td>\n      <td>2016</td>\n      <td>17</td>\n      <td>170230</td>\n      <td></td>\n      <td>2016-01-01</td>\n      <td>...</td>\n      <td>0</td>\n      <td></td>\n      <td></td>\n      <td></td>\n      <td>None</td>\n      <td>2016-03-07</td>\n      <td>0</td>\n      <td>2</td>\n      <td>1</td>\n      <td></td>\n    </tr>\n    <tr>\n      <th>1</th>\n      <td>2</td>\n      <td>A928</td>\n      <td></td>\n      <td>2016-01-01</td>\n      <td>201552</td>\n      <td>2016</td>\n      <td>29</td>\n      <td>292040</td>\n      <td>1385</td>\n      <td>2015-12-29</td>\n      <td>...</td>\n      <td>1</td>\n      <td>292040</td>\n      <td>2</td>\n      <td>1</td>\n      <td>None</td>\n      <td>2016-06-02</td>\n      <td>0</td>\n      <td>2</td>\n      <td>1</td>\n      <td></td>\n    </tr>\n    <tr>\n      <th>2</th>\n      <td>2</td>\n      <td>A928</td>\n      <td></td>\n      <td>2016-01-01</td>\n      <td>201552</td>\n      <td>2016</td>\n      <td>29</td>\n      <td>292040</td>\n      <td>1385</td>\n      <td>2016-01-01</td>\n      <td>...</td>\n      <td>1</td>\n      <td>292040</td>\n      <td>2</td>\n      <td>1</td>\n      <td>None</td>\n      <td>2016-06-02</td>\n      <td>0</td>\n      <td>2</td>\n      <td>1</td>\n      <td></td>\n    </tr>\n    <tr>\n      <th>3</th>\n      <td>2</td>\n      <td>A928</td>\n      <td></td>\n      <td>2016-01-01</td>\n      <td>201552</td>\n      <td>2016</td>\n      <td>29</td>\n      <td>293240</td>\n      <td>1394</td>\n      <td>2015-12-28</td>\n      <td>...</td>\n      <td>1</td>\n      <td>293240</td>\n      <td>2</td>\n      <td>1</td>\n      <td>None</td>\n      <td>2016-01-02</td>\n      <td>0</td>\n      <td>2</td>\n      <td>1</td>\n      <td></td>\n    </tr>\n    <tr>\n      <th>4</th>\n      <td>2</td>\n      <td>A928</td>\n      <td></td>\n      <td>2016-01-01</td>\n      <td>201552</td>\n      <td>2016</td>\n      <td>32</td>\n      <td>320530</td>\n      <td>1510</td>\n      <td>2015-12-31</td>\n      <td>...</td>\n      <td>1</td>\n      <td>320530</td>\n      <td>2</td>\n      <td>1</td>\n      <td>None</td>\n      <td>2016-01-25</td>\n      <td>0</td>\n      <td>2</td>\n      <td>1</td>\n      <td></td>\n    </tr>\n    <tr>\n      <th>...</th>\n      <td>...</td>\n      <td>...</td>\n      <td>...</td>\n      <td>...</td>\n      <td>...</td>\n      <td>...</td>\n      <td>...</td>\n      <td>...</td>\n      <td>...</td>\n      <td>...</td>\n      <td>...</td>\n      <td>...</td>\n      <td>...</td>\n      <td>...</td>\n      <td>...</td>\n      <td>...</td>\n      <td>...</td>\n      <td>...</td>\n      <td>...</td>\n      <td>...</td>\n      <td>...</td>\n    </tr>\n    <tr>\n      <th>281459</th>\n      <td>2</td>\n      <td>A928</td>\n      <td></td>\n      <td>2016-12-31</td>\n      <td>201652</td>\n      <td>2016</td>\n      <td>33</td>\n      <td>330455</td>\n      <td></td>\n      <td>2016-12-29</td>\n      <td>...</td>\n      <td>1</td>\n      <td>330455</td>\n      <td>2</td>\n      <td>1</td>\n      <td>None</td>\n      <td>2017-01-10</td>\n      <td>0</td>\n      <td>2</td>\n      <td>1</td>\n      <td></td>\n    </tr>\n    <tr>\n      <th>281460</th>\n      <td>2</td>\n      <td>A928</td>\n      <td></td>\n      <td>2016-12-31</td>\n      <td>201652</td>\n      <td>2016</td>\n      <td>51</td>\n      <td>510340</td>\n      <td>1578</td>\n      <td>2016-12-26</td>\n      <td>...</td>\n      <td>1</td>\n      <td>510340</td>\n      <td>2</td>\n      <td>1</td>\n      <td>None</td>\n      <td>2017-02-10</td>\n      <td>0</td>\n      <td>2</td>\n      <td>1</td>\n      <td></td>\n    </tr>\n    <tr>\n      <th>281461</th>\n      <td>2</td>\n      <td>A928</td>\n      <td></td>\n      <td>2016-12-31</td>\n      <td>201652</td>\n      <td>2016</td>\n      <td>51</td>\n      <td>510340</td>\n      <td>1578</td>\n      <td>2016-12-30</td>\n      <td>...</td>\n      <td>1</td>\n      <td>510340</td>\n      <td>2</td>\n      <td>1</td>\n      <td>None</td>\n      <td>2017-02-10</td>\n      <td>0</td>\n      <td>2</td>\n      <td>1</td>\n      <td></td>\n    </tr>\n    <tr>\n      <th>281462</th>\n      <td>2</td>\n      <td>A928</td>\n      <td></td>\n      <td>2016-12-31</td>\n      <td>201652</td>\n      <td>2016</td>\n      <td>51</td>\n      <td>510340</td>\n      <td>1578</td>\n      <td>2016-12-27</td>\n      <td>...</td>\n      <td>1</td>\n      <td>510340</td>\n      <td>2</td>\n      <td>1</td>\n      <td>None</td>\n      <td>2017-01-30</td>\n      <td>0</td>\n      <td>2</td>\n      <td>1</td>\n      <td></td>\n    </tr>\n    <tr>\n      <th>281463</th>\n      <td>2</td>\n      <td>A928</td>\n      <td></td>\n      <td>2016-12-31</td>\n      <td>201652</td>\n      <td>2016</td>\n      <td>51</td>\n      <td>510340</td>\n      <td>1578</td>\n      <td>2016-12-30</td>\n      <td>...</td>\n      <td>0</td>\n      <td></td>\n      <td></td>\n      <td></td>\n      <td>None</td>\n      <td>None</td>\n      <td>1</td>\n      <td>2</td>\n      <td>1</td>\n      <td></td>\n    </tr>\n  </tbody>\n</table>\n<p>281464 rows × 38 columns</p>\n</div>"
     },
     "execution_count": 19,
     "metadata": {},
     "output_type": "execute_result"
    }
   ],
   "source": [
    "zdf = download('BR', 2016, 'Zika')\n",
    "zdf"
   ],
   "metadata": {
    "collapsed": false,
    "pycharm": {
     "name": "#%%\n"
    }
   }
  },
  {
   "cell_type": "markdown",
   "source": [
    "## New Table: Contact with communicable disease"
   ],
   "metadata": {
    "collapsed": false,
    "pycharm": {
     "name": "#%% md\n"
    }
   }
  },
  {
   "cell_type": "code",
   "execution_count": 6,
   "outputs": [
    {
     "data": {
      "text/plain": "      TP_NOT ID_AGRAVO  DT_NOTIFIC SEM_NOT NU_ANO SG_UF_NOT ID_MUNICIP  \\\n0          2      Z209  2015-01-01  201453   2015        31     310910   \n1          2      Z209  2015-01-01  201453   2015        50     500270   \n2          2      Z209  2015-01-01  201453   2015        31     316370   \n3          2      Z209  2015-01-01  201453   2015        31     312090   \n4          2      Z209  2015-01-01  201453   2015        27     270430   \n...      ...       ...         ...     ...    ...       ...        ...   \n55454      2      Z209  2015-12-31  201552   2015        35     352690   \n55455      2      Z209  2015-12-31  201552   2015        33     330455   \n55456      2      Z209  2015-12-31  201552   2015        12     120040   \n55457      2      Z209  2015-12-31  201552   2015        31     314790   \n55458      2      Z209  2015-12-31  201552   2015        33     330070   \n\n      ID_REGIONA ID_UNIDADE     DT_ACID  ... AZT3TC_NFV  IMU_HEP_B VAC_HEP_B  \\\n0           1459    2128020  2015-01-01  ...          2          2         2   \n1           1975    0010243  2015-01-01  ...          2          2         2   \n2           1466    2764814  2015-01-01  ...                                   \n3           1467    2148293  2015-01-01  ...                                   \n4           1533    2720035  2015-01-01  ...                                   \n...          ...        ...         ...  ...        ...        ...       ...   \n55454       1345    2081458  2015-12-31  ...                                   \n55455               7107366  2015-12-31  ...          9          9         9   \n55456       1938    7530684  2015-12-31  ...          2          2         2   \n55457       1455    2775999  2015-12-31  ...          2          2         2   \n55458               2278189  2015-12-31  ...                                   \n\n      OUTRO_ARV OUT_ARV_ES EVOLUCAO EVO_OUTR DT_OBITO CAT MUCOSA  \n0             2                   2              None   1      2  \n1             2                   2              None   9      1  \n2                                 4              None   9      2  \n3                                 2              None   1      1  \n4                                 4              None   9      2  \n...         ...        ...      ...      ...      ...  ..    ...  \n55454                             3              None   1         \n55455         9                   4              None   1      1  \n55456         2                   2              None   2      2  \n55457         2                   3              None   1      2  \n55458                                            None   9         \n\n[55459 rows x 67 columns]",
      "text/html": "<div>\n<style scoped>\n    .dataframe tbody tr th:only-of-type {\n        vertical-align: middle;\n    }\n\n    .dataframe tbody tr th {\n        vertical-align: top;\n    }\n\n    .dataframe thead th {\n        text-align: right;\n    }\n</style>\n<table border=\"1\" class=\"dataframe\">\n  <thead>\n    <tr style=\"text-align: right;\">\n      <th></th>\n      <th>TP_NOT</th>\n      <th>ID_AGRAVO</th>\n      <th>DT_NOTIFIC</th>\n      <th>SEM_NOT</th>\n      <th>NU_ANO</th>\n      <th>SG_UF_NOT</th>\n      <th>ID_MUNICIP</th>\n      <th>ID_REGIONA</th>\n      <th>ID_UNIDADE</th>\n      <th>DT_ACID</th>\n      <th>...</th>\n      <th>AZT3TC_NFV</th>\n      <th>IMU_HEP_B</th>\n      <th>VAC_HEP_B</th>\n      <th>OUTRO_ARV</th>\n      <th>OUT_ARV_ES</th>\n      <th>EVOLUCAO</th>\n      <th>EVO_OUTR</th>\n      <th>DT_OBITO</th>\n      <th>CAT</th>\n      <th>MUCOSA</th>\n    </tr>\n  </thead>\n  <tbody>\n    <tr>\n      <th>0</th>\n      <td>2</td>\n      <td>Z209</td>\n      <td>2015-01-01</td>\n      <td>201453</td>\n      <td>2015</td>\n      <td>31</td>\n      <td>310910</td>\n      <td>1459</td>\n      <td>2128020</td>\n      <td>2015-01-01</td>\n      <td>...</td>\n      <td>2</td>\n      <td>2</td>\n      <td>2</td>\n      <td>2</td>\n      <td></td>\n      <td>2</td>\n      <td></td>\n      <td>None</td>\n      <td>1</td>\n      <td>2</td>\n    </tr>\n    <tr>\n      <th>1</th>\n      <td>2</td>\n      <td>Z209</td>\n      <td>2015-01-01</td>\n      <td>201453</td>\n      <td>2015</td>\n      <td>50</td>\n      <td>500270</td>\n      <td>1975</td>\n      <td>0010243</td>\n      <td>2015-01-01</td>\n      <td>...</td>\n      <td>2</td>\n      <td>2</td>\n      <td>2</td>\n      <td>2</td>\n      <td></td>\n      <td>2</td>\n      <td></td>\n      <td>None</td>\n      <td>9</td>\n      <td>1</td>\n    </tr>\n    <tr>\n      <th>2</th>\n      <td>2</td>\n      <td>Z209</td>\n      <td>2015-01-01</td>\n      <td>201453</td>\n      <td>2015</td>\n      <td>31</td>\n      <td>316370</td>\n      <td>1466</td>\n      <td>2764814</td>\n      <td>2015-01-01</td>\n      <td>...</td>\n      <td></td>\n      <td></td>\n      <td></td>\n      <td></td>\n      <td></td>\n      <td>4</td>\n      <td></td>\n      <td>None</td>\n      <td>9</td>\n      <td>2</td>\n    </tr>\n    <tr>\n      <th>3</th>\n      <td>2</td>\n      <td>Z209</td>\n      <td>2015-01-01</td>\n      <td>201453</td>\n      <td>2015</td>\n      <td>31</td>\n      <td>312090</td>\n      <td>1467</td>\n      <td>2148293</td>\n      <td>2015-01-01</td>\n      <td>...</td>\n      <td></td>\n      <td></td>\n      <td></td>\n      <td></td>\n      <td></td>\n      <td>2</td>\n      <td></td>\n      <td>None</td>\n      <td>1</td>\n      <td>1</td>\n    </tr>\n    <tr>\n      <th>4</th>\n      <td>2</td>\n      <td>Z209</td>\n      <td>2015-01-01</td>\n      <td>201453</td>\n      <td>2015</td>\n      <td>27</td>\n      <td>270430</td>\n      <td>1533</td>\n      <td>2720035</td>\n      <td>2015-01-01</td>\n      <td>...</td>\n      <td></td>\n      <td></td>\n      <td></td>\n      <td></td>\n      <td></td>\n      <td>4</td>\n      <td></td>\n      <td>None</td>\n      <td>9</td>\n      <td>2</td>\n    </tr>\n    <tr>\n      <th>...</th>\n      <td>...</td>\n      <td>...</td>\n      <td>...</td>\n      <td>...</td>\n      <td>...</td>\n      <td>...</td>\n      <td>...</td>\n      <td>...</td>\n      <td>...</td>\n      <td>...</td>\n      <td>...</td>\n      <td>...</td>\n      <td>...</td>\n      <td>...</td>\n      <td>...</td>\n      <td>...</td>\n      <td>...</td>\n      <td>...</td>\n      <td>...</td>\n      <td>...</td>\n      <td>...</td>\n    </tr>\n    <tr>\n      <th>55454</th>\n      <td>2</td>\n      <td>Z209</td>\n      <td>2015-12-31</td>\n      <td>201552</td>\n      <td>2015</td>\n      <td>35</td>\n      <td>352690</td>\n      <td>1345</td>\n      <td>2081458</td>\n      <td>2015-12-31</td>\n      <td>...</td>\n      <td></td>\n      <td></td>\n      <td></td>\n      <td></td>\n      <td></td>\n      <td>3</td>\n      <td></td>\n      <td>None</td>\n      <td>1</td>\n      <td></td>\n    </tr>\n    <tr>\n      <th>55455</th>\n      <td>2</td>\n      <td>Z209</td>\n      <td>2015-12-31</td>\n      <td>201552</td>\n      <td>2015</td>\n      <td>33</td>\n      <td>330455</td>\n      <td></td>\n      <td>7107366</td>\n      <td>2015-12-31</td>\n      <td>...</td>\n      <td>9</td>\n      <td>9</td>\n      <td>9</td>\n      <td>9</td>\n      <td></td>\n      <td>4</td>\n      <td></td>\n      <td>None</td>\n      <td>1</td>\n      <td>1</td>\n    </tr>\n    <tr>\n      <th>55456</th>\n      <td>2</td>\n      <td>Z209</td>\n      <td>2015-12-31</td>\n      <td>201552</td>\n      <td>2015</td>\n      <td>12</td>\n      <td>120040</td>\n      <td>1938</td>\n      <td>7530684</td>\n      <td>2015-12-31</td>\n      <td>...</td>\n      <td>2</td>\n      <td>2</td>\n      <td>2</td>\n      <td>2</td>\n      <td></td>\n      <td>2</td>\n      <td></td>\n      <td>None</td>\n      <td>2</td>\n      <td>2</td>\n    </tr>\n    <tr>\n      <th>55457</th>\n      <td>2</td>\n      <td>Z209</td>\n      <td>2015-12-31</td>\n      <td>201552</td>\n      <td>2015</td>\n      <td>31</td>\n      <td>314790</td>\n      <td>1455</td>\n      <td>2775999</td>\n      <td>2015-12-31</td>\n      <td>...</td>\n      <td>2</td>\n      <td>2</td>\n      <td>2</td>\n      <td>2</td>\n      <td></td>\n      <td>3</td>\n      <td></td>\n      <td>None</td>\n      <td>1</td>\n      <td>2</td>\n    </tr>\n    <tr>\n      <th>55458</th>\n      <td>2</td>\n      <td>Z209</td>\n      <td>2015-12-31</td>\n      <td>201552</td>\n      <td>2015</td>\n      <td>33</td>\n      <td>330070</td>\n      <td></td>\n      <td>2278189</td>\n      <td>2015-12-31</td>\n      <td>...</td>\n      <td></td>\n      <td></td>\n      <td></td>\n      <td></td>\n      <td></td>\n      <td></td>\n      <td></td>\n      <td>None</td>\n      <td>9</td>\n      <td></td>\n    </tr>\n  </tbody>\n</table>\n<p>55459 rows × 67 columns</p>\n</div>"
     },
     "execution_count": 6,
     "metadata": {},
     "output_type": "execute_result"
    }
   ],
   "source": [
    "df = _fetch_file(fname='ACBIBR15.dbc',path='/dissemin/publicos/SINAN/DADOS/FINAIS', ftype='DBC')\n",
    "df\n"
   ],
   "metadata": {
    "collapsed": false,
    "pycharm": {
     "name": "#%%\n"
    }
   }
  },
  {
   "cell_type": "code",
   "execution_count": 7,
   "outputs": [
    {
     "data": {
      "text/plain": "Index(['TP_NOT', 'ID_AGRAVO', 'DT_NOTIFIC', 'SEM_NOT', 'NU_ANO', 'SG_UF_NOT',\n       'ID_MUNICIP', 'ID_REGIONA', 'ID_UNIDADE', 'DT_ACID', 'SEM_ACID',\n       'NU_IDADE_N', 'CS_SEXO', 'CS_GESTANT', 'CS_RACA', 'CS_ESCOL_N', 'SG_UF',\n       'ID_MN_RESI', 'ID_RG_RESI', 'ID_PAIS', 'ID_OCUPA_N', 'SIT_TRAB',\n       'NUTEMPO', 'TPTEMPO', 'CNAE', 'UF_EMP', 'MUN_EMP', 'TERCEIRIZA',\n       'PERCUTANEA', 'PELE_INTEG', 'PELE_NAO_I', 'OUTRO_EXP', 'OUT_EXP_DE',\n       'MAT_ORG', 'MAT_ORG_DE', 'TIPO_ACID', 'AGENTE', 'LUVA', 'AVENTAL',\n       'OCULOS', 'MASCARA', 'FACIAL', 'BOTA', 'VACINA', 'ANTI_HIV', 'HBSAG',\n       'ANTI_HBS', 'ANTI_HCV', 'FONTE', 'FO_HBSAG', 'FO_ANT_HIV', 'FO_ANT_HBC',\n       'FO_ANT_HCV', 'SEM_QUIMIO', 'RECUSA_QUI', 'AZT3TC', 'AZT3TC_IND',\n       'AZT3TC_NFV', 'IMU_HEP_B', 'VAC_HEP_B', 'OUTRO_ARV', 'OUT_ARV_ES',\n       'EVOLUCAO', 'EVO_OUTR', 'DT_OBITO', 'CAT', 'MUCOSA'],\n      dtype='object')"
     },
     "execution_count": 7,
     "metadata": {},
     "output_type": "execute_result"
    }
   ],
   "source": [
    "df.columns"
   ],
   "metadata": {
    "collapsed": false,
    "pycharm": {
     "name": "#%%\n"
    }
   }
  },
  {
   "cell_type": "code",
   "execution_count": 4,
   "outputs": [
    {
     "data": {
      "text/plain": "13603    Z20.9 Contato exposicao a doenc transmissivel NE\nName: DESCR, dtype: object"
     },
     "execution_count": 4,
     "metadata": {},
     "output_type": "execute_result"
    }
   ],
   "source": [
    "cid = get_CID10_table()\n",
    "cid[cid.CID10=='Z209'].DESCR\n"
   ],
   "metadata": {
    "collapsed": false,
    "pycharm": {
     "name": "#%%\n"
    }
   }
  },
  {
   "cell_type": "markdown",
   "source": [
    "## New table: Work accidents"
   ],
   "metadata": {
    "collapsed": false,
    "pycharm": {
     "name": "#%% md\n"
    }
   }
  },
  {
   "cell_type": "code",
   "execution_count": 8,
   "outputs": [
    {
     "data": {
      "text/plain": "      TP_NOT ID_AGRAVO  DT_NOTIFIC SEM_NOT NU_ANO SG_UF_NOT ID_MUNICIP  \\\n0          2       Y96  2016-01-01  201552   2016        41     410690   \n1          2       Y96  2016-01-01  201552   2016        35     355030   \n2          2       Y96  2016-01-01  201552   2016        50     500370   \n3          2       Y96  2016-01-01  201552   2016        43     431830   \n4          2       Y96  2016-01-01  201552   2016        35     355220   \n...      ...       ...         ...     ...    ...       ...        ...   \n85237      2       Y96  2016-12-31  201652   2016        35     355030   \n85238      2       Y96  2016-12-31  201652   2016        35     355030   \n85239      2       Y96  2016-12-31  201652   2016        42     420140   \n85240      2       Y96  2016-12-31  201652   2016        51     510650   \n85241      2       Y96  2016-12-31  201652   2016        35     355030   \n\n      ID_REGIONA ID_UNIDADE     DT_ACID  ... MUN_ATENDE  UNI_ATENDE  \\\n0           1356    6330754  2015-12-31  ...     410690     0015369   \n1           1331    2078015  2016-01-01  ...     355030     2078015   \n2           1966    2710978  2016-01-01  ...     500370     2710978   \n3           1599    2248204  2016-01-01  ...     431830     2248204   \n4           1353    3331962  2015-10-13  ...     355220               \n...          ...        ...         ...  ...        ...         ...   \n85237       1331    2082829  2016-01-30  ...     355030     2082829   \n85238       1331    3474674  2016-12-26  ...     355030     3474674   \n85239       1562    2691515  2016-12-31  ...     420140     2691515   \n85240       1578    2795752  2016-12-31  ...     510650     2795752   \n85241       1331    3474674  2016-12-31  ...     355030     3474674   \n\n      PART_CORP1 PART_CORP2 PART_CORP3 CID_LESAO REGIME EVOLUCAO    DT_OBITO  \\\n0             02                            S061      1        5  2016-01-01   \n1             10                             S50      2        2        None   \n2             06                            S619      2        7        None   \n3             01         02                  Y96      1        5  2016-01-13   \n4             09                            S923      2        9        None   \n...          ...        ...        ...       ...    ...      ...         ...   \n85237         09                            S934      2        9        None   \n85238         09                            S934      2        1        None   \n85239         05         11                 S317      1        2        None   \n85240         06                             S61      2        1        None   \n85241         07                            S400      2        1        None   \n\n      CAT  \n0       3  \n1       9  \n2       2  \n3       2  \n4       1  \n...    ..  \n85237   9  \n85238   9  \n85239   2  \n85240   1  \n85241   2  \n\n[85242 rows x 53 columns]",
      "text/html": "<div>\n<style scoped>\n    .dataframe tbody tr th:only-of-type {\n        vertical-align: middle;\n    }\n\n    .dataframe tbody tr th {\n        vertical-align: top;\n    }\n\n    .dataframe thead th {\n        text-align: right;\n    }\n</style>\n<table border=\"1\" class=\"dataframe\">\n  <thead>\n    <tr style=\"text-align: right;\">\n      <th></th>\n      <th>TP_NOT</th>\n      <th>ID_AGRAVO</th>\n      <th>DT_NOTIFIC</th>\n      <th>SEM_NOT</th>\n      <th>NU_ANO</th>\n      <th>SG_UF_NOT</th>\n      <th>ID_MUNICIP</th>\n      <th>ID_REGIONA</th>\n      <th>ID_UNIDADE</th>\n      <th>DT_ACID</th>\n      <th>...</th>\n      <th>MUN_ATENDE</th>\n      <th>UNI_ATENDE</th>\n      <th>PART_CORP1</th>\n      <th>PART_CORP2</th>\n      <th>PART_CORP3</th>\n      <th>CID_LESAO</th>\n      <th>REGIME</th>\n      <th>EVOLUCAO</th>\n      <th>DT_OBITO</th>\n      <th>CAT</th>\n    </tr>\n  </thead>\n  <tbody>\n    <tr>\n      <th>0</th>\n      <td>2</td>\n      <td>Y96</td>\n      <td>2016-01-01</td>\n      <td>201552</td>\n      <td>2016</td>\n      <td>41</td>\n      <td>410690</td>\n      <td>1356</td>\n      <td>6330754</td>\n      <td>2015-12-31</td>\n      <td>...</td>\n      <td>410690</td>\n      <td>0015369</td>\n      <td>02</td>\n      <td></td>\n      <td></td>\n      <td>S061</td>\n      <td>1</td>\n      <td>5</td>\n      <td>2016-01-01</td>\n      <td>3</td>\n    </tr>\n    <tr>\n      <th>1</th>\n      <td>2</td>\n      <td>Y96</td>\n      <td>2016-01-01</td>\n      <td>201552</td>\n      <td>2016</td>\n      <td>35</td>\n      <td>355030</td>\n      <td>1331</td>\n      <td>2078015</td>\n      <td>2016-01-01</td>\n      <td>...</td>\n      <td>355030</td>\n      <td>2078015</td>\n      <td>10</td>\n      <td></td>\n      <td></td>\n      <td>S50</td>\n      <td>2</td>\n      <td>2</td>\n      <td>None</td>\n      <td>9</td>\n    </tr>\n    <tr>\n      <th>2</th>\n      <td>2</td>\n      <td>Y96</td>\n      <td>2016-01-01</td>\n      <td>201552</td>\n      <td>2016</td>\n      <td>50</td>\n      <td>500370</td>\n      <td>1966</td>\n      <td>2710978</td>\n      <td>2016-01-01</td>\n      <td>...</td>\n      <td>500370</td>\n      <td>2710978</td>\n      <td>06</td>\n      <td></td>\n      <td></td>\n      <td>S619</td>\n      <td>2</td>\n      <td>7</td>\n      <td>None</td>\n      <td>2</td>\n    </tr>\n    <tr>\n      <th>3</th>\n      <td>2</td>\n      <td>Y96</td>\n      <td>2016-01-01</td>\n      <td>201552</td>\n      <td>2016</td>\n      <td>43</td>\n      <td>431830</td>\n      <td>1599</td>\n      <td>2248204</td>\n      <td>2016-01-01</td>\n      <td>...</td>\n      <td>431830</td>\n      <td>2248204</td>\n      <td>01</td>\n      <td>02</td>\n      <td></td>\n      <td>Y96</td>\n      <td>1</td>\n      <td>5</td>\n      <td>2016-01-13</td>\n      <td>2</td>\n    </tr>\n    <tr>\n      <th>4</th>\n      <td>2</td>\n      <td>Y96</td>\n      <td>2016-01-01</td>\n      <td>201552</td>\n      <td>2016</td>\n      <td>35</td>\n      <td>355220</td>\n      <td>1353</td>\n      <td>3331962</td>\n      <td>2015-10-13</td>\n      <td>...</td>\n      <td>355220</td>\n      <td></td>\n      <td>09</td>\n      <td></td>\n      <td></td>\n      <td>S923</td>\n      <td>2</td>\n      <td>9</td>\n      <td>None</td>\n      <td>1</td>\n    </tr>\n    <tr>\n      <th>...</th>\n      <td>...</td>\n      <td>...</td>\n      <td>...</td>\n      <td>...</td>\n      <td>...</td>\n      <td>...</td>\n      <td>...</td>\n      <td>...</td>\n      <td>...</td>\n      <td>...</td>\n      <td>...</td>\n      <td>...</td>\n      <td>...</td>\n      <td>...</td>\n      <td>...</td>\n      <td>...</td>\n      <td>...</td>\n      <td>...</td>\n      <td>...</td>\n      <td>...</td>\n      <td>...</td>\n    </tr>\n    <tr>\n      <th>85237</th>\n      <td>2</td>\n      <td>Y96</td>\n      <td>2016-12-31</td>\n      <td>201652</td>\n      <td>2016</td>\n      <td>35</td>\n      <td>355030</td>\n      <td>1331</td>\n      <td>2082829</td>\n      <td>2016-01-30</td>\n      <td>...</td>\n      <td>355030</td>\n      <td>2082829</td>\n      <td>09</td>\n      <td></td>\n      <td></td>\n      <td>S934</td>\n      <td>2</td>\n      <td>9</td>\n      <td>None</td>\n      <td>9</td>\n    </tr>\n    <tr>\n      <th>85238</th>\n      <td>2</td>\n      <td>Y96</td>\n      <td>2016-12-31</td>\n      <td>201652</td>\n      <td>2016</td>\n      <td>35</td>\n      <td>355030</td>\n      <td>1331</td>\n      <td>3474674</td>\n      <td>2016-12-26</td>\n      <td>...</td>\n      <td>355030</td>\n      <td>3474674</td>\n      <td>09</td>\n      <td></td>\n      <td></td>\n      <td>S934</td>\n      <td>2</td>\n      <td>1</td>\n      <td>None</td>\n      <td>9</td>\n    </tr>\n    <tr>\n      <th>85239</th>\n      <td>2</td>\n      <td>Y96</td>\n      <td>2016-12-31</td>\n      <td>201652</td>\n      <td>2016</td>\n      <td>42</td>\n      <td>420140</td>\n      <td>1562</td>\n      <td>2691515</td>\n      <td>2016-12-31</td>\n      <td>...</td>\n      <td>420140</td>\n      <td>2691515</td>\n      <td>05</td>\n      <td>11</td>\n      <td></td>\n      <td>S317</td>\n      <td>1</td>\n      <td>2</td>\n      <td>None</td>\n      <td>2</td>\n    </tr>\n    <tr>\n      <th>85240</th>\n      <td>2</td>\n      <td>Y96</td>\n      <td>2016-12-31</td>\n      <td>201652</td>\n      <td>2016</td>\n      <td>51</td>\n      <td>510650</td>\n      <td>1578</td>\n      <td>2795752</td>\n      <td>2016-12-31</td>\n      <td>...</td>\n      <td>510650</td>\n      <td>2795752</td>\n      <td>06</td>\n      <td></td>\n      <td></td>\n      <td>S61</td>\n      <td>2</td>\n      <td>1</td>\n      <td>None</td>\n      <td>1</td>\n    </tr>\n    <tr>\n      <th>85241</th>\n      <td>2</td>\n      <td>Y96</td>\n      <td>2016-12-31</td>\n      <td>201652</td>\n      <td>2016</td>\n      <td>35</td>\n      <td>355030</td>\n      <td>1331</td>\n      <td>3474674</td>\n      <td>2016-12-31</td>\n      <td>...</td>\n      <td>355030</td>\n      <td>3474674</td>\n      <td>07</td>\n      <td></td>\n      <td></td>\n      <td>S400</td>\n      <td>2</td>\n      <td>1</td>\n      <td>None</td>\n      <td>2</td>\n    </tr>\n  </tbody>\n</table>\n<p>85242 rows × 53 columns</p>\n</div>"
     },
     "execution_count": 8,
     "metadata": {},
     "output_type": "execute_result"
    }
   ],
   "source": [
    "df = _fetch_file(fname='ACGRBR16.dbc',path='/dissemin/publicos/SINAN/DADOS/FINAIS', ftype='DBC')\n",
    "df"
   ],
   "metadata": {
    "collapsed": false,
    "pycharm": {
     "name": "#%%\n"
    }
   }
  },
  {
   "cell_type": "code",
   "execution_count": 9,
   "outputs": [
    {
     "data": {
      "text/plain": "13486    Y96   Circunst relat condicoes de trabalho\nName: DESCR, dtype: object"
     },
     "execution_count": 9,
     "metadata": {},
     "output_type": "execute_result"
    }
   ],
   "source": [
    "cid[cid.CID10=='Y96'].DESCR\n"
   ],
   "metadata": {
    "collapsed": false,
    "pycharm": {
     "name": "#%%\n"
    }
   }
  },
  {
   "cell_type": "code",
   "execution_count": null,
   "outputs": [],
   "source": [],
   "metadata": {
    "collapsed": false,
    "pycharm": {
     "name": "#%%\n"
    }
   }
  }
 ],
 "metadata": {
  "kernelspec": {
   "display_name": "Python 3",
   "language": "python",
   "name": "python3"
  },
  "language_info": {
   "codemirror_mode": {
    "name": "ipython",
    "version": 2
   },
   "file_extension": ".py",
   "mimetype": "text/x-python",
   "name": "python",
   "nbconvert_exporter": "python",
   "pygments_lexer": "ipython2",
   "version": "2.7.6"
  }
 },
 "nbformat": 4,
 "nbformat_minor": 0
}