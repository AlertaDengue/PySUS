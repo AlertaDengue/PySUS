{
 "cells": [
  {
   "cell_type": "code",
   "execution_count": 1,
   "metadata": {},
   "outputs": [
    {
     "name": "stderr",
     "output_type": "stream",
     "text": [
      "/usr/local/lib/python3.9/dist-packages/geopandas/_compat.py:111: UserWarning: The Shapely GEOS version (3.8.0-CAPI-1.13.1 ) is incompatible with the GEOS version PyGEOS was compiled with (3.10.0-CAPI-1.16.0). Conversions between both will be slow.\n",
      "  warnings.warn(\n"
     ]
    }
   ],
   "source": [
    "from ftplib import FTP\n",
    "import os\n",
    "import pandas as pd\n",
    "from pysus.online_data.SIA import download, show_datatypes\n",
    "from pysus.utilities.readdbc import read_dbc_dbf"
   ]
  },
  {
   "cell_type": "code",
   "execution_count": 2,
   "metadata": {},
   "outputs": [],
   "source": [
    "%matplotlib inline"
   ]
  },
  {
   "cell_type": "markdown",
   "source": [
    "## Dataset types\n",
    "The SIA Information system contains multiple types of datasets we can download with PySUS. These are:\n"
   ],
   "metadata": {
    "collapsed": false,
    "pycharm": {
     "name": "#%% md\n"
    }
   }
  },
  {
   "cell_type": "code",
   "execution_count": 3,
   "outputs": [
    {
     "name": "stdout",
     "output_type": "stream",
     "text": [
      "{'AB': ('APAC de Cirurgia Bariátrica', 1, 2008),\n",
      " 'ACF': ('APAC de Confecção de Fístula', 1, 2008),\n",
      " 'AD': ('APAC de Laudos Diversos', 1, 2008),\n",
      " 'AM': ('APAC de Medicamentos', 1, 2008),\n",
      " 'AMP': ('APAC de Acompanhamento Multiprofissional', 1, 2008),\n",
      " 'AN': ('APAC de Nefrologia', 1, 2008),\n",
      " 'AQ': ('APAC de Quimioterapia', 1, 2008),\n",
      " 'AR': ('APAC de Radioterapia', 1, 2008),\n",
      " 'ATD': ('APAC de Tratamento Dialítico', 1, 2008),\n",
      " 'BI': ('Boletim de Produção Ambulatorial individualizado', 1, 2008),\n",
      " 'PA': ('Produção Ambulatorial', 7, 1994),\n",
      " 'PS': ('RAAS Psicossocial', 1, 2008),\n",
      " 'SAD': ('RAAS de Atenção Domiciliar', 1, 2008)}\n"
     ]
    }
   ],
   "source": [
    "show_datatypes()"
   ],
   "metadata": {
    "collapsed": false,
    "pycharm": {
     "name": "#%%\n"
    }
   }
  },
  {
   "cell_type": "code",
   "execution_count": null,
   "metadata": {
    "pycharm": {
     "is_executing": true
    }
   },
   "outputs": [
    {
     "name": "stdout",
     "output_type": "stream",
     "text": [
      "Downloading PASP2012a.dbc...\n",
      "Downloading PASP2012b.dbc...\n"
     ]
    },
    {
     "name": "stderr",
     "output_type": "stream",
     "text": [
      "Success\n"
     ]
    }
   ],
   "source": [
    "dfSP = download('SP', 2020, 12, group=['PA'])"
   ]
  },
  {
   "cell_type": "code",
   "execution_count": 5,
   "metadata": {},
   "outputs": [
    {
     "ename": "NameError",
     "evalue": "name 'dfSP' is not defined",
     "output_type": "error",
     "traceback": [
      "\u001B[0;31m---------------------------------------------------------------------------\u001B[0m",
      "\u001B[0;31mNameError\u001B[0m                                 Traceback (most recent call last)",
      "Input \u001B[0;32mIn [5]\u001B[0m, in \u001B[0;36m<module>\u001B[0;34m\u001B[0m\n\u001B[0;32m----> 1\u001B[0m \u001B[43mdfSP\u001B[49m\u001B[38;5;241m.\u001B[39mhead()\n",
      "\u001B[0;31mNameError\u001B[0m: name 'dfSP' is not defined"
     ]
    }
   ],
   "source": [
    "dfSP.head()"
   ]
  },
  {
   "cell_type": "markdown",
   "source": [
    "When a download is split in multiple files as in the case above, PySUS downloads the dbfs directly to the cache path, Without loading the dataframe to memory."
   ],
   "metadata": {
    "collapsed": false,
    "pycharm": {
     "name": "#%% md\n"
    }
   }
  },
  {
   "cell_type": "code",
   "execution_count": null,
   "metadata": {},
   "outputs": [],
   "source": [
    "from pysus.online_data import CACHEPATH\n",
    "import os\n",
    "\n",
    "dfSPa = read_dbc_dbf(os.path.join(CACHEPATH, 'PASP2012a.dbc'))\n",
    "dfSPa"
   ]
  },
  {
   "cell_type": "code",
   "execution_count": 11,
   "metadata": {},
   "outputs": [],
   "source": [
    "dfSPa.to_csv('SIA_SP_12_2020a.csv.gz', compression='gzip')"
   ]
  },
  {
   "cell_type": "code",
   "execution_count": null,
   "metadata": {},
   "outputs": [],
   "source": []
  },
  {
   "cell_type": "code",
   "execution_count": null,
   "metadata": {},
   "outputs": [],
   "source": []
  }
 ],
 "metadata": {
  "kernelspec": {
   "display_name": "Python 3",
   "language": "python",
   "name": "python3"
  },
  "language_info": {
   "codemirror_mode": {
    "name": "ipython",
    "version": 3
   },
   "file_extension": ".py",
   "mimetype": "text/x-python",
   "name": "python",
   "nbconvert_exporter": "python",
   "pygments_lexer": "ipython3",
   "version": "3.6.6"
  }
 },
 "nbformat": 4,
 "nbformat_minor": 2
}